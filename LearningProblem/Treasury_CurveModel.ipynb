{
 "cells": [
  {
   "cell_type": "markdown",
   "metadata": {},
   "source": [
    "# Relative Value Modeling of the Yield Curve"
   ]
  },
  {
   "cell_type": "markdown",
   "metadata": {},
   "source": [
    "## Introduction\n",
    "In this notebook we build a **Relative Value Model** of the US Treasury yield curve.\n",
    "\n",
    "In a relative value model we are interested in determining if particular tenors (maturities) on the curve seem out of place relative to other data points. We will focus on prediction of the 30 Yield treasury yield assuming that the other points on the yield curve are known.\n",
    "\n",
    "We will show that the prediction of the *level* of the 30 year rate is challenging because observations are not statistically independent. \n",
    "\n",
    "However, we can predict the  day to day change of the 30  year yield based on the changes of other points of the curve with high accuracy (94% out of sample $R^2$)."
   ]
  },
  {
   "cell_type": "markdown",
   "metadata": {},
   "source": [
    "### Road Map\n",
    "\n",
    "In this notebook we will \n",
    "1. Define the G2++ Two Factor Gaussian interest rate model\n",
    "2. We will use G2++ model to fit the US treasury yield Curve at one fixed date.\n",
    "3. Train model hyper-parameters to predit the yield of the 30 year treasury yield, and analyze the results.\n",
    "4. Train model to predict 30Y us treasury yield changes and analyze results.\n",
    "\n",
    "We will see that due to the high correlation between rate curves at different dates, results on yield levels are not good. Yield changes, however can still be predicted with good out of sample performance."
   ]
  },
  {
   "cell_type": "markdown",
   "metadata": {},
   "source": [
    "### US Treasury Yield Curve\n",
    "\n",
    "The yield of a bond is a measure of the compounded rate of return earned by investing in that bond until maturity.\n",
    "\n",
    "A  bond price is inversely correlated with its yield, so that investors like to buy bonds with high yields (low prices), but would prefer yields to come down once invested.\n",
    "\n",
    "Bonds with longer maturities usually have higher yields to compensate investors for tying their investment funds for a longer period of type.\n",
    "\n",
    "A plot of bond yield versus bond maturity is called a  ** yield curve** and it is a representation of the trade-off between the liquidity (how many years money is invested) and rate of return.\n",
    "\n",
    "The US Treasury department is responsible for financing the expending needs of the US government. It has borrowed\n",
    "$ 14 trillion dollars in the  financial markets by issuing bonds of multiple maturities.\n",
    "\n",
    "Given the size and liquidity of the market for us government debt the analysis  of the ** us treasury yield curve** is of great interest for economist studying the us economy or financial participants looking to invest large sums of money.\n"
   ]
  },
  {
   "cell_type": "markdown",
   "metadata": {},
   "source": [
    "A realistic yield curve model will be dealing with hundreds of different points (treasury bonds) on the curve\n",
    "<img src=\"images/treasury_curve.gif\">\n",
    "Figure provided by the [Federal Reserve](https://www.federalreserve.gov/pubs/feds/2006/200628/index.html), where they fit the yield curve to a 6 parameter model.\n",
    "\n",
    "We will, however, deal only with a simplified view based on the H15 constant maturity treasury points\n",
    "<img src=\"images/H15_curve.jpg\"> \n",
    "\n",
    "We will fit those points to a specific functional form called the `G2++` rate curve model."
   ]
  },
  {
   "cell_type": "markdown",
   "metadata": {},
   "source": [
    "### Preliminaries"
   ]
  },
  {
   "cell_type": "markdown",
   "metadata": {},
   "source": [
    "#### Imports"
   ]
  },
  {
   "cell_type": "code",
   "execution_count": 1,
   "metadata": {
    "ExecuteTime": {
     "end_time": "2018-10-01T17:56:58.006135Z",
     "start_time": "2018-10-01T17:56:50.146135Z"
    }
   },
   "outputs": [
    {
     "name": "stderr",
     "output_type": "stream",
     "text": [
      "/home/manel/anaconda3/lib/python3.6/site-packages/statsmodels/compat/pandas.py:56: FutureWarning: The pandas.core.datetools module is deprecated and will be removed in a future version. Please use the pandas.tseries module instead.\n",
      "  from pandas.core import datetools\n"
     ]
    }
   ],
   "source": [
    "from datetime import date\n",
    "\n",
    "import numpy as np\n",
    "import pandas as pd\n",
    "import scipy.optimize\n",
    "\n",
    "import statsmodels.graphics.tsaplots\n",
    "\n",
    "import matplotlib.pyplot as plt\n",
    "%matplotlib inline"
   ]
  },
  {
   "cell_type": "markdown",
   "metadata": {},
   "source": [
    "#### Data"
   ]
  },
  {
   "cell_type": "code",
   "execution_count": 2,
   "metadata": {
    "ExecuteTime": {
     "end_time": "2018-10-01T17:56:58.010135Z",
     "start_time": "2018-10-01T17:56:58.008135Z"
    }
   },
   "outputs": [],
   "source": [
    "data_dir=\"../../data/finance\""
   ]
  },
  {
   "cell_type": "code",
   "execution_count": 3,
   "metadata": {
    "ExecuteTime": {
     "end_time": "2018-10-01T17:56:58.219135Z",
     "start_time": "2018-10-01T17:56:58.012135Z"
    }
   },
   "outputs": [
    {
     "data": {
      "text/html": [
       "<div>\n",
       "<style scoped>\n",
       "    .dataframe tbody tr th:only-of-type {\n",
       "        vertical-align: middle;\n",
       "    }\n",
       "\n",
       "    .dataframe tbody tr th {\n",
       "        vertical-align: top;\n",
       "    }\n",
       "\n",
       "    .dataframe thead th {\n",
       "        text-align: right;\n",
       "    }\n",
       "</style>\n",
       "<table border=\"1\" class=\"dataframe\">\n",
       "  <thead>\n",
       "    <tr style=\"text-align: right;\">\n",
       "      <th></th>\n",
       "      <th>3M</th>\n",
       "      <th>6M</th>\n",
       "      <th>1Y</th>\n",
       "      <th>2Y</th>\n",
       "      <th>3Y</th>\n",
       "      <th>5Y</th>\n",
       "      <th>7Y</th>\n",
       "      <th>10Y</th>\n",
       "      <th>20Y</th>\n",
       "      <th>30Y</th>\n",
       "    </tr>\n",
       "    <tr>\n",
       "      <th>DATE</th>\n",
       "      <th></th>\n",
       "      <th></th>\n",
       "      <th></th>\n",
       "      <th></th>\n",
       "      <th></th>\n",
       "      <th></th>\n",
       "      <th></th>\n",
       "      <th></th>\n",
       "      <th></th>\n",
       "      <th></th>\n",
       "    </tr>\n",
       "  </thead>\n",
       "  <tbody>\n",
       "    <tr>\n",
       "      <th>2006-02-09</th>\n",
       "      <td>4.52</td>\n",
       "      <td>4.67</td>\n",
       "      <td>4.66</td>\n",
       "      <td>4.66</td>\n",
       "      <td>4.62</td>\n",
       "      <td>4.55</td>\n",
       "      <td>4.55</td>\n",
       "      <td>4.54</td>\n",
       "      <td>4.72</td>\n",
       "      <td>4.51</td>\n",
       "    </tr>\n",
       "    <tr>\n",
       "      <th>2006-02-10</th>\n",
       "      <td>4.53</td>\n",
       "      <td>4.70</td>\n",
       "      <td>4.70</td>\n",
       "      <td>4.69</td>\n",
       "      <td>4.67</td>\n",
       "      <td>4.59</td>\n",
       "      <td>4.59</td>\n",
       "      <td>4.59</td>\n",
       "      <td>4.76</td>\n",
       "      <td>4.55</td>\n",
       "    </tr>\n",
       "    <tr>\n",
       "      <th>2006-02-13</th>\n",
       "      <td>4.55</td>\n",
       "      <td>4.71</td>\n",
       "      <td>4.70</td>\n",
       "      <td>4.68</td>\n",
       "      <td>4.66</td>\n",
       "      <td>4.58</td>\n",
       "      <td>4.58</td>\n",
       "      <td>4.58</td>\n",
       "      <td>4.76</td>\n",
       "      <td>4.56</td>\n",
       "    </tr>\n",
       "    <tr>\n",
       "      <th>2006-02-14</th>\n",
       "      <td>4.55</td>\n",
       "      <td>4.72</td>\n",
       "      <td>4.71</td>\n",
       "      <td>4.69</td>\n",
       "      <td>4.68</td>\n",
       "      <td>4.61</td>\n",
       "      <td>4.61</td>\n",
       "      <td>4.62</td>\n",
       "      <td>4.80</td>\n",
       "      <td>4.60</td>\n",
       "    </tr>\n",
       "    <tr>\n",
       "      <th>2006-02-15</th>\n",
       "      <td>4.55</td>\n",
       "      <td>4.70</td>\n",
       "      <td>4.70</td>\n",
       "      <td>4.71</td>\n",
       "      <td>4.68</td>\n",
       "      <td>4.60</td>\n",
       "      <td>4.60</td>\n",
       "      <td>4.61</td>\n",
       "      <td>4.78</td>\n",
       "      <td>4.58</td>\n",
       "    </tr>\n",
       "  </tbody>\n",
       "</table>\n",
       "</div>"
      ],
      "text/plain": [
       "              3M    6M    1Y    2Y    3Y    5Y    7Y   10Y   20Y   30Y\n",
       "DATE                                                                  \n",
       "2006-02-09  4.52  4.67  4.66  4.66  4.62  4.55  4.55  4.54  4.72  4.51\n",
       "2006-02-10  4.53  4.70  4.70  4.69  4.67  4.59  4.59  4.59  4.76  4.55\n",
       "2006-02-13  4.55  4.71  4.70  4.68  4.66  4.58  4.58  4.58  4.76  4.56\n",
       "2006-02-14  4.55  4.72  4.71  4.69  4.68  4.61  4.61  4.62  4.80  4.60\n",
       "2006-02-15  4.55  4.70  4.70  4.71  4.68  4.60  4.60  4.61  4.78  4.58"
      ]
     },
     "execution_count": 3,
     "metadata": {},
     "output_type": "execute_result"
    }
   ],
   "source": [
    "H15=pd.read_csv(data_dir+\"/H15.csv\",index_col=[0],parse_dates=[0])\n",
    "H15.head()"
   ]
  },
  {
   "cell_type": "code",
   "execution_count": 4,
   "metadata": {
    "ExecuteTime": {
     "end_time": "2018-10-01T17:56:58.223135Z",
     "start_time": "2018-10-01T17:56:58.220135Z"
    }
   },
   "outputs": [],
   "source": [
    "tenors=np.array([3.0/12,6.0/12,1,2,3,5,7,10,20,30])"
   ]
  },
  {
   "cell_type": "markdown",
   "metadata": {},
   "source": [
    "## The G2++ Gaussian, 2 Factor Model"
   ]
  },
  {
   "cell_type": "markdown",
   "metadata": {},
   "source": [
    "\n",
    "    \n",
    "The G2++ Model is a close derivative of the Two Factor Hull White Model\n",
    "(See for example [Martin Bohner notes](https://web.mst.edu/~bohner/fim-10/fim-chap6.pdf)), but the G2++ formulation is analytically more convenient. \n",
    "\n",
    "It is commonly used to price path dependent interest rate derivatives because it provides a realistic, yet simple, description of the dynamic of the yield curve.\n",
    "\n",
    "\n",
    "For a more thorough discussion of Interest rate models, see [Martin Bohner's complete course](https://web.mst.edu/~bohner/fim-10/)\n"
   ]
  },
  {
   "cell_type": "markdown",
   "metadata": {},
   "source": [
    "\n",
    "The derivation for the bond prices for the G2++ model can be found in [Martin Bohner notes](https://web.mst.edu/~bohner/fim-10/fim-chap6.pdf), or on the following \n",
    "[paper](https://www.math.kth.se/matstat/seminarier/reports/M-exjobb12/120220b.pdf).\n",
    "\n",
    "\n",
    "The Gaussian G2++ model is defined by a short rate given by\n",
    "$$\n",
    "    r(t) = r_1(t) + r_2(t) + \\varphi(t),\n",
    "$$\n",
    "where\n",
    "\\begin{align}\n",
    "    \\textrm{d}r_1(t) &= - \\lambda_1 r_1 \\textrm{d} t + \\sigma_1 \\textrm{d}W_1,\\,\\,\\,\\,x_1(0)=0\\\\\n",
    "    \\textrm{d}r_2(t) &= - \\lambda_2 r_2 \\textrm{d} t + \\sigma_2 \\textrm{d}W_2,\\,\\,\\,\\,x_2(0)=0\\\\\n",
    "    \\mathbb{E}(\\textrm{d}W_1 \\textrm{d}W_2) &= \\rho \\textrm{d} t \\text{ with } -1\\le \\rho \\le 1\n",
    "\\end{align}\n",
    "with $k_1,k_2,\\sigma_1,\\sigma_2 > 0$ and $W_1$, $W_2$ standard Brownian motions.\n",
    "\n",
    "It can be shown (see Theorem 6.4) on [Martin Bohner notes](https://web.mst.edu/~bohner/fim-10/fim-chap6.pdf) The price of a zero coupon bond, at time t, for tenor (bond expiry) T is given by\n",
    "$$\n",
    "    P(t,T) = e^{ -\\int \\textrm{d}\\tau\\, \\varphi(\\tau) - D_1(t,T)r_1 - D_2(t,T)r_2 + \\frac{1}{2} V(t,T)}\n",
    "$$\n",
    "where\n",
    "\\begin{align}\n",
    "   D_1(t,T) &= \\frac{1-e^{-k_1(T-t)}}{k_1} \\\\\n",
    "   D_2(t,T) &= \\frac{1-e^{-k_2(T-t)}}{k_2} \\\\\n",
    "   V^2(t,T) &= \\frac{\\sigma^2_1}{k^2_1}\\left( T-t  +\\frac{2}\\lambda_1 e^{-\\lambda_1 (T-t)}-\\frac{1}{2}e^{-2\\lambda_1(T-t)} - \\frac{3}{2\\lambda_1}  \\right) \\\\\n",
    "            &+   \\frac{\\sigma^2_2}{k^2_2}\\left( T-t  +\\frac{2}\\lambda_2 e^{-\\lambda_2 (T-t)}-\\frac{1}{2}e^{-2\\lambda_2(T-t)} - \\frac{3}{2\\lambda_2}  \\right) \\\\\n",
    "            &+2\\rho\\frac{\\sigma_1\\sigma_2}{k_1 k_2}\\left(T-t +\\frac{1}\\lambda_1 e^{-\\lambda_1 (T-t)}++\\frac{1}\\lambda_2 e^{-\\lambda_2 (T-t)} - \\frac{e^{(\\lambda_1+\\lambda_2)(T-t)} -1}{\\lambda_1+\\lambda_2}\\right)\n",
    "\\end{align}\n",
    "\n",
    "In derivative pricing applications one usually fits the function $\\varphi(t)$ so that at the pricing date $t=0$\n",
    "bond prices $P(0,T)$ matche the market for all possible tenors  $T$ (the no-arbitrage condition). \n",
    "\n",
    "For **relative value** applications, however, where we want to use the model to make a prediction on unobserved tenors $T$, we simply set $\\varphi$ to a constant $\\varphi(t)=r_0$.\n",
    "\n",
    "Under this assumptions, the zero coupon bond yield at pricing time $t=0$ is will be given by\n",
    "$$\n",
    "    R_{G2++}(T) = -\\frac{\\log P(0,T)}{T} = r_0- \\frac{1}{2} \\frac{V(0,T)}{T} +\\frac{D_1(0,T)}{T} r_1 + \\frac{D_2(0,T)}{T} r_2 \n",
    "$$.\n",
    "\n",
    "Despite of all the complicated formulas, the rate for tenor $R(T)$ is just a linear function of the two **unobserved** rate factors $r_1$ and $r_2$. \n",
    "\n",
    "**Note**:  Technically, the expressions above do not apply to the H15 rates, as those are treasury curve *par rates* (the coupon rates that makes a treasury rate trade at a price of 1) instead of zero coupon discount rates, but the difference is usually small. To simplify the analysis, we will ignore the difference between par and zero coupon rates. "
   ]
  },
  {
   "cell_type": "markdown",
   "metadata": {},
   "source": [
    " Below is an implementation of the G2++ Model in python"
   ]
  },
  {
   "cell_type": "code",
   "execution_count": 5,
   "metadata": {
    "ExecuteTime": {
     "end_time": "2018-10-01T17:56:58.256135Z",
     "start_time": "2018-10-01T17:56:58.225135Z"
    }
   },
   "outputs": [],
   "source": [
    "class G2_RateCurve:\n",
    "    def __init__(self,r0,lambda1,lambda2,sig1,sig2,rho):\n",
    "        self.r0=r0\n",
    "        self.lambda1=lambda1\n",
    "        self.lambda2=lambda2\n",
    "        self.sig1=sig1\n",
    "        self.sig2=sig2\n",
    "        self.rho=rho\n",
    "    def D1(self,t):\n",
    "        return (1-np.exp(-self.lambda1*t))/self.lambda1\n",
    "    def D2(self,t):\n",
    "        return (1-np.exp(-self.lambda2*t))/self.lambda2\n",
    "    def V(self,t):\n",
    "        V1=self.sig1**2/self.lambda1**2*(\n",
    "            t\n",
    "            +2/self.lambda1*np.exp(-self.lambda1*t) \n",
    "            -1.0/(2*self.lambda1)*np.exp(-2*self.lambda1*t)\n",
    "            -3.0/(2*self.lambda1)\n",
    "        )\n",
    "        V2=self.sig2**2/self.lambda2**2*(\n",
    "            t\n",
    "            +2/self.lambda2*np.exp(-self.lambda2*t) \n",
    "            -1.0/(2*self.lambda2)*np.exp(-2*self.lambda2*t)\n",
    "            -3.0/(2*self.lambda2)\n",
    "        )\n",
    "        V12=2*self.rho*self.sig1*self.sig2/(self.lambda1*self.lambda2)*(\n",
    "            t\n",
    "            +1.0/self.lambda1*np.exp(-self.lambda1*t)\n",
    "            +1.0/self.lambda2*np.exp(-self.lambda2*t)\n",
    "            -( np.exp( -(self.lambda1+self.lambda2)*t)-1)/(self.lambda1+self.lambda2)\n",
    "        )\n",
    "        return V1+V2+V12\n",
    "    def R0(self,t):\n",
    "        return self.r0-1.0/2*self.V(t)/t\n",
    "    def R(self,t,r):\n",
    "        return self.R0(t)+self.D1(t)/t*r[0]+self.D2(t)/t*r[1]\n",
    "        "
   ]
  },
  {
   "cell_type": "markdown",
   "metadata": {},
   "source": [
    "For know, we take the model parameters as a given"
   ]
  },
  {
   "cell_type": "code",
   "execution_count": 6,
   "metadata": {
    "ExecuteTime": {
     "end_time": "2018-10-01T17:56:58.277135Z",
     "start_time": "2018-10-01T17:56:58.258135Z"
    }
   },
   "outputs": [],
   "source": [
    "r0=8\n",
    "lambda1=1/2\n",
    "lambda2=1.0/30\n",
    "sig1=0.02\n",
    "sig2=0.01\n",
    "rho=0"
   ]
  },
  {
   "cell_type": "markdown",
   "metadata": {},
   "source": [
    "We define a yield curve model given those hyper parameters"
   ]
  },
  {
   "cell_type": "code",
   "execution_count": 7,
   "metadata": {
    "ExecuteTime": {
     "end_time": "2018-10-01T17:56:58.302135Z",
     "start_time": "2018-10-01T17:56:58.279135Z"
    }
   },
   "outputs": [],
   "source": [
    "yc=G2_RateCurve(r0,lambda1,lambda2,sig1,sig2,rho)"
   ]
  },
  {
   "cell_type": "markdown",
   "metadata": {},
   "source": [
    "#### Curve for one particular date"
   ]
  },
  {
   "cell_type": "markdown",
   "metadata": {},
   "source": [
    "We select one date to inspect the shape of the curve"
   ]
  },
  {
   "cell_type": "code",
   "execution_count": 8,
   "metadata": {
    "ExecuteTime": {
     "end_time": "2018-10-01T17:56:58.326135Z",
     "start_time": "2018-10-01T17:56:58.304135Z"
    }
   },
   "outputs": [],
   "source": [
    "idx=251*2"
   ]
  },
  {
   "cell_type": "code",
   "execution_count": 9,
   "metadata": {
    "ExecuteTime": {
     "end_time": "2018-10-01T17:56:58.352135Z",
     "start_time": "2018-10-01T17:56:58.328135Z"
    }
   },
   "outputs": [
    {
     "data": {
      "text/plain": [
       "3M     2.31\n",
       "6M     2.13\n",
       "1Y     2.06\n",
       "2Y     1.93\n",
       "3Y     2.10\n",
       "5Y     2.67\n",
       "7Y     3.09\n",
       "10Y    3.62\n",
       "20Y    4.38\n",
       "30Y    4.41\n",
       "Name: 2008-02-11 00:00:00, dtype: float64"
      ]
     },
     "execution_count": 9,
     "metadata": {},
     "output_type": "execute_result"
    }
   ],
   "source": [
    "R_act=H15.iloc[idx]\n",
    "R_act"
   ]
  },
  {
   "cell_type": "markdown",
   "metadata": {},
   "source": [
    "We set parameters by trial and error"
   ]
  },
  {
   "cell_type": "code",
   "execution_count": 10,
   "metadata": {
    "ExecuteTime": {
     "end_time": "2018-10-01T17:56:58.374135Z",
     "start_time": "2018-10-01T17:56:58.354135Z"
    }
   },
   "outputs": [],
   "source": [
    "r=[-2.5,-4.75]"
   ]
  },
  {
   "cell_type": "code",
   "execution_count": 11,
   "metadata": {
    "ExecuteTime": {
     "end_time": "2018-10-01T17:56:58.401135Z",
     "start_time": "2018-10-01T17:56:58.376135Z"
    }
   },
   "outputs": [
    {
     "data": {
      "text/plain": [
       "array([0.91967002, 1.07735418, 1.36088477, 1.82437338, 2.1846303 ,\n",
       "       2.7060743 , 3.06959107, 3.4620702 , 4.27826341, 4.82247662])"
      ]
     },
     "execution_count": 11,
     "metadata": {},
     "output_type": "execute_result"
    }
   ],
   "source": [
    "R_g2=yc.R(tenors,r)\n",
    "R_g2"
   ]
  },
  {
   "cell_type": "code",
   "execution_count": 12,
   "metadata": {
    "ExecuteTime": {
     "end_time": "2018-10-01T17:56:58.646135Z",
     "start_time": "2018-10-01T17:56:58.403135Z"
    }
   },
   "outputs": [
    {
     "data": {
      "text/plain": [
       "Text(0.5,1,'H15 Rates vs  G2++ Model')"
      ]
     },
     "execution_count": 12,
     "metadata": {},
     "output_type": "execute_result"
    },
    {
     "data": {
      "image/png": "[encoded data removed]",
      "text/plain": [
       "<matplotlib.figure.Figure at 0x7f93287ad4e0>"
      ]
     },
     "metadata": {},
     "output_type": "display_data"
    }
   ],
   "source": [
    "plt.plot(tenors,R_act,linewidth=2,label=\"H15 Rates\",marker=\"D\")\n",
    "plt.plot(tenors,R_g2,label=\"G2++ Model Fit\")\n",
    "plt.legend()\n",
    "plt.title(\"H15 Rates vs  G2++ Model\")"
   ]
  },
  {
   "cell_type": "markdown",
   "metadata": {},
   "source": [
    "### Curve sensitivity to parameters r1 and r2\n",
    "\n",
    "The curves $D_1(t,T)$ and $D_2(t,T)$ control how a change in the factor affects the shape of the rate curve.\n",
    "\n",
    "A large $\\lambda$ parameter implies that only the from of the curve changes. A small $\\lambda$ implies that a change in the factor $r$ will trigger a more or less parallel shift in the curve.\n",
    "\n",
    "This captures the observe dynamics of the yield curve where the front (short) tenors are move volatile that the long tenors."
   ]
  },
  {
   "cell_type": "code",
   "execution_count": 13,
   "metadata": {
    "ExecuteTime": {
     "end_time": "2018-10-01T17:56:58.811135Z",
     "start_time": "2018-10-01T17:56:58.648135Z"
    }
   },
   "outputs": [
    {
     "data": {
      "text/plain": [
       "Text(0.5,1,'Curve sensitivity to factor changes')"
      ]
     },
     "execution_count": 13,
     "metadata": {},
     "output_type": "execute_result"
    },
    {
     "data": {
      "image/png": "[encoded data removed]",
      "text/plain": [
       "<matplotlib.figure.Figure at 0x7f93284b9f60>"
      ]
     },
     "metadata": {},
     "output_type": "display_data"
    }
   ],
   "source": [
    "r1=r[:]\n",
    "r1[0]+=1\n",
    "R_dr1=yc.R(tenors,r1)\n",
    "r2=r[:]\n",
    "r2[1]+=1\n",
    "R_dr2=yc.R(tenors,r2)\n",
    "plt.plot(tenors,R_g2,label=\"G2++ Model\",linewidth=2)\n",
    "plt.plot(tenors,R_dr1,label=\"r1 increased +1\",linestyle=\"dashed\")\n",
    "plt.plot(tenors,R_dr2,label=\"r2 increased +1\",linestyle=\"dashed\")\n",
    "plt.legend()\n",
    "plt.title(\"Curve sensitivity to factor changes\")"
   ]
  },
  {
   "cell_type": "markdown",
   "metadata": {},
   "source": [
    "## A model for the Treasury Curve (at a fixed date)\n",
    "\n",
    "As a first step, we would like to build a model on how rates depend on tenor, for a fixed date. \n",
    "\n",
    "1. The functional form or yield curve $R(T)$ will be based on the G2++ model described above.\n",
    "2. We will **train** the model  with the observations for the yields for tenors 3M, 6M, $1,\\dots,10Y,20Y$ (excluding the 30Y treasury rate).\n",
    "\n",
    "2. The $r_1$ and $r_2$ factors of the  G2++ model (assuming $\\lambda_1$,$\\sigma_1$, etc are known) will play the role of our model paremeters $\\theta$.\n",
    "3. We can then use the 30Y rate as an out of sample measure of the performance of our model."
   ]
  },
  {
   "cell_type": "markdown",
   "metadata": {},
   "source": [
    "#### Mathematical Details:\n",
    "The observations of the treasury rates on a particular day are somewhat noisy, so they never fall exacty *on the theoretical curve*. We will therefore, assume noisy observations\n",
    "$$\n",
    "    R(T) = R_{G2++}(T) + \\sigma(T) \\epsilon\n",
    "$$\n",
    "where $\\epsilon\\sim N(0,1)$ and the variance $\\sigma^2(T)=\\frac{\\sigma_0^2}{ T}$ decreases with $T$ to capture the fact that long dated rates are less volatile.\n",
    "\n",
    "With this assumption finding $r_1$ and r_2 ammounts to solving a **weighted least squares problem**\n",
    "\n",
    "$$\n",
    "    E = \\frac{1}{N_T} \\sum_{t=1}^{N_T} w_t \\left\\{R(T_t) -R_{G2++}(T_t;r)\\right\\}^2\n",
    "$$\n",
    "    \n",
    "where $T_t$ runs over the observed tenors in years $T_t=0.25, 0.5,1,2,3,5,7,10,20$. $N_T=9$ is the number of tenors used for fitting,  $r$ is the vector $(r_1,r_2)$, and the weights are $w_t=T_t \\propto \\frac{1}{\\sigma^2(T)}$.\n",
    "\n",
    "The function $R_{G2++}(T;r)$ is given by\n",
    "\n",
    "\\begin{align}\n",
    "    R_{G2++}(T) &= R^0(T)+ H_1(T) r_1 + H_2(T) \\\\\n",
    "    R^0(T) &= r_0 - \\frac{1}{2}\\frac{V(0,T)}{T}\\\\\n",
    "    H_1(T) & =  \\frac{D_1(0,T)}{T}\\\\\n",
    "    H_2(T) & =  \\frac{D_2(0,T)}{T}\\\\\n",
    "\\end{align}\n",
    "\n",
    "The $N_T\\times 2$ *feature matrix* $H$ is then given by\n",
    "    \n",
    "\\begin{align}\n",
    "    H_{t,1} &= H_1(T_t) \\\\\n",
    "    H_{t,2} &= H_2(T_t) \\\\ \n",
    "\\end{align}\n",
    "definining rhe $N_T$ dimensional vector $\\delta R$ as\n",
    "$$\n",
    "    \\delta R_t = R(T_t) - R^0(T_t)\n",
    "$$\n",
    "and  the weight matrix  $W_t = diag(T_t)$ we have this is can be expressed in matrix form as\n",
    "$$\n",
    "    E =\\frac{1}{N_T} (\\delta R - H r)^T W (\\delta R - H r)\n",
    "$$\n",
    "wher $R$ is the vector of all the H15 report rates $(R(3M), R(6M), R(1Y),\\dots,R(20Y) )$, excluding the 30Y rate.\n",
    "\n",
    "This problem has a solution\n",
    "$$\n",
    "    \\hat{r} = (H^T W H)^{-1} (H^T W ) \\delta R\n",
    "$$\n",
    "representing a yield curve best fitting the data\n",
    "$$\n",
    "    \\hat{R}_{G2++}(T)= R_0(T) + H_1(T)\\hat{r}_1 + H_2(T)\\hat{r}_2\n",
    "$$\n",
    "\n",
    "    "
   ]
  },
  {
   "cell_type": "markdown",
   "metadata": {},
   "source": [
    "<div class=\"alert alert-warning\" > <b> Learning Problem 1</div>\n",
    "Using the lenguage problem terminology we introduced in today's class, we have that we have the following \n",
    "1. $X$ represents the tenor $T$\n",
    "2. $Y$ is  interest rate $R$ at point $T$ (at some fixed date that remains fixed during the problem). \n",
    "3. Our learning goal it to learn a function $y=f(x)$: the dependence of rates on tenor $R(T)$.\n",
    "4. Our hypothesis space $h(x;\\theta)$, is any posible linear combination\n",
    "   $R(T; r)= R^0(T)+ H_{T,1} r_1 + H_{T,2} r_2$, where the parameters in $h(x;\\theta)$ are $\\theta=(r_1,r_2)$.\n",
    "5. The error function $E$ is **weighted** mean square error.\n",
    "5. The Learning algorighm is the exact solution to a linear regression problem $\\hat{r}$.\n",
    "6. The final hypothesis $\\hat{h}$ is \n",
    "    $$ \n",
    "        \\hat{R}_{G2++}(T) = R^0(T) + H_{1}(T) \\hat{r}_1 + H_2(T) \\hat{r}_2\n",
    "    $$"
   ]
  },
  {
   "cell_type": "markdown",
   "metadata": {},
   "source": [
    "#### Fit  $R_{G2++}(T)$ curve "
   ]
  },
  {
   "cell_type": "code",
   "execution_count": 14,
   "metadata": {
    "ExecuteTime": {
     "end_time": "2018-10-01T17:56:58.818135Z",
     "start_time": "2018-10-01T17:56:58.814135Z"
    }
   },
   "outputs": [
    {
     "data": {
      "text/plain": [
       "array([ 0.25,  0.5 ,  1.  ,  2.  ,  3.  ,  5.  ,  7.  , 10.  , 20.  ])"
      ]
     },
     "execution_count": 14,
     "metadata": {},
     "output_type": "execute_result"
    }
   ],
   "source": [
    "T=tenors[:-1]\n",
    "T"
   ]
  },
  {
   "cell_type": "code",
   "execution_count": 15,
   "metadata": {
    "ExecuteTime": {
     "end_time": "2018-10-01T17:56:58.844135Z",
     "start_time": "2018-10-01T17:56:58.820135Z"
    }
   },
   "outputs": [
    {
     "data": {
      "text/plain": [
       "array([0.23500619, 0.44239843, 0.78693868, 1.26424112, 1.55373968,\n",
       "       1.83583   , 1.93960523, 1.98652411, 1.9999092 ])"
      ]
     },
     "execution_count": 15,
     "metadata": {},
     "output_type": "execute_result"
    }
   ],
   "source": [
    "yc.D1(T)"
   ]
  },
  {
   "cell_type": "code",
   "execution_count": 16,
   "metadata": {
    "ExecuteTime": {
     "end_time": "2018-10-01T17:56:58.868135Z",
     "start_time": "2018-10-01T17:56:58.847135Z"
    }
   },
   "outputs": [
    {
     "data": {
      "text/plain": [
       "array([ 0.24896122,  0.49585639,  0.98351699,  1.93479045,  2.85487746,\n",
       "        4.60554825,  6.24331301,  8.50406068, 14.59748643])"
      ]
     },
     "execution_count": 16,
     "metadata": {},
     "output_type": "execute_result"
    }
   ],
   "source": [
    "yc.D2(T)"
   ]
  },
  {
   "cell_type": "code",
   "execution_count": 17,
   "metadata": {
    "ExecuteTime": {
     "end_time": "2018-10-01T17:56:58.891135Z",
     "start_time": "2018-10-01T17:56:58.870135Z"
    }
   },
   "outputs": [
    {
     "data": {
      "text/plain": [
       "array([7.99999517, 7.99998201, 7.99993715, 7.99980209, 7.99963601,\n",
       "       7.99926014, 7.99884106, 7.99813005, 7.99515509])"
      ]
     },
     "execution_count": 17,
     "metadata": {},
     "output_type": "execute_result"
    }
   ],
   "source": [
    "R0=yc.R0(T)\n",
    "R0"
   ]
  },
  {
   "cell_type": "code",
   "execution_count": 18,
   "metadata": {
    "ExecuteTime": {
     "end_time": "2018-10-01T17:56:59.036135Z",
     "start_time": "2018-10-01T17:56:58.893135Z"
    }
   },
   "outputs": [
    {
     "data": {
      "text/plain": [
       "(9,)"
      ]
     },
     "execution_count": 18,
     "metadata": {},
     "output_type": "execute_result"
    }
   ],
   "source": [
    "dR=(R_act[:-1]-R0).values\n",
    "dR.shape"
   ]
  },
  {
   "cell_type": "code",
   "execution_count": 19,
   "metadata": {
    "ExecuteTime": {
     "end_time": "2018-10-01T17:56:59.046135Z",
     "start_time": "2018-10-01T17:56:59.038135Z"
    }
   },
   "outputs": [
    {
     "data": {
      "text/plain": [
       "(9, 9)"
      ]
     },
     "execution_count": 19,
     "metadata": {},
     "output_type": "execute_result"
    }
   ],
   "source": [
    "W=np.diag(T)\n",
    "W.shape"
   ]
  },
  {
   "cell_type": "code",
   "execution_count": 20,
   "metadata": {
    "ExecuteTime": {
     "end_time": "2018-10-01T17:56:59.067135Z",
     "start_time": "2018-10-01T17:56:59.048135Z"
    }
   },
   "outputs": [
    {
     "data": {
      "text/plain": [
       "(9,)"
      ]
     },
     "execution_count": 20,
     "metadata": {},
     "output_type": "execute_result"
    }
   ],
   "source": [
    "WdR=np.dot(W,dR)\n",
    "WdR.shape"
   ]
  },
  {
   "cell_type": "code",
   "execution_count": 21,
   "metadata": {
    "ExecuteTime": {
     "end_time": "2018-10-01T17:56:59.089135Z",
     "start_time": "2018-10-01T17:56:59.069135Z"
    }
   },
   "outputs": [
    {
     "data": {
      "text/plain": [
       "(9, 2)"
      ]
     },
     "execution_count": 21,
     "metadata": {},
     "output_type": "execute_result"
    }
   ],
   "source": [
    "H=np.c_[yc.D1(T)/T,yc.D2(T)/T]\n",
    "H.shape"
   ]
  },
  {
   "cell_type": "code",
   "execution_count": 22,
   "metadata": {
    "ExecuteTime": {
     "end_time": "2018-10-01T17:56:59.116135Z",
     "start_time": "2018-10-01T17:56:59.091135Z"
    }
   },
   "outputs": [
    {
     "data": {
      "text/plain": [
       "(2, 2)"
      ]
     },
     "execution_count": 22,
     "metadata": {},
     "output_type": "execute_result"
    }
   ],
   "source": [
    "N=np.dot(H.T,np.dot(W,H))\n",
    "N.shape"
   ]
  },
  {
   "cell_type": "code",
   "execution_count": 23,
   "metadata": {
    "ExecuteTime": {
     "end_time": "2018-10-01T17:56:59.165135Z",
     "start_time": "2018-10-01T17:56:59.118135Z"
    }
   },
   "outputs": [
    {
     "data": {
      "text/plain": [
       "array([-2.12212832, -4.74241814])"
      ]
     },
     "execution_count": 23,
     "metadata": {},
     "output_type": "execute_result"
    }
   ],
   "source": [
    "r=np.linalg.solve(N,np.dot(H.T,WdR))\n",
    "r"
   ]
  },
  {
   "cell_type": "code",
   "execution_count": 24,
   "metadata": {
    "ExecuteTime": {
     "end_time": "2018-10-01T17:56:59.243135Z",
     "start_time": "2018-10-01T17:56:59.167135Z"
    }
   },
   "outputs": [
    {
     "data": {
      "text/plain": [
       "array([1.28242913, 1.41921289, 1.6657035 , 2.07056849, 2.38755014,\n",
       "       2.85179966, 3.18105648, 3.54358298, 4.32158267, 4.85246071])"
      ]
     },
     "execution_count": 24,
     "metadata": {},
     "output_type": "execute_result"
    }
   ],
   "source": [
    "R_g2=yc.R(tenors,r)\n",
    "R_g2"
   ]
  },
  {
   "cell_type": "code",
   "execution_count": 25,
   "metadata": {
    "ExecuteTime": {
     "end_time": "2018-10-01T17:56:59.547135Z",
     "start_time": "2018-10-01T17:56:59.245135Z"
    }
   },
   "outputs": [
    {
     "name": "stdout",
     "output_type": "stream",
     "text": [
      "[<matplotlib.lines.Line2D object at 0x7f9328351ac8>]\n"
     ]
    },
    {
     "data": {
      "text/plain": [
       "Text(0,0.5,'Yield')"
      ]
     },
     "execution_count": 25,
     "metadata": {},
     "output_type": "execute_result"
    },
    {
     "data": {
      "image/png": "[encoded data removed]",
      "text/plain": [
       "<matplotlib.figure.Figure at 0x7f932839f6a0>"
      ]
     },
     "metadata": {},
     "output_type": "display_data"
    }
   ],
   "source": [
    "l=plt.plot(tenors,R_act,label=\"Treasure H15 Rates\")\n",
    "print(l)\n",
    "plt.plot(tenors[-1],R_act[-1],\"D\",color=l[0].get_color())\n",
    "l2=plt.plot(tenors,R_g2,label=\"Fitted G2++ Model\")\n",
    "plt.plot(tenors[-1],R_g2[-1],\"D\",color=l2[0].get_color())\n",
    "plt.legend()\n",
    "plt.title(\"Fitted G2++ Rate Curve\")\n",
    "plt.xlabel(\"T\")\n",
    "plt.ylabel(\"Yield\")"
   ]
  },
  {
   "cell_type": "markdown",
   "metadata": {},
   "source": [
    "#### Collecting curve fitting formulas into a function."
   ]
  },
  {
   "cell_type": "code",
   "execution_count": 26,
   "metadata": {
    "ExecuteTime": {
     "end_time": "2018-10-01T17:56:59.553135Z",
     "start_time": "2018-10-01T17:56:59.549135Z"
    }
   },
   "outputs": [],
   "source": [
    "# here yc is the yield curve model (constains all the lambda, sigma, etc parameters)\n",
    "def fit_curve(yc,T,R):\n",
    "    R0=yc.R0(T)\n",
    "    W=np.diag(T)\n",
    "    dR=(R-R0)\n",
    "    WdR=np.dot(W,dR)\n",
    "    H=np.c_[yc.D1(T)/T,yc.D2(T)/T]\n",
    "    N=np.dot(H.T,np.dot(W,H))\n",
    "    r=np.linalg.solve(N,np.dot(H.T,WdR))\n",
    "    return r"
   ]
  },
  {
   "cell_type": "markdown",
   "metadata": {},
   "source": [
    "Let's observe fits for a few dates'"
   ]
  },
  {
   "cell_type": "code",
   "execution_count": 27,
   "metadata": {
    "ExecuteTime": {
     "end_time": "2018-10-01T17:57:00.305135Z",
     "start_time": "2018-10-01T17:56:59.556135Z"
    },
    "scrolled": true
   },
   "outputs": [
    {
     "data": {
      "image/png": "[encoded data removed]",
      "text/plain": [
       "<matplotlib.figure.Figure at 0x7f93282f9e80>"
      ]
     },
     "metadata": {},
     "output_type": "display_data"
    }
   ],
   "source": [
    "\n",
    "delta=251*2\n",
    "plt.figure(figsize=(12,32))\n",
    "ax1 = plt.subplot(2,3,1)\n",
    "for i in range(6):\n",
    "    R=H15.iloc[delta*i]\n",
    "    r=fit_curve(yc,tenors[:-1],R[:-1])\n",
    "    R_g2=yc.R(tenors,r)\n",
    "    plt.subplot(6, 3, i+1,sharex=ax1,sharey=ax1)\n",
    "    plt.ylabel(\"yield\")\n",
    "    plt.xlabel(\"T (years)\")\n",
    "    date1=H15.index[delta*i].date()\n",
    "    plt.title(date1)\n",
    "    plt.plot(tenors,R,label=\"H15\")\n",
    "    plt.plot(tenors,R_g2,label=\"G2\")\n",
    "    plt.legend()"
   ]
  },
  {
   "cell_type": "markdown",
   "metadata": {},
   "source": [
    "We fit the curve up to 20 year ok, but our prediction of the 30Y rate does not look very good."
   ]
  },
  {
   "cell_type": "markdown",
   "metadata": {},
   "source": [
    "## Prediction of 30Y Rate Levels"
   ]
  },
  {
   "cell_type": "markdown",
   "metadata": {},
   "source": [
    "### Model Hyper Parameters\n",
    "\n",
    "So far we have taken the **hyper-parameters**\n",
    "$$\n",
    "    \\theta = (r_0,\\lambda_1,\\sigma_1,\\lambda_2,\\sigma_2,\\rho)\n",
    "$$\n",
    "as given.\n",
    "\n",
    "Now we will now select them by comparing the 30 year rate prediction of each date to its actual observation for all dates.\n",
    "\n",
    "We will assume the following model\n",
    "$$\n",
    "    R(30)_t = R_{G2++}(30;\\theta)_t + \\nu_t\n",
    "$$\n",
    "where $i=t,\\dots, N$ runs through all dates in our training sample, $R_{G2++}(T)_t$ is the rate curve fitted to \n",
    "the 3M,6M,$\\dots$,20Y tenors in the previous step, for  each one of the dates $t$, and $\\nu_t$ is some gaussian noise term.\n",
    "\n",
    "We are assuming that the error $\\nu$ are independent for different dates\n",
    "$$\n",
    "    \\mathbb{E}(\\nu_t \\nu_{t'}) = 0 \\text{ if } t\\ne t'\n",
    "$$\n",
    "\n",
    "Our error function is then\n",
    "$$\n",
    "    E = \\frac{1}{N} \\left\\{ R(30)_t - R_{G2++}(30;\\theta)_t \\right\\}^2\n",
    "$$\n",
    "\n",
    "Because the dependence of $R_{G2++}(T)$ on $\\theta$ is non-linear, this is a **Non-Linear Least Squares** problem\n",
    "that must be solve numerically.\n",
    "\n"
   ]
  },
  {
   "cell_type": "markdown",
   "metadata": {},
   "source": [
    "<div class=\"alert alert-warning\" > <b> Learning Problem 2 </div>\n",
    "\n",
    "Using the lenguage problem terminology we introduced in today's class, we have that we have the following \n",
    "\n",
    "1. $X$ represents the yields $R(T)$ for tenors $T=0.25,\\dots,20$, observed as of each date.\n",
    "2. $Y$ is  yield $R(30)$ at point $T=30$ years. \n",
    "3. Our learning goal it to learn a function $y=f(x)$: the dependence of the 30 year yield $R(30)$ on the other points in the yield curve  $(R(0.25),R(0.5),\\dots R(20))$.\n",
    "4. Our hypothesis space $h(x;\\theta)$, is any posible linear combination or the observed rates\n",
    "   $R(30; \\theta)= R^0(30;\\theta)+ \\beta^T(\\theta)R$, where the parameters are $\\theta=(r_0,\\lambda_1,\\sigma_1,\\lambda_2,\\sigma_2,\\rho)$.\n",
    "6. The bias $R^0(30; \\theta)$ matrix and loadings  $\\beta(\\theta)$ depend non-linearly of $\\theta$. \n",
    "6. The error function $E$ is mean square error.\n",
    "5. The Learning algorighm will be a numerical non-linear least squares regression solver.\n",
    "6. The final hypothesis $\\hat{h}$ is \n",
    "    $$ \n",
    "        \\hat{R}_{G2++}(30) = R^0(30;\\hat{\\theta}) + \\beta^T(\\hat{\\theta})R\n",
    "    $$\n",
    "    where $\\hat{\\theta}$ is  the optimal solution to the non-linear least squares optimization problem."
   ]
  },
  {
   "cell_type": "markdown",
   "metadata": {},
   "source": [
    "#### Training and Test Set ####"
   ]
  },
  {
   "cell_type": "code",
   "execution_count": 28,
   "metadata": {
    "ExecuteTime": {
     "end_time": "2018-10-01T17:57:00.310135Z",
     "start_time": "2018-10-01T17:57:00.307135Z"
    }
   },
   "outputs": [],
   "source": [
    "test_period=date(2016,12,31)"
   ]
  },
  {
   "cell_type": "code",
   "execution_count": 29,
   "metadata": {
    "ExecuteTime": {
     "end_time": "2018-10-01T17:57:00.352135Z",
     "start_time": "2018-10-01T17:57:00.313135Z"
    }
   },
   "outputs": [
    {
     "data": {
      "text/plain": [
       "(3149, 2728, 421)"
      ]
     },
     "execution_count": 29,
     "metadata": {},
     "output_type": "execute_result"
    }
   ],
   "source": [
    "H15_train=H15[:test_period]\n",
    "H15_test=H15[test_period:]\n",
    "train_dates=H15_train.index\n",
    "test_dates=H15_test.index\n",
    "len(H15),len(H15_train),len(H15_test)"
   ]
  },
  {
   "cell_type": "markdown",
   "metadata": {},
   "source": [
    "### The 30Y Treasury Prediction Error Function\n"
   ]
  },
  {
   "cell_type": "code",
   "execution_count": 30,
   "metadata": {
    "ExecuteTime": {
     "end_time": "2018-10-01T17:57:00.374135Z",
     "start_time": "2018-10-01T17:57:00.354135Z"
    }
   },
   "outputs": [],
   "source": [
    "def errors_30Y(r0,lambda1,lambda2,sig1,sig2,rho,H15,tenors):\n",
    "    yc=G2_RateCurve(r0,lambda1,lambda2,sig1,sig2,rho)\n",
    "    N=len(H15)\n",
    "    errors=np.zeros((N))\n",
    "    for t in range(N):\n",
    "        R=H15.iloc[t]\n",
    "        r=fit_curve(yc,tenors[:-1],R[:-1])\n",
    "        R_30=R[-1]\n",
    "        R_30_g2=yc.R(tenors[-1],r)\n",
    "        errors[t]=(R_30-R_30_g2)\n",
    "    return errors"
   ]
  },
  {
   "cell_type": "code",
   "execution_count": 31,
   "metadata": {
    "ExecuteTime": {
     "end_time": "2018-10-01T17:57:01.682135Z",
     "start_time": "2018-10-01T17:57:00.376135Z"
    }
   },
   "outputs": [
    {
     "name": "stdout",
     "output_type": "stream",
     "text": [
      "Standard Deviation of Mean Squared Error:\n",
      "\t 0.5408950298823115\n"
     ]
    }
   ],
   "source": [
    "errors=errors_30Y(r0,lambda1,lambda2,sig1,sig2,rho,H15_train,tenors)\n",
    "print(\"Standard Deviation of Mean Squared Error:\\n\\t\",np.sqrt(np.mean(errors**2)))"
   ]
  },
  {
   "cell_type": "markdown",
   "metadata": {},
   "source": [
    "A 54bps error for the 30 year bond is pretty bad. We still need to optimize the parameters.\n"
   ]
  },
  {
   "cell_type": "markdown",
   "metadata": {},
   "source": [
    "#### Speeding up the Model Error Calculation\n",
    "\n",
    "In the implementation of the prediction error above, we:\n",
    "1. loop over each observation date\n",
    "2. fit a rate curve by calling `fit_curve`\n",
    "3. Extrapolate the 30Y point based on the fitted parametes\n",
    "4. Compute the error\n",
    "\n",
    "Although conceptually, this is the clearest way to compute the error, it is **very inefficient** in python.\n",
    "\n",
    "Taking advantage of the fact that the curve model is **linear** in the input rates, we can speed up the solution\n",
    "significantly.\n"
   ]
  },
  {
   "cell_type": "markdown",
   "metadata": {},
   "source": [
    "We showed before that for each date\n",
    "$$\n",
    " \\hat{r} = (H^T W H)^{-1} (W H^T) \\delta R\n",
    "$$\n",
    "where $r$ is a 2 dimensional factir vector and $\\delta R$ is an $N_T=9$ dimensional vector.\n",
    "\n",
    "Therefore, the matrix P defined by\n",
    "$$\n",
    "    P = (H^T W H)^{-1} (W H^T)\n",
    "$$\n",
    "is a $2\\times 9$ dimensional  matrix. \n",
    "\n",
    "\n",
    "We define $\\hat{r}_{i,d}$ as the $N\\times 2$ matrix of factors for each date $i=1,\\dots N$ and\n",
    "$$ \n",
    "   \\delta R_{i,t}=R(T_t)_{i} - R^0(T_t)_{i}\n",
    "$$ \n",
    "\n",
    "for $t=1,\\dots,N_T$ and  the tenors $T_t=0.25,0.5,\\dots20$.\n",
    " \n",
    " We then have\n",
    " $$\n",
    "     \\hat{r}_{i,d} = \\sum_t  \\delta R_{i,t}P_{d,t}\n",
    " $$\n",
    " or in matrix notation \n",
    " $$ \n",
    "  \\hat{r} = \\delta R\\, P^T\n",
    " $$\n",
    " where now $\\hat{r}$ is a matrix referring to the factors for all times simultaneously.\n",
    " \n",
    " This allow us to fit the yield curve models for all dates simultaneusly using a **single matrix multiplication**.\n",
    " \n",
    " The extrapolation to the 30 year rate can again, be expressed as a single linear operation for all observations\n",
    " $$\n",
    " R_{G2++}(30)_i = R^0(30) + \\sum_d H(30)_d \\hat{r}_{i,d}\n",
    " $$\n",
    " where $H$ is as we defined before, therefore, the extrapolation error can be expressed as a single operation as\n",
    " \n",
    " $$\n",
    " \\Delta R(30)_i = R(30)_{i} - R^0(30) - \\sum_d \\sum_t H(30)_d P_{d,t} R_{i,t} \n",
    "$$\n",
    "or, in matrix form\n",
    "$$\n",
    "   \\Delta R(30) = R(30)-R^0(30) - (R P^T) H(30) \n",
    "$$\n",
    "we implement this  below"
   ]
  },
  {
   "cell_type": "code",
   "execution_count": 32,
   "metadata": {
    "ExecuteTime": {
     "end_time": "2018-10-01T17:57:01.690135Z",
     "start_time": "2018-10-01T17:57:01.685135Z"
    }
   },
   "outputs": [],
   "source": [
    "def errors_30Y_fast(r0,lambda1,lambda2,sig1,sig2,rho,H15,tenors):\n",
    "    yc=G2_RateCurve(r0,lambda1,lambda2,sig1,sig2,rho)\n",
    "    dR=H15-yc.R0(tenors)\n",
    "    T=tenors[:-1]\n",
    "    x=dR[:,:-1]\n",
    "    W=np.diag(T)\n",
    "    H=np.c_[yc.D1(T)/T,yc.D2(T)/T]\n",
    "    N=np.dot(H.T,np.dot(W,H))\n",
    "    Ninv=np.linalg.inv(N)\n",
    "    P=np.dot(Ninv,np.dot(H.T,W))\n",
    "    T30=tenors[-1]\n",
    "    H30=np.array([yc.D1(T30)/T30,yc.D2(T30)/T30])\n",
    "    r=np.dot(x,P.T)\n",
    "    E=dR[:,-1]-np.dot(r,H30)\n",
    "    return E\n",
    "    "
   ]
  },
  {
   "cell_type": "markdown",
   "metadata": {},
   "source": [
    "returns are identical"
   ]
  },
  {
   "cell_type": "code",
   "execution_count": 33,
   "metadata": {
    "ExecuteTime": {
     "end_time": "2018-10-01T17:57:01.718135Z",
     "start_time": "2018-10-01T17:57:01.692135Z"
    }
   },
   "outputs": [
    {
     "name": "stdout",
     "output_type": "stream",
     "text": [
      "Standard Deviation of Mean Squared Errror:\n",
      "\t 0.5408950298823118\n"
     ]
    }
   ],
   "source": [
    "errors2=errors_30Y_fast(r0,lambda1,lambda2,sig1,sig2,rho,H15_train.values,tenors)\n",
    "print(\"Standard Deviation of Mean Squared Errror:\\n\\t\",np.sqrt(np.mean(errors2**2)))"
   ]
  },
  {
   "cell_type": "code",
   "execution_count": 34,
   "metadata": {
    "ExecuteTime": {
     "end_time": "2018-10-01T17:57:03.210135Z",
     "start_time": "2018-10-01T17:57:01.722135Z"
    }
   },
   "outputs": [
    {
     "name": "stdout",
     "output_type": "stream",
     "text": [
      "CPU times: user 2.32 s, sys: 7.71 ms, total: 2.33 s\n",
      "Wall time: 2.14 s\n"
     ]
    }
   ],
   "source": [
    "%time err=errors_30Y(r0,lambda1,lambda2,sig1,sig2,rho,H15,tenors)"
   ]
  },
  {
   "cell_type": "code",
   "execution_count": 35,
   "metadata": {
    "ExecuteTime": {
     "end_time": "2018-10-01T17:57:03.218135Z",
     "start_time": "2018-10-01T17:57:03.212135Z"
    }
   },
   "outputs": [
    {
     "name": "stdout",
     "output_type": "stream",
     "text": [
      "CPU times: user 0 ns, sys: 1.21 ms, total: 1.21 ms\n",
      "Wall time: 1.22 ms\n"
     ]
    }
   ],
   "source": [
    "%time err2=errors_30Y_fast(r0,lambda1,lambda2,sig1,sig2,rho,H15.values,tenors)"
   ]
  },
  {
   "cell_type": "markdown",
   "metadata": {},
   "source": [
    "The second method is  **2000 times** faster,\n",
    "\n",
    "Without this optimization, optimizing over hyper-parameters $\\theta=(\\lambda_1,\\sigma_1,\\dots)$ would take nearly an  hour."
   ]
  },
  {
   "cell_type": "markdown",
   "metadata": {},
   "source": [
    "### Numerical Optimization\n",
    "\n",
    "We do not have easy access to the gradient of $R_{G2++}(T)$ relative to the parameters $theta$ so we must resort to a least square method\n",
    "that does not requires derivatives.\n",
    "1. We use the **Levenberg-Marquard** method as implemented in numpy.\n",
    "2. We resort to a change of variables to ensure that constrains of $\\theta$ are satisfied."
   ]
  },
  {
   "cell_type": "code",
   "execution_count": 36,
   "metadata": {
    "ExecuteTime": {
     "end_time": "2018-10-01T17:57:03.245135Z",
     "start_time": "2018-10-01T17:57:03.220135Z"
    }
   },
   "outputs": [],
   "source": [
    "def x_to_params(x):\n",
    "    r0=x[0]\n",
    "    lambda1=np.exp(-x[1]) # [ 0, infinity]\n",
    "    lambda2=np.exp(-x[2]) # [0,  infinity]\n",
    "    sig1=np.abs(x[3]) # sigma must be positive, but it mostly just appears as sigma^2\n",
    "    sig2=np.abs(x[4])\n",
    "    rho=np.tanh(x[5]) # [-1,1]\n",
    "    return r0,lambda1,lambda2,sig1,sig2,rho"
   ]
  },
  {
   "cell_type": "code",
   "execution_count": 37,
   "metadata": {
    "ExecuteTime": {
     "end_time": "2018-10-01T17:57:03.270135Z",
     "start_time": "2018-10-01T17:57:03.247135Z"
    }
   },
   "outputs": [],
   "source": [
    "def params_to_x(r0,lambda1,lambda2,sig1,sig2,rho):\n",
    "    x=np.empty((6,))\n",
    "    x[0]=r0\n",
    "    x[1]=-np.log(lambda1)\n",
    "    x[2]=-np.log(lambda2)\n",
    "    x[3]=sig1\n",
    "    x[4]=sig2\n",
    "    x[5]=np.arctanh(rho)\n",
    "    return x"
   ]
  },
  {
   "cell_type": "code",
   "execution_count": 38,
   "metadata": {
    "ExecuteTime": {
     "end_time": "2018-10-01T17:57:03.337135Z",
     "start_time": "2018-10-01T17:57:03.272135Z"
    }
   },
   "outputs": [],
   "source": [
    "def objective_function(x,rates,tenors):\n",
    "    r0,lambda1,lambda2,sig1,sig2,rho=x_to_params(x)\n",
    "    return errors_30Y_fast(r0,lambda1,lambda2,sig1,sig2,rho,rates.values,tenors)"
   ]
  },
  {
   "cell_type": "code",
   "execution_count": 39,
   "metadata": {
    "ExecuteTime": {
     "end_time": "2018-10-01T17:57:03.362135Z",
     "start_time": "2018-10-01T17:57:03.339135Z"
    }
   },
   "outputs": [
    {
     "data": {
      "text/plain": [
       "(8, 0.5, 0.03333333333333333, 0.02, 0.01, 0)"
      ]
     },
     "execution_count": 39,
     "metadata": {},
     "output_type": "execute_result"
    }
   ],
   "source": [
    "r0,lambda1,lambda2,sig1,sig2,rho"
   ]
  },
  {
   "cell_type": "code",
   "execution_count": 40,
   "metadata": {
    "ExecuteTime": {
     "end_time": "2018-10-01T17:57:03.385135Z",
     "start_time": "2018-10-01T17:57:03.365135Z"
    }
   },
   "outputs": [
    {
     "data": {
      "text/plain": [
       "array([8.        , 0.69314718, 3.40119738, 0.02      , 0.01      ,\n",
       "       0.        ])"
      ]
     },
     "execution_count": 40,
     "metadata": {},
     "output_type": "execute_result"
    }
   ],
   "source": [
    "x0=params_to_x(r0,lambda1,lambda2,sig1,sig2,rho)\n",
    "x0"
   ]
  },
  {
   "cell_type": "code",
   "execution_count": 41,
   "metadata": {
    "ExecuteTime": {
     "end_time": "2018-10-01T17:57:03.408135Z",
     "start_time": "2018-10-01T17:57:03.387135Z"
    }
   },
   "outputs": [
    {
     "data": {
      "text/plain": [
       "(8.0, 0.5, 0.03333333333333333, 0.02, 0.01, 0.0)"
      ]
     },
     "execution_count": 41,
     "metadata": {},
     "output_type": "execute_result"
    }
   ],
   "source": [
    "x_to_params(x0)"
   ]
  },
  {
   "cell_type": "code",
   "execution_count": 42,
   "metadata": {
    "ExecuteTime": {
     "end_time": "2018-10-01T17:57:03.430135Z",
     "start_time": "2018-10-01T17:57:03.411135Z"
    }
   },
   "outputs": [
    {
     "data": {
      "text/plain": [
       "(2728,)"
      ]
     },
     "execution_count": 42,
     "metadata": {},
     "output_type": "execute_result"
    }
   ],
   "source": [
    "errors=objective_function(x0,H15_train,tenors)\n",
    "errors.shape"
   ]
  },
  {
   "cell_type": "markdown",
   "metadata": {},
   "source": [
    "#### Optimal parameters"
   ]
  },
  {
   "cell_type": "code",
   "execution_count": 43,
   "metadata": {
    "ExecuteTime": {
     "end_time": "2018-10-01T17:57:03.479135Z",
     "start_time": "2018-10-01T17:57:03.432135Z"
    }
   },
   "outputs": [
    {
     "data": {
      "text/plain": [
       " active_mask: array([0, 0, 0, 0, 0, 0])\n",
       "        cost: 22.360421441583618\n",
       "         fun: array([-0.10069338, -0.09749177, -0.08426279, ..., -0.08179869,\n",
       "       -0.08362729, -0.07068674])\n",
       "        grad: array([-0.00010857, -0.00012869,  0.00059695, -0.00015257,  0.00704637,\n",
       "        0.00056406])\n",
       "         jac: array([[-0.15471799,  0.0192123 ,  0.7725144 , -0.21742215, 10.04155343,\n",
       "         0.80382552],\n",
       "       [-0.15471799,  0.0173556 ,  0.76702607, -0.21742215, 10.04155343,\n",
       "         0.80382552],\n",
       "       [-0.15471799,  0.015511  ,  0.76689071, -0.21742215, 10.04155343,\n",
       "         0.80382552],\n",
       "       ...,\n",
       "       [-0.15471799, -0.03585962,  0.96996872, -0.21742215, 10.04155343,\n",
       "         0.80382552],\n",
       "       [-0.15471799, -0.04187811,  0.96976904, -0.21742215, 10.04155343,\n",
       "         0.80382552],\n",
       "       [-0.15471799, -0.04061838,  0.974342  , -0.21742215, 10.04155343,\n",
       "         0.80382552]])\n",
       "     message: '`ftol` termination condition is satisfied.'\n",
       "        nfev: 88\n",
       "        njev: None\n",
       "  optimality: 0.007046368103199252\n",
       "      status: 2\n",
       "     success: True\n",
       "           x: array([ 7.98564517e+00,  1.11259618e+00,  3.38077399e+00,  2.02908203e-02,\n",
       "        1.12654139e-01, -6.37277101e-03])"
      ]
     },
     "execution_count": 43,
     "metadata": {},
     "output_type": "execute_result"
    }
   ],
   "source": [
    "fit=scipy.optimize.least_squares(objective_function,x0,method=\"lm\",args=(H15_train,tenors))\n",
    "fit"
   ]
  },
  {
   "cell_type": "code",
   "execution_count": 44,
   "metadata": {
    "ExecuteTime": {
     "end_time": "2018-10-01T17:57:03.486135Z",
     "start_time": "2018-10-01T17:57:03.481135Z"
    }
   },
   "outputs": [
    {
     "data": {
      "text/plain": [
       "(7.985645172656848,\n",
       " 0.3287044775118683,\n",
       " 0.03402111237187884,\n",
       " 0.020290820256976125,\n",
       " 0.11265413878153019,\n",
       " -0.006372684744749233)"
      ]
     },
     "execution_count": 44,
     "metadata": {},
     "output_type": "execute_result"
    }
   ],
   "source": [
    "r0,lambda1,lambda2,sig1,sig2,rho=x_to_params(fit.x)\n",
    "r0,lambda1,lambda2,sig1,sig2,rho"
   ]
  },
  {
   "cell_type": "markdown",
   "metadata": {},
   "source": [
    "### 30Y Treasure Level Mean Squared In Sample Error"
   ]
  },
  {
   "cell_type": "code",
   "execution_count": 45,
   "metadata": {
    "ExecuteTime": {
     "end_time": "2018-10-01T17:57:03.508135Z",
     "start_time": "2018-10-01T17:57:03.489135Z"
    }
   },
   "outputs": [],
   "source": [
    "yc=G2_RateCurve(r0,lambda1,lambda2,sig1,sig2,rho)"
   ]
  },
  {
   "cell_type": "code",
   "execution_count": 46,
   "metadata": {
    "ExecuteTime": {
     "end_time": "2018-10-01T17:57:03.532135Z",
     "start_time": "2018-10-01T17:57:03.510135Z"
    }
   },
   "outputs": [
    {
     "name": "stdout",
     "output_type": "stream",
     "text": [
      "Standard Deviation 30Y Yield 0.833857908538586\n",
      "Standard Error Prediction 0.12803620914257377\n",
      "R2 0.9764233818184898\n"
     ]
    }
   ],
   "source": [
    "train_errors=errors_30Y_fast(r0,lambda1,lambda2,sig1,sig2,rho,H15_train.values,tenors)\n",
    "print(\"Standard Deviation 30Y Yield\",H15_train[\"30Y\"].std())\n",
    "print(\"Standard Error Prediction\",np.sqrt(np.mean(train_errors**2)))\n",
    "print(\"R2\",1-np.mean(train_errors**2)/H15_train[\"30Y\"].var())"
   ]
  },
  {
   "cell_type": "markdown",
   "metadata": {},
   "source": [
    "We have reduded the, in sample error significantly, 97.6% $R^2$."
   ]
  },
  {
   "cell_type": "code",
   "execution_count": 47,
   "metadata": {
    "ExecuteTime": {
     "end_time": "2018-10-01T17:57:03.774135Z",
     "start_time": "2018-10-01T17:57:03.534135Z"
    }
   },
   "outputs": [
    {
     "data": {
      "image/png": "[encoded data removed]",
      "text/plain": [
       "<matplotlib.figure.Figure at 0x7f9328362e48>"
      ]
     },
     "metadata": {},
     "output_type": "display_data"
    }
   ],
   "source": [
    "plt.plot(train_dates,H15_train[\"30Y\"],label=\"Actual 30Y Rate\")\n",
    "plt.plot(train_dates,H15_train[\"30Y\"]-train_errors,label=\"Predicted 3OY Rate\")\n",
    "plt.legend()\n",
    "plt.title(\"In Sample Actual vs Predicted 30Y Yield\")\n",
    "plt.ylabel(\"Date\")\n",
    "plt.ylabel(\"30Y Yield\")\n",
    "ax=plt.gca()\n",
    "fig=plt.gcf()\n",
    "ax.xaxis_date()\n",
    "fig.autofmt_xdate()"
   ]
  },
  {
   "cell_type": "markdown",
   "metadata": {},
   "source": [
    "The curve fits for each particular date also look much better, and extrapolate to the 30Y much better."
   ]
  },
  {
   "cell_type": "code",
   "execution_count": 48,
   "metadata": {
    "ExecuteTime": {
     "end_time": "2018-10-01T17:57:04.489135Z",
     "start_time": "2018-10-01T17:57:03.776135Z"
    }
   },
   "outputs": [
    {
     "data": {
      "image/png": "[encoded data removed]",
      "text/plain": [
       "<matplotlib.figure.Figure at 0x7f931d372320>"
      ]
     },
     "metadata": {},
     "output_type": "display_data"
    }
   ],
   "source": [
    "delta=251*2\n",
    "plt.figure(figsize=(12,32))\n",
    "ax1 = plt.subplot(2,3,1)\n",
    "for i in range(6):\n",
    "    R=H15_train.iloc[delta*i]\n",
    "    r=fit_curve(yc,tenors[:-1],R[:-1])\n",
    "    R_g2=yc.R(tenors,r)\n",
    "    plt.subplot(6, 3, i+1,sharex=ax1,sharey=ax1)\n",
    "    plt.ylabel(\"yield\")\n",
    "    plt.xlabel(\"T (years)\")\n",
    "    date=H15_train.index[delta*i].date()\n",
    "    plt.title(date)\n",
    "    plt.plot(tenors,R,label=\"H15\")\n",
    "    plt.plot(tenors,R_g2,label=\"G2\")\n",
    "    plt.legend()"
   ]
  },
  {
   "cell_type": "markdown",
   "metadata": {},
   "source": [
    "The error plots, however, still look **auto-correlated**.\n",
    "\n",
    "Errors from different samples are not independent from each other (as we assumed). This usually means trouble for **generalization**."
   ]
  },
  {
   "cell_type": "code",
   "execution_count": 49,
   "metadata": {
    "ExecuteTime": {
     "end_time": "2018-10-01T17:57:05.154135Z",
     "start_time": "2018-10-01T17:57:04.491135Z"
    }
   },
   "outputs": [
    {
     "data": {
      "text/plain": [
       "Text(0.5,0,'date')"
      ]
     },
     "execution_count": 49,
     "metadata": {},
     "output_type": "execute_result"
    },
    {
     "data": {
      "image/png": "[encoded data removed]",
      "text/plain": [
       "<matplotlib.figure.Figure at 0x7f931d3aeda0>"
      ]
     },
     "metadata": {},
     "output_type": "display_data"
    }
   ],
   "source": [
    "plt.plot(train_dates,train_errors)\n",
    "plt.title(\"Training Sample Residual\")\n",
    "plt.title(\"Test Date\")\n",
    "plt.title(\"30Y Rate Difference\")\n",
    "plt.ylabel(\"$R(T)-R_{G2++}(T)$\")\n",
    "plt.xlabel(\"date\")"
   ]
  },
  {
   "cell_type": "markdown",
   "metadata": {},
   "source": [
    "#### Auto Correlation Function\n",
    "\n",
    "The auto-correlation graph shows very significant auto-correlation between different samples\n",
    "$$\n",
    "   \\gamma(h)=\\frac{ E( e_t e_{t+h} ) }{E(e_t e_t)}\n",
    "$$\n",
    "where\n",
    "$$\n",
    "    e_t = R(T)_t - R_{G2++}(T)_t\n",
    "$$\n",
    "that should be zero for $h\\ne0$."
   ]
  },
  {
   "cell_type": "code",
   "execution_count": 50,
   "metadata": {
    "ExecuteTime": {
     "end_time": "2018-10-01T17:57:05.282135Z",
     "start_time": "2018-10-01T17:57:05.156135Z"
    }
   },
   "outputs": [
    {
     "data": {
      "image/png": "[encoded data removed]",
      "text/plain": [
       "<matplotlib.figure.Figure at 0x7f931d453400>"
      ]
     },
     "metadata": {},
     "output_type": "display_data"
    }
   ],
   "source": [
    " a=statsmodels.graphics.tsaplots.plot_acf(train_errors,lags=50)"
   ]
  },
  {
   "cell_type": "markdown",
   "metadata": {},
   "source": [
    "### Test Error on Levels"
   ]
  },
  {
   "cell_type": "code",
   "execution_count": 51,
   "metadata": {
    "ExecuteTime": {
     "end_time": "2018-10-01T17:57:05.294135Z",
     "start_time": "2018-10-01T17:57:05.284135Z"
    }
   },
   "outputs": [
    {
     "name": "stdout",
     "output_type": "stream",
     "text": [
      "Standard Deviation 30Y Yield 0.13279348351352924\n",
      "Error Prediction squared 0.1261458602887342\n",
      "R2 0.07036581170642442\n"
     ]
    }
   ],
   "source": [
    "test_errors=errors_30Y_fast(r0,lambda1,lambda2,sig1,sig2,rho,H15_test.values,tenors)\n",
    "print(\"Standard Deviation 30Y Yield\",H15_test[\"30Y\"].std())\n",
    "print(\"Error Prediction squared\",np.sqrt(np.mean(test_errors**2)))\n",
    "print(\"R2\",1-np.mean(train_errors**2)/H15_test[\"30Y\"].var())"
   ]
  },
  {
   "cell_type": "markdown",
   "metadata": {},
   "source": [
    "We only achieve explain  7% of the variation on $R^2$, this is because the average error is non-zero. \n",
    "There is **bias** on the test sample predictions."
   ]
  },
  {
   "cell_type": "code",
   "execution_count": 52,
   "metadata": {
    "ExecuteTime": {
     "end_time": "2018-10-01T17:57:05.544135Z",
     "start_time": "2018-10-01T17:57:05.296135Z"
    }
   },
   "outputs": [
    {
     "data": {
      "image/png": "[encoded data removed]",
      "text/plain": [
       "<matplotlib.figure.Figure at 0x7f931d4227f0>"
      ]
     },
     "metadata": {},
     "output_type": "display_data"
    }
   ],
   "source": [
    "plt.plot(test_dates,H15_test[\"30Y\"],label=\"Actual 30Y Rate\")\n",
    "plt.plot(test_dates,H15_test[\"30Y\"]-test_errors,label=\"Predicted 3OY Rate\")\n",
    "plt.legend()\n",
    "plt.title(\"Out of Sample Actual vs Predicted 30Y Yield\")\n",
    "plt.ylabel(\"Date\")\n",
    "plt.ylabel(\"30Y Yield\")\n",
    "ax=plt.gca()\n",
    "fig=plt.gcf()\n",
    "ax.xaxis_date()\n",
    "fig.autofmt_xdate()"
   ]
  },
  {
   "cell_type": "markdown",
   "metadata": {},
   "source": [
    "Average error does not look too large"
   ]
  },
  {
   "cell_type": "code",
   "execution_count": 53,
   "metadata": {
    "ExecuteTime": {
     "end_time": "2018-10-01T17:57:05.733135Z",
     "start_time": "2018-10-01T17:57:05.546135Z"
    }
   },
   "outputs": [
    {
     "data": {
      "text/plain": [
       "Text(0.5,1,'30Y Rate Difference')"
      ]
     },
     "execution_count": 53,
     "metadata": {},
     "output_type": "execute_result"
    },
    {
     "data": {
      "image/png": "[encoded data removed]",
      "text/plain": [
       "<matplotlib.figure.Figure at 0x7f931d3f88d0>"
      ]
     },
     "metadata": {},
     "output_type": "display_data"
    }
   ],
   "source": [
    "test_dates=H15_test.index\n",
    "fig, ax = plt.subplots()\n",
    "plt.plot(test_dates,test_errors)\n",
    "\n",
    "# Tell matplotlib to interpret the x-axis values as dates\n",
    "ax.xaxis_date()\n",
    "\n",
    "# Make space for and rotate the x-axis tick labels\n",
    "fig.autofmt_xdate()\n",
    "plt.title(\"Out of Sample Residual\")\n",
    "plt.title(\"Test Date\")\n",
    "plt.title(\"30Y Rate Difference\")"
   ]
  },
  {
   "cell_type": "markdown",
   "metadata": {},
   "source": [
    "But the residuals are very **biased**, the expected value of the error is not zero.\n",
    "\n",
    "We can see that the G2 model curve always overerstimates the 30Y rate."
   ]
  },
  {
   "cell_type": "raw",
   "metadata": {},
   "source": [
    "yc.rate(tenors,r)"
   ]
  },
  {
   "cell_type": "code",
   "execution_count": 54,
   "metadata": {
    "ExecuteTime": {
     "end_time": "2018-10-01T17:57:06.504135Z",
     "start_time": "2018-10-01T17:57:05.735135Z"
    }
   },
   "outputs": [
    {
     "data": {
      "image/png": "[encoded data removed]",
      "text/plain": [
       "<matplotlib.figure.Figure at 0x7f931cf9e550>"
      ]
     },
     "metadata": {},
     "output_type": "display_data"
    }
   ],
   "source": [
    "delta=70\n",
    "plt.figure(figsize=(12,32))\n",
    "ax1 = plt.subplot(2,3,1)\n",
    "for i in range(6):\n",
    "    R=H15_test.iloc[delta*i]\n",
    "    r=fit_curve(yc,tenors[:-1],R[:-1])\n",
    "    R_g2=yc.R(tenors,r)\n",
    "    plt.subplot(6, 3, i+1,sharex=ax1,sharey=ax1)\n",
    "    plt.ylabel(\"yield\")\n",
    "    plt.xlabel(\"T (years)\")\n",
    "    date=H15_test.index[delta*i].date()\n",
    "    plt.title(date)\n",
    "    plt.plot(tenors,R,label=\"H15\")\n",
    "    plt.plot(tenors,R_g2,label=\"G2\")\n",
    "    plt.legend()"
   ]
  },
  {
   "cell_type": "markdown",
   "metadata": {},
   "source": [
    "## Prediction of 30Y Rate Changes\n",
    "\n",
    "A standard trick when levels of a variable show high auto-correlation is to perform regression\n",
    "on **changes of the variable**\n",
    "\n",
    "Because the $R_{G2=+}(T)$ model is **linear on rates** we can first compute rate changes and them optimize."
   ]
  },
  {
   "cell_type": "code",
   "execution_count": 55,
   "metadata": {
    "ExecuteTime": {
     "end_time": "2018-10-01T17:57:06.521135Z",
     "start_time": "2018-10-01T17:57:06.506135Z"
    }
   },
   "outputs": [
    {
     "data": {
      "text/html": [
       "<div>\n",
       "<style scoped>\n",
       "    .dataframe tbody tr th:only-of-type {\n",
       "        vertical-align: middle;\n",
       "    }\n",
       "\n",
       "    .dataframe tbody tr th {\n",
       "        vertical-align: top;\n",
       "    }\n",
       "\n",
       "    .dataframe thead th {\n",
       "        text-align: right;\n",
       "    }\n",
       "</style>\n",
       "<table border=\"1\" class=\"dataframe\">\n",
       "  <thead>\n",
       "    <tr style=\"text-align: right;\">\n",
       "      <th></th>\n",
       "      <th>3M</th>\n",
       "      <th>6M</th>\n",
       "      <th>1Y</th>\n",
       "      <th>2Y</th>\n",
       "      <th>3Y</th>\n",
       "      <th>5Y</th>\n",
       "      <th>7Y</th>\n",
       "      <th>10Y</th>\n",
       "      <th>20Y</th>\n",
       "      <th>30Y</th>\n",
       "    </tr>\n",
       "    <tr>\n",
       "      <th>DATE</th>\n",
       "      <th></th>\n",
       "      <th></th>\n",
       "      <th></th>\n",
       "      <th></th>\n",
       "      <th></th>\n",
       "      <th></th>\n",
       "      <th></th>\n",
       "      <th></th>\n",
       "      <th></th>\n",
       "      <th></th>\n",
       "    </tr>\n",
       "  </thead>\n",
       "  <tbody>\n",
       "    <tr>\n",
       "      <th>2006-02-10</th>\n",
       "      <td>-0.01</td>\n",
       "      <td>-0.03</td>\n",
       "      <td>-0.04</td>\n",
       "      <td>-0.03</td>\n",
       "      <td>-0.05</td>\n",
       "      <td>-0.04</td>\n",
       "      <td>-0.04</td>\n",
       "      <td>-0.05</td>\n",
       "      <td>-0.04</td>\n",
       "      <td>-0.04</td>\n",
       "    </tr>\n",
       "    <tr>\n",
       "      <th>2006-02-13</th>\n",
       "      <td>-0.02</td>\n",
       "      <td>-0.01</td>\n",
       "      <td>0.00</td>\n",
       "      <td>0.01</td>\n",
       "      <td>0.01</td>\n",
       "      <td>0.01</td>\n",
       "      <td>0.01</td>\n",
       "      <td>0.01</td>\n",
       "      <td>0.00</td>\n",
       "      <td>-0.01</td>\n",
       "    </tr>\n",
       "    <tr>\n",
       "      <th>2006-02-14</th>\n",
       "      <td>0.00</td>\n",
       "      <td>-0.01</td>\n",
       "      <td>-0.01</td>\n",
       "      <td>-0.01</td>\n",
       "      <td>-0.02</td>\n",
       "      <td>-0.03</td>\n",
       "      <td>-0.03</td>\n",
       "      <td>-0.04</td>\n",
       "      <td>-0.04</td>\n",
       "      <td>-0.04</td>\n",
       "    </tr>\n",
       "    <tr>\n",
       "      <th>2006-02-15</th>\n",
       "      <td>0.00</td>\n",
       "      <td>0.02</td>\n",
       "      <td>0.01</td>\n",
       "      <td>-0.02</td>\n",
       "      <td>0.00</td>\n",
       "      <td>0.01</td>\n",
       "      <td>0.01</td>\n",
       "      <td>0.01</td>\n",
       "      <td>0.02</td>\n",
       "      <td>0.02</td>\n",
       "    </tr>\n",
       "    <tr>\n",
       "      <th>2006-02-16</th>\n",
       "      <td>0.00</td>\n",
       "      <td>0.01</td>\n",
       "      <td>0.01</td>\n",
       "      <td>0.02</td>\n",
       "      <td>0.01</td>\n",
       "      <td>0.01</td>\n",
       "      <td>0.01</td>\n",
       "      <td>0.02</td>\n",
       "      <td>0.01</td>\n",
       "      <td>0.01</td>\n",
       "    </tr>\n",
       "  </tbody>\n",
       "</table>\n",
       "</div>"
      ],
      "text/plain": [
       "              3M    6M    1Y    2Y    3Y    5Y    7Y   10Y   20Y   30Y\n",
       "DATE                                                                  \n",
       "2006-02-10 -0.01 -0.03 -0.04 -0.03 -0.05 -0.04 -0.04 -0.05 -0.04 -0.04\n",
       "2006-02-13 -0.02 -0.01  0.00  0.01  0.01  0.01  0.01  0.01  0.00 -0.01\n",
       "2006-02-14  0.00 -0.01 -0.01 -0.01 -0.02 -0.03 -0.03 -0.04 -0.04 -0.04\n",
       "2006-02-15  0.00  0.02  0.01 -0.02  0.00  0.01  0.01  0.01  0.02  0.02\n",
       "2006-02-16  0.00  0.01  0.01  0.02  0.01  0.01  0.01  0.02  0.01  0.01"
      ]
     },
     "execution_count": 55,
     "metadata": {},
     "output_type": "execute_result"
    }
   ],
   "source": [
    "dH=(H15.shift()-H15).dropna()\n",
    "dH.head()"
   ]
  },
  {
   "cell_type": "markdown",
   "metadata": {},
   "source": [
    "#### Separate Changes into test and train period"
   ]
  },
  {
   "cell_type": "code",
   "execution_count": 56,
   "metadata": {
    "ExecuteTime": {
     "end_time": "2018-10-01T17:57:06.542135Z",
     "start_time": "2018-10-01T17:57:06.523135Z"
    }
   },
   "outputs": [
    {
     "data": {
      "text/plain": [
       "(3148, 2727, 421)"
      ]
     },
     "execution_count": 56,
     "metadata": {},
     "output_type": "execute_result"
    }
   ],
   "source": [
    "dH_train=dH[:test_period]\n",
    "dH_test=dH[test_period:]\n",
    "dtrain_dates=dH_train.index\n",
    "dtest_dates=dH_test.index\n",
    "len(dH),len(dH_train),len(dH_test)"
   ]
  },
  {
   "cell_type": "markdown",
   "metadata": {},
   "source": [
    "#### Optimize model on changes"
   ]
  },
  {
   "cell_type": "code",
   "execution_count": 57,
   "metadata": {
    "ExecuteTime": {
     "end_time": "2018-10-01T17:57:06.688135Z",
     "start_time": "2018-10-01T17:57:06.545135Z"
    }
   },
   "outputs": [
    {
     "data": {
      "text/plain": [
       " active_mask: array([0, 0, 0, 0, 0, 0])\n",
       "        cost: 0.17534007152516995\n",
       "         fun: array([-0.00347377, -0.01144281, -0.00088135, ..., -0.00092497,\n",
       "        0.00720403, -0.01228636])\n",
       "        grad: array([ 2.11391074e-05, -1.01518447e-04, -3.17911528e-04, -7.31709175e-04,\n",
       "       -1.31419081e-03, -7.78012446e-04])\n",
       "         jac: array([[-0.1494973 ,  0.69519243,  2.28028047,  5.17469919,  9.29404554,\n",
       "         5.50215734],\n",
       "       [-0.1494973 ,  0.69336179,  2.27713691,  5.17469919,  9.29404554,\n",
       "         5.50215734],\n",
       "       [-0.1494973 ,  0.69794527,  2.28233013,  5.17469919,  9.29404554,\n",
       "         5.50215734],\n",
       "       ...,\n",
       "       [-0.1494973 ,  0.68557509,  2.26922206,  5.17469919,  9.29404554,\n",
       "         5.50215734],\n",
       "       [-0.1494973 ,  0.69609375,  2.27887933,  5.17469919,  9.29404554,\n",
       "         5.50215734],\n",
       "       [-0.1494973 ,  0.68928941,  2.27277636,  5.17469919,  9.29404554,\n",
       "         5.50215734]])\n",
       "     message: '`ftol` termination condition is satisfied.'\n",
       "        nfev: 371\n",
       "        njev: None\n",
       "  optimality: 0.0013141908137632718\n",
       "      status: 2\n",
       "     success: True\n",
       "           x: array([7.9873903 , 2.28405984, 2.71672   , 0.04008028, 0.234636  ,\n",
       "       0.03249866])"
      ]
     },
     "execution_count": 57,
     "metadata": {},
     "output_type": "execute_result"
    }
   ],
   "source": [
    "fit=scipy.optimize.least_squares(objective_function,x0,method=\"lm\",args=(dH_train,tenors))\n",
    "fit"
   ]
  },
  {
   "cell_type": "code",
   "execution_count": 58,
   "metadata": {
    "ExecuteTime": {
     "end_time": "2018-10-01T17:57:06.694135Z",
     "start_time": "2018-10-01T17:57:06.690135Z"
    }
   },
   "outputs": [
    {
     "data": {
      "text/plain": [
       "(7.987390300065242,\n",
       " 0.10186979098727621,\n",
       " 0.06609117826298322,\n",
       " 0.040080283613088054,\n",
       " 0.23463600214570104,\n",
       " 0.03248722510028584)"
      ]
     },
     "execution_count": 58,
     "metadata": {},
     "output_type": "execute_result"
    }
   ],
   "source": [
    "r0,lambda1,lambda2,sig1,sig2,rho=x_to_params(fit.x)\n",
    "r0,lambda1,lambda2,sig1,sig2,rho"
   ]
  },
  {
   "cell_type": "markdown",
   "metadata": {},
   "source": [
    "#### In Sample Error\n",
    "\n",
    "Model explains 96% of variance of 30Y rate in sample (in the training set)"
   ]
  },
  {
   "cell_type": "code",
   "execution_count": 59,
   "metadata": {
    "ExecuteTime": {
     "end_time": "2018-10-01T17:57:08.075135Z",
     "start_time": "2018-10-01T17:57:06.696135Z"
    }
   },
   "outputs": [
    {
     "name": "stdout",
     "output_type": "stream",
     "text": [
      "Sdt Error 30Y Rate 0.0566828424463353\n",
      "Std Error 30Y Residual 0.01133999905980282\n",
      "In Sample R2 0.9599757874555904\n"
     ]
    }
   ],
   "source": [
    "dtrain_errors=errors_30Y(r0,lambda1,lambda2,sig1,sig2,rho,dH_train,tenors)\n",
    "err_val=np.mean(dtrain_errors**2)\n",
    "drate_val=np.mean(dH_train[\"30Y\"]**2)\n",
    "print(\"Sdt Error 30Y Rate\",np.sqrt(drate_val))\n",
    "print(\"Std Error 30Y Residual\",np.sqrt(err_val))\n",
    "print(\"In Sample R2\",1-err_val/drate_val)"
   ]
  },
  {
   "cell_type": "markdown",
   "metadata": {},
   "source": [
    "Errors are now clearly uncorrelated.\n",
    "\n",
    "We see a bit of **clustering** of variante, may be we discuss this some other time.\n"
   ]
  },
  {
   "cell_type": "code",
   "execution_count": 60,
   "metadata": {
    "ExecuteTime": {
     "end_time": "2018-10-01T17:57:08.245135Z",
     "start_time": "2018-10-01T17:57:08.077135Z"
    }
   },
   "outputs": [
    {
     "data": {
      "text/plain": [
       "Text(0.5,1,'30Y Rate Difference')"
      ]
     },
     "execution_count": 60,
     "metadata": {},
     "output_type": "execute_result"
    },
    {
     "data": {
      "image/png": "[encoded data removed]",
      "text/plain": [
       "<matplotlib.figure.Figure at 0x7f931cffcfd0>"
      ]
     },
     "metadata": {},
     "output_type": "display_data"
    }
   ],
   "source": [
    "plt.plot(dtrain_dates,dtrain_errors)\n",
    "plt.title(\"Training Sample Residual\")\n",
    "plt.title(\"Test Date\")\n",
    "plt.title(\"30Y Rate Difference\")"
   ]
  },
  {
   "cell_type": "markdown",
   "metadata": {},
   "source": [
    "Auto correlation function is know constistend with independence of residuals"
   ]
  },
  {
   "cell_type": "code",
   "execution_count": 61,
   "metadata": {
    "ExecuteTime": {
     "end_time": "2018-10-01T17:57:08.373135Z",
     "start_time": "2018-10-01T17:57:08.247135Z"
    }
   },
   "outputs": [
    {
     "data": {
      "image/png": "[encoded data removed]",
      "text/plain": [
       "<matplotlib.figure.Figure at 0x7f931d4d1940>"
      ]
     },
     "metadata": {},
     "output_type": "display_data"
    }
   ],
   "source": [
    "dtrain_errors=train_errors[:-1]-train_errors[1:]\n",
    "a=statsmodels.graphics.tsaplots.plot_acf(dtrain_errors,lags=50)"
   ]
  },
  {
   "cell_type": "markdown",
   "metadata": {},
   "source": [
    "#### Test sample error\n",
    "\n",
    "Out of sample we still explain 94% of variance"
   ]
  },
  {
   "cell_type": "code",
   "execution_count": 62,
   "metadata": {
    "ExecuteTime": {
     "end_time": "2018-10-01T17:57:08.600135Z",
     "start_time": "2018-10-01T17:57:08.376135Z"
    }
   },
   "outputs": [
    {
     "data": {
      "text/plain": [
       "(0.008538758551476637, 0.03403226078806391, 0.9370482416124387)"
      ]
     },
     "execution_count": 62,
     "metadata": {},
     "output_type": "execute_result"
    }
   ],
   "source": [
    "dtest_errors=errors_30Y(r0,lambda1,lambda2,sig1,sig2,rho,dH_test,tenors)\n",
    "err_test=np.mean(dtest_errors**2)\n",
    "drate_test=np.mean(dH_test[\"30Y\"]**2)\n",
    "np.sqrt(err_test),np.sqrt(drate_test),1-err_test/drate_test"
   ]
  },
  {
   "cell_type": "markdown",
   "metadata": {},
   "source": [
    "### Simplification of G2 model for Changes on Rates\n",
    "\n",
    "Note that, in the G2++ model, the rate curve shape has form\n",
    "$$\n",
    "    R_{G2++}(T)_t = R^0(T;r_0,\\lambda_1,\\lambda_2,\\sigma_1,\\sigma_2,\\rho)+ \\frac{D(T;\\lambda_1)}{T}r_{t,2} + \\frac{D(T;\\lambda_2)}{T}r_{t,2}\n",
    "$$\n",
    "so that the change\n",
    "\n",
    "$$\n",
    "    \\Delta R_{G2++}(T)_t = \n",
    "       R_{G2++}(T)_{t+1}-R_{G2++}(T)_{t}\n",
    "       =  \\frac{D(T;\\lambda_1)}{T}\\Delta r_{t,2} + \\frac{D(T;\\lambda_2)}{T}\\Delta r_{t,2}\n",
    "$$\n",
    "with\n",
    "$$\n",
    "    \\Delta r_{t,d} = r_{t+1,d}-r_{t,d}\n",
    "$$\n",
    "so that, for a model on changes parameters $r_0,\\sigma_1,\\sigma_2$ and $\\rho$ do not appear on the model and we only\n",
    "need to fit on $\\lambda_1$ and $\\lambda_2$\n",
    "\n",
    "Therefore, the model for prediction 30Y rate  changes is simplified significantly:"
   ]
  },
  {
   "cell_type": "code",
   "execution_count": 63,
   "metadata": {
    "ExecuteTime": {
     "end_time": "2018-10-01T17:57:08.605135Z",
     "start_time": "2018-10-01T17:57:08.602135Z"
    }
   },
   "outputs": [],
   "source": [
    "class G2_FactorModel:\n",
    "    def __init__(self,lambda1,lambda2):\n",
    "        self.lambda1=lambda1\n",
    "        self.lambda2=lambda2\n",
    "    def D1(self,t):\n",
    "        return (1-np.exp(-self.lambda1*t))/self.lambda1\n",
    "    def D2(self,t):\n",
    "        return (1-np.exp(-self.lambda2*t))/self.lambda2\n",
    "    def H(self,t,r):\n",
    "        return self.D1(t)/t*r[0]+self.D2(t)/t*r[1]"
   ]
  },
  {
   "cell_type": "code",
   "execution_count": 64,
   "metadata": {
    "ExecuteTime": {
     "end_time": "2018-10-01T17:57:08.628135Z",
     "start_time": "2018-10-01T17:57:08.608135Z"
    }
   },
   "outputs": [],
   "source": [
    "def errors_30Y_factors(lambda1,lambda2,dRates,tenors):\n",
    "    yc=G2_FactorModel(lambda1,lambda2)\n",
    "    T=tenors[:-1]\n",
    "    x=dRates[:,:-1]\n",
    "    W=np.diag(T)\n",
    "    H=np.c_[yc.D1(T)/T,yc.D2(T)/T]\n",
    "    N=np.dot(H.T,np.dot(W,H))\n",
    "    Ninv=np.linalg.inv(N)\n",
    "    P=np.dot(Ninv,np.dot(H.T,W))\n",
    "    T30=tenors[-1]\n",
    "    H30=np.array([yc.D1(T30)/T30,yc.D2(T30)/T30])\n",
    "    r=np.dot(x,P.T)\n",
    "    E=dRates[:,-1]-np.dot(r,H30)\n",
    "    return E\n",
    "    "
   ]
  },
  {
   "cell_type": "code",
   "execution_count": 65,
   "metadata": {
    "ExecuteTime": {
     "end_time": "2018-10-01T17:57:08.649135Z",
     "start_time": "2018-10-01T17:57:08.630135Z"
    }
   },
   "outputs": [],
   "source": [
    "def x_to_factors(x):\n",
    "    r0=x[0]\n",
    "    lambda1=np.exp(-x[0]) # [ 0, infinity]\n",
    "    lambda2=np.exp(-x[1]) # [0,  infinity]\n",
    "    return lambda1,lambda2"
   ]
  },
  {
   "cell_type": "code",
   "execution_count": 66,
   "metadata": {
    "ExecuteTime": {
     "end_time": "2018-10-01T17:57:08.671135Z",
     "start_time": "2018-10-01T17:57:08.651135Z"
    }
   },
   "outputs": [],
   "source": [
    "def factors_to_x(lambda1,lambda2):\n",
    "    x=np.empty((2,))\n",
    "    x[0]=-np.log(lambda1)\n",
    "    x[1]=-np.log(lambda2)\n",
    "    return x"
   ]
  },
  {
   "cell_type": "code",
   "execution_count": 67,
   "metadata": {
    "ExecuteTime": {
     "end_time": "2018-10-01T17:57:08.694135Z",
     "start_time": "2018-10-01T17:57:08.674135Z"
    }
   },
   "outputs": [],
   "source": [
    "def factor_function(x,rates,tenors):\n",
    "    lambda1,lambda2=x_to_factors(x)\n",
    "    return errors_30Y_factors(lambda1,lambda2,rates.values,tenors)"
   ]
  },
  {
   "cell_type": "code",
   "execution_count": 68,
   "metadata": {
    "ExecuteTime": {
     "end_time": "2018-10-01T17:57:08.720135Z",
     "start_time": "2018-10-01T17:57:08.696135Z"
    }
   },
   "outputs": [
    {
     "data": {
      "text/plain": [
       "array([4.60517019, 0.69314718])"
      ]
     },
     "execution_count": 68,
     "metadata": {},
     "output_type": "execute_result"
    }
   ],
   "source": [
    "lambda1=0.01\n",
    "lambda2=0.5\n",
    "x0=factors_to_x(lambda1,lambda2)\n",
    "x0"
   ]
  },
  {
   "cell_type": "code",
   "execution_count": 69,
   "metadata": {
    "ExecuteTime": {
     "end_time": "2018-10-01T17:57:08.747135Z",
     "start_time": "2018-10-01T17:57:08.722135Z"
    }
   },
   "outputs": [
    {
     "data": {
      "text/plain": [
       " active_mask: array([0, 0])\n",
       "        cost: 0.17534152257292196\n",
       "         fun: array([-0.00344188, -0.01140961, -0.0008488 , ..., -0.00089156,\n",
       "        0.00723816, -0.01225284])\n",
       "        grad: array([7.51990880e-08, 8.36155072e-08])\n",
       "         jac: array([[ 0.00427456,  0.00348812],\n",
       "       [ 0.00113335,  0.00165411],\n",
       "       [ 0.00632589,  0.00623957],\n",
       "       ...,\n",
       "       [-0.00678211, -0.00613375],\n",
       "       [ 0.00287795,  0.0043839 ],\n",
       "       [-0.00322709, -0.00241942]])\n",
       "     message: '`ftol` termination condition is satisfied.'\n",
       "        nfev: 19\n",
       "        njev: None\n",
       "  optimality: 8.361550720044353e-08\n",
       "      status: 2\n",
       "     success: True\n",
       "           x: array([2.71574041, 2.2850279 ])"
      ]
     },
     "execution_count": 69,
     "metadata": {},
     "output_type": "execute_result"
    }
   ],
   "source": [
    "fit=scipy.optimize.least_squares(factor_function,x0,method=\"lm\",args=(dH_train,tenors))\n",
    "fit"
   ]
  },
  {
   "cell_type": "code",
   "execution_count": 70,
   "metadata": {
    "ExecuteTime": {
     "end_time": "2018-10-01T17:57:08.764135Z",
     "start_time": "2018-10-01T17:57:08.749135Z"
    }
   },
   "outputs": [
    {
     "name": "stdout",
     "output_type": "stream",
     "text": [
      "0.06615595215831892 0.10177122253315299\n"
     ]
    }
   ],
   "source": [
    "lambda1,lambda2=x_to_factors(fit.x)\n",
    "print(lambda1,lambda2)"
   ]
  },
  {
   "cell_type": "markdown",
   "metadata": {},
   "source": [
    "Results are equivalent to fitting the full model."
   ]
  },
  {
   "cell_type": "code",
   "execution_count": null,
   "metadata": {},
   "outputs": [],
   "source": []
  },
  {
   "cell_type": "code",
   "execution_count": null,
   "metadata": {},
   "outputs": [],
   "source": []
  }
 ],
 "metadata": {
  "kernelspec": {
   "display_name": "Python 3",
   "language": "python",
   "name": "python3"
  },
  "language_info": {
   "codemirror_mode": {
    "name": "ipython",
    "version": 3
   },
   "file_extension": ".py",
   "mimetype": "text/x-python",
   "name": "python",
   "nbconvert_exporter": "python",
   "pygments_lexer": "ipython3",
   "version": "3.6.4"
  },
  "toc": {
   "base_numbering": 1,
   "nav_menu": {},
   "number_sections": true,
   "sideBar": true,
   "skip_h1_title": false,
   "title_cell": "Table of Contents",
   "title_sidebar": "Contents",
   "toc_cell": false,
   "toc_position": {},
   "toc_section_display": true,
   "toc_window_display": true
  }
 },
 "nbformat": 4,
 "nbformat_minor": 2
}
