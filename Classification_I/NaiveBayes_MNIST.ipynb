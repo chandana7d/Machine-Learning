{
 "cells": [
  {
   "cell_type": "markdown",
   "metadata": {},
   "source": [
    "# Naive Bayes for Image Data"
   ]
  },
  {
   "cell_type": "markdown",
   "metadata": {},
   "source": [
    "## Preliminaries"
   ]
  },
  {
   "cell_type": "markdown",
   "metadata": {},
   "source": [
    "### Imports"
   ]
  },
  {
   "cell_type": "code",
   "execution_count": 1,
   "metadata": {
    "ExecuteTime": {
     "end_time": "2019-02-15T02:39:37.935420Z",
     "start_time": "2019-02-15T02:39:36.597997Z"
    }
   },
   "outputs": [],
   "source": [
    "\n",
    "import numpy as np\n",
    "import matplotlib.pyplot as plt\n",
    "from sklearn import metrics\n",
    "from sklearn.naive_bayes import GaussianNB,BernoulliNB\n",
    "\n",
    "from scipy import ndimage\n",
    "\n",
    "%matplotlib inline\n",
    "import gzip\n",
    "\n",
    "import sys\n",
    "sys.path.append(\"../..\")\n",
    "from E4525_ML import mnist\n",
    "from E4525_ML import plots"
   ]
  },
  {
   "cell_type": "markdown",
   "metadata": {},
   "source": [
    "### Data"
   ]
  },
  {
   "cell_type": "code",
   "execution_count": 2,
   "metadata": {
    "ExecuteTime": {
     "end_time": "2019-02-15T02:39:37.940415Z",
     "start_time": "2019-02-15T02:39:37.937415Z"
    }
   },
   "outputs": [],
   "source": [
    "data_dir=r\"../../raw/MNIST/\""
   ]
  },
  {
   "cell_type": "code",
   "execution_count": 3,
   "metadata": {
    "ExecuteTime": {
     "end_time": "2019-02-15T02:39:38.752237Z",
     "start_time": "2019-02-15T02:39:37.943400Z"
    }
   },
   "outputs": [
    {
     "name": "stdout",
     "output_type": "stream",
     "text": [
      "(60000, 28, 28) (60000,)\n"
     ]
    }
   ],
   "source": [
    "    images_filename=data_dir+\"train-images-idx3-ubyte.gz\"\n",
    "    labels_filename=data_dir+\"train-labels-idx1-ubyte.gz\"\n",
    "\n",
    "    test_images_filename=data_dir+\"t10k-images-idx3-ubyte.gz\"\n",
    "    test_labels_filename=data_dir+\"t10k-labels-idx1-ubyte.gz\"\n",
    "\n",
    "    images=mnist.read_images(images_filename)\n",
    "    X=images\n",
    "    Y=mnist.read_labels(labels_filename)\n",
    "    \n",
    "    print(X.shape,Y.shape)"
   ]
  },
  {
   "cell_type": "code",
   "execution_count": 4,
   "metadata": {
    "ExecuteTime": {
     "end_time": "2019-02-15T02:39:38.761212Z",
     "start_time": "2019-02-15T02:39:38.754232Z"
    }
   },
   "outputs": [
    {
     "name": "stdout",
     "output_type": "stream",
     "text": [
      "60000 28 28\n"
     ]
    }
   ],
   "source": [
    "nimages=X.shape[0]\n",
    "nrows=X.shape[1]\n",
    "ncols=X.shape[2]\n",
    "print(nimages,nrows,ncols)"
   ]
  },
  {
   "cell_type": "code",
   "execution_count": 5,
   "metadata": {
    "ExecuteTime": {
     "end_time": "2019-02-15T02:39:39.022515Z",
     "start_time": "2019-02-15T02:39:38.763207Z"
    },
    "scrolled": false
   },
   "outputs": [
    {
     "data": {
      "text/plain": [
       "<matplotlib.image.AxesImage at 0x17a80027dd8>"
      ]
     },
     "execution_count": 5,
     "metadata": {},
     "output_type": "execute_result"
    },
    {
     "data": {
      "image/png": "[encoded data removed]",
      "text/plain": [
       "<Figure size 432x288 with 1 Axes>"
      ]
     },
     "metadata": {},
     "output_type": "display_data"
    }
   ],
   "source": [
    "label=int(Y[1])\n",
    "plt.title('Digit {0}'.format(label))\n",
    "plt.imshow(X[1], cmap='gray')"
   ]
  },
  {
   "cell_type": "markdown",
   "metadata": {},
   "source": [
    "##  Gaussian Naive Bayes Classifier"
   ]
  },
  {
   "cell_type": "markdown",
   "metadata": {},
   "source": [
    "As usual for $(R,C)$ greay scale images we linearize to that \n",
    "$$\n",
    "    X_{i,r*C+c} = F_{i,r,c}\n",
    "$$\n",
    "where $d=r*C+c$, and $d=1,\\cdots,D= RC$ represent each one of the pixels on the image.\n",
    "\n",
    "We will first assume that pixel intensities are have a **Gaussian** distribution\n",
    "$$\n",
    "    P(X_i) = \\prod_{d=1}^D N(X_{i,d}; \\mu_d,\\sigma^2_d)\n",
    "$$\n",
    "where $\\mu_d$ and $\\sigma^2_d$ will be learned from the training set, **independently** for each pixel d.\n"
   ]
  },
  {
   "cell_type": "code",
   "execution_count": 6,
   "metadata": {
    "ExecuteTime": {
     "end_time": "2019-02-15T02:39:39.032486Z",
     "start_time": "2019-02-15T02:39:39.024509Z"
    }
   },
   "outputs": [
    {
     "name": "stdout",
     "output_type": "stream",
     "text": [
      "(60000, 784) (60000,)\n"
     ]
    }
   ],
   "source": [
    "X=X.reshape((nimages,-1))\n",
    "print(X.shape,Y.shape)\n",
    "    "
   ]
  },
  {
   "cell_type": "code",
   "execution_count": 7,
   "metadata": {
    "ExecuteTime": {
     "end_time": "2019-02-15T02:39:39.056423Z",
     "start_time": "2019-02-15T02:39:39.034481Z"
    }
   },
   "outputs": [],
   "source": [
    "model=GaussianNB()"
   ]
  },
  {
   "cell_type": "code",
   "execution_count": 8,
   "metadata": {
    "ExecuteTime": {
     "end_time": "2019-02-15T02:39:40.484604Z",
     "start_time": "2019-02-15T02:39:39.060413Z"
    }
   },
   "outputs": [
    {
     "data": {
      "text/plain": [
       "GaussianNB(priors=None)"
      ]
     },
     "execution_count": 8,
     "metadata": {},
     "output_type": "execute_result"
    }
   ],
   "source": [
    "model.fit(X,Y)"
   ]
  },
  {
   "cell_type": "code",
   "execution_count": 9,
   "metadata": {
    "ExecuteTime": {
     "end_time": "2019-02-15T02:39:40.651159Z",
     "start_time": "2019-02-15T02:39:40.486600Z"
    }
   },
   "outputs": [],
   "source": [
    "images_test=mnist.read_images(test_images_filename)\n",
    "labels_test=mnist.read_labels(test_labels_filename)\n",
    "X_test=images_test\n",
    "Y_test=labels_test"
   ]
  },
  {
   "cell_type": "markdown",
   "metadata": {},
   "source": [
    "Model makes some mistakes"
   ]
  },
  {
   "cell_type": "code",
   "execution_count": 10,
   "metadata": {
    "ExecuteTime": {
     "end_time": "2019-02-15T02:39:40.660135Z",
     "start_time": "2019-02-15T02:39:40.653154Z"
    }
   },
   "outputs": [
    {
     "name": "stdout",
     "output_type": "stream",
     "text": [
      "[9] 7\n"
     ]
    }
   ],
   "source": [
    "print(model.predict(X_test[0].reshape(1,-1)),Y_test[0])"
   ]
  },
  {
   "cell_type": "markdown",
   "metadata": {},
   "source": [
    "Accuracy is pretty low."
   ]
  },
  {
   "cell_type": "code",
   "execution_count": 11,
   "metadata": {
    "ExecuteTime": {
     "end_time": "2019-02-15T02:39:42.279808Z",
     "start_time": "2019-02-15T02:39:40.662130Z"
    }
   },
   "outputs": [
    {
     "name": "stdout",
     "output_type": "stream",
     "text": [
      "accuracy 0.5558\n"
     ]
    }
   ],
   "source": [
    "Y_predicted=model.predict(X_test.reshape((-1,nrows*ncols)))\n",
    "print(\"accuracy\",np.mean(Y_predicted==Y_test))"
   ]
  },
  {
   "cell_type": "markdown",
   "metadata": {},
   "source": [
    "We make all sorts of mistakes"
   ]
  },
  {
   "cell_type": "code",
   "execution_count": 12,
   "metadata": {
    "ExecuteTime": {
     "end_time": "2019-02-15T02:39:42.296759Z",
     "start_time": "2019-02-15T02:39:42.285788Z"
    }
   },
   "outputs": [],
   "source": [
    "classes=np.unique(Y)"
   ]
  },
  {
   "cell_type": "code",
   "execution_count": 13,
   "metadata": {
    "ExecuteTime": {
     "end_time": "2019-02-15T02:39:43.134520Z",
     "start_time": "2019-02-15T02:39:42.303741Z"
    }
   },
   "outputs": [
    {
     "name": "stdout",
     "output_type": "stream",
     "text": [
      "Confusion matrix, without normalization\n",
      "[[ 870    0    3    5    2    5   31    1   35   28]\n",
      " [   0 1079    2    1    0    0   10    0   38    5]\n",
      " [  79   25  266   91    5    2  269    4  271   20]\n",
      " [  32   39    6  353    2    3   51    8  409  107]\n",
      " [  19    2    5    4  168    7   63    7  210  497]\n",
      " [  71   25    1   20    3   44   40    2  586  100]\n",
      " [  12   12    3    1    1    7  895    0   26    1]\n",
      " [   0   15    2   10    5    1    5  280   39  671]\n",
      " [  13   72    3    7    3   11   12    4  648  201]\n",
      " [   5    7    3    6    1    0    1   13   18  955]]\n"
     ]
    },
    {
     "data": {
      "image/png": "[encoded data removed]",
      "text/plain": [
       "<Figure size 432x288 with 2 Axes>"
      ]
     },
     "metadata": {},
     "output_type": "display_data"
    }
   ],
   "source": [
    "cnf_matrix = metrics.confusion_matrix(Y_test, Y_predicted)\n",
    "np.set_printoptions(precision=2)\n",
    "plots.plot_confusion_matrix(cnf_matrix,classes)"
   ]
  },
  {
   "cell_type": "markdown",
   "metadata": {},
   "source": [
    "## Bernoulli Naive  Bayes Classifier"
   ]
  },
  {
   "cell_type": "markdown",
   "metadata": {},
   "source": [
    "Pixels on the image are on the range (0,1).\n",
    "Lot of the pixes on the image are at the extremes 0 or 1. A Gaussian distribution  is not an appropiate assumption there.\n",
    "\n",
    "If we assume that the pixels are distributed as as $k/N$ where $k$ has a multinomial distribution, we can use a Bernoulli distribution (bounded between\n",
    "zero and one)\n",
    "$$\n",
    "    P(X_{i}|y_i)= \\prod_{d=1}^D P(x_{i,d}|y_i) x_{i,d} \n",
    "                              + (1-P(x_{i,d}|y_i)(1-x_{i,d})\n",
    " $$\n",
    " \n",
    " Where we will use Laplace smoothing to estimae the probabilities\n",
    " $$\n",
    "     P(x_{i,d}|y_i) = \\frac{\\hat{N}_k+\\alpha}{\\hat{N}+\\alpha K}\n",
    " $$\n",
    " where $K$ is the number of values the label $y_i$ can take"
   ]
  },
  {
   "cell_type": "code",
   "execution_count": 14,
   "metadata": {
    "ExecuteTime": {
     "end_time": "2019-02-15T02:39:43.146487Z",
     "start_time": "2019-02-15T02:39:43.137511Z"
    }
   },
   "outputs": [],
   "source": [
    "ber_model=BernoulliNB(alpha=1)"
   ]
  },
  {
   "cell_type": "code",
   "execution_count": 15,
   "metadata": {
    "ExecuteTime": {
     "end_time": "2019-02-15T02:39:44.458982Z",
     "start_time": "2019-02-15T02:39:43.154465Z"
    }
   },
   "outputs": [
    {
     "data": {
      "text/plain": [
       "BernoulliNB(alpha=1, binarize=0.0, class_prior=None, fit_prior=True)"
      ]
     },
     "execution_count": 15,
     "metadata": {},
     "output_type": "execute_result"
    }
   ],
   "source": [
    "ber_model.fit(X,Y)"
   ]
  },
  {
   "cell_type": "markdown",
   "metadata": {},
   "source": [
    "Bernoulli's Naive Bayes has has much better accuracy that Gaussian Naive Bayes\n",
    "for this particular problem"
   ]
  },
  {
   "cell_type": "code",
   "execution_count": 16,
   "metadata": {
    "ExecuteTime": {
     "end_time": "2019-02-15T02:39:44.804054Z",
     "start_time": "2019-02-15T02:39:44.463965Z"
    }
   },
   "outputs": [
    {
     "name": "stdout",
     "output_type": "stream",
     "text": [
      "accuracy 0.8413\n"
     ]
    }
   ],
   "source": [
    "Y_predicted=ber_model.predict(X_test.reshape((-1,nrows*ncols)))\n",
    "print(\"accuracy\",np.mean(Y_predicted==Y_test))"
   ]
  },
  {
   "cell_type": "code",
   "execution_count": 17,
   "metadata": {
    "ExecuteTime": {
     "end_time": "2019-02-15T02:39:45.472268Z",
     "start_time": "2019-02-15T02:39:44.811036Z"
    }
   },
   "outputs": [
    {
     "name": "stdout",
     "output_type": "stream",
     "text": [
      "Confusion matrix, without normalization\n",
      "[[ 887    0    4    7    2   41   16    1   22    0]\n",
      " [   0 1085   10    5    0    9    6    0   19    1]\n",
      " [  19    8  852   29   17    4   32   14   55    2]\n",
      " [   5   15   34  844    0   13    9   15   49   26]\n",
      " [   2    6    4    0  795    4   21    1   23  126]\n",
      " [  23   12    7  129   30  627   16    8   21   19]\n",
      " [  18   18   15    2   13   35  851    0    6    0]\n",
      " [   1   24   14    4   15    0    0  871   27   72]\n",
      " [  16   23   13   76   17   22    7    6  758   36]\n",
      " [   9   13    5    9   74    8    0   24   24  843]]\n"
     ]
    },
    {
     "data": {
      "image/png": "[encoded data removed]",
      "text/plain": [
       "<Figure size 432x288 with 2 Axes>"
      ]
     },
     "metadata": {},
     "output_type": "display_data"
    }
   ],
   "source": [
    "cnf_matrix = metrics.confusion_matrix(Y_test, Y_predicted)\n",
    "np.set_printoptions(precision=2)\n",
    "plots.plot_confusion_matrix(cnf_matrix,classes)"
   ]
  },
  {
   "cell_type": "markdown",
   "metadata": {},
   "source": [
    "### Visualize loadings"
   ]
  },
  {
   "cell_type": "code",
   "execution_count": 18,
   "metadata": {
    "ExecuteTime": {
     "end_time": "2019-02-15T02:39:45.484236Z",
     "start_time": "2019-02-15T02:39:45.476257Z"
    }
   },
   "outputs": [
    {
     "data": {
      "text/plain": [
       "(10, 28, 28)"
      ]
     },
     "execution_count": 18,
     "metadata": {},
     "output_type": "execute_result"
    }
   ],
   "source": [
    "loadings=ber_model.feature_log_prob_.reshape(-1,nrows,ncols)\n",
    "loadings.shape"
   ]
  },
  {
   "cell_type": "code",
   "execution_count": 19,
   "metadata": {
    "ExecuteTime": {
     "end_time": "2019-02-15T02:39:46.078646Z",
     "start_time": "2019-02-15T02:39:45.487229Z"
    }
   },
   "outputs": [
    {
     "data": {
      "image/png": "[encoded data removed]",
      "text/plain": [
       "<Figure size 1440x288 with 10 Axes>"
      ]
     },
     "metadata": {},
     "output_type": "display_data"
    }
   ],
   "source": [
    "# Two subplots, unpack the axes array immediately\n",
    "f, axes = plt.subplots(2, 5, sharey=True,figsize=(20,4))\n",
    "for d,ax in enumerate(axes.ravel()):\n",
    "    ax.set_title('NB Loadings Digit {0}'.format(d))\n",
    "    ax.imshow(loadings[d], cmap='coolwarm')\n",
    "    ax.axis(\"off\")"
   ]
  },
  {
   "cell_type": "markdown",
   "metadata": {},
   "source": [
    "### Save model for Reuse"
   ]
  },
  {
   "cell_type": "code",
   "execution_count": 20,
   "metadata": {
    "ExecuteTime": {
     "end_time": "2019-02-15T02:39:46.088620Z",
     "start_time": "2019-02-15T02:39:46.081638Z"
    }
   },
   "outputs": [],
   "source": [
    "import os\n",
    "model_dir=\"../../data/models\"\n",
    "if not os.path.exists(model_dir):\n",
    "    os.mkdir(model_dir)"
   ]
  },
  {
   "cell_type": "code",
   "execution_count": 21,
   "metadata": {
    "ExecuteTime": {
     "end_time": "2019-02-15T02:39:46.111558Z",
     "start_time": "2019-02-15T02:39:46.092608Z"
    }
   },
   "outputs": [],
   "source": [
    "import pickle\n",
    "model_filename=model_dir+\"/MNIST_NaiveBayes.p\"\n",
    "file=open(model_filename,\"wb\")\n",
    "pickle.dump(ber_model,file)"
   ]
  },
  {
   "cell_type": "markdown",
   "metadata": {},
   "source": [
    "## Off-Center Images"
   ]
  },
  {
   "cell_type": "markdown",
   "metadata": {},
   "source": [
    "We would like our classifier to be invariant to shifts on the image position"
   ]
  },
  {
   "cell_type": "code",
   "execution_count": 22,
   "metadata": {
    "ExecuteTime": {
     "end_time": "2019-02-15T02:39:46.158434Z",
     "start_time": "2019-02-15T02:39:46.131506Z"
    }
   },
   "outputs": [],
   "source": [
    "def roll(image,max_x=4,max_y=4):\n",
    "    shiftx=np.random.randint(-max_x,max_x)\n",
    "    shifty=np.random.randint(-max_y,max_y)\n",
    "    image=np.roll(image,[shiftx,shifty],[0,1])\n",
    "    return image"
   ]
  },
  {
   "cell_type": "code",
   "execution_count": 23,
   "metadata": {
    "ExecuteTime": {
     "end_time": "2019-02-15T02:39:46.194337Z",
     "start_time": "2019-02-15T02:39:46.161425Z"
    }
   },
   "outputs": [],
   "source": [
    "idx=1"
   ]
  },
  {
   "cell_type": "code",
   "execution_count": 24,
   "metadata": {
    "ExecuteTime": {
     "end_time": "2019-02-15T02:39:46.210294Z",
     "start_time": "2019-02-15T02:39:46.196331Z"
    }
   },
   "outputs": [],
   "source": [
    "img1=roll(images_test[idx])\n"
   ]
  },
  {
   "cell_type": "code",
   "execution_count": 25,
   "metadata": {
    "ExecuteTime": {
     "end_time": "2019-02-15T02:39:46.506503Z",
     "start_time": "2019-02-15T02:39:46.212288Z"
    }
   },
   "outputs": [
    {
     "data": {
      "text/plain": [
       "<matplotlib.image.AxesImage at 0x17a8162fcc0>"
      ]
     },
     "execution_count": 25,
     "metadata": {},
     "output_type": "execute_result"
    },
    {
     "data": {
      "image/png": "[encoded data removed]",
      "text/plain": [
       "<Figure size 432x288 with 2 Axes>"
      ]
     },
     "metadata": {},
     "output_type": "display_data"
    }
   ],
   "source": [
    "# Two subplots, unpack the axes array immediately\n",
    "f, (ax1, ax2) = plt.subplots(1, 2, sharey=True)\n",
    "ax1.set_title('Digit {0}'.format(label))\n",
    "ax1.imshow(images_test[idx], cmap='gray')\n",
    "ax2.set_title('Shifted Digit {0}'.format(label))\n",
    "ax2.imshow(img1, cmap='gray')\n"
   ]
  },
  {
   "cell_type": "code",
   "execution_count": 26,
   "metadata": {
    "ExecuteTime": {
     "end_time": "2019-02-15T02:39:47.020129Z",
     "start_time": "2019-02-15T02:39:46.509494Z"
    }
   },
   "outputs": [],
   "source": [
    "shifted_images_test=np.empty_like(images_test)\n",
    "for i in range(len(images_test)):\n",
    "    shifted_images_test[i]=roll(images_test[i])\n",
    "    "
   ]
  },
  {
   "cell_type": "markdown",
   "metadata": {},
   "source": [
    "Let's see how well we can predict now"
   ]
  },
  {
   "cell_type": "code",
   "execution_count": 27,
   "metadata": {
    "ExecuteTime": {
     "end_time": "2019-02-15T02:39:47.225580Z",
     "start_time": "2019-02-15T02:39:47.025116Z"
    }
   },
   "outputs": [
    {
     "name": "stdout",
     "output_type": "stream",
     "text": [
      "predicting... Done.\n"
     ]
    }
   ],
   "source": [
    "nimages=shifted_images_test.shape[0]\n",
    "X_test=shifted_images_test.reshape((nimages,-1))\n",
    "print(\"predicting...\",end=\" \")\n",
    "Y_predicted=ber_model.predict(X_test)\n",
    "print(\"Done.\")"
   ]
  },
  {
   "cell_type": "markdown",
   "metadata": {},
   "source": [
    "Much Worse"
   ]
  },
  {
   "cell_type": "code",
   "execution_count": 28,
   "metadata": {
    "ExecuteTime": {
     "end_time": "2019-02-15T02:39:47.234555Z",
     "start_time": "2019-02-15T02:39:47.227574Z"
    }
   },
   "outputs": [
    {
     "name": "stdout",
     "output_type": "stream",
     "text": [
      "accuracy = 0.3791\n"
     ]
    }
   ],
   "source": [
    "accuracy=(Y_predicted==Y_test).sum() / len(Y_test)\n",
    "print(f\"accuracy = {accuracy}\")"
   ]
  },
  {
   "cell_type": "markdown",
   "metadata": {},
   "source": [
    "We can try to retrain with shifted data"
   ]
  },
  {
   "cell_type": "code",
   "execution_count": 29,
   "metadata": {
    "ExecuteTime": {
     "end_time": "2019-02-15T02:39:47.251515Z",
     "start_time": "2019-02-15T02:39:47.236550Z"
    }
   },
   "outputs": [],
   "source": [
    "R=1 # number of repeats"
   ]
  },
  {
   "cell_type": "code",
   "execution_count": 30,
   "metadata": {
    "ExecuteTime": {
     "end_time": "2019-02-15T02:39:50.376155Z",
     "start_time": "2019-02-15T02:39:47.254516Z"
    }
   },
   "outputs": [
    {
     "name": "stdout",
     "output_type": "stream",
     "text": [
      "(60000, 28, 28) (60000,)\n"
     ]
    }
   ],
   "source": [
    "shifted_images=np.empty((len(images)*R,nrows,ncols))\n",
    "shifted_Y=np.empty(len(images)*R,dtype=np.int)\n",
    "for i1 in range(len(images)):\n",
    "    image=images[i1]\n",
    "    for r in range(R):\n",
    "        shifted_images[R*i1+r]=roll(image)\n",
    "        shifted_Y[R*i1+r]=Y[i1]\n",
    "print(shifted_images.shape,shifted_Y.shape)"
   ]
  },
  {
   "cell_type": "code",
   "execution_count": 31,
   "metadata": {
    "ExecuteTime": {
     "end_time": "2019-02-15T02:39:51.866170Z",
     "start_time": "2019-02-15T02:39:50.378150Z"
    }
   },
   "outputs": [
    {
     "data": {
      "text/plain": [
       "BernoulliNB(alpha=1, binarize=0.0, class_prior=None, fit_prior=True)"
      ]
     },
     "execution_count": 31,
     "metadata": {},
     "output_type": "execute_result"
    }
   ],
   "source": [
    "ber_model.fit(shifted_images.reshape(-1,nrows*ncols),shifted_Y)"
   ]
  },
  {
   "cell_type": "code",
   "execution_count": 32,
   "metadata": {
    "ExecuteTime": {
     "end_time": "2019-02-15T02:39:52.086582Z",
     "start_time": "2019-02-15T02:39:51.869163Z"
    }
   },
   "outputs": [
    {
     "name": "stdout",
     "output_type": "stream",
     "text": [
      "predicting... Done.\n"
     ]
    }
   ],
   "source": [
    "X_test=shifted_images_test.reshape((-1,nrows*ncols))\n",
    "print(\"predicting...\",end=\" \")\n",
    "Y_predicted=ber_model.predict(X_test)\n",
    "print(\"Done.\")"
   ]
  },
  {
   "cell_type": "markdown",
   "metadata": {},
   "source": [
    "Prediction is better but not comparable to the initial inputs"
   ]
  },
  {
   "cell_type": "code",
   "execution_count": 33,
   "metadata": {
    "ExecuteTime": {
     "end_time": "2019-02-15T02:39:52.098549Z",
     "start_time": "2019-02-15T02:39:52.090576Z"
    }
   },
   "outputs": [
    {
     "data": {
      "text/plain": [
       "0.5306"
      ]
     },
     "execution_count": 33,
     "metadata": {},
     "output_type": "execute_result"
    }
   ],
   "source": [
    "np.mean(Y_predicted==Y_test)"
   ]
  },
  {
   "cell_type": "markdown",
   "metadata": {},
   "source": [
    "The reason prediction is not as good is that Naive-Bayes uses **per-pixel** probabilities, and, by shifting around the digits we\n",
    "have **blurred** the *image template*, so every pixel is as likely to be on on one digit as another.\n",
    "\n",
    "See how the loadings have become more diffuse:"
   ]
  },
  {
   "cell_type": "code",
   "execution_count": 34,
   "metadata": {
    "ExecuteTime": {
     "end_time": "2019-02-15T02:39:52.131465Z",
     "start_time": "2019-02-15T02:39:52.101542Z"
    }
   },
   "outputs": [
    {
     "data": {
      "text/plain": [
       "(10, 28, 28)"
      ]
     },
     "execution_count": 34,
     "metadata": {},
     "output_type": "execute_result"
    }
   ],
   "source": [
    "loadings=ber_model.feature_log_prob_.reshape(-1,nrows,ncols)\n",
    "loadings.shape"
   ]
  },
  {
   "cell_type": "code",
   "execution_count": 35,
   "metadata": {
    "ExecuteTime": {
     "end_time": "2019-02-15T02:39:52.697946Z",
     "start_time": "2019-02-15T02:39:52.133455Z"
    }
   },
   "outputs": [
    {
     "data": {
      "image/png": "[encoded data removed]",
      "text/plain": [
       "<Figure size 1440x288 with 10 Axes>"
      ]
     },
     "metadata": {},
     "output_type": "display_data"
    }
   ],
   "source": [
    "#  Two subplots, unpack the axes array immediately\n",
    "f, axes = plt.subplots(2, 5, sharey=True,figsize=(20,4))\n",
    "for d,ax in enumerate(axes.ravel()):\n",
    "    ax.set_title('NB Loadings Digit {0}'.format(d))\n",
    "    ax.imshow(loadings[d], cmap='coolwarm')\n",
    "    ax.axis(\"off\")"
   ]
  },
  {
   "cell_type": "markdown",
   "metadata": {},
   "source": [
    "## Image Pre Processing"
   ]
  },
  {
   "cell_type": "markdown",
   "metadata": {},
   "source": [
    "We have seem that Naive Bayes performance degrades if the test images are not well centered.\n",
    "\n",
    "One solution to this problem, if the overall image location is not important is to **transform** images before training and testing so that they are always centered."
   ]
  },
  {
   "cell_type": "markdown",
   "metadata": {},
   "source": [
    "### Centering an Image"
   ]
  },
  {
   "cell_type": "markdown",
   "metadata": {},
   "source": [
    "Let's pick one image and compute its center of mass\n",
    "\n",
    "$$\n",
    "    c_x = \\frac{\\sum_{r,c} r \\, f_{r,c}}{\\sum_{r,c} f_{r,c}}\n",
    "$$\n",
    "$$\n",
    "    c_y = \\frac{\\sum_{r,c} c \\,f_{r,c}}{\\sum_{r,c} f_{r,c}}\n",
    "$$\n",
    "if the image is well centered we would like that\n",
    "$$\n",
    "    c_x = \\frac{R}{2}\n",
    "$$\n",
    "and\n",
    "$$\n",
    "    c_y = \\frac{C}{2}\n",
    "$$"
   ]
  },
  {
   "cell_type": "code",
   "execution_count": 36,
   "metadata": {
    "ExecuteTime": {
     "end_time": "2019-02-15T02:39:52.704928Z",
     "start_time": "2019-02-15T02:39:52.699940Z"
    }
   },
   "outputs": [],
   "source": [
    "idx=24"
   ]
  },
  {
   "cell_type": "code",
   "execution_count": 37,
   "metadata": {
    "ExecuteTime": {
     "end_time": "2019-02-15T02:39:52.730859Z",
     "start_time": "2019-02-15T02:39:52.706922Z"
    }
   },
   "outputs": [
    {
     "data": {
      "text/plain": [
       "(14.686453022578295, 14.787327021121632)"
      ]
     },
     "execution_count": 37,
     "metadata": {},
     "output_type": "execute_result"
    }
   ],
   "source": [
    "center=ndimage.measurements.center_of_mass(shifted_images[idx])\n",
    "center"
   ]
  },
  {
   "cell_type": "markdown",
   "metadata": {},
   "source": [
    "Let's compute how much we need to shift so that the center of mass is the center of the image"
   ]
  },
  {
   "cell_type": "code",
   "execution_count": 38,
   "metadata": {
    "ExecuteTime": {
     "end_time": "2019-02-15T02:39:52.746816Z",
     "start_time": "2019-02-15T02:39:52.732853Z"
    }
   },
   "outputs": [
    {
     "name": "stdout",
     "output_type": "stream",
     "text": [
      "-1 -1\n"
     ]
    }
   ],
   "source": [
    "shift_x= int(round(nrows/2-center[0]))\n",
    "shift_y=int(round(ncols/2-center[1]))\n",
    "print(shift_x,shift_y)"
   ]
  },
  {
   "cell_type": "markdown",
   "metadata": {},
   "source": [
    "Let's  shift the image. \n",
    "Now the center of mass is within half a pixel of the center of the image"
   ]
  },
  {
   "cell_type": "code",
   "execution_count": 39,
   "metadata": {
    "ExecuteTime": {
     "end_time": "2019-02-15T02:39:52.765765Z",
     "start_time": "2019-02-15T02:39:52.749808Z"
    }
   },
   "outputs": [
    {
     "data": {
      "text/plain": [
       "(13.686453022578293, 13.78732702112163)"
      ]
     },
     "execution_count": 39,
     "metadata": {},
     "output_type": "execute_result"
    }
   ],
   "source": [
    "centered_image=np.roll(shifted_images[idx],(shift_x,shift_y),(0,1))\n",
    "center1=ndimage.measurements.center_of_mass(centered_image)\n",
    "center1"
   ]
  },
  {
   "cell_type": "markdown",
   "metadata": {},
   "source": [
    "Let's observe our work"
   ]
  },
  {
   "cell_type": "code",
   "execution_count": 40,
   "metadata": {
    "ExecuteTime": {
     "end_time": "2019-02-15T02:39:53.013104Z",
     "start_time": "2019-02-15T02:39:52.767759Z"
    }
   },
   "outputs": [
    {
     "data": {
      "text/plain": [
       "<matplotlib.image.AxesImage at 0x17a82672b70>"
      ]
     },
     "execution_count": 40,
     "metadata": {},
     "output_type": "execute_result"
    },
    {
     "data": {
      "image/png": "[encoded data removed]",
      "text/plain": [
       "<Figure size 432x288 with 2 Axes>"
      ]
     },
     "metadata": {},
     "output_type": "display_data"
    }
   ],
   "source": [
    "# Two subplots, unpack the axes array immediately\n",
    "f, (ax1, ax2) = plt.subplots(1, 2, sharey=True)\n",
    "label=shifted_Y[idx]\n",
    "ax1.set_title('Shifted {0}'.format(label))\n",
    "ax1.imshow(shifted_images[idx], cmap='gray')\n",
    "ax2.set_title('Centered {0}'.format(label))\n",
    "ax2.imshow(centered_image, cmap='gray')"
   ]
  },
  {
   "cell_type": "markdown",
   "metadata": {},
   "source": [
    "### A Centering Image Classifier"
   ]
  },
  {
   "cell_type": "markdown",
   "metadata": {},
   "source": [
    "Let's create an Image Classifier that  centers images and then fits/predicts them"
   ]
  },
  {
   "cell_type": "code",
   "execution_count": 41,
   "metadata": {
    "ExecuteTime": {
     "end_time": "2019-02-15T02:39:53.028065Z",
     "start_time": "2019-02-15T02:39:53.017094Z"
    }
   },
   "outputs": [],
   "source": [
    "class ImageCenteredClassifier:\n",
    "    def __init__(self, base_model):\n",
    "        self.model=base_model\n",
    "    def transform(self,X):\n",
    "        N,nrows,ncols=X.shape\n",
    "        centered_images=np.empty_like(X)\n",
    "        for i1 in range(N):\n",
    "            image=X[i1]\n",
    "            center=ndimage.measurements.center_of_mass(image)\n",
    "            shift_x= int(np.round(nrows/2-center[0]))\n",
    "            shift_y= int(np.round(ncols/2-center[1]))\n",
    "            centered_image=np.roll(image,(shift_x,shift_y),(0,1))\n",
    "            centered_images[i1]=centered_image\n",
    "        return centered_images.reshape(-1,nrows*ncols)\n",
    "    def fit(self,X,Y):\n",
    "        Xt=self.transform(X)\n",
    "        self.model.fit(Xt,Y)\n",
    "        return self\n",
    "    def predict(self,X):\n",
    "        Xt=self.transform(X)\n",
    "        return self.model.predict(Xt)\n",
    "        "
   ]
  },
  {
   "cell_type": "markdown",
   "metadata": {},
   "source": [
    "#### Train Classifier"
   ]
  },
  {
   "cell_type": "code",
   "execution_count": 42,
   "metadata": {
    "ExecuteTime": {
     "end_time": "2019-02-15T02:39:53.048010Z",
     "start_time": "2019-02-15T02:39:53.031059Z"
    }
   },
   "outputs": [],
   "source": [
    "centered_model=ImageCenteredClassifier(ber_model)"
   ]
  },
  {
   "cell_type": "code",
   "execution_count": 43,
   "metadata": {
    "ExecuteTime": {
     "end_time": "2019-02-15T02:40:03.607774Z",
     "start_time": "2019-02-15T02:39:53.051002Z"
    }
   },
   "outputs": [
    {
     "data": {
      "text/plain": [
       "<__main__.ImageCenteredClassifier at 0x17a824e9ba8>"
      ]
     },
     "execution_count": 43,
     "metadata": {},
     "output_type": "execute_result"
    }
   ],
   "source": [
    "centered_model.fit(shifted_images,shifted_Y)"
   ]
  },
  {
   "cell_type": "markdown",
   "metadata": {},
   "source": [
    "#### Evaluate Classifier"
   ]
  },
  {
   "cell_type": "code",
   "execution_count": 44,
   "metadata": {
    "ExecuteTime": {
     "end_time": "2019-02-15T02:40:05.196524Z",
     "start_time": "2019-02-15T02:40:03.609769Z"
    }
   },
   "outputs": [],
   "source": [
    "Y_pred=centered_model.predict(shifted_images_test)"
   ]
  },
  {
   "cell_type": "markdown",
   "metadata": {},
   "source": [
    "Results are now as good as the initial *MNIST* inputs"
   ]
  },
  {
   "cell_type": "code",
   "execution_count": 45,
   "metadata": {
    "ExecuteTime": {
     "end_time": "2019-02-15T02:40:05.208496Z",
     "start_time": "2019-02-15T02:40:05.199517Z"
    }
   },
   "outputs": [
    {
     "data": {
      "text/plain": [
       "0.8381"
      ]
     },
     "execution_count": 45,
     "metadata": {},
     "output_type": "execute_result"
    }
   ],
   "source": [
    "np.mean(Y_pred==Y_test)"
   ]
  },
  {
   "cell_type": "markdown",
   "metadata": {},
   "source": [
    "1. **MNIST** image set is already **centered**, it has been pre-processed.\n",
    "2. In general centering an image can help with classification, particularly for naive classifiers that look at each pixel in isolation\n",
    "3. Sometimes, a rotation, a scaling, or, a normalization of the color/gray scale may also be used in a **pre-processing** step.\n",
    "4. The apropiate level of pre-processing is **problem dependent**."
   ]
  },
  {
   "cell_type": "code",
   "execution_count": null,
   "metadata": {},
   "outputs": [],
   "source": []
  }
 ],
 "metadata": {
  "kernelspec": {
   "display_name": "Python 3",
   "language": "python",
   "name": "python3"
  },
  "language_info": {
   "codemirror_mode": {
    "name": "ipython",
    "version": 3
   },
   "file_extension": ".py",
   "mimetype": "text/x-python",
   "name": "python",
   "nbconvert_exporter": "python",
   "pygments_lexer": "ipython3",
   "version": "3.6.5"
  },
  "toc": {
   "nav_menu": {},
   "number_sections": true,
   "sideBar": true,
   "skip_h1_title": true,
   "toc_cell": false,
   "toc_position": {},
   "toc_section_display": "block",
   "toc_window_display": false
  }
 },
 "nbformat": 4,
 "nbformat_minor": 2
}
