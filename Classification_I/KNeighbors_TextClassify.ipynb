{
 "cells": [
  {
   "cell_type": "markdown",
   "metadata": {},
   "source": [
    "# Document Classification with KNeighbors"
   ]
  },
  {
   "cell_type": "markdown",
   "metadata": {},
   "source": [
    "This is a use case of the application of KNeighbors on a practical problem\n",
    "(Document Classification).\n",
    "\n",
    "Its meant to illustrate the advantages and disadvantages of KNeighbors as a learning algorithm\n",
    "\n",
    "The implementation is not efficient and the  results are definitely not state of the art.\n",
    "\n",
    "For a more indepth description  how machine learning techniques are used in practice for text processing see \n",
    "the freely available [Information Retrieval](https://nlp.stanford.edu/IR-book/pdf/irbookonlinereading.pdf) book online."
   ]
  },
  {
   "cell_type": "markdown",
   "metadata": {},
   "source": [
    "## Preliminaries"
   ]
  },
  {
   "cell_type": "markdown",
   "metadata": {},
   "source": [
    "### Imports"
   ]
  },
  {
   "cell_type": "code",
   "execution_count": 1,
   "metadata": {
    "ExecuteTime": {
     "end_time": "2019-02-15T02:23:32.019364Z",
     "start_time": "2019-02-15T02:23:30.421810Z"
    }
   },
   "outputs": [],
   "source": [
    "import pickle\n",
    "from collections import Counter\n",
    "\n",
    "import numpy as np\n",
    "import pandas as pd\n",
    "import matplotlib.pyplot as plt\n",
    "\n",
    "from sklearn.feature_extraction.text import CountVectorizer,TfidfVectorizer\n",
    "from sklearn.preprocessing import normalize\n",
    "from sklearn.neighbors import KNeighborsClassifier\n",
    "from sklearn import metrics\n",
    "\n",
    "import sys\n",
    "sys.path.append(\"../..\")\n",
    "from E4525_ML import plots\n",
    "\n",
    "%matplotlib inline\n",
    "plt.rcParams['figure.figsize'] = (10.0, 8.0) # set default size of plots"
   ]
  },
  {
   "cell_type": "markdown",
   "metadata": {},
   "source": [
    "### Data Directories"
   ]
  },
  {
   "cell_type": "code",
   "execution_count": 2,
   "metadata": {
    "ExecuteTime": {
     "end_time": "2019-02-15T02:23:32.041212Z",
     "start_time": "2019-02-15T02:23:32.022140Z"
    }
   },
   "outputs": [],
   "source": [
    "raw_data_dir=r\"../../raw/C50/C50train\"\n",
    "test_dir    =r\"../../raw/C50/C50test\"\n",
    "data_dir=r\"../../data/C50\"\n"
   ]
  },
  {
   "cell_type": "markdown",
   "metadata": {},
   "source": [
    "## Document Data"
   ]
  },
  {
   "cell_type": "markdown",
   "metadata": {},
   "source": [
    "### Corpus (List of documents)"
   ]
  },
  {
   "cell_type": "code",
   "execution_count": 5,
   "metadata": {
    "ExecuteTime": {
     "end_time": "2019-02-15T02:36:01.513229Z",
     "start_time": "2019-02-15T02:36:01.483310Z"
    }
   },
   "outputs": [
    {
     "data": {
      "text/html": [
       "<div>\n",
       "<style scoped>\n",
       "    .dataframe tbody tr th:only-of-type {\n",
       "        vertical-align: middle;\n",
       "    }\n",
       "\n",
       "    .dataframe tbody tr th {\n",
       "        vertical-align: top;\n",
       "    }\n",
       "\n",
       "    .dataframe thead th {\n",
       "        text-align: right;\n",
       "    }\n",
       "</style>\n",
       "<table border=\"1\" class=\"dataframe\">\n",
       "  <thead>\n",
       "    <tr style=\"text-align: right;\">\n",
       "      <th></th>\n",
       "      <th>filename</th>\n",
       "      <th>label</th>\n",
       "    </tr>\n",
       "    <tr>\n",
       "      <th>document_id</th>\n",
       "      <th></th>\n",
       "      <th></th>\n",
       "    </tr>\n",
       "  </thead>\n",
       "  <tbody>\n",
       "    <tr>\n",
       "      <th>0</th>\n",
       "      <td>../../raw/C50/C50train/AaronPressman/106247new...</td>\n",
       "      <td>AaronPressman</td>\n",
       "    </tr>\n",
       "    <tr>\n",
       "      <th>1</th>\n",
       "      <td>../../raw/C50/C50train/AaronPressman/120600new...</td>\n",
       "      <td>AaronPressman</td>\n",
       "    </tr>\n",
       "    <tr>\n",
       "      <th>2</th>\n",
       "      <td>../../raw/C50/C50train/AaronPressman/120683new...</td>\n",
       "      <td>AaronPressman</td>\n",
       "    </tr>\n",
       "    <tr>\n",
       "      <th>3</th>\n",
       "      <td>../../raw/C50/C50train/AaronPressman/136958new...</td>\n",
       "      <td>AaronPressman</td>\n",
       "    </tr>\n",
       "    <tr>\n",
       "      <th>4</th>\n",
       "      <td>../../raw/C50/C50train/AaronPressman/137498new...</td>\n",
       "      <td>AaronPressman</td>\n",
       "    </tr>\n",
       "  </tbody>\n",
       "</table>\n",
       "</div>"
      ],
      "text/plain": [
       "                                                      filename          label\n",
       "document_id                                                                  \n",
       "0            ../../raw/C50/C50train/AaronPressman/106247new...  AaronPressman\n",
       "1            ../../raw/C50/C50train/AaronPressman/120600new...  AaronPressman\n",
       "2            ../../raw/C50/C50train/AaronPressman/120683new...  AaronPressman\n",
       "3            ../../raw/C50/C50train/AaronPressman/136958new...  AaronPressman\n",
       "4            ../../raw/C50/C50train/AaronPressman/137498new...  AaronPressman"
      ]
     },
     "execution_count": 5,
     "metadata": {},
     "output_type": "execute_result"
    }
   ],
   "source": [
    "documents_filename=data_dir+\"/C50_documents.csv\"\n",
    "documents=pd.read_csv(documents_filename,index_col=\"document_id\")\n",
    "documents.head()"
   ]
  },
  {
   "cell_type": "code",
   "execution_count": 6,
   "metadata": {
    "ExecuteTime": {
     "end_time": "2019-02-15T02:36:02.648196Z",
     "start_time": "2019-02-15T02:36:02.628248Z"
    }
   },
   "outputs": [
    {
     "data": {
      "text/html": [
       "<div>\n",
       "<style scoped>\n",
       "    .dataframe tbody tr th:only-of-type {\n",
       "        vertical-align: middle;\n",
       "    }\n",
       "\n",
       "    .dataframe tbody tr th {\n",
       "        vertical-align: top;\n",
       "    }\n",
       "\n",
       "    .dataframe thead th {\n",
       "        text-align: right;\n",
       "    }\n",
       "</style>\n",
       "<table border=\"1\" class=\"dataframe\">\n",
       "  <thead>\n",
       "    <tr style=\"text-align: right;\">\n",
       "      <th></th>\n",
       "      <th>filename</th>\n",
       "      <th>label</th>\n",
       "    </tr>\n",
       "    <tr>\n",
       "      <th>document_id</th>\n",
       "      <th></th>\n",
       "      <th></th>\n",
       "    </tr>\n",
       "  </thead>\n",
       "  <tbody>\n",
       "    <tr>\n",
       "      <th>0</th>\n",
       "      <td>../../raw/C50/C50test/AaronPressman/421829news...</td>\n",
       "      <td>AaronPressman</td>\n",
       "    </tr>\n",
       "    <tr>\n",
       "      <th>1</th>\n",
       "      <td>../../raw/C50/C50test/AaronPressman/424074news...</td>\n",
       "      <td>AaronPressman</td>\n",
       "    </tr>\n",
       "    <tr>\n",
       "      <th>2</th>\n",
       "      <td>../../raw/C50/C50test/AaronPressman/42764newsM...</td>\n",
       "      <td>AaronPressman</td>\n",
       "    </tr>\n",
       "    <tr>\n",
       "      <th>3</th>\n",
       "      <td>../../raw/C50/C50test/AaronPressman/43033newsM...</td>\n",
       "      <td>AaronPressman</td>\n",
       "    </tr>\n",
       "    <tr>\n",
       "      <th>4</th>\n",
       "      <td>../../raw/C50/C50test/AaronPressman/433558news...</td>\n",
       "      <td>AaronPressman</td>\n",
       "    </tr>\n",
       "  </tbody>\n",
       "</table>\n",
       "</div>"
      ],
      "text/plain": [
       "                                                      filename          label\n",
       "document_id                                                                  \n",
       "0            ../../raw/C50/C50test/AaronPressman/421829news...  AaronPressman\n",
       "1            ../../raw/C50/C50test/AaronPressman/424074news...  AaronPressman\n",
       "2            ../../raw/C50/C50test/AaronPressman/42764newsM...  AaronPressman\n",
       "3            ../../raw/C50/C50test/AaronPressman/43033newsM...  AaronPressman\n",
       "4            ../../raw/C50/C50test/AaronPressman/433558news...  AaronPressman"
      ]
     },
     "execution_count": 6,
     "metadata": {},
     "output_type": "execute_result"
    }
   ],
   "source": [
    "test_documents_filename=data_dir+\"/C50_test_documents.csv\"\n",
    "test_documents=pd.read_csv(test_documents_filename,index_col=\"document_id\")\n",
    "test_documents.head()"
   ]
  },
  {
   "cell_type": "markdown",
   "metadata": {},
   "source": [
    "### Load Pre-Trained Features"
   ]
  },
  {
   "cell_type": "markdown",
   "metadata": {},
   "source": [
    "#### Set Features"
   ]
  },
  {
   "cell_type": "code",
   "execution_count": 7,
   "metadata": {
    "ExecuteTime": {
     "end_time": "2019-02-15T02:36:10.177064Z",
     "start_time": "2019-02-15T02:36:10.123207Z"
    }
   },
   "outputs": [],
   "source": [
    "set_features_filename=data_dir+\"/\"+\"set_features.p\"\n",
    "set_features=pickle.load(open(set_features_filename,\"rb\"))\n",
    "set_features=normalize(set_features)"
   ]
  },
  {
   "cell_type": "code",
   "execution_count": 8,
   "metadata": {
    "ExecuteTime": {
     "end_time": "2019-02-15T02:36:10.232914Z",
     "start_time": "2019-02-15T02:36:10.180057Z"
    }
   },
   "outputs": [],
   "source": [
    "set_test_features_filename=data_dir+\"/\"+\"set_test_features.p\"\n",
    "set_test_features=pickle.load(open(set_test_features_filename,\"rb\"))\n",
    "set_test_features=normalize(set_test_features)"
   ]
  },
  {
   "cell_type": "markdown",
   "metadata": {},
   "source": [
    "#### Count Features"
   ]
  },
  {
   "cell_type": "code",
   "execution_count": 9,
   "metadata": {
    "ExecuteTime": {
     "end_time": "2019-02-15T02:36:10.312701Z",
     "start_time": "2019-02-15T02:36:10.234909Z"
    }
   },
   "outputs": [],
   "source": [
    "count_features_filename=data_dir+\"/\"+\"count_features.p\"\n",
    "count_features=pickle.load(open(count_features_filename,\"rb\"))\n",
    "count_features=normalize(count_features)"
   ]
  },
  {
   "cell_type": "code",
   "execution_count": 10,
   "metadata": {
    "ExecuteTime": {
     "end_time": "2019-02-15T02:36:10.337634Z",
     "start_time": "2019-02-15T02:36:10.314695Z"
    }
   },
   "outputs": [],
   "source": [
    "count_test_features_filename=data_dir+\"/\"+\"count_test_features.p\"\n",
    "count_test_features=pickle.load(open(count_test_features_filename,\"rb\"))\n",
    "count_test_features=normalize(count_test_features)"
   ]
  },
  {
   "cell_type": "markdown",
   "metadata": {},
   "source": [
    "#### TF-IDF Features"
   ]
  },
  {
   "cell_type": "code",
   "execution_count": 11,
   "metadata": {
    "ExecuteTime": {
     "end_time": "2019-02-15T02:36:10.367555Z",
     "start_time": "2019-02-15T02:36:10.340626Z"
    }
   },
   "outputs": [],
   "source": [
    "tfidf_features_filename=data_dir+\"/\"+\"tfidf_features.p\"\n",
    "tfidf_features=pickle.load(open(tfidf_features_filename,\"rb\"))"
   ]
  },
  {
   "cell_type": "code",
   "execution_count": 12,
   "metadata": {
    "ExecuteTime": {
     "end_time": "2019-02-15T02:36:10.389495Z",
     "start_time": "2019-02-15T02:36:10.371548Z"
    }
   },
   "outputs": [],
   "source": [
    "tfidf_test_features_filename=data_dir+\"/\"+\"tfidf_test_features.p\"\n",
    "tfidf_test_features=pickle.load(open(tfidf_test_features_filename,\"rb\"))"
   ]
  },
  {
   "cell_type": "markdown",
   "metadata": {},
   "source": [
    "## K-Neighbors Implementation"
   ]
  },
  {
   "cell_type": "code",
   "execution_count": 13,
   "metadata": {
    "ExecuteTime": {
     "end_time": "2019-02-15T02:36:10.401464Z",
     "start_time": "2019-02-15T02:36:10.392487Z"
    }
   },
   "outputs": [],
   "source": [
    "def find_neighbors(x,X,k):\n",
    "    similarities=X.dot(x.T)\n",
    "    similarities=np.ravel(similarities.todense())\n",
    "    # find k-largest similarities instead of k-smallest distances\n",
    "    indexes=np.argpartition(similarities,-k)[-k:] #https://docs.scipy.org/doc/numpy-1.8.0/reference/generated/numpy.argpartition.html\n",
    "    return indexes\n",
    "\n",
    "class KNeighbors:\n",
    "    def __init__(self,k):\n",
    "        self.k=k\n",
    "    def fit(self,X,Y):\n",
    "        self.X=X\n",
    "        self.Y=Y      \n",
    "    def predict(self,X):\n",
    "        N=X.shape[0]\n",
    "        y=np.empty(N,self.Y.dtype)\n",
    "        for i1 in range(N):\n",
    "            x=X[i1]\n",
    "            indexes=find_neighbors(x,self.X,self.k)\n",
    "            labels=self.Y[indexes]\n",
    "            (values,counts) = np.unique(labels,return_counts=True)\n",
    "            best=np.argmax(counts)\n",
    "            y[i1]=values[best]\n",
    "        return y"
   ]
  },
  {
   "cell_type": "markdown",
   "metadata": {},
   "source": [
    "### Test of  Implementation"
   ]
  },
  {
   "cell_type": "code",
   "execution_count": 14,
   "metadata": {
    "ExecuteTime": {
     "end_time": "2019-02-15T02:36:10.416423Z",
     "start_time": "2019-02-15T02:36:10.404455Z"
    }
   },
   "outputs": [],
   "source": [
    "X=count_features\n",
    "Y=documents[\"label\"]"
   ]
  },
  {
   "cell_type": "code",
   "execution_count": 15,
   "metadata": {
    "ExecuteTime": {
     "end_time": "2019-02-15T02:36:10.441357Z",
     "start_time": "2019-02-15T02:36:10.418418Z"
    }
   },
   "outputs": [],
   "source": [
    "model=KNeighbors(3)\n",
    "model.fit(X,Y)"
   ]
  },
  {
   "cell_type": "code",
   "execution_count": 16,
   "metadata": {
    "ExecuteTime": {
     "end_time": "2019-02-15T02:36:10.469283Z",
     "start_time": "2019-02-15T02:36:10.443350Z"
    }
   },
   "outputs": [
    {
     "name": "stdout",
     "output_type": "stream",
     "text": [
      "True Author      = AlanCrosby\n",
      "Predicted Author = AlanCrosby\n"
     ]
    }
   ],
   "source": [
    "doc=51\n",
    "text1=X[doc]\n",
    "y_pred=model.predict(text1)\n",
    "print(\"True Author      =\",Y[doc])\n",
    "print(\"Predicted Author =\",y_pred[0])"
   ]
  },
  {
   "cell_type": "markdown",
   "metadata": {},
   "source": [
    "Let's check of the first 50 documents"
   ]
  },
  {
   "cell_type": "code",
   "execution_count": 17,
   "metadata": {
    "ExecuteTime": {
     "end_time": "2019-02-15T02:36:10.884173Z",
     "start_time": "2019-02-15T02:36:10.477260Z"
    }
   },
   "outputs": [
    {
     "data": {
      "text/plain": [
       "0.76"
      ]
     },
     "execution_count": 17,
     "metadata": {},
     "output_type": "execute_result"
    }
   ],
   "source": [
    "X_short_test=count_test_features[:50]\n",
    "Y_short_test=test_documents[\"label\"][:50]\n",
    "Y_short_pred=model.predict(X_short_test)\n",
    "np.average(Y_short_pred==Y_short_test)"
   ]
  },
  {
   "cell_type": "markdown",
   "metadata": {},
   "source": [
    "### Comparison to `Sklean` implementation"
   ]
  },
  {
   "cell_type": "code",
   "execution_count": 18,
   "metadata": {
    "ExecuteTime": {
     "end_time": "2019-02-15T02:36:10.893149Z",
     "start_time": "2019-02-15T02:36:10.888162Z"
    }
   },
   "outputs": [],
   "source": [
    "sk_model=KNeighborsClassifier(3)"
   ]
  },
  {
   "cell_type": "code",
   "execution_count": 19,
   "metadata": {
    "ExecuteTime": {
     "end_time": "2019-02-15T02:36:10.926059Z",
     "start_time": "2019-02-15T02:36:10.896141Z"
    }
   },
   "outputs": [
    {
     "data": {
      "text/plain": [
       "KNeighborsClassifier(algorithm='auto', leaf_size=30, metric='minkowski',\n",
       "           metric_params=None, n_jobs=1, n_neighbors=3, p=2,\n",
       "           weights='uniform')"
      ]
     },
     "execution_count": 19,
     "metadata": {},
     "output_type": "execute_result"
    }
   ],
   "source": [
    "sk_model.fit(X,Y)"
   ]
  },
  {
   "cell_type": "code",
   "execution_count": 20,
   "metadata": {
    "ExecuteTime": {
     "end_time": "2019-02-15T02:36:11.035767Z",
     "start_time": "2019-02-15T02:36:10.932045Z"
    }
   },
   "outputs": [],
   "source": [
    "Y_pred=sk_model.predict(X_short_test)"
   ]
  },
  {
   "cell_type": "code",
   "execution_count": 21,
   "metadata": {
    "ExecuteTime": {
     "end_time": "2019-02-15T02:36:11.046737Z",
     "start_time": "2019-02-15T02:36:11.039762Z"
    }
   },
   "outputs": [
    {
     "data": {
      "text/plain": [
       "0.76"
      ]
     },
     "execution_count": 21,
     "metadata": {},
     "output_type": "execute_result"
    }
   ],
   "source": [
    "np.average(Y_pred==Y_short_test)"
   ]
  },
  {
   "cell_type": "markdown",
   "metadata": {},
   "source": [
    "## Full Test Corpus Evaluation"
   ]
  },
  {
   "cell_type": "markdown",
   "metadata": {
    "ExecuteTime": {
     "end_time": "2018-01-21T23:25:47.304088Z",
     "start_time": "2018-01-21T23:25:47.292975Z"
    }
   },
   "source": [
    "### Set Features Evaluation"
   ]
  },
  {
   "cell_type": "code",
   "execution_count": 22,
   "metadata": {
    "ExecuteTime": {
     "end_time": "2019-02-15T02:36:11.068680Z",
     "start_time": "2019-02-15T02:36:11.049730Z"
    }
   },
   "outputs": [],
   "source": [
    "X=set_features\n",
    "Y=documents[\"label\"]\n",
    "X_test=set_test_features\n",
    "Y_test=test_documents[\"label\"]"
   ]
  },
  {
   "cell_type": "code",
   "execution_count": 23,
   "metadata": {
    "ExecuteTime": {
     "end_time": "2019-02-15T02:36:24.825893Z",
     "start_time": "2019-02-15T02:36:11.075660Z"
    }
   },
   "outputs": [
    {
     "data": {
      "text/plain": [
       "0.5964"
      ]
     },
     "execution_count": 23,
     "metadata": {},
     "output_type": "execute_result"
    }
   ],
   "source": [
    "K=1\n",
    "model=KNeighbors(K) #or KNeighbors(K), KNeighborsClassifier\n",
    "model.fit(X,Y)\n",
    "Y_pred=model.predict(X_test)\n",
    "np.average(Y_pred==Y_test)"
   ]
  },
  {
   "cell_type": "code",
   "execution_count": 24,
   "metadata": {
    "ExecuteTime": {
     "end_time": "2019-02-15T02:36:39.154602Z",
     "start_time": "2019-02-15T02:36:24.827887Z"
    }
   },
   "outputs": [
    {
     "data": {
      "text/plain": [
       "0.6144"
      ]
     },
     "execution_count": 24,
     "metadata": {},
     "output_type": "execute_result"
    }
   ],
   "source": [
    "K=5\n",
    "model=KNeighbors(K) #or KNeighbors(K), KNeighborsClassifier\n",
    "model.fit(X,Y)\n",
    "Y_pred=model.predict(X_test)\n",
    "np.average(Y_pred==Y_test)"
   ]
  },
  {
   "cell_type": "markdown",
   "metadata": {},
   "source": [
    "### Count Features Evaluation"
   ]
  },
  {
   "cell_type": "code",
   "execution_count": 25,
   "metadata": {
    "ExecuteTime": {
     "end_time": "2019-02-15T02:36:39.161560Z",
     "start_time": "2019-02-15T02:36:39.157570Z"
    }
   },
   "outputs": [],
   "source": [
    "X=count_features\n",
    "Y=documents[\"label\"]\n",
    "X_test=count_test_features\n",
    "Y_test=test_documents[\"label\"]\n"
   ]
  },
  {
   "cell_type": "code",
   "execution_count": 26,
   "metadata": {
    "ExecuteTime": {
     "end_time": "2019-02-15T02:36:53.305737Z",
     "start_time": "2019-02-15T02:36:39.163553Z"
    }
   },
   "outputs": [
    {
     "data": {
      "text/plain": [
       "0.5388"
      ]
     },
     "execution_count": 26,
     "metadata": {},
     "output_type": "execute_result"
    }
   ],
   "source": [
    "K=1\n",
    "model=KNeighbors(K) #or KNeighbors(K), KNeighborsClassifier\n",
    "model.fit(X,Y)\n",
    "Y_pred=model.predict(X_test)\n",
    "np.average(Y_pred==Y_test)"
   ]
  },
  {
   "cell_type": "code",
   "execution_count": 27,
   "metadata": {
    "ExecuteTime": {
     "end_time": "2019-02-15T02:37:06.503449Z",
     "start_time": "2019-02-15T02:36:53.307734Z"
    }
   },
   "outputs": [
    {
     "data": {
      "text/plain": [
       "0.5272"
      ]
     },
     "execution_count": 27,
     "metadata": {},
     "output_type": "execute_result"
    }
   ],
   "source": [
    "K=5\n",
    "model=KNeighbors(K) #or KNeighbors(K), KNeighborsClassifier\n",
    "model.fit(X,Y)\n",
    "Y_pred=model.predict(X_test)\n",
    "np.average(Y_pred==Y_test)"
   ]
  },
  {
   "cell_type": "markdown",
   "metadata": {},
   "source": [
    "### TF-IDF Features Evaluation"
   ]
  },
  {
   "cell_type": "code",
   "execution_count": 28,
   "metadata": {
    "ExecuteTime": {
     "end_time": "2019-02-15T02:37:06.510429Z",
     "start_time": "2019-02-15T02:37:06.505443Z"
    }
   },
   "outputs": [],
   "source": [
    "X=tfidf_features\n",
    "Y=documents[\"label\"]\n",
    "X_test=tfidf_test_features\n",
    "Y_test=test_documents[\"label\"]\n"
   ]
  },
  {
   "cell_type": "code",
   "execution_count": 29,
   "metadata": {
    "ExecuteTime": {
     "end_time": "2019-02-15T02:37:19.365056Z",
     "start_time": "2019-02-15T02:37:06.513421Z"
    }
   },
   "outputs": [
    {
     "data": {
      "text/plain": [
       "0.5432"
      ]
     },
     "execution_count": 29,
     "metadata": {},
     "output_type": "execute_result"
    }
   ],
   "source": [
    "K=1\n",
    "model=KNeighbors(K) #or KNeighbors(K), KNeighborsClassifier\n",
    "model.fit(X,Y)\n",
    "Y_pred=model.predict(X_test)\n",
    "np.average(Y_pred==Y_test)"
   ]
  },
  {
   "cell_type": "code",
   "execution_count": 30,
   "metadata": {
    "ExecuteTime": {
     "end_time": "2019-02-15T02:37:32.260574Z",
     "start_time": "2019-02-15T02:37:19.367050Z"
    }
   },
   "outputs": [
    {
     "data": {
      "text/plain": [
       "0.5456"
      ]
     },
     "execution_count": 30,
     "metadata": {},
     "output_type": "execute_result"
    }
   ],
   "source": [
    "K=5\n",
    "model=KNeighbors(K) #or KNeighbors(K), KNeighborsClassifier\n",
    "model.fit(X,Y)\n",
    "Y_pred=model.predict(X_test)\n",
    "np.average(Y_pred==Y_test)"
   ]
  },
  {
   "cell_type": "markdown",
   "metadata": {},
   "source": [
    "### Confusion Matrix "
   ]
  },
  {
   "cell_type": "code",
   "execution_count": 31,
   "metadata": {
    "ExecuteTime": {
     "end_time": "2019-02-15T02:37:32.267555Z",
     "start_time": "2019-02-15T02:37:32.262582Z"
    }
   },
   "outputs": [],
   "source": [
    "classes=Y.unique()"
   ]
  },
  {
   "cell_type": "markdown",
   "metadata": {},
   "source": [
    "We could use the confusion matrix to understand the  kind of errors that the model makes"
   ]
  },
  {
   "cell_type": "code",
   "execution_count": 32,
   "metadata": {
    "ExecuteTime": {
     "end_time": "2019-02-15T02:37:41.341292Z",
     "start_time": "2019-02-15T02:37:32.270547Z"
    }
   },
   "outputs": [
    {
     "name": "stdout",
     "output_type": "stream",
     "text": [
      "Confusion matrix, without normalization\n",
      "[[44  0  0 ...  0  0  0]\n",
      " [ 0 30  0 ...  3  0  0]\n",
      " [ 2  0 14 ...  0  0  0]\n",
      " ...\n",
      " [ 0  0  1 ... 33  0  0]\n",
      " [ 0  0  0 ...  0 19  0]\n",
      " [ 0  0  0 ...  0  0 15]]\n"
     ]
    },
    {
     "data": {
      "image/png": "[encoded data removed]",
      "text/plain": [
       "<Figure size 432x288 with 2 Axes>"
      ]
     },
     "metadata": {},
     "output_type": "display_data"
    }
   ],
   "source": [
    "cnf_matrix = metrics.confusion_matrix(Y_test, Y_pred)\n",
    "np.set_printoptions(precision=2)\n",
    "plots.plot_confusion_matrix(cnf_matrix,classes)"
   ]
  },
  {
   "cell_type": "code",
   "execution_count": null,
   "metadata": {},
   "outputs": [],
   "source": []
  },
  {
   "cell_type": "code",
   "execution_count": null,
   "metadata": {},
   "outputs": [],
   "source": []
  }
 ],
 "metadata": {
  "kernelspec": {
   "display_name": "Python 3",
   "language": "python",
   "name": "python3"
  },
  "language_info": {
   "codemirror_mode": {
    "name": "ipython",
    "version": 3
   },
   "file_extension": ".py",
   "mimetype": "text/x-python",
   "name": "python",
   "nbconvert_exporter": "python",
   "pygments_lexer": "ipython3",
   "version": "3.6.5"
  },
  "toc": {
   "nav_menu": {},
   "number_sections": true,
   "sideBar": true,
   "skip_h1_title": true,
   "toc_cell": false,
   "toc_position": {},
   "toc_section_display": "block",
   "toc_window_display": false
  }
 },
 "nbformat": 4,
 "nbformat_minor": 2
}
