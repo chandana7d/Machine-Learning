{
 "cells": [
  {
   "cell_type": "markdown",
   "metadata": {},
   "source": [
    "# Naive Bayes Document Classification"
   ]
  },
  {
   "cell_type": "markdown",
   "metadata": {},
   "source": [
    "Naive Bayes, with its independent assumptions is particularly well suited for\n",
    "Text Processing applications where the large dimmentionality of the feature space makes more sofisticated methods challenging to apply.\n",
    "\n",
    "We will use again the Reuters `C50` text corpus for our analysis. \n"
   ]
  },
  {
   "cell_type": "markdown",
   "metadata": {},
   "source": [
    "## Preliminaries"
   ]
  },
  {
   "cell_type": "markdown",
   "metadata": {},
   "source": [
    "### Imports"
   ]
  },
  {
   "cell_type": "code",
   "execution_count": 1,
   "metadata": {
    "ExecuteTime": {
     "end_time": "2019-02-15T02:40:12.940817Z",
     "start_time": "2019-02-15T02:40:11.418888Z"
    }
   },
   "outputs": [],
   "source": [
    "import pickle\n",
    "from collections import Counter\n",
    "\n",
    "import numpy as np\n",
    "import pandas as pd\n",
    "import matplotlib.pyplot as plt\n",
    "\n",
    "from sklearn.feature_extraction.text import CountVectorizer,TfidfVectorizer\n",
    "from sklearn.preprocessing import normalize\n",
    "from sklearn.naive_bayes import MultinomialNB\n",
    "from sklearn.preprocessing import OneHotEncoder\n",
    "from sklearn import metrics\n",
    "\n",
    "import sys\n",
    "sys.path.append(\"../..\")\n",
    "from E4525_ML import plots\n",
    "\n",
    "%matplotlib inline\n",
    "plt.rcParams['figure.figsize'] = (10.0, 8.0) # set default size of plots"
   ]
  },
  {
   "cell_type": "markdown",
   "metadata": {},
   "source": [
    "### Data Directories"
   ]
  },
  {
   "cell_type": "code",
   "execution_count": 2,
   "metadata": {
    "ExecuteTime": {
     "end_time": "2019-02-15T02:40:12.947799Z",
     "start_time": "2019-02-15T02:40:12.943809Z"
    }
   },
   "outputs": [],
   "source": [
    "raw_data_dir=r\"../../raw/C50/C50train\"\n",
    "test_dir    =r\"../../raw/C50/C50test\"\n",
    "data_dir=r\"../../data/C50\"\n"
   ]
  },
  {
   "cell_type": "markdown",
   "metadata": {},
   "source": [
    "## Document Data"
   ]
  },
  {
   "cell_type": "markdown",
   "metadata": {},
   "source": [
    "### Corpus (List of documents)"
   ]
  },
  {
   "cell_type": "code",
   "execution_count": 3,
   "metadata": {
    "ExecuteTime": {
     "end_time": "2019-02-15T02:40:13.027585Z",
     "start_time": "2019-02-15T02:40:12.950791Z"
    }
   },
   "outputs": [
    {
     "data": {
      "text/html": [
       "<div>\n",
       "<style scoped>\n",
       "    .dataframe tbody tr th:only-of-type {\n",
       "        vertical-align: middle;\n",
       "    }\n",
       "\n",
       "    .dataframe tbody tr th {\n",
       "        vertical-align: top;\n",
       "    }\n",
       "\n",
       "    .dataframe thead th {\n",
       "        text-align: right;\n",
       "    }\n",
       "</style>\n",
       "<table border=\"1\" class=\"dataframe\">\n",
       "  <thead>\n",
       "    <tr style=\"text-align: right;\">\n",
       "      <th></th>\n",
       "      <th>filename</th>\n",
       "      <th>label</th>\n",
       "    </tr>\n",
       "    <tr>\n",
       "      <th>document_id</th>\n",
       "      <th></th>\n",
       "      <th></th>\n",
       "    </tr>\n",
       "  </thead>\n",
       "  <tbody>\n",
       "    <tr>\n",
       "      <th>0</th>\n",
       "      <td>../../raw/C50/C50train/AaronPressman/106247new...</td>\n",
       "      <td>AaronPressman</td>\n",
       "    </tr>\n",
       "    <tr>\n",
       "      <th>1</th>\n",
       "      <td>../../raw/C50/C50train/AaronPressman/120600new...</td>\n",
       "      <td>AaronPressman</td>\n",
       "    </tr>\n",
       "    <tr>\n",
       "      <th>2</th>\n",
       "      <td>../../raw/C50/C50train/AaronPressman/120683new...</td>\n",
       "      <td>AaronPressman</td>\n",
       "    </tr>\n",
       "    <tr>\n",
       "      <th>3</th>\n",
       "      <td>../../raw/C50/C50train/AaronPressman/136958new...</td>\n",
       "      <td>AaronPressman</td>\n",
       "    </tr>\n",
       "    <tr>\n",
       "      <th>4</th>\n",
       "      <td>../../raw/C50/C50train/AaronPressman/137498new...</td>\n",
       "      <td>AaronPressman</td>\n",
       "    </tr>\n",
       "  </tbody>\n",
       "</table>\n",
       "</div>"
      ],
      "text/plain": [
       "                                                      filename          label\n",
       "document_id                                                                  \n",
       "0            ../../raw/C50/C50train/AaronPressman/106247new...  AaronPressman\n",
       "1            ../../raw/C50/C50train/AaronPressman/120600new...  AaronPressman\n",
       "2            ../../raw/C50/C50train/AaronPressman/120683new...  AaronPressman\n",
       "3            ../../raw/C50/C50train/AaronPressman/136958new...  AaronPressman\n",
       "4            ../../raw/C50/C50train/AaronPressman/137498new...  AaronPressman"
      ]
     },
     "execution_count": 3,
     "metadata": {},
     "output_type": "execute_result"
    }
   ],
   "source": [
    "documents_filename=data_dir+\"/C50_documents.csv\"\n",
    "documents=pd.read_csv(documents_filename,index_col=\"document_id\")\n",
    "Y=documents[\"label\"]\n",
    "documents.head()"
   ]
  },
  {
   "cell_type": "code",
   "execution_count": 4,
   "metadata": {
    "ExecuteTime": {
     "end_time": "2019-02-15T02:40:13.060498Z",
     "start_time": "2019-02-15T02:40:13.030577Z"
    }
   },
   "outputs": [
    {
     "data": {
      "text/html": [
       "<div>\n",
       "<style scoped>\n",
       "    .dataframe tbody tr th:only-of-type {\n",
       "        vertical-align: middle;\n",
       "    }\n",
       "\n",
       "    .dataframe tbody tr th {\n",
       "        vertical-align: top;\n",
       "    }\n",
       "\n",
       "    .dataframe thead th {\n",
       "        text-align: right;\n",
       "    }\n",
       "</style>\n",
       "<table border=\"1\" class=\"dataframe\">\n",
       "  <thead>\n",
       "    <tr style=\"text-align: right;\">\n",
       "      <th></th>\n",
       "      <th>filename</th>\n",
       "      <th>label</th>\n",
       "    </tr>\n",
       "    <tr>\n",
       "      <th>document_id</th>\n",
       "      <th></th>\n",
       "      <th></th>\n",
       "    </tr>\n",
       "  </thead>\n",
       "  <tbody>\n",
       "    <tr>\n",
       "      <th>0</th>\n",
       "      <td>../../raw/C50/C50test/AaronPressman/421829news...</td>\n",
       "      <td>AaronPressman</td>\n",
       "    </tr>\n",
       "    <tr>\n",
       "      <th>1</th>\n",
       "      <td>../../raw/C50/C50test/AaronPressman/424074news...</td>\n",
       "      <td>AaronPressman</td>\n",
       "    </tr>\n",
       "    <tr>\n",
       "      <th>2</th>\n",
       "      <td>../../raw/C50/C50test/AaronPressman/42764newsM...</td>\n",
       "      <td>AaronPressman</td>\n",
       "    </tr>\n",
       "    <tr>\n",
       "      <th>3</th>\n",
       "      <td>../../raw/C50/C50test/AaronPressman/43033newsM...</td>\n",
       "      <td>AaronPressman</td>\n",
       "    </tr>\n",
       "    <tr>\n",
       "      <th>4</th>\n",
       "      <td>../../raw/C50/C50test/AaronPressman/433558news...</td>\n",
       "      <td>AaronPressman</td>\n",
       "    </tr>\n",
       "  </tbody>\n",
       "</table>\n",
       "</div>"
      ],
      "text/plain": [
       "                                                      filename          label\n",
       "document_id                                                                  \n",
       "0            ../../raw/C50/C50test/AaronPressman/421829news...  AaronPressman\n",
       "1            ../../raw/C50/C50test/AaronPressman/424074news...  AaronPressman\n",
       "2            ../../raw/C50/C50test/AaronPressman/42764newsM...  AaronPressman\n",
       "3            ../../raw/C50/C50test/AaronPressman/43033newsM...  AaronPressman\n",
       "4            ../../raw/C50/C50test/AaronPressman/433558news...  AaronPressman"
      ]
     },
     "execution_count": 4,
     "metadata": {},
     "output_type": "execute_result"
    }
   ],
   "source": [
    "test_documents_filename=data_dir+\"/C50_test_documents.csv\"\n",
    "test_documents=pd.read_csv(test_documents_filename,index_col=\"document_id\")\n",
    "Y_test=test_documents[\"label\"]\n",
    "test_documents.head()"
   ]
  },
  {
   "cell_type": "markdown",
   "metadata": {},
   "source": [
    "### Load Pre-Trained Features"
   ]
  },
  {
   "cell_type": "markdown",
   "metadata": {},
   "source": [
    "#### Set Features"
   ]
  },
  {
   "cell_type": "code",
   "execution_count": 5,
   "metadata": {
    "ExecuteTime": {
     "end_time": "2019-02-15T02:40:13.093409Z",
     "start_time": "2019-02-15T02:40:13.065485Z"
    }
   },
   "outputs": [],
   "source": [
    "set_features_filename=data_dir+\"/\"+\"set_features.p\"\n",
    "set_features=pickle.load(open(set_features_filename,\"rb\"))"
   ]
  },
  {
   "cell_type": "code",
   "execution_count": 6,
   "metadata": {
    "ExecuteTime": {
     "end_time": "2019-02-15T02:40:13.124327Z",
     "start_time": "2019-02-15T02:40:13.097399Z"
    }
   },
   "outputs": [],
   "source": [
    "set_test_features_filename=data_dir+\"/\"+\"set_test_features.p\"\n",
    "set_test_features=pickle.load(open(set_test_features_filename,\"rb\"))"
   ]
  },
  {
   "cell_type": "markdown",
   "metadata": {},
   "source": [
    "#### Count Features"
   ]
  },
  {
   "cell_type": "code",
   "execution_count": 7,
   "metadata": {
    "ExecuteTime": {
     "end_time": "2019-02-15T02:40:13.151257Z",
     "start_time": "2019-02-15T02:40:13.127320Z"
    }
   },
   "outputs": [],
   "source": [
    "count_features_filename=data_dir+\"/\"+\"count_features.p\"\n",
    "count_features=pickle.load(open(count_features_filename,\"rb\"))"
   ]
  },
  {
   "cell_type": "code",
   "execution_count": 8,
   "metadata": {
    "ExecuteTime": {
     "end_time": "2019-02-15T02:40:13.168209Z",
     "start_time": "2019-02-15T02:40:13.154247Z"
    }
   },
   "outputs": [],
   "source": [
    "count_test_features_filename=data_dir+\"/\"+\"count_test_features.p\"\n",
    "count_test_features=pickle.load(open(count_test_features_filename,\"rb\"))"
   ]
  },
  {
   "cell_type": "markdown",
   "metadata": {},
   "source": [
    "#### TF-IDF Features"
   ]
  },
  {
   "cell_type": "code",
   "execution_count": 9,
   "metadata": {
    "ExecuteTime": {
     "end_time": "2019-02-15T02:40:13.189153Z",
     "start_time": "2019-02-15T02:40:13.170204Z"
    }
   },
   "outputs": [],
   "source": [
    "tfidf_features_filename=data_dir+\"/\"+\"tfidf_features.p\"\n",
    "tfidf_features=pickle.load(open(tfidf_features_filename,\"rb\"))"
   ]
  },
  {
   "cell_type": "code",
   "execution_count": 10,
   "metadata": {
    "ExecuteTime": {
     "end_time": "2019-02-15T02:40:13.210097Z",
     "start_time": "2019-02-15T02:40:13.191148Z"
    }
   },
   "outputs": [],
   "source": [
    "tfidf_test_features_filename=data_dir+\"/\"+\"tfidf_test_features.p\"\n",
    "tfidf_test_features=pickle.load(open(tfidf_test_features_filename,\"rb\"))"
   ]
  },
  {
   "cell_type": "markdown",
   "metadata": {},
   "source": [
    "## Naive Bayes Implementation"
   ]
  },
  {
   "cell_type": "markdown",
   "metadata": {},
   "source": [
    "With represent a document $i$ as $X_{i,d}$ the vector of counts for each word $d=1,\\cdots, V$ where $V$ is the corpus vocabulary size.\n",
    "\n",
    "If document classes belong to the set $k=1,\\cdots K$, where $K$ is the number of classes  we  can represent the document labels as a $Z_{i,k}$ one-hot encoded variable\n",
    "($Z_{i,k}=1$ if document $i$ belongs to class $k$, zero otherwise.\n",
    "\n",
    "With this representation, $n_{k,d}$ the number of times that word $d$ appears in documents on class $k$ can be expressed as \n",
    "$$\n",
    "    n_{k,d} = \\sum_i Z_{i,k} X_{i,d} = Z^T X\n",
    "$$\n",
    "and $n_k$ the total number of words   in class $k$ is\n",
    "$$\n",
    "    n_k = \\sum_d n_{k,d}\n",
    "$$\n",
    "    "
   ]
  },
  {
   "cell_type": "markdown",
   "metadata": {},
   "source": [
    "Let's collect our inputs and labels"
   ]
  },
  {
   "cell_type": "code",
   "execution_count": 11,
   "metadata": {
    "ExecuteTime": {
     "end_time": "2019-02-15T02:40:13.226055Z",
     "start_time": "2019-02-15T02:40:13.213089Z"
    }
   },
   "outputs": [
    {
     "data": {
      "text/plain": [
       "((2500,), (2500, 28060))"
      ]
     },
     "execution_count": 11,
     "metadata": {},
     "output_type": "execute_result"
    }
   ],
   "source": [
    "X=count_features\n",
    "X_test=count_test_features\n",
    "Y.shape,X.shape"
   ]
  },
  {
   "cell_type": "markdown",
   "metadata": {},
   "source": [
    "And define our $Z_{i,k}$ dummy variables"
   ]
  },
  {
   "cell_type": "code",
   "execution_count": 12,
   "metadata": {
    "ExecuteTime": {
     "end_time": "2019-02-15T02:40:13.272931Z",
     "start_time": "2019-02-15T02:40:13.231042Z"
    }
   },
   "outputs": [
    {
     "name": "stdout",
     "output_type": "stream",
     "text": [
      "(2500, 50)\n"
     ]
    }
   ],
   "source": [
    "dummies=pd.get_dummies(Y,prefix=\"\",prefix_sep=\"\",sparse=True)\n",
    "labels=dummies.columns\n",
    "Z=dummies.to_coo() # Most entries are zero, so we want Z represented as a sparse matrix\n",
    "             # if you remove this line, calculations become very slow\n",
    "print(Z.shape)"
   ]
  },
  {
   "cell_type": "markdown",
   "metadata": {},
   "source": [
    "And we can compute $n_{k,d}$ the word counts as a vector product"
   ]
  },
  {
   "cell_type": "code",
   "execution_count": 13,
   "metadata": {
    "ExecuteTime": {
     "end_time": "2019-02-15T02:40:13.289883Z",
     "start_time": "2019-02-15T02:40:13.274924Z"
    }
   },
   "outputs": [
    {
     "data": {
      "text/plain": [
       "(50, 28060)"
      ]
     },
     "execution_count": 13,
     "metadata": {},
     "output_type": "execute_result"
    }
   ],
   "source": [
    "word_counts=Z.T.dot(X)\n",
    "word_counts.shape"
   ]
  },
  {
   "cell_type": "markdown",
   "metadata": {
    "ExecuteTime": {
     "end_time": "2017-11-24T12:21:14.972254Z",
     "start_time": "2017-11-24T12:21:14.967238Z"
    }
   },
   "source": [
    "And $n_k$ as the sum over all words in class $k$"
   ]
  },
  {
   "cell_type": "code",
   "execution_count": 14,
   "metadata": {
    "ExecuteTime": {
     "end_time": "2019-02-15T02:40:13.298859Z",
     "start_time": "2019-02-15T02:40:13.292876Z"
    }
   },
   "outputs": [
    {
     "name": "stdout",
     "output_type": "stream",
     "text": [
      "(50, 1)\n"
     ]
    }
   ],
   "source": [
    "class_word_counts=word_counts.sum(axis=1)\n",
    "print(class_word_counts.shape)"
   ]
  },
  {
   "cell_type": "markdown",
   "metadata": {},
   "source": [
    "We set $\\alpha$ the Laplace smoothing parameter, and $V$, the vocabulary size"
   ]
  },
  {
   "cell_type": "code",
   "execution_count": 15,
   "metadata": {
    "ExecuteTime": {
     "end_time": "2019-02-15T02:40:13.314817Z",
     "start_time": "2019-02-15T02:40:13.301852Z"
    }
   },
   "outputs": [
    {
     "name": "stdout",
     "output_type": "stream",
     "text": [
      "alpha =  0.5\n",
      "V     =  28060\n"
     ]
    }
   ],
   "source": [
    "alpha=0.5\n",
    "V=X.shape[1] # Vocabulary size\n",
    "print(\"alpha = \",alpha)\n",
    "print(\"V     = \",V)"
   ]
  },
  {
   "cell_type": "markdown",
   "metadata": {},
   "source": [
    "the **Naive Bayes weigths** are given by\n",
    "$$\n",
    "    w_{k,d} = \\log \\frac{ \\alpha+n_{k,d} }{ \\alpha V+n_{k} }\n",
    "$$\n",
    "\n",
    "*( This is the generalization to categorical variables  of the Bernoulli's Bayesian predictive posterior probability expression you worked out in  **Homework 2**)*"
   ]
  },
  {
   "cell_type": "code",
   "execution_count": 16,
   "metadata": {
    "ExecuteTime": {
     "end_time": "2019-02-15T02:40:13.393606Z",
     "start_time": "2019-02-15T02:40:13.318806Z"
    }
   },
   "outputs": [
    {
     "data": {
      "text/plain": [
       "(50, 28060)"
      ]
     },
     "execution_count": 16,
     "metadata": {},
     "output_type": "execute_result"
    }
   ],
   "source": [
    "# can not add a constant to a sparse matrix, so we need to \n",
    "# transform the word_counts into a dense numpy matrix\n",
    "word_counts=word_counts.todense()\n",
    "w=np.log((alpha+word_counts)/(class_word_counts+alpha*V))\n",
    "w.shape"
   ]
  },
  {
   "cell_type": "markdown",
   "metadata": {},
   "source": [
    "In the Naive Bayes approximation the log probability of single new document represented by the counts vector $x_d$ belongs to class $k$ is given by\n",
    "$$\n",
    "    l_k = b_k+\\sum_d x_d w_{k,d}\n",
    "$$\n",
    "where, $b_k$ are the *a priori* log probabilities of each document class which can be estimated from the corpus class labels as\n",
    "$$\n",
    "    b_k = \\log \\frac{1}{N}\\sum_i Z_{i,k}\n",
    "$$\n",
    "\n",
    "For a collection of $N$ documents represented by count matrix $X_{i,d}$ this formula becomes\n",
    "$$\n",
    "    l_{i,k} = b_k+\\sum_d X_{i,d} w_{k,d}\n",
    "$$\n",
    "or, in matrix notation:\n",
    "$$\n",
    "    L = b+X \\cdot W^T\n",
    "$$\n",
    "where $L$ is the $N \\times K$ matrix of class probabilities for each document and $b$ is the $K$-dimensional vector of *a priori* class probabilities."
   ]
  },
  {
   "cell_type": "code",
   "execution_count": 17,
   "metadata": {
    "ExecuteTime": {
     "end_time": "2019-02-15T02:40:13.411559Z",
     "start_time": "2019-02-15T02:40:13.395601Z"
    }
   },
   "outputs": [],
   "source": [
    "L=X_test[48:53].dot(w.T)"
   ]
  },
  {
   "cell_type": "markdown",
   "metadata": {},
   "source": [
    "Finally we select the class $Y_i$ of a document as \n",
    "$$\n",
    "    Y_i = \\underset{k}{\\operatorname{argmax}} L_{i,k}\n",
    "$$"
   ]
  },
  {
   "cell_type": "code",
   "execution_count": 18,
   "metadata": {
    "ExecuteTime": {
     "end_time": "2019-02-15T02:40:13.426532Z",
     "start_time": "2019-02-15T02:40:13.413555Z"
    }
   },
   "outputs": [],
   "source": [
    "Y_pred=L.argmax(axis=1) \n",
    "Y_pred=Y_pred.ravel() # numpy returns a Nx1 matrix , but we want a numpy N vector\n"
   ]
  },
  {
   "cell_type": "markdown",
   "metadata": {},
   "source": [
    "We collect this calculations into an easy to use implementation"
   ]
  },
  {
   "cell_type": "code",
   "execution_count": 19,
   "metadata": {
    "ExecuteTime": {
     "end_time": "2019-02-15T02:40:13.448460Z",
     "start_time": "2019-02-15T02:40:13.430508Z"
    }
   },
   "outputs": [],
   "source": [
    "class NaiveBayes:\n",
    "    def __init__(self,alpha):\n",
    "        self.alpha=alpha\n",
    "        \n",
    "    def fit(self,X,Y):\n",
    "        V=X.shape[1]\n",
    "        dummies=pd.get_dummies(Y,prefix=\"\",prefix_sep=\"\",sparse=True)\n",
    "        self.classes=dummies.columns\n",
    "        Z=dummies.to_coo()\n",
    "        word_counts=Z.T.dot(X).todense()\n",
    "        class_word_counts=word_counts.sum(axis=1)\n",
    "        self.b=np.log(Z.sum(axis=0)/Z.sum())\n",
    "        self.w=np.log((self.alpha+word_counts)/(self.alpha*V+class_word_counts))\n",
    "    def predict(self,X):\n",
    "        L=self.b+X.dot(self.w.T)\n",
    "        Y_pred=L.argmax(axis=1)\n",
    "        return np.array(self.classes[Y_pred]).ravel()"
   ]
  },
  {
   "cell_type": "markdown",
   "metadata": {},
   "source": [
    "### Test of Implemenation"
   ]
  },
  {
   "cell_type": "markdown",
   "metadata": {},
   "source": [
    "We select a few test documents to test"
   ]
  },
  {
   "cell_type": "code",
   "execution_count": 20,
   "metadata": {
    "ExecuteTime": {
     "end_time": "2019-02-15T02:40:13.466412Z",
     "start_time": "2019-02-15T02:40:13.451452Z"
    }
   },
   "outputs": [],
   "source": [
    "x=X_test[48:153]\n",
    "y=Y_test[48:153]"
   ]
  },
  {
   "cell_type": "code",
   "execution_count": 21,
   "metadata": {
    "ExecuteTime": {
     "end_time": "2019-02-15T02:40:13.581106Z",
     "start_time": "2019-02-15T02:40:13.469405Z"
    }
   },
   "outputs": [
    {
     "data": {
      "text/plain": [
       "0.49523809523809526"
      ]
     },
     "execution_count": 21,
     "metadata": {},
     "output_type": "execute_result"
    }
   ],
   "source": [
    "alpha=1\n",
    "model=NaiveBayes(alpha)\n",
    "model.fit(X,Y)\n",
    "Y_pred=model.predict(x)\n",
    "np.average(Y_pred==y)\n"
   ]
  },
  {
   "cell_type": "markdown",
   "metadata": {},
   "source": [
    "### Comparison to `Sklearn` implementation"
   ]
  },
  {
   "cell_type": "code",
   "execution_count": 22,
   "metadata": {
    "ExecuteTime": {
     "end_time": "2019-02-15T02:40:13.588086Z",
     "start_time": "2019-02-15T02:40:13.584097Z"
    }
   },
   "outputs": [],
   "source": [
    "sk_model=MultinomialNB(alpha=alpha)"
   ]
  },
  {
   "cell_type": "code",
   "execution_count": 23,
   "metadata": {
    "ExecuteTime": {
     "end_time": "2019-02-15T02:40:13.728710Z",
     "start_time": "2019-02-15T02:40:13.591079Z"
    }
   },
   "outputs": [
    {
     "data": {
      "text/plain": [
       "MultinomialNB(alpha=1, class_prior=None, fit_prior=True)"
      ]
     },
     "execution_count": 23,
     "metadata": {},
     "output_type": "execute_result"
    }
   ],
   "source": [
    "sk_model.fit(X,Y)"
   ]
  },
  {
   "cell_type": "code",
   "execution_count": 24,
   "metadata": {
    "ExecuteTime": {
     "end_time": "2019-02-15T02:40:13.751648Z",
     "start_time": "2019-02-15T02:40:13.730704Z"
    }
   },
   "outputs": [
    {
     "data": {
      "text/plain": [
       "0.49523809523809526"
      ]
     },
     "execution_count": 24,
     "metadata": {},
     "output_type": "execute_result"
    }
   ],
   "source": [
    "y_pred=sk_model.predict(x)\n",
    "np.average(y_pred==y)"
   ]
  },
  {
   "cell_type": "markdown",
   "metadata": {},
   "source": [
    "## Full Test Corpus Evaluation"
   ]
  },
  {
   "cell_type": "markdown",
   "metadata": {},
   "source": [
    "### In sample performance "
   ]
  },
  {
   "cell_type": "code",
   "execution_count": 25,
   "metadata": {
    "ExecuteTime": {
     "end_time": "2019-02-15T02:40:13.915211Z",
     "start_time": "2019-02-15T02:40:13.753644Z"
    }
   },
   "outputs": [
    {
     "data": {
      "text/plain": [
       "0.9676"
      ]
     },
     "execution_count": 25,
     "metadata": {},
     "output_type": "execute_result"
    }
   ],
   "source": [
    "model=NaiveBayes(alpha)\n",
    "model.fit(X,Y)\n",
    "Y_pred=model.predict(X)\n",
    "np.average(Y_pred==Y)\n"
   ]
  },
  {
   "cell_type": "markdown",
   "metadata": {
    "ExecuteTime": {
     "end_time": "2017-11-24T12:34:14.969700Z",
     "start_time": "2017-11-24T12:34:14.966693Z"
    },
    "collapsed": true
   },
   "source": [
    "### Out of Sample performance"
   ]
  },
  {
   "cell_type": "code",
   "execution_count": 26,
   "metadata": {
    "ExecuteTime": {
     "end_time": "2019-02-15T02:40:13.981036Z",
     "start_time": "2019-02-15T02:40:13.917206Z"
    }
   },
   "outputs": [
    {
     "data": {
      "text/plain": [
       "0.65"
      ]
     },
     "execution_count": 26,
     "metadata": {},
     "output_type": "execute_result"
    }
   ],
   "source": [
    "Y_pred=model.predict(X_test)\n",
    "np.average(Y_pred==Y_test)"
   ]
  },
  {
   "cell_type": "code",
   "execution_count": 27,
   "metadata": {
    "ExecuteTime": {
     "end_time": "2019-02-15T02:40:14.227378Z",
     "start_time": "2019-02-15T02:40:13.984028Z"
    }
   },
   "outputs": [
    {
     "data": {
      "text/plain": [
       "0.65"
      ]
     },
     "execution_count": 27,
     "metadata": {},
     "output_type": "execute_result"
    }
   ],
   "source": [
    "sk_model=MultinomialNB(alpha=alpha)\n",
    "sk_model.fit(X,Y)\n",
    "Y_pred=sk_model.predict(X_test)\n",
    "np.average(Y_pred==Y_test)"
   ]
  },
  {
   "cell_type": "markdown",
   "metadata": {},
   "source": [
    "### Confusion Matrix "
   ]
  },
  {
   "cell_type": "markdown",
   "metadata": {},
   "source": [
    "We could use the confusion matrix to understand the  kind of errors that the model makes"
   ]
  },
  {
   "cell_type": "code",
   "execution_count": 28,
   "metadata": {
    "ExecuteTime": {
     "end_time": "2019-02-15T02:40:14.238348Z",
     "start_time": "2019-02-15T02:40:14.230369Z"
    }
   },
   "outputs": [
    {
     "name": "stderr",
     "output_type": "stream",
     "text": [
      "C:\\ProgramData\\Anaconda3\\lib\\site-packages\\ipykernel_launcher.py:1: FutureWarning: Method .as_matrix will be removed in a future version. Use .values instead.\n",
      "  \"\"\"Entry point for launching an IPython kernel.\n"
     ]
    }
   ],
   "source": [
    "classes=np.unique(Y.as_matrix())"
   ]
  },
  {
   "cell_type": "code",
   "execution_count": 29,
   "metadata": {
    "ExecuteTime": {
     "end_time": "2019-02-15T02:40:24.044664Z",
     "start_time": "2019-02-15T02:40:14.240343Z"
    },
    "scrolled": true
   },
   "outputs": [
    {
     "name": "stdout",
     "output_type": "stream",
     "text": [
      "Confusion matrix, without normalization\n",
      "[[44  0  0 ...  0  0  0]\n",
      " [ 0 23  0 ...  0  0  0]\n",
      " [ 0  0 26 ...  0  0  0]\n",
      " ...\n",
      " [ 0  0  2 ... 40  0  0]\n",
      " [ 0  0  0 ...  0 22  0]\n",
      " [ 0  0  0 ...  0  0 14]]\n"
     ]
    },
    {
     "data": {
      "image/png": "[encoded data removed]",
      "text/plain": [
       "<Figure size 432x288 with 2 Axes>"
      ]
     },
     "metadata": {},
     "output_type": "display_data"
    }
   ],
   "source": [
    "cnf_matrix = metrics.confusion_matrix(Y_test, Y_pred)\n",
    "np.set_printoptions(precision=2)\n",
    "plots.plot_confusion_matrix(cnf_matrix,classes)"
   ]
  },
  {
   "cell_type": "markdown",
   "metadata": {
    "collapsed": true
   },
   "source": [
    "## TF-IDF Features Implementation of Naive-Bayes"
   ]
  },
  {
   "cell_type": "markdown",
   "metadata": {},
   "source": [
    "As we have represented Naive Bayes as a set of matrix multiplications operating over the\n",
    "document feature vector, we can naturally extend its implementation to any other feature vector.\n",
    "\n",
    "For example we can implement Naive Bayes using the **TF-IDF** feature vector"
   ]
  },
  {
   "cell_type": "code",
   "execution_count": 30,
   "metadata": {
    "ExecuteTime": {
     "end_time": "2019-02-15T02:40:24.051645Z",
     "start_time": "2019-02-15T02:40:24.046659Z"
    }
   },
   "outputs": [],
   "source": [
    "Xi=tfidf_features\n",
    "Xi_test=tfidf_test_features"
   ]
  },
  {
   "cell_type": "markdown",
   "metadata": {},
   "source": [
    "It performs slighly worse that on counts, but this is problem dependent."
   ]
  },
  {
   "cell_type": "code",
   "execution_count": 31,
   "metadata": {
    "ExecuteTime": {
     "end_time": "2019-02-15T02:40:24.217202Z",
     "start_time": "2019-02-15T02:40:24.054638Z"
    }
   },
   "outputs": [
    {
     "data": {
      "text/plain": [
       "0.6348"
      ]
     },
     "execution_count": 31,
     "metadata": {},
     "output_type": "execute_result"
    }
   ],
   "source": [
    "model.fit(Xi,Y)\n",
    "Y_pred=model.predict(Xi_test)\n",
    "np.average(Y_pred==Y_test)"
   ]
  },
  {
   "cell_type": "markdown",
   "metadata": {
    "ExecuteTime": {
     "end_time": "2018-01-22T11:17:00.202822Z",
     "start_time": "2018-01-22T11:17:00.187197Z"
    },
    "collapsed": true
   },
   "source": [
    "## Set Features Implementatio of Naive-Bayes"
   ]
  },
  {
   "cell_type": "code",
   "execution_count": 32,
   "metadata": {
    "ExecuteTime": {
     "end_time": "2019-02-15T02:40:24.225182Z",
     "start_time": "2019-02-15T02:40:24.220195Z"
    }
   },
   "outputs": [],
   "source": [
    "X_set=set_features\n",
    "X_set_test=set_test_features"
   ]
  },
  {
   "cell_type": "code",
   "execution_count": 33,
   "metadata": {
    "ExecuteTime": {
     "end_time": "2019-02-15T02:40:24.393732Z",
     "start_time": "2019-02-15T02:40:24.228174Z"
    }
   },
   "outputs": [
    {
     "data": {
      "text/plain": [
       "0.6584"
      ]
     },
     "execution_count": 33,
     "metadata": {},
     "output_type": "execute_result"
    }
   ],
   "source": [
    "model.fit(X_set,Y)\n",
    "Y_pred=model.predict(X_set_test)\n",
    "np.average(Y_pred==Y_test)"
   ]
  }
 ],
 "metadata": {
  "kernelspec": {
   "display_name": "Python 3",
   "language": "python",
   "name": "python3"
  },
  "language_info": {
   "codemirror_mode": {
    "name": "ipython",
    "version": 3
   },
   "file_extension": ".py",
   "mimetype": "text/x-python",
   "name": "python",
   "nbconvert_exporter": "python",
   "pygments_lexer": "ipython3",
   "version": "3.6.5"
  },
  "toc": {
   "nav_menu": {},
   "number_sections": true,
   "sideBar": true,
   "skip_h1_title": false,
   "toc_cell": false,
   "toc_position": {},
   "toc_section_display": "block",
   "toc_window_display": false
  }
 },
 "nbformat": 4,
 "nbformat_minor": 2
}
