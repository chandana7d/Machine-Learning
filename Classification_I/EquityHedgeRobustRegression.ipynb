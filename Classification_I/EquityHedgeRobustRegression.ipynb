{
 "cells": [
  {
   "cell_type": "markdown",
   "metadata": {},
   "source": [
    "# Fat tails of Equity Returns and Robust Regression\n",
    "\n",
    "Today we will work with equity data. We will try to find the **optimal hedge ratio** between two stock indexes.\n",
    "\n",
    "We will compare a least squares estimator to a **robust** estimator based on Student's T distribution that is designed to model the non-Gaussianity of equity returns. \n",
    "\n",
    "We will see that:\n",
    "1. Hedge rations (regressions coefficients) are different between both regressors.\n",
    "1. The robust estimator performs better out of sample.\n",
    "1. The differences, however, are small.\n",
    "1. We will then discuss be the non-stationarity of the time series data.\n",
    "\n",
    "We will work with a model \n",
    "$$\n",
    "    y_t = \\theta_0 + \\theta_1 x_t + \\epsilon_t\n",
    "$$\n",
    "\n",
    "where we will assume that the *innovations* $\\epsilon$\n",
    "1. have zero mean\n",
    "2. are independent for $t\\ne t'$\n",
    "3. Are identically distributed\n",
    "4. Non necessarily Gaussian.\n",
    " "
   ]
  },
  {
   "cell_type": "markdown",
   "metadata": {},
   "source": [
    "#### Target and Predictor Index"
   ]
  },
  {
   "cell_type": "code",
   "execution_count": 1,
   "metadata": {
    "ExecuteTime": {
     "end_time": "2018-09-27T18:37:05.760646Z",
     "start_time": "2018-09-27T18:37:05.756645Z"
    }
   },
   "outputs": [],
   "source": [
    "target= \"RU3000V\" # Rusell 3,000 Value Stocks Index\n",
    "predictor=\"RU3000G\" # Rusell 3,000 Growth Stocks Index"
   ]
  },
  {
   "cell_type": "markdown",
   "metadata": {},
   "source": [
    "####  Define Train and Test Period"
   ]
  },
  {
   "cell_type": "code",
   "execution_count": 2,
   "metadata": {
    "ExecuteTime": {
     "end_time": "2018-09-27T18:37:05.782648Z",
     "start_time": "2018-09-27T18:37:05.767646Z"
    }
   },
   "outputs": [],
   "source": [
    "# test before presidential election 2016: 8 Nov 2016\n",
    "from datetime import date\n",
    "test_date0=date(2014,10,30)\n",
    "test_date1=date(2016,10,30)"
   ]
  },
  {
   "cell_type": "markdown",
   "metadata": {},
   "source": [
    "## Preliminaries"
   ]
  },
  {
   "cell_type": "markdown",
   "metadata": {},
   "source": [
    "### Imports"
   ]
  },
  {
   "cell_type": "code",
   "execution_count": 3,
   "metadata": {
    "ExecuteTime": {
     "end_time": "2018-09-27T18:37:16.088678Z",
     "start_time": "2018-09-27T18:37:05.784648Z"
    }
   },
   "outputs": [
    {
     "name": "stderr",
     "output_type": "stream",
     "text": [
      "/home/manel/anaconda3/lib/python3.6/site-packages/statsmodels/compat/pandas.py:56: FutureWarning: The pandas.core.datetools module is deprecated and will be removed in a future version. Please use the pandas.tseries module instead.\n",
      "  from pandas.core import datetools\n"
     ]
    }
   ],
   "source": [
    "\n",
    "\n",
    "import numpy as np\n",
    "import pandas as pd\n",
    "import scipy.optimize\n",
    "\n",
    "from sklearn import linear_model\n",
    "from sklearn.metrics import mean_squared_error\n",
    "\n",
    "from scipy import stats\n",
    "from scipy import special\n",
    "\n",
    "import matplotlib.pyplot as plt\n",
    "import seaborn as sns\n",
    "import statsmodels.graphics.tsaplots\n",
    "\n",
    "%matplotlib inline"
   ]
  },
  {
   "cell_type": "markdown",
   "metadata": {},
   "source": [
    "### Data"
   ]
  },
  {
   "cell_type": "code",
   "execution_count": 4,
   "metadata": {
    "ExecuteTime": {
     "end_time": "2018-09-27T18:37:16.092679Z",
     "start_time": "2018-09-27T18:37:16.090678Z"
    }
   },
   "outputs": [],
   "source": [
    "data_dir=\"../../data/finance\""
   ]
  },
  {
   "cell_type": "code",
   "execution_count": 5,
   "metadata": {
    "ExecuteTime": {
     "end_time": "2018-09-27T18:37:16.292699Z",
     "start_time": "2018-09-27T18:37:16.093679Z"
    },
    "scrolled": true
   },
   "outputs": [
    {
     "data": {
      "text/html": [
       "<div>\n",
       "<style scoped>\n",
       "    .dataframe tbody tr th:only-of-type {\n",
       "        vertical-align: middle;\n",
       "    }\n",
       "\n",
       "    .dataframe tbody tr th {\n",
       "        vertical-align: top;\n",
       "    }\n",
       "\n",
       "    .dataframe thead th {\n",
       "        text-align: right;\n",
       "    }\n",
       "</style>\n",
       "<table border=\"1\" class=\"dataframe\">\n",
       "  <thead>\n",
       "    <tr style=\"text-align: right;\">\n",
       "      <th></th>\n",
       "      <th>RU3000</th>\n",
       "      <th>RU2000</th>\n",
       "      <th>RU1000V</th>\n",
       "      <th>RU1000</th>\n",
       "      <th>RU2000V</th>\n",
       "      <th>RU1000G</th>\n",
       "      <th>RUMIDCAP</th>\n",
       "      <th>RU2000G</th>\n",
       "      <th>RU3000V</th>\n",
       "      <th>RMIDGR</th>\n",
       "      <th>RMIDVL</th>\n",
       "      <th>RU3000G</th>\n",
       "    </tr>\n",
       "    <tr>\n",
       "      <th>DATE</th>\n",
       "      <th></th>\n",
       "      <th></th>\n",
       "      <th></th>\n",
       "      <th></th>\n",
       "      <th></th>\n",
       "      <th></th>\n",
       "      <th></th>\n",
       "      <th></th>\n",
       "      <th></th>\n",
       "      <th></th>\n",
       "      <th></th>\n",
       "      <th></th>\n",
       "    </tr>\n",
       "  </thead>\n",
       "  <tbody>\n",
       "    <tr>\n",
       "      <th>1995-05-31</th>\n",
       "      <td>1032.69</td>\n",
       "      <td>982.04</td>\n",
       "      <td>192.75</td>\n",
       "      <td>1036.37</td>\n",
       "      <td>1203.23</td>\n",
       "      <td>181.34</td>\n",
       "      <td>1242.92</td>\n",
       "      <td>1190.50</td>\n",
       "      <td>1000.00</td>\n",
       "      <td>338.75</td>\n",
       "      <td>328.35</td>\n",
       "      <td>1000.00</td>\n",
       "    </tr>\n",
       "    <tr>\n",
       "      <th>1995-06-01</th>\n",
       "      <td>1034.42</td>\n",
       "      <td>986.60</td>\n",
       "      <td>193.05</td>\n",
       "      <td>1037.77</td>\n",
       "      <td>1209.42</td>\n",
       "      <td>181.55</td>\n",
       "      <td>1246.34</td>\n",
       "      <td>1195.46</td>\n",
       "      <td>1001.91</td>\n",
       "      <td>339.98</td>\n",
       "      <td>329.00</td>\n",
       "      <td>1001.45</td>\n",
       "    </tr>\n",
       "    <tr>\n",
       "      <th>1995-06-02</th>\n",
       "      <td>1034.56</td>\n",
       "      <td>989.48</td>\n",
       "      <td>192.99</td>\n",
       "      <td>1037.61</td>\n",
       "      <td>1212.55</td>\n",
       "      <td>181.54</td>\n",
       "      <td>1247.38</td>\n",
       "      <td>1199.32</td>\n",
       "      <td>1001.90</td>\n",
       "      <td>340.23</td>\n",
       "      <td>329.30</td>\n",
       "      <td>1001.72</td>\n",
       "    </tr>\n",
       "    <tr>\n",
       "      <th>1995-06-05</th>\n",
       "      <td>1041.21</td>\n",
       "      <td>996.50</td>\n",
       "      <td>194.27</td>\n",
       "      <td>1044.21</td>\n",
       "      <td>1219.08</td>\n",
       "      <td>182.66</td>\n",
       "      <td>1259.02</td>\n",
       "      <td>1209.81</td>\n",
       "      <td>1008.40</td>\n",
       "      <td>343.85</td>\n",
       "      <td>331.99</td>\n",
       "      <td>1008.11</td>\n",
       "    </tr>\n",
       "    <tr>\n",
       "      <th>1995-06-06</th>\n",
       "      <td>1041.04</td>\n",
       "      <td>998.22</td>\n",
       "      <td>194.20</td>\n",
       "      <td>1043.82</td>\n",
       "      <td>1221.69</td>\n",
       "      <td>182.59</td>\n",
       "      <td>1258.83</td>\n",
       "      <td>1211.42</td>\n",
       "      <td>1008.28</td>\n",
       "      <td>343.47</td>\n",
       "      <td>332.23</td>\n",
       "      <td>1007.89</td>\n",
       "    </tr>\n",
       "  </tbody>\n",
       "</table>\n",
       "</div>"
      ],
      "text/plain": [
       "             RU3000  RU2000  RU1000V   RU1000  RU2000V  RU1000G  RUMIDCAP  \\\n",
       "DATE                                                                        \n",
       "1995-05-31  1032.69  982.04   192.75  1036.37  1203.23   181.34   1242.92   \n",
       "1995-06-01  1034.42  986.60   193.05  1037.77  1209.42   181.55   1246.34   \n",
       "1995-06-02  1034.56  989.48   192.99  1037.61  1212.55   181.54   1247.38   \n",
       "1995-06-05  1041.21  996.50   194.27  1044.21  1219.08   182.66   1259.02   \n",
       "1995-06-06  1041.04  998.22   194.20  1043.82  1221.69   182.59   1258.83   \n",
       "\n",
       "            RU2000G  RU3000V  RMIDGR  RMIDVL  RU3000G  \n",
       "DATE                                                   \n",
       "1995-05-31  1190.50  1000.00  338.75  328.35  1000.00  \n",
       "1995-06-01  1195.46  1001.91  339.98  329.00  1001.45  \n",
       "1995-06-02  1199.32  1001.90  340.23  329.30  1001.72  \n",
       "1995-06-05  1209.81  1008.40  343.85  331.99  1008.11  \n",
       "1995-06-06  1211.42  1008.28  343.47  332.23  1007.89  "
      ]
     },
     "execution_count": 5,
     "metadata": {},
     "output_type": "execute_result"
    }
   ],
   "source": [
    "eqLevels=pd.read_csv(data_dir+\"/RussellIndexes.csv\",index_col=[0],parse_dates=[0])\n",
    "eqLevels.head()"
   ]
  },
  {
   "cell_type": "code",
   "execution_count": 6,
   "metadata": {
    "ExecuteTime": {
     "end_time": "2018-09-27T18:37:16.486718Z",
     "start_time": "2018-09-27T18:37:16.294699Z"
    },
    "scrolled": true
   },
   "outputs": [
    {
     "data": {
      "text/html": [
       "<div>\n",
       "<style scoped>\n",
       "    .dataframe tbody tr th:only-of-type {\n",
       "        vertical-align: middle;\n",
       "    }\n",
       "\n",
       "    .dataframe tbody tr th {\n",
       "        vertical-align: top;\n",
       "    }\n",
       "\n",
       "    .dataframe thead th {\n",
       "        text-align: right;\n",
       "    }\n",
       "</style>\n",
       "<table border=\"1\" class=\"dataframe\">\n",
       "  <thead>\n",
       "    <tr style=\"text-align: right;\">\n",
       "      <th></th>\n",
       "      <th>RU3000</th>\n",
       "      <th>RU2000</th>\n",
       "      <th>RU1000V</th>\n",
       "      <th>RU1000</th>\n",
       "      <th>RU2000V</th>\n",
       "      <th>RU1000G</th>\n",
       "      <th>RUMIDCAP</th>\n",
       "      <th>RU2000G</th>\n",
       "      <th>RU3000V</th>\n",
       "      <th>RMIDGR</th>\n",
       "      <th>RMIDVL</th>\n",
       "      <th>RU3000G</th>\n",
       "    </tr>\n",
       "    <tr>\n",
       "      <th>DATE</th>\n",
       "      <th></th>\n",
       "      <th></th>\n",
       "      <th></th>\n",
       "      <th></th>\n",
       "      <th></th>\n",
       "      <th></th>\n",
       "      <th></th>\n",
       "      <th></th>\n",
       "      <th></th>\n",
       "      <th></th>\n",
       "      <th></th>\n",
       "      <th></th>\n",
       "    </tr>\n",
       "  </thead>\n",
       "  <tbody>\n",
       "    <tr>\n",
       "      <th>1995-06-01</th>\n",
       "      <td>0.001674</td>\n",
       "      <td>0.004633</td>\n",
       "      <td>0.001555</td>\n",
       "      <td>0.001350</td>\n",
       "      <td>0.005131</td>\n",
       "      <td>0.001157</td>\n",
       "      <td>0.002748</td>\n",
       "      <td>0.004158</td>\n",
       "      <td>0.001908</td>\n",
       "      <td>0.003624</td>\n",
       "      <td>0.001978</td>\n",
       "      <td>0.001449</td>\n",
       "    </tr>\n",
       "    <tr>\n",
       "      <th>1995-06-02</th>\n",
       "      <td>0.000135</td>\n",
       "      <td>0.002915</td>\n",
       "      <td>-0.000311</td>\n",
       "      <td>-0.000154</td>\n",
       "      <td>0.002585</td>\n",
       "      <td>-0.000055</td>\n",
       "      <td>0.000834</td>\n",
       "      <td>0.003224</td>\n",
       "      <td>-0.000010</td>\n",
       "      <td>0.000735</td>\n",
       "      <td>0.000911</td>\n",
       "      <td>0.000270</td>\n",
       "    </tr>\n",
       "    <tr>\n",
       "      <th>1995-06-05</th>\n",
       "      <td>0.006407</td>\n",
       "      <td>0.007070</td>\n",
       "      <td>0.006611</td>\n",
       "      <td>0.006341</td>\n",
       "      <td>0.005371</td>\n",
       "      <td>0.006150</td>\n",
       "      <td>0.009288</td>\n",
       "      <td>0.008709</td>\n",
       "      <td>0.006467</td>\n",
       "      <td>0.010584</td>\n",
       "      <td>0.008136</td>\n",
       "      <td>0.006359</td>\n",
       "    </tr>\n",
       "    <tr>\n",
       "      <th>1995-06-06</th>\n",
       "      <td>-0.000163</td>\n",
       "      <td>0.001725</td>\n",
       "      <td>-0.000360</td>\n",
       "      <td>-0.000374</td>\n",
       "      <td>0.002139</td>\n",
       "      <td>-0.000383</td>\n",
       "      <td>-0.000151</td>\n",
       "      <td>0.001330</td>\n",
       "      <td>-0.000119</td>\n",
       "      <td>-0.001106</td>\n",
       "      <td>0.000723</td>\n",
       "      <td>-0.000218</td>\n",
       "    </tr>\n",
       "    <tr>\n",
       "      <th>1995-06-07</th>\n",
       "      <td>-0.003686</td>\n",
       "      <td>0.000571</td>\n",
       "      <td>-0.006665</td>\n",
       "      <td>-0.004147</td>\n",
       "      <td>-0.001343</td>\n",
       "      <td>-0.001809</td>\n",
       "      <td>-0.002394</td>\n",
       "      <td>0.002399</td>\n",
       "      <td>-0.006158</td>\n",
       "      <td>0.000931</td>\n",
       "      <td>-0.005372</td>\n",
       "      <td>-0.001360</td>\n",
       "    </tr>\n",
       "  </tbody>\n",
       "</table>\n",
       "</div>"
      ],
      "text/plain": [
       "              RU3000    RU2000   RU1000V    RU1000   RU2000V   RU1000G  \\\n",
       "DATE                                                                     \n",
       "1995-06-01  0.001674  0.004633  0.001555  0.001350  0.005131  0.001157   \n",
       "1995-06-02  0.000135  0.002915 -0.000311 -0.000154  0.002585 -0.000055   \n",
       "1995-06-05  0.006407  0.007070  0.006611  0.006341  0.005371  0.006150   \n",
       "1995-06-06 -0.000163  0.001725 -0.000360 -0.000374  0.002139 -0.000383   \n",
       "1995-06-07 -0.003686  0.000571 -0.006665 -0.004147 -0.001343 -0.001809   \n",
       "\n",
       "            RUMIDCAP   RU2000G   RU3000V    RMIDGR    RMIDVL   RU3000G  \n",
       "DATE                                                                    \n",
       "1995-06-01  0.002748  0.004158  0.001908  0.003624  0.001978  0.001449  \n",
       "1995-06-02  0.000834  0.003224 -0.000010  0.000735  0.000911  0.000270  \n",
       "1995-06-05  0.009288  0.008709  0.006467  0.010584  0.008136  0.006359  \n",
       "1995-06-06 -0.000151  0.001330 -0.000119 -0.001106  0.000723 -0.000218  \n",
       "1995-06-07 -0.002394  0.002399 -0.006158  0.000931 -0.005372 -0.001360  "
      ]
     },
     "execution_count": 6,
     "metadata": {},
     "output_type": "execute_result"
    }
   ],
   "source": [
    "eqReturns=np.log(1+eqLevels.pct_change()).dropna()\n",
    "eqReturns.head()"
   ]
  },
  {
   "cell_type": "markdown",
   "metadata": {},
   "source": [
    "#### Training Data"
   ]
  },
  {
   "cell_type": "code",
   "execution_count": 7,
   "metadata": {
    "ExecuteTime": {
     "end_time": "2018-09-27T18:37:16.494719Z",
     "start_time": "2018-09-27T18:37:16.488718Z"
    }
   },
   "outputs": [
    {
     "data": {
      "text/plain": [
       "((4904,), (4904,))"
      ]
     },
     "execution_count": 7,
     "metadata": {},
     "output_type": "execute_result"
    }
   ],
   "source": [
    "X_train=eqReturns[:test_date0][predictor]\n",
    "Y_train=eqReturns[:test_date0][target]\n",
    "X_train.shape,Y_train.shape"
   ]
  },
  {
   "cell_type": "markdown",
   "metadata": {},
   "source": [
    "#### Test Data"
   ]
  },
  {
   "cell_type": "code",
   "execution_count": 8,
   "metadata": {
    "ExecuteTime": {
     "end_time": "2018-09-27T18:37:16.517721Z",
     "start_time": "2018-09-27T18:37:16.496719Z"
    }
   },
   "outputs": [
    {
     "data": {
      "text/plain": [
       "((504,), (504,))"
      ]
     },
     "execution_count": 8,
     "metadata": {},
     "output_type": "execute_result"
    }
   ],
   "source": [
    "X_test=eqReturns[test_date0:test_date1][predictor]\n",
    "Y_test=eqReturns[test_date0:test_date1][target]\n",
    "X_test.shape,Y_test.shape"
   ]
  },
  {
   "cell_type": "markdown",
   "metadata": {},
   "source": [
    "## Least Squares regression model of Equity Returns"
   ]
  },
  {
   "cell_type": "markdown",
   "metadata": {},
   "source": [
    " [Seaborn](https://seaborn.pydata.org/examples/index.html) library is specialized in statistical data visualization.\n",
    " \n",
    " We will use is in this notebook to quickly visualize the data.\n",
    " \n",
    "The relationship between $X$ and $Y$ in the training set seems roughly linear, so our linear model is justified\n",
    " \n",
    " $$\n",
    "     y_t = \\theta_0+ \\theta_1 x_t + \\epsilon_t\n",
    " $$"
   ]
  },
  {
   "cell_type": "code",
   "execution_count": 9,
   "metadata": {
    "ExecuteTime": {
     "end_time": "2018-09-27T18:37:17.317801Z",
     "start_time": "2018-09-27T18:37:16.519721Z"
    }
   },
   "outputs": [
    {
     "data": {
      "text/plain": [
       "<seaborn.axisgrid.JointGrid at 0x7f33ab319b38>"
      ]
     },
     "execution_count": 9,
     "metadata": {},
     "output_type": "execute_result"
    },
    {
     "data": {
      "image/png": "[encoded data removed]",
      "text/plain": [
       "<matplotlib.figure.Figure at 0x7f33ab319ba8>"
      ]
     },
     "metadata": {},
     "output_type": "display_data"
    }
   ],
   "source": [
    "sns.jointplot(x=Y_train,y=X_train,kind=\"reg\")"
   ]
  },
  {
   "cell_type": "markdown",
   "metadata": {},
   "source": [
    "We can select the optimal parameters my minimizing the **mean squared error**\n",
    "\n",
    "\\begin{equation}\n",
    "    \\hat{\\theta}_{\\textrm{N}} = \\textrm{argmin}_{\\theta_0,\\theta_1} \\frac{1}{2N}\\sum_i (y_i - \\theta_0 - \\theta_1 x_i)^2\n",
    "\\end{equation}\n",
    "\n",
    "If we assume that $\\epsilon$ is $\\mathcal{N}(0;s^2)$ distributed, we know that this estimator is the *maximum likelihood estimator*. \n",
    "\n",
    "But, even when $\\epsilon$ is not Gaussian the mean square error estimator is still\n",
    "1. Unbiased \n",
    "2. Lowest variance of all possible *linear* estimators of $\\theta_0$, $\\theta_1$.\n",
    "                                                       "
   ]
  },
  {
   "cell_type": "markdown",
   "metadata": {},
   "source": [
    "We can fit this model easily using `sklearn`'s linear regression model. "
   ]
  },
  {
   "cell_type": "code",
   "execution_count": 10,
   "metadata": {
    "ExecuteTime": {
     "end_time": "2018-09-27T18:37:17.321802Z",
     "start_time": "2018-09-27T18:37:17.319801Z"
    }
   },
   "outputs": [],
   "source": [
    "model_normal=linear_model.LinearRegression()"
   ]
  },
  {
   "cell_type": "code",
   "execution_count": 11,
   "metadata": {
    "ExecuteTime": {
     "end_time": "2018-09-27T18:37:17.357805Z",
     "start_time": "2018-09-27T18:37:17.323802Z"
    }
   },
   "outputs": [
    {
     "data": {
      "text/plain": [
       "LinearRegression(copy_X=True, fit_intercept=True, n_jobs=1, normalize=False)"
      ]
     },
     "execution_count": 11,
     "metadata": {},
     "output_type": "execute_result"
    }
   ],
   "source": [
    " # linear model complains if we pass a N vector for X,\n",
    "# it really wants a N x 1 matrix\n",
    "                 \n",
    "model_normal.fit(X_train.values.reshape(-1,1),Y_train)"
   ]
  },
  {
   "cell_type": "code",
   "execution_count": 12,
   "metadata": {
    "ExecuteTime": {
     "end_time": "2018-09-27T18:37:17.385808Z",
     "start_time": "2018-09-27T18:37:17.359805Z"
    }
   },
   "outputs": [
    {
     "data": {
      "text/plain": [
       "0.005951811579257517"
      ]
     },
     "execution_count": 12,
     "metadata": {},
     "output_type": "execute_result"
    }
   ],
   "source": [
    "Y_pred=model_normal.predict(X_train.values.reshape(-1,1))\n",
    "np.sqrt(mean_squared_error(Y_pred,Y_train))"
   ]
  },
  {
   "cell_type": "markdown",
   "metadata": {},
   "source": [
    "#### Distribution of Regression Residual"
   ]
  },
  {
   "cell_type": "code",
   "execution_count": 13,
   "metadata": {
    "ExecuteTime": {
     "end_time": "2018-09-27T18:37:17.404810Z",
     "start_time": "2018-09-27T18:37:17.387808Z"
    }
   },
   "outputs": [],
   "source": [
    "err_normal=Y_train-Y_pred\n",
    "err_normal.name=\"LSQ Residual\"\n"
   ]
  },
  {
   "cell_type": "code",
   "execution_count": 14,
   "metadata": {
    "ExecuteTime": {
     "end_time": "2018-09-27T18:37:17.620831Z",
     "start_time": "2018-09-27T18:37:17.407810Z"
    }
   },
   "outputs": [
    {
     "data": {
      "text/plain": [
       "<matplotlib.axes._subplots.AxesSubplot at 0x7f33a405f400>"
      ]
     },
     "execution_count": 14,
     "metadata": {},
     "output_type": "execute_result"
    },
    {
     "data": {
      "image/png": "[encoded data removed]",
      "text/plain": [
       "<matplotlib.figure.Figure at 0x7f33a40a1048>"
      ]
     },
     "metadata": {},
     "output_type": "display_data"
    }
   ],
   "source": [
    "sns.distplot(err_normal,fit=stats.norm,kde=False,norm_hist=True)"
   ]
  },
  {
   "cell_type": "markdown",
   "metadata": {},
   "source": [
    "The residuals, however, **do not fit a Normal distribution** very well.\n",
    "\n",
    "The points with **high leverage** ($X$ furthers from mean) could dominate correlation results."
   ]
  },
  {
   "cell_type": "markdown",
   "metadata": {},
   "source": [
    "##  Modelling the Residual Empirical Distribution"
   ]
  },
  {
   "cell_type": "markdown",
   "metadata": {},
   "source": [
    "### The t-distribtion\n",
    "\n",
    "The centered t-distribution is a generalization of the Gaussian distribution that has **fat tails**. It has pdf\n",
    "$$\n",
    "    P_{t}(t; \\nu, s) = \\frac{1}{\\sqrt{\\nu s}B(\\frac{1}{2},\\frac{\\nu}{2})}\n",
    "         \\left( 1 + \\frac{t^2}{\\nu s^2}\\right)^{-\\frac{\\nu+1}{2}}\n",
    "$$\n",
    "where $B(\\alpha,\\beta)$ is the beta function.\n",
    "\n",
    "The Gaussian distribution is the special case\n",
    "$$\n",
    "    \\lim_{\\nu \\rightarrow \\infty} P_{t}(t;\\nu,s) = \\mathcal{N}(t;0,s^2)\n",
    "$$\n",
    "so the parameter $s$ has the interpretation of the standard deviation $\\sigma$.\n",
    "\n",
    "When $\\nu$ is finite, t-student distribution falls for large values $t$ as a power law\n",
    "$$\n",
    "     P_t(t;\\nu,s) \\approx |t|^{-\\nu+1} \\text{ as } t \\rightarrow \\infty\n",
    "$$\n",
    "which is much slower than the exponential rate of the Gaussian distribution\n",
    "$$\n",
    "    \\mathcal{N}(t;0,\\sigma^2)  \\approx e^{- \\frac{1}{2}\\frac{t^2}{s^2}} \\text{ as } t \\rightarrow \\infty.\n",
    "$$   \n",
    "\n",
    "We has thus the following facts about t-student distribution\n",
    "1. t-Student is a genearalization of the Gaussian\n",
    "2. the parameter $s$ plays the role\n"
   ]
  },
  {
   "cell_type": "markdown",
   "metadata": {},
   "source": [
    "### Empirical Fit of residuals to t-Student distribution"
   ]
  },
  {
   "cell_type": "markdown",
   "metadata": {},
   "source": [
    "The residuals of the LSQ regression fit well a t-student's distribution\n",
    "\n",
    "\n",
    "The method [`seaborn.distplot`](https://seaborn.pydata.org/generated/seaborn.distplot.html) allows us to quickly visualize a dataset distribution and the fit to any distribution chosen from [`scipy.stats`](https://docs.scipy.org/doc/scipy/reference/stats.html)large collection of distributions."
   ]
  },
  {
   "cell_type": "code",
   "execution_count": 15,
   "metadata": {
    "ExecuteTime": {
     "end_time": "2018-09-27T18:37:17.819851Z",
     "start_time": "2018-09-27T18:37:17.622832Z"
    }
   },
   "outputs": [
    {
     "data": {
      "text/plain": [
       "<matplotlib.axes._subplots.AxesSubplot at 0x7f3396cd8908>"
      ]
     },
     "execution_count": 15,
     "metadata": {},
     "output_type": "execute_result"
    },
    {
     "data": {
      "image/png": "[encoded data removed]",
      "text/plain": [
       "<matplotlib.figure.Figure at 0x7f3396c6fef0>"
      ]
     },
     "metadata": {},
     "output_type": "display_data"
    }
   ],
   "source": [
    "sns.distplot(err_normal,fit=stats.t)"
   ]
  },
  {
   "cell_type": "markdown",
   "metadata": {},
   "source": [
    "### Comparison of Normal and t-Student residual fit\n",
    "\n",
    "Now, we will do will call the `stats` fit method ourselves \n",
    "so that we have better control of the plot appearance."
   ]
  },
  {
   "cell_type": "code",
   "execution_count": 16,
   "metadata": {
    "ExecuteTime": {
     "end_time": "2018-09-27T18:37:17.824852Z",
     "start_time": "2018-09-27T18:37:17.821852Z"
    }
   },
   "outputs": [],
   "source": [
    "r=np.arange(-0.03,0.03,0.04/201)"
   ]
  },
  {
   "cell_type": "code",
   "execution_count": 17,
   "metadata": {
    "ExecuteTime": {
     "end_time": "2018-09-27T18:37:17.848854Z",
     "start_time": "2018-09-27T18:37:17.826852Z"
    }
   },
   "outputs": [
    {
     "name": "stdout",
     "output_type": "stream",
     "text": [
      "Normal Parameters -3.3958697735271914e-20 0.005951811579257517\n"
     ]
    }
   ],
   "source": [
    "parms_normal=stats.norm.fit(err_normal)\n",
    "print(\"Normal Parameters\",*parms_normal)\n",
    "dist_normal=stats.norm(*parms_normal)\n",
    "pdf_normal=dist_normal.pdf(r)"
   ]
  },
  {
   "cell_type": "code",
   "execution_count": 18,
   "metadata": {
    "ExecuteTime": {
     "end_time": "2018-09-27T18:37:17.900859Z",
     "start_time": "2018-09-27T18:37:17.850854Z"
    }
   },
   "outputs": [
    {
     "name": "stdout",
     "output_type": "stream",
     "text": [
      "T-Student Parameters 2.3505293373931178 -2.7306914358343355e-20 0.003159162271009154\n"
     ]
    }
   ],
   "source": [
    "parms=stats.t.fit(err_normal)\n",
    "print(\"T-Student Parameters\",*parms)\n",
    "dist=stats.t(*parms)\n",
    "pdf=dist.pdf(r)"
   ]
  },
  {
   "cell_type": "code",
   "execution_count": 19,
   "metadata": {
    "ExecuteTime": {
     "end_time": "2018-09-27T18:37:18.161886Z",
     "start_time": "2018-09-27T18:37:17.901860Z"
    },
    "scrolled": true
   },
   "outputs": [
    {
     "data": {
      "text/plain": [
       "Text(0,0.5,'pdf')"
      ]
     },
     "execution_count": 19,
     "metadata": {},
     "output_type": "execute_result"
    },
    {
     "data": {
      "image/png": "[encoded data removed]",
      "text/plain": [
       "<matplotlib.figure.Figure at 0x7f3396bec8d0>"
      ]
     },
     "metadata": {},
     "output_type": "display_data"
    }
   ],
   "source": [
    "sns.distplot(err_normal,kde=False,norm_hist=True,label=\"Residuals\")\n",
    "plt.plot(r,pdf_normal,label=\"Normal\")\n",
    "plt.plot(r,pdf,label=\"T-Student\")\n",
    "plt.legend()\n",
    "plt.title(\"Residual Distribution\")\n",
    "plt.ylabel(\"pdf\")"
   ]
  },
  {
   "cell_type": "markdown",
   "metadata": {},
   "source": [
    "#### Tail Comparison of both distributions\n",
    "\n",
    "The rate of decay of the tails is easier to appreciate on a log plot "
   ]
  },
  {
   "cell_type": "code",
   "execution_count": 20,
   "metadata": {
    "ExecuteTime": {
     "end_time": "2018-09-27T18:37:19.078977Z",
     "start_time": "2018-09-27T18:37:18.163886Z"
    }
   },
   "outputs": [
    {
     "data": {
      "text/plain": [
       "Text(0,0.5,'Log(pdf)')"
      ]
     },
     "execution_count": 20,
     "metadata": {},
     "output_type": "execute_result"
    },
    {
     "data": {
      "image/png": "[encoded data removed]",
      "text/plain": [
       "<matplotlib.figure.Figure at 0x7f3396b4b358>"
      ]
     },
     "metadata": {},
     "output_type": "display_data"
    }
   ],
   "source": [
    "sns.distplot(err_normal,kde=False,norm_hist=True,label=\"Residuals\")\n",
    "plt.plot(r,pdf_normal,label=\"Normal\")\n",
    "plt.plot(r,pdf,label=\"T-Student\")\n",
    "plt.legend()\n",
    "ax=plt.gca()\n",
    "ax.set_yscale(\"log\", nonposy='clip')\n",
    "plt.title(\"Residual Distribution (Log Scale)\")\n",
    "plt.ylabel(\"Log(pdf)\")"
   ]
  },
  {
   "cell_type": "markdown",
   "metadata": {
    "ExecuteTime": {
     "end_time": "2018-09-26T19:36:26.897654Z",
     "start_time": "2018-09-26T19:36:26.895654Z"
    }
   },
   "source": [
    "#### Robust Estimation Penalty"
   ]
  },
  {
   "cell_type": "markdown",
   "metadata": {},
   "source": [
    "The squared loss puts a large penalty on observations that are far from the mean because they are very unlikely for a Gaussian distribution.\n",
    "\n",
    "A **robust estimator** has a penalty that does not grow as fast as $t^2$ for large $t$.\n",
    "\n",
    "We can, for example, build a robust estimator by fitting a t-student distribution to the residuals.\n",
    "\n",
    "We can, alternatively, use a predefined robust loss like the [Huber loss](https://en.wikipedia.org/wiki/Huber_loss estimator like [`sklear.linear_model.HuberRegressor`]), and the associated [`sklearn.linear_model.HuberRegressor`](http://scikit-learn.org/stable/modules/generated/sklearn.linear_model.HuberRegressor.html), but then we will need to estimate a hyper-parameter $\\Delta$ which is equivalent to fitting $\\nu$ on the t-Student distribution."
   ]
  },
  {
   "cell_type": "code",
   "execution_count": 21,
   "metadata": {
    "ExecuteTime": {
     "end_time": "2018-09-27T18:37:19.402010Z",
     "start_time": "2018-09-27T18:37:19.080977Z"
    }
   },
   "outputs": [
    {
     "data": {
      "text/plain": [
       "Text(0,0.5,'Loss')"
      ]
     },
     "execution_count": 21,
     "metadata": {},
     "output_type": "execute_result"
    },
    {
     "data": {
      "image/png": "[encoded data removed]",
      "text/plain": [
       "<matplotlib.figure.Figure at 0x7f33969b87b8>"
      ]
     },
     "metadata": {},
     "output_type": "display_data"
    }
   ],
   "source": [
    "df=parms[0]\n",
    "t=np.arange(-4,4,8.0/201)\n",
    "E0=-np.log(stats.norm.pdf(0,loc=0,scale=1)) # gaussian loss at t=0\n",
    "plt.plot(t,-np.log(stats.norm.pdf(t,loc=0,scale=1)),linestyle=\"--\",label=\"Squared loss\")\n",
    "plt.plot(t,-np.log(stats.t.pdf(t,df=df)),label=f\"t-Student df={df:0.2}\",linewidth=3 )\n",
    "plt.plot(t,E0+special.huber(1,t),label=\"Huber Loss, $\\Delta=1$\",linestyle=\":\")\n",
    "plt.legend()\n",
    "plt.title(\"Loss Function\")\n",
    "plt.xlabel(\"t\")\n",
    "plt.ylabel(\"Loss\")"
   ]
  },
  {
   "cell_type": "markdown",
   "metadata": {},
   "source": [
    "Using the pre-build Huber robust regressor is more convenient, but here, for practice, we will construct a maximum likelihood regressor based on the t-student distribution.\n"
   ]
  },
  {
   "cell_type": "markdown",
   "metadata": {},
   "source": [
    "## A Maximum Likelihood Estimator for Hedge Ratio\n",
    "\n",
    "We now come back to our model\n",
    "\n",
    "$$\n",
    " y_t = \\theta_0 + \\theta_1 x_t + \\epsilon_t\n",
    "$$\n",
    "\n"
   ]
  },
  {
   "cell_type": "markdown",
   "metadata": {},
   "source": [
    "### A Gausian Maximum Likelihood Estimator\n",
    "\n",
    "First, to test the machinery. We will build a maximum likelihood estimator under the assumption that residuals are Gaussian.\n",
    "\n",
    "We know that this should be equivalent to least square estimator we build before. We do it just as **a test** that we know how to use `scipy.stats` distributions together with  `scipy.optimize` to build the maximum likelihood estimator.\n",
    "\n",
    "Our error function will be\n",
    "$$\n",
    "    E_{\\textrm{Normal}}(\\Theta;\\{x_t,y_t\\})= \\frac{1}{N} -\\log \\mathcal{N}(y_t -\\theta_0 - \\theta_1 x_t;0, \\sigma^2)\n",
    "$$\n",
    "and we will optimize for $\\Theta=(\\theta_0,\\theta_1,\\log \\sigma )$. \n",
    "\n",
    "We use *unconstrained* optimization, but optimize $\\log\\sigma$ to ensure that $\\sigma$ is positive.\n",
    "We could, instead, had optimized on $\\sigma$ but used  *constrained* optimization.\n",
    "\n",
    "The end result should be **identical** to the least square optimization we did before."
   ]
  },
  {
   "cell_type": "code",
   "execution_count": 22,
   "metadata": {
    "ExecuteTime": {
     "end_time": "2018-09-27T18:37:19.409010Z",
     "start_time": "2018-09-27T18:37:19.404010Z"
    }
   },
   "outputs": [],
   "source": [
    "def params_to_x_normal(theta0,theta1,scale):\n",
    "    x=np.empty(3)\n",
    "    x[0]=theta0\n",
    "    x[1]=theta1\n",
    "    x[2]=np.log(scale) # to enforce that \\sigma\n",
    "    return x\n",
    "def x_to_params_normal(x):\n",
    "    theta0=x[0]\n",
    "    theta1=x[1]\n",
    "    scale=np.exp(x[2])\n",
    "    return theta0,theta1,scale\n",
    "def objective_function_normal(x,X,Y):\n",
    "    theta0,theta1,scale=x_to_params_normal(x)\n",
    "    residual=Y-theta0-theta1*X.ravel() # because Y is 1-dimensional, here numpy was X to have only one index\n",
    "    parms=(0.0,scale)\n",
    "    dist=stats.norm(*parms)\n",
    "    err=dist.logpdf(residual)\n",
    "    return -err.mean()"
   ]
  },
  {
   "cell_type": "code",
   "execution_count": 23,
   "metadata": {
    "ExecuteTime": {
     "end_time": "2018-09-27T18:37:19.432013Z",
     "start_time": "2018-09-27T18:37:19.412011Z"
    }
   },
   "outputs": [
    {
     "data": {
      "text/plain": [
       "(0, 0, 0.05)"
      ]
     },
     "execution_count": 23,
     "metadata": {},
     "output_type": "execute_result"
    }
   ],
   "source": [
    "theta0_guess_normal=0\n",
    "theta1_guess_normal=0\n",
    "scale_guess_normal=0.05\n",
    "theta0_guess_normal,theta1_guess_normal,scale_guess_normal"
   ]
  },
  {
   "cell_type": "code",
   "execution_count": 24,
   "metadata": {
    "ExecuteTime": {
     "end_time": "2018-09-27T18:37:19.461015Z",
     "start_time": "2018-09-27T18:37:19.434013Z"
    }
   },
   "outputs": [
    {
     "data": {
      "text/plain": [
       "array([ 0.        ,  0.        , -2.99573227])"
      ]
     },
     "execution_count": 24,
     "metadata": {},
     "output_type": "execute_result"
    }
   ],
   "source": [
    "x0_normal=params_to_x_normal(theta0_guess_normal,theta1_guess_normal,scale_guess_normal)\n",
    "x0_normal"
   ]
  },
  {
   "cell_type": "code",
   "execution_count": 25,
   "metadata": {
    "ExecuteTime": {
     "end_time": "2018-09-27T18:37:19.991068Z",
     "start_time": "2018-09-27T18:37:19.467016Z"
    }
   },
   "outputs": [
    {
     "data": {
      "text/plain": [
       "      fun: -3.705121105457865\n",
       " hess_inv: array([[ 3.34665855e-05,  9.60558701e-06, -2.43329679e-04],\n",
       "       [ 9.60558701e-06,  1.94790961e-01,  1.05593964e-02],\n",
       "       [-2.43329679e-04,  1.05593964e-02,  4.66705164e-01]])\n",
       "      jac: array([ 1.95503235e-05, -3.57627869e-07,  1.49011612e-07])\n",
       "  message: 'Desired error not necessarily achieved due to precision loss.'\n",
       "     nfev: 437\n",
       "      nit: 11\n",
       "     njev: 85\n",
       "   status: 2\n",
       "  success: False\n",
       "        x: array([ 1.16576922e-04,  8.05283496e-01, -5.12405959e+00])"
      ]
     },
     "execution_count": 25,
     "metadata": {},
     "output_type": "execute_result"
    }
   ],
   "source": [
    "fit_normal=scipy.optimize.minimize(objective_function_normal,x0_normal,args=(X_train,Y_train))\n",
    "fit_normal"
   ]
  },
  {
   "cell_type": "code",
   "execution_count": 26,
   "metadata": {
    "ExecuteTime": {
     "end_time": "2018-09-27T18:37:19.997069Z",
     "start_time": "2018-09-27T18:37:19.993069Z"
    }
   },
   "outputs": [
    {
     "name": "stdout",
     "output_type": "stream",
     "text": [
      "0.00011657692185171339 0.8052834956733294 0.005951811896757865\n"
     ]
    }
   ],
   "source": [
    "theta0_normal,theta1_normal,scale_normal=x_to_params_normal(fit_normal.x)\n",
    "print(theta0_normal,theta1_normal,scale_normal)"
   ]
  },
  {
   "cell_type": "code",
   "execution_count": 27,
   "metadata": {
    "ExecuteTime": {
     "end_time": "2018-09-27T18:37:20.025072Z",
     "start_time": "2018-09-27T18:37:20.000069Z"
    }
   },
   "outputs": [
    {
     "name": "stdout",
     "output_type": "stream",
     "text": [
      "theta0 0.00011657692185171339 0.00011658365691612769\n",
      "theta1 0.8052834956733294 0.8052835652680559\n",
      "scale 0.005951811896757865 0.005951811579257522\n"
     ]
    }
   ],
   "source": [
    "print(\"theta0\",theta0_normal,model_normal.intercept_)\n",
    "print(\"theta1\",theta1_normal,model_normal.coef_[0])\n",
    "print(\"scale\",scale_normal,np.sqrt((err_normal**2).mean()))"
   ]
  },
  {
   "cell_type": "code",
   "execution_count": 28,
   "metadata": {
    "ExecuteTime": {
     "end_time": "2018-09-27T18:37:20.047074Z",
     "start_time": "2018-09-27T18:37:20.027072Z"
    }
   },
   "outputs": [
    {
     "data": {
      "text/plain": [
       "-3.705121105457865"
      ]
     },
     "execution_count": 28,
     "metadata": {},
     "output_type": "execute_result"
    }
   ],
   "source": [
    "objective_function_normal(fit_normal.x,X_train,Y_train)"
   ]
  },
  {
   "cell_type": "markdown",
   "metadata": {},
   "source": [
    "The results are **identical** to `skelearn`s  `LinearRegression` estimator, as we expected."
   ]
  },
  {
   "cell_type": "markdown",
   "metadata": {},
   "source": [
    "### A maximum likelihood estimator based on t-Student Distribution\n",
    "\n",
    "Now we will fit our model\n",
    "$$\n",
    " y_t = \\theta_0 + \\theta_1 x_t + \\epsilon_t\n",
    "$$\n",
    "\n",
    "by maximum likelihood, but assuming $\\epsilon_t$ is t-Student $P_t(t;\\nu,s)$ distributed.\n",
    "\n",
    "\n",
    "\n",
    "$$\n",
    "    E_{\\textrm{T}}(\\Theta;\\{x_t,y_t\\}) = \\log\\left( \\sqrt{\\nu} s B(\\frac{1}{2},\\frac{\\nu}{2})\\right)\n",
    "    + \\frac{\\nu+1}{2N} \\sum_{t=1}^N \\log \\left(1+\\frac{(y_t-\\theta_0-\\theta_1 x_t)^2}{\\nu s^2}\\right)\n",
    "$$\n",
    "which is a complicated, **non-linear** function of the parameters $\\Theta$, and the data $X$,$Y$.\n",
    "\n",
    "Using `stats` library, we do not really need to worry about the exact analytic expressions.\n",
    "\n",
    "We will **fit jointly** the regression parameters $\\theta_0,\\theta_1$ and the residual distributional parameters $\\nu,s$. In our usual language, the parameters we are fitting are \n",
    "$\\Theta=(\\theta_0,\\theta_1,\\nu,s$).\n",
    "\n"
   ]
  },
  {
   "cell_type": "code",
   "execution_count": 29,
   "metadata": {
    "ExecuteTime": {
     "end_time": "2018-09-27T18:37:20.064076Z",
     "start_time": "2018-09-27T18:37:20.049074Z"
    }
   },
   "outputs": [],
   "source": [
    "def params_to_x(theta0,theta1,df,scale):\n",
    "    x=np.empty(4)\n",
    "    x[0]=theta0\n",
    "    x[1]=theta1\n",
    "    x[2]=np.log(df)\n",
    "    x[3]=np.log(scale)\n",
    "    return x"
   ]
  },
  {
   "cell_type": "code",
   "execution_count": 30,
   "metadata": {
    "ExecuteTime": {
     "end_time": "2018-09-27T18:37:20.088078Z",
     "start_time": "2018-09-27T18:37:20.066076Z"
    }
   },
   "outputs": [],
   "source": [
    "def x_to_params(x):\n",
    "    theta0=x[0]\n",
    "    theta1=x[1]\n",
    "    df=np.exp(x[2])\n",
    "    scale=np.exp(x[3])\n",
    "    return theta0,theta1,df,scale"
   ]
  },
  {
   "cell_type": "code",
   "execution_count": 31,
   "metadata": {
    "ExecuteTime": {
     "end_time": "2018-09-27T18:37:20.111080Z",
     "start_time": "2018-09-27T18:37:20.089078Z"
    }
   },
   "outputs": [],
   "source": [
    "def objective_function(x,X,Y):\n",
    "    theta0,theta1,df,scale=x_to_params(x)\n",
    "    residual=Y-theta0-theta1*X.ravel() # because Y is 1-dimensional, here numpy was X to have only one index\n",
    "    parms=(df,0.0,scale)\n",
    "    dist=stats.t(*parms)\n",
    "    err=dist.logpdf(residual)\n",
    "    return -err.mean()"
   ]
  },
  {
   "cell_type": "markdown",
   "metadata": {},
   "source": [
    "We use the solutions of the linear regression as starting points for the estimation.\n",
    "\n",
    "[Note] An alternative way to estimate the ML model would be to fit $\\theta_0$, $\\theta_1$ keeping $\\eta$,$s$ fixed,\n",
    "then use the residuals to fit $\\eta$,$s$ and repeat the procedure until convergence."
   ]
  },
  {
   "cell_type": "code",
   "execution_count": 32,
   "metadata": {
    "ExecuteTime": {
     "end_time": "2018-09-27T18:37:20.134083Z",
     "start_time": "2018-09-27T18:37:20.113081Z"
    }
   },
   "outputs": [
    {
     "data": {
      "text/plain": [
       "(0.00011658365691612769,\n",
       " 0.8052835652680559,\n",
       " 2.3505293373931178,\n",
       " 0.003159162271009154,\n",
       " -2.7306914358343355e-20)"
      ]
     },
     "execution_count": 32,
     "metadata": {},
     "output_type": "execute_result"
    }
   ],
   "source": [
    "theta0_guess=model_normal.intercept_\n",
    "theta1_guess=model_normal.coef_[0]\n",
    "df_guess,loc_guess,scale_guess=parms\n",
    "theta0_guess,theta1_guess,df_guess,scale_guess,loc_guess"
   ]
  },
  {
   "cell_type": "code",
   "execution_count": 33,
   "metadata": {
    "ExecuteTime": {
     "end_time": "2018-09-27T18:37:20.158085Z",
     "start_time": "2018-09-27T18:37:20.137083Z"
    }
   },
   "outputs": [
    {
     "data": {
      "text/plain": [
       "array([ 1.16583657e-04,  8.05283565e-01,  8.54640553e-01, -5.75744839e+00])"
      ]
     },
     "execution_count": 33,
     "metadata": {},
     "output_type": "execute_result"
    }
   ],
   "source": [
    "x0=params_to_x(theta0_guess,theta1_guess,df_guess,scale_guess)\n",
    "x0"
   ]
  },
  {
   "cell_type": "code",
   "execution_count": 34,
   "metadata": {
    "ExecuteTime": {
     "end_time": "2018-09-27T18:37:20.184088Z",
     "start_time": "2018-09-27T18:37:20.161085Z"
    }
   },
   "outputs": [
    {
     "data": {
      "text/plain": [
       "-3.8811766138376975"
      ]
     },
     "execution_count": 34,
     "metadata": {},
     "output_type": "execute_result"
    }
   ],
   "source": [
    "objective_function(x0,X_train,Y_train)"
   ]
  },
  {
   "cell_type": "code",
   "execution_count": 35,
   "metadata": {
    "ExecuteTime": {
     "end_time": "2018-09-27T18:37:20.586128Z",
     "start_time": "2018-09-27T18:37:20.186088Z"
    },
    "scrolled": true
   },
   "outputs": [
    {
     "data": {
      "text/plain": [
       " final_simplex: (array([[ 7.74359646e-05,  8.44318148e-01,  8.39329194e-01,\n",
       "        -5.76848626e+00],\n",
       "       [ 7.73335198e-05,  8.44318596e-01,  8.39244980e-01,\n",
       "        -5.76853645e+00],\n",
       "       [ 7.73639110e-05,  8.44317125e-01,  8.39311970e-01,\n",
       "        -5.76847916e+00],\n",
       "       [ 7.73379788e-05,  8.44313610e-01,  8.39312078e-01,\n",
       "        -5.76853328e+00],\n",
       "       [ 7.72584298e-05,  8.44333319e-01,  8.39295781e-01,\n",
       "        -5.76848922e+00]]), array([-3.88484035, -3.88484035, -3.88484035, -3.88484035, -3.88484035]))\n",
       "           fun: -3.884840349460414\n",
       "       message: 'Optimization terminated successfully.'\n",
       "          nfev: 218\n",
       "           nit: 130\n",
       "        status: 0\n",
       "       success: True\n",
       "             x: array([ 7.74359646e-05,  8.44318148e-01,  8.39329194e-01, -5.76848626e+00])"
      ]
     },
     "execution_count": 35,
     "metadata": {},
     "output_type": "execute_result"
    }
   ],
   "source": [
    "fit=scipy.optimize.minimize(objective_function,x0,args=(X_train,Y_train),method=\"Nelder-Mead\" )\n",
    "fit"
   ]
  },
  {
   "cell_type": "code",
   "execution_count": 36,
   "metadata": {
    "ExecuteTime": {
     "end_time": "2018-09-27T18:37:20.594129Z",
     "start_time": "2018-09-27T18:37:20.588128Z"
    }
   },
   "outputs": [
    {
     "name": "stdout",
     "output_type": "stream",
     "text": [
      "0.00011658365691612769 0.8052835652680559 2.3505293373931178 0.003159162271009154\n",
      "7.743596463190802e-05 0.844318148117861 2.3148136645846975 0.0031244835876581886\n"
     ]
    }
   ],
   "source": [
    "theta0,theta1,df,scale=x_to_params(fit.x)\n",
    "print(theta0_guess,theta1_guess,df_guess,scale_guess)\n",
    "print(theta0,theta1,df,scale)"
   ]
  },
  {
   "cell_type": "markdown",
   "metadata": {},
   "source": [
    "The hedge ratio $\\theta_1$ goes from 80% to 84% which could be financially significant."
   ]
  },
  {
   "cell_type": "markdown",
   "metadata": {
    "ExecuteTime": {
     "end_time": "2018-09-26T20:17:46.709654Z",
     "start_time": "2018-09-26T20:17:46.707654Z"
    }
   },
   "source": [
    "### Estimator based on Huber Loss\n",
    "as expected, the Huber loss produces a result nearly identical to the t-Student loss."
   ]
  },
  {
   "cell_type": "code",
   "execution_count": 37,
   "metadata": {
    "ExecuteTime": {
     "end_time": "2018-09-27T18:37:20.640133Z",
     "start_time": "2018-09-27T18:37:20.597129Z"
    }
   },
   "outputs": [
    {
     "data": {
      "text/plain": [
       "array([0.84022731])"
      ]
     },
     "execution_count": 37,
     "metadata": {},
     "output_type": "execute_result"
    }
   ],
   "source": [
    "huber_model=linear_model.HuberRegressor(epsilon=1) # this is what we called \\Delta before\n",
    "huber_model.fit(X_train.values.reshape(-1,1),Y_train)\n",
    "huber_model.coef_"
   ]
  },
  {
   "cell_type": "markdown",
   "metadata": {},
   "source": [
    "## In sample Performance"
   ]
  },
  {
   "cell_type": "markdown",
   "metadata": {},
   "source": [
    "### Comparison of Log Likelihoods"
   ]
  },
  {
   "cell_type": "code",
   "execution_count": 38,
   "metadata": {
    "ExecuteTime": {
     "end_time": "2018-09-27T18:37:20.653135Z",
     "start_time": "2018-09-27T18:37:20.643134Z"
    }
   },
   "outputs": [
    {
     "data": {
      "text/plain": [
       "(3.705121105457865, 3.884840349460414)"
      ]
     },
     "execution_count": 38,
     "metadata": {},
     "output_type": "execute_result"
    }
   ],
   "source": [
    "(-objective_function_normal(fit_normal.x,X_train,Y_train),\n",
    "-objective_function(fit.x,X_train,Y_train))"
   ]
  },
  {
   "cell_type": "markdown",
   "metadata": {},
   "source": [
    "Log Likelihood (- Error) is higher for the t-student residual model. \n",
    "\n",
    "It is not completely fair to compare the models his way,  however, as the t-Student model has one extra parameter."
   ]
  },
  {
   "cell_type": "markdown",
   "metadata": {},
   "source": [
    "### comparison of error variances"
   ]
  },
  {
   "cell_type": "code",
   "execution_count": 39,
   "metadata": {
    "ExecuteTime": {
     "end_time": "2018-09-27T18:37:20.668136Z",
     "start_time": "2018-09-27T18:37:20.656135Z"
    }
   },
   "outputs": [],
   "source": [
    "Y_var=Y_train.var()"
   ]
  },
  {
   "cell_type": "code",
   "execution_count": 40,
   "metadata": {
    "ExecuteTime": {
     "end_time": "2018-09-27T18:37:20.701139Z",
     "start_time": "2018-09-27T18:37:20.671136Z"
    }
   },
   "outputs": [
    {
     "name": "stdout",
     "output_type": "stream",
     "text": [
      "Mean Square Error, Normal Model 0.005951811579261429\n",
      "In Sample R^2 0.7658972681896208\n"
     ]
    }
   ],
   "source": [
    "Y_pred_normal=theta0_normal+theta1_normal*X_train\n",
    "train_err_normal=Y_train-Y_pred_normal.ravel()\n",
    "E2_normal=(train_err_normal**2).mean()\n",
    "print(\"Mean Square Error, Normal Model\", np.sqrt(E2_normal))\n",
    "print(\"In Sample R^2\",1-E2_normal/Y_var)"
   ]
  },
  {
   "cell_type": "code",
   "execution_count": 41,
   "metadata": {
    "ExecuteTime": {
     "end_time": "2018-09-27T18:37:20.751144Z",
     "start_time": "2018-09-27T18:37:20.703140Z"
    }
   },
   "outputs": [
    {
     "name": "stdout",
     "output_type": "stream",
     "text": [
      "Mean Square Error, t-Student Model 0.005974698812272135\n",
      "Out of Sample R^2 0.7640933583989968\n"
     ]
    }
   ],
   "source": [
    "Y_pred=theta0+theta1*X_train\n",
    "train_err=Y_train-Y_pred.ravel()\n",
    "E2=(train_err**2).mean()\n",
    "print(\"Mean Square Error, t-Student Model\", np.sqrt(E2))\n",
    "print(\"Out of Sample R^2\",1-E2/Y_var)"
   ]
  },
  {
   "cell_type": "markdown",
   "metadata": {},
   "source": [
    "The  t-Student model has slightly worse in sample R^2, even though it has one extra parameter. This is not surprising as the least squared solution minimizes in sample $R^2$."
   ]
  },
  {
   "cell_type": "markdown",
   "metadata": {},
   "source": [
    "## Out of Sample Performance"
   ]
  },
  {
   "cell_type": "markdown",
   "metadata": {},
   "source": [
    "### Comparison of Log Likelihoods"
   ]
  },
  {
   "cell_type": "markdown",
   "metadata": {},
   "source": [
    "Out of sample likelihood is slightly better"
   ]
  },
  {
   "cell_type": "code",
   "execution_count": 42,
   "metadata": {
    "ExecuteTime": {
     "end_time": "2018-09-27T18:37:20.795149Z",
     "start_time": "2018-09-27T18:37:20.753145Z"
    }
   },
   "outputs": [
    {
     "data": {
      "text/plain": [
       "(4.026114843902261, 4.2080503144985375)"
      ]
     },
     "execution_count": 42,
     "metadata": {},
     "output_type": "execute_result"
    }
   ],
   "source": [
    "(-objective_function_normal(fit_normal.x,X_test,Y_test),\n",
    " -objective_function(fit.x,X_test,Y_test))"
   ]
  },
  {
   "cell_type": "markdown",
   "metadata": {},
   "source": [
    "### comparison of error variances"
   ]
  },
  {
   "cell_type": "markdown",
   "metadata": {},
   "source": [
    "And so is out of sample variance, but the difference is not large"
   ]
  },
  {
   "cell_type": "code",
   "execution_count": 43,
   "metadata": {
    "ExecuteTime": {
     "end_time": "2018-09-27T18:37:20.815151Z",
     "start_time": "2018-09-27T18:37:20.797149Z"
    }
   },
   "outputs": [],
   "source": [
    "Y_var=Y_test.var()"
   ]
  },
  {
   "cell_type": "code",
   "execution_count": 44,
   "metadata": {
    "ExecuteTime": {
     "end_time": "2018-09-27T18:37:20.842154Z",
     "start_time": "2018-09-27T18:37:20.817151Z"
    }
   },
   "outputs": [
    {
     "name": "stdout",
     "output_type": "stream",
     "text": [
      "Mean Square Error, Normal Model 0.0035612153905677456\n",
      "Out of Sample R^2 0.8564193954957104\n"
     ]
    }
   ],
   "source": [
    "Y_pred_normal=theta0_normal+theta1_normal*X_test\n",
    "err_normal=Y_test-Y_pred_normal\n",
    "E2_normal=(err_normal**2).mean()\n",
    "print(\"Mean Square Error, Normal Model\", np.sqrt(E2_normal))\n",
    "print(\"Out of Sample R^2\",1-E2_normal/Y_var)"
   ]
  },
  {
   "cell_type": "code",
   "execution_count": 45,
   "metadata": {
    "ExecuteTime": {
     "end_time": "2018-09-27T18:37:20.865156Z",
     "start_time": "2018-09-27T18:37:20.844154Z"
    }
   },
   "outputs": [
    {
     "name": "stdout",
     "output_type": "stream",
     "text": [
      "Mean Square Error, t-Student Model 0.003446048300621274\n",
      "Out of Sample R^2 0.8655558174397266\n"
     ]
    }
   ],
   "source": [
    "Y_pred=theta0+theta1*X_test\n",
    "err=Y_test-Y_pred\n",
    "E2=(err**2).mean()\n",
    "print(\"Mean Square Error, t-Student Model\", np.sqrt(E2))\n",
    "print(\"Out of Sample R^2\",1-E2/Y_var)"
   ]
  },
  {
   "cell_type": "markdown",
   "metadata": {},
   "source": [
    "### Out of Sample error distribution\n",
    "\n",
    "We can fit the out of sample residual to a t-student distribution again"
   ]
  },
  {
   "cell_type": "code",
   "execution_count": 46,
   "metadata": {
    "ExecuteTime": {
     "end_time": "2018-09-27T18:37:20.929162Z",
     "start_time": "2018-09-27T18:37:20.867156Z"
    }
   },
   "outputs": [
    {
     "name": "stdout",
     "output_type": "stream",
     "text": [
      "T-Student Parameters 6.280289188131974 -0.00015974512331971694 0.0028834102328590123\n"
     ]
    }
   ],
   "source": [
    "M=min(err.max(),-err.min())*1.25\n",
    "r=np.arange(-M,M,2*M/201)\n",
    "parms_test=stats.t.fit(err)\n",
    "print(\"T-Student Parameters\",*parms_test)\n",
    "dist_train=stats.t(df,0,scale)\n",
    "dist_test=stats.t(*parms_test)\n",
    "pdf_train=dist_train.pdf(r)\n",
    "pdf_test=dist_test.pdf(r)"
   ]
  },
  {
   "cell_type": "markdown",
   "metadata": {
    "ExecuteTime": {
     "end_time": "2018-09-26T17:04:20.080654Z",
     "start_time": "2018-09-26T17:04:20.051654Z"
    }
   },
   "source": [
    "The exponent $\\nu$ is larger, meaning residuals are closer to a Gaussian distribution. There were less *extreme events* on the test period."
   ]
  },
  {
   "cell_type": "code",
   "execution_count": 47,
   "metadata": {
    "ExecuteTime": {
     "end_time": "2018-09-27T18:37:21.326202Z",
     "start_time": "2018-09-27T18:37:20.931162Z"
    }
   },
   "outputs": [
    {
     "data": {
      "text/plain": [
       "Text(0,0.5,'Log(pdf)')"
      ]
     },
     "execution_count": 47,
     "metadata": {},
     "output_type": "execute_result"
    },
    {
     "data": {
      "image/png": "[encoded data removed]",
      "text/plain": [
       "<matplotlib.figure.Figure at 0x7f339671a860>"
      ]
     },
     "metadata": {},
     "output_type": "display_data"
    }
   ],
   "source": [
    "sns.distplot(err,kde=False,norm_hist=True,label=\"Out of Sample Residuals\")\n",
    "plt.plot(r,pdf_train,label=\"Trained Parameters\")\n",
    "plt.plot(r,pdf_test,label=\"Test Distribution\")\n",
    "plt.legend()\n",
    "ax=plt.gca()\n",
    "ax.set_yscale(\"log\", nonposy='clip')\n",
    "plt.title(\"Residual Distribution (Log Scale)\")\n",
    "plt.ylabel(\"Log(pdf)\")"
   ]
  },
  {
   "cell_type": "markdown",
   "metadata": {},
   "source": [
    "## Conclusions"
   ]
  },
  {
   "cell_type": "markdown",
   "metadata": {},
   "source": [
    "1. The auto of sample predictions of  the least squared and t-student estimator **are very similar**.\n",
    "2. If you try other index pairs (by changing `predictor` and `target` variables at the begining of notebook) you will find most pairs are even closer.\n",
    "3. In this time period t-student estimator has better likelihood and R^2 out of sample, but this depends on the period chosen.\n",
    "4. If the assumptions of the t-student model where satisfied:\n",
    "    1.1 $\\epsilon_t$ identically distributed t-Student random variable.\n",
    "    1.2 $\\epsilon_t$, $\\epsilon_{t'}$ independent\n",
    "  we would expect the max likelihood estimator to be *efficient* and produce good results.\n",
    "\n",
    "However, it is easy to verify that **assumptions are not satisfied**"
   ]
  },
  {
   "cell_type": "markdown",
   "metadata": {},
   "source": [
    "Although the autocorrelation function shows that  returns are uncorrelated for $t\\ne t'$ "
   ]
  },
  {
   "cell_type": "code",
   "execution_count": 48,
   "metadata": {
    "ExecuteTime": {
     "end_time": "2018-09-27T18:37:21.491218Z",
     "start_time": "2018-09-27T18:37:21.328202Z"
    }
   },
   "outputs": [
    {
     "data": {
      "text/plain": [
       "Text(0,0.5,'Correlation')"
      ]
     },
     "execution_count": 48,
     "metadata": {},
     "output_type": "execute_result"
    },
    {
     "data": {
      "image/png": "[encoded data removed]",
      "text/plain": [
       "<matplotlib.figure.Figure at 0x7f33967c1f28>"
      ]
     },
     "metadata": {},
     "output_type": "display_data"
    }
   ],
   "source": [
    "s=statsmodels.graphics.tsaplots.plot_acf(train_err,lags=50,title=\"Residual Auto correlation\")\n",
    "plt.xlabel(\"lag\")\n",
    "plt.ylabel(\"Correlation\")"
   ]
  },
  {
   "cell_type": "markdown",
   "metadata": {},
   "source": [
    "The returns for different dates are clearly **not independent**.\n",
    "\n",
    "Return variance (volatility) seems to depend on time, and there is **volatility clustering**"
   ]
  },
  {
   "cell_type": "code",
   "execution_count": 49,
   "metadata": {
    "ExecuteTime": {
     "end_time": "2018-09-27T18:37:21.726242Z",
     "start_time": "2018-09-27T18:37:21.493219Z"
    }
   },
   "outputs": [
    {
     "data": {
      "text/plain": [
       "Text(0,0.5,'return')"
      ]
     },
     "execution_count": 49,
     "metadata": {},
     "output_type": "execute_result"
    },
    {
     "data": {
      "image/png": "[encoded data removed]",
      "text/plain": [
       "<matplotlib.figure.Figure at 0x7f33969bee80>"
      ]
     },
     "metadata": {},
     "output_type": "display_data"
    }
   ],
   "source": [
    "plt.plot(train_err,label=\"Training\")\n",
    "plt.plot(err,label=\"Test\")\n",
    "plt.legend()\n",
    "plt.title(\"Regression Residual\")\n",
    "plt.xlabel(\"date\")\n",
    "plt.ylabel(\"return\")"
   ]
  },
  {
   "cell_type": "markdown",
   "metadata": {},
   "source": [
    "Equity returns are more realisticallly modeled as a **GARCH** process.\n",
    "\n",
    "A GARCH(1,1), for example, process is defined as\n",
    "\\begin{align}\n",
    "    y_t &= \\theta_0 + \\theta_1 x_t + \\epsilon_t \\\\\n",
    "    \\epsilon_t &= \\sigma_t \\textrm{d}W_t \\\\\n",
    "    \\sigma^2_t &= \\omega+\\alpha_1 \\epsilon^2_{t-1} + \\beta_1 \\sigma^2_{t-1}\n",
    "\\end{align}\n",
    "where $\\textrm{d}W_t \\sim \\mathcal{N}(0,1)$ and independent for $t\\ne t'$.\n",
    "\n",
    "Many generalizations are posible (with more lags GARCH(p,q), etc).\n",
    "\n",
    "Now the fit will need maximize the probability of the innovations $z_t$, and the volatility $\\sigma^2_t$ will depend on the previous return and previous level of volatility.\n",
    "\n",
    "Analyzing this kind of model would take us too far into **time series analysis** territory.\n",
    "\n",
    "\n",
    "    "
   ]
  },
  {
   "cell_type": "markdown",
   "metadata": {},
   "source": [
    "However, the behaviour **at the tails** of the distribution is dominated by a few **rare events**, may be 3 or 4 on a 20 year period.\n",
    "\n",
    "It is problematic to fit a rich model with so few relevant observations.\n"
   ]
  },
  {
   "cell_type": "code",
   "execution_count": null,
   "metadata": {},
   "outputs": [],
   "source": []
  }
 ],
 "metadata": {
  "kernelspec": {
   "display_name": "Python 3",
   "language": "python",
   "name": "python3"
  },
  "language_info": {
   "codemirror_mode": {
    "name": "ipython",
    "version": 3
   },
   "file_extension": ".py",
   "mimetype": "text/x-python",
   "name": "python",
   "nbconvert_exporter": "python",
   "pygments_lexer": "ipython3",
   "version": "3.6.4"
  },
  "toc": {
   "base_numbering": 1,
   "nav_menu": {},
   "number_sections": true,
   "sideBar": true,
   "skip_h1_title": false,
   "title_cell": "Table of Contents",
   "title_sidebar": "Contents",
   "toc_cell": false,
   "toc_position": {},
   "toc_section_display": true,
   "toc_window_display": true
  }
 },
 "nbformat": 4,
 "nbformat_minor": 2
}
