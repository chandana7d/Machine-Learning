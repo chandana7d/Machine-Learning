{
 "cells": [
  {
   "cell_type": "markdown",
   "metadata": {},
   "source": [
    "# KNeighbors for Image Data"
   ]
  },
  {
   "cell_type": "markdown",
   "metadata": {
    "ExecuteTime": {
     "end_time": "2017-12-13T10:26:36.235587Z",
     "start_time": "2017-12-13T10:26:36.225561Z"
    }
   },
   "source": [
    "## MNIST Dataset Overview\n",
    "\n",
    "This example is using MNIST handwritten digits. The dataset contains 60,000 examples for training and 10,000 examples for testing. The digits have been size-normalized and centered in a fixed-size image (28x28 pixels) with values from 0 to 1. \n",
    "\n",
    "More info: http://yann.lecun.com/exdb/mnist/"
   ]
  },
  {
   "cell_type": "markdown",
   "metadata": {},
   "source": [
    "## Preliminaries"
   ]
  },
  {
   "cell_type": "markdown",
   "metadata": {},
   "source": [
    "### Imports"
   ]
  },
  {
   "cell_type": "code",
   "execution_count": 1,
   "metadata": {
    "ExecuteTime": {
     "end_time": "2019-02-15T02:23:22.524393Z",
     "start_time": "2019-02-15T02:23:20.893198Z"
    }
   },
   "outputs": [],
   "source": [
    "import os\n",
    "import pickle\n",
    "\n",
    "import numpy as np\n",
    "import matplotlib.pyplot as plt\n",
    "from sklearn import metrics\n",
    "from sklearn.neighbors import KNeighborsClassifier,DistanceMetric\n",
    "\n",
    "%matplotlib inline\n",
    "import gzip\n",
    "\n",
    "import sys\n",
    "sys.path.append(\"../..\")\n",
    "from E4525_ML import mnist\n",
    "from E4525_ML import plots"
   ]
  },
  {
   "cell_type": "markdown",
   "metadata": {},
   "source": [
    "### Random Seed"
   ]
  },
  {
   "cell_type": "code",
   "execution_count": 2,
   "metadata": {
    "ExecuteTime": {
     "end_time": "2019-02-15T02:23:22.535884Z",
     "start_time": "2019-02-15T02:23:22.527405Z"
    }
   },
   "outputs": [],
   "source": [
    "seed=23562\n",
    "np.random.seed(seed)"
   ]
  },
  {
   "cell_type": "markdown",
   "metadata": {},
   "source": [
    "### MNIST Data"
   ]
  },
  {
   "cell_type": "code",
   "execution_count": 4,
   "metadata": {
    "ExecuteTime": {
     "end_time": "2019-02-15T02:24:00.075263Z",
     "start_time": "2019-02-15T02:24:00.067705Z"
    }
   },
   "outputs": [],
   "source": [
    "model_dir=\"../../data/models\"\n",
    "if not os.path.exists(model_dir):\n",
    "    os.mkdir(model_dir)"
   ]
  },
  {
   "cell_type": "code",
   "execution_count": 5,
   "metadata": {
    "ExecuteTime": {
     "end_time": "2019-02-15T02:24:01.115870Z",
     "start_time": "2019-02-15T02:24:01.095341Z"
    }
   },
   "outputs": [],
   "source": [
    "data_dir=r\"../../raw/MNIST/\""
   ]
  },
  {
   "cell_type": "code",
   "execution_count": 6,
   "metadata": {
    "ExecuteTime": {
     "end_time": "2019-02-15T02:24:03.161310Z",
     "start_time": "2019-02-15T02:24:02.035312Z"
    }
   },
   "outputs": [
    {
     "name": "stdout",
     "output_type": "stream",
     "text": [
      "(60000, 28, 28) (60000,)\n"
     ]
    }
   ],
   "source": [
    "    images_filename=data_dir+\"train-images-idx3-ubyte.gz\"\n",
    "    labels_filename=data_dir+\"train-labels-idx1-ubyte.gz\"\n",
    "\n",
    "    test_images_filename=data_dir+\"t10k-images-idx3-ubyte.gz\"\n",
    "    test_labels_filename=data_dir+\"t10k-labels-idx1-ubyte.gz\"\n",
    "\n",
    "    images=mnist.read_images(images_filename)\n",
    "    labels=mnist.read_labels(labels_filename)\n",
    "    \n",
    "    print(images.shape,labels.shape)"
   ]
  },
  {
   "cell_type": "code",
   "execution_count": 7,
   "metadata": {
    "ExecuteTime": {
     "end_time": "2019-02-15T02:24:03.173004Z",
     "start_time": "2019-02-15T02:24:03.164019Z"
    }
   },
   "outputs": [
    {
     "name": "stdout",
     "output_type": "stream",
     "text": [
      "60000 28 28\n"
     ]
    }
   ],
   "source": [
    "nimages=images.shape[0]\n",
    "nrows=images.shape[1]\n",
    "ncols=images.shape[2]\n",
    "print(nimages,nrows,ncols)"
   ]
  },
  {
   "cell_type": "code",
   "execution_count": 8,
   "metadata": {
    "ExecuteTime": {
     "end_time": "2019-02-15T02:24:03.760823Z",
     "start_time": "2019-02-15T02:24:03.529894Z"
    },
    "scrolled": false
   },
   "outputs": [
    {
     "data": {
      "text/plain": [
       "<matplotlib.image.AxesImage at 0x1bd9439b358>"
      ]
     },
     "execution_count": 8,
     "metadata": {},
     "output_type": "execute_result"
    },
    {
     "data": {
      "image/png": "[encoded data removed]",
      "text/plain": [
       "<Figure size 432x288 with 1 Axes>"
      ]
     },
     "metadata": {},
     "output_type": "display_data"
    }
   ],
   "source": [
    "label=int(labels[1])\n",
    "plt.title('Digit {0}'.format(label))\n",
    "plt.imshow(images[1], cmap='gray')"
   ]
  },
  {
   "cell_type": "markdown",
   "metadata": {},
   "source": [
    "## Train KNeighbors Classifier"
   ]
  },
  {
   "cell_type": "markdown",
   "metadata": {},
   "source": [
    "Given a image represented as matrices of pixel values $f_{r,c}$ where sample  $r=1,\\dots,R$ is the row index withing the image and $c=1,\\dots,C $ is the column index, our **feature** vector will be\n",
    "the linearization of the image \n",
    "$$\n",
    "    x_{r*C+c} = f{r,c}\n",
    "$$\n",
    "\n",
    "Euclidean distance in this space is defined by\n",
    "\n",
    "$$\n",
    "    D(x,x') = \\sum_d (x_{d}-x_{d}')^2.\n",
    "$$\n",
    "\n",
    "Each dimension $d$ represents one pixel on the image.\n",
    "\n",
    "Each Pixel is treated independently, there is no concept of **space** locality on this definition of distance. Two images that differ by two pixel have the same distance no matter were those pixels are located."
   ]
  },
  {
   "cell_type": "markdown",
   "metadata": {},
   "source": [
    "Our input data is an array of images $F_{i,r,c}$, and our feature matrix will, thus be\n",
    "\n",
    "$$\n",
    "    X_{i,r*C+c}= F_{i,r,c}\n",
    "$$"
   ]
  },
  {
   "cell_type": "code",
   "execution_count": 9,
   "metadata": {
    "ExecuteTime": {
     "end_time": "2019-02-15T02:24:09.512720Z",
     "start_time": "2019-02-15T02:24:09.482976Z"
    }
   },
   "outputs": [
    {
     "name": "stdout",
     "output_type": "stream",
     "text": [
      "(60000, 784) (60000,)\n"
     ]
    }
   ],
   "source": [
    "X=images.reshape((nimages,-1))\n",
    "Y=labels\n",
    "print(X.shape,Y.shape)\n",
    "    "
   ]
  },
  {
   "cell_type": "markdown",
   "metadata": {},
   "source": [
    "We will use the nearest neighbor"
   ]
  },
  {
   "cell_type": "code",
   "execution_count": 10,
   "metadata": {
    "ExecuteTime": {
     "end_time": "2019-02-15T02:24:09.541858Z",
     "start_time": "2019-02-15T02:24:09.518912Z"
    }
   },
   "outputs": [],
   "source": [
    "K=1"
   ]
  },
  {
   "cell_type": "code",
   "execution_count": 11,
   "metadata": {
    "ExecuteTime": {
     "end_time": "2019-02-15T02:24:09.557325Z",
     "start_time": "2019-02-15T02:24:09.543852Z"
    }
   },
   "outputs": [],
   "source": [
    "model=KNeighborsClassifier(K)"
   ]
  },
  {
   "cell_type": "code",
   "execution_count": 12,
   "metadata": {
    "ExecuteTime": {
     "end_time": "2019-02-15T02:24:52.744541Z",
     "start_time": "2019-02-15T02:24:09.560181Z"
    }
   },
   "outputs": [
    {
     "data": {
      "text/plain": [
       "KNeighborsClassifier(algorithm='auto', leaf_size=30, metric='minkowski',\n",
       "           metric_params=None, n_jobs=1, n_neighbors=1, p=2,\n",
       "           weights='uniform')"
      ]
     },
     "execution_count": 12,
     "metadata": {},
     "output_type": "execute_result"
    }
   ],
   "source": [
    "model.fit(X,Y)"
   ]
  },
  {
   "cell_type": "markdown",
   "metadata": {},
   "source": [
    "## Test KNeigbors Classifier"
   ]
  },
  {
   "cell_type": "code",
   "execution_count": 13,
   "metadata": {
    "ExecuteTime": {
     "end_time": "2019-02-15T02:24:52.987027Z",
     "start_time": "2019-02-15T02:24:52.748530Z"
    }
   },
   "outputs": [],
   "source": [
    "images_test=mnist.read_images(test_images_filename)\n",
    "labels_test=mnist.read_labels(test_labels_filename)\n",
    "X_test=images_test\n",
    "Y_test=labels_test"
   ]
  },
  {
   "cell_type": "markdown",
   "metadata": {},
   "source": [
    "Let's predict one image"
   ]
  },
  {
   "cell_type": "code",
   "execution_count": 14,
   "metadata": {
    "ExecuteTime": {
     "end_time": "2019-02-15T02:24:53.119781Z",
     "start_time": "2019-02-15T02:24:52.989776Z"
    }
   },
   "outputs": [
    {
     "name": "stdout",
     "output_type": "stream",
     "text": [
      "7 [7]\n"
     ]
    }
   ],
   "source": [
    "label=Y_test[0]\n",
    "predicted_label=model.predict(X_test[0].reshape(1,-1))\n",
    "print(label,predicted_label)"
   ]
  },
  {
   "cell_type": "code",
   "execution_count": 15,
   "metadata": {
    "ExecuteTime": {
     "end_time": "2019-02-15T02:24:53.354823Z",
     "start_time": "2019-02-15T02:24:53.122455Z"
    }
   },
   "outputs": [
    {
     "data": {
      "text/plain": [
       "<matplotlib.image.AxesImage at 0x1bd9544b588>"
      ]
     },
     "execution_count": 15,
     "metadata": {},
     "output_type": "execute_result"
    },
    {
     "data": {
      "image/png": "[encoded data removed]",
      "text/plain": [
       "<Figure size 432x288 with 1 Axes>"
      ]
     },
     "metadata": {},
     "output_type": "display_data"
    }
   ],
   "source": [
    "plt.title('Digit {0}, Predicted {1}'.format(label,predicted_label))\n",
    "plt.imshow(images_test[0], cmap='gray')"
   ]
  },
  {
   "cell_type": "markdown",
   "metadata": {},
   "source": [
    "Let's predict the full test sample $10,000$ images, this will be **slow**"
   ]
  },
  {
   "cell_type": "code",
   "execution_count": 16,
   "metadata": {
    "ExecuteTime": {
     "end_time": "2019-02-15T02:40:34.464803Z",
     "start_time": "2019-02-15T02:24:53.357373Z"
    }
   },
   "outputs": [
    {
     "name": "stdout",
     "output_type": "stream",
     "text": [
      "predicting...Done.\n"
     ]
    }
   ],
   "source": [
    "nimages=X_test.shape[0]\n",
    "X_test=X_test.reshape((nimages,-1))\n",
    "print(\"predicting...\",end=\"\")\n",
    "Y_predicted=model.predict(X_test)\n",
    "print(\"Done.\")"
   ]
  },
  {
   "cell_type": "markdown",
   "metadata": {},
   "source": [
    "Prediction accuracy is **very good**, but the model is **very slow**, because we need to compare against every training sample."
   ]
  },
  {
   "cell_type": "code",
   "execution_count": 17,
   "metadata": {
    "ExecuteTime": {
     "end_time": "2019-02-15T02:40:34.474775Z",
     "start_time": "2019-02-15T02:40:34.468791Z"
    }
   },
   "outputs": [
    {
     "name": "stdout",
     "output_type": "stream",
     "text": [
      "accurancy = 0.9691\n"
     ]
    }
   ],
   "source": [
    "accuracy=(Y_predicted==Y_test).sum() / len(Y_test)\n",
    "print(f\"accurancy = {accuracy}\")"
   ]
  },
  {
   "cell_type": "markdown",
   "metadata": {},
   "source": [
    "Let's look at the confusion matrix    "
   ]
  },
  {
   "cell_type": "code",
   "execution_count": 18,
   "metadata": {
    "ExecuteTime": {
     "end_time": "2019-02-15T02:40:34.496715Z",
     "start_time": "2019-02-15T02:40:34.477766Z"
    }
   },
   "outputs": [],
   "source": [
    "classes=np.unique(Y)"
   ]
  },
  {
   "cell_type": "code",
   "execution_count": 19,
   "metadata": {
    "ExecuteTime": {
     "end_time": "2019-02-15T02:40:35.291592Z",
     "start_time": "2019-02-15T02:40:34.502700Z"
    }
   },
   "outputs": [
    {
     "name": "stdout",
     "output_type": "stream",
     "text": [
      "Confusion matrix, without normalization\n",
      "[[ 973    1    1    0    0    1    3    1    0    0]\n",
      " [   0 1129    3    0    1    1    1    0    0    0]\n",
      " [   7    6  992    5    1    0    2   16    3    0]\n",
      " [   0    1    2  970    1   19    0    7    7    3]\n",
      " [   0    7    0    0  944    0    3    5    1   22]\n",
      " [   1    1    0   12    2  860    5    1    6    4]\n",
      " [   4    2    0    0    3    5  944    0    0    0]\n",
      " [   0   14    6    2    4    0    0  992    0   10]\n",
      " [   6    1    3   14    5   13    3    4  920    5]\n",
      " [   2    5    1    6   10    5    1   11    1  967]]\n"
     ]
    },
    {
     "data": {
      "image/png": "[encoded data removed]",
      "text/plain": [
       "<Figure size 432x288 with 2 Axes>"
      ]
     },
     "metadata": {},
     "output_type": "display_data"
    }
   ],
   "source": [
    "cnf_matrix = metrics.confusion_matrix(Y_test, Y_predicted)\n",
    "np.set_printoptions(precision=2)\n",
    "plots.plot_confusion_matrix(cnf_matrix,classes)"
   ]
  },
  {
   "cell_type": "markdown",
   "metadata": {},
   "source": [
    "### Save model for later use"
   ]
  },
  {
   "cell_type": "code",
   "execution_count": 20,
   "metadata": {
    "ExecuteTime": {
     "end_time": "2019-02-15T02:40:36.365561Z",
     "start_time": "2019-02-15T02:40:35.293585Z"
    }
   },
   "outputs": [],
   "source": [
    "model_filename=model_dir+\"/MNIST_KNeighbors.p\"\n",
    "file=open(model_filename,\"wb\")\n",
    "pickle.dump(model,file)"
   ]
  },
  {
   "cell_type": "markdown",
   "metadata": {},
   "source": [
    "## Shifted Test Sample"
   ]
  },
  {
   "cell_type": "markdown",
   "metadata": {},
   "source": [
    "A feature of images is that shifting it to the rigth/left, or up/down should not\n",
    "affect is classification label.\n",
    "\n",
    "We can test with randomly shifted data"
   ]
  },
  {
   "cell_type": "code",
   "execution_count": 21,
   "metadata": {
    "ExecuteTime": {
     "end_time": "2019-02-15T02:40:36.373526Z",
     "start_time": "2019-02-15T02:40:36.368539Z"
    }
   },
   "outputs": [],
   "source": [
    "def roll(image,max_x=4,max_y=4):\n",
    "    shiftx=np.random.randint(-max_x,max_x)\n",
    "    shifty=np.random.randint(-max_y,max_y)\n",
    "    image=np.roll(image,[shiftx,shifty],[0,1])\n",
    "    return image"
   ]
  },
  {
   "cell_type": "code",
   "execution_count": 22,
   "metadata": {
    "ExecuteTime": {
     "end_time": "2019-02-15T02:40:36.387488Z",
     "start_time": "2019-02-15T02:40:36.375521Z"
    }
   },
   "outputs": [],
   "source": [
    "idx=0"
   ]
  },
  {
   "cell_type": "code",
   "execution_count": 23,
   "metadata": {
    "ExecuteTime": {
     "end_time": "2019-02-15T02:40:36.402449Z",
     "start_time": "2019-02-15T02:40:36.390481Z"
    }
   },
   "outputs": [],
   "source": [
    "img1=roll(images_test[idx])\n",
    "label=labels_test[idx]"
   ]
  },
  {
   "cell_type": "code",
   "execution_count": 24,
   "metadata": {
    "ExecuteTime": {
     "end_time": "2019-02-15T02:40:36.584961Z",
     "start_time": "2019-02-15T02:40:36.404444Z"
    }
   },
   "outputs": [
    {
     "data": {
      "text/plain": [
       "<matplotlib.image.AxesImage at 0x1bd96ebc4e0>"
      ]
     },
     "execution_count": 24,
     "metadata": {},
     "output_type": "execute_result"
    },
    {
     "data": {
      "image/png": "[encoded data removed]",
      "text/plain": [
       "<Figure size 432x288 with 2 Axes>"
      ]
     },
     "metadata": {},
     "output_type": "display_data"
    }
   ],
   "source": [
    "# Two subplots, unpack the axes array immediately\n",
    "f, (ax1, ax2) = plt.subplots(1, 2, sharey=True)\n",
    "ax1.set_title('Digit {0}'.format(label))\n",
    "ax1.imshow(images_test[idx], cmap='gray')\n",
    "ax2.set_title('Shifted Digit {0}'.format(label))\n",
    "ax2.imshow(img1, cmap='gray')\n"
   ]
  },
  {
   "cell_type": "markdown",
   "metadata": {},
   "source": [
    "Let's shift the whole test sample and predict again"
   ]
  },
  {
   "cell_type": "code",
   "execution_count": 25,
   "metadata": {
    "ExecuteTime": {
     "end_time": "2019-02-15T02:40:37.042737Z",
     "start_time": "2019-02-15T02:40:36.588951Z"
    }
   },
   "outputs": [],
   "source": [
    "shifted_images_test=np.empty_like(images_test)\n",
    "for i in range(len(images_test)):\n",
    "    shifted_images_test[i]=roll(images_test[i])\n",
    "    "
   ]
  },
  {
   "cell_type": "markdown",
   "metadata": {},
   "source": [
    "We can still predict"
   ]
  },
  {
   "cell_type": "code",
   "execution_count": 26,
   "metadata": {
    "ExecuteTime": {
     "end_time": "2019-02-15T02:40:37.175382Z",
     "start_time": "2019-02-15T02:40:37.044731Z"
    }
   },
   "outputs": [
    {
     "name": "stdout",
     "output_type": "stream",
     "text": [
      "[7] 7\n"
     ]
    }
   ],
   "source": [
    "print(model.predict(shifted_images_test[idx].reshape(1,-1)),labels_test[idx])"
   ]
  },
  {
   "cell_type": "markdown",
   "metadata": {},
   "source": [
    "But what is the overall accuracy?"
   ]
  },
  {
   "cell_type": "code",
   "execution_count": 27,
   "metadata": {
    "ExecuteTime": {
     "end_time": "2019-02-15T02:54:19.534385Z",
     "start_time": "2019-02-15T02:40:37.177377Z"
    }
   },
   "outputs": [
    {
     "name": "stdout",
     "output_type": "stream",
     "text": [
      "predicting... Done.\n"
     ]
    }
   ],
   "source": [
    "nimages=shifted_images_test.shape[0]\n",
    "X_test=shifted_images_test.reshape((nimages,-1))\n",
    "print(\"predicting...\",end=\" \")\n",
    "Y_predicted=model.predict(X_test)\n",
    "print(\"Done.\")"
   ]
  },
  {
   "cell_type": "markdown",
   "metadata": {},
   "source": [
    "**Much worse**!"
   ]
  },
  {
   "cell_type": "code",
   "execution_count": 28,
   "metadata": {
    "ExecuteTime": {
     "end_time": "2019-02-15T02:54:19.547346Z",
     "start_time": "2019-02-15T02:54:19.537372Z"
    }
   },
   "outputs": [
    {
     "name": "stdout",
     "output_type": "stream",
     "text": [
      "accurancy = 0.4707\n"
     ]
    }
   ],
   "source": [
    "accuracy=(Y_predicted==Y_test).sum() / len(Y_test)\n",
    "print(f\"accurancy = {accuracy}\")"
   ]
  },
  {
   "cell_type": "code",
   "execution_count": 29,
   "metadata": {
    "ExecuteTime": {
     "end_time": "2019-02-15T02:54:20.021242Z",
     "start_time": "2019-02-15T02:54:19.549341Z"
    }
   },
   "outputs": [
    {
     "name": "stdout",
     "output_type": "stream",
     "text": [
      "Confusion matrix, without normalization\n",
      "[[338  52 193  18  63  43 133  80  23  37]\n",
      " [ 13 578  48   9 139  60 143 126  17   2]\n",
      " [ 46  47 636  36  79  14  47 108  10   9]\n",
      " [ 38  57 134 506  11 138  33  48  22  23]\n",
      " [ 11 228  29  15 494  33  56  73   4  39]\n",
      " [ 16  21  81  93  13 508  51  37  32  40]\n",
      " [ 48  68  47  15 131  68 520   7  17  37]\n",
      " [ 14 213 110  23  41  21  11 552   1  42]\n",
      " [ 19  70  75  80  29 122 148  68 295  68]\n",
      " [ 32 208  35  20 119  77  21 203  14 280]]\n"
     ]
    },
    {
     "data": {
      "image/png": "[encoded data removed]",
      "text/plain": [
       "<Figure size 432x288 with 2 Axes>"
      ]
     },
     "metadata": {},
     "output_type": "display_data"
    }
   ],
   "source": [
    "cnf_matrix = metrics.confusion_matrix(Y_test, Y_predicted)\n",
    "np.set_printoptions(precision=2)\n",
    "plots.plot_confusion_matrix(cnf_matrix,classes)"
   ]
  },
  {
   "cell_type": "markdown",
   "metadata": {},
   "source": [
    "1. We can train with shifted data to resolve the issue\n",
    "2. But that would multiply the number of samples and make the slowness even worse.\n",
    "3. Nearest Neighbors **does not scale** well with the complexity of the model.\n",
    "4. We will build more sophisticated models later on the course to handle this issue."
   ]
  },
  {
   "cell_type": "code",
   "execution_count": null,
   "metadata": {},
   "outputs": [],
   "source": []
  }
 ],
 "metadata": {
  "kernelspec": {
   "display_name": "Python 3",
   "language": "python",
   "name": "python3"
  },
  "language_info": {
   "codemirror_mode": {
    "name": "ipython",
    "version": 3
   },
   "file_extension": ".py",
   "mimetype": "text/x-python",
   "name": "python",
   "nbconvert_exporter": "python",
   "pygments_lexer": "ipython3",
   "version": "3.6.5"
  },
  "toc": {
   "nav_menu": {},
   "number_sections": true,
   "sideBar": true,
   "skip_h1_title": true,
   "toc_cell": false,
   "toc_position": {},
   "toc_section_display": "block",
   "toc_window_display": false
  }
 },
 "nbformat": 4,
 "nbformat_minor": 2
}
