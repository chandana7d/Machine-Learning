{
 "cells": [
  {
   "cell_type": "markdown",
   "metadata": {},
   "source": [
    "#  Counting Aligned Shapes\n",
    "\n",
    "\n",
    "An example of a single-layer Convolutional Neural network with a **poisson** loss in a **counting** problem.\n",
    "\n",
    "## Preliminaries"
   ]
  },
  {
   "cell_type": "markdown",
   "metadata": {},
   "source": [
    "### Imports"
   ]
  },
  {
   "cell_type": "code",
   "execution_count": 1,
   "metadata": {
    "ExecuteTime": {
     "end_time": "2018-10-25T10:17:44.358872Z",
     "start_time": "2018-10-25T10:17:30.901857Z"
    }
   },
   "outputs": [
    {
     "name": "stderr",
     "output_type": "stream",
     "text": [
      "C:\\ProgramData\\Anaconda3\\lib\\site-packages\\h5py\\__init__.py:36: FutureWarning: Conversion of the second argument of issubdtype from `float` to `np.floating` is deprecated. In future, it will be treated as `np.float64 == np.dtype(float).type`.\n",
      "  from ._conv import register_converters as _register_converters\n"
     ]
    }
   ],
   "source": [
    "import pickle\n",
    "\n",
    "import numpy as np\n",
    "import tensorflow as tf\n",
    "from tensorflow import keras\n",
    "import tensorflow.keras.backend as K\n",
    "\n",
    "import matplotlib.pyplot as plt\n",
    "\n",
    "from sklearn.model_selection import train_test_split\n",
    "\n",
    "%matplotlib inline\n",
    "\n",
    "import sys\n"
   ]
  },
  {
   "cell_type": "code",
   "execution_count": 2,
   "metadata": {
    "ExecuteTime": {
     "end_time": "2018-10-25T10:17:46.538067Z",
     "start_time": "2018-10-25T10:17:44.360867Z"
    }
   },
   "outputs": [],
   "source": [
    "#\n",
    "from tensorflow.keras.backend import set_session\n",
    "\n",
    "config = tf.ConfigProto()\n",
    "config.gpu_options.allow_growth = True  # dynamically grow the memory used on the GPU\n",
    "config.log_device_placement = True  # to log device placement (on which device the operation ran)\n",
    "                                    # (nothing gets printed in Jupyter, only if you run it standalone)\n",
    "\n",
    "sess = tf.Session(config=config)\n",
    "\n",
    "set_session(sess)  # set this TensorFlow session as the default session for Keras"
   ]
  },
  {
   "cell_type": "code",
   "execution_count": 3,
   "metadata": {
    "ExecuteTime": {
     "end_time": "2018-10-25T10:17:49.862158Z",
     "start_time": "2018-10-25T10:17:49.859167Z"
    }
   },
   "outputs": [],
   "source": [
    "data_dir=\"../../data/shapes\"\n",
    "model_dir=\"../../data/models/tf/Color_Shapes\""
   ]
  },
  {
   "cell_type": "code",
   "execution_count": 4,
   "metadata": {
    "ExecuteTime": {
     "end_time": "2018-10-25T10:18:09.778902Z",
     "start_time": "2018-10-25T10:18:03.954476Z"
    }
   },
   "outputs": [
    {
     "name": "stdout",
     "output_type": "stream",
     "text": [
      "(10000, 100, 100, 3) (10000,) (10000, 100, 100, 3) (10000,)\n"
     ]
    }
   ],
   "source": [
    "filename=data_dir+\"/color_shapes.p\"\n",
    "file=open(filename,\"rb\")\n",
    "images,data= pickle.load(file)\n",
    "\n",
    "\n",
    "filename_test=data_dir+\"/color_shapes_test.p\"\n",
    "file_test=open(filename_test,\"rb\")\n",
    "images_test,data_test= pickle.load(file_test)  \n",
    "\n",
    "print(images.shape,data.shape,images_test.shape,data_test.shape)"
   ]
  },
  {
   "cell_type": "code",
   "execution_count": 5,
   "metadata": {
    "ExecuteTime": {
     "end_time": "2018-10-25T10:18:09.842738Z",
     "start_time": "2018-10-25T10:18:09.780900Z"
    }
   },
   "outputs": [
    {
     "data": {
      "text/html": [
       "<div>\n",
       "<style scoped>\n",
       "    .dataframe tbody tr th:only-of-type {\n",
       "        vertical-align: middle;\n",
       "    }\n",
       "\n",
       "    .dataframe tbody tr th {\n",
       "        vertical-align: top;\n",
       "    }\n",
       "\n",
       "    .dataframe thead th {\n",
       "        text-align: right;\n",
       "    }\n",
       "</style>\n",
       "<table border=\"1\" class=\"dataframe\">\n",
       "  <thead>\n",
       "    <tr style=\"text-align: right;\">\n",
       "      <th></th>\n",
       "      <th>colors</th>\n",
       "      <th>shapes</th>\n",
       "      <th>center_x</th>\n",
       "      <th>center_y</th>\n",
       "    </tr>\n",
       "  </thead>\n",
       "  <tbody>\n",
       "    <tr>\n",
       "      <th>0</th>\n",
       "      <td>cyan</td>\n",
       "      <td>circle</td>\n",
       "      <td>17</td>\n",
       "      <td>17</td>\n",
       "    </tr>\n",
       "    <tr>\n",
       "      <th>1</th>\n",
       "      <td>cyan</td>\n",
       "      <td>rectangle</td>\n",
       "      <td>52</td>\n",
       "      <td>67</td>\n",
       "    </tr>\n",
       "    <tr>\n",
       "      <th>2</th>\n",
       "      <td>yellow</td>\n",
       "      <td>rectangle</td>\n",
       "      <td>82</td>\n",
       "      <td>61</td>\n",
       "    </tr>\n",
       "    <tr>\n",
       "      <th>3</th>\n",
       "      <td>yellow</td>\n",
       "      <td>triangle</td>\n",
       "      <td>10</td>\n",
       "      <td>39</td>\n",
       "    </tr>\n",
       "    <tr>\n",
       "      <th>4</th>\n",
       "      <td>brown</td>\n",
       "      <td>circle</td>\n",
       "      <td>29</td>\n",
       "      <td>68</td>\n",
       "    </tr>\n",
       "    <tr>\n",
       "      <th>5</th>\n",
       "      <td>yellow</td>\n",
       "      <td>circle</td>\n",
       "      <td>58</td>\n",
       "      <td>19</td>\n",
       "    </tr>\n",
       "    <tr>\n",
       "      <th>6</th>\n",
       "      <td>cyan</td>\n",
       "      <td>triangle</td>\n",
       "      <td>80</td>\n",
       "      <td>22</td>\n",
       "    </tr>\n",
       "    <tr>\n",
       "      <th>7</th>\n",
       "      <td>cyan</td>\n",
       "      <td>circle</td>\n",
       "      <td>58</td>\n",
       "      <td>82</td>\n",
       "    </tr>\n",
       "  </tbody>\n",
       "</table>\n",
       "</div>"
      ],
      "text/plain": [
       "   colors     shapes  center_x  center_y\n",
       "0    cyan     circle        17        17\n",
       "1    cyan  rectangle        52        67\n",
       "2  yellow  rectangle        82        61\n",
       "3  yellow   triangle        10        39\n",
       "4   brown     circle        29        68\n",
       "5  yellow     circle        58        19\n",
       "6    cyan   triangle        80        22\n",
       "7    cyan     circle        58        82"
      ]
     },
     "execution_count": 5,
     "metadata": {},
     "output_type": "execute_result"
    }
   ],
   "source": [
    "data[0]"
   ]
  },
  {
   "cell_type": "code",
   "execution_count": 6,
   "metadata": {
    "ExecuteTime": {
     "end_time": "2018-10-25T10:18:09.849711Z",
     "start_time": "2018-10-25T10:18:09.844734Z"
    }
   },
   "outputs": [],
   "source": [
    "colors=[\"yellow\",\"brown\",\"cyan\"]\n",
    "shapes=[\"rectangle\",\"circle\",\"triangle\"]"
   ]
  },
  {
   "cell_type": "code",
   "execution_count": 7,
   "metadata": {
    "ExecuteTime": {
     "end_time": "2018-10-25T10:18:10.082092Z",
     "start_time": "2018-10-25T10:18:10.079100Z"
    }
   },
   "outputs": [],
   "source": [
    "k=len(colors)*len(shapes)"
   ]
  },
  {
   "cell_type": "code",
   "execution_count": 8,
   "metadata": {
    "ExecuteTime": {
     "end_time": "2018-10-25T10:18:11.096378Z",
     "start_time": "2018-10-25T10:18:11.087401Z"
    }
   },
   "outputs": [
    {
     "data": {
      "text/plain": [
       "2"
      ]
     },
     "execution_count": 8,
     "metadata": {},
     "output_type": "execute_result"
    }
   ],
   "source": [
    "df=data[0]\n",
    "color=\"red\"\n",
    "shape=\"rectangle\"\n",
    "len(df[df[\"colors\"]==color]),# & (df['shapes']==shape) ])\n",
    "len(df[df[\"shapes\"]==shape])"
   ]
  },
  {
   "cell_type": "code",
   "execution_count": 9,
   "metadata": {
    "ExecuteTime": {
     "end_time": "2018-10-25T10:18:12.209401Z",
     "start_time": "2018-10-25T10:18:12.204416Z"
    }
   },
   "outputs": [],
   "source": [
    "def compute_label(df):\n",
    "    counts=np.zeros((len(colors),len(shapes)),dtype=np.int)\n",
    "    if df.empty or (df is None):\n",
    "        return counts\n",
    "    for i1,color in enumerate(colors):\n",
    "        for i2,shape in enumerate(shapes):\n",
    "            counts[i1,i2]=len(df[(df[\"colors\"]==color) & (df['shapes']==shape) ])\n",
    "            #print (color,shape,counts[i1,i2])\n",
    "    return counts\n",
    "compute_labels=np.vectorize(compute_label)"
   ]
  },
  {
   "cell_type": "code",
   "execution_count": 10,
   "metadata": {
    "ExecuteTime": {
     "end_time": "2018-10-25T10:18:13.381269Z",
     "start_time": "2018-10-25T10:18:13.366308Z"
    }
   },
   "outputs": [
    {
     "data": {
      "text/plain": [
       "array([[1, 1, 1],\n",
       "       [0, 1, 0],\n",
       "       [1, 2, 1]])"
      ]
     },
     "execution_count": 10,
     "metadata": {},
     "output_type": "execute_result"
    }
   ],
   "source": [
    "compute_label(data[0])"
   ]
  },
  {
   "cell_type": "code",
   "execution_count": 11,
   "metadata": {
    "ExecuteTime": {
     "end_time": "2018-10-25T10:18:14.401541Z",
     "start_time": "2018-10-25T10:18:14.398548Z"
    }
   },
   "outputs": [],
   "source": [
    "def compute_labels(data):\n",
    "    labels=[]\n",
    "    for i1,df in enumerate(data):\n",
    "        #print(i1)\n",
    "        labels.append(compute_label(df))\n",
    "    return np.array(labels)"
   ]
  },
  {
   "cell_type": "code",
   "execution_count": 12,
   "metadata": {
    "ExecuteTime": {
     "end_time": "2018-10-25T10:19:36.081129Z",
     "start_time": "2018-10-25T10:18:15.434778Z"
    }
   },
   "outputs": [
    {
     "data": {
      "text/plain": [
       "(10000, 3, 3)"
      ]
     },
     "execution_count": 12,
     "metadata": {},
     "output_type": "execute_result"
    }
   ],
   "source": [
    "labels=compute_labels(data)\n",
    "labels.shape"
   ]
  },
  {
   "cell_type": "code",
   "execution_count": 13,
   "metadata": {
    "ExecuteTime": {
     "end_time": "2018-10-25T10:20:56.908222Z",
     "start_time": "2018-10-25T10:19:36.083125Z"
    }
   },
   "outputs": [
    {
     "data": {
      "text/plain": [
       "(10000, 3, 3)"
      ]
     },
     "execution_count": 13,
     "metadata": {},
     "output_type": "execute_result"
    }
   ],
   "source": [
    "labels_test=compute_labels(data_test)\n",
    "labels_test.shape"
   ]
  },
  {
   "cell_type": "code",
   "execution_count": 14,
   "metadata": {
    "ExecuteTime": {
     "end_time": "2018-10-25T10:20:56.915204Z",
     "start_time": "2018-10-25T10:20:56.910216Z"
    }
   },
   "outputs": [
    {
     "name": "stdout",
     "output_type": "stream",
     "text": [
      "(10000, 9) (10000, 9)\n"
     ]
    }
   ],
   "source": [
    "labels=labels.reshape(-1,k)\n",
    "labels_test=labels_test.reshape(-1,k)\n",
    "print(labels.shape,labels_test.shape)"
   ]
  },
  {
   "cell_type": "markdown",
   "metadata": {},
   "source": [
    "## Helper Functions"
   ]
  },
  {
   "cell_type": "code",
   "execution_count": 15,
   "metadata": {
    "ExecuteTime": {
     "end_time": "2018-10-25T10:20:56.933168Z",
     "start_time": "2018-10-25T10:20:56.917199Z"
    }
   },
   "outputs": [],
   "source": [
    "class ReportCallback(keras.callbacks.Callback):\n",
    "    def __init__(self,frequency,use_val=False):\n",
    "        self.freq=frequency\n",
    "        self.use_val=use_val\n",
    "        self.separator=\" || \"\n",
    "        if not(self.use_val):\n",
    "            self.separator=\"\\n\"\n",
    "    def on_epoch_end(self, epoch, logs={}):\n",
    "        if (epoch % self.freq ==0):\n",
    "            train_loss=logs[\"loss\"]\n",
    "            train_error=logs[\"count_err\"]\n",
    "            print(f\"\\t{epoch}: TRAIN Loss {train_loss:.4f},  Err {train_error:.4f}\",end=self.separator)\n",
    "            if self.use_val:\n",
    "                val_loss=logs[\"val_loss\"]\n",
    "                val_error=logs[\"val_count_err\"]\n",
    "                print(f\"VAL Loss {val_loss:.4f}, Err {val_error:.4f}\")"
   ]
  },
  {
   "cell_type": "code",
   "execution_count": 16,
   "metadata": {
    "ExecuteTime": {
     "end_time": "2018-10-25T10:20:56.945122Z",
     "start_time": "2018-10-25T10:20:56.935151Z"
    }
   },
   "outputs": [],
   "source": [
    "def count_err(y_true, y_pred):\n",
    "    return K.sum(K.abs(K.round(y_pred)-y_true),axis=-1)"
   ]
  },
  {
   "cell_type": "code",
   "execution_count": 17,
   "metadata": {
    "ExecuteTime": {
     "end_time": "2018-10-25T10:20:56.958088Z",
     "start_time": "2018-10-25T10:20:56.947118Z"
    }
   },
   "outputs": [],
   "source": [
    "def count_error(y_pred,y):\n",
    "    return np.sum(np.abs(np.round(y_pred)-np.round(y)))/len(y)"
   ]
  },
  {
   "cell_type": "markdown",
   "metadata": {},
   "source": [
    "## Model Selection"
   ]
  },
  {
   "cell_type": "markdown",
   "metadata": {},
   "source": [
    "### Convolution Only"
   ]
  },
  {
   "cell_type": "code",
   "execution_count": 33,
   "metadata": {
    "ExecuteTime": {
     "end_time": "2018-10-25T10:29:37.288353Z",
     "start_time": "2018-10-25T10:29:37.284352Z"
    }
   },
   "outputs": [],
   "source": [
    "optimizer=tf.train.AdamOptimizer(learning_rate=0.0005)"
   ]
  },
  {
   "cell_type": "code",
   "execution_count": 34,
   "metadata": {
    "ExecuteTime": {
     "end_time": "2018-10-25T10:29:44.394339Z",
     "start_time": "2018-10-25T10:29:44.343481Z"
    }
   },
   "outputs": [],
   "source": [
    "model1 = keras.Sequential([\n",
    "    \n",
    "    # Convolutional Layers\n",
    "    keras.layers.Conv2D(32, (3, 3),input_shape=(100,100,3), activation='relu',padding=\"same\"),\n",
    "    keras.layers.AveragePooling2D(pool_size=(100, 100)),\n",
    "    \n",
    "    keras.layers.Flatten(),\n",
    "    keras.layers.Dense(9, kernel_initializer=\"zeros\",activation=None),\n",
    "    keras.layers.Lambda(lambda x: K.exp(x))\n",
    "])"
   ]
  },
  {
   "cell_type": "code",
   "execution_count": 35,
   "metadata": {
    "ExecuteTime": {
     "end_time": "2018-10-25T10:29:44.478116Z",
     "start_time": "2018-10-25T10:29:44.396335Z"
    }
   },
   "outputs": [],
   "source": [
    "model1.compile(optimizer=optimizer, \n",
    "              loss='poisson',\n",
    "              metrics=[count_err])"
   ]
  },
  {
   "cell_type": "code",
   "execution_count": 36,
   "metadata": {
    "ExecuteTime": {
     "end_time": "2018-10-25T11:33:03.552600Z",
     "start_time": "2018-10-25T10:29:44.480110Z"
    }
   },
   "outputs": [
    {
     "name": "stdout",
     "output_type": "stream",
     "text": [
      "\t0: TRAIN Loss 0.9022,  Err 6.5350\n",
      "\t10: TRAIN Loss 0.7769,  Err 5.4096\n",
      "\t20: TRAIN Loss 0.7174,  Err 4.5036\n",
      "\t30: TRAIN Loss 0.6799,  Err 3.8705\n",
      "\t40: TRAIN Loss 0.6484,  Err 3.1987\n",
      "\t50: TRAIN Loss 0.6362,  Err 2.7969\n",
      "\t60: TRAIN Loss 0.6306,  Err 2.6354\n",
      "\t70: TRAIN Loss 0.6272,  Err 2.5554\n",
      "\t80: TRAIN Loss 0.6234,  Err 2.4706\n",
      "\t90: TRAIN Loss 0.6193,  Err 2.3794\n",
      "\t100: TRAIN Loss 0.6165,  Err 2.3148\n",
      "\t110: TRAIN Loss 0.6123,  Err 2.2110\n",
      "\t120: TRAIN Loss 0.6101,  Err 2.1146\n",
      "\t130: TRAIN Loss 0.6087,  Err 2.0366\n",
      "\t140: TRAIN Loss 0.6070,  Err 1.9616\n",
      "\t150: TRAIN Loss 0.6062,  Err 1.9080\n",
      "\t160: TRAIN Loss 0.6059,  Err 1.8795\n",
      "\t170: TRAIN Loss 0.6049,  Err 1.8176\n",
      "\t180: TRAIN Loss 0.6050,  Err 1.8217\n",
      "\t190: TRAIN Loss 0.6047,  Err 1.8242\n",
      "\t200: TRAIN Loss 0.6054,  Err 1.8444\n",
      "\t210: TRAIN Loss 0.6039,  Err 1.7594\n",
      "\t220: TRAIN Loss 0.6052,  Err 1.8068\n",
      "\t230: TRAIN Loss 0.6049,  Err 1.8296\n",
      "\t240: TRAIN Loss 0.6043,  Err 1.7982\n",
      "\t250: TRAIN Loss 0.6045,  Err 1.8034\n",
      "\t260: TRAIN Loss 0.6046,  Err 1.8164\n",
      "\t270: TRAIN Loss 0.6039,  Err 1.7775\n",
      "\t280: TRAIN Loss 0.6039,  Err 1.8079\n",
      "\t290: TRAIN Loss 0.6043,  Err 1.8224\n",
      "\t300: TRAIN Loss 0.6032,  Err 1.7646\n",
      "\t310: TRAIN Loss 0.6034,  Err 1.7751\n",
      "\t320: TRAIN Loss 0.6042,  Err 1.8009\n",
      "\t330: TRAIN Loss 0.6031,  Err 1.7619\n",
      "\t340: TRAIN Loss 0.6044,  Err 1.7788\n",
      "\t350: TRAIN Loss 0.6038,  Err 1.8169\n",
      "\t360: TRAIN Loss 0.6030,  Err 1.7848\n",
      "\t370: TRAIN Loss 0.6028,  Err 1.7586\n",
      "\t380: TRAIN Loss 0.6041,  Err 1.7973\n",
      "\t390: TRAIN Loss 0.6040,  Err 1.7866\n",
      "\t400: TRAIN Loss 0.6033,  Err 1.7770\n",
      "\t410: TRAIN Loss 0.6032,  Err 1.7859\n",
      "\t420: TRAIN Loss 0.6039,  Err 1.7922\n",
      "\t430: TRAIN Loss 0.6030,  Err 1.7815\n",
      "\t440: TRAIN Loss 0.6045,  Err 1.7849\n",
      "\t450: TRAIN Loss 0.6027,  Err 1.7595\n",
      "\t460: TRAIN Loss 0.6036,  Err 1.7812\n",
      "\t470: TRAIN Loss 0.6035,  Err 1.7864\n",
      "\t480: TRAIN Loss 0.6028,  Err 1.7608\n",
      "\t490: TRAIN Loss 0.6031,  Err 1.7761\n",
      "\t500: TRAIN Loss 0.6024,  Err 1.7681\n",
      "\t510: TRAIN Loss 0.6037,  Err 1.7601\n",
      "\t520: TRAIN Loss 0.6031,  Err 1.7976\n",
      "\t530: TRAIN Loss 0.6033,  Err 1.7915\n",
      "\t540: TRAIN Loss 0.6024,  Err 1.7819\n",
      "\t550: TRAIN Loss 0.6023,  Err 1.7624\n",
      "\t560: TRAIN Loss 0.6026,  Err 1.7723\n",
      "\t570: TRAIN Loss 0.6034,  Err 1.7809\n",
      "\t580: TRAIN Loss 0.6028,  Err 1.7637\n",
      "\t590: TRAIN Loss 0.6025,  Err 1.7803\n",
      "\t600: TRAIN Loss 0.6026,  Err 1.7411\n",
      "\t610: TRAIN Loss 0.6022,  Err 1.7990\n",
      "\t620: TRAIN Loss 0.6029,  Err 1.7930\n",
      "\t630: TRAIN Loss 0.6027,  Err 1.8048\n",
      "\t640: TRAIN Loss 0.6027,  Err 1.7677\n",
      "\t650: TRAIN Loss 0.6026,  Err 1.7677\n",
      "\t660: TRAIN Loss 0.6025,  Err 1.7524\n",
      "\t670: TRAIN Loss 0.6022,  Err 1.7791\n",
      "\t680: TRAIN Loss 0.6028,  Err 1.7910\n",
      "\t690: TRAIN Loss 0.6025,  Err 1.8006\n",
      "\t700: TRAIN Loss 0.6023,  Err 1.7568\n",
      "\t710: TRAIN Loss 0.6026,  Err 1.7374\n",
      "\t720: TRAIN Loss 0.6020,  Err 1.7755\n",
      "\t730: TRAIN Loss 0.6026,  Err 1.7916\n",
      "\t740: TRAIN Loss 0.6024,  Err 1.8119\n",
      "\t750: TRAIN Loss 0.6027,  Err 1.7689\n",
      "\t760: TRAIN Loss 0.6026,  Err 1.8121\n",
      "\t770: TRAIN Loss 0.6024,  Err 1.7626\n",
      "\t780: TRAIN Loss 0.6026,  Err 1.7708\n",
      "\t790: TRAIN Loss 0.6022,  Err 1.7829\n",
      "\t800: TRAIN Loss 0.6015,  Err 1.7570\n",
      "\t810: TRAIN Loss 0.6014,  Err 1.7672\n",
      "\t820: TRAIN Loss 0.6021,  Err 1.7806\n",
      "\t830: TRAIN Loss 0.6024,  Err 1.7913\n",
      "\t840: TRAIN Loss 0.6022,  Err 1.7457\n",
      "\t850: TRAIN Loss 0.6026,  Err 1.7966\n",
      "\t860: TRAIN Loss 0.6022,  Err 1.7630\n",
      "\t870: TRAIN Loss 0.6017,  Err 1.8122\n",
      "\t880: TRAIN Loss 0.6022,  Err 1.7616\n",
      "\t890: TRAIN Loss 0.6020,  Err 1.7711\n",
      "\t900: TRAIN Loss 0.6027,  Err 1.8011\n",
      "\t910: TRAIN Loss 0.6015,  Err 1.7706\n",
      "\t920: TRAIN Loss 0.6019,  Err 1.7771\n",
      "\t930: TRAIN Loss 0.6022,  Err 1.7795\n",
      "\t940: TRAIN Loss 0.6020,  Err 1.7594\n",
      "\t950: TRAIN Loss 0.6018,  Err 1.7629\n",
      "\t960: TRAIN Loss 0.6019,  Err 1.7783\n",
      "\t970: TRAIN Loss 0.6017,  Err 1.7777\n",
      "\t980: TRAIN Loss 0.6022,  Err 1.7809\n",
      "\t990: TRAIN Loss 0.6021,  Err 1.7641\n"
     ]
    }
   ],
   "source": [
    "hist1=model1.fit(images,labels,epochs=1000,validation_split=0.2,verbose=0,callbacks=[ReportCallback(10)])"
   ]
  },
  {
   "cell_type": "markdown",
   "metadata": {},
   "source": [
    "###  Two layers on Convolution"
   ]
  },
  {
   "cell_type": "code",
   "execution_count": 37,
   "metadata": {
    "ExecuteTime": {
     "end_time": "2018-10-25T11:33:03.626402Z",
     "start_time": "2018-10-25T11:33:03.554596Z"
    }
   },
   "outputs": [],
   "source": [
    "model2 = keras.Sequential([\n",
    "    \n",
    "    \n",
    "    # Convolutional Layers\n",
    "    keras.layers.Conv2D(32, (3, 3),input_shape=(100,100,3), activation='relu',padding=\"same\"),\n",
    "    keras.layers.AveragePooling2D(pool_size=(2, 2)),\n",
    "    keras.layers.Conv2D(32, (3, 3), activation='relu',padding=\"same\"),\n",
    "    keras.layers.AveragePooling2D(pool_size=(50, 50)),\n",
    "    \n",
    "    keras.layers.Flatten(),\n",
    "    keras.layers.Dense(9, kernel_initializer=\"zeros\",activation=None),\n",
    "    keras.layers.Lambda(lambda x: K.exp(x))\n",
    "])"
   ]
  },
  {
   "cell_type": "code",
   "execution_count": 38,
   "metadata": {
    "ExecuteTime": {
     "end_time": "2018-10-25T11:33:03.716162Z",
     "start_time": "2018-10-25T11:33:03.628398Z"
    }
   },
   "outputs": [],
   "source": [
    "model2.compile(optimizer=optimizer, \n",
    "              loss='poisson',\n",
    "              metrics=[count_err])"
   ]
  },
  {
   "cell_type": "code",
   "execution_count": 39,
   "metadata": {
    "ExecuteTime": {
     "end_time": "2018-10-25T12:46:10.005398Z",
     "start_time": "2018-10-25T11:33:03.718159Z"
    }
   },
   "outputs": [
    {
     "name": "stdout",
     "output_type": "stream",
     "text": [
      "\t0: TRAIN Loss 0.8469,  Err 6.0596\n",
      "\t10: TRAIN Loss 0.6438,  Err 2.8964\n",
      "\t20: TRAIN Loss 0.6059,  Err 1.7463\n",
      "\t30: TRAIN Loss 0.6051,  Err 1.6945\n",
      "\t40: TRAIN Loss 0.6033,  Err 1.7144\n",
      "\t50: TRAIN Loss 0.6027,  Err 1.7357\n",
      "\t60: TRAIN Loss 0.6040,  Err 1.7595\n",
      "\t70: TRAIN Loss 0.6018,  Err 1.7534\n",
      "\t80: TRAIN Loss 0.6025,  Err 1.7359\n",
      "\t90: TRAIN Loss 0.6023,  Err 1.7304\n",
      "\t100: TRAIN Loss 0.6017,  Err 1.7230\n",
      "\t110: TRAIN Loss 0.6013,  Err 1.7130\n",
      "\t120: TRAIN Loss 0.6009,  Err 1.7124\n",
      "\t130: TRAIN Loss 0.6009,  Err 1.7175\n",
      "\t140: TRAIN Loss 0.6007,  Err 1.7139\n",
      "\t150: TRAIN Loss 0.6017,  Err 1.7448\n",
      "\t160: TRAIN Loss 0.6006,  Err 1.7196\n",
      "\t170: TRAIN Loss 0.6001,  Err 1.7328\n",
      "\t180: TRAIN Loss 0.5994,  Err 1.6956\n",
      "\t190: TRAIN Loss 0.5996,  Err 1.7009\n",
      "\t200: TRAIN Loss 0.5993,  Err 1.6714\n",
      "\t210: TRAIN Loss 0.5991,  Err 1.6898\n",
      "\t220: TRAIN Loss 0.5988,  Err 1.6826\n",
      "\t230: TRAIN Loss 0.5996,  Err 1.7125\n",
      "\t240: TRAIN Loss 0.5992,  Err 1.6884\n",
      "\t250: TRAIN Loss 0.5990,  Err 1.6771\n",
      "\t260: TRAIN Loss 0.5987,  Err 1.6854\n",
      "\t270: TRAIN Loss 0.5984,  Err 1.6771\n",
      "\t280: TRAIN Loss 0.5988,  Err 1.6966\n",
      "\t290: TRAIN Loss 0.5982,  Err 1.6711\n",
      "\t300: TRAIN Loss 0.5981,  Err 1.6672\n",
      "\t310: TRAIN Loss 0.5988,  Err 1.6887\n",
      "\t320: TRAIN Loss 0.5981,  Err 1.6994\n",
      "\t330: TRAIN Loss 0.5980,  Err 1.6594\n",
      "\t340: TRAIN Loss 0.5976,  Err 1.6719\n",
      "\t350: TRAIN Loss 0.5978,  Err 1.6876\n",
      "\t360: TRAIN Loss 0.5978,  Err 1.6387\n",
      "\t370: TRAIN Loss 0.5974,  Err 1.6585\n",
      "\t380: TRAIN Loss 0.5973,  Err 1.6720\n",
      "\t390: TRAIN Loss 0.5975,  Err 1.6721\n",
      "\t400: TRAIN Loss 0.5975,  Err 1.6625\n",
      "\t410: TRAIN Loss 0.5966,  Err 1.6427\n",
      "\t420: TRAIN Loss 0.5970,  Err 1.6587\n",
      "\t430: TRAIN Loss 0.5974,  Err 1.6494\n",
      "\t440: TRAIN Loss 0.5970,  Err 1.6474\n",
      "\t450: TRAIN Loss 0.5972,  Err 1.6599\n",
      "\t460: TRAIN Loss 0.5963,  Err 1.6284\n",
      "\t470: TRAIN Loss 0.5967,  Err 1.6096\n",
      "\t480: TRAIN Loss 0.5965,  Err 1.6279\n",
      "\t490: TRAIN Loss 0.5965,  Err 1.6501\n",
      "\t500: TRAIN Loss 0.5965,  Err 1.6355\n",
      "\t510: TRAIN Loss 0.5963,  Err 1.6469\n",
      "\t520: TRAIN Loss 0.5963,  Err 1.6478\n",
      "\t530: TRAIN Loss 0.5965,  Err 1.6404\n",
      "\t540: TRAIN Loss 0.5962,  Err 1.6296\n",
      "\t550: TRAIN Loss 0.5966,  Err 1.6370\n",
      "\t560: TRAIN Loss 0.5963,  Err 1.6449\n",
      "\t570: TRAIN Loss 0.5958,  Err 1.6336\n",
      "\t580: TRAIN Loss 0.5957,  Err 1.6206\n",
      "\t590: TRAIN Loss 0.5956,  Err 1.6349\n",
      "\t600: TRAIN Loss 0.5957,  Err 1.6251\n",
      "\t610: TRAIN Loss 0.5955,  Err 1.6201\n",
      "\t620: TRAIN Loss 0.5955,  Err 1.6190\n",
      "\t630: TRAIN Loss 0.5958,  Err 1.6271\n",
      "\t640: TRAIN Loss 0.5954,  Err 1.6213\n",
      "\t650: TRAIN Loss 0.5955,  Err 1.6304\n",
      "\t660: TRAIN Loss 0.5955,  Err 1.6073\n",
      "\t670: TRAIN Loss 0.5953,  Err 1.6211\n",
      "\t680: TRAIN Loss 0.5954,  Err 1.6118\n",
      "\t690: TRAIN Loss 0.5948,  Err 1.6146\n",
      "\t700: TRAIN Loss 0.5949,  Err 1.6145\n",
      "\t710: TRAIN Loss 0.5952,  Err 1.6255\n",
      "\t720: TRAIN Loss 0.5949,  Err 1.5993\n",
      "\t730: TRAIN Loss 0.5943,  Err 1.5824\n",
      "\t740: TRAIN Loss 0.5953,  Err 1.6358\n",
      "\t750: TRAIN Loss 0.5946,  Err 1.6109\n",
      "\t760: TRAIN Loss 0.5947,  Err 1.6249\n",
      "\t770: TRAIN Loss 0.5948,  Err 1.6195\n",
      "\t780: TRAIN Loss 0.5945,  Err 1.5978\n",
      "\t790: TRAIN Loss 0.5947,  Err 1.6222\n",
      "\t800: TRAIN Loss 0.5940,  Err 1.6002\n",
      "\t810: TRAIN Loss 0.5943,  Err 1.6022\n",
      "\t820: TRAIN Loss 0.5945,  Err 1.6076\n",
      "\t830: TRAIN Loss 0.5940,  Err 1.5936\n",
      "\t840: TRAIN Loss 0.5945,  Err 1.5854\n",
      "\t850: TRAIN Loss 0.5941,  Err 1.6010\n",
      "\t860: TRAIN Loss 0.5939,  Err 1.5931\n",
      "\t870: TRAIN Loss 0.5941,  Err 1.5894\n",
      "\t880: TRAIN Loss 0.5939,  Err 1.5990\n",
      "\t890: TRAIN Loss 0.5938,  Err 1.5833\n",
      "\t900: TRAIN Loss 0.5938,  Err 1.5934\n",
      "\t910: TRAIN Loss 0.5941,  Err 1.6009\n",
      "\t920: TRAIN Loss 0.5937,  Err 1.6147\n",
      "\t930: TRAIN Loss 0.5936,  Err 1.5882\n",
      "\t940: TRAIN Loss 0.5936,  Err 1.6041\n",
      "\t950: TRAIN Loss 0.5936,  Err 1.5945\n",
      "\t960: TRAIN Loss 0.5934,  Err 1.5989\n",
      "\t970: TRAIN Loss 0.5932,  Err 1.5736\n",
      "\t980: TRAIN Loss 0.5935,  Err 1.5940\n",
      "\t990: TRAIN Loss 0.5930,  Err 1.5914\n"
     ]
    }
   ],
   "source": [
    "hist2=model2.fit(images,labels,epochs=1000,validation_split=0.2,verbose=0,callbacks=[ReportCallback(10)])"
   ]
  },
  {
   "cell_type": "markdown",
   "metadata": {},
   "source": [
    "### Convolution plus dense layer"
   ]
  },
  {
   "cell_type": "code",
   "execution_count": 40,
   "metadata": {
    "ExecuteTime": {
     "end_time": "2018-10-25T12:46:10.060064Z",
     "start_time": "2018-10-25T12:46:10.007138Z"
    }
   },
   "outputs": [],
   "source": [
    "\n",
    "model3 = keras.Sequential([\n",
    "    \n",
    "    # Convolutional Layers\n",
    "    keras.layers.Conv2D(32, (3, 3),input_shape=(100,100,3), activation='relu',padding=\"same\"),\n",
    "    keras.layers.AveragePooling2D(pool_size=(100, 100)),\n",
    "   \n",
    "    # Dense Layers\n",
    "    keras.layers.Flatten(),\n",
    "    keras.layers.Dense(64, activation=tf.nn.relu),\n",
    "    keras.layers.Dense(9, kernel_initializer=\"zeros\",activation=None),\n",
    "    keras.layers.Lambda(lambda x: K.exp(x))\n",
    "])"
   ]
  },
  {
   "cell_type": "code",
   "execution_count": 41,
   "metadata": {
    "ExecuteTime": {
     "end_time": "2018-10-25T12:46:10.123815Z",
     "start_time": "2018-10-25T12:46:10.061967Z"
    }
   },
   "outputs": [],
   "source": [
    "model3.compile(optimizer=optimizer, \n",
    "              loss='poisson',\n",
    "              metrics=[count_err])"
   ]
  },
  {
   "cell_type": "code",
   "execution_count": 42,
   "metadata": {
    "ExecuteTime": {
     "end_time": "2018-10-25T13:33:53.185251Z",
     "start_time": "2018-10-25T12:46:10.124797Z"
    }
   },
   "outputs": [
    {
     "name": "stdout",
     "output_type": "stream",
     "text": [
      "\t0: TRAIN Loss 0.8646,  Err 6.1151\n",
      "\t10: TRAIN Loss 0.6157,  Err 2.8333\n",
      "\t20: TRAIN Loss 0.5474,  Err 1.6944\n",
      "\t30: TRAIN Loss 0.5169,  Err 1.3526\n",
      "\t40: TRAIN Loss 0.4841,  Err 0.8522\n",
      "\t50: TRAIN Loss 0.4564,  Err 0.4124\n",
      "\t60: TRAIN Loss 0.4473,  Err 0.3114\n",
      "\t70: TRAIN Loss 0.4417,  Err 0.2405\n",
      "\t80: TRAIN Loss 0.4377,  Err 0.1999\n",
      "\t90: TRAIN Loss 0.4340,  Err 0.1487\n",
      "\t100: TRAIN Loss 0.4298,  Err 0.0989\n",
      "\t110: TRAIN Loss 0.4232,  Err 0.0483\n",
      "\t120: TRAIN Loss 0.4198,  Err 0.0305\n",
      "\t130: TRAIN Loss 0.4183,  Err 0.0217\n",
      "\t140: TRAIN Loss 0.4178,  Err 0.0255\n",
      "\t150: TRAIN Loss 0.4169,  Err 0.0156\n",
      "\t160: TRAIN Loss 0.4166,  Err 0.0143\n",
      "\t170: TRAIN Loss 0.4165,  Err 0.0136\n",
      "\t180: TRAIN Loss 0.4167,  Err 0.0149\n",
      "\t190: TRAIN Loss 0.4171,  Err 0.0159\n",
      "\t200: TRAIN Loss 0.4163,  Err 0.0088\n",
      "\t210: TRAIN Loss 0.4163,  Err 0.0083\n",
      "\t220: TRAIN Loss 0.4163,  Err 0.0085\n",
      "\t230: TRAIN Loss 0.4168,  Err 0.0140\n",
      "\t240: TRAIN Loss 0.4163,  Err 0.0066\n",
      "\t250: TRAIN Loss 0.4164,  Err 0.0076\n",
      "\t260: TRAIN Loss 0.4162,  Err 0.0051\n",
      "\t270: TRAIN Loss 0.4161,  Err 0.0047\n",
      "\t280: TRAIN Loss 0.4160,  Err 0.0035\n",
      "\t290: TRAIN Loss 0.4161,  Err 0.0029\n",
      "\t300: TRAIN Loss 0.4160,  Err 0.0025\n",
      "\t310: TRAIN Loss 0.4160,  Err 0.0022\n",
      "\t320: TRAIN Loss 0.4159,  Err 0.0025\n",
      "\t330: TRAIN Loss 0.4160,  Err 0.0025\n",
      "\t340: TRAIN Loss 0.4160,  Err 0.0025\n",
      "\t350: TRAIN Loss 0.4159,  Err 0.0027\n",
      "\t360: TRAIN Loss 0.4160,  Err 0.0030\n",
      "\t370: TRAIN Loss 0.4160,  Err 0.0024\n",
      "\t380: TRAIN Loss 0.4160,  Err 0.0026\n",
      "\t390: TRAIN Loss 0.4159,  Err 0.0026\n",
      "\t400: TRAIN Loss 0.4160,  Err 0.0022\n",
      "\t410: TRAIN Loss 0.4160,  Err 0.0030\n",
      "\t420: TRAIN Loss 0.4243,  Err 0.0126\n",
      "\t430: TRAIN Loss 0.4209,  Err 0.0191\n",
      "\t440: TRAIN Loss 0.4183,  Err 0.0104\n",
      "\t450: TRAIN Loss 0.4173,  Err 0.0075\n",
      "\t460: TRAIN Loss 0.4167,  Err 0.0067\n",
      "\t470: TRAIN Loss 0.4164,  Err 0.0076\n",
      "\t480: TRAIN Loss 0.4162,  Err 0.0051\n",
      "\t490: TRAIN Loss 0.4161,  Err 0.0043\n",
      "\t500: TRAIN Loss 0.4161,  Err 0.0045\n",
      "\t510: TRAIN Loss 0.4160,  Err 0.0035\n",
      "\t520: TRAIN Loss 0.4161,  Err 0.0035\n",
      "\t530: TRAIN Loss 0.4160,  Err 0.0032\n",
      "\t540: TRAIN Loss 0.4160,  Err 0.0030\n",
      "\t550: TRAIN Loss 0.4166,  Err 0.0112\n",
      "\t560: TRAIN Loss 0.4160,  Err 0.0032\n",
      "\t570: TRAIN Loss 0.4160,  Err 0.0026\n",
      "\t580: TRAIN Loss 0.4160,  Err 0.0029\n",
      "\t590: TRAIN Loss 0.4160,  Err 0.0027\n",
      "\t600: TRAIN Loss 0.4160,  Err 0.0030\n",
      "\t610: TRAIN Loss 0.4180,  Err 0.0254\n",
      "\t620: TRAIN Loss 0.4160,  Err 0.0030\n",
      "\t630: TRAIN Loss 0.4160,  Err 0.0025\n",
      "\t640: TRAIN Loss 0.4160,  Err 0.0024\n",
      "\t650: TRAIN Loss 0.4160,  Err 0.0026\n",
      "\t660: TRAIN Loss 0.4159,  Err 0.0025\n",
      "\t670: TRAIN Loss 0.4159,  Err 0.0026\n",
      "\t680: TRAIN Loss 0.4160,  Err 0.0029\n",
      "\t690: TRAIN Loss 0.4159,  Err 0.0022\n",
      "\t700: TRAIN Loss 0.4160,  Err 0.0026\n",
      "\t710: TRAIN Loss 0.4159,  Err 0.0020\n",
      "\t720: TRAIN Loss 0.4159,  Err 0.0024\n",
      "\t730: TRAIN Loss 0.4159,  Err 0.0025\n",
      "\t740: TRAIN Loss 0.4160,  Err 0.0024\n",
      "\t750: TRAIN Loss 0.4159,  Err 0.0024\n",
      "\t760: TRAIN Loss 0.4160,  Err 0.0020\n",
      "\t770: TRAIN Loss 0.4189,  Err 0.0653\n",
      "\t780: TRAIN Loss 0.4159,  Err 0.0022\n",
      "\t790: TRAIN Loss 0.4159,  Err 0.0022\n",
      "\t800: TRAIN Loss 0.4159,  Err 0.0018\n",
      "\t810: TRAIN Loss 0.4159,  Err 0.0021\n",
      "\t820: TRAIN Loss 0.4159,  Err 0.0018\n",
      "\t830: TRAIN Loss 0.4159,  Err 0.0015\n",
      "\t840: TRAIN Loss 0.4159,  Err 0.0015\n",
      "\t850: TRAIN Loss 0.4159,  Err 0.0018\n",
      "\t860: TRAIN Loss 0.4159,  Err 0.0018\n",
      "\t870: TRAIN Loss 0.4160,  Err 0.0019\n",
      "\t880: TRAIN Loss 0.4159,  Err 0.0024\n",
      "\t890: TRAIN Loss 0.4161,  Err 0.0037\n",
      "\t900: TRAIN Loss 0.4159,  Err 0.0025\n",
      "\t910: TRAIN Loss 0.4161,  Err 0.0035\n",
      "\t920: TRAIN Loss 0.4159,  Err 0.0022\n",
      "\t930: TRAIN Loss 0.4160,  Err 0.0022\n",
      "\t940: TRAIN Loss 0.4159,  Err 0.0020\n",
      "\t950: TRAIN Loss 0.4159,  Err 0.0031\n",
      "\t960: TRAIN Loss 0.4159,  Err 0.0027\n",
      "\t970: TRAIN Loss 0.4160,  Err 0.0027\n",
      "\t980: TRAIN Loss 0.4160,  Err 0.0026\n",
      "\t990: TRAIN Loss 0.4160,  Err 0.0026\n"
     ]
    }
   ],
   "source": [
    "hist3=model3.fit(images,labels,epochs=1000,validation_split=0.2,verbose=0,callbacks=[ReportCallback(10)])"
   ]
  },
  {
   "cell_type": "code",
   "execution_count": 43,
   "metadata": {
    "ExecuteTime": {
     "end_time": "2018-10-25T13:33:53.329726Z",
     "start_time": "2018-10-25T13:33:53.187133Z"
    }
   },
   "outputs": [
    {
     "data": {
      "text/plain": [
       "<matplotlib.legend.Legend at 0x1539384eba8>"
      ]
     },
     "execution_count": 43,
     "metadata": {},
     "output_type": "execute_result"
    },
    {
     "data": {
      "image/png": "[encoded data removed]",
      "text/plain": [
       "<Figure size 432x288 with 1 Axes>"
      ]
     },
     "metadata": {},
     "output_type": "display_data"
    }
   ],
   "source": [
    "plt.plot(hist1.history[\"val_count_err\"],label=\"1 x Conv\")\n",
    "plt.plot(hist2.history[\"val_count_err\"],label=\"2 x Conv\")\n",
    "plt.plot(hist3.history[\"val_count_err\"],label=\"1 x Conv + 1 x Dense\")\n",
    "plt.legend()"
   ]
  },
  {
   "cell_type": "markdown",
   "metadata": {},
   "source": [
    "##  Model Test"
   ]
  },
  {
   "cell_type": "code",
   "execution_count": 45,
   "metadata": {
    "ExecuteTime": {
     "end_time": "2018-10-25T23:14:59.694067Z",
     "start_time": "2018-10-25T23:14:59.644102Z"
    }
   },
   "outputs": [],
   "source": [
    "\n",
    "model = keras.Sequential([\n",
    "    \n",
    "    # Convolutional Layers\n",
    "    keras.layers.Conv2D(32, (3, 3),input_shape=(100,100,3), activation='relu',padding=\"same\"),\n",
    "    keras.layers.AveragePooling2D(pool_size=(100, 100)),\n",
    "   \n",
    "    # Dense Layers\n",
    "    keras.layers.Flatten(),\n",
    "    keras.layers.Dense(64, activation=tf.nn.relu),\n",
    "    keras.layers.Dense(9, kernel_initializer=\"zeros\",activation=None),\n",
    "    keras.layers.Lambda(lambda x: K.exp(x))\n",
    "])"
   ]
  },
  {
   "cell_type": "code",
   "execution_count": 46,
   "metadata": {
    "ExecuteTime": {
     "end_time": "2018-10-25T23:15:00.041050Z",
     "start_time": "2018-10-25T23:14:59.695956Z"
    }
   },
   "outputs": [],
   "source": [
    "model.compile(optimizer=optimizer, \n",
    "              loss='poisson',\n",
    "              metrics=[count_err])"
   ]
  },
  {
   "cell_type": "code",
   "execution_count": 47,
   "metadata": {
    "ExecuteTime": {
     "end_time": "2018-10-25T23:15:00.270013Z",
     "start_time": "2018-10-25T23:15:00.265028Z"
    }
   },
   "outputs": [
    {
     "name": "stdout",
     "output_type": "stream",
     "text": [
      "_________________________________________________________________\n",
      "Layer (type)                 Output Shape              Param #   \n",
      "=================================================================\n",
      "conv2d_5 (Conv2D)            (None, 100, 100, 32)      896       \n",
      "_________________________________________________________________\n",
      "average_pooling2d_5 (Average (None, 1, 1, 32)          0         \n",
      "_________________________________________________________________\n",
      "flatten_6 (Flatten)          (None, 32)                0         \n",
      "_________________________________________________________________\n",
      "dense_7 (Dense)              (None, 64)                2112      \n",
      "_________________________________________________________________\n",
      "dense_8 (Dense)              (None, 9)                 585       \n",
      "_________________________________________________________________\n",
      "lambda_6 (Lambda)            (None, 9)                 0         \n",
      "=================================================================\n",
      "Total params: 3,593\n",
      "Trainable params: 3,593\n",
      "Non-trainable params: 0\n",
      "_________________________________________________________________\n"
     ]
    }
   ],
   "source": [
    "model.summary()"
   ]
  },
  {
   "cell_type": "code",
   "execution_count": 48,
   "metadata": {
    "ExecuteTime": {
     "end_time": "2018-10-26T01:45:01.343001Z",
     "start_time": "2018-10-25T23:15:06.011216Z"
    }
   },
   "outputs": [
    {
     "name": "stdout",
     "output_type": "stream",
     "text": [
      "\t0: TRAIN Loss 0.8510,  Err 5.9778\n",
      "\t10: TRAIN Loss 0.6148,  Err 2.7052\n",
      "\t20: TRAIN Loss 0.5600,  Err 1.7910\n",
      "\t30: TRAIN Loss 0.5202,  Err 1.2637\n",
      "\t40: TRAIN Loss 0.4777,  Err 0.6039\n",
      "\t50: TRAIN Loss 0.4588,  Err 0.3997\n",
      "\t60: TRAIN Loss 0.4486,  Err 0.3106\n",
      "\t70: TRAIN Loss 0.4424,  Err 0.2645\n",
      "\t80: TRAIN Loss 0.4365,  Err 0.1961\n",
      "\t90: TRAIN Loss 0.4312,  Err 0.1326\n",
      "\t100: TRAIN Loss 0.4271,  Err 0.0919\n",
      "\t110: TRAIN Loss 0.4237,  Err 0.0636\n",
      "\t120: TRAIN Loss 0.4213,  Err 0.0504\n",
      "\t130: TRAIN Loss 0.4202,  Err 0.0497\n",
      "\t140: TRAIN Loss 0.4196,  Err 0.0440\n",
      "\t150: TRAIN Loss 0.4194,  Err 0.0436\n",
      "\t160: TRAIN Loss 0.4192,  Err 0.0427\n",
      "\t170: TRAIN Loss 0.4192,  Err 0.0382\n",
      "\t180: TRAIN Loss 0.4185,  Err 0.0313\n",
      "\t190: TRAIN Loss 0.4198,  Err 0.0404\n",
      "\t200: TRAIN Loss 0.4187,  Err 0.0357\n",
      "\t210: TRAIN Loss 0.4181,  Err 0.0298\n",
      "\t220: TRAIN Loss 0.4182,  Err 0.0320\n",
      "\t230: TRAIN Loss 0.4176,  Err 0.0244\n",
      "\t240: TRAIN Loss 0.4175,  Err 0.0207\n",
      "\t250: TRAIN Loss 0.4315,  Err 0.0680\n",
      "\t260: TRAIN Loss 0.4173,  Err 0.0161\n",
      "\t270: TRAIN Loss 0.4179,  Err 0.0223\n",
      "\t280: TRAIN Loss 0.4169,  Err 0.0126\n",
      "\t290: TRAIN Loss 0.4188,  Err 0.0212\n",
      "\t300: TRAIN Loss 0.4174,  Err 0.0188\n",
      "\t310: TRAIN Loss 0.4175,  Err 0.0201\n",
      "\t320: TRAIN Loss 0.4222,  Err 0.0381\n",
      "\t330: TRAIN Loss 0.4174,  Err 0.0241\n",
      "\t340: TRAIN Loss 0.4185,  Err 0.0217\n",
      "\t350: TRAIN Loss 0.4182,  Err 0.0133\n",
      "\t360: TRAIN Loss 0.4224,  Err 0.1021\n",
      "\t370: TRAIN Loss 0.4207,  Err 0.0372\n",
      "\t380: TRAIN Loss 0.4226,  Err 0.0373\n",
      "\t390: TRAIN Loss 0.4178,  Err 0.0133\n",
      "\t400: TRAIN Loss 0.4171,  Err 0.0109\n",
      "\t410: TRAIN Loss 0.4178,  Err 0.0260\n",
      "\t420: TRAIN Loss 0.4197,  Err 0.0187\n",
      "\t430: TRAIN Loss 0.4169,  Err 0.0113\n",
      "\t440: TRAIN Loss 0.4169,  Err 0.0112\n",
      "\t450: TRAIN Loss 0.4169,  Err 0.0105\n",
      "\t460: TRAIN Loss 0.4188,  Err 0.0338\n",
      "\t470: TRAIN Loss 0.4169,  Err 0.0104\n",
      "\t480: TRAIN Loss 0.4182,  Err 0.0288\n",
      "\t490: TRAIN Loss 0.4224,  Err 0.0452\n",
      "\t500: TRAIN Loss 0.4172,  Err 0.0202\n",
      "\t510: TRAIN Loss 0.4170,  Err 0.0168\n",
      "\t520: TRAIN Loss 0.4187,  Err 0.0424\n",
      "\t530: TRAIN Loss 0.4189,  Err 0.0149\n",
      "\t540: TRAIN Loss 0.4167,  Err 0.0115\n",
      "\t550: TRAIN Loss 0.4166,  Err 0.0113\n",
      "\t560: TRAIN Loss 0.4191,  Err 0.0494\n",
      "\t570: TRAIN Loss 0.4170,  Err 0.0075\n",
      "\t580: TRAIN Loss 0.4239,  Err 0.0308\n",
      "\t590: TRAIN Loss 0.4166,  Err 0.0085\n",
      "\t600: TRAIN Loss 0.4169,  Err 0.0157\n",
      "\t610: TRAIN Loss 0.4167,  Err 0.0129\n",
      "\t620: TRAIN Loss 0.4167,  Err 0.0116\n",
      "\t630: TRAIN Loss 0.4167,  Err 0.0118\n",
      "\t640: TRAIN Loss 0.4167,  Err 0.0122\n",
      "\t650: TRAIN Loss 0.4166,  Err 0.0106\n",
      "\t660: TRAIN Loss 0.4167,  Err 0.0108\n",
      "\t670: TRAIN Loss 0.4167,  Err 0.0104\n",
      "\t680: TRAIN Loss 0.4166,  Err 0.0106\n",
      "\t690: TRAIN Loss 0.4249,  Err 0.0241\n",
      "\t700: TRAIN Loss 0.4166,  Err 0.0099\n",
      "\t710: TRAIN Loss 0.4200,  Err 0.0572\n",
      "\t720: TRAIN Loss 0.4168,  Err 0.0122\n",
      "\t730: TRAIN Loss 0.4167,  Err 0.0116\n",
      "\t740: TRAIN Loss 0.4167,  Err 0.0122\n",
      "\t750: TRAIN Loss 0.4167,  Err 0.0123\n",
      "\t760: TRAIN Loss 0.4166,  Err 0.0116\n",
      "\t770: TRAIN Loss 0.4214,  Err 0.0905\n",
      "\t780: TRAIN Loss 0.4178,  Err 0.0276\n",
      "\t790: TRAIN Loss 0.4170,  Err 0.0153\n",
      "\t800: TRAIN Loss 0.4167,  Err 0.0141\n",
      "\t810: TRAIN Loss 0.4167,  Err 0.0139\n",
      "\t820: TRAIN Loss 0.4213,  Err 0.0151\n",
      "\t830: TRAIN Loss 0.4166,  Err 0.0096\n",
      "\t840: TRAIN Loss 0.4167,  Err 0.0122\n",
      "\t850: TRAIN Loss 0.4206,  Err 0.0180\n",
      "\t860: TRAIN Loss 0.4185,  Err 0.0147\n",
      "\t870: TRAIN Loss 0.4175,  Err 0.0157\n",
      "\t880: TRAIN Loss 0.4171,  Err 0.0109\n",
      "\t890: TRAIN Loss 0.4169,  Err 0.0074\n",
      "\t900: TRAIN Loss 0.4166,  Err 0.0080\n",
      "\t910: TRAIN Loss 0.4170,  Err 0.0102\n",
      "\t920: TRAIN Loss 0.4167,  Err 0.0080\n",
      "\t930: TRAIN Loss 0.4168,  Err 0.0084\n",
      "\t940: TRAIN Loss 0.4165,  Err 0.0060\n",
      "\t950: TRAIN Loss 0.4168,  Err 0.0104\n",
      "\t960: TRAIN Loss 0.4167,  Err 0.0137\n",
      "\t970: TRAIN Loss 0.4168,  Err 0.0124\n",
      "\t980: TRAIN Loss 0.4165,  Err 0.0071\n",
      "\t990: TRAIN Loss 0.4167,  Err 0.0081\n"
     ]
    }
   ],
   "source": [
    "hist=model.fit(images,labels,epochs=1000,verbose=0,callbacks=[ReportCallback(10,False)])"
   ]
  },
  {
   "cell_type": "code",
   "execution_count": 50,
   "metadata": {
    "ExecuteTime": {
     "end_time": "2018-10-26T02:04:33.566237Z",
     "start_time": "2018-10-26T02:04:31.524312Z"
    }
   },
   "outputs": [],
   "source": [
    "Y_pred=model.predict(images_test)"
   ]
  },
  {
   "cell_type": "code",
   "execution_count": 51,
   "metadata": {
    "ExecuteTime": {
     "end_time": "2018-10-26T02:04:34.647288Z",
     "start_time": "2018-10-26T02:04:34.638311Z"
    }
   },
   "outputs": [
    {
     "data": {
      "text/plain": [
       "0.0081"
      ]
     },
     "execution_count": 51,
     "metadata": {},
     "output_type": "execute_result"
    }
   ],
   "source": [
    "\n",
    "count_error(Y_pred,labels_test)"
   ]
  },
  {
   "cell_type": "code",
   "execution_count": 53,
   "metadata": {
    "ExecuteTime": {
     "end_time": "2018-10-26T02:04:56.600436Z",
     "start_time": "2018-10-26T02:04:56.492725Z"
    }
   },
   "outputs": [
    {
     "name": "stdout",
     "output_type": "stream",
     "text": [
      "yellow rectangle 0 0.0\n",
      "yellow circle 3 3.0\n",
      "yellow triangle 2 2.0\n",
      "brown rectangle 1 1.0\n",
      "brown circle 1 1.0\n",
      "brown triangle 2 2.0\n",
      "cyan rectangle 1 1.0\n",
      "cyan circle 0 0.0\n",
      "cyan triangle 0 0.0\n"
     ]
    },
    {
     "data": {
      "text/plain": [
       "<matplotlib.image.AxesImage at 0x15393a72ba8>"
      ]
     },
     "execution_count": 53,
     "metadata": {},
     "output_type": "execute_result"
    },
    {
     "data": {
      "image/png": "[encoded data removed]",
      "text/plain": [
       "<Figure size 432x288 with 1 Axes>"
      ]
     },
     "metadata": {},
     "output_type": "display_data"
    }
   ],
   "source": [
    "idx=3104\n",
    "for i1,color in enumerate(colors):\n",
    "        for i2,shape in enumerate(shapes):\n",
    "            k=i1*len(shapes)+i2\n",
    "            print(color,shape,labels_test[idx,k],round(Y_pred[idx,k]))\n",
    "plt.imshow(images_test[idx])"
   ]
  },
  {
   "cell_type": "code",
   "execution_count": null,
   "metadata": {},
   "outputs": [],
   "source": []
  }
 ],
 "metadata": {
  "kernelspec": {
   "display_name": "Python 3",
   "language": "python",
   "name": "python3"
  },
  "language_info": {
   "codemirror_mode": {
    "name": "ipython",
    "version": 3
   },
   "file_extension": ".py",
   "mimetype": "text/x-python",
   "name": "python",
   "nbconvert_exporter": "python",
   "pygments_lexer": "ipython3",
   "version": "3.6.4"
  },
  "toc": {
   "base_numbering": 1,
   "nav_menu": {},
   "number_sections": true,
   "sideBar": true,
   "skip_h1_title": true,
   "title_cell": "Table of Contents",
   "title_sidebar": "Contents",
   "toc_cell": false,
   "toc_position": {},
   "toc_section_display": "block",
   "toc_window_display": true
  }
 },
 "nbformat": 4,
 "nbformat_minor": 1
}
