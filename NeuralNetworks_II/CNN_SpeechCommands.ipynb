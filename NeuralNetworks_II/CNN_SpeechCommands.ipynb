{
 "cells": [
  {
   "cell_type": "markdown",
   "metadata": {},
   "source": [
    "# Convolutional Neural Network for Speech Command Recognition"
   ]
  },
  {
   "cell_type": "markdown",
   "metadata": {},
   "source": [
    "## Preliminaries"
   ]
  },
  {
   "cell_type": "markdown",
   "metadata": {},
   "source": [
    "### Imports"
   ]
  },
  {
   "cell_type": "code",
   "execution_count": 24,
   "metadata": {
    "ExecuteTime": {
     "end_time": "2018-11-15T02:29:52.283508Z",
     "start_time": "2018-11-15T02:29:52.252374Z"
    }
   },
   "outputs": [
    {
     "name": "stdout",
     "output_type": "stream",
     "text": [
      "1.11.0\n"
     ]
    }
   ],
   "source": [
    "import os\n",
    "import pickle \n",
    "\n",
    "import numpy as np\n",
    "import pandas as pd\n",
    "import matplotlib.pyplot as plt\n",
    "\n",
    "from sklearn.model_selection import train_test_split\n",
    "from sklearn import metrics\n",
    "from sklearn.linear_model import LogisticRegression\n",
    "from sklearn.preprocessing import LabelEncoder\n",
    "import tensorflow as tf\n",
    "from tensorflow import keras\n",
    "import tensorflow.keras.backend as K\n",
    "print(tf.__version__)\n",
    "\n",
    "\n",
    "\n",
    "%matplotlib inline\n",
    "\n",
    "import sys\n",
    "sys.path.append(\"../..\")\n",
    "from E4525_ML.TFClassifier import TFClassifier\n",
    "from E4525_ML.multiclass_logistic import LogisticGDClassifier\n",
    "\n",
    "from E4525_ML import plots"
   ]
  },
  {
   "cell_type": "code",
   "execution_count": 2,
   "metadata": {
    "ExecuteTime": {
     "end_time": "2018-11-14T22:54:35.580901Z",
     "start_time": "2018-11-14T22:54:33.595757Z"
    }
   },
   "outputs": [],
   "source": [
    "#\n",
    "from tensorflow.keras.backend import set_session\n",
    "\n",
    "config = tf.ConfigProto()\n",
    "config.gpu_options.allow_growth = True  # dynamically grow the memory used on the GPU\n",
    "config.log_device_placement = True  # to log device placement (on which device the operation ran)\n",
    "                                    # (nothing gets printed in Jupyter, only if you run it standalone)\n",
    "\n",
    "sess = tf.Session(config=config)\n",
    "\n",
    "set_session(sess)  # set this TensorFlow session as the default session for Keras"
   ]
  },
  {
   "cell_type": "code",
   "execution_count": 3,
   "metadata": {
    "ExecuteTime": {
     "end_time": "2018-11-14T22:54:35.587791Z",
     "start_time": "2018-11-14T22:54:35.580901Z"
    }
   },
   "outputs": [],
   "source": [
    "seed=456\n",
    "np.random.seed(seed)"
   ]
  },
  {
   "cell_type": "markdown",
   "metadata": {},
   "source": [
    "### Data"
   ]
  },
  {
   "cell_type": "code",
   "execution_count": 5,
   "metadata": {
    "ExecuteTime": {
     "end_time": "2018-11-14T22:55:23.284387Z",
     "start_time": "2018-11-14T22:55:23.253119Z"
    }
   },
   "outputs": [],
   "source": [
    "raw_data_dir=\"../..raw/speech_commands\""
   ]
  },
  {
   "cell_type": "code",
   "execution_count": 6,
   "metadata": {
    "ExecuteTime": {
     "end_time": "2018-11-14T22:55:23.851280Z",
     "start_time": "2018-11-14T22:55:23.835756Z"
    }
   },
   "outputs": [],
   "source": [
    "data_dir=r\"../../data/speech_commands\""
   ]
  },
  {
   "cell_type": "code",
   "execution_count": 7,
   "metadata": {
    "ExecuteTime": {
     "end_time": "2018-11-14T22:55:24.994883Z",
     "start_time": "2018-11-14T22:55:24.541836Z"
    }
   },
   "outputs": [],
   "source": [
    "file=open(data_dir+\"/mfcc.p\",\"rb\")\n",
    "features_all,labels_all=pickle.load(file)"
   ]
  },
  {
   "cell_type": "code",
   "execution_count": 8,
   "metadata": {
    "ExecuteTime": {
     "end_time": "2018-11-14T22:55:27.333712Z",
     "start_time": "2018-11-14T22:55:27.148129Z"
    }
   },
   "outputs": [
    {
     "name": "stdout",
     "output_type": "stream",
     "text": [
      "(58248, 20, 44) 6473\n"
     ]
    }
   ],
   "source": [
    "features,features_test,labels,labels_test=train_test_split(features_all,labels_all,test_size=0.1)\n",
    "print(features.shape,len(features_test))"
   ]
  },
  {
   "cell_type": "code",
   "execution_count": 9,
   "metadata": {
    "ExecuteTime": {
     "end_time": "2018-11-14T22:55:28.282026Z",
     "start_time": "2018-11-14T22:55:28.072092Z"
    }
   },
   "outputs": [
    {
     "name": "stdout",
     "output_type": "stream",
     "text": [
      "(52423, 20, 44) 5825\n"
     ]
    }
   ],
   "source": [
    "features_train,features_val,labels_train,labels_val=train_test_split(features,labels,test_size=0.1)\n",
    "print(features_train.shape,len(features_val))"
   ]
  },
  {
   "cell_type": "code",
   "execution_count": 25,
   "metadata": {
    "ExecuteTime": {
     "end_time": "2018-11-15T02:30:06.535213Z",
     "start_time": "2018-11-15T02:30:06.503954Z"
    }
   },
   "outputs": [
    {
     "name": "stdout",
     "output_type": "stream",
     "text": [
      "['bed' 'bird' 'cat' 'dog' 'down' 'eight' 'five' 'four' 'go' 'happy'\n",
      " 'house' 'left' 'marvin' 'nine' 'no' 'off' 'on' 'one' 'right' 'seven'\n",
      " 'sheila' 'six' 'stop' 'three' 'tree' 'two' 'up' 'wow' 'yes' 'zero']\n",
      "30\n"
     ]
    }
   ],
   "source": [
    "classes=np.unique(labels_train)\n",
    "nK=len(classes)\n",
    "print(classes)\n",
    "print(nK)"
   ]
  },
  {
   "cell_type": "markdown",
   "metadata": {},
   "source": [
    "## Logistic Classifier"
   ]
  },
  {
   "cell_type": "code",
   "execution_count": 11,
   "metadata": {
    "ExecuteTime": {
     "end_time": "2018-11-14T23:49:45.621034Z",
     "start_time": "2018-11-14T22:55:31.061779Z"
    }
   },
   "outputs": [
    {
     "name": "stderr",
     "output_type": "stream",
     "text": [
      "C:\\ProgramData\\Anaconda3\\lib\\site-packages\\sklearn\\utils\\optimize.py:203: ConvergenceWarning: newton-cg failed to converge. Increase the number of iterations.\n",
      "  \"number of iterations.\", ConvergenceWarning)\n"
     ]
    },
    {
     "data": {
      "text/plain": [
       "LogisticRegression(C=1e+30, class_weight=None, dual=False, fit_intercept=True,\n",
       "          intercept_scaling=1, max_iter=100, multi_class='multinomial',\n",
       "          n_jobs=1, penalty='l2', random_state=None, solver='newton-cg',\n",
       "          tol=0.0001, verbose=0, warm_start=False)"
      ]
     },
     "execution_count": 11,
     "metadata": {},
     "output_type": "execute_result"
    }
   ],
   "source": [
    "sk_model=LogisticRegression(C=1e30,solver=\"newton-cg\",multi_class=\"multinomial\")\n",
    "sk_model.fit(features_train.reshape(len(features_train),-1),labels_train)"
   ]
  },
  {
   "cell_type": "code",
   "execution_count": 12,
   "metadata": {
    "ExecuteTime": {
     "end_time": "2018-11-14T23:49:45.837348Z",
     "start_time": "2018-11-14T23:49:45.621034Z"
    }
   },
   "outputs": [
    {
     "data": {
      "text/plain": [
       "0.5509032294985026"
      ]
     },
     "execution_count": 12,
     "metadata": {},
     "output_type": "execute_result"
    }
   ],
   "source": [
    "Y_pred=sk_model.predict(features_train.reshape(len(features_train),-1))\n",
    "np.mean(Y_pred==labels_train)"
   ]
  },
  {
   "cell_type": "code",
   "execution_count": 13,
   "metadata": {
    "ExecuteTime": {
     "end_time": "2018-11-14T23:49:45.884766Z",
     "start_time": "2018-11-14T23:49:45.837348Z"
    }
   },
   "outputs": [
    {
     "data": {
      "text/plain": [
       "0.4061802575107296"
      ]
     },
     "execution_count": 13,
     "metadata": {},
     "output_type": "execute_result"
    }
   ],
   "source": [
    "Y_pred=sk_model.predict(features_val.reshape(len(features_val),-1))\n",
    "np.mean(Y_pred==labels_val)"
   ]
  },
  {
   "cell_type": "markdown",
   "metadata": {
    "ExecuteTime": {
     "end_time": "2017-12-29T09:41:15.129928Z",
     "start_time": "2017-12-29T09:41:15.114296Z"
    }
   },
   "source": [
    "##  Neural Network Model"
   ]
  },
  {
   "cell_type": "code",
   "execution_count": 61,
   "metadata": {
    "ExecuteTime": {
     "end_time": "2018-11-15T02:52:00.198135Z",
     "start_time": "2018-11-15T02:52:00.182511Z"
    }
   },
   "outputs": [],
   "source": [
    "class ReportCallback(keras.callbacks.Callback):\n",
    "    def __init__(self,frequency,use_val=False):\n",
    "        self.freq=frequency\n",
    "        self.use_val=use_val\n",
    "        self.separator=\" || \"\n",
    "        if not(self.use_val):\n",
    "            self.separator=\"\\n\"\n",
    "    def on_epoch_end(self, epoch, logs={}):\n",
    "        if (epoch % self.freq ==0):\n",
    "            #print(logs.keys())\n",
    "            train_loss=logs[\"loss\"]\n",
    "            train_acc=logs[\"acc\"]\n",
    "            print(f\"\\t{epoch}: TRAIN Loss {train_loss:.4f},  Accuracy {train_acc:.4f}\",end=self.separator)\n",
    "            if self.use_val:\n",
    "                val_loss=logs[\"val_loss\"]\n",
    "                val_acc=logs[\"val_acc\"]\n",
    "                print(f\"VAL Loss {val_loss:.4f}, Accuracy {val_acc:.4f}\")"
   ]
  },
  {
   "cell_type": "code",
   "execution_count": 141,
   "metadata": {
    "ExecuteTime": {
     "end_time": "2018-11-18T02:25:53.035142Z",
     "start_time": "2018-11-18T02:25:52.988293Z"
    }
   },
   "outputs": [],
   "source": [
    "encoder=LabelEncoder()\n",
    "Y_train=encoder.fit_transform(labels_train)\n",
    "Y_val=encoder.transform(labels_val)\n",
    "Y_test=encoder.transform(labels_test)\n",
    "Y=encoder.transform(labels)"
   ]
  },
  {
   "cell_type": "code",
   "execution_count": 169,
   "metadata": {
    "ExecuteTime": {
     "end_time": "2018-11-18T13:35:45.127173Z",
     "start_time": "2018-11-18T13:35:44.908515Z"
    }
   },
   "outputs": [],
   "source": [
    "model = keras.Sequential([\n",
    "    keras.layers.Reshape( (20, 44, 1),input_shape=(20,44)),\n",
    "   \n",
    "    keras.layers.Conv2D(32, (1, 2), activation='relu',padding=\"same\"),\n",
    "    keras.layers.Dropout(0.),  \n",
    "    keras.layers.MaxPooling2D(pool_size=(1, 2)),\n",
    "    \n",
    "    \n",
    "    \n",
    "    keras.layers.Conv2D(64, (2, 2), activation='relu',padding=\"same\"),\n",
    "    keras.layers.Dropout(0.), \n",
    "    keras.layers.MaxPooling2D(pool_size=(2, 2)),\n",
    "    \n",
    "    keras.layers.Conv2D(64, (1, 2), activation='relu',padding=\"same\"),\n",
    "    keras.layers.Dropout(0.),\n",
    "    keras.layers.MaxPooling2D(pool_size=(1, 2)),\n",
    "    \n",
    "    \n",
    "    keras.layers.Conv2D(128, (1, 2), activation='relu',padding=\"same\"),  \n",
    "    keras.layers.Dropout(0.),  \n",
    "    keras.layers.MaxPooling2D(pool_size=(2, 2)),\n",
    "    \n",
    "    keras.layers.Conv2D(128, (2, 2), activation='relu',padding=\"same\"),\n",
    "    keras.layers.Dropout(0.5),  \n",
    "    #keras.layers.MaxPooling2D(pool_size=(2, 2)),\n",
    "   \n",
    "   \n",
    "    # Dense Layers\n",
    "    keras.layers.Flatten(),\n",
    "    keras.layers.Dense(512, activation=K.relu),\n",
    "    keras.layers.Dropout(0.25),\n",
    "    keras.layers.Dense(256, activation=K.relu),\n",
    "    keras.layers.Dropout(0.25),\n",
    "    keras.layers.Dense(nK, activation=K.softmax)\n",
    "])"
   ]
  },
  {
   "cell_type": "code",
   "execution_count": 170,
   "metadata": {
    "ExecuteTime": {
     "end_time": "2018-11-18T13:35:45.668862Z",
     "start_time": "2018-11-18T13:35:45.575071Z"
    }
   },
   "outputs": [],
   "source": [
    "model.compile(optimizer=keras.optimizers.Adam(lr=0.0001,decay=1e-6),#tf.train.AdamOptimizer(), \n",
    "              loss='sparse_categorical_crossentropy',\n",
    "              metrics=['accuracy'])"
   ]
  },
  {
   "cell_type": "code",
   "execution_count": 171,
   "metadata": {
    "ExecuteTime": {
     "end_time": "2018-11-18T13:35:46.289194Z",
     "start_time": "2018-11-18T13:35:46.258042Z"
    }
   },
   "outputs": [
    {
     "name": "stdout",
     "output_type": "stream",
     "text": [
      "_________________________________________________________________\n",
      "Layer (type)                 Output Shape              Param #   \n",
      "=================================================================\n",
      "reshape_30 (Reshape)         (None, 20, 44, 1)         0         \n",
      "_________________________________________________________________\n",
      "conv2d_64 (Conv2D)           (None, 20, 44, 32)        96        \n",
      "_________________________________________________________________\n",
      "dropout_73 (Dropout)         (None, 20, 44, 32)        0         \n",
      "_________________________________________________________________\n",
      "max_pooling2d_62 (MaxPooling (None, 20, 22, 32)        0         \n",
      "_________________________________________________________________\n",
      "conv2d_65 (Conv2D)           (None, 20, 22, 64)        8256      \n",
      "_________________________________________________________________\n",
      "dropout_74 (Dropout)         (None, 20, 22, 64)        0         \n",
      "_________________________________________________________________\n",
      "max_pooling2d_63 (MaxPooling (None, 10, 11, 64)        0         \n",
      "_________________________________________________________________\n",
      "conv2d_66 (Conv2D)           (None, 10, 11, 64)        8256      \n",
      "_________________________________________________________________\n",
      "dropout_75 (Dropout)         (None, 10, 11, 64)        0         \n",
      "_________________________________________________________________\n",
      "max_pooling2d_64 (MaxPooling (None, 10, 5, 64)         0         \n",
      "_________________________________________________________________\n",
      "conv2d_67 (Conv2D)           (None, 10, 5, 128)        16512     \n",
      "_________________________________________________________________\n",
      "dropout_76 (Dropout)         (None, 10, 5, 128)        0         \n",
      "_________________________________________________________________\n",
      "max_pooling2d_65 (MaxPooling (None, 5, 2, 128)         0         \n",
      "_________________________________________________________________\n",
      "conv2d_68 (Conv2D)           (None, 5, 2, 128)         65664     \n",
      "_________________________________________________________________\n",
      "dropout_77 (Dropout)         (None, 5, 2, 128)         0         \n",
      "_________________________________________________________________\n",
      "flatten_30 (Flatten)         (None, 1280)              0         \n",
      "_________________________________________________________________\n",
      "dense_58 (Dense)             (None, 512)               655872    \n",
      "_________________________________________________________________\n",
      "dropout_78 (Dropout)         (None, 512)               0         \n",
      "_________________________________________________________________\n",
      "dense_59 (Dense)             (None, 256)               131328    \n",
      "_________________________________________________________________\n",
      "dropout_79 (Dropout)         (None, 256)               0         \n",
      "_________________________________________________________________\n",
      "dense_60 (Dense)             (None, 30)                7710      \n",
      "=================================================================\n",
      "Total params: 893,694\n",
      "Trainable params: 893,694\n",
      "Non-trainable params: 0\n",
      "_________________________________________________________________\n"
     ]
    }
   ],
   "source": [
    "model.summary()"
   ]
  },
  {
   "cell_type": "code",
   "execution_count": 172,
   "metadata": {
    "ExecuteTime": {
     "end_time": "2018-11-18T14:35:15.699429Z",
     "start_time": "2018-11-18T13:36:01.234929Z"
    }
   },
   "outputs": [
    {
     "name": "stdout",
     "output_type": "stream",
     "text": [
      "\t0: TRAIN Loss 3.4606,  Accuracy 0.0743 || VAL Loss 2.8999, Accuracy 0.2180\n",
      "\t10: TRAIN Loss 0.9936,  Accuracy 0.6974 || VAL Loss 0.7076, Accuracy 0.7902\n",
      "\t20: TRAIN Loss 0.6624,  Accuracy 0.7969 || VAL Loss 0.5034, Accuracy 0.8503\n",
      "\t30: TRAIN Loss 0.5139,  Accuracy 0.8390 || VAL Loss 0.4215, Accuracy 0.8731\n",
      "\t40: TRAIN Loss 0.4158,  Accuracy 0.8679 || VAL Loss 0.3884, Accuracy 0.8829\n",
      "\t50: TRAIN Loss 0.3571,  Accuracy 0.8861 || VAL Loss 0.3655, Accuracy 0.8889\n",
      "\t60: TRAIN Loss 0.3056,  Accuracy 0.9027 || VAL Loss 0.3544, Accuracy 0.8939\n",
      "\t70: TRAIN Loss 0.2694,  Accuracy 0.9131 || VAL Loss 0.3357, Accuracy 0.9003\n",
      "\t80: TRAIN Loss 0.2387,  Accuracy 0.9220 || VAL Loss 0.3342, Accuracy 0.9025\n",
      "\t90: TRAIN Loss 0.2114,  Accuracy 0.9302 || VAL Loss 0.3391, Accuracy 0.9011\n",
      "\t100: TRAIN Loss 0.1965,  Accuracy 0.9371 || VAL Loss 0.3514, Accuracy 0.8989\n",
      "\t110: TRAIN Loss 0.1766,  Accuracy 0.9416 || VAL Loss 0.3391, Accuracy 0.9052\n",
      "\t120: TRAIN Loss 0.1609,  Accuracy 0.9470 || VAL Loss 0.3357, Accuracy 0.9059\n",
      "\t130: TRAIN Loss 0.1476,  Accuracy 0.9512 || VAL Loss 0.3406, Accuracy 0.9087\n",
      "\t140: TRAIN Loss 0.1376,  Accuracy 0.9559 || VAL Loss 0.3391, Accuracy 0.9097\n",
      "\t150: TRAIN Loss 0.1274,  Accuracy 0.9578 || VAL Loss 0.3476, Accuracy 0.9071\n",
      "\t160: TRAIN Loss 0.1180,  Accuracy 0.9615 || VAL Loss 0.3525, Accuracy 0.9064\n",
      "\t170: TRAIN Loss 0.1109,  Accuracy 0.9639 || VAL Loss 0.3528, Accuracy 0.9109\n",
      "\t180: TRAIN Loss 0.1083,  Accuracy 0.9648 || VAL Loss 0.3557, Accuracy 0.9083\n",
      "\t190: TRAIN Loss 0.1026,  Accuracy 0.9661 || VAL Loss 0.3495, Accuracy 0.9112\n",
      "\t200: TRAIN Loss 0.0965,  Accuracy 0.9686 || VAL Loss 0.3550, Accuracy 0.9061\n",
      "\t210: TRAIN Loss 0.0915,  Accuracy 0.9701 || VAL Loss 0.3636, Accuracy 0.9088\n",
      "\t220: TRAIN Loss 0.0887,  Accuracy 0.9709 || VAL Loss 0.3688, Accuracy 0.9094\n",
      "\t230: TRAIN Loss 0.0862,  Accuracy 0.9724 || VAL Loss 0.3638, Accuracy 0.9099\n",
      "\t240: TRAIN Loss 0.0854,  Accuracy 0.9724 || VAL Loss 0.3640, Accuracy 0.9111\n",
      "\t250: TRAIN Loss 0.0724,  Accuracy 0.9761 || VAL Loss 0.3687, Accuracy 0.9104\n",
      "\t260: TRAIN Loss 0.0776,  Accuracy 0.9748 || VAL Loss 0.3749, Accuracy 0.9123\n",
      "\t270: TRAIN Loss 0.0743,  Accuracy 0.9769 || VAL Loss 0.3828, Accuracy 0.9121\n",
      "\t280: TRAIN Loss 0.0720,  Accuracy 0.9773 || VAL Loss 0.3747, Accuracy 0.9130\n",
      "\t290: TRAIN Loss 0.0685,  Accuracy 0.9781 || VAL Loss 0.3942, Accuracy 0.9090\n",
      "\t300: TRAIN Loss 0.0642,  Accuracy 0.9797 || VAL Loss 0.3882, Accuracy 0.9107\n",
      "\t310: TRAIN Loss 0.0638,  Accuracy 0.9790 || VAL Loss 0.3685, Accuracy 0.9135\n",
      "\t320: TRAIN Loss 0.0626,  Accuracy 0.9802 || VAL Loss 0.3865, Accuracy 0.9118\n",
      "\t330: TRAIN Loss 0.0605,  Accuracy 0.9807 || VAL Loss 0.4028, Accuracy 0.9095\n",
      "\t340: TRAIN Loss 0.0585,  Accuracy 0.9812 || VAL Loss 0.3847, Accuracy 0.9147\n",
      "\t350: TRAIN Loss 0.0613,  Accuracy 0.9795 || VAL Loss 0.3822, Accuracy 0.9130\n",
      "\t360: TRAIN Loss 0.0575,  Accuracy 0.9814 || VAL Loss 0.3899, Accuracy 0.9157\n",
      "\t370: TRAIN Loss 0.0567,  Accuracy 0.9820 || VAL Loss 0.3957, Accuracy 0.9119\n",
      "\t380: TRAIN Loss 0.0507,  Accuracy 0.9841 || VAL Loss 0.4070, Accuracy 0.9118\n",
      "\t390: TRAIN Loss 0.0523,  Accuracy 0.9829 || VAL Loss 0.3937, Accuracy 0.9131\n",
      "\t400: TRAIN Loss 0.0528,  Accuracy 0.9827 || VAL Loss 0.4071, Accuracy 0.9128\n",
      "\t410: TRAIN Loss 0.0485,  Accuracy 0.9846 || VAL Loss 0.4009, Accuracy 0.9145\n",
      "\t420: TRAIN Loss 0.0514,  Accuracy 0.9835 || VAL Loss 0.3897, Accuracy 0.9161\n",
      "\t430: TRAIN Loss 0.0486,  Accuracy 0.9843 || VAL Loss 0.3987, Accuracy 0.9143\n",
      "\t440: TRAIN Loss 0.0463,  Accuracy 0.9856 || VAL Loss 0.3987, Accuracy 0.9154\n",
      "\t450: TRAIN Loss 0.0485,  Accuracy 0.9844 || VAL Loss 0.3894, Accuracy 0.9128\n",
      "\t460: TRAIN Loss 0.0478,  Accuracy 0.9853 || VAL Loss 0.3924, Accuracy 0.9159\n",
      "\t470: TRAIN Loss 0.0477,  Accuracy 0.9849 || VAL Loss 0.3931, Accuracy 0.9128\n",
      "\t480: TRAIN Loss 0.0422,  Accuracy 0.9865 || VAL Loss 0.4217, Accuracy 0.9133\n",
      "\t490: TRAIN Loss 0.0447,  Accuracy 0.9857 || VAL Loss 0.3894, Accuracy 0.9161\n"
     ]
    },
    {
     "data": {
      "text/plain": [
       "<tensorflow.python.keras.callbacks.History at 0x1f78e409320>"
      ]
     },
     "execution_count": 172,
     "metadata": {},
     "output_type": "execute_result"
    }
   ],
   "source": [
    "model.fit(features_train, Y_train, epochs=500,batch_size=100,validation_data=(features_val,Y_val),\n",
    "          verbose=0,callbacks=[ReportCallback(10,True)])"
   ]
  },
  {
   "cell_type": "markdown",
   "metadata": {},
   "source": [
    "### Test Model"
   ]
  },
  {
   "cell_type": "code",
   "execution_count": 173,
   "metadata": {
    "ExecuteTime": {
     "end_time": "2018-11-18T15:41:17.548777Z",
     "start_time": "2018-11-18T14:35:15.700396Z"
    },
    "scrolled": false
   },
   "outputs": [
    {
     "name": "stdout",
     "output_type": "stream",
     "text": [
      "\t0: TRAIN Loss 0.1131,  Accuracy 0.9728 || VAL Loss 0.3788, Accuracy 0.9099\n",
      "\t10: TRAIN Loss 0.0770,  Accuracy 0.9773 || VAL Loss 0.3625, Accuracy 0.9123\n",
      "\t20: TRAIN Loss 0.0637,  Accuracy 0.9802 || VAL Loss 0.3759, Accuracy 0.9160\n",
      "\t30: TRAIN Loss 0.0587,  Accuracy 0.9808 || VAL Loss 0.3711, Accuracy 0.9164\n",
      "\t40: TRAIN Loss 0.0565,  Accuracy 0.9819 || VAL Loss 0.3801, Accuracy 0.9150\n",
      "\t50: TRAIN Loss 0.0561,  Accuracy 0.9821 || VAL Loss 0.3843, Accuracy 0.9160\n",
      "\t60: TRAIN Loss 0.0522,  Accuracy 0.9833 || VAL Loss 0.3875, Accuracy 0.9192\n",
      "\t70: TRAIN Loss 0.0511,  Accuracy 0.9836 || VAL Loss 0.3866, Accuracy 0.9144\n",
      "\t80: TRAIN Loss 0.0507,  Accuracy 0.9844 || VAL Loss 0.4024, Accuracy 0.9150\n",
      "\t90: TRAIN Loss 0.0476,  Accuracy 0.9845 || VAL Loss 0.3975, Accuracy 0.9152\n",
      "\t100: TRAIN Loss 0.0461,  Accuracy 0.9851 || VAL Loss 0.3969, Accuracy 0.9140\n",
      "\t110: TRAIN Loss 0.0468,  Accuracy 0.9850 || VAL Loss 0.4056, Accuracy 0.9143\n",
      "\t120: TRAIN Loss 0.0436,  Accuracy 0.9858 || VAL Loss 0.4066, Accuracy 0.9141\n",
      "\t130: TRAIN Loss 0.0431,  Accuracy 0.9865 || VAL Loss 0.3902, Accuracy 0.9155\n",
      "\t140: TRAIN Loss 0.0438,  Accuracy 0.9868 || VAL Loss 0.4210, Accuracy 0.9138\n",
      "\t150: TRAIN Loss 0.0427,  Accuracy 0.9855 || VAL Loss 0.3996, Accuracy 0.9184\n",
      "\t160: TRAIN Loss 0.0424,  Accuracy 0.9873 || VAL Loss 0.3968, Accuracy 0.9173\n",
      "\t170: TRAIN Loss 0.0425,  Accuracy 0.9859 || VAL Loss 0.4027, Accuracy 0.9164\n",
      "\t180: TRAIN Loss 0.0413,  Accuracy 0.9868 || VAL Loss 0.4092, Accuracy 0.9167\n",
      "\t190: TRAIN Loss 0.0419,  Accuracy 0.9870 || VAL Loss 0.4008, Accuracy 0.9146\n",
      "\t200: TRAIN Loss 0.0410,  Accuracy 0.9869 || VAL Loss 0.4045, Accuracy 0.9167\n",
      "\t210: TRAIN Loss 0.0402,  Accuracy 0.9872 || VAL Loss 0.4140, Accuracy 0.9146\n",
      "\t220: TRAIN Loss 0.0360,  Accuracy 0.9883 || VAL Loss 0.4176, Accuracy 0.9158\n",
      "\t230: TRAIN Loss 0.0359,  Accuracy 0.9883 || VAL Loss 0.4136, Accuracy 0.9133\n",
      "\t240: TRAIN Loss 0.0355,  Accuracy 0.9894 || VAL Loss 0.4108, Accuracy 0.9156\n",
      "\t250: TRAIN Loss 0.0353,  Accuracy 0.9887 || VAL Loss 0.4084, Accuracy 0.9158\n",
      "\t260: TRAIN Loss 0.0344,  Accuracy 0.9885 || VAL Loss 0.4161, Accuracy 0.9152\n",
      "\t270: TRAIN Loss 0.0350,  Accuracy 0.9889 || VAL Loss 0.4249, Accuracy 0.9153\n",
      "\t280: TRAIN Loss 0.0348,  Accuracy 0.9888 || VAL Loss 0.4232, Accuracy 0.9175\n",
      "\t290: TRAIN Loss 0.0352,  Accuracy 0.9885 || VAL Loss 0.4092, Accuracy 0.9161\n",
      "\t300: TRAIN Loss 0.0349,  Accuracy 0.9889 || VAL Loss 0.4060, Accuracy 0.9170\n",
      "\t310: TRAIN Loss 0.0340,  Accuracy 0.9896 || VAL Loss 0.4186, Accuracy 0.9163\n",
      "\t320: TRAIN Loss 0.0350,  Accuracy 0.9889 || VAL Loss 0.4083, Accuracy 0.9178\n",
      "\t330: TRAIN Loss 0.0332,  Accuracy 0.9895 || VAL Loss 0.4153, Accuracy 0.9153\n",
      "\t340: TRAIN Loss 0.0324,  Accuracy 0.9894 || VAL Loss 0.4120, Accuracy 0.9198\n",
      "\t350: TRAIN Loss 0.0294,  Accuracy 0.9907 || VAL Loss 0.4293, Accuracy 0.9173\n",
      "\t360: TRAIN Loss 0.0303,  Accuracy 0.9905 || VAL Loss 0.4293, Accuracy 0.9189\n",
      "\t370: TRAIN Loss 0.0298,  Accuracy 0.9906 || VAL Loss 0.4168, Accuracy 0.9160\n",
      "\t380: TRAIN Loss 0.0306,  Accuracy 0.9906 || VAL Loss 0.4249, Accuracy 0.9167\n",
      "\t390: TRAIN Loss 0.0328,  Accuracy 0.9895 || VAL Loss 0.4183, Accuracy 0.9164\n",
      "\t400: TRAIN Loss 0.0306,  Accuracy 0.9905 || VAL Loss 0.4148, Accuracy 0.9186\n",
      "\t410: TRAIN Loss 0.0308,  Accuracy 0.9903 || VAL Loss 0.4314, Accuracy 0.9155\n",
      "\t420: TRAIN Loss 0.0281,  Accuracy 0.9911 || VAL Loss 0.4219, Accuracy 0.9160\n",
      "\t430: TRAIN Loss 0.0299,  Accuracy 0.9907 || VAL Loss 0.4207, Accuracy 0.9164\n",
      "\t440: TRAIN Loss 0.0312,  Accuracy 0.9904 || VAL Loss 0.4178, Accuracy 0.9178\n",
      "\t450: TRAIN Loss 0.0312,  Accuracy 0.9904 || VAL Loss 0.4304, Accuracy 0.9190\n",
      "\t460: TRAIN Loss 0.0304,  Accuracy 0.9909 || VAL Loss 0.4128, Accuracy 0.9177\n",
      "\t470: TRAIN Loss 0.0284,  Accuracy 0.9910 || VAL Loss 0.4248, Accuracy 0.9178\n",
      "\t480: TRAIN Loss 0.0289,  Accuracy 0.9907 || VAL Loss 0.4225, Accuracy 0.9170\n",
      "\t490: TRAIN Loss 0.0296,  Accuracy 0.9906 || VAL Loss 0.4131, Accuracy 0.9183\n"
     ]
    },
    {
     "data": {
      "text/plain": [
       "<tensorflow.python.keras.callbacks.History at 0x1f791411cc0>"
      ]
     },
     "execution_count": 173,
     "metadata": {},
     "output_type": "execute_result"
    }
   ],
   "source": [
    "model.fit(features, Y, epochs=500,batch_size=100,validation_data=(features_test,Y_test),\n",
    "          verbose=0,callbacks=[ReportCallback(10,True)])"
   ]
  },
  {
   "cell_type": "code",
   "execution_count": 174,
   "metadata": {
    "ExecuteTime": {
     "end_time": "2018-11-18T15:41:17.555758Z",
     "start_time": "2018-11-18T15:41:17.550780Z"
    }
   },
   "outputs": [],
   "source": [
    "classes=np.unique(labels_test)"
   ]
  },
  {
   "cell_type": "code",
   "execution_count": 186,
   "metadata": {
    "ExecuteTime": {
     "end_time": "2018-11-18T16:11:14.509180Z",
     "start_time": "2018-11-18T16:11:13.942696Z"
    }
   },
   "outputs": [
    {
     "name": "stderr",
     "output_type": "stream",
     "text": [
      "C:\\ProgramData\\Anaconda3\\lib\\site-packages\\sklearn\\preprocessing\\label.py:151: DeprecationWarning: The truth value of an empty array is ambiguous. Returning False, but in future this will result in an error. Use `array.size > 0` to check that an array is not empty.\n",
      "  if diff:\n"
     ]
    },
    {
     "data": {
      "text/plain": [
       "array(['right', 'three', 'zero', ..., 'stop', 'yes', 'no'], dtype='<U6')"
      ]
     },
     "execution_count": 186,
     "metadata": {},
     "output_type": "execute_result"
    }
   ],
   "source": [
    "Y_pred=np.argmax(model.predict(features_test),axis=1)\n",
    "labels_pred=encoder.inverse_transform(Y_pred)\n",
    "labels_pred"
   ]
  },
  {
   "cell_type": "code",
   "execution_count": 187,
   "metadata": {
    "ExecuteTime": {
     "end_time": "2018-11-18T16:11:23.994804Z",
     "start_time": "2018-11-18T16:11:22.115898Z"
    }
   },
   "outputs": [
    {
     "name": "stdout",
     "output_type": "stream",
     "text": [
      "Confusion matrix, without normalization\n",
      "[[153   3   0   0   1   0   1   0   0   0   0   1   0   0   0   0   1   0\n",
      "    1   0   0   0   0   0   0   1   0   0   0   0]\n",
      " [  2 177   0   1   0   0   0   1   1   0   0   1   1   1   0   0   2   0\n",
      "    0   0   0   0   0   0   0   0   0   0   0   1]\n",
      " [  0   0 157   1   2   0   0   0   0   0   0   1   0   1   0   1   0   0\n",
      "    0   0   0   1   1   0   1   0   1   1   0   0]\n",
      " [  0   1   0 148   3   1   1   2   5   0   0   0   0   0   2   0   0   0\n",
      "    0   0   0   0   3   0   0   0   0   0   0   0]\n",
      " [  1   1   0   5 230   0   2   0  10   0   0   1   0   2   4   0   0   0\n",
      "    0   0   0   0   0   0   1   0   0   3   0   0]\n",
      " [  3   1   0   1   1 220   0   0   1   0   0   1   0   0   1   0   1   0\n",
      "    2   0   0   0   0   3   1   2   0   0   0   1]\n",
      " [  0   0   0   2   0   0 210   0   0   0   0   0   0   0   0   0   5   0\n",
      "    2   0   0   0   1   1   0   1   0   2   1   0]\n",
      " [  0   0   0   0   0   0   2 203   0   0   0   0   0   0   0   2   3   2\n",
      "    1   0   1   1   0   1   0   2   1   0   2   1]\n",
      " [  0   1   0   0   5   0   0   0 220   0   1   0   0   0  10   1   2   2\n",
      "    2   0   0   0   0   0   0   4   2   0   0   1]\n",
      " [  0   0   0   0   0   0   1   0   0 150   0   0   0   0   0   0   0   0\n",
      "    0   1   0   0   0   0   0   0   3   0   0   0]\n",
      " [  0   0   0   0   0   0   0   0   0   0 172   0   0   0   0   2   0   0\n",
      "    0   0   0   0   0   0   0   1   1   0   0   0]\n",
      " [  1   0   0   0   0   0   0   0   0   0   1 218   0   0   2   0   0   1\n",
      "    3   1   0   0   0   2   0   2   0   2   3   0]\n",
      " [  0   1   0   0   1   0   0   1   0   0   0   0 173   1   0   0   0   0\n",
      "    0   1   0   0   0   0   1   0   0   0   0   0]\n",
      " [  2   2   0   0   0   1   4   0   0   0   0   0   1 220   1   1   1   2\n",
      "    2   0   0   0   0   2   0   0   1   0   0   0]\n",
      " [  0   1   0   0   2   1   1   0  12   0   0   0   1   1 203   0   0   0\n",
      "    0   0   0   0   1   0   0   1   1   2   1   1]\n",
      " [  0   1   0   0   0   2   2   1   1   0   0   0   1   1   1 226   8   0\n",
      "    0   0   0   0   1   2   0   1   5   0   0   0]\n",
      " [  0   2   0   1   0   1   7   6   0   0   0   0   0   3   0   2 189   7\n",
      "    0   1   0   1   1   0   0   0   2   0   0   0]\n",
      " [  1   0   0   0   1   0   3   4   1   1   0   0   1   5   0   0   1 194\n",
      "    2   0   0   0   0   1   0   0   0   1   0   0]\n",
      " [  0   2   0   0   0   2   3   0   1   0   0   3   1   3   0   1   0   3\n",
      "  219   0   0   0   0   4   0   0   0   0   0   1]\n",
      " [  1   0   0   0   0   0   0   1   0   2   0   1   0   0   0   0   0   0\n",
      "    2 209   0   2   5   0   0   2   0   1   0   2]\n",
      " [  0   0   0   0   0   0   0   0   0   0   0   0   0   0   0   1   0   0\n",
      "    0   0 153   0   0   1   0   3   0   0   0   3]\n",
      " [  0   1   3   0   0   1   0   0   0   1   0   0   0   0   0   1   0   0\n",
      "    0   2   0 235   0   1   0   1   2   0   0   0]\n",
      " [  0   0   2   2   1   0   0   0   1   1   0   0   0   1   0   1   2   0\n",
      "    1   1   0   0 227   0   0   1   2   0   1   1]\n",
      " [  0   2   0   0   0   0   1   0   0   1   0   0   0   3   0   0   0   0\n",
      "    1   1   0   1   0 225  10   3   0   0   0   1]\n",
      " [  0   0   0   0   0   0   0   1   0   0   0   0   0   0   0   0   0   0\n",
      "    0   0   1   0   1  25 147   3   0   0   0   0]\n",
      " [  1   0   0   0   2   0   1   0   3   0   0   0   1   0   0   0   0   0\n",
      "    1   0   0   0   0   0   1 247   2   0   0   1]\n",
      " [  2   0   3   1   0   0   0   0   0   0   0   1   1   0   0   5   0   0\n",
      "    0   0   0   0   2   0   0   2 218   0   0   0]\n",
      " [  0   1   1   0   1   0   1   1   0   0   0   1   0   0   0   2   0   4\n",
      "    0   0   0   0   0   0   0   0   0 162   0   0]\n",
      " [  0   0   1   0   0   0   1   0   0   0   1   1   0   1   0   1   1   1\n",
      "    1   0   0   0   0   0   0   0   0   0 216   1]\n",
      " [  0   0   1   0   1   0   0   0   2   0   0   0   0   0   2   0   0   0\n",
      "    0   0   1   1   0   1   0   6   0   0   2 221]]\n"
     ]
    },
    {
     "data": {
      "image/png": "[encoded data removed]",
      "text/plain": [
       "<Figure size 720x720 with 2 Axes>"
      ]
     },
     "metadata": {},
     "output_type": "display_data"
    }
   ],
   "source": [
    "plt.figure(figsize=(10,10))\n",
    "cnf_matrix = metrics.confusion_matrix(labels_test, labels_pred)\n",
    "np.set_printoptions(precision=2)\n",
    "plots.plot_confusion_matrix(cnf_matrix,classes)"
   ]
  },
  {
   "cell_type": "markdown",
   "metadata": {
    "ExecuteTime": {
     "end_time": "2018-02-18T10:45:02.833172Z",
     "start_time": "2018-02-18T10:32:36.553Z"
    }
   },
   "source": [
    "## Other networds I tried"
   ]
  },
  {
   "cell_type": "code",
   "execution_count": null,
   "metadata": {
    "collapsed": true
   },
   "outputs": [],
   "source": [
    "network=CNN_SpeechCommands(\n",
    "   conv_layers=[\n",
    "            ([2,4],16,0.),       \n",
    "           ([2,4],32,0.4)\n",
    "        ],\n",
    "    dense_layers=[\n",
    "        (128,0.),\n",
    "        (128,0.4)\n",
    "        ]\n",
    "    ,K=K) # 88%"
   ]
  },
  {
   "cell_type": "code",
   "execution_count": null,
   "metadata": {
    "collapsed": true
   },
   "outputs": [],
   "source": [
    "network=CNN_SpeechCommands(\n",
    "   conv_layers=[\n",
    "            ([1,2],8,0.),   \n",
    "            ([2,2],16,0.),   \n",
    "            ([1,2],32,0.),   \n",
    "           ([2,2],64,0.4)\n",
    "        ],\n",
    "    dense_layers=[\n",
    "        (128,0.),\n",
    "        (128,0.4)\n",
    "        ]\n",
    "    ,K=K) # 88.4%"
   ]
  },
  {
   "cell_type": "code",
   "execution_count": null,
   "metadata": {
    "collapsed": true
   },
   "outputs": [],
   "source": [
    "network=CNN_SpeechCommands(\n",
    "   conv_layers=[\n",
    "            ([1,2],16,0.),   \n",
    "            ([2,2],32,0.),   \n",
    "            ([1,2],64,0.),   \n",
    "           ([2,2],128,0.0),\n",
    "           ([2,1],128,0.5)\n",
    "        ],\n",
    "    dense_layers=[\n",
    "        (256,0.),\n",
    "        (256,0.5)\n",
    "        ]\n",
    "    ,K=K) # 91%, 200,000 steps"
   ]
  }
 ],
 "metadata": {
  "kernelspec": {
   "display_name": "Python 3",
   "language": "python",
   "name": "python3"
  },
  "language_info": {
   "codemirror_mode": {
    "name": "ipython",
    "version": 3
   },
   "file_extension": ".py",
   "mimetype": "text/x-python",
   "name": "python",
   "nbconvert_exporter": "python",
   "pygments_lexer": "ipython3",
   "version": "3.6.4"
  },
  "toc": {
   "base_numbering": 1,
   "nav_menu": {},
   "number_sections": true,
   "sideBar": true,
   "skip_h1_title": true,
   "title_cell": "Table of Contents",
   "title_sidebar": "Contents",
   "toc_cell": false,
   "toc_position": {},
   "toc_section_display": "block",
   "toc_window_display": true
  }
 },
 "nbformat": 4,
 "nbformat_minor": 2
}
