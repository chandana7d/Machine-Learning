{
 "cells": [
  {
   "cell_type": "markdown",
   "metadata": {},
   "source": [
    "#  Counting Rotated Shapes\n",
    "\n",
    "\n",
    "An example of a multi-layer Convolutional Neural network with a **poisson** loss in a **counting** problem.\n",
    "\n",
    "For images that can be rotated a single convolution layer is not enough, and we need a model with at least two layers.\n"
   ]
  },
  {
   "cell_type": "markdown",
   "metadata": {},
   "source": [
    "## Preliminaries"
   ]
  },
  {
   "cell_type": "markdown",
   "metadata": {},
   "source": [
    "### Imports"
   ]
  },
  {
   "cell_type": "code",
   "execution_count": 1,
   "metadata": {
    "ExecuteTime": {
     "end_time": "2018-10-24T23:27:00.564785Z",
     "start_time": "2018-10-24T23:26:58.317450Z"
    }
   },
   "outputs": [
    {
     "name": "stderr",
     "output_type": "stream",
     "text": [
      "C:\\ProgramData\\Anaconda3\\lib\\site-packages\\h5py\\__init__.py:36: FutureWarning: Conversion of the second argument of issubdtype from `float` to `np.floating` is deprecated. In future, it will be treated as `np.float64 == np.dtype(float).type`.\n",
      "  from ._conv import register_converters as _register_converters\n"
     ]
    }
   ],
   "source": [
    "import pickle\n",
    "\n",
    "import numpy as np\n",
    "import tensorflow as tf\n",
    "from tensorflow import keras\n",
    "import tensorflow.keras.backend as K\n",
    "\n",
    "import matplotlib.pyplot as plt\n",
    "\n",
    "from sklearn.model_selection import train_test_split\n",
    "\n",
    "%matplotlib inline\n",
    "\n",
    "import sys\n"
   ]
  },
  {
   "cell_type": "code",
   "execution_count": 2,
   "metadata": {
    "ExecuteTime": {
     "end_time": "2018-10-24T23:27:01.709232Z",
     "start_time": "2018-10-24T23:27:00.567771Z"
    }
   },
   "outputs": [],
   "source": [
    "#\n",
    "from tensorflow.keras.backend import set_session\n",
    "\n",
    "config = tf.ConfigProto()\n",
    "config.gpu_options.allow_growth = True  # dynamically grow the memory used on the GPU\n",
    "config.log_device_placement = True  # to log device placement (on which device the operation ran)\n",
    "                                    # (nothing gets printed in Jupyter, only if you run it standalone)\n",
    "\n",
    "sess = tf.Session(config=config)\n",
    "\n",
    "set_session(sess)  # set this TensorFlow session as the default session for Keras"
   ]
  },
  {
   "cell_type": "markdown",
   "metadata": {
    "ExecuteTime": {
     "end_time": "2018-11-03T12:21:51.357503Z",
     "start_time": "2018-11-03T12:21:51.346489Z"
    }
   },
   "source": [
    "### Read Data"
   ]
  },
  {
   "cell_type": "code",
   "execution_count": 3,
   "metadata": {
    "ExecuteTime": {
     "end_time": "2018-10-24T23:27:01.714213Z",
     "start_time": "2018-10-24T23:27:01.710217Z"
    }
   },
   "outputs": [],
   "source": [
    "data_dir=\"../../data/shapes\"\n",
    "model_dir=\"../../data/models/tf/Rotated_Color_Shapes\""
   ]
  },
  {
   "cell_type": "code",
   "execution_count": 4,
   "metadata": {
    "ExecuteTime": {
     "end_time": "2018-10-24T23:27:07.331213Z",
     "start_time": "2018-10-24T23:27:01.715203Z"
    }
   },
   "outputs": [
    {
     "name": "stdout",
     "output_type": "stream",
     "text": [
      "(10000, 100, 100, 3) (10000,) (10000, 100, 100, 3) (10000,)\n"
     ]
    }
   ],
   "source": [
    "filename=data_dir+\"/rotated_color_shapes.p\"\n",
    "file=open(filename,\"rb\")\n",
    "images,data= pickle.load(file)\n",
    "\n",
    "\n",
    "filename_test=data_dir+\"/rotated_color_shapes_test.p\"\n",
    "file_test=open(filename_test,\"rb\")\n",
    "images_test,data_test= pickle.load(file_test)  \n",
    "\n",
    "print(images.shape,data.shape,images_test.shape,data_test.shape)"
   ]
  },
  {
   "cell_type": "code",
   "execution_count": 5,
   "metadata": {
    "ExecuteTime": {
     "end_time": "2018-10-24T23:27:07.352156Z",
     "start_time": "2018-10-24T23:27:07.333181Z"
    }
   },
   "outputs": [
    {
     "data": {
      "text/html": [
       "<div>\n",
       "<style scoped>\n",
       "    .dataframe tbody tr th:only-of-type {\n",
       "        vertical-align: middle;\n",
       "    }\n",
       "\n",
       "    .dataframe tbody tr th {\n",
       "        vertical-align: top;\n",
       "    }\n",
       "\n",
       "    .dataframe thead th {\n",
       "        text-align: right;\n",
       "    }\n",
       "</style>\n",
       "<table border=\"1\" class=\"dataframe\">\n",
       "  <thead>\n",
       "    <tr style=\"text-align: right;\">\n",
       "      <th></th>\n",
       "      <th>colors</th>\n",
       "      <th>shapes</th>\n",
       "      <th>theta</th>\n",
       "      <th>center_x</th>\n",
       "      <th>center_y</th>\n",
       "    </tr>\n",
       "  </thead>\n",
       "  <tbody>\n",
       "    <tr>\n",
       "      <th>0</th>\n",
       "      <td>yellow</td>\n",
       "      <td>rectangle</td>\n",
       "      <td>0.468041</td>\n",
       "      <td>79</td>\n",
       "      <td>59</td>\n",
       "    </tr>\n",
       "    <tr>\n",
       "      <th>1</th>\n",
       "      <td>cyan</td>\n",
       "      <td>rectangle</td>\n",
       "      <td>5.808961</td>\n",
       "      <td>62</td>\n",
       "      <td>56</td>\n",
       "    </tr>\n",
       "    <tr>\n",
       "      <th>2</th>\n",
       "      <td>orange</td>\n",
       "      <td>rectangle</td>\n",
       "      <td>1.496735</td>\n",
       "      <td>32</td>\n",
       "      <td>40</td>\n",
       "    </tr>\n",
       "    <tr>\n",
       "      <th>3</th>\n",
       "      <td>yellow</td>\n",
       "      <td>circle</td>\n",
       "      <td>0.432456</td>\n",
       "      <td>92</td>\n",
       "      <td>30</td>\n",
       "    </tr>\n",
       "    <tr>\n",
       "      <th>4</th>\n",
       "      <td>orange</td>\n",
       "      <td>rectangle</td>\n",
       "      <td>5.388134</td>\n",
       "      <td>7</td>\n",
       "      <td>82</td>\n",
       "    </tr>\n",
       "    <tr>\n",
       "      <th>5</th>\n",
       "      <td>yellow</td>\n",
       "      <td>triangle</td>\n",
       "      <td>5.914677</td>\n",
       "      <td>33</td>\n",
       "      <td>80</td>\n",
       "    </tr>\n",
       "    <tr>\n",
       "      <th>6</th>\n",
       "      <td>cyan</td>\n",
       "      <td>rectangle</td>\n",
       "      <td>5.148180</td>\n",
       "      <td>14</td>\n",
       "      <td>19</td>\n",
       "    </tr>\n",
       "    <tr>\n",
       "      <th>7</th>\n",
       "      <td>orange</td>\n",
       "      <td>rectangle</td>\n",
       "      <td>4.057289</td>\n",
       "      <td>52</td>\n",
       "      <td>35</td>\n",
       "    </tr>\n",
       "    <tr>\n",
       "      <th>8</th>\n",
       "      <td>cyan</td>\n",
       "      <td>rectangle</td>\n",
       "      <td>0.778599</td>\n",
       "      <td>59</td>\n",
       "      <td>89</td>\n",
       "    </tr>\n",
       "    <tr>\n",
       "      <th>9</th>\n",
       "      <td>orange</td>\n",
       "      <td>rectangle</td>\n",
       "      <td>1.512402</td>\n",
       "      <td>80</td>\n",
       "      <td>91</td>\n",
       "    </tr>\n",
       "  </tbody>\n",
       "</table>\n",
       "</div>"
      ],
      "text/plain": [
       "   colors     shapes     theta  center_x  center_y\n",
       "0  yellow  rectangle  0.468041        79        59\n",
       "1    cyan  rectangle  5.808961        62        56\n",
       "2  orange  rectangle  1.496735        32        40\n",
       "3  yellow     circle  0.432456        92        30\n",
       "4  orange  rectangle  5.388134         7        82\n",
       "5  yellow   triangle  5.914677        33        80\n",
       "6    cyan  rectangle  5.148180        14        19\n",
       "7  orange  rectangle  4.057289        52        35\n",
       "8    cyan  rectangle  0.778599        59        89\n",
       "9  orange  rectangle  1.512402        80        91"
      ]
     },
     "execution_count": 5,
     "metadata": {},
     "output_type": "execute_result"
    }
   ],
   "source": [
    "data[0]"
   ]
  },
  {
   "cell_type": "markdown",
   "metadata": {},
   "source": [
    "### Generate Labels"
   ]
  },
  {
   "cell_type": "code",
   "execution_count": 6,
   "metadata": {
    "ExecuteTime": {
     "end_time": "2018-10-24T23:27:07.358134Z",
     "start_time": "2018-10-24T23:27:07.354125Z"
    }
   },
   "outputs": [],
   "source": [
    "colors=[\"yellow\",\"brown\",\"cyan\"]\n",
    "shapes=[\"rectangle\",\"circle\",\"triangle\"]"
   ]
  },
  {
   "cell_type": "code",
   "execution_count": 7,
   "metadata": {
    "ExecuteTime": {
     "end_time": "2018-10-24T23:27:07.369086Z",
     "start_time": "2018-10-24T23:27:07.360110Z"
    }
   },
   "outputs": [],
   "source": [
    "k=len(colors)*len(shapes)"
   ]
  },
  {
   "cell_type": "code",
   "execution_count": 8,
   "metadata": {
    "ExecuteTime": {
     "end_time": "2018-10-24T23:27:07.385043Z",
     "start_time": "2018-10-24T23:27:07.372077Z"
    }
   },
   "outputs": [
    {
     "data": {
      "text/plain": [
       "8"
      ]
     },
     "execution_count": 8,
     "metadata": {},
     "output_type": "execute_result"
    }
   ],
   "source": [
    "df=data[0]\n",
    "color=\"red\"\n",
    "shape=\"rectangle\"\n",
    "len(df[df[\"colors\"]==color]),# & (df['shapes']==shape) ])\n",
    "len(df[df[\"shapes\"]==shape])"
   ]
  },
  {
   "cell_type": "code",
   "execution_count": 9,
   "metadata": {
    "ExecuteTime": {
     "end_time": "2018-10-24T23:27:07.397013Z",
     "start_time": "2018-10-24T23:27:07.387048Z"
    }
   },
   "outputs": [],
   "source": [
    "def compute_label(df):\n",
    "    counts=np.zeros((len(colors),len(shapes)),dtype=np.int)\n",
    "    if df.empty or (df is None):\n",
    "        return counts\n",
    "    for i1,color in enumerate(colors):\n",
    "        for i2,shape in enumerate(shapes):\n",
    "            counts[i1,i2]=len(df[(df[\"colors\"]==color) & (df['shapes']==shape) ])\n",
    "            #print (color,shape,counts[i1,i2])\n",
    "    return counts\n",
    "compute_labels=np.vectorize(compute_label)"
   ]
  },
  {
   "cell_type": "code",
   "execution_count": 10,
   "metadata": {
    "ExecuteTime": {
     "end_time": "2018-10-24T23:27:07.417955Z",
     "start_time": "2018-10-24T23:27:07.400004Z"
    }
   },
   "outputs": [
    {
     "data": {
      "text/plain": [
       "array([[1, 1, 1],\n",
       "       [0, 0, 0],\n",
       "       [3, 0, 0]])"
      ]
     },
     "execution_count": 10,
     "metadata": {},
     "output_type": "execute_result"
    }
   ],
   "source": [
    "compute_label(data[0])"
   ]
  },
  {
   "cell_type": "code",
   "execution_count": 11,
   "metadata": {
    "ExecuteTime": {
     "end_time": "2018-10-24T23:27:07.426931Z",
     "start_time": "2018-10-24T23:27:07.419949Z"
    }
   },
   "outputs": [],
   "source": [
    "def compute_labels(data):\n",
    "    labels=[]\n",
    "    for i1,df in enumerate(data):\n",
    "        #print(i1)\n",
    "        labels.append(compute_label(df))\n",
    "    return np.array(labels)"
   ]
  },
  {
   "cell_type": "code",
   "execution_count": 12,
   "metadata": {
    "ExecuteTime": {
     "end_time": "2018-10-24T23:28:14.837675Z",
     "start_time": "2018-10-24T23:27:07.427928Z"
    }
   },
   "outputs": [
    {
     "data": {
      "text/plain": [
       "(10000, 3, 3)"
      ]
     },
     "execution_count": 12,
     "metadata": {},
     "output_type": "execute_result"
    }
   ],
   "source": [
    "labels=compute_labels(data)\n",
    "labels.shape"
   ]
  },
  {
   "cell_type": "code",
   "execution_count": 13,
   "metadata": {
    "ExecuteTime": {
     "end_time": "2018-10-24T23:29:23.331141Z",
     "start_time": "2018-10-24T23:28:14.839671Z"
    }
   },
   "outputs": [
    {
     "data": {
      "text/plain": [
       "(10000, 3, 3)"
      ]
     },
     "execution_count": 13,
     "metadata": {},
     "output_type": "execute_result"
    }
   ],
   "source": [
    "labels_test=compute_labels(data_test)\n",
    "labels_test.shape"
   ]
  },
  {
   "cell_type": "code",
   "execution_count": 14,
   "metadata": {
    "ExecuteTime": {
     "end_time": "2018-10-24T23:29:23.338125Z",
     "start_time": "2018-10-24T23:29:23.333112Z"
    }
   },
   "outputs": [
    {
     "name": "stdout",
     "output_type": "stream",
     "text": [
      "(10000, 9) (10000, 9)\n"
     ]
    }
   ],
   "source": [
    "labels=labels.reshape(-1,k)\n",
    "labels_test=labels_test.reshape(-1,k)\n",
    "print(labels.shape,labels_test.shape)"
   ]
  },
  {
   "cell_type": "markdown",
   "metadata": {},
   "source": [
    "## Helper Functions"
   ]
  },
  {
   "cell_type": "code",
   "execution_count": 105,
   "metadata": {
    "ExecuteTime": {
     "end_time": "2018-10-25T10:09:52.474599Z",
     "start_time": "2018-10-25T10:09:52.462615Z"
    }
   },
   "outputs": [],
   "source": [
    "class ReportCallback(keras.callbacks.Callback):\n",
    "    def __init__(self,frequency,use_val=False):\n",
    "        self.freq=frequency\n",
    "        self.use_val=use_val\n",
    "        self.separator=\" || \"\n",
    "        if not(self.use_val):\n",
    "            self.separator=\"\\n\"\n",
    "    def on_epoch_end(self, epoch, logs={}):\n",
    "        if (epoch % self.freq ==0):\n",
    "            train_loss=logs[\"loss\"]\n",
    "            train_error=logs[\"count_err\"]\n",
    "            print(f\"\\t{epoch}: TRAIN Loss {train_loss:.4f},  Err {train_error:.4f}\",end=self.separator)\n",
    "            if self.use_val:\n",
    "                val_loss=logs[\"val_loss\"]\n",
    "                val_error=logs[\"val_count_err\"]\n",
    "                print(f\"VAL Loss {val_loss:.4f}, Err {val_error:.4f}\")"
   ]
  },
  {
   "cell_type": "code",
   "execution_count": 16,
   "metadata": {
    "ExecuteTime": {
     "end_time": "2018-10-24T23:29:23.370014Z",
     "start_time": "2018-10-24T23:29:23.358057Z"
    }
   },
   "outputs": [],
   "source": [
    "def count_err(y_true, y_pred):\n",
    "    return K.sum(K.abs(K.round(y_pred)-y_true),axis=-1)"
   ]
  },
  {
   "cell_type": "code",
   "execution_count": 17,
   "metadata": {
    "ExecuteTime": {
     "end_time": "2018-10-24T23:29:23.381982Z",
     "start_time": "2018-10-24T23:29:23.373009Z"
    }
   },
   "outputs": [],
   "source": [
    "def count_error(y_pred,y):\n",
    "    return np.sum(np.abs(np.round(y_pred)-np.round(y)))/len(y)"
   ]
  },
  {
   "cell_type": "markdown",
   "metadata": {},
   "source": [
    "## Model Selection"
   ]
  },
  {
   "cell_type": "markdown",
   "metadata": {},
   "source": [
    "### Convolution Only"
   ]
  },
  {
   "cell_type": "code",
   "execution_count": 18,
   "metadata": {
    "ExecuteTime": {
     "end_time": "2018-10-24T23:29:23.442823Z",
     "start_time": "2018-10-24T23:29:23.384976Z"
    }
   },
   "outputs": [],
   "source": [
    "model0 = keras.Sequential([\n",
    "    \n",
    "    # Convolutional Layers\n",
    "    keras.layers.Conv2D(32, (3, 3),input_shape=(100,100,3), activation='relu',padding=\"same\"),\n",
    "    keras.layers.AveragePooling2D(pool_size=(100, 100)),\n",
    "    \n",
    "    keras.layers.Flatten(),\n",
    "    keras.layers.Dense(9, kernel_initializer=\"zeros\",activation=None),\n",
    "    keras.layers.Lambda(lambda x: K.exp(x))\n",
    "])"
   ]
  },
  {
   "cell_type": "code",
   "execution_count": 20,
   "metadata": {
    "ExecuteTime": {
     "end_time": "2018-10-24T23:29:58.493933Z",
     "start_time": "2018-10-24T23:29:58.490966Z"
    }
   },
   "outputs": [],
   "source": [
    "optimizer=tf.train.AdamOptimizer(learning_rate=0.0005)"
   ]
  },
  {
   "cell_type": "code",
   "execution_count": 21,
   "metadata": {
    "ExecuteTime": {
     "end_time": "2018-10-24T23:29:59.528597Z",
     "start_time": "2018-10-24T23:29:59.457812Z"
    }
   },
   "outputs": [],
   "source": [
    "model0.compile(optimizer=optimizer, \n",
    "              loss='poisson',\n",
    "              metrics=[count_err])"
   ]
  },
  {
   "cell_type": "code",
   "execution_count": 22,
   "metadata": {
    "ExecuteTime": {
     "end_time": "2018-10-25T00:15:59.978988Z",
     "start_time": "2018-10-24T23:30:04.300187Z"
    }
   },
   "outputs": [
    {
     "name": "stdout",
     "output_type": "stream",
     "text": [
      "\t0: TRAIN Loss 0.6411,  Err 4.6301 || VAL Loss 0.6052, Err 4.3860\n",
      "\t10: TRAIN Loss 0.5498,  Err 3.9449 || VAL Loss 0.5493, Err 3.9660\n",
      "\t20: TRAIN Loss 0.5185,  Err 3.5642 || VAL Loss 0.5176, Err 3.5945\n",
      "\t30: TRAIN Loss 0.5032,  Err 3.2662 || VAL Loss 0.5068, Err 3.3005\n",
      "\t40: TRAIN Loss 0.4975,  Err 3.1424 || VAL Loss 0.5011, Err 3.2000\n",
      "\t50: TRAIN Loss 0.4953,  Err 3.0888 || VAL Loss 0.4960, Err 3.1605\n",
      "\t60: TRAIN Loss 0.4939,  Err 3.0591 || VAL Loss 0.4981, Err 3.1540\n",
      "\t70: TRAIN Loss 0.4926,  Err 3.0492 || VAL Loss 0.5016, Err 3.3175\n",
      "\t80: TRAIN Loss 0.4905,  Err 3.0017 || VAL Loss 0.4919, Err 3.0685\n",
      "\t90: TRAIN Loss 0.4896,  Err 2.9894 || VAL Loss 0.4892, Err 3.0365\n",
      "\t100: TRAIN Loss 0.4867,  Err 2.9620 || VAL Loss 0.4866, Err 2.9495\n",
      "\t110: TRAIN Loss 0.4848,  Err 2.9441 || VAL Loss 0.4837, Err 2.9665\n",
      "\t120: TRAIN Loss 0.4826,  Err 2.8998 || VAL Loss 0.4840, Err 2.8830\n",
      "\t130: TRAIN Loss 0.4819,  Err 2.8965 || VAL Loss 0.4829, Err 3.0430\n",
      "\t140: TRAIN Loss 0.4798,  Err 2.8678 || VAL Loss 0.4802, Err 2.9805\n",
      "\t150: TRAIN Loss 0.4789,  Err 2.8592 || VAL Loss 0.4994, Err 3.1265\n",
      "\t160: TRAIN Loss 0.4790,  Err 2.8411 || VAL Loss 0.4842, Err 2.9460\n",
      "\t170: TRAIN Loss 0.4768,  Err 2.8099 || VAL Loss 0.4761, Err 2.8385\n",
      "\t180: TRAIN Loss 0.4774,  Err 2.8234 || VAL Loss 0.5177, Err 3.4620\n",
      "\t190: TRAIN Loss 0.4770,  Err 2.8075 || VAL Loss 0.4760, Err 2.7845\n",
      "\t200: TRAIN Loss 0.4778,  Err 2.8046 || VAL Loss 0.4782, Err 2.8445\n",
      "\t210: TRAIN Loss 0.4756,  Err 2.7799 || VAL Loss 0.4787, Err 2.7645\n",
      "\t220: TRAIN Loss 0.4750,  Err 2.7647 || VAL Loss 0.4751, Err 2.8710\n",
      "\t230: TRAIN Loss 0.4750,  Err 2.7671 || VAL Loss 0.4760, Err 2.7890\n",
      "\t240: TRAIN Loss 0.4742,  Err 2.7434 || VAL Loss 0.4728, Err 2.7735\n",
      "\t250: TRAIN Loss 0.4751,  Err 2.7536 || VAL Loss 0.4784, Err 2.7695\n",
      "\t260: TRAIN Loss 0.4752,  Err 2.7571 || VAL Loss 0.4738, Err 2.8205\n",
      "\t270: TRAIN Loss 0.4735,  Err 2.7181 || VAL Loss 0.4756, Err 2.7410\n",
      "\t280: TRAIN Loss 0.4733,  Err 2.7224 || VAL Loss 0.4755, Err 2.6960\n",
      "\t290: TRAIN Loss 0.4735,  Err 2.7139 || VAL Loss 0.4740, Err 2.7135\n",
      "\t300: TRAIN Loss 0.4738,  Err 2.7323 || VAL Loss 0.4720, Err 2.7545\n",
      "\t310: TRAIN Loss 0.4722,  Err 2.6994 || VAL Loss 0.4716, Err 2.7720\n",
      "\t320: TRAIN Loss 0.4746,  Err 2.7212 || VAL Loss 0.4725, Err 2.7410\n",
      "\t330: TRAIN Loss 0.4729,  Err 2.7039 || VAL Loss 0.4728, Err 2.7450\n",
      "\t340: TRAIN Loss 0.4719,  Err 2.6856 || VAL Loss 0.4756, Err 2.8890\n",
      "\t350: TRAIN Loss 0.4723,  Err 2.6859 || VAL Loss 0.4744, Err 2.7385\n",
      "\t360: TRAIN Loss 0.4728,  Err 2.6993 || VAL Loss 0.4770, Err 2.8225\n",
      "\t370: TRAIN Loss 0.4718,  Err 2.6728 || VAL Loss 0.4727, Err 2.7115\n",
      "\t380: TRAIN Loss 0.4715,  Err 2.6746 || VAL Loss 0.4803, Err 2.8990\n",
      "\t390: TRAIN Loss 0.4716,  Err 2.6751 || VAL Loss 0.4714, Err 2.7040\n",
      "\t400: TRAIN Loss 0.4717,  Err 2.6724 || VAL Loss 0.4729, Err 2.7525\n",
      "\t410: TRAIN Loss 0.4731,  Err 2.6848 || VAL Loss 0.4754, Err 2.6895\n",
      "\t420: TRAIN Loss 0.4720,  Err 2.6830 || VAL Loss 0.4703, Err 2.7105\n",
      "\t430: TRAIN Loss 0.4708,  Err 2.6625 || VAL Loss 0.4734, Err 2.6000\n",
      "\t440: TRAIN Loss 0.4705,  Err 2.6553 || VAL Loss 0.4706, Err 2.7070\n",
      "\t450: TRAIN Loss 0.4708,  Err 2.6466 || VAL Loss 0.4747, Err 2.7220\n",
      "\t460: TRAIN Loss 0.4709,  Err 2.6627 || VAL Loss 0.4710, Err 2.7215\n",
      "\t470: TRAIN Loss 0.4717,  Err 2.6757 || VAL Loss 0.4707, Err 2.7330\n",
      "\t480: TRAIN Loss 0.4702,  Err 2.6494 || VAL Loss 0.4726, Err 2.8055\n",
      "\t490: TRAIN Loss 0.4705,  Err 2.6505 || VAL Loss 0.4725, Err 2.7380\n",
      "\t500: TRAIN Loss 0.4699,  Err 2.6458 || VAL Loss 0.4700, Err 2.6460\n",
      "\t510: TRAIN Loss 0.4707,  Err 2.6514 || VAL Loss 0.4693, Err 2.6695\n",
      "\t520: TRAIN Loss 0.4712,  Err 2.6662 || VAL Loss 0.4727, Err 2.8050\n",
      "\t530: TRAIN Loss 0.4697,  Err 2.6341 || VAL Loss 0.4701, Err 2.7620\n",
      "\t540: TRAIN Loss 0.4691,  Err 2.6346 || VAL Loss 0.4697, Err 2.7245\n",
      "\t550: TRAIN Loss 0.4692,  Err 2.6266 || VAL Loss 0.4700, Err 2.7255\n",
      "\t560: TRAIN Loss 0.4704,  Err 2.6559 || VAL Loss 0.4713, Err 2.7630\n",
      "\t570: TRAIN Loss 0.4702,  Err 2.6436 || VAL Loss 0.4694, Err 2.8115\n",
      "\t580: TRAIN Loss 0.4696,  Err 2.6315 || VAL Loss 0.4713, Err 2.6865\n",
      "\t590: TRAIN Loss 0.4697,  Err 2.6259 || VAL Loss 0.4722, Err 2.6325\n",
      "\t600: TRAIN Loss 0.4702,  Err 2.6395 || VAL Loss 0.4686, Err 2.7405\n",
      "\t610: TRAIN Loss 0.4696,  Err 2.6418 || VAL Loss 0.4739, Err 2.8190\n",
      "\t620: TRAIN Loss 0.4698,  Err 2.6402 || VAL Loss 0.4683, Err 2.6230\n",
      "\t630: TRAIN Loss 0.4685,  Err 2.6248 || VAL Loss 0.4727, Err 2.6870\n",
      "\t640: TRAIN Loss 0.4687,  Err 2.6131 || VAL Loss 0.4682, Err 2.6735\n",
      "\t650: TRAIN Loss 0.4684,  Err 2.6089 || VAL Loss 0.4760, Err 2.8230\n",
      "\t660: TRAIN Loss 0.4675,  Err 2.6044 || VAL Loss 0.4703, Err 2.6415\n",
      "\t670: TRAIN Loss 0.4683,  Err 2.6201 || VAL Loss 0.4678, Err 2.7385\n",
      "\t680: TRAIN Loss 0.4696,  Err 2.6349 || VAL Loss 0.4684, Err 2.7055\n",
      "\t690: TRAIN Loss 0.4678,  Err 2.5984 || VAL Loss 0.4697, Err 2.5365\n",
      "\t700: TRAIN Loss 0.4687,  Err 2.6220 || VAL Loss 0.4679, Err 2.5905\n",
      "\t710: TRAIN Loss 0.4691,  Err 2.6233 || VAL Loss 0.4784, Err 2.8485\n",
      "\t720: TRAIN Loss 0.4680,  Err 2.5986 || VAL Loss 0.4694, Err 2.6885\n",
      "\t730: TRAIN Loss 0.4670,  Err 2.5860 || VAL Loss 0.4761, Err 2.9005\n",
      "\t740: TRAIN Loss 0.4677,  Err 2.6008 || VAL Loss 0.4697, Err 2.7400\n",
      "\t750: TRAIN Loss 0.4680,  Err 2.5947 || VAL Loss 0.4677, Err 2.6135\n",
      "\t760: TRAIN Loss 0.4685,  Err 2.6070 || VAL Loss 0.4692, Err 2.6370\n",
      "\t770: TRAIN Loss 0.4666,  Err 2.5920 || VAL Loss 0.4711, Err 2.7165\n",
      "\t780: TRAIN Loss 0.4669,  Err 2.5907 || VAL Loss 0.4689, Err 2.6660\n",
      "\t790: TRAIN Loss 0.4659,  Err 2.5635 || VAL Loss 0.4679, Err 2.6125\n",
      "\t800: TRAIN Loss 0.4670,  Err 2.5921 || VAL Loss 0.4731, Err 2.6655\n",
      "\t810: TRAIN Loss 0.4664,  Err 2.5774 || VAL Loss 0.4656, Err 2.6400\n",
      "\t820: TRAIN Loss 0.4657,  Err 2.5762 || VAL Loss 0.4667, Err 2.7395\n",
      "\t830: TRAIN Loss 0.4656,  Err 2.5682 || VAL Loss 0.4670, Err 2.5980\n",
      "\t840: TRAIN Loss 0.4658,  Err 2.5688 || VAL Loss 0.4690, Err 2.5690\n",
      "\t850: TRAIN Loss 0.4657,  Err 2.5710 || VAL Loss 0.4669, Err 2.6990\n",
      "\t860: TRAIN Loss 0.4651,  Err 2.5600 || VAL Loss 0.4806, Err 2.8155\n",
      "\t870: TRAIN Loss 0.4655,  Err 2.5489 || VAL Loss 0.4641, Err 2.6280\n",
      "\t880: TRAIN Loss 0.4648,  Err 2.5370 || VAL Loss 0.4652, Err 2.6440\n",
      "\t890: TRAIN Loss 0.4651,  Err 2.5595 || VAL Loss 0.4645, Err 2.6115\n",
      "\t900: TRAIN Loss 0.4645,  Err 2.5404 || VAL Loss 0.4666, Err 2.7745\n",
      "\t910: TRAIN Loss 0.4644,  Err 2.5518 || VAL Loss 0.4645, Err 2.6300\n",
      "\t920: TRAIN Loss 0.4647,  Err 2.5551 || VAL Loss 0.4662, Err 2.5800\n",
      "\t930: TRAIN Loss 0.4646,  Err 2.5560 || VAL Loss 0.4642, Err 2.6400\n",
      "\t940: TRAIN Loss 0.4644,  Err 2.5525 || VAL Loss 0.4653, Err 2.6340\n",
      "\t950: TRAIN Loss 0.4651,  Err 2.5491 || VAL Loss 0.4646, Err 2.6705\n",
      "\t960: TRAIN Loss 0.4654,  Err 2.5801 || VAL Loss 0.4679, Err 2.6495\n",
      "\t970: TRAIN Loss 0.4652,  Err 2.5650 || VAL Loss 0.4643, Err 2.5845\n",
      "\t980: TRAIN Loss 0.4628,  Err 2.5173 || VAL Loss 0.4783, Err 2.8005\n",
      "\t990: TRAIN Loss 0.4643,  Err 2.5377 || VAL Loss 0.4665, Err 2.6145\n"
     ]
    }
   ],
   "source": [
    "hist0=model0.fit(images,labels,epochs=1000,validation_split=0.2,verbose=0,callbacks=[ReportCallback(10)])"
   ]
  },
  {
   "cell_type": "markdown",
   "metadata": {},
   "source": [
    "###  Two layers on Convolution"
   ]
  },
  {
   "cell_type": "code",
   "execution_count": 23,
   "metadata": {
    "ExecuteTime": {
     "end_time": "2018-10-25T00:16:00.035800Z",
     "start_time": "2018-10-25T00:15:59.980892Z"
    }
   },
   "outputs": [],
   "source": [
    "model1 = keras.Sequential([\n",
    "    \n",
    "    \n",
    "    # Convolutional Layers\n",
    "    keras.layers.Conv2D(32, (3, 3),input_shape=(100,100,3), activation='relu',padding=\"same\"),\n",
    "    keras.layers.AveragePooling2D(pool_size=(2, 2)),\n",
    "    keras.layers.Conv2D(32, (3, 3), activation='relu',padding=\"same\"),\n",
    "    keras.layers.AveragePooling2D(pool_size=(50, 50)),\n",
    "    \n",
    "    keras.layers.Flatten(),\n",
    "    keras.layers.Dense(9, kernel_initializer=\"zeros\",activation=None),\n",
    "    keras.layers.Lambda(lambda x: K.exp(x))\n",
    "])"
   ]
  },
  {
   "cell_type": "code",
   "execution_count": 24,
   "metadata": {
    "ExecuteTime": {
     "end_time": "2018-10-25T00:16:00.100553Z",
     "start_time": "2018-10-25T00:16:00.037728Z"
    }
   },
   "outputs": [],
   "source": [
    "model1.compile(optimizer=optimizer, \n",
    "              loss='poisson',\n",
    "              metrics=[count_err])"
   ]
  },
  {
   "cell_type": "code",
   "execution_count": 25,
   "metadata": {
    "ExecuteTime": {
     "end_time": "2018-10-25T01:16:47.140729Z",
     "start_time": "2018-10-25T00:16:00.102542Z"
    }
   },
   "outputs": [
    {
     "name": "stdout",
     "output_type": "stream",
     "text": [
      "\t0: TRAIN Loss 0.6067,  Err 4.4028 || VAL Loss 0.5805, Err 4.2350\n",
      "\t10: TRAIN Loss 0.4869,  Err 2.9297 || VAL Loss 0.4863, Err 2.9215\n",
      "\t20: TRAIN Loss 0.4672,  Err 2.6831 || VAL Loss 0.4601, Err 2.6210\n",
      "\t30: TRAIN Loss 0.4308,  Err 2.0385 || VAL Loss 0.4278, Err 2.3050\n",
      "\t40: TRAIN Loss 0.4209,  Err 1.7837 || VAL Loss 0.4202, Err 1.9085\n",
      "\t50: TRAIN Loss 0.4170,  Err 1.6433 || VAL Loss 0.4215, Err 1.6835\n",
      "\t60: TRAIN Loss 0.4154,  Err 1.5735 || VAL Loss 0.4110, Err 1.4415\n",
      "\t70: TRAIN Loss 0.4145,  Err 1.5263 || VAL Loss 0.4144, Err 1.5215\n",
      "\t80: TRAIN Loss 0.4126,  Err 1.4712 || VAL Loss 0.4096, Err 1.5280\n",
      "\t90: TRAIN Loss 0.4110,  Err 1.4514 || VAL Loss 0.4157, Err 1.5305\n",
      "\t100: TRAIN Loss 0.4095,  Err 1.4039 || VAL Loss 0.4088, Err 1.4355\n",
      "\t110: TRAIN Loss 0.4102,  Err 1.4184 || VAL Loss 0.4140, Err 1.4230\n",
      "\t120: TRAIN Loss 0.4087,  Err 1.3760 || VAL Loss 0.4274, Err 1.7965\n",
      "\t130: TRAIN Loss 0.4082,  Err 1.3567 || VAL Loss 0.4071, Err 1.3320\n",
      "\t140: TRAIN Loss 0.4098,  Err 1.3927 || VAL Loss 0.4120, Err 1.5250\n",
      "\t150: TRAIN Loss 0.4077,  Err 1.3514 || VAL Loss 0.4088, Err 1.3670\n",
      "\t160: TRAIN Loss 0.4066,  Err 1.3122 || VAL Loss 0.4156, Err 1.5030\n",
      "\t170: TRAIN Loss 0.4061,  Err 1.3105 || VAL Loss 0.4130, Err 1.3380\n",
      "\t180: TRAIN Loss 0.4070,  Err 1.3188 || VAL Loss 0.4101, Err 1.4415\n",
      "\t190: TRAIN Loss 0.4067,  Err 1.3211 || VAL Loss 0.4101, Err 1.4085\n",
      "\t200: TRAIN Loss 0.4057,  Err 1.3016 || VAL Loss 0.4087, Err 1.3065\n",
      "\t210: TRAIN Loss 0.4053,  Err 1.2855 || VAL Loss 0.4066, Err 1.2710\n",
      "\t220: TRAIN Loss 0.4048,  Err 1.2683 || VAL Loss 0.4076, Err 1.4215\n",
      "\t230: TRAIN Loss 0.4051,  Err 1.2820 || VAL Loss 0.4076, Err 1.4720\n",
      "\t240: TRAIN Loss 0.4041,  Err 1.2603 || VAL Loss 0.4087, Err 1.2915\n",
      "\t250: TRAIN Loss 0.4043,  Err 1.2614 || VAL Loss 0.4099, Err 1.5360\n",
      "\t260: TRAIN Loss 0.4037,  Err 1.2496 || VAL Loss 0.4094, Err 1.4440\n",
      "\t270: TRAIN Loss 0.4039,  Err 1.2568 || VAL Loss 0.4082, Err 1.4310\n",
      "\t280: TRAIN Loss 0.4029,  Err 1.2361 || VAL Loss 0.4057, Err 1.3360\n",
      "\t290: TRAIN Loss 0.4032,  Err 1.2368 || VAL Loss 0.4127, Err 1.4240\n",
      "\t300: TRAIN Loss 0.4033,  Err 1.2496 || VAL Loss 0.4110, Err 1.4530\n",
      "\t310: TRAIN Loss 0.4017,  Err 1.1976 || VAL Loss 0.4105, Err 1.3720\n",
      "\t320: TRAIN Loss 0.4032,  Err 1.2377 || VAL Loss 0.4091, Err 1.3610\n",
      "\t330: TRAIN Loss 0.4027,  Err 1.2234 || VAL Loss 0.4124, Err 1.4105\n",
      "\t340: TRAIN Loss 0.4017,  Err 1.2055 || VAL Loss 0.4092, Err 1.4560\n",
      "\t350: TRAIN Loss 0.4013,  Err 1.1971 || VAL Loss 0.4088, Err 1.3640\n",
      "\t360: TRAIN Loss 0.4019,  Err 1.2109 || VAL Loss 0.4091, Err 1.3390\n",
      "\t370: TRAIN Loss 0.4019,  Err 1.2203 || VAL Loss 0.4104, Err 1.3515\n",
      "\t380: TRAIN Loss 0.4011,  Err 1.1952 || VAL Loss 0.4083, Err 1.3855\n",
      "\t390: TRAIN Loss 0.4003,  Err 1.1754 || VAL Loss 0.4083, Err 1.3110\n",
      "\t400: TRAIN Loss 0.4001,  Err 1.1806 || VAL Loss 0.4117, Err 1.3655\n",
      "\t410: TRAIN Loss 0.3999,  Err 1.1647 || VAL Loss 0.4112, Err 1.3195\n",
      "\t420: TRAIN Loss 0.4000,  Err 1.1453 || VAL Loss 0.4083, Err 1.4250\n",
      "\t430: TRAIN Loss 0.3995,  Err 1.1655 || VAL Loss 0.4135, Err 1.4030\n",
      "\t440: TRAIN Loss 0.3995,  Err 1.1670 || VAL Loss 0.4074, Err 1.4880\n",
      "\t450: TRAIN Loss 0.4003,  Err 1.1879 || VAL Loss 0.4071, Err 1.3320\n",
      "\t460: TRAIN Loss 0.3990,  Err 1.1478 || VAL Loss 0.4117, Err 1.4875\n",
      "\t470: TRAIN Loss 0.4001,  Err 1.1959 || VAL Loss 0.4166, Err 1.4975\n",
      "\t480: TRAIN Loss 0.3984,  Err 1.1429 || VAL Loss 0.4081, Err 1.3295\n",
      "\t490: TRAIN Loss 0.3991,  Err 1.1484 || VAL Loss 0.4081, Err 1.3155\n",
      "\t500: TRAIN Loss 0.3990,  Err 1.1566 || VAL Loss 0.4092, Err 1.4485\n",
      "\t510: TRAIN Loss 0.3995,  Err 1.1624 || VAL Loss 0.4098, Err 1.5555\n",
      "\t520: TRAIN Loss 0.3986,  Err 1.1444 || VAL Loss 0.4089, Err 1.3230\n",
      "\t530: TRAIN Loss 0.3983,  Err 1.1441 || VAL Loss 0.4116, Err 1.4825\n",
      "\t540: TRAIN Loss 0.3989,  Err 1.1594 || VAL Loss 0.4148, Err 1.6310\n",
      "\t550: TRAIN Loss 0.3978,  Err 1.1327 || VAL Loss 0.4076, Err 1.3590\n",
      "\t560: TRAIN Loss 0.3988,  Err 1.1621 || VAL Loss 0.4096, Err 1.3585\n",
      "\t570: TRAIN Loss 0.3983,  Err 1.1311 || VAL Loss 0.4119, Err 1.4910\n",
      "\t580: TRAIN Loss 0.3980,  Err 1.1326 || VAL Loss 0.4122, Err 1.4205\n",
      "\t590: TRAIN Loss 0.3977,  Err 1.1265 || VAL Loss 0.4109, Err 1.3960\n",
      "\t600: TRAIN Loss 0.3981,  Err 1.1453 || VAL Loss 0.4132, Err 1.4550\n",
      "\t610: TRAIN Loss 0.3973,  Err 1.1162 || VAL Loss 0.4086, Err 1.3360\n",
      "\t620: TRAIN Loss 0.3979,  Err 1.1547 || VAL Loss 0.4120, Err 1.3145\n",
      "\t630: TRAIN Loss 0.3973,  Err 1.1136 || VAL Loss 0.4092, Err 1.3570\n",
      "\t640: TRAIN Loss 0.3974,  Err 1.1310 || VAL Loss 0.4099, Err 1.3705\n",
      "\t650: TRAIN Loss 0.3969,  Err 1.1181 || VAL Loss 0.4150, Err 1.4725\n",
      "\t660: TRAIN Loss 0.3973,  Err 1.1298 || VAL Loss 0.4094, Err 1.3185\n",
      "\t670: TRAIN Loss 0.3961,  Err 1.0987 || VAL Loss 0.4082, Err 1.3895\n",
      "\t680: TRAIN Loss 0.3968,  Err 1.1253 || VAL Loss 0.4096, Err 1.3330\n",
      "\t690: TRAIN Loss 0.3968,  Err 1.1146 || VAL Loss 0.4092, Err 1.3995\n",
      "\t700: TRAIN Loss 0.3962,  Err 1.0966 || VAL Loss 0.4175, Err 1.5285\n",
      "\t710: TRAIN Loss 0.3966,  Err 1.1235 || VAL Loss 0.4099, Err 1.3300\n",
      "\t720: TRAIN Loss 0.3965,  Err 1.1020 || VAL Loss 0.4103, Err 1.4035\n",
      "\t730: TRAIN Loss 0.3962,  Err 1.1133 || VAL Loss 0.4109, Err 1.4800\n",
      "\t740: TRAIN Loss 0.3965,  Err 1.1116 || VAL Loss 0.4094, Err 1.4035\n",
      "\t750: TRAIN Loss 0.3960,  Err 1.1006 || VAL Loss 0.4101, Err 1.5405\n",
      "\t760: TRAIN Loss 0.3960,  Err 1.0966 || VAL Loss 0.4094, Err 1.3920\n",
      "\t770: TRAIN Loss 0.3958,  Err 1.0951 || VAL Loss 0.4103, Err 1.4315\n",
      "\t780: TRAIN Loss 0.3954,  Err 1.0917 || VAL Loss 0.4107, Err 1.3865\n",
      "\t790: TRAIN Loss 0.3955,  Err 1.0896 || VAL Loss 0.4103, Err 1.4235\n",
      "\t800: TRAIN Loss 0.3954,  Err 1.0834 || VAL Loss 0.4144, Err 1.5235\n",
      "\t810: TRAIN Loss 0.3948,  Err 1.0691 || VAL Loss 0.4107, Err 1.3895\n",
      "\t820: TRAIN Loss 0.3951,  Err 1.0855 || VAL Loss 0.4145, Err 1.4700\n",
      "\t830: TRAIN Loss 0.3951,  Err 1.0921 || VAL Loss 0.4123, Err 1.3630\n",
      "\t840: TRAIN Loss 0.3949,  Err 1.0822 || VAL Loss 0.4113, Err 1.5005\n",
      "\t850: TRAIN Loss 0.3948,  Err 1.0817 || VAL Loss 0.4135, Err 1.3765\n",
      "\t860: TRAIN Loss 0.3947,  Err 1.0717 || VAL Loss 0.4113, Err 1.4030\n",
      "\t870: TRAIN Loss 0.3951,  Err 1.0782 || VAL Loss 0.4101, Err 1.4560\n",
      "\t880: TRAIN Loss 0.3943,  Err 1.0730 || VAL Loss 0.4158, Err 1.4755\n",
      "\t890: TRAIN Loss 0.3947,  Err 1.0804 || VAL Loss 0.4109, Err 1.4955\n",
      "\t900: TRAIN Loss 0.3949,  Err 1.0849 || VAL Loss 0.4109, Err 1.4015\n",
      "\t910: TRAIN Loss 0.3942,  Err 1.0759 || VAL Loss 0.4114, Err 1.4280\n",
      "\t920: TRAIN Loss 0.3942,  Err 1.0753 || VAL Loss 0.4100, Err 1.4815\n",
      "\t930: TRAIN Loss 0.3939,  Err 1.0580 || VAL Loss 0.4094, Err 1.5305\n",
      "\t940: TRAIN Loss 0.3941,  Err 1.0691 || VAL Loss 0.4132, Err 1.4190\n",
      "\t950: TRAIN Loss 0.3937,  Err 1.0495 || VAL Loss 0.4117, Err 1.4975\n",
      "\t960: TRAIN Loss 0.3941,  Err 1.0601 || VAL Loss 0.4112, Err 1.4650\n",
      "\t970: TRAIN Loss 0.3938,  Err 1.0625 || VAL Loss 0.4126, Err 1.5155\n",
      "\t980: TRAIN Loss 0.3936,  Err 1.0519 || VAL Loss 0.4156, Err 1.5325\n",
      "\t990: TRAIN Loss 0.3942,  Err 1.0824 || VAL Loss 0.4146, Err 1.4415\n"
     ]
    }
   ],
   "source": [
    "hist1=model1.fit(images,labels,epochs=1000,validation_split=0.2,verbose=0,callbacks=[ReportCallback(10)])"
   ]
  },
  {
   "cell_type": "markdown",
   "metadata": {},
   "source": [
    "### 1 Convolutional Layer plus one Dense Layers"
   ]
  },
  {
   "cell_type": "code",
   "execution_count": 41,
   "metadata": {
    "ExecuteTime": {
     "end_time": "2018-10-25T01:39:58.984286Z",
     "start_time": "2018-10-25T01:39:58.928399Z"
    }
   },
   "outputs": [],
   "source": [
    "\n",
    "model2 = keras.Sequential([\n",
    "    \n",
    "    # Convolutional Layers\n",
    "    keras.layers.Conv2D(32, (3, 3),input_shape=(100,100,3), activation='relu',padding=\"same\"),\n",
    "    keras.layers.AveragePooling2D(pool_size=(100, 100)),\n",
    "   \n",
    "    # Dense Layers\n",
    "    keras.layers.Flatten(),\n",
    "    keras.layers.Dense(64, activation=tf.nn.relu),\n",
    "    keras.layers.Dense(9, kernel_initializer=\"zeros\",activation=None),\n",
    "    keras.layers.Lambda(lambda x: K.exp(x))\n",
    "])"
   ]
  },
  {
   "cell_type": "code",
   "execution_count": 42,
   "metadata": {
    "ExecuteTime": {
     "end_time": "2018-10-25T01:40:00.134745Z",
     "start_time": "2018-10-25T01:40:00.065932Z"
    }
   },
   "outputs": [],
   "source": [
    "model2.compile(optimizer=optimizer, \n",
    "              loss='poisson',\n",
    "              metrics=[count_err])"
   ]
  },
  {
   "cell_type": "code",
   "execution_count": 43,
   "metadata": {
    "ExecuteTime": {
     "end_time": "2018-10-25T02:28:27.179269Z",
     "start_time": "2018-10-25T01:40:01.340641Z"
    }
   },
   "outputs": [
    {
     "name": "stdout",
     "output_type": "stream",
     "text": [
      "\t0: TRAIN Loss 0.5949,  Err 4.2625 || VAL Loss 0.5707, Err 4.0475\n",
      "\t10: TRAIN Loss 0.4708,  Err 2.8279 || VAL Loss 0.4764, Err 2.9455\n",
      "\t20: TRAIN Loss 0.4527,  Err 2.6575 || VAL Loss 0.4534, Err 2.7185\n",
      "\t30: TRAIN Loss 0.4435,  Err 2.5711 || VAL Loss 0.4472, Err 2.6540\n",
      "\t40: TRAIN Loss 0.4365,  Err 2.4669 || VAL Loss 0.4357, Err 2.4785\n",
      "\t50: TRAIN Loss 0.4312,  Err 2.3796 || VAL Loss 0.4306, Err 2.3655\n",
      "\t60: TRAIN Loss 0.4256,  Err 2.2652 || VAL Loss 0.4269, Err 2.2940\n",
      "\t70: TRAIN Loss 0.4232,  Err 2.2434 || VAL Loss 0.4248, Err 2.2595\n",
      "\t80: TRAIN Loss 0.4200,  Err 2.2219 || VAL Loss 0.4184, Err 2.1790\n",
      "\t90: TRAIN Loss 0.4165,  Err 2.1724 || VAL Loss 0.4230, Err 2.3960\n",
      "\t100: TRAIN Loss 0.4128,  Err 2.1066 || VAL Loss 0.4142, Err 2.1520\n",
      "\t110: TRAIN Loss 0.4115,  Err 2.0961 || VAL Loss 0.4121, Err 2.1515\n",
      "\t120: TRAIN Loss 0.4104,  Err 2.0915 || VAL Loss 0.4095, Err 2.0755\n",
      "\t130: TRAIN Loss 0.4082,  Err 2.0519 || VAL Loss 0.4084, Err 2.0585\n",
      "\t140: TRAIN Loss 0.4064,  Err 2.0387 || VAL Loss 0.4074, Err 2.0350\n",
      "\t150: TRAIN Loss 0.4086,  Err 2.0789 || VAL Loss 0.4075, Err 2.0920\n",
      "\t160: TRAIN Loss 0.4046,  Err 2.0220 || VAL Loss 0.4032, Err 2.0165\n",
      "\t170: TRAIN Loss 0.4032,  Err 2.0066 || VAL Loss 0.4021, Err 1.9870\n",
      "\t180: TRAIN Loss 0.4023,  Err 1.9924 || VAL Loss 0.4012, Err 2.0095\n",
      "\t190: TRAIN Loss 0.4013,  Err 1.9808 || VAL Loss 0.4010, Err 2.0015\n",
      "\t200: TRAIN Loss 0.4007,  Err 1.9831 || VAL Loss 0.3995, Err 1.9855\n",
      "\t210: TRAIN Loss 0.3992,  Err 1.9641 || VAL Loss 0.3985, Err 1.9660\n",
      "\t220: TRAIN Loss 0.3997,  Err 1.9780 || VAL Loss 0.3990, Err 2.0235\n",
      "\t230: TRAIN Loss 0.3985,  Err 1.9589 || VAL Loss 0.3992, Err 1.9675\n",
      "\t240: TRAIN Loss 0.3981,  Err 1.9559 || VAL Loss 0.3983, Err 1.9745\n",
      "\t250: TRAIN Loss 0.4002,  Err 2.0065 || VAL Loss 0.3989, Err 1.9930\n",
      "\t260: TRAIN Loss 0.3977,  Err 1.9527 || VAL Loss 0.3947, Err 1.9100\n",
      "\t270: TRAIN Loss 0.3969,  Err 1.9549 || VAL Loss 0.4006, Err 1.9975\n",
      "\t280: TRAIN Loss 0.3967,  Err 1.9232 || VAL Loss 0.3944, Err 1.9120\n",
      "\t290: TRAIN Loss 0.3945,  Err 1.9212 || VAL Loss 0.3947, Err 1.9545\n",
      "\t300: TRAIN Loss 0.3964,  Err 1.9379 || VAL Loss 0.3946, Err 1.9410\n",
      "\t310: TRAIN Loss 0.3955,  Err 1.9221 || VAL Loss 0.3973, Err 1.9905\n",
      "\t320: TRAIN Loss 0.3953,  Err 1.9200 || VAL Loss 0.3966, Err 1.9290\n",
      "\t330: TRAIN Loss 0.3955,  Err 1.8945 || VAL Loss 0.3996, Err 1.9725\n",
      "\t340: TRAIN Loss 0.3927,  Err 1.8925 || VAL Loss 0.3922, Err 1.8910\n",
      "\t350: TRAIN Loss 0.3960,  Err 1.9238 || VAL Loss 0.3931, Err 1.8990\n",
      "\t360: TRAIN Loss 0.3937,  Err 1.9030 || VAL Loss 0.4026, Err 2.0140\n",
      "\t370: TRAIN Loss 0.3935,  Err 1.9198 || VAL Loss 0.4050, Err 2.0415\n",
      "\t380: TRAIN Loss 0.4001,  Err 1.9432 || VAL Loss 0.4072, Err 1.9580\n",
      "\t390: TRAIN Loss 0.3987,  Err 1.8930 || VAL Loss 0.4044, Err 2.0830\n",
      "\t400: TRAIN Loss 0.3998,  Err 1.9423 || VAL Loss 0.3997, Err 1.9720\n",
      "\t410: TRAIN Loss 0.3965,  Err 1.9264 || VAL Loss 0.3973, Err 1.9330\n",
      "\t420: TRAIN Loss 0.3925,  Err 1.8824 || VAL Loss 0.3949, Err 1.9600\n",
      "\t430: TRAIN Loss 0.3936,  Err 1.8974 || VAL Loss 0.3917, Err 1.8925\n",
      "\t440: TRAIN Loss 0.3934,  Err 1.8916 || VAL Loss 0.3934, Err 1.9260\n",
      "\t450: TRAIN Loss 0.3932,  Err 1.9019 || VAL Loss 0.3922, Err 1.8990\n",
      "\t460: TRAIN Loss 0.3912,  Err 1.8731 || VAL Loss 0.3907, Err 1.9170\n",
      "\t470: TRAIN Loss 0.3909,  Err 1.8890 || VAL Loss 0.3891, Err 1.8630\n",
      "\t480: TRAIN Loss 0.3885,  Err 1.8409 || VAL Loss 0.3942, Err 1.9895\n",
      "\t490: TRAIN Loss 0.3883,  Err 1.8397 || VAL Loss 0.3869, Err 1.8290\n",
      "\t500: TRAIN Loss 0.3877,  Err 1.8255 || VAL Loss 0.3945, Err 1.9310\n",
      "\t510: TRAIN Loss 0.3862,  Err 1.8155 || VAL Loss 0.3865, Err 1.8205\n",
      "\t520: TRAIN Loss 0.3860,  Err 1.8128 || VAL Loss 0.3904, Err 1.8670\n",
      "\t530: TRAIN Loss 0.3847,  Err 1.7960 || VAL Loss 0.3890, Err 1.8775\n",
      "\t540: TRAIN Loss 0.3843,  Err 1.7908 || VAL Loss 0.3848, Err 1.8210\n",
      "\t550: TRAIN Loss 0.3833,  Err 1.7888 || VAL Loss 0.3860, Err 1.8455\n",
      "\t560: TRAIN Loss 0.3832,  Err 1.7661 || VAL Loss 0.3829, Err 1.7960\n",
      "\t570: TRAIN Loss 0.3826,  Err 1.7763 || VAL Loss 0.3866, Err 1.8265\n",
      "\t580: TRAIN Loss 0.3815,  Err 1.7424 || VAL Loss 0.3845, Err 1.8195\n",
      "\t590: TRAIN Loss 0.3829,  Err 1.7741 || VAL Loss 0.3818, Err 1.7625\n",
      "\t600: TRAIN Loss 0.3811,  Err 1.7503 || VAL Loss 0.3846, Err 1.8540\n",
      "\t610: TRAIN Loss 0.3811,  Err 1.7505 || VAL Loss 0.3855, Err 1.8190\n",
      "\t620: TRAIN Loss 0.3802,  Err 1.7391 || VAL Loss 0.3797, Err 1.7285\n",
      "\t630: TRAIN Loss 0.3790,  Err 1.7219 || VAL Loss 0.3800, Err 1.7630\n",
      "\t640: TRAIN Loss 0.3803,  Err 1.7496 || VAL Loss 0.3790, Err 1.7490\n",
      "\t650: TRAIN Loss 0.3820,  Err 1.7703 || VAL Loss 0.3796, Err 1.7640\n",
      "\t660: TRAIN Loss 0.3795,  Err 1.7439 || VAL Loss 0.3828, Err 1.8460\n",
      "\t670: TRAIN Loss 0.4006,  Err 1.9980 || VAL Loss 0.4003, Err 2.0320\n",
      "\t680: TRAIN Loss 0.3826,  Err 1.7819 || VAL Loss 0.3820, Err 1.8340\n",
      "\t690: TRAIN Loss 0.3806,  Err 1.7520 || VAL Loss 0.3803, Err 1.7605\n",
      "\t700: TRAIN Loss 0.3818,  Err 1.7691 || VAL Loss 0.3820, Err 1.8165\n",
      "\t710: TRAIN Loss 0.3804,  Err 1.7494 || VAL Loss 0.3792, Err 1.7405\n",
      "\t720: TRAIN Loss 0.3786,  Err 1.7209 || VAL Loss 0.3832, Err 1.8270\n",
      "\t730: TRAIN Loss 0.3797,  Err 1.7321 || VAL Loss 0.3797, Err 1.7640\n",
      "\t740: TRAIN Loss 0.3802,  Err 1.7432 || VAL Loss 0.3801, Err 1.8230\n",
      "\t750: TRAIN Loss 0.3780,  Err 1.7047 || VAL Loss 0.3754, Err 1.6965\n",
      "\t760: TRAIN Loss 0.3779,  Err 1.7023 || VAL Loss 0.3844, Err 1.8795\n",
      "\t770: TRAIN Loss 0.3764,  Err 1.6920 || VAL Loss 0.3755, Err 1.7140\n",
      "\t780: TRAIN Loss 0.3776,  Err 1.7081 || VAL Loss 0.3786, Err 1.8700\n",
      "\t790: TRAIN Loss 0.3770,  Err 1.7106 || VAL Loss 0.3801, Err 1.7785\n",
      "\t800: TRAIN Loss 0.3752,  Err 1.6705 || VAL Loss 0.3743, Err 1.7020\n",
      "\t810: TRAIN Loss 0.3750,  Err 1.6700 || VAL Loss 0.3761, Err 1.6985\n",
      "\t820: TRAIN Loss 0.3739,  Err 1.6535 || VAL Loss 0.3786, Err 1.7475\n",
      "\t830: TRAIN Loss 0.3755,  Err 1.6900 || VAL Loss 0.3740, Err 1.6870\n",
      "\t840: TRAIN Loss 0.3734,  Err 1.6590 || VAL Loss 0.3797, Err 1.8545\n",
      "\t850: TRAIN Loss 0.3740,  Err 1.6586 || VAL Loss 0.3817, Err 1.7855\n",
      "\t860: TRAIN Loss 0.3748,  Err 1.6789 || VAL Loss 0.3767, Err 1.7025\n",
      "\t870: TRAIN Loss 0.3740,  Err 1.6559 || VAL Loss 0.3724, Err 1.6305\n",
      "\t880: TRAIN Loss 0.3738,  Err 1.6650 || VAL Loss 0.3744, Err 1.6395\n",
      "\t890: TRAIN Loss 0.3738,  Err 1.6489 || VAL Loss 0.3822, Err 1.7375\n",
      "\t900: TRAIN Loss 0.3728,  Err 1.6389 || VAL Loss 0.3770, Err 1.7740\n",
      "\t910: TRAIN Loss 0.3750,  Err 1.6806 || VAL Loss 0.3708, Err 1.6275\n",
      "\t920: TRAIN Loss 0.3735,  Err 1.6595 || VAL Loss 0.3745, Err 1.6650\n",
      "\t930: TRAIN Loss 0.3716,  Err 1.6285 || VAL Loss 0.3751, Err 1.7350\n",
      "\t940: TRAIN Loss 0.3727,  Err 1.6415 || VAL Loss 0.3793, Err 1.8455\n",
      "\t950: TRAIN Loss 0.3764,  Err 1.6680 || VAL Loss 0.3933, Err 2.0000\n",
      "\t960: TRAIN Loss 0.3719,  Err 1.6287 || VAL Loss 0.3751, Err 1.7610\n",
      "\t970: TRAIN Loss 0.3714,  Err 1.6322 || VAL Loss 0.3747, Err 1.7150\n",
      "\t980: TRAIN Loss 0.3709,  Err 1.6314 || VAL Loss 0.3732, Err 1.6655\n",
      "\t990: TRAIN Loss 0.3713,  Err 1.6394 || VAL Loss 0.3726, Err 1.6690\n"
     ]
    }
   ],
   "source": [
    "hist2=model2.fit(images,labels,epochs=1000,validation_split=0.2,verbose=0,callbacks=[ReportCallback(10)])"
   ]
  },
  {
   "cell_type": "code",
   "execution_count": 44,
   "metadata": {
    "ExecuteTime": {
     "end_time": "2018-10-25T02:28:27.326105Z",
     "start_time": "2018-10-25T02:28:27.181124Z"
    }
   },
   "outputs": [
    {
     "data": {
      "text/plain": [
       "<matplotlib.legend.Legend at 0x24e12de8630>"
      ]
     },
     "execution_count": 44,
     "metadata": {},
     "output_type": "execute_result"
    },
    {
     "data": {
      "image/png": "[encoded data removed]",
      "text/plain": [
       "<Figure size 432x288 with 1 Axes>"
      ]
     },
     "metadata": {},
     "output_type": "display_data"
    }
   ],
   "source": [
    "plt.plot(hist0.history[\"val_count_err\"],label=\"1 x Conv\")\n",
    "plt.plot(hist1.history[\"val_count_err\"],label=\"2 x Conv\")\n",
    "plt.plot(hist2.history[\"val_count_err\"],label=\"1 x Conv + 1 x Dense\")\n",
    "plt.legend()"
   ]
  },
  {
   "cell_type": "markdown",
   "metadata": {},
   "source": [
    "### Two Convolution layers plus Dense Layer"
   ]
  },
  {
   "cell_type": "code",
   "execution_count": 60,
   "metadata": {
    "ExecuteTime": {
     "end_time": "2018-10-25T08:04:07.910785Z",
     "start_time": "2018-10-25T08:04:07.830993Z"
    }
   },
   "outputs": [],
   "source": [
    "\n",
    "\n",
    "model3 = keras.Sequential([\n",
    "    \n",
    "    # Convolutional Layers\n",
    "    keras.layers.Conv2D(32, (3, 3),input_shape=(100,100,3), activation='relu',padding=\"same\"),\n",
    "    keras.layers.AveragePooling2D(pool_size=(2, 2)),\n",
    "    keras.layers.Conv2D(32, (3, 3), activation='relu',padding=\"same\"),\n",
    "     keras.layers.AveragePooling2D(pool_size=(50, 50)),\n",
    "    # Dense Layers\n",
    "    keras.layers.Flatten(),\n",
    "    keras.layers.Dense(64, activation=tf.nn.relu),\n",
    "    keras.layers.Dense(9, kernel_initializer=\"zeros\",activation=None),\n",
    "    keras.layers.Lambda(lambda x: K.exp(x))\n",
    "])"
   ]
  },
  {
   "cell_type": "code",
   "execution_count": 61,
   "metadata": {
    "ExecuteTime": {
     "end_time": "2018-10-25T08:04:07.988589Z",
     "start_time": "2018-10-25T08:04:07.912750Z"
    }
   },
   "outputs": [],
   "source": [
    "model3.compile(optimizer=optimizer, \n",
    "              loss='poisson',\n",
    "              metrics=[count_err])"
   ]
  },
  {
   "cell_type": "code",
   "execution_count": 63,
   "metadata": {
    "ExecuteTime": {
     "end_time": "2018-10-25T09:11:45.941202Z",
     "start_time": "2018-10-25T08:04:07.998527Z"
    }
   },
   "outputs": [
    {
     "name": "stdout",
     "output_type": "stream",
     "text": [
      "\t0: TRAIN Loss 0.5988,  Err 4.2284 || VAL Loss 0.5628, Err 3.9790\n",
      "\t10: TRAIN Loss 0.3972,  Err 1.7953 || VAL Loss 0.3925, Err 1.6610\n",
      "\t20: TRAIN Loss 0.3581,  Err 1.2243 || VAL Loss 0.3556, Err 1.2290\n",
      "\t30: TRAIN Loss 0.3254,  Err 0.6286 || VAL Loss 0.3223, Err 0.6325\n",
      "\t40: TRAIN Loss 0.3108,  Err 0.4589 || VAL Loss 0.3067, Err 0.4360\n",
      "\t50: TRAIN Loss 0.2998,  Err 0.3039 || VAL Loss 0.2968, Err 0.3150\n",
      "\t60: TRAIN Loss 0.2925,  Err 0.2546 || VAL Loss 0.2953, Err 0.5150\n",
      "\t70: TRAIN Loss 0.2906,  Err 0.2490 || VAL Loss 0.2889, Err 0.2915\n",
      "\t80: TRAIN Loss 0.2872,  Err 0.2018 || VAL Loss 0.2868, Err 0.2375\n",
      "\t90: TRAIN Loss 0.2863,  Err 0.1709 || VAL Loss 0.2870, Err 0.2085\n",
      "\t100: TRAIN Loss 0.2859,  Err 0.1686 || VAL Loss 0.2888, Err 0.3315\n",
      "\t110: TRAIN Loss 0.2859,  Err 0.1732 || VAL Loss 0.2823, Err 0.1115\n",
      "\t120: TRAIN Loss 0.2847,  Err 0.1354 || VAL Loss 0.2808, Err 0.0950\n",
      "\t130: TRAIN Loss 0.2844,  Err 0.1348 || VAL Loss 0.2803, Err 0.0695\n",
      "\t140: TRAIN Loss 0.2844,  Err 0.1354 || VAL Loss 0.2802, Err 0.0680\n",
      "\t150: TRAIN Loss 0.2838,  Err 0.1184 || VAL Loss 0.2835, Err 0.2460\n",
      "\t160: TRAIN Loss 0.2832,  Err 0.0998 || VAL Loss 0.2872, Err 0.2605\n",
      "\t170: TRAIN Loss 0.2815,  Err 0.0674 || VAL Loss 0.2834, Err 0.1700\n",
      "\t180: TRAIN Loss 0.2824,  Err 0.0835 || VAL Loss 0.2792, Err 0.0715\n",
      "\t190: TRAIN Loss 0.2825,  Err 0.0828 || VAL Loss 0.2785, Err 0.0370\n",
      "\t200: TRAIN Loss 0.2817,  Err 0.0664 || VAL Loss 0.2791, Err 0.0395\n",
      "\t210: TRAIN Loss 0.2810,  Err 0.0526 || VAL Loss 0.2798, Err 0.0585\n",
      "\t220: TRAIN Loss 0.2810,  Err 0.0461 || VAL Loss 0.2821, Err 0.2220\n",
      "\t230: TRAIN Loss 0.2816,  Err 0.0568 || VAL Loss 0.2778, Err 0.0270\n",
      "\t240: TRAIN Loss 0.2813,  Err 0.0495 || VAL Loss 0.2811, Err 0.0790\n",
      "\t250: TRAIN Loss 0.2808,  Err 0.0435 || VAL Loss 0.2884, Err 0.3475\n",
      "\t260: TRAIN Loss 0.2802,  Err 0.0344 || VAL Loss 0.2789, Err 0.0575\n",
      "\t270: TRAIN Loss 0.2799,  Err 0.0276 || VAL Loss 0.2775, Err 0.0230\n",
      "\t280: TRAIN Loss 0.2799,  Err 0.0236 || VAL Loss 0.2773, Err 0.0200\n",
      "\t290: TRAIN Loss 0.2797,  Err 0.0220 || VAL Loss 0.2789, Err 0.0410\n",
      "\t300: TRAIN Loss 0.2793,  Err 0.0134 || VAL Loss 0.2772, Err 0.0160\n",
      "\t310: TRAIN Loss 0.2795,  Err 0.0194 || VAL Loss 0.2773, Err 0.0195\n",
      "\t320: TRAIN Loss 0.2795,  Err 0.0191 || VAL Loss 0.2770, Err 0.0150\n",
      "\t330: TRAIN Loss 0.2821,  Err 0.0775 || VAL Loss 0.2810, Err 0.1260\n",
      "\t340: TRAIN Loss 0.2789,  Err 0.0063 || VAL Loss 0.2769, Err 0.0120\n",
      "\t350: TRAIN Loss 0.2790,  Err 0.0104 || VAL Loss 0.2770, Err 0.0150\n",
      "\t360: TRAIN Loss 0.2791,  Err 0.0131 || VAL Loss 0.2773, Err 0.0175\n",
      "\t370: TRAIN Loss 0.2788,  Err 0.0057 || VAL Loss 0.2768, Err 0.0140\n",
      "\t380: TRAIN Loss 0.2791,  Err 0.0071 || VAL Loss 0.2771, Err 0.0185\n",
      "\t390: TRAIN Loss 0.2790,  Err 0.0097 || VAL Loss 0.2767, Err 0.0100\n",
      "\t400: TRAIN Loss 0.2787,  Err 0.0040 || VAL Loss 0.2767, Err 0.0115\n",
      "\t410: TRAIN Loss 0.2786,  Err 0.0040 || VAL Loss 0.2767, Err 0.0125\n",
      "\t420: TRAIN Loss 0.2802,  Err 0.0432 || VAL Loss 0.2769, Err 0.0115\n",
      "\t430: TRAIN Loss 0.2787,  Err 0.0063 || VAL Loss 0.2767, Err 0.0060\n",
      "\t440: TRAIN Loss 0.2789,  Err 0.0066 || VAL Loss 0.2765, Err 0.0070\n",
      "\t450: TRAIN Loss 0.2802,  Err 0.0339 || VAL Loss 0.2765, Err 0.0085\n",
      "\t460: TRAIN Loss 0.2788,  Err 0.0077 || VAL Loss 0.2764, Err 0.0070\n",
      "\t470: TRAIN Loss 0.2785,  Err 0.0024 || VAL Loss 0.2764, Err 0.0080\n",
      "\t480: TRAIN Loss 0.2784,  Err 0.0018 || VAL Loss 0.2765, Err 0.0070\n",
      "\t490: TRAIN Loss 0.2790,  Err 0.0065 || VAL Loss 0.2765, Err 0.0110\n",
      "\t500: TRAIN Loss 0.2784,  Err 0.0016 || VAL Loss 0.2764, Err 0.0065\n",
      "\t510: TRAIN Loss 0.2793,  Err 0.0176 || VAL Loss 0.2763, Err 0.0055\n",
      "\t520: TRAIN Loss 0.2784,  Err 0.0021 || VAL Loss 0.2763, Err 0.0065\n",
      "\t530: TRAIN Loss 0.2783,  Err 0.0010 || VAL Loss 0.2762, Err 0.0055\n",
      "\t540: TRAIN Loss 0.2784,  Err 0.0014 || VAL Loss 0.2762, Err 0.0055\n",
      "\t550: TRAIN Loss 0.2826,  Err 0.1035 || VAL Loss 0.2763, Err 0.0075\n",
      "\t560: TRAIN Loss 0.2784,  Err 0.0041 || VAL Loss 0.2762, Err 0.0065\n",
      "\t570: TRAIN Loss 0.2789,  Err 0.0147 || VAL Loss 0.2763, Err 0.0060\n",
      "\t580: TRAIN Loss 0.2783,  Err 0.0014 || VAL Loss 0.2762, Err 0.0050\n",
      "\t590: TRAIN Loss 0.2783,  Err 0.0008 || VAL Loss 0.2762, Err 0.0050\n",
      "\t600: TRAIN Loss 0.2782,  Err 0.0014 || VAL Loss 0.2761, Err 0.0040\n",
      "\t610: TRAIN Loss 0.2783,  Err 0.0026 || VAL Loss 0.2762, Err 0.0050\n",
      "\t620: TRAIN Loss 0.2782,  Err 0.0013 || VAL Loss 0.2761, Err 0.0045\n",
      "\t630: TRAIN Loss 0.2785,  Err 0.0051 || VAL Loss 0.2775, Err 0.0125\n",
      "\t640: TRAIN Loss 0.2783,  Err 0.0018 || VAL Loss 0.2761, Err 0.0040\n",
      "\t650: TRAIN Loss 0.2789,  Err 0.0120 || VAL Loss 0.2761, Err 0.0050\n",
      "\t660: TRAIN Loss 0.2789,  Err 0.0059 || VAL Loss 0.2762, Err 0.0080\n",
      "\t670: TRAIN Loss 0.2782,  Err 0.0010 || VAL Loss 0.2761, Err 0.0050\n",
      "\t680: TRAIN Loss 0.2782,  Err 0.0006 || VAL Loss 0.2761, Err 0.0045\n",
      "\t690: TRAIN Loss 0.2783,  Err 0.0018 || VAL Loss 0.2769, Err 0.0070\n",
      "\t700: TRAIN Loss 0.2782,  Err 0.0008 || VAL Loss 0.2761, Err 0.0035\n",
      "\t710: TRAIN Loss 0.2782,  Err 0.0009 || VAL Loss 0.2760, Err 0.0040\n",
      "\t720: TRAIN Loss 0.2782,  Err 0.0013 || VAL Loss 0.2761, Err 0.0025\n",
      "\t730: TRAIN Loss 0.2782,  Err 0.0006 || VAL Loss 0.2761, Err 0.0040\n",
      "\t740: TRAIN Loss 0.2822,  Err 0.0901 || VAL Loss 0.2952, Err 0.3935\n",
      "\t750: TRAIN Loss 0.2782,  Err 0.0009 || VAL Loss 0.2761, Err 0.0035\n",
      "\t760: TRAIN Loss 0.2782,  Err 0.0010 || VAL Loss 0.2761, Err 0.0035\n",
      "\t770: TRAIN Loss 0.2781,  Err 0.0006 || VAL Loss 0.2760, Err 0.0030\n",
      "\t780: TRAIN Loss 0.2782,  Err 0.0009 || VAL Loss 0.2760, Err 0.0040\n",
      "\t790: TRAIN Loss 0.2803,  Err 0.0556 || VAL Loss 0.2777, Err 0.0150\n",
      "\t800: TRAIN Loss 0.2781,  Err 0.0008 || VAL Loss 0.2760, Err 0.0035\n",
      "\t810: TRAIN Loss 0.2800,  Err 0.0484 || VAL Loss 0.2868, Err 0.1785\n",
      "\t820: TRAIN Loss 0.2785,  Err 0.0092 || VAL Loss 0.2760, Err 0.0035\n",
      "\t830: TRAIN Loss 0.2781,  Err 0.0008 || VAL Loss 0.2760, Err 0.0030\n",
      "\t840: TRAIN Loss 0.2781,  Err 0.0008 || VAL Loss 0.2761, Err 0.0040\n",
      "\t850: TRAIN Loss 0.2793,  Err 0.0243 || VAL Loss 0.2764, Err 0.0065\n",
      "\t860: TRAIN Loss 0.2784,  Err 0.0039 || VAL Loss 0.2760, Err 0.0035\n",
      "\t870: TRAIN Loss 0.2781,  Err 0.0014 || VAL Loss 0.2760, Err 0.0050\n",
      "\t880: TRAIN Loss 0.2781,  Err 0.0005 || VAL Loss 0.2760, Err 0.0035\n",
      "\t890: TRAIN Loss 0.2781,  Err 0.0006 || VAL Loss 0.2761, Err 0.0030\n",
      "\t900: TRAIN Loss 0.2781,  Err 0.0005 || VAL Loss 0.2760, Err 0.0035\n",
      "\t910: TRAIN Loss 0.2781,  Err 0.0010 || VAL Loss 0.2760, Err 0.0035\n",
      "\t920: TRAIN Loss 0.2781,  Err 0.0008 || VAL Loss 0.2759, Err 0.0040\n",
      "\t930: TRAIN Loss 0.2781,  Err 0.0005 || VAL Loss 0.2760, Err 0.0045\n",
      "\t940: TRAIN Loss 0.2781,  Err 0.0008 || VAL Loss 0.2759, Err 0.0035\n",
      "\t950: TRAIN Loss 0.2781,  Err 0.0006 || VAL Loss 0.2760, Err 0.0030\n",
      "\t960: TRAIN Loss 0.2790,  Err 0.0182 || VAL Loss 0.2760, Err 0.0035\n",
      "\t970: TRAIN Loss 0.2781,  Err 0.0008 || VAL Loss 0.2760, Err 0.0035\n",
      "\t980: TRAIN Loss 0.2781,  Err 0.0008 || VAL Loss 0.2760, Err 0.0045\n",
      "\t990: TRAIN Loss 0.2780,  Err 0.0006 || VAL Loss 0.2759, Err 0.0025\n"
     ]
    }
   ],
   "source": [
    "hist3=model3.fit(images,labels,epochs=1000,validation_split=0.2,verbose=0,callbacks=[ReportCallback(10)])"
   ]
  },
  {
   "cell_type": "code",
   "execution_count": null,
   "metadata": {},
   "outputs": [],
   "source": []
  },
  {
   "cell_type": "code",
   "execution_count": 64,
   "metadata": {
    "ExecuteTime": {
     "end_time": "2018-10-25T09:11:48.568026Z",
     "start_time": "2018-10-25T09:11:45.942923Z"
    }
   },
   "outputs": [],
   "source": [
    "Y_pred=model3.predict(images)"
   ]
  },
  {
   "cell_type": "code",
   "execution_count": 65,
   "metadata": {
    "ExecuteTime": {
     "end_time": "2018-10-25T09:11:48.579905Z",
     "start_time": "2018-10-25T09:11:48.569956Z"
    }
   },
   "outputs": [
    {
     "data": {
      "text/plain": [
       "0.0016"
      ]
     },
     "execution_count": 65,
     "metadata": {},
     "output_type": "execute_result"
    }
   ],
   "source": [
    "\n",
    "count_error(Y_pred,labels)"
   ]
  },
  {
   "cell_type": "code",
   "execution_count": 66,
   "metadata": {
    "ExecuteTime": {
     "end_time": "2018-10-25T09:11:48.696592Z",
     "start_time": "2018-10-25T09:11:48.581932Z"
    }
   },
   "outputs": [
    {
     "name": "stdout",
     "output_type": "stream",
     "text": [
      "yellow rectangle 0 0.0\n",
      "yellow circle 1 1.0\n",
      "yellow triangle 2 2.0\n",
      "brown rectangle 0 0.0\n",
      "brown circle 0 0.0\n",
      "brown triangle 0 0.0\n",
      "cyan rectangle 0 0.0\n",
      "cyan circle 2 2.0\n",
      "cyan triangle 2 2.0\n"
     ]
    },
    {
     "data": {
      "text/plain": [
       "<matplotlib.image.AxesImage at 0x24e132d2198>"
      ]
     },
     "execution_count": 66,
     "metadata": {},
     "output_type": "execute_result"
    },
    {
     "data": {
      "image/png": "[encoded data removed]",
      "text/plain": [
       "<Figure size 432x288 with 1 Axes>"
      ]
     },
     "metadata": {},
     "output_type": "display_data"
    }
   ],
   "source": [
    "idx=104\n",
    "for i1,color in enumerate(colors):\n",
    "        for i2,shape in enumerate(shapes):\n",
    "            k=i1*len(shapes)+i2\n",
    "            print(color,shape,labels[idx,k],round(Y_pred[idx,k]))\n",
    "plt.imshow(images[idx])"
   ]
  },
  {
   "cell_type": "code",
   "execution_count": 67,
   "metadata": {
    "ExecuteTime": {
     "end_time": "2018-10-25T09:11:48.852175Z",
     "start_time": "2018-10-25T09:11:48.698589Z"
    }
   },
   "outputs": [
    {
     "data": {
      "text/plain": [
       "<matplotlib.legend.Legend at 0x24e133217f0>"
      ]
     },
     "execution_count": 67,
     "metadata": {},
     "output_type": "execute_result"
    },
    {
     "data": {
      "image/png": "[encoded data removed]",
      "text/plain": [
       "<Figure size 432x288 with 1 Axes>"
      ]
     },
     "metadata": {},
     "output_type": "display_data"
    }
   ],
   "source": [
    "plt.plot(hist0.history[\"val_count_err\"],label=\"1 x Conv\")\n",
    "plt.plot(hist1.history[\"val_count_err\"],label=\"2 x Conv\")\n",
    "plt.plot(hist2.history[\"val_count_err\"],label=\"1 x Conv + 1 x Dense\")\n",
    "plt.plot(hist3.history[\"val_count_err\"],label=\"2 x Conv + 1 x Dense\")\n",
    "plt.legend()"
   ]
  },
  {
   "cell_type": "markdown",
   "metadata": {},
   "source": [
    "## Model Test"
   ]
  },
  {
   "cell_type": "code",
   "execution_count": 109,
   "metadata": {
    "ExecuteTime": {
     "end_time": "2018-10-25T10:10:53.966193Z",
     "start_time": "2018-10-25T10:10:53.866117Z"
    }
   },
   "outputs": [],
   "source": [
    "model = keras.Sequential([\n",
    "    \n",
    "    # Convolutional Layers\n",
    "    keras.layers.Conv2D(32, (3, 3),input_shape=(100,100,3), activation='relu',padding=\"same\"),\n",
    "    keras.layers.AveragePooling2D(pool_size=(2, 2)),\n",
    "    keras.layers.Conv2D(32, (3, 3), activation='relu',padding=\"same\"),\n",
    "     keras.layers.AveragePooling2D(pool_size=(50, 50)),\n",
    "    # Dense Layers\n",
    "    keras.layers.Flatten(),\n",
    "    keras.layers.Dense(64, activation=tf.nn.relu),\n",
    "    keras.layers.Dense(9, kernel_initializer=\"zeros\",activation=None),\n",
    "    keras.layers.Lambda(lambda x: K.exp(x))\n",
    "])"
   ]
  },
  {
   "cell_type": "code",
   "execution_count": 110,
   "metadata": {
    "ExecuteTime": {
     "end_time": "2018-10-25T10:10:54.627443Z",
     "start_time": "2018-10-25T10:10:54.540017Z"
    }
   },
   "outputs": [],
   "source": [
    "model.compile(optimizer=optimizer, \n",
    "              loss='poisson',\n",
    "              metrics=[count_err])"
   ]
  },
  {
   "cell_type": "code",
   "execution_count": 111,
   "metadata": {
    "ExecuteTime": {
     "end_time": "2018-10-25T10:10:55.236789Z",
     "start_time": "2018-10-25T10:10:55.219752Z"
    }
   },
   "outputs": [
    {
     "name": "stdout",
     "output_type": "stream",
     "text": [
      "_________________________________________________________________\n",
      "Layer (type)                 Output Shape              Param #   \n",
      "=================================================================\n",
      "conv2d_25 (Conv2D)           (None, 100, 100, 32)      896       \n",
      "_________________________________________________________________\n",
      "average_pooling2d_25 (Averag (None, 50, 50, 32)        0         \n",
      "_________________________________________________________________\n",
      "conv2d_26 (Conv2D)           (None, 50, 50, 32)        9248      \n",
      "_________________________________________________________________\n",
      "average_pooling2d_26 (Averag (None, 1, 1, 32)          0         \n",
      "_________________________________________________________________\n",
      "flatten_14 (Flatten)         (None, 32)                0         \n",
      "_________________________________________________________________\n",
      "dense_26 (Dense)             (None, 64)                2112      \n",
      "_________________________________________________________________\n",
      "dense_27 (Dense)             (None, 9)                 585       \n",
      "_________________________________________________________________\n",
      "lambda_14 (Lambda)           (None, 9)                 0         \n",
      "=================================================================\n",
      "Total params: 12,841\n",
      "Trainable params: 12,841\n",
      "Non-trainable params: 0\n",
      "_________________________________________________________________\n"
     ]
    }
   ],
   "source": [
    "model.summary()"
   ]
  },
  {
   "cell_type": "code",
   "execution_count": 115,
   "metadata": {
    "ExecuteTime": {
     "end_time": "2018-10-25T23:08:38.226073Z",
     "start_time": "2018-10-25T21:33:54.009248Z"
    }
   },
   "outputs": [
    {
     "name": "stdout",
     "output_type": "stream",
     "text": [
      "\t0: TRAIN Loss 0.2777,  Err 0.0020\n",
      "\t10: TRAIN Loss 0.2777,  Err 0.0021\n",
      "\t20: TRAIN Loss 0.2780,  Err 0.0079\n",
      "\t30: TRAIN Loss 0.2777,  Err 0.0015\n",
      "\t40: TRAIN Loss 0.2779,  Err 0.0050\n",
      "\t50: TRAIN Loss 0.2777,  Err 0.0014\n",
      "\t60: TRAIN Loss 0.2825,  Err 0.0757\n",
      "\t70: TRAIN Loss 0.2778,  Err 0.0024\n",
      "\t80: TRAIN Loss 0.2778,  Err 0.0030\n",
      "\t90: TRAIN Loss 0.2786,  Err 0.0247\n",
      "\t100: TRAIN Loss 0.2777,  Err 0.0017\n",
      "\t110: TRAIN Loss 0.2777,  Err 0.0020\n",
      "\t120: TRAIN Loss 0.2777,  Err 0.0019\n",
      "\t130: TRAIN Loss 0.2778,  Err 0.0028\n",
      "\t140: TRAIN Loss 0.2777,  Err 0.0018\n",
      "\t150: TRAIN Loss 0.2777,  Err 0.0019\n",
      "\t160: TRAIN Loss 0.2777,  Err 0.0016\n",
      "\t170: TRAIN Loss 0.2777,  Err 0.0018\n",
      "\t180: TRAIN Loss 0.2777,  Err 0.0018\n",
      "\t190: TRAIN Loss 0.2779,  Err 0.0070\n",
      "\t200: TRAIN Loss 0.2777,  Err 0.0015\n",
      "\t210: TRAIN Loss 0.2781,  Err 0.0077\n",
      "\t220: TRAIN Loss 0.2777,  Err 0.0012\n",
      "\t230: TRAIN Loss 0.2776,  Err 0.0012\n",
      "\t240: TRAIN Loss 0.2776,  Err 0.0007\n",
      "\t250: TRAIN Loss 0.2776,  Err 0.0021\n",
      "\t260: TRAIN Loss 0.2776,  Err 0.0007\n",
      "\t270: TRAIN Loss 0.2776,  Err 0.0010\n",
      "\t280: TRAIN Loss 0.2776,  Err 0.0016\n",
      "\t290: TRAIN Loss 0.2776,  Err 0.0015\n",
      "\t300: TRAIN Loss 0.2777,  Err 0.0017\n",
      "\t310: TRAIN Loss 0.2776,  Err 0.0014\n",
      "\t320: TRAIN Loss 0.2776,  Err 0.0014\n",
      "\t330: TRAIN Loss 0.2778,  Err 0.0036\n",
      "\t340: TRAIN Loss 0.2777,  Err 0.0023\n",
      "\t350: TRAIN Loss 0.2776,  Err 0.0011\n",
      "\t360: TRAIN Loss 0.2776,  Err 0.0016\n",
      "\t370: TRAIN Loss 0.2776,  Err 0.0010\n",
      "\t380: TRAIN Loss 0.2826,  Err 0.1223\n",
      "\t390: TRAIN Loss 0.2776,  Err 0.0009\n",
      "\t400: TRAIN Loss 0.2776,  Err 0.0015\n",
      "\t410: TRAIN Loss 0.2776,  Err 0.0012\n",
      "\t420: TRAIN Loss 0.2776,  Err 0.0014\n",
      "\t430: TRAIN Loss 0.2776,  Err 0.0010\n",
      "\t440: TRAIN Loss 0.2776,  Err 0.0013\n",
      "\t450: TRAIN Loss 0.2776,  Err 0.0010\n",
      "\t460: TRAIN Loss 0.2776,  Err 0.0012\n",
      "\t470: TRAIN Loss 0.2776,  Err 0.0011\n",
      "\t480: TRAIN Loss 0.2776,  Err 0.0010\n",
      "\t490: TRAIN Loss 0.2823,  Err 0.1053\n",
      "\t500: TRAIN Loss 0.2776,  Err 0.0011\n",
      "\t510: TRAIN Loss 0.2776,  Err 0.0015\n",
      "\t520: TRAIN Loss 0.2776,  Err 0.0011\n",
      "\t530: TRAIN Loss 0.2776,  Err 0.0013\n",
      "\t540: TRAIN Loss 0.2776,  Err 0.0010\n",
      "\t550: TRAIN Loss 0.2776,  Err 0.0008\n",
      "\t560: TRAIN Loss 0.2776,  Err 0.0007\n",
      "\t570: TRAIN Loss 0.2776,  Err 0.0015\n",
      "\t580: TRAIN Loss 0.2776,  Err 0.0009\n",
      "\t590: TRAIN Loss 0.2776,  Err 0.0015\n",
      "\t600: TRAIN Loss 0.2785,  Err 0.0245\n",
      "\t610: TRAIN Loss 0.2776,  Err 0.0007\n",
      "\t620: TRAIN Loss 0.2776,  Err 0.0012\n",
      "\t630: TRAIN Loss 0.2776,  Err 0.0012\n",
      "\t640: TRAIN Loss 0.2776,  Err 0.0010\n",
      "\t650: TRAIN Loss 0.2776,  Err 0.0009\n",
      "\t660: TRAIN Loss 0.2777,  Err 0.0042\n",
      "\t670: TRAIN Loss 0.2776,  Err 0.0007\n",
      "\t680: TRAIN Loss 0.2776,  Err 0.0012\n",
      "\t690: TRAIN Loss 0.2776,  Err 0.0010\n",
      "\t700: TRAIN Loss 0.2775,  Err 0.0011\n",
      "\t710: TRAIN Loss 0.2776,  Err 0.0009\n",
      "\t720: TRAIN Loss 0.2776,  Err 0.0015\n",
      "\t730: TRAIN Loss 0.2776,  Err 0.0009\n",
      "\t740: TRAIN Loss 0.2781,  Err 0.0131\n",
      "\t750: TRAIN Loss 0.2776,  Err 0.0008\n",
      "\t760: TRAIN Loss 0.2775,  Err 0.0004\n",
      "\t770: TRAIN Loss 0.2776,  Err 0.0011\n",
      "\t780: TRAIN Loss 0.2775,  Err 0.0012\n",
      "\t790: TRAIN Loss 0.2776,  Err 0.0012\n",
      "\t800: TRAIN Loss 0.2779,  Err 0.0069\n",
      "\t810: TRAIN Loss 0.2775,  Err 0.0013\n",
      "\t820: TRAIN Loss 0.2776,  Err 0.0006\n",
      "\t830: TRAIN Loss 0.2775,  Err 0.0008\n",
      "\t840: TRAIN Loss 0.2792,  Err 0.0414\n",
      "\t850: TRAIN Loss 0.2775,  Err 0.0011\n",
      "\t860: TRAIN Loss 0.2775,  Err 0.0009\n",
      "\t870: TRAIN Loss 0.2775,  Err 0.0008\n",
      "\t880: TRAIN Loss 0.2775,  Err 0.0012\n",
      "\t890: TRAIN Loss 0.2775,  Err 0.0013\n",
      "\t900: TRAIN Loss 0.2775,  Err 0.0012\n",
      "\t910: TRAIN Loss 0.2775,  Err 0.0013\n",
      "\t920: TRAIN Loss 0.2776,  Err 0.0018\n",
      "\t930: TRAIN Loss 0.2775,  Err 0.0014\n",
      "\t940: TRAIN Loss 0.2790,  Err 0.0340\n",
      "\t950: TRAIN Loss 0.2775,  Err 0.0007\n",
      "\t960: TRAIN Loss 0.2776,  Err 0.0007\n",
      "\t970: TRAIN Loss 0.2775,  Err 0.0007\n",
      "\t980: TRAIN Loss 0.2776,  Err 0.0011\n",
      "\t990: TRAIN Loss 0.2775,  Err 0.0008\n"
     ]
    }
   ],
   "source": [
    "hist=model.fit(images,labels,epochs=1000,verbose=0,callbacks=[ReportCallback(10,False)])"
   ]
  },
  {
   "cell_type": "code",
   "execution_count": 116,
   "metadata": {
    "ExecuteTime": {
     "end_time": "2018-10-25T23:08:41.899116Z",
     "start_time": "2018-10-25T23:08:38.227975Z"
    }
   },
   "outputs": [
    {
     "data": {
      "text/plain": [
       "0.0028"
      ]
     },
     "execution_count": 116,
     "metadata": {},
     "output_type": "execute_result"
    }
   ],
   "source": [
    "Y_pred=model.predict(images_test)\n",
    "count_error(Y_pred,labels_test)"
   ]
  },
  {
   "cell_type": "code",
   "execution_count": 120,
   "metadata": {
    "ExecuteTime": {
     "end_time": "2018-10-28T01:05:34.553576Z",
     "start_time": "2018-10-28T01:05:34.425609Z"
    }
   },
   "outputs": [
    {
     "name": "stdout",
     "output_type": "stream",
     "text": [
      "yellow rectangle 5 5.0\n",
      "yellow circle 2 2.0\n",
      "yellow triangle 1 1.0\n",
      "brown rectangle 0 0.0\n",
      "brown circle 0 0.0\n",
      "brown triangle 0 0.0\n",
      "cyan rectangle 1 1.0\n",
      "cyan circle 2 2.0\n",
      "cyan triangle 0 0.0\n"
     ]
    },
    {
     "data": {
      "text/plain": [
       "<matplotlib.image.AxesImage at 0x24e13f1d470>"
      ]
     },
     "execution_count": 120,
     "metadata": {},
     "output_type": "execute_result"
    },
    {
     "data": {
      "image/png": "[encoded data removed]",
      "text/plain": [
       "<Figure size 432x288 with 1 Axes>"
      ]
     },
     "metadata": {},
     "output_type": "display_data"
    }
   ],
   "source": [
    "idx=201\n",
    "for i1,color in enumerate(colors):\n",
    "        for i2,shape in enumerate(shapes):\n",
    "            k=i1*len(shapes)+i2\n",
    "            print(color,shape,labels_test[idx,k],round(Y_pred[idx,k]))\n",
    "plt.imshow(images_test[idx])"
   ]
  },
  {
   "cell_type": "code",
   "execution_count": null,
   "metadata": {},
   "outputs": [],
   "source": []
  }
 ],
 "metadata": {
  "kernelspec": {
   "display_name": "Python 3",
   "language": "python",
   "name": "python3"
  },
  "language_info": {
   "codemirror_mode": {
    "name": "ipython",
    "version": 3
   },
   "file_extension": ".py",
   "mimetype": "text/x-python",
   "name": "python",
   "nbconvert_exporter": "python",
   "pygments_lexer": "ipython3",
   "version": "3.6.4"
  },
  "toc": {
   "base_numbering": 1,
   "nav_menu": {},
   "number_sections": true,
   "sideBar": true,
   "skip_h1_title": true,
   "title_cell": "Table of Contents",
   "title_sidebar": "Contents",
   "toc_cell": false,
   "toc_position": {},
   "toc_section_display": "block",
   "toc_window_display": true
  }
 },
 "nbformat": 4,
 "nbformat_minor": 1
}
