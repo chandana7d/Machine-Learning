{
 "cells": [
  {
   "cell_type": "markdown",
   "metadata": {},
   "source": [
    "# Convolutional Neural Network Example\n",
    "\n",
    "We build a simple, 1 convolutional and 1 dense layer neural  net and test it on MNIST dataset.\n"
   ]
  },
  {
   "cell_type": "markdown",
   "metadata": {},
   "source": [
    "## Preliminaries"
   ]
  },
  {
   "cell_type": "markdown",
   "metadata": {},
   "source": [
    "### Imports"
   ]
  },
  {
   "cell_type": "code",
   "execution_count": 1,
   "metadata": {
    "ExecuteTime": {
     "end_time": "2019-04-22T02:26:30.053786Z",
     "start_time": "2019-04-22T02:26:26.555870Z"
    }
   },
   "outputs": [
    {
     "name": "stdout",
     "output_type": "stream",
     "text": [
      "1.13.1\n"
     ]
    }
   ],
   "source": [
    "import pickle\n",
    "\n",
    "import numpy as np\n",
    "import tensorflow as tf\n",
    "from tensorflow import keras\n",
    "\n",
    "# Helper libraries\n",
    "import numpy as np\n",
    "import matplotlib.pyplot as plt\n",
    "from sklearn.model_selection import train_test_split\n",
    "\n",
    "print(tf.__version__)\n",
    "\n",
    "\n",
    "import matplotlib.pyplot as plt\n",
    "\n",
    "%matplotlib inline\n",
    "\n",
    "import sys\n",
    "sys.path.append(\"../..\")\n",
    "import E4525_ML.mnist as mnist\n",
    "from E4525_ML.notebook_utils import get_logger,LoggingCallback"
   ]
  },
  {
   "cell_type": "code",
   "execution_count": 2,
   "metadata": {
    "ExecuteTime": {
     "end_time": "2019-04-22T02:26:30.060119Z",
     "start_time": "2019-04-22T02:26:30.053786Z"
    }
   },
   "outputs": [],
   "source": [
    "logger=get_logger(\"CNN_Fashion_MNIST.log\")"
   ]
  },
  {
   "cell_type": "code",
   "execution_count": 3,
   "metadata": {
    "ExecuteTime": {
     "end_time": "2019-04-22T02:26:30.812398Z",
     "start_time": "2019-04-22T02:26:30.060119Z"
    }
   },
   "outputs": [],
   "source": [
    "#\n",
    "from tensorflow.keras.backend import set_session\n",
    "\n",
    "config = tf.ConfigProto()\n",
    "config.gpu_options.allow_growth = True  # dynamically grow the memory used on the GPU\n",
    "config.log_device_placement = True  # to log device placement (on which device the operation ran)\n",
    "                                    # (nothing gets printed in Jupyter, only if you run it standalone)\n",
    "\n",
    "sess = tf.Session(config=config)\n",
    "\n",
    "set_session(sess)  # set this TensorFlow session as the default session for Keras"
   ]
  },
  {
   "cell_type": "markdown",
   "metadata": {},
   "source": [
    "## Data"
   ]
  },
  {
   "cell_type": "code",
   "execution_count": 4,
   "metadata": {
    "ExecuteTime": {
     "end_time": "2019-04-22T02:26:30.819970Z",
     "start_time": "2019-04-22T02:26:30.812398Z"
    }
   },
   "outputs": [],
   "source": [
    "raw_data_dir=\"../../raw/fashion\"\n",
    "data_dir=\"../../data/digits\""
   ]
  },
  {
   "cell_type": "code",
   "execution_count": 5,
   "metadata": {
    "ExecuteTime": {
     "end_time": "2019-04-22T02:26:31.544484Z",
     "start_time": "2019-04-22T02:26:30.819970Z"
    }
   },
   "outputs": [
    {
     "name": "stdout",
     "output_type": "stream",
     "text": [
      "(60000, 28, 28) (60000,) (10000, 28, 28) (10000,)\n"
     ]
    }
   ],
   "source": [
    "images_filename=raw_data_dir+\"/train-images-idx3-ubyte.gz\"\n",
    "labels_filename=raw_data_dir+\"/train-labels-idx1-ubyte.gz\"\n",
    "\n",
    "test_images_filename=raw_data_dir+\"/t10k-images-idx3-ubyte.gz\"\n",
    "test_labels_filename=raw_data_dir+\"/t10k-labels-idx1-ubyte.gz\"\n",
    "\n",
    "images=mnist.read_images(images_filename)\n",
    "labels=mnist.read_labels(labels_filename)\n",
    "\n",
    "test_images=mnist.read_images(test_images_filename)\n",
    "test_labels=mnist.read_labels(test_labels_filename)\n",
    "    \n",
    "print(images.shape,labels.shape,test_images.shape,test_labels.shape)"
   ]
  },
  {
   "cell_type": "code",
   "execution_count": 6,
   "metadata": {
    "ExecuteTime": {
     "end_time": "2019-04-22T02:26:31.728194Z",
     "start_time": "2019-04-22T02:26:31.544484Z"
    }
   },
   "outputs": [
    {
     "name": "stdout",
     "output_type": "stream",
     "text": [
      "(48000, 28, 28) (12000, 28, 28)\n"
     ]
    }
   ],
   "source": [
    "images_train,images_val,labels_train,labels_val=train_test_split(images,labels,test_size=0.2)\n",
    "print(images_train.shape,images_val.shape)"
   ]
  },
  {
   "cell_type": "markdown",
   "metadata": {},
   "source": [
    "## CNN Model"
   ]
  },
  {
   "cell_type": "code",
   "execution_count": 7,
   "metadata": {
    "ExecuteTime": {
     "end_time": "2019-04-22T02:26:31.967320Z",
     "start_time": "2019-04-22T02:26:31.728194Z"
    }
   },
   "outputs": [
    {
     "name": "stdout",
     "output_type": "stream",
     "text": [
      "WARNING:tensorflow:From C:\\ProgramData\\Anaconda3\\lib\\site-packages\\tensorflow\\python\\ops\\resource_variable_ops.py:435: colocate_with (from tensorflow.python.framework.ops) is deprecated and will be removed in a future version.\n",
      "Instructions for updating:\n",
      "Colocations handled automatically by placer.\n",
      "2019-04-21 22:26:31,776|From C:\\ProgramData\\Anaconda3\\lib\\site-packages\\tensorflow\\python\\ops\\resource_variable_ops.py:435: colocate_with (from tensorflow.python.framework.ops) is deprecated and will be removed in a future version.\n",
      "Instructions for updating:\n",
      "Colocations handled automatically by placer.\n",
      "WARNING:tensorflow:From C:\\ProgramData\\Anaconda3\\lib\\site-packages\\tensorflow\\python\\keras\\layers\\core.py:143: calling dropout (from tensorflow.python.ops.nn_ops) with keep_prob is deprecated and will be removed in a future version.\n",
      "Instructions for updating:\n",
      "Please use `rate` instead of `keep_prob`. Rate should be set to `rate = 1 - keep_prob`.\n",
      "2019-04-21 22:26:31,856|From C:\\ProgramData\\Anaconda3\\lib\\site-packages\\tensorflow\\python\\keras\\layers\\core.py:143: calling dropout (from tensorflow.python.ops.nn_ops) with keep_prob is deprecated and will be removed in a future version.\n",
      "Instructions for updating:\n",
      "Please use `rate` instead of `keep_prob`. Rate should be set to `rate = 1 - keep_prob`.\n"
     ]
    }
   ],
   "source": [
    "model = keras.Sequential([\n",
    "    # keras needs  (Rows x Cols x Channels)\n",
    "    # we must pass input shape, summaries will not work later\n",
    "    keras.layers.Reshape((28,28,1),input_shape=(28,28,1)),\n",
    "    \n",
    "    \n",
    "    # Convolutional Layers\n",
    "    keras.layers.Conv2D(40, (3, 3), activation='relu',padding=\"same\"),\n",
    "    keras.layers.Conv2D(40, (3, 3), activation='relu',padding=\"same\"),\n",
    "    keras.layers.MaxPooling2D(pool_size=(2, 2)),\n",
    "    keras.layers.Conv2D(40, (3, 3), activation='relu',padding=\"same\"),\n",
    "    keras.layers.Conv2D(40, (3, 3), activation='relu',padding=\"same\"),\n",
    "    keras.layers.MaxPooling2D(pool_size=(2, 2)),\n",
    "    keras.layers.Dropout(0.5),\n",
    "    \n",
    "    # Dense Layers\n",
    "    keras.layers.Flatten(),\n",
    "    keras.layers.Dense(200,activation=tf.nn.relu),\n",
    "    keras.layers.Dropout(0.25),\n",
    "    keras.layers.Dense(100, activation=tf.nn.relu),\n",
    "    keras.layers.Dropout(0.25),\n",
    "    keras.layers.Dense(10, activation=tf.nn.softmax)\n",
    "])"
   ]
  },
  {
   "cell_type": "code",
   "execution_count": 8,
   "metadata": {
    "ExecuteTime": {
     "end_time": "2019-04-22T02:26:32.080562Z",
     "start_time": "2019-04-22T02:26:31.967320Z"
    }
   },
   "outputs": [],
   "source": [
    "model.compile(optimizer=keras.optimizers.Adam(decay=2e-6), \n",
    "              loss='sparse_categorical_crossentropy',\n",
    "              metrics=['accuracy'])"
   ]
  },
  {
   "cell_type": "code",
   "execution_count": 9,
   "metadata": {
    "ExecuteTime": {
     "end_time": "2019-04-22T02:26:32.092171Z",
     "start_time": "2019-04-22T02:26:32.080562Z"
    }
   },
   "outputs": [
    {
     "name": "stdout",
     "output_type": "stream",
     "text": [
      "Trainable parameters: 457,030\n"
     ]
    }
   ],
   "source": [
    "\n",
    "print('Trainable parameters: {:,}'.format(model.count_params()))"
   ]
  },
  {
   "cell_type": "code",
   "execution_count": 10,
   "metadata": {
    "ExecuteTime": {
     "end_time": "2019-04-22T02:26:32.104173Z",
     "start_time": "2019-04-22T02:26:32.092171Z"
    }
   },
   "outputs": [
    {
     "name": "stdout",
     "output_type": "stream",
     "text": [
      "_________________________________________________________________\n",
      "Layer (type)                 Output Shape              Param #   \n",
      "=================================================================\n",
      "reshape (Reshape)            (None, 28, 28, 1)         0         \n",
      "_________________________________________________________________\n",
      "conv2d (Conv2D)              (None, 28, 28, 40)        400       \n",
      "_________________________________________________________________\n",
      "conv2d_1 (Conv2D)            (None, 28, 28, 40)        14440     \n",
      "_________________________________________________________________\n",
      "max_pooling2d (MaxPooling2D) (None, 14, 14, 40)        0         \n",
      "_________________________________________________________________\n",
      "conv2d_2 (Conv2D)            (None, 14, 14, 40)        14440     \n",
      "_________________________________________________________________\n",
      "conv2d_3 (Conv2D)            (None, 14, 14, 40)        14440     \n",
      "_________________________________________________________________\n",
      "max_pooling2d_1 (MaxPooling2 (None, 7, 7, 40)          0         \n",
      "_________________________________________________________________\n",
      "dropout (Dropout)            (None, 7, 7, 40)          0         \n",
      "_________________________________________________________________\n",
      "flatten (Flatten)            (None, 1960)              0         \n",
      "_________________________________________________________________\n",
      "dense (Dense)                (None, 200)               392200    \n",
      "_________________________________________________________________\n",
      "dropout_1 (Dropout)          (None, 200)               0         \n",
      "_________________________________________________________________\n",
      "dense_1 (Dense)              (None, 100)               20100     \n",
      "_________________________________________________________________\n",
      "dropout_2 (Dropout)          (None, 100)               0         \n",
      "_________________________________________________________________\n",
      "dense_2 (Dense)              (None, 10)                1010      \n",
      "=================================================================\n",
      "Total params: 457,030\n",
      "Trainable params: 457,030\n",
      "Non-trainable params: 0\n",
      "_________________________________________________________________\n"
     ]
    }
   ],
   "source": [
    "model.summary()"
   ]
  },
  {
   "cell_type": "markdown",
   "metadata": {},
   "source": [
    "## Training"
   ]
  },
  {
   "cell_type": "code",
   "execution_count": 11,
   "metadata": {
    "ExecuteTime": {
     "end_time": "2019-04-22T02:26:32.112172Z",
     "start_time": "2019-04-22T02:26:32.104173Z"
    }
   },
   "outputs": [],
   "source": [
    "epochs=50"
   ]
  },
  {
   "cell_type": "code",
   "execution_count": 12,
   "metadata": {
    "ExecuteTime": {
     "end_time": "2019-04-22T02:36:50.925549Z",
     "start_time": "2019-04-22T02:26:32.112172Z"
    }
   },
   "outputs": [
    {
     "name": "stdout",
     "output_type": "stream",
     "text": [
      "2019-04-21 22:26:47,395|\t0: TRAIN loss 0.5293,  acc 0.8072  ||  VAL loss 0.3348, acc 0.8853\n",
      "2019-04-21 22:28:50,922|\t10: TRAIN loss 0.1871,  acc 0.9325  ||  VAL loss 0.2083, acc 0.9247\n",
      "2019-04-21 22:30:54,150|\t20: TRAIN loss 0.1483,  acc 0.9448  ||  VAL loss 0.1966, acc 0.9323\n",
      "2019-04-21 22:32:57,108|\t30: TRAIN loss 0.1245,  acc 0.9544  ||  VAL loss 0.2107, acc 0.9344\n",
      "2019-04-21 22:35:00,082|\t40: TRAIN loss 0.1078,  acc 0.9601  ||  VAL loss 0.2128, acc 0.9334\n"
     ]
    }
   ],
   "source": [
    "result0=model.fit(images_train.reshape(-1,28,28,1), labels_train,\n",
    "                    verbose=0,callbacks=[LoggingCallback(10,logger)],\n",
    "                    epochs=epochs,\n",
    "                    validation_data=(images_val.reshape(-1,28,28,1),labels_val),\n",
    "                    \n",
    "                   )"
   ]
  },
  {
   "cell_type": "code",
   "execution_count": 13,
   "metadata": {
    "ExecuteTime": {
     "end_time": "2019-04-22T02:36:51.164437Z",
     "start_time": "2019-04-22T02:36:50.925549Z"
    }
   },
   "outputs": [
    {
     "data": {
      "text/plain": [
       "<matplotlib.legend.Legend at 0x208abe329b0>"
      ]
     },
     "execution_count": 13,
     "metadata": {},
     "output_type": "execute_result"
    },
    {
     "data": {
      "image/png": "[encoded data removed]",
      "text/plain": [
       "<Figure size 864x432 with 2 Axes>"
      ]
     },
     "metadata": {},
     "output_type": "display_data"
    }
   ],
   "source": [
    "history=result0.history\n",
    "plt.figure(figsize=(12,6))\n",
    "plt.subplot(1, 2, 1)\n",
    "plt.plot(history[\"loss\"],label=\"loss\")\n",
    "plt.plot(history[\"val_loss\"],label=\"valuation loss\")\n",
    "plt.title('Loss')\n",
    "plt.xlabel('epoch')\n",
    "plt.legend()\n",
    "\n",
    "plt.subplot(1, 2, 2)\n",
    "plt.plot(history[\"acc\"],label=\"accuracy\")\n",
    "plt.plot(history[\"val_acc\"],label=\"valuation accuracy\")\n",
    "plt.title('Accuracy')\n",
    "plt.xlabel('epoch')\n",
    "plt.legend()"
   ]
  },
  {
   "cell_type": "code",
   "execution_count": 14,
   "metadata": {
    "ExecuteTime": {
     "end_time": "2019-04-22T02:36:52.023666Z",
     "start_time": "2019-04-22T02:36:51.164437Z"
    }
   },
   "outputs": [
    {
     "data": {
      "text/plain": [
       "0.9341666666666667"
      ]
     },
     "execution_count": 14,
     "metadata": {},
     "output_type": "execute_result"
    }
   ],
   "source": [
    "Y_pred=np.argmax(model.predict(images_val.reshape(-1,28,28,1)),axis=1)\n",
    "np.mean(Y_pred==labels_val)"
   ]
  },
  {
   "cell_type": "markdown",
   "metadata": {},
   "source": [
    "## Testing"
   ]
  },
  {
   "cell_type": "code",
   "execution_count": 15,
   "metadata": {
    "ExecuteTime": {
     "end_time": "2019-04-22T02:49:21.003459Z",
     "start_time": "2019-04-22T02:36:52.023666Z"
    }
   },
   "outputs": [
    {
     "name": "stdout",
     "output_type": "stream",
     "text": [
      "2019-04-21 22:37:07,053|\t0: TRAIN loss 0.1454,  acc 0.9519  ||  VAL loss 0.2182, acc 0.9304\n",
      "2019-04-21 22:39:36,880|\t10: TRAIN loss 0.1122,  acc 0.9599  ||  VAL loss 0.2088, acc 0.9350\n",
      "2019-04-21 22:42:06,674|\t20: TRAIN loss 0.1013,  acc 0.9642  ||  VAL loss 0.2277, acc 0.9361\n",
      "2019-04-21 22:44:36,371|\t30: TRAIN loss 0.0953,  acc 0.9668  ||  VAL loss 0.2298, acc 0.9335\n",
      "2019-04-21 22:47:06,331|\t40: TRAIN loss 0.0837,  acc 0.9711  ||  VAL loss 0.2454, acc 0.9351\n"
     ]
    }
   ],
   "source": [
    "result=model.fit(images.reshape(-1,28,28,1), labels,\n",
    "                    epochs=epochs,\n",
    "                    verbose=0,callbacks=[LoggingCallback(10,logger)],\n",
    "                    validation_data=(test_images.reshape(-1,28,28,1),test_labels)\n",
    "                   )"
   ]
  },
  {
   "cell_type": "code",
   "execution_count": 16,
   "metadata": {
    "ExecuteTime": {
     "end_time": "2019-04-22T02:49:21.229341Z",
     "start_time": "2019-04-22T02:49:21.003459Z"
    }
   },
   "outputs": [
    {
     "data": {
      "text/plain": [
       "<matplotlib.legend.Legend at 0x208abed4fd0>"
      ]
     },
     "execution_count": 16,
     "metadata": {},
     "output_type": "execute_result"
    },
    {
     "data": {
      "image/png": "[encoded data removed]",
      "text/plain": [
       "<Figure size 864x432 with 2 Axes>"
      ]
     },
     "metadata": {},
     "output_type": "display_data"
    }
   ],
   "source": [
    "history=result.history\n",
    "plt.figure(figsize=(12,6))\n",
    "plt.subplot(1, 2, 1)\n",
    "plt.plot(history[\"loss\"],label=\"loss\")\n",
    "plt.plot(history[\"val_loss\"],label=\"valuation loss\")\n",
    "plt.title('Loss')\n",
    "plt.xlabel('epoch')\n",
    "plt.legend()\n",
    "\n",
    "plt.subplot(1, 2, 2)\n",
    "plt.plot(history[\"acc\"],label=\"accuracy\")\n",
    "plt.plot(history[\"val_acc\"],label=\"valuation accuracy\")\n",
    "plt.title('Accuracy')\n",
    "plt.xlabel('epoch')\n",
    "plt.legend()"
   ]
  },
  {
   "cell_type": "code",
   "execution_count": 17,
   "metadata": {
    "ExecuteTime": {
     "end_time": "2019-04-22T02:49:21.889840Z",
     "start_time": "2019-04-22T02:49:21.229341Z"
    }
   },
   "outputs": [
    {
     "data": {
      "text/plain": [
       "0.935"
      ]
     },
     "execution_count": 17,
     "metadata": {},
     "output_type": "execute_result"
    }
   ],
   "source": [
    "Y_pred=np.argmax(model.predict(test_images.reshape(-1,28,28,1)),axis=1)\n",
    "np.mean(Y_pred==test_labels)"
   ]
  },
  {
   "cell_type": "code",
   "execution_count": null,
   "metadata": {},
   "outputs": [],
   "source": []
  }
 ],
 "metadata": {
  "kernelspec": {
   "display_name": "Python 3",
   "language": "python",
   "name": "python3"
  },
  "language_info": {
   "codemirror_mode": {
    "name": "ipython",
    "version": 3
   },
   "file_extension": ".py",
   "mimetype": "text/x-python",
   "name": "python",
   "nbconvert_exporter": "python",
   "pygments_lexer": "ipython3",
   "version": "3.6.4"
  },
  "toc": {
   "base_numbering": 1,
   "nav_menu": {},
   "number_sections": true,
   "sideBar": true,
   "skip_h1_title": true,
   "title_cell": "Table of Contents",
   "title_sidebar": "Contents",
   "toc_cell": false,
   "toc_position": {},
   "toc_section_display": "block",
   "toc_window_display": true
  }
 },
 "nbformat": 4,
 "nbformat_minor": 1
}
