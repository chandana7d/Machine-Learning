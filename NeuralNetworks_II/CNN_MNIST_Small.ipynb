{
 "cells": [
  {
   "cell_type": "markdown",
   "metadata": {},
   "source": [
    "# Convolutional Neural Network Example\n",
    "\n",
    "We build a simple, 1 convolutional and 1 dense layer neural  net and test it on MNIST dataset.\n"
   ]
  },
  {
   "cell_type": "markdown",
   "metadata": {},
   "source": [
    "## Preliminaries"
   ]
  },
  {
   "cell_type": "markdown",
   "metadata": {},
   "source": [
    "### Imports"
   ]
  },
  {
   "cell_type": "code",
   "execution_count": 1,
   "metadata": {
    "ExecuteTime": {
     "end_time": "2018-11-13T10:51:46.439105Z",
     "start_time": "2018-11-13T10:51:43.419471Z"
    }
   },
   "outputs": [
    {
     "name": "stderr",
     "output_type": "stream",
     "text": [
      "/home/manel/anaconda3/lib/python3.6/site-packages/h5py/__init__.py:36: FutureWarning: Conversion of the second argument of issubdtype from `float` to `np.floating` is deprecated. In future, it will be treated as `np.float64 == np.dtype(float).type`.\n",
      "  from ._conv import register_converters as _register_converters\n"
     ]
    },
    {
     "name": "stdout",
     "output_type": "stream",
     "text": [
      "1.11.0\n"
     ]
    }
   ],
   "source": [
    "import pickle\n",
    "\n",
    "import numpy as np\n",
    "import tensorflow as tf\n",
    "from tensorflow import keras\n",
    "\n",
    "# Helper libraries\n",
    "import numpy as np\n",
    "import matplotlib.pyplot as plt\n",
    "\n",
    "print(tf.__version__)\n",
    "\n",
    "import matplotlib.pyplot as plt\n",
    "\n",
    "%matplotlib inline\n",
    "\n",
    "import sys\n",
    "sys.path.append(\"..\")\n",
    "import E4525_ML.mnist as mnist\n",
    "from E4525_ML.TFClassifier import TFClassifier"
   ]
  },
  {
   "cell_type": "code",
   "execution_count": 2,
   "metadata": {
    "ExecuteTime": {
     "end_time": "2018-11-13T10:51:47.844971Z",
     "start_time": "2018-11-13T10:51:46.439105Z"
    }
   },
   "outputs": [],
   "source": [
    "#\n",
    "from tensorflow.keras.backend import set_session\n",
    "\n",
    "config = tf.ConfigProto()\n",
    "config.gpu_options.allow_growth = True  # dynamically grow the memory used on the GPU\n",
    "config.log_device_placement = True  # to log device placement (on which device the operation ran)\n",
    "                                    # (nothing gets printed in Jupyter, only if you run it standalone)\n",
    "\n",
    "sess = tf.Session(config=config)\n",
    "\n",
    "set_session(sess)  # set this TensorFlow session as the default session for Keras"
   ]
  },
  {
   "cell_type": "code",
   "execution_count": 3,
   "metadata": {
    "ExecuteTime": {
     "end_time": "2018-11-13T10:51:47.851115Z",
     "start_time": "2018-11-13T10:51:47.844971Z"
    }
   },
   "outputs": [],
   "source": [
    "raw_data_dir=\"../raw/MNIST\"\n",
    "data_dir=\"../data/digits\""
   ]
  },
  {
   "cell_type": "code",
   "execution_count": 4,
   "metadata": {
    "ExecuteTime": {
     "end_time": "2018-11-13T10:51:49.168475Z",
     "start_time": "2018-11-13T10:51:48.434272Z"
    }
   },
   "outputs": [
    {
     "name": "stdout",
     "output_type": "stream",
     "text": [
      "(60000, 28, 28) (60000,) (10000, 28, 28) (10000,)\n"
     ]
    }
   ],
   "source": [
    "images_filename=raw_data_dir+\"/train-images-idx3-ubyte.gz\"\n",
    "labels_filename=raw_data_dir+\"/train-labels-idx1-ubyte.gz\"\n",
    "\n",
    "test_images_filename=raw_data_dir+\"/t10k-images-idx3-ubyte.gz\"\n",
    "test_labels_filename=raw_data_dir+\"/t10k-labels-idx1-ubyte.gz\"\n",
    "\n",
    "images=mnist.read_images(images_filename)\n",
    "labels=mnist.read_labels(labels_filename)\n",
    "\n",
    "test_images=mnist.read_images(test_images_filename)\n",
    "test_labels=mnist.read_labels(test_labels_filename)\n",
    "    \n",
    "print(images.shape,labels.shape,test_images.shape,test_labels.shape)"
   ]
  },
  {
   "cell_type": "code",
   "execution_count": 5,
   "metadata": {
    "ExecuteTime": {
     "end_time": "2018-11-13T10:52:00.493610Z",
     "start_time": "2018-11-13T10:52:00.384262Z"
    }
   },
   "outputs": [],
   "source": [
    "model = keras.Sequential([\n",
    "    # keras needs  (Rows x Cols x Channels)\n",
    "    # we must pass input shape, summaries will not work later\n",
    "    keras.layers.Reshape((28,28,1),input_shape=(28,28)),\n",
    "    \n",
    "    \n",
    "    # Convolutional Layers\n",
    "    keras.layers.Conv2D(10, (5, 5), activation='relu',padding=\"same\"),\n",
    "    keras.layers.MaxPooling2D(pool_size=(2, 2)),\n",
    "    keras.layers.Conv2D(20, (5, 5), activation='relu',padding=\"same\"),\n",
    "    keras.layers.MaxPooling2D(pool_size=(2, 2)),\n",
    "    keras.layers.Dropout(0.5),\n",
    "    \n",
    "    # Dense Layers\n",
    "    keras.layers.Flatten(),\n",
    "    keras.layers.Dense(50, activation=tf.nn.relu),\n",
    "    keras.layers.Dense(10, activation=tf.nn.softmax)\n",
    "])"
   ]
  },
  {
   "cell_type": "code",
   "execution_count": 6,
   "metadata": {
    "ExecuteTime": {
     "end_time": "2018-11-13T10:52:01.132814Z",
     "start_time": "2018-11-13T10:52:01.023440Z"
    }
   },
   "outputs": [],
   "source": [
    "model.compile(optimizer=tf.train.AdamOptimizer(), \n",
    "              loss='sparse_categorical_crossentropy',\n",
    "              metrics=['accuracy'])"
   ]
  },
  {
   "cell_type": "code",
   "execution_count": 7,
   "metadata": {
    "ExecuteTime": {
     "end_time": "2018-11-13T10:52:01.587230Z",
     "start_time": "2018-11-13T10:52:01.571609Z"
    }
   },
   "outputs": [
    {
     "name": "stdout",
     "output_type": "stream",
     "text": [
      "Trainable parameters: 54,840\n"
     ]
    }
   ],
   "source": [
    "\n",
    "print('Trainable parameters: {:,}'.format(model.count_params()))"
   ]
  },
  {
   "cell_type": "code",
   "execution_count": 8,
   "metadata": {
    "ExecuteTime": {
     "end_time": "2018-11-13T10:52:02.204828Z",
     "start_time": "2018-11-13T10:52:02.189195Z"
    }
   },
   "outputs": [
    {
     "name": "stdout",
     "output_type": "stream",
     "text": [
      "_________________________________________________________________\n",
      "Layer (type)                 Output Shape              Param #   \n",
      "=================================================================\n",
      "reshape (Reshape)            (None, 28, 28, 1)         0         \n",
      "_________________________________________________________________\n",
      "conv2d (Conv2D)              (None, 28, 28, 10)        260       \n",
      "_________________________________________________________________\n",
      "max_pooling2d (MaxPooling2D) (None, 14, 14, 10)        0         \n",
      "_________________________________________________________________\n",
      "conv2d_1 (Conv2D)            (None, 14, 14, 20)        5020      \n",
      "_________________________________________________________________\n",
      "max_pooling2d_1 (MaxPooling2 (None, 7, 7, 20)          0         \n",
      "_________________________________________________________________\n",
      "dropout (Dropout)            (None, 7, 7, 20)          0         \n",
      "_________________________________________________________________\n",
      "flatten (Flatten)            (None, 980)               0         \n",
      "_________________________________________________________________\n",
      "dense (Dense)                (None, 50)                49050     \n",
      "_________________________________________________________________\n",
      "dense_1 (Dense)              (None, 10)                510       \n",
      "=================================================================\n",
      "Total params: 54,840\n",
      "Trainable params: 54,840\n",
      "Non-trainable params: 0\n",
      "_________________________________________________________________\n"
     ]
    }
   ],
   "source": [
    "model.summary()"
   ]
  },
  {
   "cell_type": "code",
   "execution_count": 9,
   "metadata": {
    "ExecuteTime": {
     "end_time": "2018-11-13T10:52:51.230120Z",
     "start_time": "2018-11-13T10:52:02.803779Z"
    }
   },
   "outputs": [
    {
     "name": "stdout",
     "output_type": "stream",
     "text": [
      "Train on 48000 samples, validate on 12000 samples\n",
      "Epoch 1/10\n",
      "48000/48000 [==============================] - 51s 1ms/step - loss: 0.2447 - acc: 0.9237 - val_loss: 0.0694 - val_acc: 0.9805\n",
      "Epoch 2/10\n",
      "48000/48000 [==============================] - 49s 1ms/step - loss: 0.0944 - acc: 0.9703 - val_loss: 0.0500 - val_acc: 0.9847\n",
      "Epoch 3/10\n",
      "48000/48000 [==============================] - 46s 951us/step - loss: 0.0750 - acc: 0.9765 - val_loss: 0.0472 - val_acc: 0.9853\n",
      "Epoch 4/10\n",
      "48000/48000 [==============================] - 46s 958us/step - loss: 0.0635 - acc: 0.9795 - val_loss: 0.0402 - val_acc: 0.9887\n",
      "Epoch 5/10\n",
      "48000/48000 [==============================] - 47s 980us/step - loss: 0.0571 - acc: 0.9812 - val_loss: 0.0368 - val_acc: 0.9897\n",
      "Epoch 6/10\n",
      "48000/48000 [==============================] - 46s 962us/step - loss: 0.0534 - acc: 0.9832 - val_loss: 0.0349 - val_acc: 0.9896\n",
      "Epoch 7/10\n",
      "48000/48000 [==============================] - 47s 980us/step - loss: 0.0486 - acc: 0.9842 - val_loss: 0.0325 - val_acc: 0.9903\n",
      "Epoch 8/10\n",
      "48000/48000 [==============================] - 47s 971us/step - loss: 0.0432 - acc: 0.9861 - val_loss: 0.0291 - val_acc: 0.9906\n",
      "Epoch 9/10\n",
      "48000/48000 [==============================] - 47s 969us/step - loss: 0.0399 - acc: 0.9870 - val_loss: 0.0306 - val_acc: 0.9905\n",
      "Epoch 10/10\n",
      "48000/48000 [==============================] - 47s 974us/step - loss: 0.0403 - acc: 0.9871 - val_loss: 0.0298 - val_acc: 0.9912\n"
     ]
    },
    {
     "data": {
      "text/plain": [
       "<tensorflow.python.keras.callbacks.History at 0x7fc06ca732e8>"
      ]
     },
     "execution_count": 9,
     "metadata": {},
     "output_type": "execute_result"
    }
   ],
   "source": [
    "model.fit(images, labels, epochs=10,validation_split=0.2)"
   ]
  },
  {
   "cell_type": "code",
   "execution_count": 10,
   "metadata": {
    "ExecuteTime": {
     "end_time": "2018-11-13T10:52:51.930151Z",
     "start_time": "2018-11-13T10:52:51.230120Z"
    }
   },
   "outputs": [],
   "source": [
    "Y_pred=np.argmax(model.predict(test_images),axis=1)"
   ]
  },
  {
   "cell_type": "code",
   "execution_count": 11,
   "metadata": {
    "ExecuteTime": {
     "end_time": "2018-11-13T10:52:51.945771Z",
     "start_time": "2018-11-13T10:52:51.930151Z"
    }
   },
   "outputs": [
    {
     "data": {
      "text/plain": [
       "0.9923"
      ]
     },
     "execution_count": 11,
     "metadata": {},
     "output_type": "execute_result"
    }
   ],
   "source": [
    "np.mean(Y_pred==test_labels)"
   ]
  },
  {
   "cell_type": "markdown",
   "metadata": {
    "ExecuteTime": {
     "end_time": "2018-04-20T08:09:53.913676Z",
     "start_time": "2018-04-20T08:09:53.909666Z"
    }
   },
   "source": [
    "## Classification of my own hand-written digits."
   ]
  },
  {
   "cell_type": "code",
   "execution_count": 16,
   "metadata": {
    "ExecuteTime": {
     "end_time": "2018-11-13T10:52:51.962530Z",
     "start_time": "2018-11-13T10:52:51.945771Z"
    }
   },
   "outputs": [],
   "source": [
    "digits_filename=data_dir+\"/digits.p\"\n",
    "digits_file=open(digits_filename,\"rb\")\n",
    "digits,digit_labels=pickle.load(digits_file)"
   ]
  },
  {
   "cell_type": "code",
   "execution_count": 17,
   "metadata": {
    "ExecuteTime": {
     "end_time": "2018-11-13T10:52:51.996803Z",
     "start_time": "2018-11-13T10:52:51.962530Z"
    }
   },
   "outputs": [
    {
     "name": "stdout",
     "output_type": "stream",
     "text": [
      "0.88\n"
     ]
    }
   ],
   "source": [
    "# Use the model to predict the images class\n",
    "Y_pred  = np.argmax(model.predict(digits),axis=1)\n",
    "print(np.mean(Y_pred == digit_labels))"
   ]
  },
  {
   "cell_type": "code",
   "execution_count": 18,
   "metadata": {
    "ExecuteTime": {
     "end_time": "2018-11-13T10:52:52.015931Z",
     "start_time": "2018-11-13T10:52:51.996803Z"
    }
   },
   "outputs": [],
   "source": [
    "antialiased_digits_filename=data_dir+\"/antialiased_digits.p\"\n",
    "antialiased_digits_file=open(antialiased_digits_filename,\"rb\")\n",
    "antialiased_digits,antialiased_labels=pickle.load(antialiased_digits_file)"
   ]
  },
  {
   "cell_type": "code",
   "execution_count": 19,
   "metadata": {
    "ExecuteTime": {
     "end_time": "2018-11-13T10:52:52.035320Z",
     "start_time": "2018-11-13T10:52:52.015931Z"
    }
   },
   "outputs": [
    {
     "name": "stdout",
     "output_type": "stream",
     "text": [
      "0.89\n"
     ]
    }
   ],
   "source": [
    "# Use the model to predict the images class\n",
    "Y_pred  = np.argmax(model.predict(antialiased_digits),axis=1)\n",
    "print(np.mean(Y_pred == antialiased_labels))"
   ]
  },
  {
   "cell_type": "code",
   "execution_count": null,
   "metadata": {},
   "outputs": [],
   "source": []
  },
  {
   "cell_type": "code",
   "execution_count": null,
   "metadata": {},
   "outputs": [],
   "source": []
  }
 ],
 "metadata": {
  "kernelspec": {
   "display_name": "Python 3",
   "language": "python",
   "name": "python3"
  },
  "language_info": {
   "codemirror_mode": {
    "name": "ipython",
    "version": 3
   },
   "file_extension": ".py",
   "mimetype": "text/x-python",
   "name": "python",
   "nbconvert_exporter": "python",
   "pygments_lexer": "ipython3",
   "version": "3.6.4"
  },
  "toc": {
   "base_numbering": 1,
   "nav_menu": {},
   "number_sections": true,
   "sideBar": true,
   "skip_h1_title": true,
   "title_cell": "Table of Contents",
   "title_sidebar": "Contents",
   "toc_cell": false,
   "toc_position": {},
   "toc_section_display": "block",
   "toc_window_display": false
  }
 },
 "nbformat": 4,
 "nbformat_minor": 1
}
