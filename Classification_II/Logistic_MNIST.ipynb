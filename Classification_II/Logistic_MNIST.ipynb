{
 "cells": [
  {
   "cell_type": "markdown",
   "metadata": {},
   "source": [
    "# Logistic Classifier for MNIST data"
   ]
  },
  {
   "cell_type": "markdown",
   "metadata": {},
   "source": [
    "## Preliminaries"
   ]
  },
  {
   "cell_type": "markdown",
   "metadata": {},
   "source": [
    "### Imports"
   ]
  },
  {
   "cell_type": "code",
   "execution_count": 1,
   "metadata": {
    "ExecuteTime": {
     "end_time": "2018-02-22T09:31:47.667804Z",
     "start_time": "2018-02-22T09:31:36.705701Z"
    }
   },
   "outputs": [],
   "source": [
    "import os\n",
    "import pickle \n",
    "\n",
    "import numpy as np\n",
    "import matplotlib.pyplot as plt\n",
    "\n",
    "from sklearn.linear_model import LogisticRegression\n",
    "\n",
    "%matplotlib inline\n",
    "import gzip\n",
    "\n",
    "import sys\n",
    "sys.path.append(\"../..\")\n",
    "from E4525_ML import mnist\n",
    "from E4525_ML import plots\n",
    "from E4525_ML.multiclass_logistic import LogisticGDClassifier"
   ]
  },
  {
   "cell_type": "markdown",
   "metadata": {},
   "source": [
    "### Data"
   ]
  },
  {
   "cell_type": "code",
   "execution_count": 2,
   "metadata": {
    "ExecuteTime": {
     "end_time": "2018-02-22T09:31:47.672802Z",
     "start_time": "2018-02-22T09:31:47.668748Z"
    }
   },
   "outputs": [],
   "source": [
    "data_dir=r\"../../raw/MNIST/\""
   ]
  },
  {
   "cell_type": "code",
   "execution_count": 3,
   "metadata": {
    "ExecuteTime": {
     "end_time": "2018-02-22T09:31:47.691810Z",
     "start_time": "2018-02-22T09:31:47.673762Z"
    }
   },
   "outputs": [],
   "source": [
    "model_dir=f\"../../data/models\""
   ]
  },
  {
   "cell_type": "code",
   "execution_count": 4,
   "metadata": {
    "ExecuteTime": {
     "end_time": "2018-02-22T09:31:48.368576Z",
     "start_time": "2018-02-22T09:31:47.695823Z"
    }
   },
   "outputs": [
    {
     "name": "stdout",
     "output_type": "stream",
     "text": [
      "(60000, 28, 28) (60000,)\n"
     ]
    }
   ],
   "source": [
    "    images_filename=data_dir+\"train-images-idx3-ubyte.gz\"\n",
    "    labels_filename=data_dir+\"train-labels-idx1-ubyte.gz\"\n",
    "\n",
    "    test_images_filename=data_dir+\"t10k-images-idx3-ubyte.gz\"\n",
    "    test_labels_filename=data_dir+\"t10k-labels-idx1-ubyte.gz\"\n",
    "\n",
    "    images=mnist.read_images(images_filename)\n",
    "    labels=mnist.read_labels(labels_filename)\n",
    "    \n",
    "    test_images=mnist.read_images(test_images_filename)\n",
    "    test_labels=mnist.read_labels(test_labels_filename)\n",
    "    \n",
    "    print(images.shape,labels.shape)"
   ]
  },
  {
   "cell_type": "code",
   "execution_count": 5,
   "metadata": {
    "ExecuteTime": {
     "end_time": "2018-02-22T09:31:48.375596Z",
     "start_time": "2018-02-22T09:31:48.370582Z"
    }
   },
   "outputs": [
    {
     "name": "stdout",
     "output_type": "stream",
     "text": [
      "60000 28 28\n"
     ]
    }
   ],
   "source": [
    "nimages=images.shape[0]\n",
    "nrows=images.shape[1]\n",
    "ncols=images.shape[2]\n",
    "print(nimages,nrows,ncols)"
   ]
  },
  {
   "cell_type": "markdown",
   "metadata": {},
   "source": [
    "## Logistic Classifier"
   ]
  },
  {
   "cell_type": "code",
   "execution_count": 6,
   "metadata": {
    "ExecuteTime": {
     "end_time": "2018-02-22T09:31:48.392640Z",
     "start_time": "2018-02-22T09:31:48.378603Z"
    }
   },
   "outputs": [],
   "source": [
    "model=LogisticGDClassifier()\n",
    "#model=LogisticRegression()"
   ]
  },
  {
   "cell_type": "code",
   "execution_count": 7,
   "metadata": {
    "ExecuteTime": {
     "end_time": "2018-02-22T09:32:14.352669Z",
     "start_time": "2018-02-22T09:31:48.394646Z"
    }
   },
   "outputs": [
    {
     "name": "stdout",
     "output_type": "stream",
     "text": [
      "\t 0 Loss = 2425.3714664364593 Train_Accuracy 0.073 Evaluation Loss = 2435.8463863311763 Accuracy = 0.061\n",
      "\t 10 Loss = 230.15127388544113 Train_Accuracy 0.94 Evaluation Loss = 316.1239802601995 Accuracy = 0.916\n",
      "\t 20 Loss = 277.8149254533495 Train_Accuracy 0.928 Evaluation Loss = 259.058706757233 Accuracy = 0.929\n",
      "\t 30 Loss = 214.23503768952358 Train_Accuracy 0.939 Evaluation Loss = 254.80896049617814 Accuracy = 0.927\n",
      "\t 40 Loss = 224.23128709303217 Train_Accuracy 0.929 Evaluation Loss = 271.0707757534591 Accuracy = 0.919\n",
      "\t 50 Loss = 252.62421528753515 Train_Accuracy 0.93 Evaluation Loss = 298.2575296139845 Accuracy = 0.919\n",
      "\t 60 Loss = 246.94416494298088 Train_Accuracy 0.936 Evaluation Loss = 266.9918525089575 Accuracy = 0.923\n",
      "\t 70 Loss = 266.364794204735 Train_Accuracy 0.906 Evaluation Loss = 265.6037833280195 Accuracy = 0.933\n",
      "\t 80 Loss = 224.28485622031525 Train_Accuracy 0.939 Evaluation Loss = 239.04354161375903 Accuracy = 0.923\n",
      "\t 90 Loss = 234.94205028195034 Train_Accuracy 0.939 Evaluation Loss = 352.5857016935057 Accuracy = 0.917\n",
      "\t 99 Loss = 198.1387005448607 Train_Accuracy 0.944 Evaluation Loss = 230.64849071393877 Accuracy = 0.928\n"
     ]
    },
    {
     "name": "stderr",
     "output_type": "stream",
     "text": [
      "/home/manel/anaconda3/lib/python3.6/site-packages/sklearn/preprocessing/label.py:151: DeprecationWarning: The truth value of an empty array is ambiguous. Returning False, but in future this will result in an error. Use `array.size > 0` to check that an array is not empty.\n",
      "  if diff:\n"
     ]
    },
    {
     "data": {
      "text/plain": [
       "('Training accuracy', 0.9342)"
      ]
     },
     "execution_count": 7,
     "metadata": {},
     "output_type": "execute_result"
    }
   ],
   "source": [
    "model.fit(images.reshape(nimages,-1),labels,test_images.reshape(len(test_images),-1),test_labels)\n",
    "Y_pred=model.predict(images.reshape(nimages,-1))\n",
    "\"Training accuracy\",np.mean(Y_pred==labels)"
   ]
  },
  {
   "cell_type": "code",
   "execution_count": 8,
   "metadata": {
    "ExecuteTime": {
     "end_time": "2018-02-22T09:32:14.378738Z",
     "start_time": "2018-02-22T09:32:14.354676Z"
    }
   },
   "outputs": [
    {
     "name": "stderr",
     "output_type": "stream",
     "text": [
      "/home/manel/anaconda3/lib/python3.6/site-packages/sklearn/preprocessing/label.py:151: DeprecationWarning: The truth value of an empty array is ambiguous. Returning False, but in future this will result in an error. Use `array.size > 0` to check that an array is not empty.\n",
      "  if diff:\n"
     ]
    },
    {
     "data": {
      "text/plain": [
       "('Test Accuracy', 0.9237)"
      ]
     },
     "execution_count": 8,
     "metadata": {},
     "output_type": "execute_result"
    }
   ],
   "source": [
    "Y_pred=model.predict(test_images.reshape((len(test_images),-1)))\n",
    "\"Test Accuracy\",np.mean(Y_pred==test_labels)\n"
   ]
  },
  {
   "cell_type": "code",
   "execution_count": 9,
   "metadata": {
    "ExecuteTime": {
     "end_time": "2018-02-22T09:32:14.395784Z",
     "start_time": "2018-02-22T09:32:14.383754Z"
    }
   },
   "outputs": [
    {
     "data": {
      "text/plain": [
       "(10, 28, 28)"
      ]
     },
     "execution_count": 9,
     "metadata": {},
     "output_type": "execute_result"
    }
   ],
   "source": [
    "# here model is the latest fit model (N=51000)\n",
    "loadings=model.W.reshape(-1,nrows,ncols)\n",
    "#loadings=model.coef_\n",
    "loadings.shape"
   ]
  },
  {
   "cell_type": "code",
   "execution_count": 12,
   "metadata": {
    "ExecuteTime": {
     "end_time": "2018-02-22T09:32:15.236020Z",
     "start_time": "2018-02-22T09:32:14.400797Z"
    }
   },
   "outputs": [
    {
     "data": {
      "image/png": "[encoded data removed]",
      "text/plain": [
       "<matplotlib.figure.Figure at 0x7f2579d6a518>"
      ]
     },
     "metadata": {},
     "output_type": "display_data"
    }
   ],
   "source": [
    "# Two subplots, unpack the axes array immediately\n",
    "f, axes = plt.subplots(2, 5, sharey=True,figsize=(20,4))\n",
    "for d,ax in enumerate(axes.ravel()):\n",
    "    ax.set_title('Logistic Loadings Digit {0}'.format(d))\n",
    "    ax.imshow(loadings[d].reshape(nrows,ncols), cmap='coolwarm')\n",
    "    ax.axis(\"off\")"
   ]
  },
  {
   "cell_type": "markdown",
   "metadata": {},
   "source": [
    "### Number of trained parameters\n",
    "\n",
    "The number of trainable parameters is dominated by the loadings."
   ]
  },
  {
   "cell_type": "code",
   "execution_count": 20,
   "metadata": {},
   "outputs": [
    {
     "data": {
      "text/plain": [
       "7840"
      ]
     },
     "execution_count": 20,
     "metadata": {},
     "output_type": "execute_result"
    }
   ],
   "source": [
    "loadings.size"
   ]
  },
  {
   "cell_type": "code",
   "execution_count": 21,
   "metadata": {},
   "outputs": [
    {
     "data": {
      "text/plain": [
       "10"
      ]
     },
     "execution_count": 21,
     "metadata": {},
     "output_type": "execute_result"
    }
   ],
   "source": [
    "model.b.size"
   ]
  },
  {
   "cell_type": "code",
   "execution_count": 24,
   "metadata": {},
   "outputs": [
    {
     "name": "stdout",
     "output_type": "stream",
     "text": [
      "total trainable parameters 7850\n"
     ]
    }
   ],
   "source": [
    "total_parameters=loadings.size+model.b.size\n",
    "print(\"total trainable parameters\",total_parameters)"
   ]
  },
  {
   "cell_type": "markdown",
   "metadata": {},
   "source": [
    "### Save Model"
   ]
  },
  {
   "cell_type": "code",
   "execution_count": 11,
   "metadata": {
    "ExecuteTime": {
     "end_time": "2018-02-22T09:32:15.249052Z",
     "start_time": "2018-02-22T09:32:15.238024Z"
    }
   },
   "outputs": [],
   "source": [
    "model_filename=model_dir+\"/MNIST_logistic.p\"\n",
    "file=open(model_filename,\"wb\")\n",
    "pickle.dump(model,file)"
   ]
  },
  {
   "cell_type": "code",
   "execution_count": null,
   "metadata": {},
   "outputs": [],
   "source": []
  }
 ],
 "metadata": {
  "kernelspec": {
   "display_name": "Python 3",
   "language": "python",
   "name": "python3"
  },
  "language_info": {
   "codemirror_mode": {
    "name": "ipython",
    "version": 3
   },
   "file_extension": ".py",
   "mimetype": "text/x-python",
   "name": "python",
   "nbconvert_exporter": "python",
   "pygments_lexer": "ipython3",
   "version": "3.6.4"
  },
  "toc": {
   "base_numbering": 1,
   "nav_menu": {},
   "number_sections": true,
   "sideBar": true,
   "skip_h1_title": true,
   "title_cell": "Table of Contents",
   "title_sidebar": "Contents",
   "toc_cell": false,
   "toc_position": {},
   "toc_section_display": "block",
   "toc_window_display": false
  }
 },
 "nbformat": 4,
 "nbformat_minor": 2
}
