{
 "cells": [
  {
   "cell_type": "markdown",
   "metadata": {
    "ExecuteTime": {
     "end_time": "2017-11-15T11:04:48.681077Z",
     "start_time": "2017-11-15T11:04:48.677067Z"
    }
   },
   "source": [
    "# Multiclass Logistic Regression"
   ]
  },
  {
   "cell_type": "markdown",
   "metadata": {
    "ExecuteTime": {
     "end_time": "2017-11-15T11:04:55.400939Z",
     "start_time": "2017-11-15T11:04:55.397931Z"
    }
   },
   "source": [
    "## Preliminaries"
   ]
  },
  {
   "cell_type": "markdown",
   "metadata": {
    "ExecuteTime": {
     "end_time": "2017-11-15T11:05:29.836473Z",
     "start_time": "2017-11-15T11:05:29.832457Z"
    }
   },
   "source": [
    "### Imports"
   ]
  },
  {
   "cell_type": "code",
   "execution_count": 1,
   "metadata": {
    "ExecuteTime": {
     "end_time": "2018-02-22T19:50:14.981987Z",
     "start_time": "2018-02-22T19:50:04.799239Z"
    }
   },
   "outputs": [],
   "source": [
    "from copy import copy\n",
    "\n",
    "import numpy as np\n",
    "import numpy.random as random\n",
    "import pandas as pd\n",
    "\n",
    "import scipy.optimize as optimize\n",
    "from sklearn.linear_model import LogisticRegression\n",
    "from sklearn.preprocessing import LabelEncoder\n",
    "\n",
    "import matplotlib.pyplot as plt\n",
    "%matplotlib inline\n",
    "import seaborn as sns\n",
    "sns.set(style=\"white\", color_codes=True)\n",
    "\n",
    "import sys\n",
    "sys.path.append(\"../..\")\n",
    "from E4525_ML.multiclass_logistic import LogisticGDClassifier"
   ]
  },
  {
   "cell_type": "markdown",
   "metadata": {},
   "source": [
    "### Random Seed"
   ]
  },
  {
   "cell_type": "code",
   "execution_count": 2,
   "metadata": {
    "ExecuteTime": {
     "end_time": "2018-02-22T19:50:14.982987Z",
     "start_time": "2018-02-22T19:50:14.981987Z"
    }
   },
   "outputs": [],
   "source": [
    "seed=12759\n",
    "random.seed(seed)"
   ]
  },
  {
   "cell_type": "markdown",
   "metadata": {},
   "source": [
    "## Logistic Multiclass Loss and Gradient\n",
    "\n",
    "### Clas Probabilities\n",
    "For multi-label classification problems we asume $Y|_X$ is a categorical variable with $K$ classes.\n",
    "\n",
    "The logistic model asumes that the categorical variable **class probabilities** are\n",
    "\\begin{equation}\n",
    "\t\t\\theta_k(x) = \\textrm{softmax}_k(\\eta(x))\n",
    "\\end{equation}\n",
    "were  we define  the `logits` variables $\\eta$ as depending linearly on $x$\n",
    "\\begin{equation}\n",
    "\t\t\\eta(x) = W^T x + b\n",
    "\\end{equation}\n",
    "or, writing all the indexes explicitly\n",
    "\\begin{equation}\n",
    "    \\eta_k(x) = \\sum_d W_{d,k} x_d + b_k\n",
    "\\end{equation}\n",
    "where we have explicitly highlited the bias term $b$, instead of absorbing it on $W$.\n",
    "\n",
    "The function `softmax` is defined as\n",
    "\\begin{equation}\n",
    "\t\\theta_k(\\eta)=\\textrm{softmax}_k(\\eta) = \\frac{ e^{\\eta_k}}{\\sum_{k'} e^{\\eta_{k'}}}\n",
    "\\end{equation}\n",
    "\n",
    "To avoid numerical accuracy problems with the exponential of very large numbers, we multiple and divide\n",
    "the `softmax` expresion by the exponential of \n",
    "$$\n",
    "    \\bar{\\eta} = \\max_k \\eta_k\n",
    "$$\n",
    "so that $\\theta_k$ becomes\n",
    "\\begin{equation}\n",
    "\t\\theta_k(\\eta)=\\textrm{softmax}_k(\\eta) = \\frac{ e^{\\eta_k-\\bar{\\eta}}}{\\sum_{k'} e^{\\eta_{k'}-\\bar{\\eta}}}\n",
    "\\end{equation}\n",
    "where the largest term in the denominator sum will be $1$.\n"
   ]
  },
  {
   "cell_type": "code",
   "execution_count": 3,
   "metadata": {
    "ExecuteTime": {
     "end_time": "2018-02-22T19:50:15.026187Z",
     "start_time": "2018-02-22T19:50:14.983987Z"
    }
   },
   "outputs": [],
   "source": [
    "def logisticClassProbability(X,b,W):\n",
    "    logits=X.dot(W.T)+b\n",
    "    elogits=np.exp(logits-logits.max(axis=1)[:,np.newaxis]) # make calculation more stable numerically\n",
    "    elogits_sum=elogits.sum(axis=1)\n",
    "    class_probs=elogits/elogits_sum[:,np.newaxis]\n",
    "    return class_probs"
   ]
  },
  {
   "cell_type": "markdown",
   "metadata": {},
   "source": [
    "### Logistic Cross Entropy Loss \n",
    "\n",
    "  The maximum likelihood loss is given by\n",
    "  \n",
    "  $$\n",
    "      E(b,W;\\{x_i,y_i\\}) = -\\sum_i \\sum_k z_{i,k} \\log \\theta_k(\\eta(x_i))\n",
    "  $$\n",
    "  \n",
    "  [Note] We have dropped a factor of $\\frac{1}{N}$ from the loss relative to the class notes that does not affect the solution."
   ]
  },
  {
   "cell_type": "code",
   "execution_count": 4,
   "metadata": {
    "ExecuteTime": {
     "end_time": "2018-02-22T19:50:15.026187Z",
     "start_time": "2018-02-22T19:50:14.983987Z"
    }
   },
   "outputs": [],
   "source": [
    "def logisticLoss(X,Z,b,W):\n",
    "    class_probs=logisticClassProbability(X,b,W)\n",
    "    loss= np.sum(-(Z*np.log(np.maximum(class_probs,1e-10))).sum(axis=1))\n",
    "    return loss"
   ]
  },
  {
   "cell_type": "markdown",
   "metadata": {},
   "source": [
    "### Loss Gradient\n",
    "For optimization we will also need the loss gradient\n",
    "\n",
    "\\begin{align}\n",
    "    \\frac{\\partial E}{\\partial b_k} &= \\sum_i \\theta_k(x_i) - z_{i,k} \\\\\n",
    "    \\frac{\\partial E}{\\partial W_{d,k}} &= \\sum_i \\left( \\theta_k(x_i) - z_{i,k}\\right) x_{i,d}\n",
    " \\end{align}"
   ]
  },
  {
   "cell_type": "code",
   "execution_count": 5,
   "metadata": {
    "ExecuteTime": {
     "end_time": "2018-02-22T19:50:15.026187Z",
     "start_time": "2018-02-22T19:50:14.983987Z"
    }
   },
   "outputs": [],
   "source": [
    "def logisticGradient(X,Z,b,W):\n",
    "    class_probs=logisticClassProbability(X,b,W)\n",
    "    delta=(Z-class_probs)\n",
    "    return -delta.sum(axis=0),-np.dot(delta.T,X)"
   ]
  },
  {
   "cell_type": "markdown",
   "metadata": {},
   "source": [
    "### Objective function for optimization\n",
    "\n",
    "We will include a regularization penalty\n",
    "$$\n",
    "    \\Omega(W) = \\frac{\\lambda}{2}\\sum_{k,d} W_{d,k}^2\n",
    "$$ \n",
    "in the objective function. We do not include a penalty on $b$ to assure that the class predicted class probabilities match the empirical class frequencies\n",
    "$$\n",
    "        \\sum_i \\theta_k(x_i) = \\sum_i z_{i,k}\n",
    "$$\n",
    "With that extra term we have to optimize the objective function $L$ given by\n",
    "\n",
    "\\begin{align}\n",
    "    L(b,W;\\{x_i,y_i\\}) &= E(b,W;\\{x_i,y_i\\}) + \\lambda \\frac{1}{2}\\sum_{d,k} W_{k,d}^2 \\\\\n",
    "    \\frac{\\partial L}{\\partial b_k} &= \\frac{\\partial E}{\\partial b_k} \\\\\n",
    "    \\frac{\\partial L}{\\partial W_{d,k}} &= \\frac{\\partial E}{\\partial W_{d,k}} + \\lambda W_{k,d}\n",
    "\\end{align}\n",
    "\n",
    "[Note] the optimization package optimizes over a single vector $x$, so we need to flatten $b,W$ into\n",
    "$$\n",
    "x = ( b_1, \\dots b_K,W_{1,1,}, \\dots W_{D,K} )\n",
    "$$\n",
    "and similarly for gradients\n",
    "$$\n",
    "    \\frac{\\partial L}{\\partial x} = \\left( \n",
    "       \\frac{\\partial L}{\\partial b_1},\\dots, \\frac{\\partial L}{\\partial b_K},\n",
    "       \\frac{\\partial L}{\\partial W_{1,1}},\\dots,\\frac{\\partial L}{\\partial W_{D,K}}\n",
    "       \\right) \n",
    "$$"
   ]
  },
  {
   "cell_type": "code",
   "execution_count": 47,
   "metadata": {
    "ExecuteTime": {
     "end_time": "2018-02-22T19:50:15.062387Z",
     "start_time": "2018-02-22T19:50:15.028687Z"
    }
   },
   "outputs": [],
   "source": [
    "def val_func(x0,X,Z,penalty):\n",
    "    D=X.shape[1]\n",
    "    K=Z.shape[1]\n",
    "    b=x0[:K]\n",
    "    W=x0[K:].reshape((K,D))\n",
    "    loss=logisticLoss(X,Z,b,W)\n",
    "    if penalty>0:\n",
    "        loss+=0.5*penalty*(W**2).sum()\n",
    "    return loss\n",
    "\n",
    "def grad_func(x0,X,Z,penalty):\n",
    "    D=X.shape[1]\n",
    "    K=Z.shape[1]\n",
    "    b=x0[:K]\n",
    "    W=x0[K:].reshape((K,D))\n",
    "    gradb,gradW=logisticGradient(X,Z,b,W)\n",
    "    if penalty>0: # optimization, do not perform the sum if penalty==0 \n",
    "        gradW+=penalty*W\n",
    "    # we return first the gradient relative to $b$ and then to $W$\n",
    "    return np.concatenate([gradb,gradW.ravel()])"
   ]
  },
  {
   "cell_type": "markdown",
   "metadata": {
    "ExecuteTime": {
     "end_time": "2017-11-15T11:04:06.724557Z",
     "start_time": "2017-11-15T11:04:06.718541Z"
    }
   },
   "source": [
    "### Check Gradient"
   ]
  },
  {
   "cell_type": "code",
   "execution_count": 7,
   "metadata": {
    "ExecuteTime": {
     "end_time": "2018-02-22T19:50:15.064887Z",
     "start_time": "2018-02-22T19:50:15.062387Z"
    }
   },
   "outputs": [],
   "source": [
    "X=np.array([[0,1,2,3,4],\n",
    "            [1,2,3,4,5],\n",
    "            [2,3,4,5,6],\n",
    "            [3,4,5,6,7],          \n",
    "           ])\n"
   ]
  },
  {
   "cell_type": "code",
   "execution_count": 8,
   "metadata": {
    "ExecuteTime": {
     "end_time": "2018-02-22T19:50:15.084887Z",
     "start_time": "2018-02-22T19:50:15.067387Z"
    }
   },
   "outputs": [],
   "source": [
    "Z=np.array([[0,0,1],\n",
    "            [1,0,0],\n",
    "            [0,1,0],\n",
    "            [1,0,0]\n",
    "           ])"
   ]
  },
  {
   "cell_type": "code",
   "execution_count": 9,
   "metadata": {
    "ExecuteTime": {
     "end_time": "2018-02-22T19:50:15.104887Z",
     "start_time": "2018-02-22T19:50:15.084887Z"
    }
   },
   "outputs": [
    {
     "data": {
      "text/plain": [
       "(3, 5)"
      ]
     },
     "execution_count": 9,
     "metadata": {},
     "output_type": "execute_result"
    }
   ],
   "source": [
    "W=np.array([[1,0.1,0.1,0.0,0.1],\n",
    "            [0.1,1,0.2,0.1,0.3],\n",
    "            [-.1,-0.2,1.2,0.2,-2]])\n",
    "W.shape"
   ]
  },
  {
   "cell_type": "code",
   "execution_count": 10,
   "metadata": {
    "ExecuteTime": {
     "end_time": "2018-02-22T19:50:15.124887Z",
     "start_time": "2018-02-22T19:50:15.107387Z"
    }
   },
   "outputs": [
    {
     "data": {
      "text/plain": [
       "(3,)"
      ]
     },
     "execution_count": 10,
     "metadata": {},
     "output_type": "execute_result"
    }
   ],
   "source": [
    "b=np.array([0.0,-2.0,2.0])\n",
    "b.shape"
   ]
  },
  {
   "cell_type": "code",
   "execution_count": 11,
   "metadata": {
    "ExecuteTime": {
     "end_time": "2018-02-22T19:50:15.142387Z",
     "start_time": "2018-02-22T19:50:15.124887Z"
    }
   },
   "outputs": [],
   "source": [
    "penalty=0"
   ]
  },
  {
   "cell_type": "code",
   "execution_count": 12,
   "metadata": {
    "ExecuteTime": {
     "end_time": "2018-02-22T19:50:15.162387Z",
     "start_time": "2018-02-22T19:50:15.142387Z"
    }
   },
   "outputs": [
    {
     "data": {
      "text/plain": [
       "array([ 0. , -2. ,  2. ,  1. ,  0.1,  0.1,  0. ,  0.1,  0.1,  1. ,  0.2,\n",
       "        0.1,  0.3, -0.1, -0.2,  1.2,  0.2, -2. ])"
      ]
     },
     "execution_count": 12,
     "metadata": {},
     "output_type": "execute_result"
    }
   ],
   "source": [
    "x0=np.concatenate([b,W.ravel()])\n",
    "x0"
   ]
  },
  {
   "cell_type": "code",
   "execution_count": 13,
   "metadata": {
    "ExecuteTime": {
     "end_time": "2018-02-22T19:50:15.219887Z",
     "start_time": "2018-02-22T19:50:15.164387Z"
    }
   },
   "outputs": [
    {
     "data": {
      "text/plain": [
       "array([-7.33098116e-01,  1.72320185e+00, -9.90103732e-01, -2.51464574e+00,\n",
       "       -3.24774385e+00, -3.98084223e+00, -4.71394035e+00, -5.44703838e+00,\n",
       "        2.51370160e+00,  4.23690345e+00,  5.96010521e+00,  7.68330723e+00,\n",
       "        9.40650899e+00,  9.44133660e-04, -9.89159599e-01, -1.97926324e+00,\n",
       "       -2.96936697e+00, -3.95947053e+00])"
      ]
     },
     "execution_count": 13,
     "metadata": {},
     "output_type": "execute_result"
    }
   ],
   "source": [
    "optimize.approx_fprime(x0,val_func,1e-8,X,Z,penalty)"
   ]
  },
  {
   "cell_type": "code",
   "execution_count": 14,
   "metadata": {
    "ExecuteTime": {
     "end_time": "2018-02-22T19:50:15.227387Z",
     "start_time": "2018-02-22T19:50:15.219887Z"
    }
   },
   "outputs": [
    {
     "data": {
      "text/plain": [
       "3.8437902120324466e-07"
      ]
     },
     "execution_count": 14,
     "metadata": {},
     "output_type": "execute_result"
    }
   ],
   "source": [
    "optimize.check_grad(val_func,grad_func,x0,X,Z,penalty)"
   ]
  },
  {
   "cell_type": "markdown",
   "metadata": {
    "ExecuteTime": {
     "end_time": "2017-11-15T11:16:04.725087Z",
     "start_time": "2017-11-15T11:16:04.721077Z"
    },
    "collapsed": true
   },
   "source": [
    "## Generate Random Samples"
   ]
  },
  {
   "cell_type": "markdown",
   "metadata": {
    "ExecuteTime": {
     "end_time": "2017-11-16T09:54:26.217860Z",
     "start_time": "2017-11-16T09:54:26.214849Z"
    }
   },
   "source": [
    "### Training Data"
   ]
  },
  {
   "cell_type": "code",
   "execution_count": 15,
   "metadata": {
    "ExecuteTime": {
     "end_time": "2018-02-22T19:50:15.244887Z",
     "start_time": "2018-02-22T19:50:15.227387Z"
    }
   },
   "outputs": [],
   "source": [
    "D=2\n",
    "K=4\n",
    "N=100"
   ]
  },
  {
   "cell_type": "code",
   "execution_count": 16,
   "metadata": {
    "ExecuteTime": {
     "end_time": "2018-02-22T19:50:15.263387Z",
     "start_time": "2018-02-22T19:50:15.244887Z"
    }
   },
   "outputs": [],
   "source": [
    "mu=np.array([0.0,0.0])\n",
    "cov=np.array([[1.0,0.7],\n",
    "              [0.7,1.0]\n",
    "             ])"
   ]
  },
  {
   "cell_type": "code",
   "execution_count": 17,
   "metadata": {
    "ExecuteTime": {
     "end_time": "2018-02-22T19:50:15.283387Z",
     "start_time": "2018-02-22T19:50:15.264387Z"
    }
   },
   "outputs": [],
   "source": [
    "W0=np.array([\n",
    "             [10.0,0.0 ],\n",
    "             [0.0, 5.0],\n",
    "             [5.0,5.0],\n",
    "             [5.0,-5.0]\n",
    "            ]\n",
    "           )\n",
    "b0=np.array([0.,0.0,2.,0.0])"
   ]
  },
  {
   "cell_type": "code",
   "execution_count": 18,
   "metadata": {
    "ExecuteTime": {
     "end_time": "2018-02-22T19:50:15.310887Z",
     "start_time": "2018-02-22T19:50:15.285387Z"
    }
   },
   "outputs": [],
   "source": [
    "bW0=np.c_[b0,W0]"
   ]
  },
  {
   "cell_type": "code",
   "execution_count": 19,
   "metadata": {
    "ExecuteTime": {
     "end_time": "2018-02-22T19:50:15.330887Z",
     "start_time": "2018-02-22T19:50:15.310887Z"
    }
   },
   "outputs": [],
   "source": [
    "X=random.multivariate_normal(mu,cov,size=N)"
   ]
  },
  {
   "cell_type": "code",
   "execution_count": 20,
   "metadata": {
    "ExecuteTime": {
     "end_time": "2018-02-22T19:50:15.353387Z",
     "start_time": "2018-02-22T19:50:15.330887Z"
    }
   },
   "outputs": [
    {
     "data": {
      "text/plain": [
       "array([0.10871596, 0.22081613])"
      ]
     },
     "execution_count": 20,
     "metadata": {},
     "output_type": "execute_result"
    }
   ],
   "source": [
    "X.mean(axis=0)"
   ]
  },
  {
   "cell_type": "markdown",
   "metadata": {},
   "source": [
    "We generate samples that follow the logistic distribution. Given $x$, the one hot encoding $z$ of $y$ is generated as\n",
    "$$\n",
    "    Z(x) \\sim \\textrm{Categorical}(\\theta(x))\n",
    "$$\n",
    "where the categorical distribution parameters are generated as\n",
    "$$\n",
    "    \\theta_k(x) = \\textrm{softmax}(\\sum_{k,d}x_d W_{k,d} +b_k)=\\textrm{softmax}(x W^T +b)\n",
    "$$"
   ]
  },
  {
   "cell_type": "code",
   "execution_count": 21,
   "metadata": {
    "ExecuteTime": {
     "end_time": "2018-02-22T19:50:15.367887Z",
     "start_time": "2018-02-22T19:50:15.353387Z"
    }
   },
   "outputs": [],
   "source": [
    "def generate_logistic_multinomial(X,W,b):\n",
    "    X1=np.c_[np.ones(len(X)),X]\n",
    "    bW=np.c_[b,W]\n",
    "    nu=np.dot(X1,bW.T)\n",
    "    enu=np.exp(nu)\n",
    "    enu_sum=enu.sum(axis=1)\n",
    "    pi=enu/enu_sum[:,np.newaxis]\n",
    "    Z=np.empty_like(pi)\n",
    "    for i1 in range(len(pi)):\n",
    "        Z[i1]=random.multinomial(1,pi[i1],1)\n",
    "    return Z"
   ]
  },
  {
   "cell_type": "code",
   "execution_count": 22,
   "metadata": {
    "ExecuteTime": {
     "end_time": "2018-02-22T19:50:15.390887Z",
     "start_time": "2018-02-22T19:50:15.368887Z"
    }
   },
   "outputs": [],
   "source": [
    "Z=generate_logistic_multinomial(X,W0,b0)"
   ]
  },
  {
   "cell_type": "code",
   "execution_count": 23,
   "metadata": {
    "ExecuteTime": {
     "end_time": "2018-02-22T19:50:15.411887Z",
     "start_time": "2018-02-22T19:50:15.392887Z"
    }
   },
   "outputs": [
    {
     "data": {
      "text/plain": [
       "array([0.13, 0.14, 0.47, 0.26])"
      ]
     },
     "execution_count": 23,
     "metadata": {},
     "output_type": "execute_result"
    }
   ],
   "source": [
    "Z.mean(axis=0)"
   ]
  },
  {
   "cell_type": "code",
   "execution_count": 24,
   "metadata": {
    "ExecuteTime": {
     "end_time": "2018-02-22T19:50:15.435387Z",
     "start_time": "2018-02-22T19:50:15.415387Z"
    }
   },
   "outputs": [
    {
     "data": {
      "text/plain": [
       "array([2, 0, 1, 2, 0, 1, 1, 3, 1, 2, 2, 3, 2, 2, 2, 2, 3, 0, 0, 0, 3, 2,\n",
       "       2, 2, 2, 2, 3, 3, 2, 1, 3, 3, 2, 2, 2, 3, 2, 3, 0, 2, 2, 2, 2, 0,\n",
       "       2, 0, 2, 3, 2, 3, 1, 3, 2, 1, 0, 3, 1, 2, 2, 3, 2, 3, 2, 3, 2, 3,\n",
       "       3, 0, 1, 2, 2, 0, 2, 0, 3, 2, 2, 3, 2, 2, 2, 1, 3, 1, 2, 1, 1, 3,\n",
       "       3, 0, 2, 2, 3, 2, 3, 1, 2, 2, 2, 2])"
      ]
     },
     "execution_count": 24,
     "metadata": {},
     "output_type": "execute_result"
    }
   ],
   "source": [
    "Y=Z.argmax(axis=1)\n",
    "Y[:100]"
   ]
  },
  {
   "cell_type": "code",
   "execution_count": 25,
   "metadata": {
    "ExecuteTime": {
     "end_time": "2018-02-22T19:50:15.457887Z",
     "start_time": "2018-02-22T19:50:15.435387Z"
    }
   },
   "outputs": [
    {
     "data": {
      "text/html": [
       "<div>\n",
       "<style scoped>\n",
       "    .dataframe tbody tr th:only-of-type {\n",
       "        vertical-align: middle;\n",
       "    }\n",
       "\n",
       "    .dataframe tbody tr th {\n",
       "        vertical-align: top;\n",
       "    }\n",
       "\n",
       "    .dataframe thead th {\n",
       "        text-align: right;\n",
       "    }\n",
       "</style>\n",
       "<table border=\"1\" class=\"dataframe\">\n",
       "  <thead>\n",
       "    <tr style=\"text-align: right;\">\n",
       "      <th></th>\n",
       "      <th>Y</th>\n",
       "      <th>X1</th>\n",
       "      <th>X2</th>\n",
       "    </tr>\n",
       "  </thead>\n",
       "  <tbody>\n",
       "    <tr>\n",
       "      <th>0</th>\n",
       "      <td>2.0</td>\n",
       "      <td>1.345100</td>\n",
       "      <td>2.007299</td>\n",
       "    </tr>\n",
       "    <tr>\n",
       "      <th>1</th>\n",
       "      <td>0.0</td>\n",
       "      <td>0.700666</td>\n",
       "      <td>-0.055637</td>\n",
       "    </tr>\n",
       "    <tr>\n",
       "      <th>2</th>\n",
       "      <td>1.0</td>\n",
       "      <td>-0.881124</td>\n",
       "      <td>0.036733</td>\n",
       "    </tr>\n",
       "    <tr>\n",
       "      <th>3</th>\n",
       "      <td>2.0</td>\n",
       "      <td>0.773288</td>\n",
       "      <td>0.408596</td>\n",
       "    </tr>\n",
       "    <tr>\n",
       "      <th>4</th>\n",
       "      <td>0.0</td>\n",
       "      <td>2.128024</td>\n",
       "      <td>0.890464</td>\n",
       "    </tr>\n",
       "  </tbody>\n",
       "</table>\n",
       "</div>"
      ],
      "text/plain": [
       "     Y        X1        X2\n",
       "0  2.0  1.345100  2.007299\n",
       "1  0.0  0.700666 -0.055637\n",
       "2  1.0 -0.881124  0.036733\n",
       "3  2.0  0.773288  0.408596\n",
       "4  0.0  2.128024  0.890464"
      ]
     },
     "execution_count": 25,
     "metadata": {},
     "output_type": "execute_result"
    }
   ],
   "source": [
    "data=pd.DataFrame(np.c_[Y,X],columns=[\"Y\",\"X1\",\"X2\"])\n",
    "data.head()"
   ]
  },
  {
   "cell_type": "code",
   "execution_count": 26,
   "metadata": {
    "ExecuteTime": {
     "end_time": "2018-02-22T19:50:16.052387Z",
     "start_time": "2018-02-22T19:50:15.457887Z"
    }
   },
   "outputs": [
    {
     "data": {
      "text/plain": [
       "<seaborn.axisgrid.PairGrid at 0x7fd1b75378d0>"
      ]
     },
     "execution_count": 26,
     "metadata": {},
     "output_type": "execute_result"
    },
    {
     "data": {
      "image/png": "[encoded data removed]",
      "text/plain": [
       "<matplotlib.figure.Figure at 0x7fd1b7537ba8>"
      ]
     },
     "metadata": {},
     "output_type": "display_data"
    }
   ],
   "source": [
    "sns.pairplot(data,vars=[\"X1\",\"X2\"],hue=\"Y\")"
   ]
  },
  {
   "cell_type": "markdown",
   "metadata": {
    "ExecuteTime": {
     "end_time": "2017-11-16T09:53:46.877305Z",
     "start_time": "2017-11-16T09:53:46.873295Z"
    }
   },
   "source": [
    "### Test Data"
   ]
  },
  {
   "cell_type": "code",
   "execution_count": 27,
   "metadata": {
    "ExecuteTime": {
     "end_time": "2018-02-22T19:50:16.059887Z",
     "start_time": "2018-02-22T19:50:16.052387Z"
    }
   },
   "outputs": [],
   "source": [
    "X_test=random.multivariate_normal(mu,cov,size=N)\n",
    "Z_test=generate_logistic_multinomial(X_test,W0,b0)\n",
    "Y_test=Z_test.argmax(axis=1)"
   ]
  },
  {
   "cell_type": "markdown",
   "metadata": {
    "ExecuteTime": {
     "end_time": "2017-12-04T16:06:41.617552Z",
     "start_time": "2017-12-04T16:06:41.614552Z"
    }
   },
   "source": [
    "## Parameter Optimization"
   ]
  },
  {
   "cell_type": "markdown",
   "metadata": {
    "collapsed": true
   },
   "source": [
    "### Logistic Regression using `scipy.optimize`"
   ]
  },
  {
   "cell_type": "code",
   "execution_count": 28,
   "metadata": {
    "ExecuteTime": {
     "end_time": "2018-02-22T19:50:16.075387Z",
     "start_time": "2018-02-22T19:50:16.059887Z"
    }
   },
   "outputs": [],
   "source": [
    "def optimize_logistic_weights_scipy(X,Z,b,W,penalty=0,\n",
    "                                    method=\"newton-cg\",\n",
    "                                    tol=1e-16,\n",
    "                                    max_iter=100):\n",
    "    D=X.shape[1]\n",
    "    K=Z.shape[1]\n",
    "    x0=np.concatenate((b,W.ravel()))\n",
    "   \n",
    "    fit=optimize.minimize(val_func, x0, args=(X,Z,penalty),jac=grad_func,\n",
    "             method=method,   \n",
    "             tol=tol)\n",
    "    x1=fit.x\n",
    "    b=x1[:K]\n",
    "    W=x1[K:].reshape((K,D))\n",
    "    return b,W"
   ]
  },
  {
   "cell_type": "markdown",
   "metadata": {
    "collapsed": true
   },
   "source": [
    "### Test Scipy Optimizer"
   ]
  },
  {
   "cell_type": "code",
   "execution_count": 29,
   "metadata": {
    "ExecuteTime": {
     "end_time": "2018-02-22T19:50:16.094387Z",
     "start_time": "2018-02-22T19:50:16.076387Z"
    }
   },
   "outputs": [],
   "source": [
    "D=X.shape[1]\n",
    "K=Z.shape[1]"
   ]
  },
  {
   "cell_type": "code",
   "execution_count": 30,
   "metadata": {
    "ExecuteTime": {
     "end_time": "2018-02-22T19:50:16.118387Z",
     "start_time": "2018-02-22T19:50:16.095387Z"
    }
   },
   "outputs": [],
   "source": [
    "b_guess=np.zeros(K)\n",
    "W_guess=random.normal(0,1,(K,D))"
   ]
  },
  {
   "cell_type": "code",
   "execution_count": 31,
   "metadata": {
    "ExecuteTime": {
     "end_time": "2018-02-22T19:50:16.189387Z",
     "start_time": "2018-02-22T19:50:16.118387Z"
    }
   },
   "outputs": [
    {
     "name": "stdout",
     "output_type": "stream",
     "text": [
      "[ 0.93690446  1.91172419  4.85650468 -7.70522182] [[  8.22743327   2.60067161]\n",
      " [ -7.74696288  10.68312869]\n",
      " [ -0.17658796  10.92849542]\n",
      " [  0.7383922  -24.82686834]]\n"
     ]
    }
   ],
   "source": [
    "b,W=optimize_logistic_weights_scipy(X,Z,b_guess,W_guess,penalty=0,tol=1e-4)\n",
    "print(b,W)"
   ]
  },
  {
   "cell_type": "markdown",
   "metadata": {},
   "source": [
    "### Stochastic Gradient Descent Optimizer\n",
    "\n",
    "For each **epoch** ( a complete optimization run through all the training data) we:\n",
    "1. Permute the input data.\n",
    "2. Break input data in small size **mini-batches**\n",
    "3. Update parameters on each mini-bath using the gradient descent update rule.\n",
    "4. For convenience, we report losses in both training and valuation 10 times (once every 100 epochs) during optimization.\n",
    "\n",
    "We repeate this procedure for `max_iter` number of epochs (**complete runs through all the training data**), or until we stop improving the lost function."
   ]
  },
  {
   "cell_type": "code",
   "execution_count": 32,
   "metadata": {
    "ExecuteTime": {
     "end_time": "2018-02-22T19:50:16.290486Z",
     "start_time": "2018-02-22T19:50:16.190387Z"
    }
   },
   "outputs": [],
   "source": [
    "def report_function(e,params,X,Z,X_val,Z_val,penalty):\n",
    "    D=X.shape[1]\n",
    "    K=Z.shape[1]\n",
    "    b=params[:K]\n",
    "    W=params[K:].reshape((K,D))\n",
    "    loss=val_func(params,X,Z,penalty)\n",
    "    class_probs=logisticClassProbability(X,b,W)\n",
    "    Y_pred=class_probs.argmax(axis=1) \n",
    "    Y=Z.argmax(axis=1)\n",
    "    train_accuracy=np.mean(Y_pred==Y)\n",
    "    print(\"\\t\",e,\"Loss =\",loss,\"Train_Accuracy\",train_accuracy,end=\" \")\n",
    "    if not(X_val is None): # if we have a valuation set we can report\n",
    "                        # how well we are doing out of sample\n",
    "        val_e=val_func(params,X_val,Z_val,penalty)\n",
    "        class_probs=logisticClassProbability(X_val,b,W)\n",
    "        Y_pred=class_probs.argmax(axis=1)          \n",
    "        Y_val=Z_val.argmax(axis=1)     \n",
    "        val_accuracy=np.mean(Y_pred==Y_val)\n",
    "        print(\"Evaluation Loss =\",val_e,\"Accuracy =\",val_accuracy)\n",
    "    else:\n",
    "        print()\n",
    "\n",
    "\n",
    "### Logistic Regression using Stochastic Gradient Descent\n",
    "def optimize_logistic_weights(X,Z,b,W,\n",
    "                            X_val=None,\n",
    "                            Z_val=None,\n",
    "                            penalty=0,\n",
    "                            learning_rate=0.01,\n",
    "                            tol=1e-8,\n",
    "                            max_iter=1000,\n",
    "                            batch_size=100,\n",
    "                            verbose=True\n",
    "                              ):\n",
    "    \n",
    "    D=X.shape[1]\n",
    "    K=Z.shape[1]\n",
    "    x=np.concatenate((b,W.ravel()))\n",
    "    if Z_val is not None:\n",
    "        Y_val=Z_val.argmax(axis=1)\n",
    "    N=len(X)\n",
    "    l0=val_func(x,X,Z,penalty)\n",
    "    for e in range(max_iter):\n",
    "        if (e%(max_iter//10)==0 and verbose):\n",
    "            report_function(e,x,X,Z,X_val,Z_val,penalty)\n",
    "        perm=random.permutation(N)\n",
    "        for i in range(0,N,batch_size):\n",
    "            Xb=X[perm[i:i+batch_size]]\n",
    "            Zb=Z[perm[i:i+batch_size]]\n",
    "            p=len(Xb)/N*penalty\n",
    "            grad=grad_func(x,Xb,Zb,p)\n",
    "            x-=learning_rate*grad\n",
    "        l=val_func(x,X,Z,penalty)\n",
    "       \n",
    "        d=np.abs(l-l0)\n",
    "        if d<tol*l0:\n",
    "            break\n",
    "        l0=l  \n",
    "    if verbose:\n",
    "        report_function(e,x,X,Z,X_val,Z_val,penalty)\n",
    "    b=x[:K]\n",
    "    W=x[K:].reshape((K,D))\n",
    "    return b,W   "
   ]
  },
  {
   "cell_type": "code",
   "execution_count": 33,
   "metadata": {
    "ExecuteTime": {
     "end_time": "2018-02-22T19:50:16.469486Z",
     "start_time": "2018-02-22T19:50:16.291486Z"
    }
   },
   "outputs": [
    {
     "name": "stdout",
     "output_type": "stream",
     "text": [
      "\t 0 Loss = 299.2921064941822 Train_Accuracy 0.05 Evaluation Loss = 273.1162446159898 Accuracy = 0.11\n",
      "\t 100 Loss = 72.34669765799127 Train_Accuracy 0.78 Evaluation Loss = 80.87929782907966 Accuracy = 0.7\n",
      "\t 200 Loss = 53.63530808024932 Train_Accuracy 0.84 Evaluation Loss = 63.85907129598698 Accuracy = 0.72\n",
      "\t 300 Loss = 45.8091298397824 Train_Accuracy 0.84 Evaluation Loss = 57.744296293227386 Accuracy = 0.76\n",
      "\t 400 Loss = 41.410711569026525 Train_Accuracy 0.85 Evaluation Loss = 54.553172968296245 Accuracy = 0.79\n",
      "\t 500 Loss = 38.53236686419029 Train_Accuracy 0.86 Evaluation Loss = 52.54732002480233 Accuracy = 0.81\n",
      "\t 600 Loss = 36.47627916788786 Train_Accuracy 0.86 Evaluation Loss = 51.15585696924866 Accuracy = 0.83\n",
      "\t 700 Loss = 34.92151578312621 Train_Accuracy 0.86 Evaluation Loss = 50.130045041659145 Accuracy = 0.83\n",
      "\t 800 Loss = 33.69772475180277 Train_Accuracy 0.86 Evaluation Loss = 49.34192724969121 Accuracy = 0.82\n",
      "\t 900 Loss = 32.705220657483146 Train_Accuracy 0.86 Evaluation Loss = 48.71811823919791 Accuracy = 0.82\n",
      "\t 999 Loss = 31.88139672874515 Train_Accuracy 0.87 Evaluation Loss = 48.21315101647232 Accuracy = 0.82\n",
      "[-0.69148881 -0.20066714  1.13433373 -0.24217779] [[ 3.53934867 -0.46679066]\n",
      " [-2.79687523  1.29146607]\n",
      " [ 0.49740589  2.64548399]\n",
      " [-0.19764703 -4.08475035]]\n"
     ]
    }
   ],
   "source": [
    "b,W=optimize_logistic_weights(X,Z, b_guess,W_guess,\n",
    "                             X_test, Z_test, \n",
    "                             penalty=0,learning_rate=0.001,batch_size=100,tol=1e-8)\n",
    "print(b,W)"
   ]
  },
  {
   "cell_type": "markdown",
   "metadata": {},
   "source": [
    "### Training Sample Performance"
   ]
  },
  {
   "cell_type": "code",
   "execution_count": 34,
   "metadata": {
    "ExecuteTime": {
     "end_time": "2018-02-22T19:50:16.474486Z",
     "start_time": "2018-02-22T19:50:16.471486Z"
    }
   },
   "outputs": [],
   "source": [
    "pi=logisticClassProbability(X,b,W)"
   ]
  },
  {
   "cell_type": "code",
   "execution_count": 35,
   "metadata": {
    "ExecuteTime": {
     "end_time": "2018-02-22T19:50:16.495486Z",
     "start_time": "2018-02-22T19:50:16.477486Z"
    }
   },
   "outputs": [],
   "source": [
    "Y_pred=pi.argmax(axis=1)"
   ]
  },
  {
   "cell_type": "code",
   "execution_count": 36,
   "metadata": {
    "ExecuteTime": {
     "end_time": "2018-02-22T19:50:16.519986Z",
     "start_time": "2018-02-22T19:50:16.497486Z"
    }
   },
   "outputs": [
    {
     "data": {
      "text/plain": [
       "0.87"
      ]
     },
     "execution_count": 36,
     "metadata": {},
     "output_type": "execute_result"
    }
   ],
   "source": [
    "np.mean(Y_pred==Y)"
   ]
  },
  {
   "cell_type": "markdown",
   "metadata": {},
   "source": [
    "### Out of Sample Performance"
   ]
  },
  {
   "cell_type": "code",
   "execution_count": 37,
   "metadata": {
    "ExecuteTime": {
     "end_time": "2018-02-22T19:52:20.197575Z",
     "start_time": "2018-02-22T19:52:20.196575Z"
    }
   },
   "outputs": [],
   "source": [
    "pi=logisticClassProbability(X_test,b,W)"
   ]
  },
  {
   "cell_type": "code",
   "execution_count": 38,
   "metadata": {
    "ExecuteTime": {
     "end_time": "2018-02-22T19:52:29.596831Z",
     "start_time": "2018-02-22T19:52:29.594831Z"
    }
   },
   "outputs": [
    {
     "data": {
      "text/plain": [
       "0.82"
      ]
     },
     "execution_count": 38,
     "metadata": {},
     "output_type": "execute_result"
    }
   ],
   "source": [
    "Y_pred=pi.argmax(axis=1)\n",
    "np.mean(Y_pred==Y_test)"
   ]
  },
  {
   "cell_type": "markdown",
   "metadata": {
    "ExecuteTime": {
     "end_time": "2017-11-16T09:52:43.841038Z",
     "start_time": "2017-11-16T09:52:43.837027Z"
    }
   },
   "source": [
    "### Stochastic Gradient Descent Logistic Classifier Class\n",
    "\n",
    "The convenience Stochastic Gradient descent classifier, sets defaults for most parameters, takes care of the one-hot encoding of $Y$, etc. and follows the sklearn `fit`/`predict` convention. "
   ]
  },
  {
   "cell_type": "code",
   "execution_count": 39,
   "metadata": {
    "ExecuteTime": {
     "end_time": "2018-02-22T19:50:16.589486Z",
     "start_time": "2018-02-22T19:50:16.519986Z"
    }
   },
   "outputs": [],
   "source": [
    "class LogisticGDClassifier:\n",
    "    def __init__(self,\n",
    "        penalty=0,\n",
    "        learning_rate=0.005,\n",
    "        batch_size=100,\n",
    "        tol=1e-4,\n",
    "        max_iter=100,\n",
    "        verbose=True\n",
    "    ):\n",
    "        self.penalty=penalty\n",
    "        self.learning_rate=learning_rate\n",
    "        self.batch_size=batch_size\n",
    "        self.tol=tol\n",
    "        self.max_iter=max_iter\n",
    "        self.verbose=verbose\n",
    "    def fit(self,X,Y,X_val=None,Y_val=None):\n",
    "        # X_val and Y_val are only used to report accuracy during optimization\n",
    "        # they do not affect the fitted W,b parameters\n",
    "        \n",
    "        \n",
    "        if X.ndim==1:\n",
    "            X=X.reshape(1,-1)\n",
    "        N,D=X.shape\n",
    "       \n",
    "        self.encoder=LabelEncoder()\n",
    "        y=self.encoder.fit_transform(Y)      \n",
    "        K=len(self.encoder.classes_)\n",
    "        Z=np.zeros((N,K),dtype=int)\n",
    "        Z[np.arange(N),y]=1\n",
    "        \n",
    "        \n",
    "        if not(X_val is None):\n",
    "            N_val=len(X_val)\n",
    "            y_val=self.encoder.transform(Y_val)  \n",
    "            Z_val=np.zeros((N_val,K),dtype=int)\n",
    "            Z_val[np.arange(N_val),y_val]=1\n",
    "        else: \n",
    "            Z_val=None\n",
    "\n",
    "        b_guess=np.zeros(K)\n",
    "        W_guess=random.normal(0,1,(K,D))/np.sqrt(D)\n",
    "        \n",
    "        self.b,self.W=optimize_logistic_weights(X,Z,b_guess,W_guess,\n",
    "                                            X_val=X_val,\n",
    "                                            Z_val=Z_val,\n",
    "                                            penalty=self.penalty,\n",
    "                                            learning_rate=self.learning_rate,\n",
    "                                            batch_size=self.batch_size,\n",
    "                                            tol=self.tol,\n",
    "                                            max_iter=self.max_iter,\n",
    "                                            verbose=self.verbose\n",
    "                                            )\n",
    "        \n",
    "    def predict(self,X):\n",
    "        if X.ndim==1:\n",
    "            X=X.reshape(1,-1)\n",
    "        N,D=X.shape   \n",
    "        class_probs=logisticClassProbability(X,self.b,self.W)        \n",
    "        y=class_probs.argmax(axis=1)\n",
    "        return self.encoder.inverse_transform(y)\n",
    "        \n"
   ]
  },
  {
   "cell_type": "markdown",
   "metadata": {},
   "source": [
    "#### Stochastic Gradient Descent Optimizer"
   ]
  },
  {
   "cell_type": "code",
   "execution_count": 40,
   "metadata": {
    "ExecuteTime": {
     "end_time": "2018-02-22T19:50:16.609486Z",
     "start_time": "2018-02-22T19:50:16.592486Z"
    }
   },
   "outputs": [],
   "source": [
    "model=LogisticGDClassifier(penalty=0,learning_rate=0.01)\n"
   ]
  },
  {
   "cell_type": "code",
   "execution_count": 41,
   "metadata": {
    "ExecuteTime": {
     "end_time": "2018-02-22T19:50:16.661986Z",
     "start_time": "2018-02-22T19:50:16.609486Z"
    }
   },
   "outputs": [
    {
     "name": "stdout",
     "output_type": "stream",
     "text": [
      "\t 0 Loss = 128.29894338365216 Train_Accuracy 0.57 Evaluation Loss = 132.15145084663087 Accuracy = 0.48\n",
      "\t 10 Loss = 63.757558529039876 Train_Accuracy 0.77 Evaluation Loss = 72.95425487076339 Accuracy = 0.71\n",
      "\t 20 Loss = 50.8762247704224 Train_Accuracy 0.84 Evaluation Loss = 62.338037286007626 Accuracy = 0.76\n",
      "\t 30 Loss = 44.49847744119103 Train_Accuracy 0.85 Evaluation Loss = 57.37379469571593 Accuracy = 0.8\n",
      "\t 40 Loss = 40.62119802099522 Train_Accuracy 0.85 Evaluation Loss = 54.446865483458616 Accuracy = 0.81\n",
      "\t 50 Loss = 37.98487085923187 Train_Accuracy 0.86 Evaluation Loss = 52.51152480074172 Accuracy = 0.82\n",
      "\t 60 Loss = 36.06150792898946 Train_Accuracy 0.86 Evaluation Loss = 51.13786421370634 Accuracy = 0.83\n",
      "\t 70 Loss = 34.58851097144671 Train_Accuracy 0.86 Evaluation Loss = 50.11446132859266 Accuracy = 0.83\n",
      "\t 80 Loss = 33.41956450699294 Train_Accuracy 0.87 Evaluation Loss = 49.32469810892781 Accuracy = 0.82\n",
      "\t 90 Loss = 32.46626878173838 Train_Accuracy 0.86 Evaluation Loss = 48.6987752718602 Accuracy = 0.82\n",
      "\t 99 Loss = 31.67187136637704 Train_Accuracy 0.86 Evaluation Loss = 48.19226958738501 Accuracy = 0.82\n"
     ]
    }
   ],
   "source": [
    "model.fit(X,Y,X_test,Y_test)"
   ]
  },
  {
   "cell_type": "code",
   "execution_count": 42,
   "metadata": {
    "ExecuteTime": {
     "end_time": "2018-02-22T19:50:16.665986Z",
     "start_time": "2018-02-22T19:50:16.661986Z"
    }
   },
   "outputs": [
    {
     "name": "stderr",
     "output_type": "stream",
     "text": [
      "/home/manel/anaconda3/lib/python3.6/site-packages/sklearn/preprocessing/label.py:151: DeprecationWarning: The truth value of an empty array is ambiguous. Returning False, but in future this will result in an error. Use `array.size > 0` to check that an array is not empty.\n",
      "  if diff:\n"
     ]
    },
    {
     "data": {
      "text/plain": [
       "0.82"
      ]
     },
     "execution_count": 42,
     "metadata": {},
     "output_type": "execute_result"
    }
   ],
   "source": [
    "Y_pred=model.predict(X_test)\n",
    "np.mean(Y_pred==Y_test)"
   ]
  },
  {
   "cell_type": "markdown",
   "metadata": {},
   "source": [
    "#### Bayes Error Rate"
   ]
  },
  {
   "cell_type": "markdown",
   "metadata": {},
   "source": [
    "As the data was generated using a logistic like process with parameters $W0$ and $b0$, the best\n",
    "we han hope to achive is an error rate equal to the one computed with those parameters. \n",
    "\n",
    "This is known as the **Bayes error rate**"
   ]
  },
  {
   "cell_type": "code",
   "execution_count": 43,
   "metadata": {
    "ExecuteTime": {
     "end_time": "2018-02-22T19:50:16.684986Z",
     "start_time": "2018-02-22T19:50:16.666986Z"
    }
   },
   "outputs": [],
   "source": [
    "model0=copy(model)\n",
    "model0.b=b0\n",
    "model0.W=W0"
   ]
  },
  {
   "cell_type": "code",
   "execution_count": 44,
   "metadata": {
    "ExecuteTime": {
     "end_time": "2018-02-22T19:50:16.705986Z",
     "start_time": "2018-02-22T19:50:16.685986Z"
    }
   },
   "outputs": [
    {
     "name": "stderr",
     "output_type": "stream",
     "text": [
      "/home/manel/anaconda3/lib/python3.6/site-packages/sklearn/preprocessing/label.py:151: DeprecationWarning: The truth value of an empty array is ambiguous. Returning False, but in future this will result in an error. Use `array.size > 0` to check that an array is not empty.\n",
      "  if diff:\n"
     ]
    },
    {
     "data": {
      "text/plain": [
       "0.83"
      ]
     },
     "execution_count": 44,
     "metadata": {},
     "output_type": "execute_result"
    }
   ],
   "source": [
    "Y_pred0=model0.predict(X_test)\n",
    "np.mean(Y_pred0==Y_test)"
   ]
  },
  {
   "cell_type": "markdown",
   "metadata": {
    "ExecuteTime": {
     "end_time": "2017-12-04T16:50:03.485552Z",
     "start_time": "2017-12-04T16:50:03.478552Z"
    }
   },
   "source": [
    "The best prediction accuracy we could expect is 84%"
   ]
  },
  {
   "cell_type": "markdown",
   "metadata": {
    "ExecuteTime": {
     "end_time": "2017-12-04T17:24:26.823552Z",
     "start_time": "2017-12-04T17:24:26.820552Z"
    },
    "collapsed": true
   },
   "source": [
    "### Comparison to SKLearn"
   ]
  },
  {
   "cell_type": "markdown",
   "metadata": {
    "ExecuteTime": {
     "end_time": "2017-12-04T17:26:09.147552Z",
     "start_time": "2017-12-04T17:26:09.141552Z"
    }
   },
   "source": [
    "We can also use `sklearn` to create a multi class classifier, but **be careful**"
   ]
  },
  {
   "cell_type": "code",
   "execution_count": 45,
   "metadata": {
    "ExecuteTime": {
     "end_time": "2018-02-22T20:00:54.722800Z",
     "start_time": "2018-02-22T20:00:54.717800Z"
    }
   },
   "outputs": [
    {
     "data": {
      "text/plain": [
       "0.73"
      ]
     },
     "execution_count": 45,
     "metadata": {},
     "output_type": "execute_result"
    }
   ],
   "source": [
    "model=LogisticRegression()\n",
    "model.fit(X,Y)\n",
    "Y_pred=model.predict(X_test)\n",
    "np.mean(Y_pred==Y_test)"
   ]
  },
  {
   "cell_type": "markdown",
   "metadata": {},
   "source": [
    "Be default, the `sklearn` classifier uses regularization ($C=1$, equivalent to $\\lambda=1$), and solves a **one versus rest** classification problem, not the full multi-class logistic regression problem.\n"
   ]
  },
  {
   "cell_type": "markdown",
   "metadata": {
    "ExecuteTime": {
     "end_time": "2017-12-04T17:28:48.858552Z",
     "start_time": "2017-12-04T17:28:48.852552Z"
    }
   },
   "source": [
    "**Corrected comparison**"
   ]
  },
  {
   "cell_type": "code",
   "execution_count": 46,
   "metadata": {
    "ExecuteTime": {
     "end_time": "2018-02-22T19:50:16.755486Z",
     "start_time": "2018-02-22T19:50:16.730486Z"
    }
   },
   "outputs": [
    {
     "name": "stderr",
     "output_type": "stream",
     "text": [
      "/home/manel/anaconda3/lib/python3.6/site-packages/sklearn/linear_model/sag.py:326: ConvergenceWarning: The max_iter was reached which means the coef_ did not converge\n",
      "  \"the coef_ did not converge\", ConvergenceWarning)\n"
     ]
    },
    {
     "data": {
      "text/plain": [
       "0.82"
      ]
     },
     "execution_count": 46,
     "metadata": {},
     "output_type": "execute_result"
    }
   ],
   "source": [
    "model=LogisticRegression(C=1e30,multi_class=\"multinomial\",solver=\"sag\")\n",
    "model.fit(X,Y)\n",
    "Y_pred=model.predict(X_test)\n",
    "np.mean(Y_pred==Y_test)"
   ]
  },
  {
   "cell_type": "markdown",
   "metadata": {
    "collapsed": true
   },
   "source": [
    "Now results are equivalent to our own, and as good as they can possible be."
   ]
  },
  {
   "cell_type": "code",
   "execution_count": null,
   "metadata": {},
   "outputs": [],
   "source": []
  }
 ],
 "metadata": {
  "kernelspec": {
   "display_name": "Python 3",
   "language": "python",
   "name": "python3"
  },
  "language_info": {
   "codemirror_mode": {
    "name": "ipython",
    "version": 3
   },
   "file_extension": ".py",
   "mimetype": "text/x-python",
   "name": "python",
   "nbconvert_exporter": "python",
   "pygments_lexer": "ipython3",
   "version": "3.6.4"
  },
  "toc": {
   "base_numbering": 1,
   "nav_menu": {},
   "number_sections": true,
   "sideBar": true,
   "skip_h1_title": true,
   "title_cell": "Table of Contents",
   "title_sidebar": "Contents",
   "toc_cell": false,
   "toc_position": {},
   "toc_section_display": "block",
   "toc_window_display": true
  }
 },
 "nbformat": 4,
 "nbformat_minor": 2
}
