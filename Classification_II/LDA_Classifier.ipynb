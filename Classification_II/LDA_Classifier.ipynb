{
 "cells": [
  {
   "cell_type": "markdown",
   "metadata": {},
   "source": [
    "# LDA and QDA Classifiers"
   ]
  },
  {
   "cell_type": "markdown",
   "metadata": {
    "ExecuteTime": {
     "end_time": "2018-02-06T10:49:05.183376Z",
     "start_time": "2018-02-06T10:49:05.179366Z"
    }
   },
   "source": [
    "## Preliminaries"
   ]
  },
  {
   "cell_type": "markdown",
   "metadata": {},
   "source": [
    "### Imports"
   ]
  },
  {
   "cell_type": "code",
   "execution_count": 1,
   "metadata": {
    "ExecuteTime": {
     "end_time": "2018-02-22T18:14:45.470004Z",
     "start_time": "2018-02-22T18:14:39.925936Z"
    }
   },
   "outputs": [],
   "source": [
    "import numpy as np\n",
    "import matplotlib.pyplot as plt\n",
    "import matplotlib as mpl\n",
    "from scipy.stats import multivariate_normal\n",
    "\n",
    "from sklearn.naive_bayes import GaussianNB\n",
    "from sklearn.discriminant_analysis import LinearDiscriminantAnalysis as LDA\n",
    "from sklearn.discriminant_analysis import QuadraticDiscriminantAnalysis as QDA\n",
    "from sklearn.linear_model import LogisticRegression\n",
    "\n",
    "%matplotlib inline\n",
    "plt.rcParams['figure.figsize'] = (10.0, 8.0) # set default size of plots\n",
    "\n",
    "\n",
    "import sys\n",
    "sys.path.append(\"../..\")\n",
    "from E4525_ML import plots\n",
    "from E4525_ML import samples"
   ]
  },
  {
   "cell_type": "markdown",
   "metadata": {},
   "source": [
    "### Random Seed"
   ]
  },
  {
   "cell_type": "code",
   "execution_count": 2,
   "metadata": {
    "ExecuteTime": {
     "end_time": "2018-02-22T18:14:45.485604Z",
     "start_time": "2018-02-22T18:14:45.470004Z"
    }
   },
   "outputs": [],
   "source": [
    "seed=23863\n",
    "np.random.seed(seed)"
   ]
  },
  {
   "cell_type": "markdown",
   "metadata": {
    "ExecuteTime": {
     "end_time": "2018-02-06T10:50:18.275660Z",
     "start_time": "2018-02-06T10:50:18.272652Z"
    }
   },
   "source": [
    "## Generate Mixture of Gaussians Sample Data "
   ]
  },
  {
   "cell_type": "markdown",
   "metadata": {},
   "source": [
    "We will generate data over a true **mixed gaussian** distribution\n",
    "$$\n",
    "    p(y=k) = \\pi^0_k\n",
    "$$\n",
    "And\n",
    "$$\n",
    "    p(x| y=k) = \\mathcal{N}(x;\\mu^0_k,\\Lambda^0_k)\n",
    "$$\n",
    "Where $x\\in \\mathbb{R}^D$ for $D=2$ and $y$ can belong to $K=3$ classes, $\\mu^0_k$ is a $D$-dimensional vector, and $\\Lambda^0_k$ is a $D\\times D$ positive definite symmetric matrix.\n",
    "\n",
    "The marginal distribution of $x$ is then\n",
    "\n",
    "$$\n",
    "    p(x) = \\sum_k p(x|y=k)p(y=k) = \\sum_k \\mathcal{N}(x;\\mu^0_k,\\Lambda^0_k) \\pi_k\n",
    "$$"
   ]
  },
  {
   "cell_type": "code",
   "execution_count": 3,
   "metadata": {
    "ExecuteTime": {
     "end_time": "2018-02-22T18:14:45.519304Z",
     "start_time": "2018-02-22T18:14:45.485604Z"
    }
   },
   "outputs": [],
   "source": [
    "pi0=np.array([0.5,0.25,0.25])"
   ]
  },
  {
   "cell_type": "markdown",
   "metadata": {},
   "source": [
    "We define the class conditional means\n",
    "$$\n",
    "    \\mu^0_{k,d}\n",
    "$$\n",
    "and variances\n",
    "$$\n",
    "    \\Lambda^0_{k,d,d'}\n",
    "$$\n",
    "where $\\Lambda^0$ is symmetric on the last two indexes \n",
    "$$\n",
    "    \\Lambda^0_{k,d,d'} = \\Lambda^0_{k,d',d}\n",
    "$$"
   ]
  },
  {
   "cell_type": "code",
   "execution_count": 41,
   "metadata": {
    "ExecuteTime": {
     "end_time": "2018-02-22T18:14:45.537404Z",
     "start_time": "2018-02-22T18:14:45.519304Z"
    }
   },
   "outputs": [],
   "source": [
    "mu0=np.array([[0.0,0.0],\n",
    "              [2.0,2.0],\n",
    "              [2.0,-2.0]\n",
    "             ]\n",
    "            )\n",
    "\n",
    "sigma0=np.array(\n",
    "    [\n",
    "        [ [1.0, 0.0],\n",
    "          [0.0, 1.0]\n",
    "        ],\n",
    "        [ [ 1.0, -.75],\n",
    "          [-0.75, 1.0]\n",
    "        ],\n",
    "         [ [ 1.0, 0.75],\n",
    "          [  0.75, 1.0]\n",
    "        ]\n",
    "    ]\n",
    ")"
   ]
  },
  {
   "cell_type": "markdown",
   "metadata": {
    "ExecuteTime": {
     "end_time": "2018-02-22T15:55:59.409656Z",
     "start_time": "2018-02-22T15:55:59.406656Z"
    }
   },
   "source": [
    "We will generate $N$ samples"
   ]
  },
  {
   "cell_type": "code",
   "execution_count": 5,
   "metadata": {
    "ExecuteTime": {
     "end_time": "2018-02-22T18:14:45.539904Z",
     "start_time": "2018-02-22T18:14:45.537404Z"
    }
   },
   "outputs": [],
   "source": [
    "N_samples=20"
   ]
  },
  {
   "cell_type": "markdown",
   "metadata": {},
   "source": [
    "To generate $X$ we  generate  auxiliary variables $X_{k,i,d}$ for each one of the possible $k$ classes ( $k=1,\\dots,K$ the number of classes, $i=1,\\dots,N$, the number of samples,  and $d=1,\\dots,D$ the number of dimensions of $X$)\n",
    "\n",
    "$$\n",
    "    X_{i,k,d} \\sim \\mathcal{N}(\\mu^0_k,\\Lambda^0_k)\n",
    "$$\n",
    "and them we multiply by the one hot encoding $Z$ of $Y$\n",
    "$$\n",
    "    X_{i,d} = \\sum_k X_{k,i,d} Z_{i,k}\n",
    "$$"
   ]
  },
  {
   "cell_type": "code",
   "execution_count": 42,
   "metadata": {
    "ExecuteTime": {
     "end_time": "2018-02-22T18:14:45.554904Z",
     "start_time": "2018-02-22T18:14:45.539904Z"
    }
   },
   "outputs": [],
   "source": [
    "# returns X, and Z the one-hot encoding of Y\n",
    "def gaussian_mixture(N_samples,pi, mu,sigma):\n",
    "    K,D=mu.shape\n",
    "    # We generate Y first, but as a one-hot encoded representation Z\n",
    "    # Z has multinomial with K possible classes\n",
    "    # Z is N x K \n",
    "    Z=np.random.multinomial(1,pi,N_samples)\n",
    "    gaussians=np.empty((K,N_samples,D))\n",
    "    for k in range(K):\n",
    "          gaussian=np.random.multivariate_normal(mu[k],sigma[k],size=N_samples)\n",
    "          gaussians[k]=gaussian\n",
    "    # Z.T[...,np.newaxis] will be K x N_samples x 1\n",
    "    # Gaussian is                 K x N_samples x D\n",
    "    # P_{k,i,d } =  Z_{i,k} * G_{k,i,d}\n",
    "    prod=Z.T[...,np.newaxis]*gaussians\n",
    "    X=np.sum(prod,axis=0)\n",
    "    return X,Z"
   ]
  },
  {
   "cell_type": "code",
   "execution_count": 7,
   "metadata": {
    "ExecuteTime": {
     "end_time": "2018-02-22T18:14:45.594904Z",
     "start_time": "2018-02-22T18:14:45.554904Z"
    }
   },
   "outputs": [],
   "source": [
    "X,Z=samples.gaussian_mixture(N_samples,pi0,mu0,sigma0)\n",
    "X_test,Z_test=gaussian_mixture(N_samples,pi0,mu0,sigma0)"
   ]
  },
  {
   "cell_type": "code",
   "execution_count": 8,
   "metadata": {
    "ExecuteTime": {
     "end_time": "2018-02-22T18:14:45.607404Z",
     "start_time": "2018-02-22T18:14:45.594904Z"
    }
   },
   "outputs": [],
   "source": [
    "# generate class Y from one-hot encoding\n",
    "Y=Z.argmax(axis=1)\n",
    "Y_test=Z_test.argmax(axis=1)"
   ]
  },
  {
   "cell_type": "code",
   "execution_count": 9,
   "metadata": {
    "ExecuteTime": {
     "end_time": "2018-02-22T18:14:45.627404Z",
     "start_time": "2018-02-22T18:14:45.607404Z"
    }
   },
   "outputs": [
    {
     "data": {
      "text/plain": [
       "((20, 2), (20, 2))"
      ]
     },
     "execution_count": 9,
     "metadata": {},
     "output_type": "execute_result"
    }
   ],
   "source": [
    "X.shape,X_test.shape"
   ]
  },
  {
   "cell_type": "markdown",
   "metadata": {
    "ExecuteTime": {
     "end_time": "2018-02-22T15:59:27.703656Z",
     "start_time": "2018-02-22T15:59:27.700656Z"
    }
   },
   "source": [
    "### Visualize Input Data distribution"
   ]
  },
  {
   "cell_type": "markdown",
   "metadata": {},
   "source": [
    "We separate X by class to plot them separately"
   ]
  },
  {
   "cell_type": "code",
   "execution_count": 10,
   "metadata": {
    "ExecuteTime": {
     "end_time": "2018-02-22T18:14:45.649904Z",
     "start_time": "2018-02-22T18:14:45.627404Z"
    }
   },
   "outputs": [],
   "source": [
    "x0=X[Z[:,0]==1]\n",
    "x1=X[Z[:,1]==1]\n",
    "x2=X[Z[:,2]==1]"
   ]
  },
  {
   "cell_type": "code",
   "execution_count": 11,
   "metadata": {
    "ExecuteTime": {
     "end_time": "2018-02-22T18:14:45.679904Z",
     "start_time": "2018-02-22T18:14:45.649904Z"
    }
   },
   "outputs": [],
   "source": [
    "def plot_ellipse(splot, mean, cov, color):\n",
    "    v, w = np.linalg.eigh(cov)\n",
    "    u = w[0] / np.linalg.norm(w[0])\n",
    "    angle = np.arctan(u[1] / u[0])\n",
    "    angle = 180 * angle / np.pi  # convert to degrees\n",
    "    # filled Gaussian at 2 standard deviation\n",
    "    ell1 = mpl.patches.Ellipse(mean, 2 * v[0] ** 0.5, 2 * v[1] ** 0.5,\n",
    "                              180 + angle, facecolor=color,\n",
    "                              edgecolor=color,\n",
    "                              linewidth=2, zorder=2)\n",
    "    ell1.set_clip_box(splot.bbox)\n",
    "    ell1.set_alpha(0.2)\n",
    "    \n",
    "    ell2 = mpl.patches.Ellipse(mean, 4 * v[0] ** 0.5, 4 * v[1] ** 0.5,\n",
    "                              180 + angle, facecolor=color,\n",
    "                              edgecolor=color,\n",
    "                              linewidth=2, zorder=2)\n",
    "    ell2.set_clip_box(splot.bbox)\n",
    "    ell2.set_alpha(0.05)\n",
    "    splot.add_artist(ell1)\n",
    "    splot.add_artist(ell2)\n",
    "    splot.set_xticks(())\n",
    "    splot.set_yticks(())"
   ]
  },
  {
   "cell_type": "code",
   "execution_count": 12,
   "metadata": {
    "ExecuteTime": {
     "end_time": "2018-02-22T18:14:45.787404Z",
     "start_time": "2018-02-22T18:14:45.679904Z"
    }
   },
   "outputs": [
    {
     "data": {
      "image/png": "[encoded data removed]",
      "text/plain": [
       "<matplotlib.figure.Figure at 0x7fd042a41ac8>"
      ]
     },
     "metadata": {},
     "output_type": "display_data"
    }
   ],
   "source": [
    "f, ax1 = plt.subplots(1, 1, sharey=True,sharex=True)\n",
    "\n",
    "ax1.scatter(x0[:,0],x0[:,1],c=\"#FF0000\", s=40)\n",
    "ax1.scatter(x1[:,0],x1[:,1],c=\"#00FF00\", s=40)\n",
    "ax1.scatter(x2[:,0],x2[:,1],c=\"#0000FF\", s=40)\n",
    "plot_ellipse(ax1,mu0[0],sigma0[0],\"#FF0000\")\n",
    "plot_ellipse(ax1,mu0[1],sigma0[1],\"#00FF00\")\n",
    "plot_ellipse(ax1,mu0[2],sigma0[2],\"#0000FF\")"
   ]
  },
  {
   "cell_type": "markdown",
   "metadata": {},
   "source": [
    "## LDA and QDA Mixture Estimates"
   ]
  },
  {
   "cell_type": "markdown",
   "metadata": {},
   "source": [
    "### LDA Gaussian Mixture Estimates"
   ]
  },
  {
   "cell_type": "markdown",
   "metadata": {
    "ExecuteTime": {
     "end_time": "2018-02-22T16:04:21.156656Z",
     "start_time": "2018-02-22T16:04:21.149656Z"
    }
   },
   "source": [
    "For LDA we need to estimate the per class marginal distributions\n",
    "$$\n",
    "    \\hat{\\pi}_k = \\frac{\\hat{N}_k}{N} = \\frac{ \\sum_i z_{i,k}}{N}\n",
    "$$\n",
    "the per class mean\n",
    "$$\n",
    "    \\mu_{k,d} = \\frac{1}{\\hat{N}_k}\\sum_i z_{i,k}x_{i,d} \n",
    "$$\n",
    "and the shared covariance matrix\n",
    "$$\n",
    "    \\Lambda_{d,d'} = \\frac{1}{N} \\sum_k\\sum_i z_{i,k}( x_{i,d} -\\mu_{k,d})( x_{i,d'} -\\mu_{k,d'})\n",
    "$$"
   ]
  },
  {
   "cell_type": "code",
   "execution_count": 13,
   "metadata": {
    "ExecuteTime": {
     "end_time": "2018-02-22T18:14:45.797404Z",
     "start_time": "2018-02-22T18:14:45.787404Z"
    }
   },
   "outputs": [],
   "source": [
    "def LDA_estimate(X,Z):\n",
    "    counts=Z.sum(axis=0)\n",
    "    pi=counts/len(X)\n",
    "    ZX=Z[:,:,np.newaxis]*X[:,np.newaxis,:]\n",
    "    mu=np.sum(ZX,axis=0)/counts[:,np.newaxis]\n",
    "    dZX=ZX-Z[:,:,np.newaxis]*mu[np.newaxis,:,:]\n",
    "    dZX2=dZX[:,:,:,np.newaxis]*dZX[:,:,np.newaxis,:]\n",
    "    cov=dZX2.sum(axis=(0,1))/len(X)\n",
    "    return pi,mu,cov"
   ]
  },
  {
   "cell_type": "code",
   "execution_count": 14,
   "metadata": {
    "ExecuteTime": {
     "end_time": "2018-02-22T18:14:45.841904Z",
     "start_time": "2018-02-22T18:14:45.797404Z"
    }
   },
   "outputs": [
    {
     "name": "stdout",
     "output_type": "stream",
     "text": [
      "pi [0.55 0.25 0.2 ]\n",
      "mu [[-0.30440746  0.10799323]\n",
      " [ 1.88506622  2.66484143]\n",
      " [ 1.56300336 -2.26189515]]\n",
      "sigma [[ 0.76599772 -0.01033078]\n",
      " [-0.01033078  0.91226757]]\n"
     ]
    }
   ],
   "source": [
    "pi,mu,sigma=LDA_estimate(X,Z)\n",
    "print(\"pi\",pi)\n",
    "print(\"mu\",mu)\n",
    "print(\"sigma\",sigma)"
   ]
  },
  {
   "cell_type": "code",
   "execution_count": 15,
   "metadata": {
    "ExecuteTime": {
     "end_time": "2018-02-22T18:14:45.973604Z",
     "start_time": "2018-02-22T18:14:45.842904Z"
    }
   },
   "outputs": [
    {
     "data": {
      "image/png": "[encoded data removed]",
      "text/plain": [
       "<matplotlib.figure.Figure at 0x7fd03a481860>"
      ]
     },
     "metadata": {},
     "output_type": "display_data"
    }
   ],
   "source": [
    "f, ax1 = plt.subplots(1, 1, sharey=True,sharex=True)\n",
    "\n",
    "ax1.scatter(x0[:,0],x0[:,1],c=\"#FF0000\", s=40)\n",
    "ax1.scatter(x1[:,0],x1[:,1],c=\"#00FF00\", s=40)\n",
    "ax1.scatter(x2[:,0],x2[:,1],c=\"#0000FF\", s=40)\n",
    "plot_ellipse(ax1,mu[0],sigma,\"#FF0000\")\n",
    "plot_ellipse(ax1,mu[1],sigma,\"#00FF00\")\n",
    "plot_ellipse(ax1,mu[2],sigma,\"#0000FF\")"
   ]
  },
  {
   "cell_type": "markdown",
   "metadata": {},
   "source": [
    "### QDA Gaussian Mixture Estimates"
   ]
  },
  {
   "cell_type": "markdown",
   "metadata": {},
   "source": [
    "For QDA we need to estimate again the per class marginal distributions\n",
    "$$\n",
    "    \\hat{\\pi}_k = \\frac{\\hat{N}_k}{N} = \\frac{ \\sum_i z_{i,k}}{N}\n",
    "$$\n",
    "the per class mean\n",
    "$$\n",
    "    \\mu_{k,d} = \\frac{1}{\\hat{N}_k}=\\sum_i z_{i,k}x_{i,d} \n",
    "$$\n",
    "but we estimate a **per class** covariance matrix\n",
    "$$\n",
    "    \\Lambda_{k,d,d'} = \\frac{1}{\\hat{N}_k} \\sum_i z_{i,k}( x_{i,d} -\\mu_{k,d})( x_{i,d'} -\\mu_{k,d'})=\\frac{1}{\\hat{N}_k}\\sum_i z_{i,k} x_{i,d}x_{i,d'} - \\mu_{k,d}\\mu_{k,d'}\n",
    "$$"
   ]
  },
  {
   "cell_type": "code",
   "execution_count": 16,
   "metadata": {
    "ExecuteTime": {
     "end_time": "2018-02-22T18:14:45.988604Z",
     "start_time": "2018-02-22T18:14:45.976104Z"
    }
   },
   "outputs": [],
   "source": [
    "def QDA_estimate(X,Z):\n",
    "    D=X.shape[1]\n",
    "    counts=Z.sum(axis=0)\n",
    "    pi=counts/len(X)\n",
    "    ZX=Z[:,:,np.newaxis]*X[:,np.newaxis,:]\n",
    "    mu=np.sum(ZX,axis=0)/counts[:,np.newaxis]\n",
    "    print(ZX.shape,Z.shape,mu.shape)\n",
    "    dX=ZX-Z[:,:,np.newaxis]*mu[np.newaxis,:,:]\n",
    "    X2=dX[:,:,:,np.newaxis]*dX[:,:,np.newaxis,:]\n",
    "    cov=X2.sum(axis=0)/counts[:,np.newaxis,np.newaxis]\n",
    "    return pi,mu,cov"
   ]
  },
  {
   "cell_type": "code",
   "execution_count": 17,
   "metadata": {
    "ExecuteTime": {
     "end_time": "2018-02-22T18:14:46.006104Z",
     "start_time": "2018-02-22T18:14:45.988604Z"
    }
   },
   "outputs": [
    {
     "name": "stdout",
     "output_type": "stream",
     "text": [
      "(20, 3, 2) (20, 3) (3, 2)\n",
      "pi [0.55 0.25 0.2 ]\n",
      "mu [[-0.30440746  0.10799323]\n",
      " [ 1.88506622  2.66484143]\n",
      " [ 1.56300336 -2.26189515]]\n",
      "sigma [[[ 0.96505804  0.0775804 ]\n",
      "  [ 0.0775804   1.17348689]]\n",
      "\n",
      " [[ 0.90264845 -0.34271179]\n",
      "  [-0.34271179  0.56758196]]\n",
      "\n",
      " [[ 0.04776841  0.16338976]\n",
      "  [ 0.16338976  0.62477147]]]\n"
     ]
    }
   ],
   "source": [
    "pi,mu,sigma=QDA_estimate(X,Z)\n",
    "print(\"pi\",pi)\n",
    "print(\"mu\",mu)\n",
    "print(\"sigma\",sigma)"
   ]
  },
  {
   "cell_type": "code",
   "execution_count": 18,
   "metadata": {
    "ExecuteTime": {
     "end_time": "2018-02-22T18:14:46.102604Z",
     "start_time": "2018-02-22T18:14:46.006104Z"
    }
   },
   "outputs": [
    {
     "data": {
      "image/png": "[encoded data removed]",
      "text/plain": [
       "<matplotlib.figure.Figure at 0x7fd03a3dd160>"
      ]
     },
     "metadata": {},
     "output_type": "display_data"
    }
   ],
   "source": [
    "f, ax1 = plt.subplots(1, 1, sharey=True,sharex=True)\n",
    "\n",
    "ax1.scatter(x0[:,0],x0[:,1],c=\"#FF0000\", s=40)\n",
    "ax1.scatter(x1[:,0],x1[:,1],c=\"#00FF00\", s=40)\n",
    "ax1.scatter(x2[:,0],x2[:,1],c=\"#0000FF\", s=40)\n",
    "plot_ellipse(ax1,mu[0],sigma[0],\"#FF0000\")\n",
    "plot_ellipse(ax1,mu[1],sigma[1],\"#00FF00\")\n",
    "plot_ellipse(ax1,mu[2],sigma[2],\"#0000FF\")"
   ]
  },
  {
   "cell_type": "markdown",
   "metadata": {
    "ExecuteTime": {
     "end_time": "2018-02-06T10:52:05.334069Z",
     "start_time": "2018-02-06T10:52:05.330059Z"
    }
   },
   "source": [
    "## Classifiers"
   ]
  },
  {
   "cell_type": "code",
   "execution_count": 19,
   "metadata": {
    "ExecuteTime": {
     "end_time": "2018-02-22T18:14:46.122604Z",
     "start_time": "2018-02-22T18:14:46.102604Z"
    }
   },
   "outputs": [],
   "source": [
    "class LDAClassifier:\n",
    "    def __init__(self):\n",
    "        pass\n",
    "    def fit(self,X,Y):\n",
    "        # one-hot-encode\n",
    "        K=Y.max()+1\n",
    "        N=len(X)\n",
    "        Z=np.zeros((N,K))\n",
    "        Z[np.arange(N), Y] = 1\n",
    "        self.pi,self.mu,self.sigma=LDA_estimate(X,Z)\n",
    "    def predict(self,X):\n",
    "        K=len(self.pi)\n",
    "        N,D=X.shape\n",
    "        prob=np.empty((N,K))\n",
    "        for k in range(K):\n",
    "             normal=multivariate_normal(mean=self.mu[k],cov=self.sigma)\n",
    "             prob[:,k]=normal.pdf(X)*self.pi[k]\n",
    "         \n",
    "        Y=prob.argmax(axis=1)\n",
    "        return Y"
   ]
  },
  {
   "cell_type": "code",
   "execution_count": 20,
   "metadata": {
    "ExecuteTime": {
     "end_time": "2018-02-22T18:14:46.142604Z",
     "start_time": "2018-02-22T18:14:46.122604Z"
    }
   },
   "outputs": [],
   "source": [
    "class QDAClassifier:\n",
    "    def __init__(self):\n",
    "        pass\n",
    "    def fit(self,X,Y):\n",
    "        # one-hot-encode\n",
    "        K=Y.max()+1\n",
    "        N=len(X)\n",
    "        Z=np.zeros((N,K))\n",
    "        Z[np.arange(N), Y] = 1\n",
    "        self.pi,self.mu,self.sigma=QDA_estimate(X,Z)\n",
    "    def predict(self,X):\n",
    "        K=len(self.pi)\n",
    "        N,D=X.shape\n",
    "        prob=np.empty((N,K))\n",
    "        for k in range(K):\n",
    "             normal=multivariate_normal(mean=self.mu[k],cov=self.sigma[k])\n",
    "             prob[:,k]=normal.pdf(X)*self.pi[k]\n",
    "        #Y=np.zeros((N,K))\n",
    "        #Y[np.arange(N), prob.argmax(axis=1)] = 1 \n",
    "        Y=prob.argmax(axis=1)\n",
    "        return Y"
   ]
  },
  {
   "cell_type": "markdown",
   "metadata": {
    "ExecuteTime": {
     "end_time": "2018-02-06T10:52:48.604518Z",
     "start_time": "2018-02-06T10:52:48.601505Z"
    }
   },
   "source": [
    "## Test Classifiers"
   ]
  },
  {
   "cell_type": "markdown",
   "metadata": {},
   "source": [
    "### LDA"
   ]
  },
  {
   "cell_type": "code",
   "execution_count": 21,
   "metadata": {
    "ExecuteTime": {
     "end_time": "2018-02-22T18:14:46.165104Z",
     "start_time": "2018-02-22T18:14:46.142604Z"
    }
   },
   "outputs": [
    {
     "data": {
      "text/plain": [
       "array([[ 0.76599772, -0.01033078],\n",
       "       [-0.01033078,  0.91226757]])"
      ]
     },
     "execution_count": 21,
     "metadata": {},
     "output_type": "execute_result"
    }
   ],
   "source": [
    "lda_model=LDAClassifier()\n",
    "lda_model.fit(X,Y)\n",
    "lda_model.sigma"
   ]
  },
  {
   "cell_type": "code",
   "execution_count": 22,
   "metadata": {
    "ExecuteTime": {
     "end_time": "2018-02-22T18:14:46.185104Z",
     "start_time": "2018-02-22T18:14:46.167604Z"
    }
   },
   "outputs": [
    {
     "data": {
      "text/plain": [
       "0.9"
      ]
     },
     "execution_count": 22,
     "metadata": {},
     "output_type": "execute_result"
    }
   ],
   "source": [
    "Y_lda_predicted=lda_model.predict(X_test)\n",
    "np.average(Y_test==Y_lda_predicted)"
   ]
  },
  {
   "cell_type": "code",
   "execution_count": 23,
   "metadata": {
    "ExecuteTime": {
     "end_time": "2018-02-22T18:14:46.433803Z",
     "start_time": "2018-02-22T18:14:46.187604Z"
    },
    "scrolled": false
   },
   "outputs": [
    {
     "data": {
      "text/plain": [
       "Text(0.5,1,'Test Data Performance')"
      ]
     },
     "execution_count": 23,
     "metadata": {},
     "output_type": "execute_result"
    },
    {
     "data": {
      "image/png": "[encoded data removed]",
      "text/plain": [
       "<matplotlib.figure.Figure at 0x7fd03a3d76d8>"
      ]
     },
     "metadata": {},
     "output_type": "display_data"
    }
   ],
   "source": [
    "f, (ax1, ax2) = plt.subplots(1, 2, sharey=True,sharex=True)\n",
    "#plots.\n",
    "plots.decision_boundary_2d(lda_model,X,Y,ax1,cmap=plt.cm.Accent)\n",
    "ax1.set_title(\"LDA classifier decision boundary\")\n",
    "#plots.\n",
    "plots.decision_boundary_2d(lda_model,X_test,Y_test,ax2,cmap=plt.cm.Accent)\n",
    "ax2.set_title(\"Test Data Performance\")\n",
    "#fig.savefig('lda.png')"
   ]
  },
  {
   "cell_type": "code",
   "execution_count": 24,
   "metadata": {
    "ExecuteTime": {
     "end_time": "2018-02-22T18:14:46.581303Z",
     "start_time": "2018-02-22T18:14:46.433803Z"
    }
   },
   "outputs": [
    {
     "data": {
      "image/png": "[encoded data removed]",
      "text/plain": [
       "<matplotlib.figure.Figure at 0x7fd039f0e5f8>"
      ]
     },
     "metadata": {},
     "output_type": "display_data"
    }
   ],
   "source": [
    "f, ax1 = plt.subplots(1, 1, sharey=True,sharex=True)\n",
    "#plots.\n",
    "plots.decision_boundary_2d(lda_model,X,Y,ax1,cmap=plt.cm.Accent)"
   ]
  },
  {
   "cell_type": "markdown",
   "metadata": {
    "ExecuteTime": {
     "end_time": "2018-02-06T10:53:22.999323Z",
     "start_time": "2018-02-06T10:53:22.995348Z"
    }
   },
   "source": [
    "### QDA"
   ]
  },
  {
   "cell_type": "code",
   "execution_count": 25,
   "metadata": {
    "ExecuteTime": {
     "end_time": "2018-02-22T18:14:46.588803Z",
     "start_time": "2018-02-22T18:14:46.581303Z"
    }
   },
   "outputs": [
    {
     "name": "stdout",
     "output_type": "stream",
     "text": [
      "(20, 3, 2) (20, 3) (3, 2)\n"
     ]
    },
    {
     "data": {
      "text/plain": [
       "array([[[ 0.96505804,  0.0775804 ],\n",
       "        [ 0.0775804 ,  1.17348689]],\n",
       "\n",
       "       [[ 0.90264845, -0.34271179],\n",
       "        [-0.34271179,  0.56758196]],\n",
       "\n",
       "       [[ 0.04776841,  0.16338976],\n",
       "        [ 0.16338976,  0.62477147]]])"
      ]
     },
     "execution_count": 25,
     "metadata": {},
     "output_type": "execute_result"
    }
   ],
   "source": [
    "qda_model=QDAClassifier()\n",
    "qda_model.fit(X,Y)\n",
    "qda_model.sigma"
   ]
  },
  {
   "cell_type": "code",
   "execution_count": 26,
   "metadata": {
    "ExecuteTime": {
     "end_time": "2018-02-22T18:14:46.608803Z",
     "start_time": "2018-02-22T18:14:46.588803Z"
    }
   },
   "outputs": [
    {
     "data": {
      "text/plain": [
       "0.85"
      ]
     },
     "execution_count": 26,
     "metadata": {},
     "output_type": "execute_result"
    }
   ],
   "source": [
    "Y_qda_predicted=qda_model.predict(X_test)\n",
    "np.mean(Y_test==Y_qda_predicted)"
   ]
  },
  {
   "cell_type": "markdown",
   "metadata": {
    "ExecuteTime": {
     "end_time": "2018-02-06T11:43:12.437700Z",
     "start_time": "2018-02-06T11:43:08.586Z"
    },
    "collapsed": true
   },
   "source": [
    "So QDA performance is slightly worse on this test."
   ]
  },
  {
   "cell_type": "code",
   "execution_count": 27,
   "metadata": {
    "ExecuteTime": {
     "end_time": "2018-02-22T18:14:46.856103Z",
     "start_time": "2018-02-22T18:14:46.608803Z"
    },
    "scrolled": true
   },
   "outputs": [
    {
     "data": {
      "text/plain": [
       "Text(0.5,1,'Test Data Performance')"
      ]
     },
     "execution_count": 27,
     "metadata": {},
     "output_type": "execute_result"
    },
    {
     "data": {
      "image/png": "[encoded data removed]",
      "text/plain": [
       "<matplotlib.figure.Figure at 0x7fd039ef9e48>"
      ]
     },
     "metadata": {},
     "output_type": "display_data"
    }
   ],
   "source": [
    "f, (ax1, ax2) = plt.subplots(1, 2, sharey=True,sharex=True)\n",
    "#plots.\n",
    "plots.decision_boundary_2d(qda_model,X,Y,ax1,cmap=plt.cm.Accent)\n",
    "ax1.set_title(\"LDA classifier decision boundary\")\n",
    "#plots.\n",
    "plots.decision_boundary_2d(qda_model,X_test,Y_test,ax2,cmap=plt.cm.Accent)\n",
    "ax2.set_title(\"Test Data Performance\")\n",
    "#fig.savefig('qda.png')"
   ]
  },
  {
   "cell_type": "code",
   "execution_count": 28,
   "metadata": {
    "ExecuteTime": {
     "end_time": "2018-02-22T18:14:46.984603Z",
     "start_time": "2018-02-22T18:14:46.856103Z"
    }
   },
   "outputs": [
    {
     "data": {
      "image/png": "[encoded data removed]",
      "text/plain": [
       "<matplotlib.figure.Figure at 0x7fd03a3d7518>"
      ]
     },
     "metadata": {},
     "output_type": "display_data"
    }
   ],
   "source": [
    "f, ax1 = plt.subplots(1, 1, sharey=True,sharex=True)\n",
    "plots.decision_boundary_2d(qda_model,X,Y,ax1,cmap=plt.cm.Accent)"
   ]
  },
  {
   "cell_type": "markdown",
   "metadata": {},
   "source": [
    "## Comparison to `sklearn`"
   ]
  },
  {
   "cell_type": "markdown",
   "metadata": {
    "ExecuteTime": {
     "end_time": "2018-02-06T10:59:49.203754Z",
     "start_time": "2018-02-06T10:59:49.194731Z"
    }
   },
   "source": [
    "### LDA"
   ]
  },
  {
   "cell_type": "code",
   "execution_count": 29,
   "metadata": {
    "ExecuteTime": {
     "end_time": "2018-02-22T18:14:46.992103Z",
     "start_time": "2018-02-22T18:14:46.984603Z"
    }
   },
   "outputs": [
    {
     "data": {
      "text/plain": [
       "0.9"
      ]
     },
     "execution_count": 29,
     "metadata": {},
     "output_type": "execute_result"
    }
   ],
   "source": [
    "sk_model=LDA()\n",
    "sk_model.fit(X,Y)\n",
    "np.mean(sk_model.predict(X_test)==Y_test)"
   ]
  },
  {
   "cell_type": "markdown",
   "metadata": {
    "ExecuteTime": {
     "end_time": "2018-02-06T11:00:04.093004Z",
     "start_time": "2018-02-06T11:00:04.088996Z"
    }
   },
   "source": [
    "### QDA"
   ]
  },
  {
   "cell_type": "code",
   "execution_count": 30,
   "metadata": {
    "ExecuteTime": {
     "end_time": "2018-02-22T18:14:47.012103Z",
     "start_time": "2018-02-22T18:14:46.992103Z"
    }
   },
   "outputs": [
    {
     "data": {
      "text/plain": [
       "0.8"
      ]
     },
     "execution_count": 30,
     "metadata": {},
     "output_type": "execute_result"
    }
   ],
   "source": [
    "sk_model=QDA()\n",
    "sk_model.fit(X,Y)\n",
    "np.mean(sk_model.predict(X_test)==Y_test)"
   ]
  },
  {
   "cell_type": "markdown",
   "metadata": {
    "ExecuteTime": {
     "end_time": "2018-02-07T17:26:40.594771Z",
     "start_time": "2018-02-07T17:26:40.579171Z"
    }
   },
   "source": [
    "## Logistic Classifier"
   ]
  },
  {
   "cell_type": "code",
   "execution_count": 31,
   "metadata": {
    "ExecuteTime": {
     "end_time": "2018-02-22T18:14:47.034103Z",
     "start_time": "2018-02-22T18:14:47.012103Z"
    }
   },
   "outputs": [
    {
     "name": "stderr",
     "output_type": "stream",
     "text": [
      "/home/manel/anaconda3/lib/python3.6/site-packages/sklearn/linear_model/sag.py:326: ConvergenceWarning: The max_iter was reached which means the coef_ did not converge\n",
      "  \"the coef_ did not converge\", ConvergenceWarning)\n"
     ]
    },
    {
     "data": {
      "text/plain": [
       "0.95"
      ]
     },
     "execution_count": 31,
     "metadata": {},
     "output_type": "execute_result"
    }
   ],
   "source": [
    "logistic_model=LogisticRegression(C=1e30, multi_class=\"multinomial\",solver=\"sag\")\n",
    "logistic_model.fit(X,Y)\n",
    "Y_pred=logistic_model.predict(X_test)\n",
    "np.mean(Y_pred==Y_test)"
   ]
  },
  {
   "cell_type": "code",
   "execution_count": 32,
   "metadata": {
    "ExecuteTime": {
     "end_time": "2018-02-22T18:14:47.165103Z",
     "start_time": "2018-02-22T18:14:47.035103Z"
    }
   },
   "outputs": [
    {
     "data": {
      "image/png": "[encoded data removed]",
      "text/plain": [
       "<matplotlib.figure.Figure at 0x7fd03a4034e0>"
      ]
     },
     "metadata": {},
     "output_type": "display_data"
    }
   ],
   "source": [
    "f, ax1 = plt.subplots(1, 1, sharey=True,sharex=True)\n",
    "plots.decision_boundary_2d(logistic_model,X,Y,ax1,cmap=plt.cm.Accent)"
   ]
  },
  {
   "cell_type": "markdown",
   "metadata": {
    "ExecuteTime": {
     "end_time": "2018-02-06T10:47:37.309382Z",
     "start_time": "2018-02-06T10:47:37.306375Z"
    },
    "collapsed": true
   },
   "source": [
    "## Ellipsed Example"
   ]
  },
  {
   "cell_type": "code",
   "execution_count": 33,
   "metadata": {
    "ExecuteTime": {
     "end_time": "2018-02-22T18:14:47.172603Z",
     "start_time": "2018-02-22T18:14:47.165103Z"
    }
   },
   "outputs": [],
   "source": [
    "N = 40\n",
    "\n",
    "X,Y=samples.ellipsoid(N//2)\n",
    "X_test,Y_test=samples.ellipsoid(N) # we save away test date for later\n",
    "\n"
   ]
  },
  {
   "cell_type": "code",
   "execution_count": 34,
   "metadata": {
    "ExecuteTime": {
     "end_time": "2018-02-22T18:14:47.310103Z",
     "start_time": "2018-02-22T18:14:47.172603Z"
    }
   },
   "outputs": [
    {
     "data": {
      "text/plain": [
       "(-10, 10)"
      ]
     },
     "execution_count": 34,
     "metadata": {},
     "output_type": "execute_result"
    },
    {
     "data": {
      "image/png": "[encoded data removed]",
      "text/plain": [
       "<matplotlib.figure.Figure at 0x7fd039d63b70>"
      ]
     },
     "metadata": {},
     "output_type": "display_data"
    }
   ],
   "source": [
    "plt.scatter(X[:, 0], X[:, 1], c=Y, s=40, cmap=plt.cm.Spectral)\n",
    "plt.title(\"A Binary Classification Problem\")\n",
    "plt.xlabel(\"x1\")\n",
    "plt.ylabel(\"x2\")\n",
    "plt.xlim([-10,10])\n",
    "plt.ylim([-10,10])"
   ]
  },
  {
   "cell_type": "code",
   "execution_count": 35,
   "metadata": {
    "ExecuteTime": {
     "end_time": "2018-02-22T18:14:47.317603Z",
     "start_time": "2018-02-22T18:14:47.310103Z"
    }
   },
   "outputs": [
    {
     "data": {
      "text/plain": [
       "0.4875"
      ]
     },
     "execution_count": 35,
     "metadata": {},
     "output_type": "execute_result"
    }
   ],
   "source": [
    "model=LDAClassifier()\n",
    "model.fit(X,Y)\n",
    "np.mean(model.predict(X_test)==Y_test)"
   ]
  },
  {
   "cell_type": "code",
   "execution_count": 36,
   "metadata": {
    "ExecuteTime": {
     "end_time": "2018-02-22T18:14:47.487603Z",
     "start_time": "2018-02-22T18:14:47.317603Z"
    }
   },
   "outputs": [
    {
     "data": {
      "image/png": "[encoded data removed]",
      "text/plain": [
       "<matplotlib.figure.Figure at 0x7fd03a3a30b8>"
      ]
     },
     "metadata": {},
     "output_type": "display_data"
    }
   ],
   "source": [
    "f, ax1 = plt.subplots(1, 1, sharey=True,sharex=True)\n",
    "plots.decision_boundary_2d(model,X_test,Y_test,ax1)\n",
    "#ax1.set_title(\"LDA Test Performance\")\n",
    "#fig.savefig('overfitted.png')"
   ]
  },
  {
   "cell_type": "code",
   "execution_count": null,
   "metadata": {},
   "outputs": [],
   "source": []
  },
  {
   "cell_type": "code",
   "execution_count": 37,
   "metadata": {
    "ExecuteTime": {
     "end_time": "2018-02-22T18:14:47.497603Z",
     "start_time": "2018-02-22T18:14:47.487603Z"
    }
   },
   "outputs": [
    {
     "name": "stdout",
     "output_type": "stream",
     "text": [
      "(40, 2, 2) (40, 2) (2, 2)\n"
     ]
    },
    {
     "data": {
      "text/plain": [
       "0.7375"
      ]
     },
     "execution_count": 37,
     "metadata": {},
     "output_type": "execute_result"
    }
   ],
   "source": [
    "model=QDAClassifier()\n",
    "model.fit(X,Y)\n",
    "np.mean(model.predict(X_test)==Y_test)"
   ]
  },
  {
   "cell_type": "code",
   "execution_count": 38,
   "metadata": {
    "ExecuteTime": {
     "end_time": "2018-02-22T18:14:47.662603Z",
     "start_time": "2018-02-22T18:14:47.497603Z"
    }
   },
   "outputs": [
    {
     "data": {
      "image/png": "[encoded data removed]",
      "text/plain": [
       "<matplotlib.figure.Figure at 0x7fd039bc9a20>"
      ]
     },
     "metadata": {},
     "output_type": "display_data"
    }
   ],
   "source": [
    "f, ax1 = plt.subplots(1, 1, sharey=True,sharex=True)\n",
    "plots.decision_boundary_2d(model,X_test,Y_test,ax1)\n",
    "#ax1.set_title(\"QDA Test Performance\")\n",
    "#fig.savefig('overfitted.png')"
   ]
  },
  {
   "cell_type": "markdown",
   "metadata": {
    "ExecuteTime": {
     "end_time": "2018-02-06T18:27:48.807183Z",
     "start_time": "2018-02-06T18:27:48.789341Z"
    }
   },
   "source": [
    "### Comparison to Naive Bayes"
   ]
  },
  {
   "cell_type": "code",
   "execution_count": 39,
   "metadata": {
    "ExecuteTime": {
     "end_time": "2018-02-22T18:14:47.670103Z",
     "start_time": "2018-02-22T18:14:47.662603Z"
    }
   },
   "outputs": [
    {
     "data": {
      "text/plain": [
       "0.85"
      ]
     },
     "execution_count": 39,
     "metadata": {},
     "output_type": "execute_result"
    }
   ],
   "source": [
    "model=GaussianNB()\n",
    "model.fit(X,Y)\n",
    "np.mean(model.predict(X_test)==Y_test)"
   ]
  },
  {
   "cell_type": "code",
   "execution_count": 40,
   "metadata": {
    "ExecuteTime": {
     "end_time": "2018-02-22T18:14:47.855103Z",
     "start_time": "2018-02-22T18:14:47.670103Z"
    }
   },
   "outputs": [
    {
     "data": {
      "image/png": "[encoded data removed]",
      "text/plain": [
       "<matplotlib.figure.Figure at 0x7fd039ba29b0>"
      ]
     },
     "metadata": {},
     "output_type": "display_data"
    }
   ],
   "source": [
    "f, ax1 = plt.subplots(1, 1, sharey=True,sharex=True)\n",
    "plots.decision_boundary_2d(model,X_test,Y_test,ax1)"
   ]
  },
  {
   "cell_type": "code",
   "execution_count": null,
   "metadata": {},
   "outputs": [],
   "source": []
  }
 ],
 "metadata": {
  "kernelspec": {
   "display_name": "Python 3",
   "language": "python",
   "name": "python3"
  },
  "language_info": {
   "codemirror_mode": {
    "name": "ipython",
    "version": 3
   },
   "file_extension": ".py",
   "mimetype": "text/x-python",
   "name": "python",
   "nbconvert_exporter": "python",
   "pygments_lexer": "ipython3",
   "version": "3.6.4"
  },
  "toc": {
   "base_numbering": 1,
   "nav_menu": {},
   "number_sections": true,
   "sideBar": true,
   "skip_h1_title": false,
   "title_cell": "Table of Contents",
   "title_sidebar": "Contents",
   "toc_cell": false,
   "toc_position": {},
   "toc_section_display": "block",
   "toc_window_display": false
  }
 },
 "nbformat": 4,
 "nbformat_minor": 2
}
