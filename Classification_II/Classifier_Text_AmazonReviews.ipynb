{
 "cells": [
  {
   "cell_type": "markdown",
   "metadata": {},
   "source": [
    "# Logistic Regression Classifiers Amazon Review Summaries"
   ]
  },
  {
   "cell_type": "markdown",
   "metadata": {},
   "source": [
    "In this notebook we will apply `LogisticRegression` to a binary classficiation problem\n",
    "problem.\n",
    "\n",
    "As the bag of words representation of a document is high dimensional we will use $\\chi^2$ feature selection to select a subspace of a manageable dimension. \n"
   ]
  },
  {
   "cell_type": "markdown",
   "metadata": {},
   "source": [
    "## Preliminaries"
   ]
  },
  {
   "cell_type": "markdown",
   "metadata": {},
   "source": [
    "### Imports"
   ]
  },
  {
   "cell_type": "code",
   "execution_count": 1,
   "metadata": {
    "ExecuteTime": {
     "end_time": "2018-02-21T18:50:34.203396Z",
     "start_time": "2018-02-21T18:50:22.354890Z"
    }
   },
   "outputs": [],
   "source": [
    "import pickle\n",
    "\n",
    "import numpy as np\n",
    "import pandas as pd\n",
    "import matplotlib.pyplot as plt\n",
    "\n",
    "from sklearn.feature_extraction.text import CountVectorizer,TfidfVectorizer\n",
    "\n",
    "from sklearn import metrics\n",
    "from sklearn.feature_selection import SelectKBest, chi2\n",
    "from sklearn.model_selection import train_test_split,KFold\n",
    "from sklearn.preprocessing import LabelEncoder, OneHotEncoder\n",
    "from sklearn.linear_model import LogisticRegression\n",
    "\n",
    "from sklearn.discriminant_analysis import LinearDiscriminantAnalysis\n",
    "\n",
    "# for a progress bar on slow calculations\n",
    "from ipywidgets import IntProgress\n",
    "from IPython.display import display\n",
    "\n",
    "import sys\n",
    "sys.path.append(\"../..\")\n",
    "from E4525_ML import plots\n",
    "import E4525_ML.text as text\n",
    "from E4525_ML.multiclass_logistic import LogisticGDClassifier\n",
    "%matplotlib inline\n",
    "plt.rcParams['figure.figsize'] = (8.0, 6.0) # set default size of plots"
   ]
  },
  {
   "cell_type": "code",
   "execution_count": 2,
   "metadata": {
    "ExecuteTime": {
     "end_time": "2018-02-21T18:50:34.212420Z",
     "start_time": "2018-02-21T18:50:34.207407Z"
    }
   },
   "outputs": [],
   "source": [
    "seed=23\n",
    "np.random.seed(seed)"
   ]
  },
  {
   "cell_type": "markdown",
   "metadata": {},
   "source": [
    "### Data"
   ]
  },
  {
   "cell_type": "markdown",
   "metadata": {},
   "source": [
    "#### Data Directories"
   ]
  },
  {
   "cell_type": "code",
   "execution_count": 3,
   "metadata": {
    "ExecuteTime": {
     "end_time": "2018-02-21T18:50:34.251524Z",
     "start_time": "2018-02-21T18:50:34.215428Z"
    }
   },
   "outputs": [],
   "source": [
    "data_dir=r\"../../raw/amazon-reviews\""
   ]
  },
  {
   "cell_type": "markdown",
   "metadata": {},
   "source": [
    "#### Corpus"
   ]
  },
  {
   "cell_type": "code",
   "execution_count": 4,
   "metadata": {
    "ExecuteTime": {
     "end_time": "2018-02-21T18:50:35.049646Z",
     "start_time": "2018-02-21T18:50:34.255535Z"
    }
   },
   "outputs": [
    {
     "data": {
      "text/html": [
       "<div>\n",
       "<style scoped>\n",
       "    .dataframe tbody tr th:only-of-type {\n",
       "        vertical-align: middle;\n",
       "    }\n",
       "\n",
       "    .dataframe tbody tr th {\n",
       "        vertical-align: top;\n",
       "    }\n",
       "\n",
       "    .dataframe thead th {\n",
       "        text-align: right;\n",
       "    }\n",
       "</style>\n",
       "<table border=\"1\" class=\"dataframe\">\n",
       "  <thead>\n",
       "    <tr style=\"text-align: right;\">\n",
       "      <th></th>\n",
       "      <th>Summary</th>\n",
       "      <th>Score</th>\n",
       "    </tr>\n",
       "  </thead>\n",
       "  <tbody>\n",
       "    <tr>\n",
       "      <th>0</th>\n",
       "      <td>Nice</td>\n",
       "      <td>5</td>\n",
       "    </tr>\n",
       "    <tr>\n",
       "      <th>1</th>\n",
       "      <td>No taste or flavor</td>\n",
       "      <td>2</td>\n",
       "    </tr>\n",
       "    <tr>\n",
       "      <th>2</th>\n",
       "      <td>spicy thai chips</td>\n",
       "      <td>5</td>\n",
       "    </tr>\n",
       "    <tr>\n",
       "      <th>3</th>\n",
       "      <td>I'm Loven The Mount Hagen!</td>\n",
       "      <td>5</td>\n",
       "    </tr>\n",
       "    <tr>\n",
       "      <th>4</th>\n",
       "      <td>Bigelow Tea Chest</td>\n",
       "      <td>2</td>\n",
       "    </tr>\n",
       "  </tbody>\n",
       "</table>\n",
       "</div>"
      ],
      "text/plain": [
       "                      Summary  Score\n",
       "0                        Nice      5\n",
       "1          No taste or flavor      2\n",
       "2            spicy thai chips      5\n",
       "3  I'm Loven The Mount Hagen!      5\n",
       "4           Bigelow Tea Chest      2"
      ]
     },
     "execution_count": 4,
     "metadata": {},
     "output_type": "execute_result"
    }
   ],
   "source": [
    "documents_filename=data_dir+\"/documents.csv\"\n",
    "documents=pd.read_csv(documents_filename)\n",
    "documents[\"Summary\"].fillna(\"\",inplace=True)\n",
    "documents.head()"
   ]
  },
  {
   "cell_type": "code",
   "execution_count": 5,
   "metadata": {
    "ExecuteTime": {
     "end_time": "2018-02-21T18:50:35.230126Z",
     "start_time": "2018-02-21T18:50:35.065689Z"
    },
    "scrolled": true
   },
   "outputs": [
    {
     "data": {
      "text/html": [
       "<div>\n",
       "<style scoped>\n",
       "    .dataframe tbody tr th:only-of-type {\n",
       "        vertical-align: middle;\n",
       "    }\n",
       "\n",
       "    .dataframe tbody tr th {\n",
       "        vertical-align: top;\n",
       "    }\n",
       "\n",
       "    .dataframe thead th {\n",
       "        text-align: right;\n",
       "    }\n",
       "</style>\n",
       "<table border=\"1\" class=\"dataframe\">\n",
       "  <thead>\n",
       "    <tr style=\"text-align: right;\">\n",
       "      <th></th>\n",
       "      <th>Summary</th>\n",
       "      <th>Score</th>\n",
       "    </tr>\n",
       "  </thead>\n",
       "  <tbody>\n",
       "    <tr>\n",
       "      <th>0</th>\n",
       "      <td>Huge disappointment</td>\n",
       "      <td>1</td>\n",
       "    </tr>\n",
       "    <tr>\n",
       "      <th>1</th>\n",
       "      <td>In lieu of the now bastardized American black ...</td>\n",
       "      <td>3</td>\n",
       "    </tr>\n",
       "    <tr>\n",
       "      <th>2</th>\n",
       "      <td>Wow.</td>\n",
       "      <td>5</td>\n",
       "    </tr>\n",
       "    <tr>\n",
       "      <th>3</th>\n",
       "      <td>Tastes just like the store</td>\n",
       "      <td>5</td>\n",
       "    </tr>\n",
       "    <tr>\n",
       "      <th>4</th>\n",
       "      <td>a very handi snack</td>\n",
       "      <td>5</td>\n",
       "    </tr>\n",
       "  </tbody>\n",
       "</table>\n",
       "</div>"
      ],
      "text/plain": [
       "                                             Summary  Score\n",
       "0                                Huge disappointment      1\n",
       "1  In lieu of the now bastardized American black ...      3\n",
       "2                                               Wow.      5\n",
       "3                         Tastes just like the store      5\n",
       "4                                 a very handi snack      5"
      ]
     },
     "execution_count": 5,
     "metadata": {},
     "output_type": "execute_result"
    }
   ],
   "source": [
    "test_documents_filename=data_dir+\"/documents_test.csv\"\n",
    "test_documents=pd.read_csv(test_documents_filename)\n",
    "test_documents[\"Summary\"].fillna(\"\",inplace=True)\n",
    "test_documents.head()"
   ]
  },
  {
   "cell_type": "markdown",
   "metadata": {},
   "source": [
    "\n",
    "## Validation Set Creation"
   ]
  },
  {
   "cell_type": "code",
   "execution_count": 6,
   "metadata": {
    "ExecuteTime": {
     "end_time": "2018-02-21T18:50:35.661272Z",
     "start_time": "2018-02-21T18:50:35.233136Z"
    }
   },
   "outputs": [],
   "source": [
    "docs_train,docs_val,label_train,label_val=train_test_split(documents[\"Summary\"],documents[\"Score\"],test_size=0.2)"
   ]
  },
  {
   "cell_type": "code",
   "execution_count": 7,
   "metadata": {
    "ExecuteTime": {
     "end_time": "2018-02-21T18:50:35.670296Z",
     "start_time": "2018-02-21T18:50:35.663278Z"
    }
   },
   "outputs": [],
   "source": [
    "Y_train=label_train>3\n",
    "Y_val=label_val>3"
   ]
  },
  {
   "cell_type": "markdown",
   "metadata": {},
   "source": [
    "## Generic Text Classifier with Feature Selection"
   ]
  },
  {
   "cell_type": "markdown",
   "metadata": {},
   "source": [
    "Selection $F$ features base of a $\\chi^2$ test makes sense for any classifier.\n",
    "\n",
    "For convenience we create a new wrapper classifier that selects $F$ features and calls the underlying\n",
    "classier with them."
   ]
  },
  {
   "cell_type": "code",
   "execution_count": 8,
   "metadata": {
    "ExecuteTime": {
     "end_time": "2018-02-21T18:50:35.714415Z",
     "start_time": "2018-02-21T18:50:35.676312Z"
    }
   },
   "outputs": [],
   "source": [
    "class TextChi2Classifier:\n",
    "    def __init__(self,F,model):\n",
    "        self.model=model\n",
    "        self.transformer=SelectKBest(chi2,F)\n",
    "    def fit(self,X,Y,X_val=None,Y_val=None):\n",
    "        dummies=pd.get_dummies(Y,prefix=\"\",prefix_sep=\"\",sparse=True)\n",
    "        Z=dummies\n",
    "        Xt=self.transformer.fit_transform(X,Z)\n",
    "        Xt_val=None\n",
    "        if (not (X_val is None)):\n",
    "            Xt_val=self.transformer.transform(X_val)\n",
    "        self.model.fit(Xt,Y,Xt_val,Y_val)\n",
    "        return self\n",
    "    def predict(self,X):\n",
    "        Xt=self.transformer.transform(X)\n",
    "        return self.model.predict(Xt)\n",
    "    def predict_proba(self,X):\n",
    "        Xt=self.transformer.transform(X)\n",
    "        return self.model.predict_proba(Xt)"
   ]
  },
  {
   "cell_type": "code",
   "execution_count": 9,
   "metadata": {
    "ExecuteTime": {
     "end_time": "2018-02-21T18:50:35.741486Z",
     "start_time": "2018-02-21T18:50:35.717421Z"
    }
   },
   "outputs": [],
   "source": [
    "countVectorizer=CountVectorizer(input=\"content\")"
   ]
  },
  {
   "cell_type": "code",
   "execution_count": 10,
   "metadata": {
    "ExecuteTime": {
     "end_time": "2018-02-21T18:50:44.173840Z",
     "start_time": "2018-02-21T18:50:35.745496Z"
    }
   },
   "outputs": [],
   "source": [
    "X=countVectorizer.fit_transform(docs_train)\n",
    "X_val=countVectorizer.transform(docs_val)\n",
    "Y=Y_train"
   ]
  },
  {
   "cell_type": "code",
   "execution_count": 11,
   "metadata": {
    "ExecuteTime": {
     "end_time": "2018-02-21T18:50:44.187875Z",
     "start_time": "2018-02-21T18:50:44.176847Z"
    }
   },
   "outputs": [
    {
     "data": {
      "text/plain": [
       "29084"
      ]
     },
     "execution_count": 11,
     "metadata": {},
     "output_type": "execute_result"
    }
   ],
   "source": [
    "V=X.shape[1]\n",
    "V"
   ]
  },
  {
   "cell_type": "code",
   "execution_count": 12,
   "metadata": {
    "ExecuteTime": {
     "end_time": "2018-02-21T18:50:44.209933Z",
     "start_time": "2018-02-21T18:50:44.192887Z"
    }
   },
   "outputs": [],
   "source": [
    "base_model=LogisticGDClassifier(max_iter=100, learning_rate=0.005,tol=1e-8)"
   ]
  },
  {
   "cell_type": "code",
   "execution_count": 13,
   "metadata": {
    "ExecuteTime": {
     "end_time": "2018-02-21T18:50:44.230988Z",
     "start_time": "2018-02-21T18:50:44.212940Z"
    }
   },
   "outputs": [],
   "source": [
    "F=1000"
   ]
  },
  {
   "cell_type": "code",
   "execution_count": null,
   "metadata": {
    "ExecuteTime": {
     "end_time": "2018-02-21T18:50:44.251042Z",
     "start_time": "2018-02-21T18:50:44.236001Z"
    }
   },
   "outputs": [],
   "source": [
    "modelT=TextChi2Classifier(F,base_model)"
   ]
  },
  {
   "cell_type": "code",
   "execution_count": null,
   "metadata": {
    "ExecuteTime": {
     "end_time": "2018-02-21T18:55:53.035532Z",
     "start_time": "2018-02-21T18:50:44.254054Z"
    }
   },
   "outputs": [
    {
     "name": "stdout",
     "output_type": "stream",
     "text": [
      "\t 0 Loss = 694.3814033060282 Train_Accuracy 0.486 Evaluation Loss = 695.5799487147383 Accuracy = 0.468\n",
      "\t 10 Loss = 291.3810585812772 Train_Accuracy 0.886 Evaluation Loss = 314.86817904286573 Accuracy = 0.866\n",
      "\t 20 Loss = 266.37244396181256 Train_Accuracy 0.904 Evaluation Loss = 321.65899448925563 Accuracy = 0.861\n",
      "\t 30 Loss = 292.5577553480849 Train_Accuracy 0.886 Evaluation Loss = 307.31609740925273 Accuracy = 0.883\n",
      "\t 40 Loss = 296.2300938608464 Train_Accuracy 0.881 Evaluation Loss = 315.6748974738257 Accuracy = 0.865\n",
      "\t 50 Loss = 292.3599124065488 Train_Accuracy 0.883 Evaluation Loss = 292.4774083290627 Accuracy = 0.883\n",
      "\t 60 Loss = 307.25681602989175 Train_Accuracy 0.869 Evaluation Loss = 299.4299727273892 Accuracy = 0.877\n",
      "\t 70 Loss = 287.4125703584782 Train_Accuracy 0.883 Evaluation Loss = 306.7181224645605 Accuracy = 0.873\n",
      "\t 80 Loss = 309.179228609953 Train_Accuracy 0.869 Evaluation Loss = 304.4187182424062 Accuracy = 0.879\n",
      "\t 90 Loss = 273.85731570380875 Train_Accuracy 0.881 Evaluation Loss = 334.3246597719598 Accuracy = 0.858\n"
     ]
    }
   ],
   "source": [
    "modelT.fit(X,Y,X_val,Y_val)"
   ]
  },
  {
   "cell_type": "code",
   "execution_count": null,
   "metadata": {
    "ExecuteTime": {
     "end_time": "2018-02-21T18:55:53.121761Z",
     "start_time": "2018-02-21T18:55:53.040546Z"
    }
   },
   "outputs": [],
   "source": [
    "Y_pred=modelT.predict(X_val)\n",
    "np.mean(Y_pred==Y_val)"
   ]
  },
  {
   "cell_type": "code",
   "execution_count": null,
   "metadata": {
    "ExecuteTime": {
     "end_time": "2018-02-21T18:55:53.188946Z",
     "start_time": "2018-02-21T18:55:53.124771Z"
    }
   },
   "outputs": [],
   "source": [
    "prob=modelT.predict_proba(X_val)\n",
    "fpr,tpr,threshold=metrics.roc_curve(Y_val,prob[:,1])"
   ]
  },
  {
   "cell_type": "code",
   "execution_count": null,
   "metadata": {
    "ExecuteTime": {
     "end_time": "2018-02-21T18:55:53.229047Z",
     "start_time": "2018-02-21T18:55:53.191949Z"
    }
   },
   "outputs": [],
   "source": [
    "auc=metrics.roc_auc_score(Y_val,prob[:,1])\n",
    "print(auc)"
   ]
  },
  {
   "cell_type": "markdown",
   "metadata": {},
   "source": [
    " ##  LogisticRegression Classifier vs Number of Features"
   ]
  },
  {
   "cell_type": "code",
   "execution_count": null,
   "metadata": {
    "ExecuteTime": {
     "end_time": "2018-02-21T18:55:53.236065Z",
     "start_time": "2018-02-21T18:55:53.232055Z"
    }
   },
   "outputs": [],
   "source": [
    "Fs=[100,200,500,1000,5000,10000,20000,V]"
   ]
  },
  {
   "cell_type": "code",
   "execution_count": null,
   "metadata": {
    "ExecuteTime": {
     "end_time": "2018-02-21T19:55:40.891102Z",
     "start_time": "2018-02-21T18:55:53.239073Z"
    }
   },
   "outputs": [],
   "source": [
    "# Display a progress bar that counts how many training rounds we have done so far\n",
    "progress2= IntProgress(min=0, max=len(Fs),description=\"Trials:\",bar_style=\"info\")\n",
    "display(progress2)\n",
    "\n",
    "\n",
    "logistic_train_error=[]\n",
    "logistic_val_error=[]\n",
    "progress2.value=0\n",
    "for F in Fs:\n",
    "    model=TextChi2Classifier(F,base_model)\n",
    "    model.fit(X,Y,X_val,Y_val)\n",
    "    Y_pred=model.predict(X)\n",
    "    logistic_train_error.append(1-np.mean(Y_pred==Y))\n",
    "    Y_pred=model.predict(X_val)\n",
    "    logistic_val_error.append(1-np.mean(Y_pred==Y_val))\n",
    "    progress2.value+=1\n",
    "print(\"Done.\")"
   ]
  },
  {
   "cell_type": "code",
   "execution_count": null,
   "metadata": {
    "ExecuteTime": {
     "end_time": "2018-02-21T19:55:41.322247Z",
     "start_time": "2018-02-21T19:55:40.896117Z"
    }
   },
   "outputs": [],
   "source": [
    "plt.plot(Fs,logistic_train_error,label=\"Train\")\n",
    "plt.plot(Fs,logistic_val_error,label=\"Valuation\")\n",
    "plt.legend()\n",
    "plt.title(\"Logistic Classifier Error vs Number Features\")\n",
    "plt.xlabel(\"Features\")\n",
    "plt.ylabel(\"Classification Error\")\n",
    "plt.ylim(0,0.15)"
   ]
  },
  {
   "cell_type": "code",
   "execution_count": null,
   "metadata": {
    "ExecuteTime": {
     "end_time": "2018-02-21T19:55:41.338289Z",
     "start_time": "2018-02-21T19:55:41.325254Z"
    }
   },
   "outputs": [],
   "source": [
    "logistic_best_idx=np.argmin(logistic_val_error)\n",
    "logistic_best_idx,Fs[logistic_best_idx],logistic_val_error[logistic_best_idx]"
   ]
  },
  {
   "cell_type": "markdown",
   "metadata": {},
   "source": [
    "1. The model is generalizing pretty well (91% train accuracy versus 89% validation accuracy) \n",
    "2. Test Error stabilizes after roughtly 5k features\n",
    "3. Logistic Regression performance does not degrade after we keep increasing the number of features"
   ]
  },
  {
   "cell_type": "markdown",
   "metadata": {},
   "source": [
    "Best Accuracy is $\\approx 89\\%$, *slightly* better than Naive Bayes"
   ]
  },
  {
   "cell_type": "markdown",
   "metadata": {
    "collapsed": true
   },
   "source": [
    "## Regularization of the Logistic Regression Classifier"
   ]
  },
  {
   "cell_type": "code",
   "execution_count": null,
   "metadata": {
    "ExecuteTime": {
     "end_time": "2018-02-21T19:55:41.409479Z",
     "start_time": "2018-02-21T19:55:41.346310Z"
    }
   },
   "outputs": [],
   "source": [
    "F_best=Fs[logistic_best_idx]\n",
    "F_best"
   ]
  },
  {
   "cell_type": "code",
   "execution_count": null,
   "metadata": {
    "ExecuteTime": {
     "end_time": "2018-02-21T19:55:41.430535Z",
     "start_time": "2018-02-21T19:55:41.413489Z"
    }
   },
   "outputs": [],
   "source": [
    "Cs=[0.0001,0.001,0.01,0.1,1,10,100,1000,10000,1e10]"
   ]
  },
  {
   "cell_type": "code",
   "execution_count": null,
   "metadata": {
    "ExecuteTime": {
     "end_time": "2018-02-21T21:24:38.838091Z",
     "start_time": "2018-02-21T19:55:41.433543Z"
    }
   },
   "outputs": [],
   "source": [
    "# Display a progress bar that counts how many training rounds we have done so far\n",
    "progress3= IntProgress(min=0, max=len(Cs),description=\"Trials:\",bar_style=\"info\")\n",
    "display(progress3)\n",
    "\n",
    "logistic_val_error=[]\n",
    "progress3.value=0\n",
    "for C in Cs:\n",
    "    base_model=LogisticGDClassifier(penalty=1/C,max_iter=100, learning_rate=0.005,tol=1e-8)\n",
    "    model=TextChi2Classifier(F_best,base_model)\n",
    "    model.fit(X,Y,X_val,Y_val)\n",
    "    Y_pred=model.predict(X_val)\n",
    "    acc=np.mean(Y_pred==Y_val)\n",
    "    logistic_val_error.append(1-acc)\n",
    "    print(C,1-acc)\n",
    "    progress3.value+=1\n",
    "print(\"Done.\")"
   ]
  },
  {
   "cell_type": "code",
   "execution_count": null,
   "metadata": {
    "ExecuteTime": {
     "end_time": "2018-02-21T21:24:39.726455Z",
     "start_time": "2018-02-21T21:24:38.842107Z"
    }
   },
   "outputs": [],
   "source": [
    "plt.semilogx(1/np.array(Cs),logistic_val_error)"
   ]
  },
  {
   "cell_type": "code",
   "execution_count": null,
   "metadata": {
    "ExecuteTime": {
     "end_time": "2018-02-21T21:24:39.736480Z",
     "start_time": "2018-02-21T21:24:39.729462Z"
    }
   },
   "outputs": [],
   "source": [
    "logistic_val_error=np.array(logistic_val_error)\n",
    "print(\"C,error\")\n",
    "for idx,C in enumerate(Cs):\n",
    "    print(C,logistic_val_error[idx])"
   ]
  },
  {
   "cell_type": "code",
   "execution_count": null,
   "metadata": {
    "ExecuteTime": {
     "end_time": "2018-02-21T21:24:39.761548Z",
     "start_time": "2018-02-21T21:24:39.739490Z"
    }
   },
   "outputs": [],
   "source": [
    "best_idx=logistic_val_error.argmin()\n",
    "best_C=Cs[best_idx]\n",
    "print(best_idx,best_C,logistic_val_error[best_idx])"
   ]
  },
  {
   "cell_type": "markdown",
   "metadata": {
    "ExecuteTime": {
     "end_time": "2017-11-28T02:30:19.174446Z",
     "start_time": "2017-11-28T02:30:19.170435Z"
    },
    "collapsed": true
   },
   "source": [
    "## Test best model"
   ]
  },
  {
   "cell_type": "markdown",
   "metadata": {},
   "source": [
    "Best model is logistic regression, with C=10 used on all features"
   ]
  },
  {
   "cell_type": "code",
   "execution_count": null,
   "metadata": {
    "ExecuteTime": {
     "end_time": "2018-02-21T21:24:44.503079Z",
     "start_time": "2018-02-21T21:24:39.764556Z"
    }
   },
   "outputs": [],
   "source": [
    "X=countVectorizer.fit_transform(documents[\"Summary\"])\n",
    "X_test=countVectorizer.transform(test_documents[\"Summary\"])\n"
   ]
  },
  {
   "cell_type": "code",
   "execution_count": null,
   "metadata": {
    "ExecuteTime": {
     "end_time": "2018-02-21T21:24:44.512105Z",
     "start_time": "2018-02-21T21:24:44.505091Z"
    }
   },
   "outputs": [],
   "source": [
    "Y=documents[\"Score\"]>3\n",
    "Y_test=test_documents[\"Score\"]>3"
   ]
  },
  {
   "cell_type": "code",
   "execution_count": null,
   "metadata": {
    "ExecuteTime": {
     "end_time": "2018-02-21T21:39:50.482753Z",
     "start_time": "2018-02-21T21:39:50.478740Z"
    }
   },
   "outputs": [],
   "source": [
    "base_model=LogisticGDClassifier(penalty=1/best_C,max_iter=100, learning_rate=0.005,tol=1e-8)\n",
    "model=TextChi2Classifier(F_best,base_model)"
   ]
  },
  {
   "cell_type": "code",
   "execution_count": null,
   "metadata": {
    "ExecuteTime": {
     "end_time": "2018-02-21T21:49:03.943710Z",
     "start_time": "2018-02-21T21:39:51.200129Z"
    }
   },
   "outputs": [],
   "source": [
    "model.fit(X,Y,X_test,Y_test)"
   ]
  },
  {
   "cell_type": "code",
   "execution_count": null,
   "metadata": {
    "ExecuteTime": {
     "end_time": "2018-02-21T21:49:04.000573Z",
     "start_time": "2018-02-21T21:49:03.950723Z"
    }
   },
   "outputs": [],
   "source": [
    "Y_pred=model.predict(X_test)\n",
    "np.mean(Y_pred==Y_test)"
   ]
  },
  {
   "cell_type": "markdown",
   "metadata": {
    "ExecuteTime": {
     "end_time": "2018-02-11T13:16:55.519886Z",
     "start_time": "2018-02-11T13:12:44.529Z"
    }
   },
   "source": [
    "## ROC Curve"
   ]
  },
  {
   "cell_type": "code",
   "execution_count": null,
   "metadata": {
    "ExecuteTime": {
     "end_time": "2018-02-21T21:49:04.224179Z",
     "start_time": "2018-02-21T21:49:04.004584Z"
    }
   },
   "outputs": [],
   "source": [
    "\n",
    "prob=model.predict_proba(X_test)\n",
    "fpr,tpr,threshold=metrics.roc_curve(Y_test,prob[:,1])\n",
    "roc=np.c_[fpr,tpr,threshold]\n",
    "data=pd.DataFrame(roc,columns=[\"fpr\",\"tpr\",\"threshold\"])\n",
    "data.to_csv(data_dir+\"/logistic_roc.csv\",index=False)\n"
   ]
  },
  {
   "cell_type": "code",
   "execution_count": null,
   "metadata": {
    "ExecuteTime": {
     "end_time": "2018-02-21T21:49:04.252252Z",
     "start_time": "2018-02-21T21:49:04.229193Z"
    }
   },
   "outputs": [],
   "source": [
    "auc=metrics.roc_auc_score(Y_test,prob[:,1])\n",
    "print(auc)"
   ]
  },
  {
   "cell_type": "code",
   "execution_count": null,
   "metadata": {
    "ExecuteTime": {
     "end_time": "2018-02-21T21:49:04.266291Z",
     "start_time": "2018-02-21T21:49:04.254258Z"
    }
   },
   "outputs": [],
   "source": [
    "ht=np.argmin((threshold-0.5)**2)\n",
    "print(ht,threshold[ht])\n",
    "print(fpr[ht],tpr[ht])\n",
    "print(\"Accuracy\",(1-fpr[ht])*np.mean(Y_test==0)+tpr[ht]*np.mean(Y_test==1))"
   ]
  },
  {
   "cell_type": "code",
   "execution_count": null,
   "metadata": {
    "ExecuteTime": {
     "end_time": "2018-02-21T21:49:04.363977Z",
     "start_time": "2018-02-21T21:49:04.268296Z"
    }
   },
   "outputs": [],
   "source": [
    "set_roc=pd.read_csv(data_dir+\"/set_roc.csv\")\n",
    "set_roc.head()\n",
    "set_ht=((set_roc[\"threshold\"]-0.5)**2).argmin()\n",
    "print(set_ht,set_roc[\"threshold\"].iloc[ht])\n",
    "set_fpr=set_roc[\"fpr\"].iloc[ht]\n",
    "set_tpr=set_roc[\"tpr\"].iloc[ht]\n",
    "print(set_fpr,set_tpr)\n",
    "print(\"Accuracy\",(1-set_fpr)*np.mean(Y_test==0)+set_tpr*np.mean(Y_test==1))"
   ]
  },
  {
   "cell_type": "code",
   "execution_count": null,
   "metadata": {
    "ExecuteTime": {
     "end_time": "2018-02-21T21:49:04.767692Z",
     "start_time": "2018-02-21T21:49:04.366986Z"
    }
   },
   "outputs": [],
   "source": [
    "plt.figure(figsize=(10,8))\n",
    "plt.clf()\n",
    "plt.subplot(111)\n",
    "ax = plt.gca()\n",
    "\n",
    "color = next(ax._get_lines.prop_cycler)['color']\n",
    "plt.plot(set_roc[\"fpr\"],set_roc[\"tpr\"],label=\"Naive Bayes\",color=color)\n",
    "plt.plot([set_fpr], [set_tpr], marker='D', markersize=10, color=color)\n",
    "\n",
    "\n",
    "color = next(ax._get_lines.prop_cycler)['color']\n",
    "plt.plot(fpr,tpr,label=\"Logistic\",color=color)\n",
    "plt.plot([fpr[ht]], [tpr[ht]], marker='D', markersize=10, color=color)\n",
    "\n",
    "plt.legend()\n",
    "plt.xlabel(\"False Positive Rate\")\n",
    "plt.ylabel(\"True Positive Rate\")"
   ]
  },
  {
   "cell_type": "code",
   "execution_count": null,
   "metadata": {},
   "outputs": [],
   "source": []
  }
 ],
 "metadata": {
  "kernelspec": {
   "display_name": "Python 3",
   "language": "python",
   "name": "python3"
  },
  "language_info": {
   "codemirror_mode": {
    "name": "ipython",
    "version": 3
   },
   "file_extension": ".py",
   "mimetype": "text/x-python",
   "name": "python",
   "nbconvert_exporter": "python",
   "pygments_lexer": "ipython3",
   "version": "3.6.4"
  },
  "toc": {
   "base_numbering": 1,
   "nav_menu": {},
   "number_sections": true,
   "sideBar": true,
   "skip_h1_title": true,
   "title_cell": "Table of Contents",
   "title_sidebar": "Contents",
   "toc_cell": false,
   "toc_position": {},
   "toc_section_display": "block",
   "toc_window_display": false
  },
  "widgets": {
   "state": {
    "8840df332ff740e480bbdd81936d3ffc": {
     "views": [
      {
       "cell_index": 47
      }
     ]
    },
    "9eb260872d73428aabe5e661910dc8ea": {
     "views": [
      {
       "cell_index": 62
      }
     ]
    },
    "e7eda7b7372b422e82445f28340b5cf5": {
     "views": [
      {
       "cell_index": 53
      }
     ]
    }
   },
   "version": "1.2.0"
  }
 },
 "nbformat": 4,
 "nbformat_minor": 2
}
