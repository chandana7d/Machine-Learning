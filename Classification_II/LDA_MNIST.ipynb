{
 "cells": [
  {
   "cell_type": "markdown",
   "metadata": {},
   "source": [
    "# LDA Classifier for MNIST data"
   ]
  },
  {
   "cell_type": "markdown",
   "metadata": {},
   "source": [
    "## Preliminaries"
   ]
  },
  {
   "cell_type": "markdown",
   "metadata": {},
   "source": [
    "### Imports"
   ]
  },
  {
   "cell_type": "code",
   "execution_count": 1,
   "metadata": {
    "ExecuteTime": {
     "end_time": "2018-02-08T02:25:37.168332Z",
     "start_time": "2018-02-08T02:25:37.150282Z"
    }
   },
   "outputs": [],
   "source": [
    "import os\n",
    "import pickle \n",
    "\n",
    "import numpy as np\n",
    "import matplotlib.pyplot as plt\n",
    "\n",
    "from sklearn.discriminant_analysis import LinearDiscriminantAnalysis,QuadraticDiscriminantAnalysis\n",
    "\n",
    "%matplotlib inline\n",
    "import gzip\n",
    "\n",
    "import sys\n",
    "sys.path.append(\"../..\")\n",
    "from E4525_ML import mnist\n",
    "from E4525_ML import plots"
   ]
  },
  {
   "cell_type": "markdown",
   "metadata": {},
   "source": [
    "### Data"
   ]
  },
  {
   "cell_type": "code",
   "execution_count": 2,
   "metadata": {
    "ExecuteTime": {
     "end_time": "2018-02-08T02:19:18.159080Z",
     "start_time": "2018-02-08T02:19:18.154067Z"
    }
   },
   "outputs": [],
   "source": [
    "data_dir=r\"../../raw/MNIST/\""
   ]
  },
  {
   "cell_type": "code",
   "execution_count": 3,
   "metadata": {
    "ExecuteTime": {
     "end_time": "2018-02-08T02:19:18.184149Z",
     "start_time": "2018-02-08T02:19:18.161086Z"
    }
   },
   "outputs": [],
   "source": [
    "model_dir=f\"../../data/models\""
   ]
  },
  {
   "cell_type": "code",
   "execution_count": 4,
   "metadata": {
    "ExecuteTime": {
     "end_time": "2018-02-08T02:19:19.106598Z",
     "start_time": "2018-02-08T02:19:18.186153Z"
    }
   },
   "outputs": [
    {
     "name": "stdout",
     "output_type": "stream",
     "text": [
      "(60000, 28, 28) (60000,)\n"
     ]
    }
   ],
   "source": [
    "    images_filename=data_dir+\"train-images-idx3-ubyte.gz\"\n",
    "    labels_filename=data_dir+\"train-labels-idx1-ubyte.gz\"\n",
    "\n",
    "    test_images_filename=data_dir+\"t10k-images-idx3-ubyte.gz\"\n",
    "    test_labels_filename=data_dir+\"t10k-labels-idx1-ubyte.gz\"\n",
    "\n",
    "    images=mnist.read_images(images_filename)\n",
    "    labels=mnist.read_labels(labels_filename)\n",
    "    \n",
    "    test_images=mnist.read_images(test_images_filename)\n",
    "    test_labels=mnist.read_labels(test_labels_filename)\n",
    "    \n",
    "    print(images.shape,labels.shape)"
   ]
  },
  {
   "cell_type": "code",
   "execution_count": 5,
   "metadata": {
    "ExecuteTime": {
     "end_time": "2018-02-08T02:19:19.119633Z",
     "start_time": "2018-02-08T02:19:19.109608Z"
    }
   },
   "outputs": [
    {
     "name": "stdout",
     "output_type": "stream",
     "text": [
      "60000 28 28\n"
     ]
    }
   ],
   "source": [
    "nimages=images.shape[0]\n",
    "nrows=images.shape[1]\n",
    "ncols=images.shape[2]\n",
    "print(nimages,nrows,ncols)"
   ]
  },
  {
   "cell_type": "markdown",
   "metadata": {},
   "source": [
    "## LDA Classifier"
   ]
  },
  {
   "cell_type": "code",
   "execution_count": 6,
   "metadata": {
    "ExecuteTime": {
     "end_time": "2018-02-08T02:28:47.097159Z",
     "start_time": "2018-02-08T02:28:47.090140Z"
    }
   },
   "outputs": [
    {
     "name": "stdout",
     "output_type": "stream",
     "text": [
      "N 60000\n",
      "K 10\n",
      "D 784\n"
     ]
    }
   ],
   "source": [
    "K=10\n",
    "D=28*28\n",
    "print(\"N\",nimages)\n",
    "print(\"K\",K)\n",
    "print(\"D\",D)"
   ]
  },
  {
   "cell_type": "markdown",
   "metadata": {},
   "source": [
    "The number of parameters to fit is\n",
    "1. $\\pi$: $K-1$\n",
    "2. $\\mu$: $K\\times D$\n",
    "3. $\\Lambda$: $D\\times \\frac{D+1}{2}$\n"
   ]
  },
  {
   "cell_type": "code",
   "execution_count": 7,
   "metadata": {
    "ExecuteTime": {
     "end_time": "2018-02-08T02:35:09.769716Z",
     "start_time": "2018-02-08T02:35:09.764702Z"
    }
   },
   "outputs": [
    {
     "name": "stdout",
     "output_type": "stream",
     "text": [
      "params 315,569\n"
     ]
    }
   ],
   "source": [
    "print(\"params {0:,}\".format(K-1+K*D+D*(D+1)//2))"
   ]
  },
  {
   "cell_type": "code",
   "execution_count": 8,
   "metadata": {
    "ExecuteTime": {
     "end_time": "2018-02-08T02:19:19.145702Z",
     "start_time": "2018-02-08T02:19:19.122641Z"
    }
   },
   "outputs": [],
   "source": [
    "model=LinearDiscriminantAnalysis()"
   ]
  },
  {
   "cell_type": "code",
   "execution_count": 9,
   "metadata": {
    "ExecuteTime": {
     "end_time": "2018-02-08T02:20:04.727860Z",
     "start_time": "2018-02-08T02:19:52.742003Z"
    }
   },
   "outputs": [
    {
     "name": "stderr",
     "output_type": "stream",
     "text": [
      "/home/manel/anaconda3/lib/python3.6/site-packages/sklearn/discriminant_analysis.py:442: UserWarning: The priors do not sum to 1. Renormalizing\n",
      "  UserWarning)\n",
      "/home/manel/anaconda3/lib/python3.6/site-packages/sklearn/discriminant_analysis.py:388: UserWarning: Variables are collinear.\n",
      "  warnings.warn(\"Variables are collinear.\")\n"
     ]
    },
    {
     "data": {
      "text/plain": [
       "('Training accuracy', 0.8714833333333334)"
      ]
     },
     "execution_count": 9,
     "metadata": {},
     "output_type": "execute_result"
    }
   ],
   "source": [
    "model.fit(images.reshape(nimages,-1),labels)\n",
    "Y_pred=model.predict(images.reshape(nimages,-1))\n",
    "\"Training accuracy\",np.mean(Y_pred==labels)"
   ]
  },
  {
   "cell_type": "code",
   "execution_count": 10,
   "metadata": {
    "ExecuteTime": {
     "end_time": "2018-02-08T02:20:17.786569Z",
     "start_time": "2018-02-08T02:20:17.754485Z"
    }
   },
   "outputs": [
    {
     "data": {
      "text/plain": [
       "('Test Accuracy', 0.873)"
      ]
     },
     "execution_count": 10,
     "metadata": {},
     "output_type": "execute_result"
    }
   ],
   "source": [
    "Y_pred=model.predict(test_images.reshape((len(test_images),-1)))\n",
    "\"Test Accuracy\",np.mean(Y_pred==test_labels)\n"
   ]
  },
  {
   "cell_type": "markdown",
   "metadata": {},
   "source": [
    "## QDA Classifier"
   ]
  },
  {
   "cell_type": "markdown",
   "metadata": {
    "ExecuteTime": {
     "end_time": "2018-02-08T02:32:19.761608Z",
     "start_time": "2018-02-08T02:32:19.755593Z"
    }
   },
   "source": [
    "The number of parameters to fit is\n",
    "1. $\\pi$: $K-1$\n",
    "2. $\\mu$: $K\\times D$\n",
    "3. $\\Lambda$: $K\\times D\\times \\frac{D+1}{2}$"
   ]
  },
  {
   "cell_type": "code",
   "execution_count": 11,
   "metadata": {
    "ExecuteTime": {
     "end_time": "2018-02-08T02:34:58.598021Z",
     "start_time": "2018-02-08T02:34:58.594010Z"
    }
   },
   "outputs": [
    {
     "name": "stdout",
     "output_type": "stream",
     "text": [
      "params 3,085,049\n"
     ]
    }
   ],
   "source": [
    "print(\"params {0:,}\".format(K-1+K*D+K*D*(D+1)//2))"
   ]
  },
  {
   "cell_type": "code",
   "execution_count": 12,
   "metadata": {
    "ExecuteTime": {
     "end_time": "2018-02-08T02:25:46.663568Z",
     "start_time": "2018-02-08T02:25:46.659558Z"
    }
   },
   "outputs": [],
   "source": [
    "model=QuadraticDiscriminantAnalysis()"
   ]
  },
  {
   "cell_type": "code",
   "execution_count": 13,
   "metadata": {
    "ExecuteTime": {
     "end_time": "2018-02-08T02:26:50.690751Z",
     "start_time": "2018-02-08T02:26:14.973817Z"
    }
   },
   "outputs": [
    {
     "name": "stderr",
     "output_type": "stream",
     "text": [
      "/home/manel/anaconda3/lib/python3.6/site-packages/sklearn/discriminant_analysis.py:682: UserWarning: Variables are collinear\n",
      "  warnings.warn(\"Variables are collinear\")\n"
     ]
    },
    {
     "data": {
      "text/plain": [
       "('Training accuracy', 0.57045)"
      ]
     },
     "execution_count": 13,
     "metadata": {},
     "output_type": "execute_result"
    }
   ],
   "source": [
    "model.fit(images.reshape(nimages,-1),labels)\n",
    "Y_pred=model.predict(images.reshape(nimages,-1))\n",
    "\"Training accuracy\",np.mean(Y_pred==labels)"
   ]
  },
  {
   "cell_type": "code",
   "execution_count": 14,
   "metadata": {
    "ExecuteTime": {
     "end_time": "2018-02-08T02:26:54.869860Z",
     "start_time": "2018-02-08T02:26:50.692758Z"
    }
   },
   "outputs": [
    {
     "data": {
      "text/plain": [
       "('Test Accuracy', 0.5395)"
      ]
     },
     "execution_count": 14,
     "metadata": {},
     "output_type": "execute_result"
    }
   ],
   "source": [
    "Y_pred=model.predict(test_images.reshape((len(test_images),-1)))\n",
    "\"Test Accuracy\",np.mean(Y_pred==test_labels)\n"
   ]
  },
  {
   "cell_type": "markdown",
   "metadata": {},
   "source": [
    "### Save Model"
   ]
  },
  {
   "cell_type": "code",
   "execution_count": 15,
   "metadata": {
    "ExecuteTime": {
     "end_time": "2018-02-08T02:24:12.874236Z",
     "start_time": "2018-02-08T02:24:12.870225Z"
    }
   },
   "outputs": [],
   "source": [
    "model_filename=model_dir+\"/MNIST_LDA.p\"\n",
    "file=open(model_filename,\"wb\")\n",
    "pickle.dump(model,file)"
   ]
  }
 ],
 "metadata": {
  "kernelspec": {
   "display_name": "Python 3",
   "language": "python",
   "name": "python3"
  },
  "language_info": {
   "codemirror_mode": {
    "name": "ipython",
    "version": 3
   },
   "file_extension": ".py",
   "mimetype": "text/x-python",
   "name": "python",
   "nbconvert_exporter": "python",
   "pygments_lexer": "ipython3",
   "version": "3.6.4"
  },
  "toc": {
   "base_numbering": 1,
   "nav_menu": {},
   "number_sections": true,
   "sideBar": true,
   "skip_h1_title": true,
   "title_cell": "Table of Contents",
   "title_sidebar": "Contents",
   "toc_cell": false,
   "toc_position": {},
   "toc_section_display": "block",
   "toc_window_display": false
  }
 },
 "nbformat": 4,
 "nbformat_minor": 2
}
