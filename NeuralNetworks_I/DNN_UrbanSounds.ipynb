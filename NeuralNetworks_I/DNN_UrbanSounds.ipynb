{
 "cells": [
  {
   "cell_type": "markdown",
   "metadata": {},
   "source": [
    "# Dense Neural Network on Urban Sounds Features"
   ]
  },
  {
   "cell_type": "markdown",
   "metadata": {},
   "source": [
    "We use a 2 layer dense neural network on manually engineered sound features.\n",
    "\n",
    "We perform a seach on the size of the layers and find that a very large network ($1024\\times 256$) has the best performance\n",
    "$\\approx 93$%"
   ]
  },
  {
   "cell_type": "markdown",
   "metadata": {},
   "source": [
    "## Preliminaries"
   ]
  },
  {
   "cell_type": "markdown",
   "metadata": {
    "ExecuteTime": {
     "end_time": "2017-12-14T20:15:53.841495Z",
     "start_time": "2017-12-14T20:15:53.838459Z"
    }
   },
   "source": [
    "### Imports"
   ]
  },
  {
   "cell_type": "code",
   "execution_count": 1,
   "metadata": {
    "ExecuteTime": {
     "end_time": "2019-01-14T11:15:49.629370Z",
     "start_time": "2019-01-14T11:15:30.609778Z"
    }
   },
   "outputs": [],
   "source": [
    "import glob\n",
    "import os\n",
    "import pickle\n",
    "\n",
    "import numpy as np\n",
    "import tensorflow as tf\n",
    "import tensorflow.keras as keras\n",
    "import pandas as pd\n",
    "import matplotlib.pyplot as plt\n",
    "\n",
    "import librosa\n",
    "\n",
    "\n",
    "from sklearn.model_selection import train_test_split\n",
    "\n",
    "%matplotlib inline\n",
    "\n",
    "import sys\n",
    "sys.path.append(\"../..\")\n",
    "from E4525_ML.multiclass_logistic import LogisticGDClassifier"
   ]
  },
  {
   "cell_type": "markdown",
   "metadata": {},
   "source": [
    "### Load Preprocessed Features"
   ]
  },
  {
   "cell_type": "code",
   "execution_count": 2,
   "metadata": {
    "ExecuteTime": {
     "end_time": "2019-01-14T11:15:49.643189Z",
     "start_time": "2019-01-14T11:15:49.629370Z"
    }
   },
   "outputs": [],
   "source": [
    "features_dir=\"../../data/UrbanSounds\"\n",
    "\n",
    "#model_dir=\"../../data/models/tf/DNN_UrbanSounds\""
   ]
  },
  {
   "cell_type": "code",
   "execution_count": 3,
   "metadata": {
    "ExecuteTime": {
     "end_time": "2019-01-14T11:15:58.239923Z",
     "start_time": "2019-01-14T11:15:58.208676Z"
    }
   },
   "outputs": [],
   "source": [
    "filename=features_dir+\"/features.p\"\n",
    "if False:\n",
    "    features_all, labels_all = extract_features(raw_data_dir,sub_dirs)\n",
    "\n",
    "    print(features.shape)\n",
    "    file=open(filename,\"wb\")\n",
    "    pickle.dump((features_all,labels_all),file)\n",
    "else:\n",
    "    file=open(filename,\"rb\")\n",
    "    (features_all,labels_all)=pickle.load(file)"
   ]
  },
  {
   "cell_type": "markdown",
   "metadata": {},
   "source": [
    "### Generate Train, Validation and Test Sets"
   ]
  },
  {
   "cell_type": "code",
   "execution_count": 4,
   "metadata": {
    "ExecuteTime": {
     "end_time": "2019-01-14T11:17:30.234307Z",
     "start_time": "2019-01-14T11:17:30.203045Z"
    }
   },
   "outputs": [
    {
     "name": "stdout",
     "output_type": "stream",
     "text": [
      "(6315, 193) (1579, 193)\n"
     ]
    }
   ],
   "source": [
    "features,features_test,labels,labels_test=train_test_split(features_all,labels_all,test_size=0.2)\n",
    "print(features.shape,features_test.shape)"
   ]
  },
  {
   "cell_type": "code",
   "execution_count": 5,
   "metadata": {
    "ExecuteTime": {
     "end_time": "2019-01-14T11:17:30.941400Z",
     "start_time": "2019-01-14T11:17:30.910248Z"
    }
   },
   "outputs": [
    {
     "name": "stdout",
     "output_type": "stream",
     "text": [
      "(5052, 193) (1263, 193)\n"
     ]
    }
   ],
   "source": [
    "features_train,features_val,labels_train,labels_val=train_test_split(features,labels,test_size=0.2)\n",
    "print(features_train.shape,features_val.shape)"
   ]
  },
  {
   "cell_type": "markdown",
   "metadata": {},
   "source": [
    "# Logistic Regression"
   ]
  },
  {
   "cell_type": "code",
   "execution_count": 6,
   "metadata": {
    "ExecuteTime": {
     "end_time": "2019-01-14T11:17:44.689955Z",
     "start_time": "2019-01-14T11:17:44.674459Z"
    }
   },
   "outputs": [],
   "source": [
    "from E4525_ML.multiclass_logistic import LogisticGDClassifier"
   ]
  },
  {
   "cell_type": "code",
   "execution_count": 7,
   "metadata": {
    "ExecuteTime": {
     "end_time": "2019-01-14T11:17:45.361273Z",
     "start_time": "2019-01-14T11:17:45.345812Z"
    }
   },
   "outputs": [],
   "source": [
    "model=LogisticGDClassifier(max_iter=5000,learning_rate=0.00001,penalty=0,verbose=True)"
   ]
  },
  {
   "cell_type": "code",
   "execution_count": 8,
   "metadata": {
    "ExecuteTime": {
     "end_time": "2019-01-14T11:18:27.384685Z",
     "start_time": "2019-01-14T11:17:46.039638Z"
    }
   },
   "outputs": [
    {
     "name": "stdout",
     "output_type": "stream",
     "text": [
      "\t 0 Loss = 17230.500133554528 Train_Accuracy 0.101 Evaluation Loss = 17236.327498542756 Accuracy = 0.095\n",
      "\t 500 Loss = 1378.9783188747497 Train_Accuracy 0.728 Evaluation Loss = 2086.3886622847494 Accuracy = 0.652\n",
      "\t 1000 Loss = 1090.5553613416623 Train_Accuracy 0.753 Evaluation Loss = 1621.3227256111072 Accuracy = 0.717\n",
      "\t 1500 Loss = 1071.4710925530858 Train_Accuracy 0.728 Evaluation Loss = 1742.960867906273 Accuracy = 0.66\n",
      "\t 2000 Loss = 1251.4246682693833 Train_Accuracy 0.708 Evaluation Loss = 2093.626369116404 Accuracy = 0.642\n",
      "\t 2500 Loss = 1707.3824058997084 Train_Accuracy 0.686 Evaluation Loss = 2058.521991152697 Accuracy = 0.656\n",
      "\t 3000 Loss = 1227.8340993865377 Train_Accuracy 0.728 Evaluation Loss = 1608.0907181922464 Accuracy = 0.706\n",
      "\t 3500 Loss = 1480.126926306245 Train_Accuracy 0.708 Evaluation Loss = 1941.0545027393428 Accuracy = 0.663\n",
      "\t 4000 Loss = 1621.0287739350847 Train_Accuracy 0.689 Evaluation Loss = 2348.7527980251734 Accuracy = 0.646\n",
      "\t 4500 Loss = 1331.2192035831063 Train_Accuracy 0.72 Evaluation Loss = 2128.9095819740987 Accuracy = 0.678\n",
      "\t 4999 Loss = 1205.6308494219707 Train_Accuracy 0.752 Evaluation Loss = 1905.9925046936128 Accuracy = 0.692\n"
     ]
    },
    {
     "name": "stderr",
     "output_type": "stream",
     "text": [
      "C:\\ProgramData\\Anaconda3\\lib\\site-packages\\sklearn\\preprocessing\\label.py:151: DeprecationWarning: The truth value of an empty array is ambiguous. Returning False, but in future this will result in an error. Use `array.size > 0` to check that an array is not empty.\n",
      "  if diff:\n"
     ]
    },
    {
     "data": {
      "text/plain": [
       "('Training accuracy', 0.7404988123515439)"
      ]
     },
     "execution_count": 8,
     "metadata": {},
     "output_type": "execute_result"
    }
   ],
   "source": [
    "model.fit(features_train.reshape(len(features_train),-1),labels_train,features_val.reshape(len(features_val),-1),labels_val)\n",
    "Y_pred=model.predict(features_train.reshape(len(features_train),-1))\n",
    "\"Training accuracy\",np.mean(Y_pred==labels_train)"
   ]
  },
  {
   "cell_type": "code",
   "execution_count": 9,
   "metadata": {
    "ExecuteTime": {
     "end_time": "2019-01-14T11:18:27.400305Z",
     "start_time": "2019-01-14T11:18:27.384685Z"
    }
   },
   "outputs": [
    {
     "name": "stderr",
     "output_type": "stream",
     "text": [
      "C:\\ProgramData\\Anaconda3\\lib\\site-packages\\sklearn\\preprocessing\\label.py:151: DeprecationWarning: The truth value of an empty array is ambiguous. Returning False, but in future this will result in an error. Use `array.size > 0` to check that an array is not empty.\n",
      "  if diff:\n"
     ]
    },
    {
     "data": {
      "text/plain": [
       "('Test Accuracy', 0.694110196326789)"
      ]
     },
     "execution_count": 9,
     "metadata": {},
     "output_type": "execute_result"
    }
   ],
   "source": [
    "Y_pred=model.predict(features_test.reshape((len(features_test),-1)))\n",
    "\"Test Accuracy\",np.mean(Y_pred==labels_test)"
   ]
  },
  {
   "cell_type": "markdown",
   "metadata": {},
   "source": [
    "## Training Dense Neural Network on Urban Sound Features Data Set"
   ]
  },
  {
   "cell_type": "code",
   "execution_count": 104,
   "metadata": {
    "ExecuteTime": {
     "end_time": "2019-01-15T10:17:45.922681Z",
     "start_time": "2019-01-15T10:17:45.907088Z"
    }
   },
   "outputs": [],
   "source": [
    "num_classes=10"
   ]
  },
  {
   "cell_type": "code",
   "execution_count": 37,
   "metadata": {
    "ExecuteTime": {
     "end_time": "2019-01-14T11:39:40.112393Z",
     "start_time": "2019-01-14T11:39:40.096902Z"
    }
   },
   "outputs": [],
   "source": [
    "class ReportCallback(keras.callbacks.Callback):\n",
    "    def __init__(self,frequency,use_val=True):\n",
    "        self.freq=frequency\n",
    "        self.use_val=use_val\n",
    "        self.separator=\" || \"\n",
    "        if not(self.use_val):\n",
    "            self.separator=\"\\n\"\n",
    "    def on_epoch_end(self, epoch, logs={}):\n",
    "        if (epoch % self.freq ==0):\n",
    "            train_loss=logs[\"loss\"]\n",
    "            train_acc=logs[\"acc\"]\n",
    "            print(f\"\\t{epoch}: TRAIN loss {train_loss:.4f},  acc {train_acc:.4f}\",end=self.separator)\n",
    "            if self.use_val:\n",
    "                val_loss=logs[\"val_loss\"]\n",
    "                val_acc=logs[\"val_acc\"]\n",
    "                print(f\"VAL loss {val_loss:.4f}, acc {val_acc:.4f}\")"
   ]
  },
  {
   "cell_type": "code",
   "execution_count": 75,
   "metadata": {
    "ExecuteTime": {
     "end_time": "2019-01-14T11:51:14.412879Z",
     "start_time": "2019-01-14T11:51:14.397259Z"
    }
   },
   "outputs": [],
   "source": [
    "def build_model(hidden1,hidden2):\n",
    "    model=keras.Sequential([\n",
    "        keras.layers.Flatten(input_shape=(193,)),\n",
    "        keras.layers.Dense(hidden1,activation=\"relu\"),\n",
    "        keras.layers.Dense(hidden2,activation=\"relu\"),\n",
    "        keras.layers.Dense(num_classes,activation=\"softmax\")\n",
    "    ])\n",
    "    optimizer=keras.optimizers.Adam(lr=0.001,decay=1e-4)\n",
    "    model.compile(optimizer=optimizer,loss=\"sparse_categorical_crossentropy\",metrics=[\"accuracy\"])\n",
    "    return model"
   ]
  },
  {
   "cell_type": "code",
   "execution_count": 76,
   "metadata": {
    "ExecuteTime": {
     "end_time": "2019-01-14T11:51:15.236937Z",
     "start_time": "2019-01-14T11:51:15.101198Z"
    }
   },
   "outputs": [
    {
     "name": "stdout",
     "output_type": "stream",
     "text": [
      "_________________________________________________________________\n",
      "Layer (type)                 Output Shape              Param #   \n",
      "=================================================================\n",
      "flatten_11 (Flatten)         (None, 193)               0         \n",
      "_________________________________________________________________\n",
      "dense_33 (Dense)             (None, 512)               99328     \n",
      "_________________________________________________________________\n",
      "dense_34 (Dense)             (None, 256)               131328    \n",
      "_________________________________________________________________\n",
      "dense_35 (Dense)             (None, 10)                2570      \n",
      "=================================================================\n",
      "Total params: 233,226\n",
      "Trainable params: 233,226\n",
      "Non-trainable params: 0\n",
      "_________________________________________________________________\n"
     ]
    }
   ],
   "source": [
    "model0=build_model(512,256)\n",
    "model0.summary()"
   ]
  },
  {
   "cell_type": "code",
   "execution_count": 77,
   "metadata": {
    "ExecuteTime": {
     "end_time": "2019-01-14T11:51:16.269383Z",
     "start_time": "2019-01-14T11:51:16.253836Z"
    }
   },
   "outputs": [],
   "source": [
    "nepochs=300"
   ]
  },
  {
   "cell_type": "code",
   "execution_count": 78,
   "metadata": {
    "ExecuteTime": {
     "end_time": "2019-01-14T11:52:04.657209Z",
     "start_time": "2019-01-14T11:51:17.005401Z"
    }
   },
   "outputs": [
    {
     "name": "stdout",
     "output_type": "stream",
     "text": [
      "\t0: TRAIN loss 7.7082,  acc 0.3294 || VAL loss 4.4935, acc 0.4402\n",
      "\t10: TRAIN loss 1.2543,  acc 0.8268 || VAL loss 1.6064, acc 0.7728\n",
      "\t20: TRAIN loss 0.9637,  acc 0.9082 || VAL loss 1.3789, acc 0.8353\n",
      "\t30: TRAIN loss 1.0119,  acc 0.9024 || VAL loss 1.4670, acc 0.8242\n",
      "\t40: TRAIN loss 0.8720,  acc 0.9343 || VAL loss 1.3735, acc 0.8480\n",
      "\t50: TRAIN loss 0.8426,  acc 0.9430 || VAL loss 1.3005, acc 0.8686\n",
      "\t60: TRAIN loss 0.8639,  acc 0.9353 || VAL loss 1.4006, acc 0.8535\n",
      "\t70: TRAIN loss 0.8953,  acc 0.9355 || VAL loss 1.3529, acc 0.8717\n",
      "\t80: TRAIN loss 0.8676,  acc 0.9446 || VAL loss 1.3349, acc 0.8812\n",
      "\t90: TRAIN loss 0.8347,  acc 0.9475 || VAL loss 1.3023, acc 0.8836\n",
      "\t100: TRAIN loss 0.4555,  acc 0.9238 || VAL loss 0.7997, acc 0.8749\n",
      "\t110: TRAIN loss 0.1863,  acc 0.9800 || VAL loss 0.6903, acc 0.9018\n",
      "\t120: TRAIN loss 0.1343,  acc 0.9905 || VAL loss 0.6449, acc 0.9145\n",
      "\t130: TRAIN loss 0.1319,  acc 0.9907 || VAL loss 0.6234, acc 0.9177\n",
      "\t140: TRAIN loss 0.1316,  acc 0.9903 || VAL loss 0.6178, acc 0.9216\n",
      "\t150: TRAIN loss 0.1779,  acc 0.9727 || VAL loss 0.6618, acc 0.9066\n",
      "\t160: TRAIN loss 0.0933,  acc 0.9929 || VAL loss 0.6168, acc 0.9161\n",
      "\t170: TRAIN loss 0.0930,  acc 0.9927 || VAL loss 0.6279, acc 0.9200\n",
      "\t180: TRAIN loss 0.0942,  acc 0.9929 || VAL loss 0.6231, acc 0.9153\n",
      "\t190: TRAIN loss 0.1808,  acc 0.9834 || VAL loss 0.6103, acc 0.9153\n",
      "\t200: TRAIN loss 0.1468,  acc 0.9897 || VAL loss 0.5236, acc 0.9264\n",
      "\t210: TRAIN loss 0.1032,  acc 0.9915 || VAL loss 0.5714, acc 0.9216\n",
      "\t220: TRAIN loss 0.1027,  acc 0.9925 || VAL loss 0.5616, acc 0.9248\n",
      "\t230: TRAIN loss 0.1025,  acc 0.9919 || VAL loss 0.5708, acc 0.9216\n",
      "\t240: TRAIN loss 0.1034,  acc 0.9917 || VAL loss 0.5644, acc 0.9224\n",
      "\t250: TRAIN loss 0.1148,  acc 0.9905 || VAL loss 0.5867, acc 0.9192\n",
      "\t260: TRAIN loss 0.1110,  acc 0.9921 || VAL loss 0.5917, acc 0.9264\n",
      "\t270: TRAIN loss 0.1122,  acc 0.9917 || VAL loss 0.6038, acc 0.9248\n",
      "\t280: TRAIN loss 0.1116,  acc 0.9911 || VAL loss 0.6128, acc 0.9272\n",
      "\t290: TRAIN loss 0.1109,  acc 0.9919 || VAL loss 0.6125, acc 0.9279\n"
     ]
    }
   ],
   "source": [
    "result=model0.fit(features_train,labels_train,validation_data=(features_val,labels_val),\n",
    "                  epochs=nepochs,batch_size=100,\n",
    "                  verbose=0,callbacks=[ReportCallback(10)])"
   ]
  },
  {
   "cell_type": "code",
   "execution_count": 79,
   "metadata": {
    "ExecuteTime": {
     "end_time": "2019-01-14T11:52:10.022820Z",
     "start_time": "2019-01-14T11:52:09.766523Z"
    }
   },
   "outputs": [
    {
     "data": {
      "text/plain": [
       "<matplotlib.legend.Legend at 0x235cd25a320>"
      ]
     },
     "execution_count": 79,
     "metadata": {},
     "output_type": "execute_result"
    },
    {
     "data": {
      "image/png": "[encoded data removed]",
      "text/plain": [
       "<Figure size 864x432 with 2 Axes>"
      ]
     },
     "metadata": {},
     "output_type": "display_data"
    }
   ],
   "source": [
    "history=result.history\n",
    "plt.figure(figsize=(12,6))\n",
    "plt.subplot(1, 2, 1)\n",
    "plt.plot(history[\"loss\"],label=\"loss\")\n",
    "plt.plot(history[\"val_loss\"],label=\"valuation loss\")\n",
    "plt.title('Loss')\n",
    "plt.xlabel('epoch')\n",
    "plt.legend()\n",
    "\n",
    "plt.subplot(1, 2, 2)\n",
    "plt.plot(history[\"acc\"],label=\"accuracy\")\n",
    "plt.plot(history[\"val_acc\"],label=\"valuation accuracy\")\n",
    "plt.title('Accuracy')\n",
    "plt.xlabel('epoch')\n",
    "plt.legend()"
   ]
  },
  {
   "cell_type": "code",
   "execution_count": 81,
   "metadata": {
    "ExecuteTime": {
     "end_time": "2019-01-14T11:53:06.532915Z",
     "start_time": "2019-01-14T11:53:06.310672Z"
    }
   },
   "outputs": [
    {
     "data": {
      "text/plain": [
       "0.9287410926365796"
      ]
     },
     "execution_count": 81,
     "metadata": {},
     "output_type": "execute_result"
    }
   ],
   "source": [
    "Y_pred=np.argmax(model0.predict(features_val),axis=1)\n",
    "np.mean(Y_pred==labels_val)"
   ]
  },
  {
   "cell_type": "markdown",
   "metadata": {},
   "source": [
    "## Hyperparameter search"
   ]
  },
  {
   "cell_type": "markdown",
   "metadata": {},
   "source": [
    "Let's now search on parameter space for the optimal size of both layers."
   ]
  },
  {
   "cell_type": "code",
   "execution_count": 82,
   "metadata": {
    "ExecuteTime": {
     "end_time": "2019-01-14T13:01:03.497927Z",
     "start_time": "2019-01-14T11:55:46.613951Z"
    },
    "scrolled": false
   },
   "outputs": [
    {
     "name": "stdout",
     "output_type": "stream",
     "text": [
      "\t0: TRAIN loss 5.7940,  acc 0.1261 || VAL loss 3.1946, acc 0.1449\n",
      "\t10: TRAIN loss 1.4170,  acc 0.5230 || VAL loss 1.4787, acc 0.5099\n",
      "\t20: TRAIN loss 1.0940,  acc 0.6243 || VAL loss 1.2365, acc 0.6160\n",
      "\t30: TRAIN loss 0.9605,  acc 0.6746 || VAL loss 1.1408, acc 0.6477\n",
      "\t40: TRAIN loss 0.8611,  acc 0.7068 || VAL loss 1.1029, acc 0.6722\n",
      "\t50: TRAIN loss 0.7923,  acc 0.7276 || VAL loss 1.0738, acc 0.6912\n",
      "\t60: TRAIN loss 0.7285,  acc 0.7530 || VAL loss 1.0477, acc 0.7023\n",
      "\t70: TRAIN loss 0.6936,  acc 0.7694 || VAL loss 1.0147, acc 0.7268\n",
      "\t80: TRAIN loss 0.6400,  acc 0.7914 || VAL loss 0.9891, acc 0.7427\n",
      "\t90: TRAIN loss 0.6112,  acc 0.8011 || VAL loss 0.9839, acc 0.7348\n",
      "\t100: TRAIN loss 0.5937,  acc 0.8007 || VAL loss 0.9708, acc 0.7530\n",
      "\t110: TRAIN loss 0.5573,  acc 0.8151 || VAL loss 0.9699, acc 0.7411\n",
      "\t120: TRAIN loss 0.5315,  acc 0.8268 || VAL loss 0.9921, acc 0.7451\n",
      "\t130: TRAIN loss 0.5116,  acc 0.8369 || VAL loss 0.9930, acc 0.7451\n",
      "\t140: TRAIN loss 0.4953,  acc 0.8411 || VAL loss 0.9943, acc 0.7451\n",
      "\t150: TRAIN loss 0.4833,  acc 0.8450 || VAL loss 0.9607, acc 0.7538\n",
      "\t160: TRAIN loss 0.4770,  acc 0.8476 || VAL loss 0.9837, acc 0.7514\n",
      "\t170: TRAIN loss 0.4572,  acc 0.8510 || VAL loss 0.9702, acc 0.7546\n",
      "\t180: TRAIN loss 0.4479,  acc 0.8567 || VAL loss 0.9821, acc 0.7530\n",
      "\t190: TRAIN loss 0.4486,  acc 0.8561 || VAL loss 0.9960, acc 0.7577\n",
      "\t200: TRAIN loss 0.4273,  acc 0.8644 || VAL loss 0.9878, acc 0.7585\n",
      "\t210: TRAIN loss 0.4204,  acc 0.8644 || VAL loss 0.9972, acc 0.7569\n",
      "\t220: TRAIN loss 0.4182,  acc 0.8658 || VAL loss 1.0112, acc 0.7577\n",
      "\t230: TRAIN loss 0.4070,  acc 0.8725 || VAL loss 1.0213, acc 0.7538\n",
      "\t240: TRAIN loss 0.3996,  acc 0.8739 || VAL loss 1.0355, acc 0.7585\n",
      "\t250: TRAIN loss 0.3922,  acc 0.8739 || VAL loss 1.0270, acc 0.7546\n",
      "\t260: TRAIN loss 0.3941,  acc 0.8755 || VAL loss 1.0189, acc 0.7577\n",
      "\t270: TRAIN loss 0.3826,  acc 0.8775 || VAL loss 1.0275, acc 0.7617\n",
      "\t280: TRAIN loss 0.3804,  acc 0.8791 || VAL loss 1.0325, acc 0.7617\n",
      "\t290: TRAIN loss 0.3862,  acc 0.8765 || VAL loss 1.0514, acc 0.7648\n",
      "16 16 0.8846001583531274 0.7624703087885986\n",
      "\t0: TRAIN loss 6.7651,  acc 0.1817 || VAL loss 5.3007, acc 0.2193\n",
      "\t10: TRAIN loss 1.2046,  acc 0.6031 || VAL loss 1.4124, acc 0.5883\n",
      "\t20: TRAIN loss 0.9073,  acc 0.6964 || VAL loss 1.0938, acc 0.6698\n",
      "\t30: TRAIN loss 0.7574,  acc 0.7482 || VAL loss 0.9654, acc 0.7221\n",
      "\t40: TRAIN loss 0.6816,  acc 0.7817 || VAL loss 0.9357, acc 0.7427\n",
      "\t50: TRAIN loss 0.5999,  acc 0.8086 || VAL loss 0.8687, acc 0.7736\n",
      "\t60: TRAIN loss 0.5584,  acc 0.8201 || VAL loss 0.8327, acc 0.7775\n",
      "\t70: TRAIN loss 0.5196,  acc 0.8319 || VAL loss 0.8200, acc 0.7854\n",
      "\t80: TRAIN loss 0.4771,  acc 0.8438 || VAL loss 0.8080, acc 0.7941\n",
      "\t90: TRAIN loss 0.4489,  acc 0.8519 || VAL loss 0.8131, acc 0.7981\n",
      "\t100: TRAIN loss 0.4343,  acc 0.8575 || VAL loss 0.8687, acc 0.7878\n",
      "\t110: TRAIN loss 0.4060,  acc 0.8676 || VAL loss 0.8637, acc 0.7973\n",
      "\t120: TRAIN loss 0.3867,  acc 0.8684 || VAL loss 0.8886, acc 0.7862\n",
      "\t130: TRAIN loss 0.3720,  acc 0.8761 || VAL loss 0.8986, acc 0.7973\n",
      "\t140: TRAIN loss 0.3606,  acc 0.8808 || VAL loss 0.9060, acc 0.7965\n",
      "\t150: TRAIN loss 0.3485,  acc 0.8854 || VAL loss 0.9123, acc 0.7918\n",
      "\t160: TRAIN loss 0.3360,  acc 0.8919 || VAL loss 0.9429, acc 0.7918\n",
      "\t170: TRAIN loss 0.3297,  acc 0.8923 || VAL loss 0.9527, acc 0.7910\n",
      "\t180: TRAIN loss 0.3199,  acc 0.8959 || VAL loss 0.9303, acc 0.8029\n",
      "\t190: TRAIN loss 0.3085,  acc 0.8985 || VAL loss 0.9446, acc 0.7933\n",
      "\t200: TRAIN loss 0.3091,  acc 0.9014 || VAL loss 0.9428, acc 0.7981\n",
      "\t210: TRAIN loss 0.2987,  acc 0.9028 || VAL loss 0.9683, acc 0.7973\n",
      "\t220: TRAIN loss 0.2959,  acc 0.9038 || VAL loss 0.9604, acc 0.8005\n",
      "\t230: TRAIN loss 0.2844,  acc 0.9084 || VAL loss 0.9554, acc 0.8044\n",
      "\t240: TRAIN loss 0.2863,  acc 0.9097 || VAL loss 0.9944, acc 0.7981\n",
      "\t250: TRAIN loss 0.2726,  acc 0.9086 || VAL loss 0.9714, acc 0.8005\n",
      "\t260: TRAIN loss 0.2704,  acc 0.9133 || VAL loss 0.9736, acc 0.8092\n",
      "\t270: TRAIN loss 0.2592,  acc 0.9179 || VAL loss 1.0183, acc 0.8029\n",
      "\t280: TRAIN loss 0.2551,  acc 0.9198 || VAL loss 0.9824, acc 0.8108\n",
      "\t290: TRAIN loss 0.2524,  acc 0.9181 || VAL loss 0.9987, acc 0.8100\n",
      "16 32 0.9231987331749802 0.8060174188440221\n",
      "\t0: TRAIN loss 6.8780,  acc 0.1791 || VAL loss 3.0224, acc 0.2842\n",
      "\t10: TRAIN loss 1.0689,  acc 0.6679 || VAL loss 1.2050, acc 0.6453\n",
      "\t20: TRAIN loss 0.7947,  acc 0.7413 || VAL loss 1.0277, acc 0.7023\n",
      "\t30: TRAIN loss 0.6664,  acc 0.7791 || VAL loss 0.9518, acc 0.7253\n",
      "\t40: TRAIN loss 0.5661,  acc 0.8131 || VAL loss 0.8999, acc 0.7633\n",
      "\t50: TRAIN loss 0.4956,  acc 0.8345 || VAL loss 0.9041, acc 0.7783\n",
      "\t60: TRAIN loss 0.4523,  acc 0.8567 || VAL loss 0.9118, acc 0.7759\n",
      "\t70: TRAIN loss 0.3991,  acc 0.8698 || VAL loss 0.8779, acc 0.7910\n",
      "\t80: TRAIN loss 0.3948,  acc 0.8775 || VAL loss 0.8680, acc 0.8029\n",
      "\t90: TRAIN loss 0.3557,  acc 0.8852 || VAL loss 0.8747, acc 0.7918\n",
      "\t100: TRAIN loss 0.3160,  acc 0.8977 || VAL loss 0.8613, acc 0.8084\n",
      "\t110: TRAIN loss 0.2921,  acc 0.9056 || VAL loss 0.8771, acc 0.8052\n",
      "\t120: TRAIN loss 0.2874,  acc 0.9058 || VAL loss 0.8565, acc 0.7973\n",
      "\t130: TRAIN loss 0.2482,  acc 0.9216 || VAL loss 0.8453, acc 0.8084\n",
      "\t140: TRAIN loss 0.2441,  acc 0.9200 || VAL loss 0.8563, acc 0.8092\n",
      "\t150: TRAIN loss 0.2224,  acc 0.9291 || VAL loss 0.8713, acc 0.7997\n",
      "\t160: TRAIN loss 0.2476,  acc 0.9242 || VAL loss 0.9016, acc 0.8100\n",
      "\t170: TRAIN loss 0.2018,  acc 0.9355 || VAL loss 0.9123, acc 0.8147\n",
      "\t180: TRAIN loss 0.1921,  acc 0.9400 || VAL loss 0.9137, acc 0.8044\n",
      "\t190: TRAIN loss 0.1832,  acc 0.9428 || VAL loss 0.9252, acc 0.8052\n",
      "\t200: TRAIN loss 0.1781,  acc 0.9464 || VAL loss 0.9403, acc 0.8044\n",
      "\t210: TRAIN loss 0.1998,  acc 0.9384 || VAL loss 1.0023, acc 0.8116\n",
      "\t220: TRAIN loss 0.1636,  acc 0.9511 || VAL loss 0.9784, acc 0.8076\n",
      "\t230: TRAIN loss 0.1540,  acc 0.9549 || VAL loss 0.9861, acc 0.8124\n",
      "\t240: TRAIN loss 0.1489,  acc 0.9561 || VAL loss 0.9985, acc 0.8108\n",
      "\t250: TRAIN loss 0.1449,  acc 0.9586 || VAL loss 1.0249, acc 0.8124\n",
      "\t260: TRAIN loss 0.1386,  acc 0.9590 || VAL loss 1.0345, acc 0.8029\n",
      "\t270: TRAIN loss 0.1309,  acc 0.9630 || VAL loss 1.0317, acc 0.8124\n",
      "\t280: TRAIN loss 0.1359,  acc 0.9590 || VAL loss 1.0458, acc 0.8076\n",
      "\t290: TRAIN loss 0.1335,  acc 0.9622 || VAL loss 1.0991, acc 0.8076\n",
      "16 64 0.9675376088677752 0.8131433095803642\n",
      "\t0: TRAIN loss 3.3600,  acc 0.2492 || VAL loss 2.0548, acc 0.3721\n",
      "\t10: TRAIN loss 1.0011,  acc 0.6623 || VAL loss 1.1063, acc 0.6667\n",
      "\t20: TRAIN loss 0.7719,  acc 0.7445 || VAL loss 1.0107, acc 0.6975\n",
      "\t30: TRAIN loss 0.6296,  acc 0.8056 || VAL loss 0.9063, acc 0.7506\n",
      "\t40: TRAIN loss 0.5164,  acc 0.8385 || VAL loss 0.8705, acc 0.7728\n",
      "\t50: TRAIN loss 0.4531,  acc 0.8567 || VAL loss 0.8272, acc 0.7862\n",
      "\t60: TRAIN loss 0.4048,  acc 0.8781 || VAL loss 0.8026, acc 0.7886\n",
      "\t70: TRAIN loss 0.3636,  acc 0.8903 || VAL loss 0.7847, acc 0.8013\n",
      "\t80: TRAIN loss 0.3109,  acc 0.9111 || VAL loss 0.7831, acc 0.8084\n",
      "\t90: TRAIN loss 0.2879,  acc 0.9161 || VAL loss 0.7480, acc 0.8179\n",
      "\t100: TRAIN loss 0.2654,  acc 0.9194 || VAL loss 0.7803, acc 0.8108\n",
      "\t110: TRAIN loss 0.2411,  acc 0.9262 || VAL loss 0.7712, acc 0.8361\n",
      "\t120: TRAIN loss 0.2352,  acc 0.9349 || VAL loss 0.7902, acc 0.8290\n",
      "\t130: TRAIN loss 0.2185,  acc 0.9365 || VAL loss 0.8463, acc 0.8179\n",
      "\t140: TRAIN loss 0.2418,  acc 0.9246 || VAL loss 0.7757, acc 0.8385\n",
      "\t150: TRAIN loss 0.1891,  acc 0.9454 || VAL loss 0.8152, acc 0.8226\n",
      "\t160: TRAIN loss 0.1697,  acc 0.9529 || VAL loss 0.8413, acc 0.8226\n",
      "\t170: TRAIN loss 0.1619,  acc 0.9515 || VAL loss 0.8450, acc 0.8393\n",
      "\t180: TRAIN loss 0.1624,  acc 0.9505 || VAL loss 0.8886, acc 0.8345\n",
      "\t190: TRAIN loss 0.1495,  acc 0.9567 || VAL loss 0.8699, acc 0.8337\n",
      "\t200: TRAIN loss 0.1453,  acc 0.9600 || VAL loss 0.8622, acc 0.8329\n",
      "\t210: TRAIN loss 0.1331,  acc 0.9628 || VAL loss 0.9045, acc 0.8345\n",
      "\t220: TRAIN loss 0.1264,  acc 0.9650 || VAL loss 0.9163, acc 0.8393\n",
      "\t230: TRAIN loss 0.1206,  acc 0.9687 || VAL loss 0.9292, acc 0.8377\n",
      "\t240: TRAIN loss 0.1087,  acc 0.9731 || VAL loss 1.0012, acc 0.8258\n",
      "\t250: TRAIN loss 0.1040,  acc 0.9737 || VAL loss 0.9410, acc 0.8409\n",
      "\t260: TRAIN loss 0.1000,  acc 0.9784 || VAL loss 0.9647, acc 0.8306\n",
      "\t270: TRAIN loss 0.0958,  acc 0.9784 || VAL loss 1.0132, acc 0.8369\n",
      "\t280: TRAIN loss 0.0926,  acc 0.9778 || VAL loss 1.0344, acc 0.8298\n",
      "\t290: TRAIN loss 0.0884,  acc 0.9808 || VAL loss 1.0451, acc 0.8369\n"
     ]
    },
    {
     "name": "stdout",
     "output_type": "stream",
     "text": [
      "16 128 0.9853523357086302 0.836104513064133\n",
      "\t0: TRAIN loss 3.2002,  acc 0.2755 || VAL loss 1.8597, acc 0.4442\n",
      "\t10: TRAIN loss 0.8057,  acc 0.7310 || VAL loss 0.9956, acc 0.7031\n",
      "\t20: TRAIN loss 0.5513,  acc 0.8215 || VAL loss 0.8764, acc 0.7672\n",
      "\t30: TRAIN loss 0.4327,  acc 0.8577 || VAL loss 0.8208, acc 0.7870\n",
      "\t40: TRAIN loss 0.4253,  acc 0.8624 || VAL loss 0.8416, acc 0.7965\n",
      "\t50: TRAIN loss 0.2830,  acc 0.9099 || VAL loss 0.7315, acc 0.8290\n",
      "\t60: TRAIN loss 0.2522,  acc 0.9196 || VAL loss 0.7180, acc 0.8440\n",
      "\t70: TRAIN loss 0.1966,  acc 0.9408 || VAL loss 0.7195, acc 0.8401\n",
      "\t80: TRAIN loss 0.1659,  acc 0.9553 || VAL loss 0.7413, acc 0.8480\n",
      "\t90: TRAIN loss 0.1387,  acc 0.9630 || VAL loss 0.7878, acc 0.8424\n",
      "\t100: TRAIN loss 0.1167,  acc 0.9715 || VAL loss 0.8206, acc 0.8409\n",
      "\t110: TRAIN loss 0.1007,  acc 0.9759 || VAL loss 0.8107, acc 0.8496\n",
      "\t120: TRAIN loss 0.0825,  acc 0.9814 || VAL loss 0.8289, acc 0.8559\n",
      "\t130: TRAIN loss 0.0704,  acc 0.9844 || VAL loss 0.8623, acc 0.8511\n",
      "\t140: TRAIN loss 0.1635,  acc 0.9592 || VAL loss 1.0081, acc 0.8337\n",
      "\t150: TRAIN loss 0.0633,  acc 0.9869 || VAL loss 0.8903, acc 0.8480\n",
      "\t160: TRAIN loss 0.0552,  acc 0.9897 || VAL loss 0.9109, acc 0.8504\n",
      "\t170: TRAIN loss 0.0503,  acc 0.9913 || VAL loss 0.9230, acc 0.8527\n",
      "\t180: TRAIN loss 0.0441,  acc 0.9933 || VAL loss 0.9301, acc 0.8543\n",
      "\t190: TRAIN loss 0.0397,  acc 0.9941 || VAL loss 0.9628, acc 0.8543\n",
      "\t200: TRAIN loss 0.0377,  acc 0.9952 || VAL loss 0.9678, acc 0.8575\n",
      "\t210: TRAIN loss 0.0354,  acc 0.9949 || VAL loss 0.9958, acc 0.8567\n",
      "\t220: TRAIN loss 0.0338,  acc 0.9958 || VAL loss 1.0389, acc 0.8496\n",
      "\t230: TRAIN loss 0.0293,  acc 0.9968 || VAL loss 1.0375, acc 0.8543\n",
      "\t240: TRAIN loss 0.0287,  acc 0.9972 || VAL loss 1.0359, acc 0.8583\n",
      "\t250: TRAIN loss 0.0258,  acc 0.9976 || VAL loss 1.0356, acc 0.8551\n",
      "\t260: TRAIN loss 0.0236,  acc 0.9980 || VAL loss 1.0561, acc 0.8551\n",
      "\t270: TRAIN loss 0.0232,  acc 0.9980 || VAL loss 1.0623, acc 0.8551\n",
      "\t280: TRAIN loss 0.0236,  acc 0.9976 || VAL loss 1.0696, acc 0.8599\n",
      "\t290: TRAIN loss 0.0438,  acc 0.9919 || VAL loss 1.1169, acc 0.8527\n",
      "16 256 0.9984164687252574 0.8574821852731591\n",
      "\t0: TRAIN loss 2.3088,  acc 0.3108 || VAL loss 1.7352, acc 0.4331\n",
      "\t10: TRAIN loss 0.8366,  acc 0.7177 || VAL loss 1.0210, acc 0.6912\n",
      "\t20: TRAIN loss 0.6149,  acc 0.7971 || VAL loss 0.9526, acc 0.7427\n",
      "\t30: TRAIN loss 0.4861,  acc 0.8444 || VAL loss 0.8670, acc 0.7743\n",
      "\t40: TRAIN loss 0.3769,  acc 0.8804 || VAL loss 0.8183, acc 0.7957\n",
      "\t50: TRAIN loss 0.3561,  acc 0.8858 || VAL loss 0.8250, acc 0.7957\n",
      "\t60: TRAIN loss 0.2672,  acc 0.9157 || VAL loss 0.8239, acc 0.8060\n",
      "\t70: TRAIN loss 0.2240,  acc 0.9268 || VAL loss 0.8154, acc 0.8187\n",
      "\t80: TRAIN loss 0.1953,  acc 0.9380 || VAL loss 0.7966, acc 0.8226\n",
      "\t90: TRAIN loss 0.1608,  acc 0.9505 || VAL loss 0.8309, acc 0.8266\n",
      "\t100: TRAIN loss 0.1452,  acc 0.9588 || VAL loss 0.8199, acc 0.8266\n",
      "\t110: TRAIN loss 0.1266,  acc 0.9622 || VAL loss 0.8650, acc 0.8290\n",
      "\t120: TRAIN loss 0.0989,  acc 0.9719 || VAL loss 0.9013, acc 0.8314\n",
      "\t130: TRAIN loss 0.0967,  acc 0.9707 || VAL loss 0.9257, acc 0.8345\n",
      "\t140: TRAIN loss 0.1056,  acc 0.9764 || VAL loss 0.9728, acc 0.8290\n",
      "\t150: TRAIN loss 0.1780,  acc 0.9563 || VAL loss 1.0928, acc 0.8131\n",
      "\t160: TRAIN loss 0.0642,  acc 0.9844 || VAL loss 0.9588, acc 0.8409\n",
      "\t170: TRAIN loss 0.0576,  acc 0.9867 || VAL loss 0.9955, acc 0.8377\n",
      "\t180: TRAIN loss 0.0523,  acc 0.9875 || VAL loss 0.9950, acc 0.8480\n",
      "\t190: TRAIN loss 0.0508,  acc 0.9881 || VAL loss 1.0704, acc 0.8337\n",
      "\t200: TRAIN loss 0.0404,  acc 0.9917 || VAL loss 1.0588, acc 0.8440\n",
      "\t210: TRAIN loss 0.0394,  acc 0.9921 || VAL loss 1.0909, acc 0.8353\n",
      "\t220: TRAIN loss 0.0355,  acc 0.9943 || VAL loss 1.0857, acc 0.8377\n",
      "\t230: TRAIN loss 0.0404,  acc 0.9923 || VAL loss 1.0940, acc 0.8337\n",
      "\t240: TRAIN loss 0.0313,  acc 0.9945 || VAL loss 1.1031, acc 0.8416\n",
      "\t250: TRAIN loss 0.0299,  acc 0.9949 || VAL loss 1.1286, acc 0.8361\n",
      "\t260: TRAIN loss 0.0283,  acc 0.9964 || VAL loss 1.1519, acc 0.8353\n",
      "\t270: TRAIN loss 0.0269,  acc 0.9964 || VAL loss 1.1406, acc 0.8337\n",
      "\t280: TRAIN loss 0.0630,  acc 0.9881 || VAL loss 1.1968, acc 0.8353\n",
      "\t290: TRAIN loss 0.0257,  acc 0.9974 || VAL loss 1.2060, acc 0.8416\n",
      "16 512 0.9978226444972288 0.8424386381631037\n",
      "\t0: TRAIN loss 2.3574,  acc 0.3298 || VAL loss 1.6554, acc 0.4806\n",
      "\t10: TRAIN loss 0.6637,  acc 0.7862 || VAL loss 0.9266, acc 0.7577\n",
      "\t20: TRAIN loss 0.4235,  acc 0.8608 || VAL loss 0.7481, acc 0.8171\n",
      "\t30: TRAIN loss 0.2516,  acc 0.9194 || VAL loss 0.7165, acc 0.8290\n",
      "\t40: TRAIN loss 0.2013,  acc 0.9426 || VAL loss 0.6611, acc 0.8535\n",
      "\t50: TRAIN loss 0.1510,  acc 0.9559 || VAL loss 0.6777, acc 0.8567\n",
      "\t60: TRAIN loss 0.0802,  acc 0.9790 || VAL loss 0.6530, acc 0.8622\n",
      "\t70: TRAIN loss 0.0923,  acc 0.9760 || VAL loss 0.7499, acc 0.8448\n",
      "\t80: TRAIN loss 0.0391,  acc 0.9923 || VAL loss 0.7048, acc 0.8694\n",
      "\t90: TRAIN loss 0.1697,  acc 0.9513 || VAL loss 0.8549, acc 0.8440\n",
      "\t100: TRAIN loss 0.0313,  acc 0.9941 || VAL loss 0.7367, acc 0.8773\n",
      "\t110: TRAIN loss 0.0192,  acc 0.9976 || VAL loss 0.7372, acc 0.8812\n",
      "\t120: TRAIN loss 0.0178,  acc 0.9974 || VAL loss 0.7609, acc 0.8789\n",
      "\t130: TRAIN loss 0.0157,  acc 0.9980 || VAL loss 0.7779, acc 0.8781\n",
      "\t140: TRAIN loss 0.0342,  acc 0.9905 || VAL loss 0.7989, acc 0.8757\n",
      "\t150: TRAIN loss 0.0110,  acc 0.9984 || VAL loss 0.8151, acc 0.8844\n",
      "\t160: TRAIN loss 0.0098,  acc 0.9984 || VAL loss 0.8406, acc 0.8820\n",
      "\t170: TRAIN loss 0.0434,  acc 0.9911 || VAL loss 0.9124, acc 0.8614\n",
      "\t180: TRAIN loss 0.0107,  acc 0.9978 || VAL loss 0.8268, acc 0.8789\n",
      "\t190: TRAIN loss 0.0083,  acc 0.9986 || VAL loss 0.8405, acc 0.8860\n",
      "\t200: TRAIN loss 0.0080,  acc 0.9986 || VAL loss 0.8513, acc 0.8804\n",
      "\t210: TRAIN loss 0.0109,  acc 0.9976 || VAL loss 0.8563, acc 0.8812\n",
      "\t220: TRAIN loss 0.0091,  acc 0.9980 || VAL loss 0.8708, acc 0.8812\n",
      "\t230: TRAIN loss 0.0142,  acc 0.9970 || VAL loss 0.8702, acc 0.8797\n",
      "\t240: TRAIN loss 0.0096,  acc 0.9984 || VAL loss 0.8747, acc 0.8765\n",
      "\t250: TRAIN loss 0.0096,  acc 0.9980 || VAL loss 0.8640, acc 0.8757\n",
      "\t260: TRAIN loss 0.0094,  acc 0.9976 || VAL loss 0.8880, acc 0.8773\n",
      "\t270: TRAIN loss 0.0059,  acc 0.9988 || VAL loss 0.8967, acc 0.8757\n",
      "\t280: TRAIN loss 0.0095,  acc 0.9984 || VAL loss 0.9110, acc 0.8789\n",
      "\t290: TRAIN loss 0.0085,  acc 0.9978 || VAL loss 0.8968, acc 0.8773\n",
      "16 1024 0.9990102929532858 0.8780680918448139\n",
      "\t0: TRAIN loss 9.8292,  acc 0.1354 || VAL loss 5.7274, acc 0.1615\n",
      "\t10: TRAIN loss 1.3140,  acc 0.5592 || VAL loss 1.4933, acc 0.5447\n",
      "\t20: TRAIN loss 0.9557,  acc 0.6886 || VAL loss 1.1776, acc 0.6556\n",
      "\t30: TRAIN loss 0.7658,  acc 0.7546 || VAL loss 1.0157, acc 0.7173\n",
      "\t40: TRAIN loss 0.6162,  acc 0.8046 || VAL loss 0.9103, acc 0.7403\n",
      "\t50: TRAIN loss 0.5108,  acc 0.8375 || VAL loss 0.8362, acc 0.7712\n",
      "\t60: TRAIN loss 0.4622,  acc 0.8494 || VAL loss 0.8694, acc 0.7886\n",
      "\t70: TRAIN loss 0.3843,  acc 0.8727 || VAL loss 0.8296, acc 0.8029\n",
      "\t80: TRAIN loss 0.3452,  acc 0.8882 || VAL loss 0.8342, acc 0.8187\n",
      "\t90: TRAIN loss 0.3074,  acc 0.9026 || VAL loss 0.8101, acc 0.8147\n",
      "\t100: TRAIN loss 0.2866,  acc 0.9040 || VAL loss 0.8079, acc 0.8155\n",
      "\t110: TRAIN loss 0.2536,  acc 0.9202 || VAL loss 0.8230, acc 0.8195\n",
      "\t120: TRAIN loss 0.2358,  acc 0.9222 || VAL loss 0.8231, acc 0.8234\n",
      "\t130: TRAIN loss 0.2154,  acc 0.9309 || VAL loss 0.8568, acc 0.8242\n",
      "\t140: TRAIN loss 0.2091,  acc 0.9289 || VAL loss 0.8800, acc 0.8171\n",
      "\t150: TRAIN loss 0.1873,  acc 0.9388 || VAL loss 0.8736, acc 0.8211\n",
      "\t160: TRAIN loss 0.1776,  acc 0.9424 || VAL loss 0.8840, acc 0.8242\n",
      "\t170: TRAIN loss 0.1673,  acc 0.9448 || VAL loss 0.9039, acc 0.8195\n",
      "\t180: TRAIN loss 0.1530,  acc 0.9473 || VAL loss 0.9182, acc 0.8250\n",
      "\t190: TRAIN loss 0.1502,  acc 0.9491 || VAL loss 0.9397, acc 0.8131\n",
      "\t200: TRAIN loss 0.1424,  acc 0.9521 || VAL loss 0.9264, acc 0.8274\n",
      "\t210: TRAIN loss 0.1353,  acc 0.9529 || VAL loss 0.9735, acc 0.8163\n",
      "\t220: TRAIN loss 0.1261,  acc 0.9561 || VAL loss 0.9767, acc 0.8219\n",
      "\t230: TRAIN loss 0.1177,  acc 0.9648 || VAL loss 1.0085, acc 0.8226\n",
      "\t240: TRAIN loss 0.1381,  acc 0.9572 || VAL loss 0.9899, acc 0.8274\n",
      "\t250: TRAIN loss 0.1085,  acc 0.9693 || VAL loss 0.9797, acc 0.8282\n",
      "\t260: TRAIN loss 0.1047,  acc 0.9713 || VAL loss 1.0321, acc 0.8234\n",
      "\t270: TRAIN loss 0.1013,  acc 0.9729 || VAL loss 1.0366, acc 0.8274\n",
      "\t280: TRAIN loss 0.0957,  acc 0.9729 || VAL loss 1.0662, acc 0.8219\n"
     ]
    },
    {
     "name": "stdout",
     "output_type": "stream",
     "text": [
      "\t290: TRAIN loss 0.1032,  acc 0.9709 || VAL loss 1.0962, acc 0.8234\n",
      "32 16 0.9766429136975455 0.8210609659540776\n",
      "\t0: TRAIN loss 6.5271,  acc 0.2225 || VAL loss 3.8969, acc 0.3167\n",
      "\t10: TRAIN loss 0.9141,  acc 0.7126 || VAL loss 1.1622, acc 0.6817\n",
      "\t20: TRAIN loss 0.6395,  acc 0.8064 || VAL loss 0.9734, acc 0.7427\n",
      "\t30: TRAIN loss 0.5140,  acc 0.8529 || VAL loss 0.8571, acc 0.7910\n",
      "\t40: TRAIN loss 0.4245,  acc 0.8798 || VAL loss 0.8379, acc 0.8060\n",
      "\t50: TRAIN loss 0.3593,  acc 0.8971 || VAL loss 0.8158, acc 0.8139\n",
      "\t60: TRAIN loss 0.3012,  acc 0.9143 || VAL loss 0.8119, acc 0.8242\n",
      "\t70: TRAIN loss 0.2719,  acc 0.9256 || VAL loss 0.7978, acc 0.8298\n",
      "\t80: TRAIN loss 0.2469,  acc 0.9281 || VAL loss 0.7690, acc 0.8361\n",
      "\t90: TRAIN loss 0.2123,  acc 0.9446 || VAL loss 0.7736, acc 0.8448\n",
      "\t100: TRAIN loss 0.1933,  acc 0.9477 || VAL loss 0.7990, acc 0.8416\n",
      "\t110: TRAIN loss 0.1799,  acc 0.9535 || VAL loss 0.8085, acc 0.8488\n",
      "\t120: TRAIN loss 0.1679,  acc 0.9578 || VAL loss 0.8608, acc 0.8385\n",
      "\t130: TRAIN loss 0.1477,  acc 0.9662 || VAL loss 0.8787, acc 0.8369\n",
      "\t140: TRAIN loss 0.1364,  acc 0.9697 || VAL loss 0.8616, acc 0.8448\n",
      "\t150: TRAIN loss 0.1252,  acc 0.9737 || VAL loss 0.9297, acc 0.8361\n",
      "\t160: TRAIN loss 0.1183,  acc 0.9757 || VAL loss 0.9110, acc 0.8480\n",
      "\t170: TRAIN loss 0.1111,  acc 0.9780 || VAL loss 0.9365, acc 0.8456\n",
      "\t180: TRAIN loss 0.1085,  acc 0.9766 || VAL loss 0.9604, acc 0.8480\n",
      "\t190: TRAIN loss 0.1028,  acc 0.9802 || VAL loss 1.0092, acc 0.8401\n",
      "\t200: TRAIN loss 0.0950,  acc 0.9826 || VAL loss 0.9670, acc 0.8448\n",
      "\t210: TRAIN loss 0.0905,  acc 0.9834 || VAL loss 1.0089, acc 0.8472\n",
      "\t220: TRAIN loss 0.0889,  acc 0.9840 || VAL loss 1.0104, acc 0.8440\n",
      "\t230: TRAIN loss 0.0842,  acc 0.9838 || VAL loss 1.0436, acc 0.8480\n",
      "\t240: TRAIN loss 0.0797,  acc 0.9856 || VAL loss 1.0806, acc 0.8424\n",
      "\t250: TRAIN loss 0.0763,  acc 0.9873 || VAL loss 1.0825, acc 0.8480\n",
      "\t260: TRAIN loss 0.0728,  acc 0.9887 || VAL loss 1.0854, acc 0.8424\n",
      "\t270: TRAIN loss 0.0681,  acc 0.9895 || VAL loss 1.1088, acc 0.8448\n",
      "\t280: TRAIN loss 0.0683,  acc 0.9897 || VAL loss 1.1209, acc 0.8504\n",
      "\t290: TRAIN loss 0.0694,  acc 0.9895 || VAL loss 1.1341, acc 0.8393\n",
      "32 32 0.9908946951702297 0.8432304038004751\n",
      "\t0: TRAIN loss 5.9634,  acc 0.1956 || VAL loss 3.2983, acc 0.2961\n",
      "\t10: TRAIN loss 0.9080,  acc 0.7102 || VAL loss 1.0990, acc 0.6659\n",
      "\t20: TRAIN loss 0.6637,  acc 0.7979 || VAL loss 0.9240, acc 0.7538\n",
      "\t30: TRAIN loss 0.5130,  acc 0.8458 || VAL loss 0.9144, acc 0.7728\n",
      "\t40: TRAIN loss 0.4090,  acc 0.8769 || VAL loss 0.8128, acc 0.7831\n",
      "\t50: TRAIN loss 0.3851,  acc 0.8931 || VAL loss 0.8058, acc 0.8044\n",
      "\t60: TRAIN loss 0.3004,  acc 0.9173 || VAL loss 0.7655, acc 0.8234\n",
      "\t70: TRAIN loss 0.2638,  acc 0.9264 || VAL loss 0.7806, acc 0.8179\n",
      "\t80: TRAIN loss 0.2455,  acc 0.9325 || VAL loss 0.7507, acc 0.8258\n",
      "\t90: TRAIN loss 0.2138,  acc 0.9434 || VAL loss 0.7635, acc 0.8314\n",
      "\t100: TRAIN loss 0.1968,  acc 0.9491 || VAL loss 0.7748, acc 0.8432\n",
      "\t110: TRAIN loss 0.1904,  acc 0.9565 || VAL loss 0.8435, acc 0.8409\n",
      "\t120: TRAIN loss 0.1732,  acc 0.9563 || VAL loss 0.8505, acc 0.8401\n",
      "\t130: TRAIN loss 0.1476,  acc 0.9630 || VAL loss 0.8614, acc 0.8424\n",
      "\t140: TRAIN loss 0.1395,  acc 0.9658 || VAL loss 0.8544, acc 0.8488\n",
      "\t150: TRAIN loss 0.1272,  acc 0.9709 || VAL loss 0.8747, acc 0.8488\n",
      "\t160: TRAIN loss 0.1176,  acc 0.9749 || VAL loss 0.8868, acc 0.8409\n",
      "\t170: TRAIN loss 0.1081,  acc 0.9782 || VAL loss 0.9271, acc 0.8496\n",
      "\t180: TRAIN loss 0.1066,  acc 0.9798 || VAL loss 0.8993, acc 0.8519\n",
      "\t190: TRAIN loss 0.1000,  acc 0.9788 || VAL loss 0.9019, acc 0.8511\n",
      "\t200: TRAIN loss 0.0984,  acc 0.9814 || VAL loss 0.8946, acc 0.8480\n",
      "\t210: TRAIN loss 0.0872,  acc 0.9856 || VAL loss 0.9301, acc 0.8472\n",
      "\t220: TRAIN loss 0.0920,  acc 0.9824 || VAL loss 0.9227, acc 0.8535\n",
      "\t230: TRAIN loss 0.0810,  acc 0.9846 || VAL loss 0.9551, acc 0.8480\n",
      "\t240: TRAIN loss 0.0750,  acc 0.9869 || VAL loss 0.9193, acc 0.8551\n",
      "\t250: TRAIN loss 0.0716,  acc 0.9875 || VAL loss 0.9388, acc 0.8527\n",
      "\t260: TRAIN loss 0.0677,  acc 0.9881 || VAL loss 0.9369, acc 0.8472\n",
      "\t270: TRAIN loss 0.0659,  acc 0.9887 || VAL loss 0.9717, acc 0.8480\n",
      "\t280: TRAIN loss 0.0644,  acc 0.9877 || VAL loss 0.9556, acc 0.8496\n",
      "\t290: TRAIN loss 0.0608,  acc 0.9907 || VAL loss 0.9507, acc 0.8488\n",
      "32 64 0.9934679334916865 0.8519398258115598\n",
      "\t0: TRAIN loss 3.1903,  acc 0.2656 || VAL loss 2.2709, acc 0.3872\n",
      "\t10: TRAIN loss 0.9679,  acc 0.7061 || VAL loss 1.1586, acc 0.6817\n",
      "\t20: TRAIN loss 0.7294,  acc 0.7935 || VAL loss 0.9737, acc 0.7577\n",
      "\t30: TRAIN loss 0.5705,  acc 0.8498 || VAL loss 0.9258, acc 0.7791\n",
      "\t40: TRAIN loss 0.4735,  acc 0.8761 || VAL loss 0.8679, acc 0.7997\n",
      "\t50: TRAIN loss 0.4135,  acc 0.8963 || VAL loss 0.8832, acc 0.8044\n",
      "\t60: TRAIN loss 0.3958,  acc 0.9032 || VAL loss 0.8715, acc 0.8108\n",
      "\t70: TRAIN loss 0.3519,  acc 0.9137 || VAL loss 0.8889, acc 0.8306\n",
      "\t80: TRAIN loss 0.3498,  acc 0.9173 || VAL loss 0.9500, acc 0.8187\n",
      "\t90: TRAIN loss 0.2928,  acc 0.9382 || VAL loss 0.9627, acc 0.8282\n",
      "\t100: TRAIN loss 0.2890,  acc 0.9406 || VAL loss 0.9829, acc 0.8242\n",
      "\t110: TRAIN loss 0.2634,  acc 0.9489 || VAL loss 1.0096, acc 0.8211\n",
      "\t120: TRAIN loss 0.2425,  acc 0.9523 || VAL loss 0.9800, acc 0.8329\n",
      "\t130: TRAIN loss 0.2308,  acc 0.9547 || VAL loss 1.0104, acc 0.8298\n",
      "\t140: TRAIN loss 0.2254,  acc 0.9622 || VAL loss 1.0272, acc 0.8274\n",
      "\t150: TRAIN loss 0.2072,  acc 0.9658 || VAL loss 1.0291, acc 0.8314\n",
      "\t160: TRAIN loss 0.2033,  acc 0.9671 || VAL loss 1.0671, acc 0.8321\n",
      "\t170: TRAIN loss 0.1925,  acc 0.9697 || VAL loss 1.0846, acc 0.8321\n",
      "\t180: TRAIN loss 0.1870,  acc 0.9739 || VAL loss 1.1177, acc 0.8361\n",
      "\t190: TRAIN loss 0.1773,  acc 0.9755 || VAL loss 1.1234, acc 0.8314\n",
      "\t200: TRAIN loss 0.1724,  acc 0.9778 || VAL loss 1.1655, acc 0.8298\n",
      "\t210: TRAIN loss 0.1667,  acc 0.9792 || VAL loss 1.1997, acc 0.8321\n",
      "\t220: TRAIN loss 0.1602,  acc 0.9816 || VAL loss 1.1835, acc 0.8306\n",
      "\t230: TRAIN loss 0.1690,  acc 0.9806 || VAL loss 1.2062, acc 0.8258\n",
      "\t240: TRAIN loss 0.1749,  acc 0.9820 || VAL loss 1.1987, acc 0.8282\n",
      "\t250: TRAIN loss 0.1699,  acc 0.9832 || VAL loss 1.2043, acc 0.8416\n",
      "\t260: TRAIN loss 0.1517,  acc 0.9850 || VAL loss 1.2263, acc 0.8385\n",
      "\t270: TRAIN loss 0.1429,  acc 0.9844 || VAL loss 1.2468, acc 0.8314\n",
      "\t280: TRAIN loss 0.1405,  acc 0.9856 || VAL loss 1.2603, acc 0.8321\n",
      "\t290: TRAIN loss 0.1406,  acc 0.9854 || VAL loss 1.2913, acc 0.8321\n",
      "32 128 0.9871338083927158 0.833729216152019\n",
      "\t0: TRAIN loss 3.0108,  acc 0.2777 || VAL loss 2.0357, acc 0.3824\n",
      "\t10: TRAIN loss 0.7613,  acc 0.7797 || VAL loss 0.9691, acc 0.7553\n",
      "\t20: TRAIN loss 0.4805,  acc 0.8672 || VAL loss 0.7928, acc 0.8100\n",
      "\t30: TRAIN loss 0.3616,  acc 0.9042 || VAL loss 0.7266, acc 0.8282\n",
      "\t40: TRAIN loss 0.2899,  acc 0.9268 || VAL loss 0.7175, acc 0.8456\n",
      "\t50: TRAIN loss 0.2232,  acc 0.9503 || VAL loss 0.7225, acc 0.8519\n",
      "\t60: TRAIN loss 0.2383,  acc 0.9468 || VAL loss 0.7415, acc 0.8559\n",
      "\t70: TRAIN loss 0.1708,  acc 0.9675 || VAL loss 0.7588, acc 0.8599\n",
      "\t80: TRAIN loss 0.1808,  acc 0.9673 || VAL loss 0.7407, acc 0.8638\n",
      "\t90: TRAIN loss 0.1495,  acc 0.9766 || VAL loss 0.7655, acc 0.8694\n",
      "\t100: TRAIN loss 0.1422,  acc 0.9755 || VAL loss 0.7188, acc 0.8702\n",
      "\t110: TRAIN loss 0.1111,  acc 0.9857 || VAL loss 0.7494, acc 0.8694\n",
      "\t120: TRAIN loss 0.1049,  acc 0.9871 || VAL loss 0.7692, acc 0.8812\n",
      "\t130: TRAIN loss 0.0949,  acc 0.9907 || VAL loss 0.7945, acc 0.8844\n",
      "\t140: TRAIN loss 0.1126,  acc 0.9838 || VAL loss 0.8415, acc 0.8725\n",
      "\t150: TRAIN loss 0.0905,  acc 0.9905 || VAL loss 0.8889, acc 0.8717\n",
      "\t160: TRAIN loss 0.0851,  acc 0.9923 || VAL loss 0.8903, acc 0.8741\n",
      "\t170: TRAIN loss 0.0921,  acc 0.9889 || VAL loss 0.9122, acc 0.8733\n",
      "\t180: TRAIN loss 0.0825,  acc 0.9909 || VAL loss 0.9149, acc 0.8709\n",
      "\t190: TRAIN loss 0.0748,  acc 0.9939 || VAL loss 0.9399, acc 0.8741\n",
      "\t200: TRAIN loss 0.0775,  acc 0.9933 || VAL loss 0.9546, acc 0.8757\n",
      "\t210: TRAIN loss 0.0737,  acc 0.9939 || VAL loss 0.9452, acc 0.8741\n",
      "\t220: TRAIN loss 0.0749,  acc 0.9929 || VAL loss 0.9917, acc 0.8686\n",
      "\t230: TRAIN loss 0.1263,  acc 0.9852 || VAL loss 0.9762, acc 0.8781\n",
      "\t240: TRAIN loss 0.0729,  acc 0.9945 || VAL loss 0.9649, acc 0.8797\n",
      "\t250: TRAIN loss 0.0714,  acc 0.9943 || VAL loss 0.9809, acc 0.8757\n",
      "\t260: TRAIN loss 0.0712,  acc 0.9937 || VAL loss 0.9960, acc 0.8654\n",
      "\t270: TRAIN loss 0.0722,  acc 0.9931 || VAL loss 0.9928, acc 0.8757\n"
     ]
    },
    {
     "name": "stdout",
     "output_type": "stream",
     "text": [
      "\t280: TRAIN loss 0.0699,  acc 0.9945 || VAL loss 1.0136, acc 0.8773\n",
      "\t290: TRAIN loss 0.0776,  acc 0.9921 || VAL loss 1.0883, acc 0.8646\n",
      "32 256 0.9950514647664291 0.8788598574821853\n",
      "\t0: TRAIN loss 2.8707,  acc 0.3314 || VAL loss 1.5861, acc 0.4925\n",
      "\t10: TRAIN loss 0.5862,  acc 0.8238 || VAL loss 0.8257, acc 0.7688\n",
      "\t20: TRAIN loss 0.3346,  acc 0.9038 || VAL loss 0.6736, acc 0.8226\n",
      "\t30: TRAIN loss 0.3012,  acc 0.9184 || VAL loss 0.6171, acc 0.8496\n",
      "\t40: TRAIN loss 0.1484,  acc 0.9669 || VAL loss 0.6315, acc 0.8725\n",
      "\t50: TRAIN loss 0.1102,  acc 0.9802 || VAL loss 0.6183, acc 0.8789\n",
      "\t60: TRAIN loss 0.1066,  acc 0.9852 || VAL loss 0.6224, acc 0.8765\n",
      "\t70: TRAIN loss 0.0776,  acc 0.9875 || VAL loss 0.6394, acc 0.8868\n",
      "\t80: TRAIN loss 0.0682,  acc 0.9923 || VAL loss 0.6452, acc 0.8955\n",
      "\t90: TRAIN loss 0.0642,  acc 0.9919 || VAL loss 0.7795, acc 0.8646\n",
      "\t100: TRAIN loss 0.0890,  acc 0.9871 || VAL loss 0.7708, acc 0.8781\n",
      "\t110: TRAIN loss 0.0461,  acc 0.9964 || VAL loss 0.6715, acc 0.8907\n",
      "\t120: TRAIN loss 0.0495,  acc 0.9956 || VAL loss 0.7043, acc 0.8931\n",
      "\t130: TRAIN loss 0.0644,  acc 0.9897 || VAL loss 0.7267, acc 0.8860\n",
      "\t140: TRAIN loss 0.0420,  acc 0.9962 || VAL loss 0.7259, acc 0.8915\n",
      "\t150: TRAIN loss 0.0537,  acc 0.9921 || VAL loss 0.7593, acc 0.8868\n",
      "\t160: TRAIN loss 0.0424,  acc 0.9962 || VAL loss 0.6787, acc 0.8971\n",
      "\t170: TRAIN loss 0.0438,  acc 0.9958 || VAL loss 0.6947, acc 0.9018\n",
      "\t180: TRAIN loss 0.0417,  acc 0.9958 || VAL loss 0.7174, acc 0.8994\n",
      "\t190: TRAIN loss 0.1198,  acc 0.9784 || VAL loss 0.8632, acc 0.8702\n",
      "\t200: TRAIN loss 0.0396,  acc 0.9966 || VAL loss 0.7330, acc 0.8971\n",
      "\t210: TRAIN loss 0.0397,  acc 0.9960 || VAL loss 0.7452, acc 0.8979\n",
      "\t220: TRAIN loss 0.0415,  acc 0.9960 || VAL loss 0.7528, acc 0.8947\n",
      "\t230: TRAIN loss 0.0402,  acc 0.9962 || VAL loss 0.7406, acc 0.8987\n",
      "\t240: TRAIN loss 0.0403,  acc 0.9956 || VAL loss 0.7472, acc 0.9018\n",
      "\t250: TRAIN loss 0.0411,  acc 0.9960 || VAL loss 0.7653, acc 0.8987\n",
      "\t260: TRAIN loss 0.0747,  acc 0.9856 || VAL loss 0.8460, acc 0.8789\n",
      "\t270: TRAIN loss 0.0381,  acc 0.9964 || VAL loss 0.7681, acc 0.8994\n",
      "\t280: TRAIN loss 0.0401,  acc 0.9960 || VAL loss 0.7973, acc 0.8979\n",
      "\t290: TRAIN loss 0.0412,  acc 0.9962 || VAL loss 0.7891, acc 0.8923\n",
      "32 512 0.9970308788598575 0.901821060965954\n",
      "\t0: TRAIN loss 2.6381,  acc 0.3608 || VAL loss 1.6309, acc 0.5044\n",
      "\t10: TRAIN loss 0.5592,  acc 0.8234 || VAL loss 0.8391, acc 0.7815\n",
      "\t20: TRAIN loss 0.2944,  acc 0.9103 || VAL loss 0.6813, acc 0.8258\n",
      "\t30: TRAIN loss 0.1909,  acc 0.9432 || VAL loss 0.6974, acc 0.8440\n",
      "\t40: TRAIN loss 0.1127,  acc 0.9691 || VAL loss 0.5770, acc 0.8694\n",
      "\t50: TRAIN loss 0.0956,  acc 0.9751 || VAL loss 0.5760, acc 0.8733\n",
      "\t60: TRAIN loss 0.0559,  acc 0.9885 || VAL loss 0.6204, acc 0.8852\n",
      "\t70: TRAIN loss 0.1156,  acc 0.9753 || VAL loss 0.7471, acc 0.8733\n",
      "\t80: TRAIN loss 0.0470,  acc 0.9943 || VAL loss 0.6454, acc 0.8884\n",
      "\t90: TRAIN loss 0.0493,  acc 0.9945 || VAL loss 0.6626, acc 0.8907\n",
      "\t100: TRAIN loss 0.0379,  acc 0.9960 || VAL loss 0.6641, acc 0.8971\n",
      "\t110: TRAIN loss 0.0401,  acc 0.9941 || VAL loss 0.7170, acc 0.8963\n",
      "\t120: TRAIN loss 0.0339,  acc 0.9958 || VAL loss 0.6940, acc 0.8931\n",
      "\t130: TRAIN loss 0.0970,  acc 0.9757 || VAL loss 0.8339, acc 0.8733\n",
      "\t140: TRAIN loss 0.0506,  acc 0.9958 || VAL loss 0.7042, acc 0.9010\n",
      "\t150: TRAIN loss 0.0500,  acc 0.9954 || VAL loss 0.7092, acc 0.9002\n",
      "\t160: TRAIN loss 0.0553,  acc 0.9952 || VAL loss 0.7417, acc 0.8971\n",
      "\t170: TRAIN loss 0.0392,  acc 0.9909 || VAL loss 0.8224, acc 0.8820\n",
      "\t180: TRAIN loss 0.0189,  acc 0.9974 || VAL loss 0.7693, acc 0.8971\n",
      "\t190: TRAIN loss 0.0184,  acc 0.9972 || VAL loss 0.7833, acc 0.8931\n",
      "\t200: TRAIN loss 0.1144,  acc 0.9731 || VAL loss 0.9062, acc 0.8789\n",
      "\t210: TRAIN loss 0.0167,  acc 0.9978 || VAL loss 0.6963, acc 0.8979\n",
      "\t220: TRAIN loss 0.0173,  acc 0.9976 || VAL loss 0.6996, acc 0.8963\n",
      "\t230: TRAIN loss 0.0161,  acc 0.9980 || VAL loss 0.7143, acc 0.8994\n",
      "\t240: TRAIN loss 0.0173,  acc 0.9976 || VAL loss 0.7191, acc 0.8979\n",
      "\t250: TRAIN loss 0.0156,  acc 0.9980 || VAL loss 0.7358, acc 0.8994\n",
      "\t260: TRAIN loss 0.0176,  acc 0.9976 || VAL loss 0.7320, acc 0.8987\n",
      "\t270: TRAIN loss 0.0173,  acc 0.9980 || VAL loss 0.7275, acc 0.9018\n",
      "\t280: TRAIN loss 0.0160,  acc 0.9980 || VAL loss 0.7415, acc 0.9026\n",
      "\t290: TRAIN loss 0.0160,  acc 0.9978 || VAL loss 0.7486, acc 0.9042\n",
      "32 1024 0.9980205859065716 0.9002375296912114\n",
      "\t0: TRAIN loss 8.1616,  acc 0.1993 || VAL loss 4.2961, acc 0.3104\n",
      "\t10: TRAIN loss 0.9584,  acc 0.7140 || VAL loss 1.2561, acc 0.6738\n",
      "\t20: TRAIN loss 0.6796,  acc 0.7928 || VAL loss 1.0341, acc 0.7340\n",
      "\t30: TRAIN loss 0.5131,  acc 0.8438 || VAL loss 0.8811, acc 0.7799\n",
      "\t40: TRAIN loss 0.4341,  acc 0.8672 || VAL loss 0.8510, acc 0.7870\n",
      "\t50: TRAIN loss 0.3444,  acc 0.8967 || VAL loss 0.8298, acc 0.8060\n",
      "\t60: TRAIN loss 0.3013,  acc 0.9086 || VAL loss 0.8248, acc 0.8068\n",
      "\t70: TRAIN loss 0.2789,  acc 0.9198 || VAL loss 0.8709, acc 0.8100\n",
      "\t80: TRAIN loss 0.2399,  acc 0.9307 || VAL loss 0.8054, acc 0.8195\n",
      "\t90: TRAIN loss 0.2124,  acc 0.9408 || VAL loss 0.8453, acc 0.8298\n",
      "\t100: TRAIN loss 0.2132,  acc 0.9422 || VAL loss 0.8242, acc 0.8234\n",
      "\t110: TRAIN loss 0.1808,  acc 0.9535 || VAL loss 0.8613, acc 0.8250\n",
      "\t120: TRAIN loss 0.1844,  acc 0.9511 || VAL loss 0.8410, acc 0.8345\n",
      "\t130: TRAIN loss 0.1642,  acc 0.9592 || VAL loss 0.9142, acc 0.8361\n",
      "\t140: TRAIN loss 0.1498,  acc 0.9642 || VAL loss 0.9024, acc 0.8321\n",
      "\t150: TRAIN loss 0.1432,  acc 0.9667 || VAL loss 0.9471, acc 0.8369\n",
      "\t160: TRAIN loss 0.1418,  acc 0.9671 || VAL loss 0.9958, acc 0.8242\n",
      "\t170: TRAIN loss 0.1403,  acc 0.9660 || VAL loss 0.9519, acc 0.8306\n",
      "\t180: TRAIN loss 0.1138,  acc 0.9762 || VAL loss 0.9746, acc 0.8329\n",
      "\t190: TRAIN loss 0.1080,  acc 0.9780 || VAL loss 0.9881, acc 0.8314\n",
      "\t200: TRAIN loss 0.1051,  acc 0.9792 || VAL loss 1.0323, acc 0.8258\n",
      "\t210: TRAIN loss 0.1035,  acc 0.9784 || VAL loss 1.0365, acc 0.8361\n",
      "\t220: TRAIN loss 0.0984,  acc 0.9782 || VAL loss 1.0575, acc 0.8314\n",
      "\t230: TRAIN loss 0.0918,  acc 0.9806 || VAL loss 1.0823, acc 0.8321\n",
      "\t240: TRAIN loss 0.1002,  acc 0.9780 || VAL loss 1.0115, acc 0.8385\n",
      "\t250: TRAIN loss 0.0916,  acc 0.9818 || VAL loss 1.0682, acc 0.8385\n",
      "\t260: TRAIN loss 0.0830,  acc 0.9852 || VAL loss 1.0978, acc 0.8321\n",
      "\t270: TRAIN loss 0.0834,  acc 0.9838 || VAL loss 1.0757, acc 0.8361\n",
      "\t280: TRAIN loss 0.0770,  acc 0.9856 || VAL loss 1.1067, acc 0.8369\n",
      "\t290: TRAIN loss 0.0748,  acc 0.9863 || VAL loss 1.1205, acc 0.8416\n",
      "64 16 0.9875296912114014 0.8432304038004751\n",
      "\t0: TRAIN loss 5.3805,  acc 0.1696 || VAL loss 2.4423, acc 0.2526\n",
      "\t10: TRAIN loss 1.0083,  acc 0.6463 || VAL loss 1.2254, acc 0.6144\n",
      "\t20: TRAIN loss 0.5762,  acc 0.8080 || VAL loss 0.8771, acc 0.7664\n",
      "\t30: TRAIN loss 0.4002,  acc 0.8702 || VAL loss 0.8004, acc 0.7981\n",
      "\t40: TRAIN loss 0.3128,  acc 0.8941 || VAL loss 0.7492, acc 0.8266\n",
      "\t50: TRAIN loss 0.2406,  acc 0.9260 || VAL loss 0.7103, acc 0.8369\n",
      "\t60: TRAIN loss 0.2006,  acc 0.9426 || VAL loss 0.7558, acc 0.8377\n",
      "\t70: TRAIN loss 0.1700,  acc 0.9499 || VAL loss 0.7188, acc 0.8543\n",
      "\t80: TRAIN loss 0.1662,  acc 0.9517 || VAL loss 0.7717, acc 0.8448\n",
      "\t90: TRAIN loss 0.1227,  acc 0.9665 || VAL loss 0.7774, acc 0.8583\n",
      "\t100: TRAIN loss 0.1035,  acc 0.9725 || VAL loss 0.7978, acc 0.8551\n",
      "\t110: TRAIN loss 0.0928,  acc 0.9764 || VAL loss 0.7915, acc 0.8567\n",
      "\t120: TRAIN loss 0.0950,  acc 0.9766 || VAL loss 0.8324, acc 0.8488\n",
      "\t130: TRAIN loss 0.0752,  acc 0.9812 || VAL loss 0.8745, acc 0.8551\n",
      "\t140: TRAIN loss 0.0644,  acc 0.9869 || VAL loss 0.8924, acc 0.8535\n",
      "\t150: TRAIN loss 0.0523,  acc 0.9899 || VAL loss 0.9246, acc 0.8575\n",
      "\t160: TRAIN loss 0.0494,  acc 0.9895 || VAL loss 0.9729, acc 0.8488\n",
      "\t170: TRAIN loss 0.0560,  acc 0.9869 || VAL loss 0.9834, acc 0.8559\n",
      "\t180: TRAIN loss 0.0352,  acc 0.9935 || VAL loss 1.0201, acc 0.8559\n",
      "\t190: TRAIN loss 0.0318,  acc 0.9945 || VAL loss 1.0400, acc 0.8567\n",
      "\t200: TRAIN loss 0.0439,  acc 0.9895 || VAL loss 1.0952, acc 0.8472\n",
      "\t210: TRAIN loss 0.0287,  acc 0.9954 || VAL loss 1.0474, acc 0.8527\n",
      "\t220: TRAIN loss 0.0282,  acc 0.9956 || VAL loss 1.0786, acc 0.8511\n",
      "\t230: TRAIN loss 0.0263,  acc 0.9956 || VAL loss 1.0893, acc 0.8527\n",
      "\t240: TRAIN loss 0.0243,  acc 0.9964 || VAL loss 1.1103, acc 0.8543\n",
      "\t250: TRAIN loss 0.0201,  acc 0.9974 || VAL loss 1.1496, acc 0.8567\n",
      "\t260: TRAIN loss 0.0193,  acc 0.9974 || VAL loss 1.1747, acc 0.8464\n"
     ]
    },
    {
     "name": "stdout",
     "output_type": "stream",
     "text": [
      "\t270: TRAIN loss 0.0197,  acc 0.9966 || VAL loss 1.1146, acc 0.8583\n",
      "\t280: TRAIN loss 0.0168,  acc 0.9980 || VAL loss 1.1191, acc 0.8567\n",
      "\t290: TRAIN loss 0.0180,  acc 0.9974 || VAL loss 1.1463, acc 0.8543\n",
      "64 32 0.998812351543943 0.8527315914489311\n",
      "\t0: TRAIN loss 9.5500,  acc 0.1936 || VAL loss 4.8336, acc 0.2858\n",
      "\t10: TRAIN loss 0.8286,  acc 0.7763 || VAL loss 1.0729, acc 0.7197\n",
      "\t20: TRAIN loss 0.5868,  acc 0.8664 || VAL loss 0.9197, acc 0.7910\n",
      "\t30: TRAIN loss 0.4655,  acc 0.8992 || VAL loss 0.8601, acc 0.8250\n",
      "\t40: TRAIN loss 0.4443,  acc 0.9125 || VAL loss 0.8025, acc 0.8298\n",
      "\t50: TRAIN loss 0.3405,  acc 0.9420 || VAL loss 0.8056, acc 0.8448\n",
      "\t60: TRAIN loss 0.3319,  acc 0.9434 || VAL loss 0.8128, acc 0.8496\n",
      "\t70: TRAIN loss 0.2726,  acc 0.9565 || VAL loss 0.7904, acc 0.8591\n",
      "\t80: TRAIN loss 0.2439,  acc 0.9652 || VAL loss 0.7813, acc 0.8622\n",
      "\t90: TRAIN loss 0.2303,  acc 0.9705 || VAL loss 0.8012, acc 0.8630\n",
      "\t100: TRAIN loss 0.2178,  acc 0.9749 || VAL loss 0.8204, acc 0.8678\n",
      "\t110: TRAIN loss 0.2041,  acc 0.9788 || VAL loss 0.8351, acc 0.8733\n",
      "\t120: TRAIN loss 0.2390,  acc 0.9725 || VAL loss 0.9741, acc 0.8511\n",
      "\t130: TRAIN loss 0.0899,  acc 0.9895 || VAL loss 0.8041, acc 0.8773\n",
      "\t140: TRAIN loss 0.0810,  acc 0.9903 || VAL loss 0.8045, acc 0.8797\n",
      "\t150: TRAIN loss 0.0795,  acc 0.9909 || VAL loss 0.8366, acc 0.8789\n",
      "\t160: TRAIN loss 0.0750,  acc 0.9915 || VAL loss 0.8546, acc 0.8749\n",
      "\t170: TRAIN loss 0.0722,  acc 0.9921 || VAL loss 0.8762, acc 0.8741\n",
      "\t180: TRAIN loss 0.0662,  acc 0.9943 || VAL loss 0.8891, acc 0.8741\n",
      "\t190: TRAIN loss 0.0637,  acc 0.9947 || VAL loss 0.9222, acc 0.8749\n",
      "\t200: TRAIN loss 0.0789,  acc 0.9919 || VAL loss 0.8799, acc 0.8836\n",
      "\t210: TRAIN loss 0.0712,  acc 0.9931 || VAL loss 0.8796, acc 0.8797\n",
      "\t220: TRAIN loss 0.0655,  acc 0.9949 || VAL loss 0.8720, acc 0.8797\n",
      "\t230: TRAIN loss 0.0746,  acc 0.9919 || VAL loss 0.8865, acc 0.8828\n",
      "\t240: TRAIN loss 0.0643,  acc 0.9949 || VAL loss 0.9049, acc 0.8789\n",
      "\t250: TRAIN loss 0.0634,  acc 0.9952 || VAL loss 0.9039, acc 0.8852\n",
      "\t260: TRAIN loss 0.0726,  acc 0.9923 || VAL loss 0.9294, acc 0.8725\n",
      "\t270: TRAIN loss 0.0639,  acc 0.9945 || VAL loss 0.9222, acc 0.8804\n",
      "\t280: TRAIN loss 0.0643,  acc 0.9941 || VAL loss 0.9217, acc 0.8773\n",
      "\t290: TRAIN loss 0.0639,  acc 0.9949 || VAL loss 0.9217, acc 0.8820\n",
      "64 64 0.9954473475851148 0.8788598574821853\n",
      "\t0: TRAIN loss 6.2661,  acc 0.2935 || VAL loss 2.7700, acc 0.4291\n",
      "\t10: TRAIN loss 0.6087,  acc 0.8155 || VAL loss 0.9440, acc 0.7648\n",
      "\t20: TRAIN loss 0.3580,  acc 0.8927 || VAL loss 0.7779, acc 0.8187\n",
      "\t30: TRAIN loss 0.2495,  acc 0.9285 || VAL loss 0.6969, acc 0.8385\n",
      "\t40: TRAIN loss 0.2537,  acc 0.9266 || VAL loss 0.7175, acc 0.8567\n",
      "\t50: TRAIN loss 0.1586,  acc 0.9553 || VAL loss 0.6760, acc 0.8527\n",
      "\t60: TRAIN loss 0.1062,  acc 0.9729 || VAL loss 0.6643, acc 0.8670\n",
      "\t70: TRAIN loss 0.0891,  acc 0.9778 || VAL loss 0.6495, acc 0.8709\n",
      "\t80: TRAIN loss 0.1050,  acc 0.9725 || VAL loss 0.6526, acc 0.8733\n",
      "\t90: TRAIN loss 0.0592,  acc 0.9879 || VAL loss 0.6585, acc 0.8757\n",
      "\t100: TRAIN loss 0.0600,  acc 0.9863 || VAL loss 0.6649, acc 0.8702\n",
      "\t110: TRAIN loss 0.0429,  acc 0.9917 || VAL loss 0.6615, acc 0.8797\n",
      "\t120: TRAIN loss 0.0436,  acc 0.9933 || VAL loss 0.7525, acc 0.8686\n",
      "\t130: TRAIN loss 0.0612,  acc 0.9921 || VAL loss 0.7022, acc 0.8741\n",
      "\t140: TRAIN loss 0.0471,  acc 0.9939 || VAL loss 0.7002, acc 0.8797\n",
      "\t150: TRAIN loss 0.0430,  acc 0.9954 || VAL loss 0.7051, acc 0.8773\n",
      "\t160: TRAIN loss 0.0371,  acc 0.9958 || VAL loss 0.7119, acc 0.8773\n",
      "\t170: TRAIN loss 0.0657,  acc 0.9863 || VAL loss 0.7876, acc 0.8773\n",
      "\t180: TRAIN loss 0.0353,  acc 0.9964 || VAL loss 0.7182, acc 0.8804\n",
      "\t190: TRAIN loss 0.0335,  acc 0.9962 || VAL loss 0.7216, acc 0.8812\n",
      "\t200: TRAIN loss 0.0332,  acc 0.9968 || VAL loss 0.7552, acc 0.8852\n",
      "\t210: TRAIN loss 0.0300,  acc 0.9962 || VAL loss 0.7422, acc 0.8931\n",
      "\t220: TRAIN loss 0.0274,  acc 0.9964 || VAL loss 0.7139, acc 0.8844\n",
      "\t230: TRAIN loss 0.0275,  acc 0.9966 || VAL loss 0.7332, acc 0.8820\n",
      "\t240: TRAIN loss 0.0295,  acc 0.9962 || VAL loss 0.7254, acc 0.8884\n",
      "\t250: TRAIN loss 0.0209,  acc 0.9978 || VAL loss 0.7380, acc 0.8828\n",
      "\t260: TRAIN loss 0.0210,  acc 0.9972 || VAL loss 0.7482, acc 0.8923\n",
      "\t270: TRAIN loss 0.0209,  acc 0.9972 || VAL loss 0.7523, acc 0.8868\n",
      "\t280: TRAIN loss 0.0205,  acc 0.9978 || VAL loss 0.7782, acc 0.8860\n",
      "\t290: TRAIN loss 0.0157,  acc 0.9980 || VAL loss 0.7865, acc 0.8812\n",
      "64 128 0.9990102929532858 0.8891528107680127\n",
      "\t0: TRAIN loss 3.8330,  acc 0.3205 || VAL loss 1.9702, acc 0.4885\n",
      "\t10: TRAIN loss 0.5666,  acc 0.8316 || VAL loss 0.8451, acc 0.7854\n",
      "\t20: TRAIN loss 0.3402,  acc 0.9133 || VAL loss 0.7420, acc 0.8306\n",
      "\t30: TRAIN loss 0.2895,  acc 0.9307 || VAL loss 0.7355, acc 0.8535\n",
      "\t40: TRAIN loss 0.1647,  acc 0.9656 || VAL loss 0.6887, acc 0.8804\n",
      "\t50: TRAIN loss 0.1288,  acc 0.9784 || VAL loss 0.6934, acc 0.8804\n",
      "\t60: TRAIN loss 0.1083,  acc 0.9830 || VAL loss 0.6714, acc 0.8907\n",
      "\t70: TRAIN loss 0.0872,  acc 0.9901 || VAL loss 0.6777, acc 0.8971\n",
      "\t80: TRAIN loss 0.0996,  acc 0.9848 || VAL loss 0.7205, acc 0.8884\n",
      "\t90: TRAIN loss 0.0997,  acc 0.9903 || VAL loss 0.7227, acc 0.8931\n",
      "\t100: TRAIN loss 0.0675,  acc 0.9941 || VAL loss 0.7418, acc 0.9058\n",
      "\t110: TRAIN loss 0.0641,  acc 0.9952 || VAL loss 0.7239, acc 0.9010\n",
      "\t120: TRAIN loss 0.0668,  acc 0.9931 || VAL loss 0.7269, acc 0.8994\n",
      "\t130: TRAIN loss 0.0920,  acc 0.9838 || VAL loss 0.7512, acc 0.8892\n",
      "\t140: TRAIN loss 0.0633,  acc 0.9943 || VAL loss 0.7612, acc 0.9010\n",
      "\t150: TRAIN loss 0.0615,  acc 0.9949 || VAL loss 0.7496, acc 0.9002\n",
      "\t160: TRAIN loss 0.0593,  acc 0.9947 || VAL loss 0.7422, acc 0.9002\n",
      "\t170: TRAIN loss 0.0975,  acc 0.9834 || VAL loss 0.7650, acc 0.8876\n",
      "\t180: TRAIN loss 0.0663,  acc 0.9937 || VAL loss 0.7416, acc 0.9066\n",
      "\t190: TRAIN loss 0.0613,  acc 0.9954 || VAL loss 0.7449, acc 0.9010\n",
      "\t200: TRAIN loss 0.0650,  acc 0.9941 || VAL loss 0.7447, acc 0.9082\n",
      "\t210: TRAIN loss 0.0633,  acc 0.9947 || VAL loss 0.7261, acc 0.9058\n",
      "\t220: TRAIN loss 0.0657,  acc 0.9943 || VAL loss 0.7477, acc 0.9058\n",
      "\t230: TRAIN loss 0.0673,  acc 0.9937 || VAL loss 0.7139, acc 0.9113\n",
      "\t240: TRAIN loss 0.0648,  acc 0.9949 || VAL loss 0.7112, acc 0.9145\n",
      "\t250: TRAIN loss 0.0643,  acc 0.9945 || VAL loss 0.7153, acc 0.9097\n",
      "\t260: TRAIN loss 0.0625,  acc 0.9949 || VAL loss 0.6732, acc 0.9137\n",
      "\t270: TRAIN loss 0.0609,  acc 0.9947 || VAL loss 0.6778, acc 0.9161\n",
      "\t280: TRAIN loss 0.0615,  acc 0.9951 || VAL loss 0.6870, acc 0.9145\n",
      "\t290: TRAIN loss 0.0604,  acc 0.9954 || VAL loss 0.6884, acc 0.9137\n",
      "64 256 0.995249406175772 0.9105304829770388\n",
      "\t0: TRAIN loss 2.7935,  acc 0.3874 || VAL loss 1.8105, acc 0.5091\n",
      "\t10: TRAIN loss 0.4621,  acc 0.8553 || VAL loss 0.7750, acc 0.8005\n",
      "\t20: TRAIN loss 0.2497,  acc 0.9394 || VAL loss 0.6391, acc 0.8519\n",
      "\t30: TRAIN loss 0.2671,  acc 0.9335 || VAL loss 0.6680, acc 0.8480\n",
      "\t40: TRAIN loss 0.1242,  acc 0.9743 || VAL loss 0.5635, acc 0.8828\n",
      "\t50: TRAIN loss 0.1255,  acc 0.9705 || VAL loss 0.6184, acc 0.8757\n",
      "\t60: TRAIN loss 0.0746,  acc 0.9857 || VAL loss 0.6447, acc 0.8931\n",
      "\t70: TRAIN loss 0.0560,  acc 0.9943 || VAL loss 0.6265, acc 0.9026\n",
      "\t80: TRAIN loss 0.0520,  acc 0.9954 || VAL loss 0.6254, acc 0.9050\n",
      "\t90: TRAIN loss 0.0782,  acc 0.9871 || VAL loss 0.6606, acc 0.8939\n",
      "\t100: TRAIN loss 0.0458,  acc 0.9962 || VAL loss 0.6517, acc 0.8994\n",
      "\t110: TRAIN loss 0.0439,  acc 0.9956 || VAL loss 0.6467, acc 0.9082\n",
      "\t120: TRAIN loss 0.0982,  acc 0.9889 || VAL loss 0.6770, acc 0.8963\n",
      "\t130: TRAIN loss 0.0812,  acc 0.9939 || VAL loss 0.6908, acc 0.9042\n",
      "\t140: TRAIN loss 0.0838,  acc 0.9923 || VAL loss 0.6912, acc 0.9034\n",
      "\t150: TRAIN loss 0.0762,  acc 0.9939 || VAL loss 0.7057, acc 0.9050\n",
      "\t160: TRAIN loss 0.0755,  acc 0.9941 || VAL loss 0.7279, acc 0.9018\n",
      "\t170: TRAIN loss 0.0753,  acc 0.9943 || VAL loss 0.7269, acc 0.9034\n",
      "\t180: TRAIN loss 0.0748,  acc 0.9937 || VAL loss 0.7170, acc 0.9066\n",
      "\t190: TRAIN loss 0.0745,  acc 0.9947 || VAL loss 0.7537, acc 0.9018\n",
      "\t200: TRAIN loss 0.0683,  acc 0.9945 || VAL loss 0.7244, acc 0.9058\n",
      "\t210: TRAIN loss 0.0671,  acc 0.9947 || VAL loss 0.7263, acc 0.9042\n",
      "\t220: TRAIN loss 0.0671,  acc 0.9949 || VAL loss 0.7591, acc 0.8994\n",
      "\t230: TRAIN loss 0.0700,  acc 0.9935 || VAL loss 0.7527, acc 0.9002\n",
      "\t240: TRAIN loss 0.0344,  acc 0.9966 || VAL loss 0.6597, acc 0.9050\n",
      "\t250: TRAIN loss 0.0349,  acc 0.9966 || VAL loss 0.6621, acc 0.9074\n"
     ]
    },
    {
     "name": "stdout",
     "output_type": "stream",
     "text": [
      "\t260: TRAIN loss 0.0361,  acc 0.9962 || VAL loss 0.6681, acc 0.9074\n",
      "\t270: TRAIN loss 0.0353,  acc 0.9964 || VAL loss 0.6733, acc 0.9089\n",
      "\t280: TRAIN loss 0.0451,  acc 0.9941 || VAL loss 0.6889, acc 0.9089\n",
      "\t290: TRAIN loss 0.0376,  acc 0.9970 || VAL loss 0.6858, acc 0.9002\n",
      "64 512 0.9974267616785432 0.9065716547901821\n",
      "\t0: TRAIN loss 4.4985,  acc 0.3341 || VAL loss 2.7637, acc 0.4212\n",
      "\t10: TRAIN loss 0.4903,  acc 0.8525 || VAL loss 0.7975, acc 0.8076\n",
      "\t20: TRAIN loss 0.3896,  acc 0.8967 || VAL loss 0.7564, acc 0.8290\n",
      "\t30: TRAIN loss 0.1188,  acc 0.9743 || VAL loss 0.5605, acc 0.8915\n",
      "\t40: TRAIN loss 0.0827,  acc 0.9832 || VAL loss 0.6030, acc 0.8860\n",
      "\t50: TRAIN loss 0.0488,  acc 0.9951 || VAL loss 0.5816, acc 0.9002\n",
      "\t60: TRAIN loss 0.1188,  acc 0.9772 || VAL loss 0.6115, acc 0.8884\n",
      "\t70: TRAIN loss 0.0877,  acc 0.9929 || VAL loss 0.5607, acc 0.9042\n",
      "\t80: TRAIN loss 0.1930,  acc 0.9561 || VAL loss 0.8225, acc 0.8614\n",
      "\t90: TRAIN loss 0.0686,  acc 0.9887 || VAL loss 0.7508, acc 0.8876\n",
      "\t100: TRAIN loss 0.0398,  acc 0.9964 || VAL loss 0.6469, acc 0.8963\n",
      "\t110: TRAIN loss 0.0379,  acc 0.9958 || VAL loss 0.6679, acc 0.9010\n",
      "\t120: TRAIN loss 0.0650,  acc 0.9909 || VAL loss 0.9723, acc 0.8472\n",
      "\t130: TRAIN loss 0.0354,  acc 0.9960 || VAL loss 0.6211, acc 0.9034\n",
      "\t140: TRAIN loss 0.0342,  acc 0.9960 || VAL loss 0.6541, acc 0.9034\n",
      "\t150: TRAIN loss 0.0340,  acc 0.9968 || VAL loss 0.6232, acc 0.9066\n",
      "\t160: TRAIN loss 0.0345,  acc 0.9964 || VAL loss 0.6385, acc 0.9034\n",
      "\t170: TRAIN loss 0.0327,  acc 0.9962 || VAL loss 0.6348, acc 0.9082\n",
      "\t180: TRAIN loss 0.1288,  acc 0.9689 || VAL loss 0.6762, acc 0.8836\n",
      "\t190: TRAIN loss 0.0330,  acc 0.9968 || VAL loss 0.6398, acc 0.9058\n",
      "\t200: TRAIN loss 0.0315,  acc 0.9970 || VAL loss 0.6312, acc 0.9137\n",
      "\t210: TRAIN loss 0.0328,  acc 0.9970 || VAL loss 0.6575, acc 0.9082\n",
      "\t220: TRAIN loss 0.0316,  acc 0.9972 || VAL loss 0.6453, acc 0.9161\n",
      "\t230: TRAIN loss 0.0325,  acc 0.9968 || VAL loss 0.7736, acc 0.8915\n",
      "\t240: TRAIN loss 0.0287,  acc 0.9966 || VAL loss 0.6108, acc 0.9137\n",
      "\t250: TRAIN loss 0.0284,  acc 0.9966 || VAL loss 0.6007, acc 0.9153\n",
      "\t260: TRAIN loss 0.0277,  acc 0.9976 || VAL loss 0.6053, acc 0.9169\n",
      "\t270: TRAIN loss 0.0280,  acc 0.9970 || VAL loss 0.6117, acc 0.9153\n",
      "\t280: TRAIN loss 0.0282,  acc 0.9972 || VAL loss 0.6051, acc 0.9192\n",
      "\t290: TRAIN loss 0.0280,  acc 0.9972 || VAL loss 0.6280, acc 0.9145\n",
      "64 1024 0.9924782264449723 0.901821060965954\n",
      "\t0: TRAIN loss 5.7203,  acc 0.1736 || VAL loss 2.3060, acc 0.1663\n",
      "\t10: TRAIN loss 1.3341,  acc 0.5216 || VAL loss 1.4693, acc 0.4917\n",
      "\t20: TRAIN loss 0.9408,  acc 0.6892 || VAL loss 1.1829, acc 0.6619\n",
      "\t30: TRAIN loss 0.6807,  acc 0.7753 || VAL loss 1.0273, acc 0.7007\n",
      "\t40: TRAIN loss 0.4886,  acc 0.8531 || VAL loss 0.8562, acc 0.7878\n",
      "\t50: TRAIN loss 0.3517,  acc 0.8971 || VAL loss 0.8330, acc 0.8203\n",
      "\t60: TRAIN loss 0.2795,  acc 0.9252 || VAL loss 0.8451, acc 0.8274\n",
      "\t70: TRAIN loss 0.2425,  acc 0.9386 || VAL loss 0.8229, acc 0.8242\n",
      "\t80: TRAIN loss 0.1914,  acc 0.9499 || VAL loss 0.7717, acc 0.8416\n",
      "\t90: TRAIN loss 0.1444,  acc 0.9608 || VAL loss 0.8074, acc 0.8401\n",
      "\t100: TRAIN loss 0.1821,  acc 0.9545 || VAL loss 0.8922, acc 0.8234\n",
      "\t110: TRAIN loss 0.1183,  acc 0.9683 || VAL loss 0.8403, acc 0.8496\n",
      "\t120: TRAIN loss 0.1179,  acc 0.9695 || VAL loss 0.8868, acc 0.8416\n",
      "\t130: TRAIN loss 0.0939,  acc 0.9760 || VAL loss 0.9212, acc 0.8432\n",
      "\t140: TRAIN loss 0.0888,  acc 0.9808 || VAL loss 0.9312, acc 0.8440\n",
      "\t150: TRAIN loss 0.0781,  acc 0.9820 || VAL loss 0.9332, acc 0.8519\n",
      "\t160: TRAIN loss 0.0686,  acc 0.9869 || VAL loss 0.9429, acc 0.8488\n",
      "\t170: TRAIN loss 0.0759,  acc 0.9830 || VAL loss 1.0000, acc 0.8488\n",
      "\t180: TRAIN loss 0.0629,  acc 0.9871 || VAL loss 0.9809, acc 0.8527\n",
      "\t190: TRAIN loss 0.0543,  acc 0.9871 || VAL loss 0.9654, acc 0.8583\n",
      "\t200: TRAIN loss 0.0437,  acc 0.9907 || VAL loss 0.9856, acc 0.8567\n",
      "\t210: TRAIN loss 0.0457,  acc 0.9893 || VAL loss 0.9997, acc 0.8622\n",
      "\t220: TRAIN loss 0.0422,  acc 0.9909 || VAL loss 0.9985, acc 0.8591\n",
      "\t230: TRAIN loss 0.0399,  acc 0.9913 || VAL loss 1.0190, acc 0.8575\n",
      "\t240: TRAIN loss 0.0505,  acc 0.9877 || VAL loss 1.0864, acc 0.8432\n",
      "\t250: TRAIN loss 0.0294,  acc 0.9931 || VAL loss 1.0115, acc 0.8559\n",
      "\t260: TRAIN loss 0.0288,  acc 0.9937 || VAL loss 1.0261, acc 0.8622\n",
      "\t270: TRAIN loss 0.0265,  acc 0.9954 || VAL loss 1.0276, acc 0.8583\n",
      "\t280: TRAIN loss 0.0273,  acc 0.9935 || VAL loss 1.0254, acc 0.8591\n",
      "\t290: TRAIN loss 0.0229,  acc 0.9956 || VAL loss 1.0554, acc 0.8583\n",
      "128 16 0.996437054631829 0.8566904196357878\n",
      "\t0: TRAIN loss 3.6220,  acc 0.2827 || VAL loss 2.2385, acc 0.4054\n",
      "\t10: TRAIN loss 0.6714,  acc 0.7945 || VAL loss 0.9669, acc 0.7609\n",
      "\t20: TRAIN loss 0.4314,  acc 0.8753 || VAL loss 0.7782, acc 0.8203\n",
      "\t30: TRAIN loss 0.2937,  acc 0.9161 || VAL loss 0.7438, acc 0.8361\n",
      "\t40: TRAIN loss 0.2326,  acc 0.9347 || VAL loss 0.6889, acc 0.8543\n",
      "\t50: TRAIN loss 0.1664,  acc 0.9582 || VAL loss 0.6877, acc 0.8575\n",
      "\t60: TRAIN loss 0.2498,  acc 0.9402 || VAL loss 0.7789, acc 0.8543\n",
      "\t70: TRAIN loss 0.1297,  acc 0.9723 || VAL loss 0.6977, acc 0.8781\n",
      "\t80: TRAIN loss 0.1020,  acc 0.9826 || VAL loss 0.7039, acc 0.8789\n",
      "\t90: TRAIN loss 0.0946,  acc 0.9826 || VAL loss 0.7331, acc 0.8733\n",
      "\t100: TRAIN loss 0.0853,  acc 0.9867 || VAL loss 0.7589, acc 0.8686\n",
      "\t110: TRAIN loss 0.1042,  acc 0.9830 || VAL loss 0.7211, acc 0.8836\n",
      "\t120: TRAIN loss 0.0549,  acc 0.9933 || VAL loss 0.7077, acc 0.8931\n",
      "\t130: TRAIN loss 0.0553,  acc 0.9925 || VAL loss 0.7833, acc 0.8797\n",
      "\t140: TRAIN loss 0.0485,  acc 0.9937 || VAL loss 0.7890, acc 0.8923\n",
      "\t150: TRAIN loss 0.0416,  acc 0.9964 || VAL loss 0.8043, acc 0.8828\n",
      "\t160: TRAIN loss 0.0582,  acc 0.9925 || VAL loss 0.7527, acc 0.8931\n",
      "\t170: TRAIN loss 0.0372,  acc 0.9960 || VAL loss 0.7891, acc 0.8947\n",
      "\t180: TRAIN loss 0.0361,  acc 0.9970 || VAL loss 0.8126, acc 0.8907\n",
      "\t190: TRAIN loss 0.0370,  acc 0.9962 || VAL loss 0.8139, acc 0.8884\n",
      "\t200: TRAIN loss 0.0443,  acc 0.9941 || VAL loss 0.8295, acc 0.8907\n",
      "\t210: TRAIN loss 0.0335,  acc 0.9972 || VAL loss 0.8472, acc 0.8955\n",
      "\t220: TRAIN loss 0.0939,  acc 0.9808 || VAL loss 0.8141, acc 0.8931\n",
      "\t230: TRAIN loss 0.0365,  acc 0.9968 || VAL loss 0.8268, acc 0.8979\n",
      "\t240: TRAIN loss 0.0383,  acc 0.9964 || VAL loss 0.8497, acc 0.8971\n",
      "\t250: TRAIN loss 0.0366,  acc 0.9964 || VAL loss 0.8374, acc 0.8963\n",
      "\t260: TRAIN loss 0.0535,  acc 0.9905 || VAL loss 0.9153, acc 0.8804\n",
      "\t270: TRAIN loss 0.0363,  acc 0.9964 || VAL loss 0.8464, acc 0.8994\n",
      "\t280: TRAIN loss 0.0376,  acc 0.9964 || VAL loss 0.8374, acc 0.9002\n",
      "\t290: TRAIN loss 0.0357,  acc 0.9966 || VAL loss 0.8441, acc 0.9002\n",
      "128 32 0.9970308788598575 0.897070467141726\n",
      "\t0: TRAIN loss 5.1150,  acc 0.2943 || VAL loss 2.2932, acc 0.4545\n",
      "\t10: TRAIN loss 0.5721,  acc 0.8414 || VAL loss 0.8287, acc 0.7894\n",
      "\t20: TRAIN loss 0.3827,  acc 0.8981 || VAL loss 0.7148, acc 0.8306\n",
      "\t30: TRAIN loss 0.2654,  acc 0.9400 || VAL loss 0.6851, acc 0.8424\n",
      "\t40: TRAIN loss 0.2921,  acc 0.9355 || VAL loss 0.6650, acc 0.8567\n",
      "\t50: TRAIN loss 0.1295,  acc 0.9669 || VAL loss 0.6527, acc 0.8709\n",
      "\t60: TRAIN loss 0.0915,  acc 0.9818 || VAL loss 0.6668, acc 0.8670\n",
      "\t70: TRAIN loss 0.0668,  acc 0.9885 || VAL loss 0.6493, acc 0.8844\n",
      "\t80: TRAIN loss 0.0597,  acc 0.9899 || VAL loss 0.6884, acc 0.8836\n",
      "\t90: TRAIN loss 0.1355,  acc 0.9711 || VAL loss 0.7492, acc 0.8717\n",
      "\t100: TRAIN loss 0.0487,  acc 0.9945 || VAL loss 0.7194, acc 0.8749\n",
      "\t110: TRAIN loss 0.0501,  acc 0.9943 || VAL loss 0.7036, acc 0.8844\n",
      "\t120: TRAIN loss 0.0498,  acc 0.9939 || VAL loss 0.7200, acc 0.8852\n",
      "\t130: TRAIN loss 0.0414,  acc 0.9956 || VAL loss 0.7628, acc 0.8797\n",
      "\t140: TRAIN loss 0.0386,  acc 0.9966 || VAL loss 0.7723, acc 0.8812\n",
      "\t150: TRAIN loss 0.0321,  acc 0.9968 || VAL loss 0.7508, acc 0.8781\n",
      "\t160: TRAIN loss 0.0274,  acc 0.9974 || VAL loss 0.7472, acc 0.8828\n",
      "\t170: TRAIN loss 0.0293,  acc 0.9960 || VAL loss 0.7420, acc 0.8844\n",
      "\t180: TRAIN loss 0.0287,  acc 0.9964 || VAL loss 0.7842, acc 0.8852\n",
      "\t190: TRAIN loss 0.0273,  acc 0.9966 || VAL loss 0.8055, acc 0.8820\n",
      "\t200: TRAIN loss 0.0420,  acc 0.9921 || VAL loss 0.8949, acc 0.8686\n",
      "\t210: TRAIN loss 0.0251,  acc 0.9972 || VAL loss 0.8013, acc 0.8860\n",
      "\t220: TRAIN loss 0.0241,  acc 0.9970 || VAL loss 0.7976, acc 0.8828\n",
      "\t230: TRAIN loss 0.0253,  acc 0.9974 || VAL loss 0.8167, acc 0.8836\n",
      "\t240: TRAIN loss 0.0254,  acc 0.9962 || VAL loss 0.8499, acc 0.8820\n"
     ]
    },
    {
     "name": "stdout",
     "output_type": "stream",
     "text": [
      "\t250: TRAIN loss 0.0291,  acc 0.9956 || VAL loss 0.7854, acc 0.8907\n",
      "\t260: TRAIN loss 0.0225,  acc 0.9972 || VAL loss 0.7731, acc 0.8899\n",
      "\t270: TRAIN loss 0.0406,  acc 0.9915 || VAL loss 0.8112, acc 0.8868\n",
      "\t280: TRAIN loss 0.0222,  acc 0.9974 || VAL loss 0.8012, acc 0.8892\n",
      "\t290: TRAIN loss 0.0239,  acc 0.9974 || VAL loss 0.7944, acc 0.8899\n",
      "128 64 0.9974267616785432 0.8883610451306413\n",
      "\t0: TRAIN loss 5.0096,  acc 0.3256 || VAL loss 2.5984, acc 0.4513\n",
      "\t10: TRAIN loss 0.6464,  acc 0.8521 || VAL loss 0.8655, acc 0.8044\n",
      "\t20: TRAIN loss 0.4421,  acc 0.9078 || VAL loss 0.8903, acc 0.8139\n",
      "\t30: TRAIN loss 0.3875,  acc 0.9226 || VAL loss 0.8050, acc 0.8377\n",
      "\t40: TRAIN loss 0.2898,  acc 0.9580 || VAL loss 0.7360, acc 0.8717\n",
      "\t50: TRAIN loss 0.2486,  acc 0.9673 || VAL loss 0.7095, acc 0.8828\n",
      "\t60: TRAIN loss 0.2365,  acc 0.9707 || VAL loss 0.7122, acc 0.8860\n",
      "\t70: TRAIN loss 0.2446,  acc 0.9673 || VAL loss 0.7269, acc 0.8797\n",
      "\t80: TRAIN loss 0.2003,  acc 0.9818 || VAL loss 0.7520, acc 0.8828\n",
      "\t90: TRAIN loss 0.1785,  acc 0.9861 || VAL loss 0.7302, acc 0.8892\n",
      "\t100: TRAIN loss 0.1739,  acc 0.9875 || VAL loss 0.7403, acc 0.8955\n",
      "\t110: TRAIN loss 0.1941,  acc 0.9828 || VAL loss 0.8125, acc 0.8773\n",
      "\t120: TRAIN loss 0.1694,  acc 0.9887 || VAL loss 0.7496, acc 0.8923\n",
      "\t130: TRAIN loss 0.1669,  acc 0.9885 || VAL loss 0.7491, acc 0.8979\n",
      "\t140: TRAIN loss 0.1874,  acc 0.9806 || VAL loss 0.7925, acc 0.8868\n",
      "\t150: TRAIN loss 0.1661,  acc 0.9879 || VAL loss 0.7594, acc 0.8994\n",
      "\t160: TRAIN loss 0.1696,  acc 0.9879 || VAL loss 0.7579, acc 0.9034\n",
      "\t170: TRAIN loss 0.1660,  acc 0.9879 || VAL loss 0.7561, acc 0.9074\n",
      "\t180: TRAIN loss 0.1658,  acc 0.9879 || VAL loss 0.7929, acc 0.8987\n",
      "\t190: TRAIN loss 0.1651,  acc 0.9879 || VAL loss 0.7490, acc 0.8994\n",
      "\t200: TRAIN loss 0.1602,  acc 0.9887 || VAL loss 0.7475, acc 0.9002\n",
      "\t210: TRAIN loss 0.1599,  acc 0.9893 || VAL loss 0.7543, acc 0.9010\n",
      "\t220: TRAIN loss 0.1599,  acc 0.9891 || VAL loss 0.7679, acc 0.9018\n",
      "\t230: TRAIN loss 0.1617,  acc 0.9887 || VAL loss 0.7855, acc 0.9018\n",
      "\t240: TRAIN loss 0.1665,  acc 0.9875 || VAL loss 0.7724, acc 0.8971\n",
      "\t250: TRAIN loss 0.1599,  acc 0.9887 || VAL loss 0.7661, acc 0.9066\n",
      "\t260: TRAIN loss 0.1589,  acc 0.9895 || VAL loss 0.7777, acc 0.9018\n",
      "\t270: TRAIN loss 0.1595,  acc 0.9887 || VAL loss 0.7814, acc 0.9042\n",
      "\t280: TRAIN loss 0.1595,  acc 0.9885 || VAL loss 0.7896, acc 0.9010\n",
      "\t290: TRAIN loss 0.1827,  acc 0.9863 || VAL loss 0.8456, acc 0.8939\n",
      "128 128 0.9895091053048297 0.8986539984164688\n",
      "\t0: TRAIN loss 3.7451,  acc 0.3888 || VAL loss 2.0253, acc 0.5051\n",
      "\t10: TRAIN loss 0.5247,  acc 0.8652 || VAL loss 0.7877, acc 0.8195\n",
      "\t20: TRAIN loss 0.2724,  acc 0.9291 || VAL loss 0.6332, acc 0.8567\n",
      "\t30: TRAIN loss 0.1702,  acc 0.9634 || VAL loss 0.5797, acc 0.8741\n",
      "\t40: TRAIN loss 0.2710,  acc 0.9523 || VAL loss 0.6461, acc 0.8781\n",
      "\t50: TRAIN loss 0.1244,  acc 0.9798 || VAL loss 0.6320, acc 0.8804\n",
      "\t60: TRAIN loss 0.1092,  acc 0.9836 || VAL loss 0.6226, acc 0.8860\n",
      "\t70: TRAIN loss 0.0868,  acc 0.9909 || VAL loss 0.6357, acc 0.8947\n",
      "\t80: TRAIN loss 0.0792,  acc 0.9941 || VAL loss 0.6351, acc 0.8971\n",
      "\t90: TRAIN loss 0.0859,  acc 0.9915 || VAL loss 0.6893, acc 0.8987\n",
      "\t100: TRAIN loss 0.0692,  acc 0.9913 || VAL loss 0.6201, acc 0.9002\n",
      "\t110: TRAIN loss 0.0493,  acc 0.9956 || VAL loss 0.6352, acc 0.9042\n",
      "\t120: TRAIN loss 0.0411,  acc 0.9960 || VAL loss 0.6381, acc 0.9074\n",
      "\t130: TRAIN loss 0.0412,  acc 0.9962 || VAL loss 0.6224, acc 0.9082\n",
      "\t140: TRAIN loss 0.0386,  acc 0.9956 || VAL loss 0.6018, acc 0.9089\n",
      "\t150: TRAIN loss 0.1419,  acc 0.9644 || VAL loss 0.7242, acc 0.8868\n",
      "\t160: TRAIN loss 0.0365,  acc 0.9968 || VAL loss 0.6051, acc 0.9105\n",
      "\t170: TRAIN loss 0.0353,  acc 0.9968 || VAL loss 0.6148, acc 0.9097\n",
      "\t180: TRAIN loss 0.0373,  acc 0.9964 || VAL loss 0.6268, acc 0.9082\n",
      "\t190: TRAIN loss 0.0363,  acc 0.9962 || VAL loss 0.6511, acc 0.9042\n",
      "\t200: TRAIN loss 0.0363,  acc 0.9960 || VAL loss 0.6341, acc 0.9082\n",
      "\t210: TRAIN loss 0.0540,  acc 0.9952 || VAL loss 0.6664, acc 0.9058\n",
      "\t220: TRAIN loss 0.0352,  acc 0.9964 || VAL loss 0.6308, acc 0.9105\n",
      "\t230: TRAIN loss 0.0352,  acc 0.9966 || VAL loss 0.6411, acc 0.9113\n",
      "\t240: TRAIN loss 0.0355,  acc 0.9966 || VAL loss 0.6417, acc 0.9121\n",
      "\t250: TRAIN loss 0.0359,  acc 0.9958 || VAL loss 0.6562, acc 0.9066\n",
      "\t260: TRAIN loss 0.0356,  acc 0.9964 || VAL loss 0.6391, acc 0.9105\n",
      "\t270: TRAIN loss 0.0551,  acc 0.9921 || VAL loss 0.6993, acc 0.8931\n",
      "\t280: TRAIN loss 0.0319,  acc 0.9970 || VAL loss 0.6221, acc 0.9113\n",
      "\t290: TRAIN loss 0.0313,  acc 0.9964 || VAL loss 0.6226, acc 0.9145\n",
      "128 256 0.9968329374505146 0.9152810768012668\n",
      "\t0: TRAIN loss 5.8664,  acc 0.3519 || VAL loss 3.5127, acc 0.4949\n",
      "\t10: TRAIN loss 0.5429,  acc 0.8551 || VAL loss 0.8039, acc 0.8187\n",
      "\t20: TRAIN loss 0.3331,  acc 0.9196 || VAL loss 0.8426, acc 0.8274\n",
      "\t30: TRAIN loss 0.1804,  acc 0.9620 || VAL loss 0.6124, acc 0.8820\n",
      "\t40: TRAIN loss 0.1323,  acc 0.9808 || VAL loss 0.6255, acc 0.8868\n",
      "\t50: TRAIN loss 0.1889,  acc 0.9719 || VAL loss 0.6443, acc 0.8868\n",
      "\t60: TRAIN loss 0.1099,  acc 0.9873 || VAL loss 0.6295, acc 0.8955\n",
      "\t70: TRAIN loss 0.0934,  acc 0.9905 || VAL loss 0.6246, acc 0.8963\n",
      "\t80: TRAIN loss 0.2081,  acc 0.9568 || VAL loss 0.7604, acc 0.8694\n",
      "\t90: TRAIN loss 0.0852,  acc 0.9929 || VAL loss 0.6408, acc 0.9074\n",
      "\t100: TRAIN loss 0.0820,  acc 0.9941 || VAL loss 0.6496, acc 0.9034\n",
      "\t110: TRAIN loss 0.0835,  acc 0.9933 || VAL loss 0.6555, acc 0.9058\n",
      "\t120: TRAIN loss 0.1584,  acc 0.9830 || VAL loss 0.8042, acc 0.8915\n",
      "\t130: TRAIN loss 0.0848,  acc 0.9925 || VAL loss 0.7389, acc 0.9074\n",
      "\t140: TRAIN loss 0.0718,  acc 0.9941 || VAL loss 0.7041, acc 0.9058\n",
      "\t150: TRAIN loss 0.0718,  acc 0.9945 || VAL loss 0.7108, acc 0.9058\n",
      "\t160: TRAIN loss 0.0755,  acc 0.9937 || VAL loss 0.7173, acc 0.9113\n",
      "\t170: TRAIN loss 0.0940,  acc 0.9875 || VAL loss 0.8235, acc 0.8915\n",
      "\t180: TRAIN loss 0.0742,  acc 0.9943 || VAL loss 0.7152, acc 0.9034\n",
      "\t190: TRAIN loss 0.0732,  acc 0.9947 || VAL loss 0.7153, acc 0.9018\n",
      "\t200: TRAIN loss 0.0730,  acc 0.9947 || VAL loss 0.7219, acc 0.9026\n",
      "\t210: TRAIN loss 0.0742,  acc 0.9941 || VAL loss 0.7254, acc 0.9058\n",
      "\t220: TRAIN loss 0.0736,  acc 0.9941 || VAL loss 0.7541, acc 0.9018\n",
      "\t230: TRAIN loss 0.0756,  acc 0.9935 || VAL loss 0.7981, acc 0.8947\n",
      "\t240: TRAIN loss 0.0703,  acc 0.9941 || VAL loss 0.7169, acc 0.9034\n",
      "\t250: TRAIN loss 0.0632,  acc 0.9949 || VAL loss 0.7239, acc 0.9050\n",
      "\t260: TRAIN loss 0.0628,  acc 0.9949 || VAL loss 0.7186, acc 0.9058\n",
      "\t270: TRAIN loss 0.0631,  acc 0.9951 || VAL loss 0.7289, acc 0.9074\n",
      "\t280: TRAIN loss 0.0634,  acc 0.9951 || VAL loss 0.7317, acc 0.9074\n",
      "\t290: TRAIN loss 0.0639,  acc 0.9945 || VAL loss 0.7403, acc 0.9058\n",
      "128 512 0.9950514647664291 0.9057798891528107\n",
      "\t0: TRAIN loss 5.2172,  acc 0.3640 || VAL loss 3.2909, acc 0.5313\n",
      "\t10: TRAIN loss 2.2335,  acc 0.7951 || VAL loss 2.5078, acc 0.7522\n",
      "\t20: TRAIN loss 0.4707,  acc 0.9107 || VAL loss 0.7484, acc 0.8401\n",
      "\t30: TRAIN loss 0.2954,  acc 0.9673 || VAL loss 0.6546, acc 0.8797\n",
      "\t40: TRAIN loss 0.2639,  acc 0.9735 || VAL loss 0.6979, acc 0.8963\n",
      "\t50: TRAIN loss 0.2486,  acc 0.9788 || VAL loss 0.6682, acc 0.8923\n",
      "\t60: TRAIN loss 0.2313,  acc 0.9840 || VAL loss 0.6822, acc 0.8963\n",
      "\t70: TRAIN loss 0.4743,  acc 0.9329 || VAL loss 1.0636, acc 0.8535\n",
      "\t80: TRAIN loss 0.1898,  acc 0.9867 || VAL loss 0.6777, acc 0.9050\n",
      "\t90: TRAIN loss 0.1866,  acc 0.9871 || VAL loss 0.6814, acc 0.9042\n",
      "\t100: TRAIN loss 0.1874,  acc 0.9867 || VAL loss 0.6864, acc 0.9058\n",
      "\t110: TRAIN loss 0.1861,  acc 0.9867 || VAL loss 0.7106, acc 0.9042\n",
      "\t120: TRAIN loss 0.1860,  acc 0.9875 || VAL loss 0.7200, acc 0.9042\n",
      "\t130: TRAIN loss 0.2051,  acc 0.9755 || VAL loss 0.7428, acc 0.8947\n",
      "\t140: TRAIN loss 0.1782,  acc 0.9877 || VAL loss 0.7579, acc 0.9010\n",
      "\t150: TRAIN loss 0.1888,  acc 0.9873 || VAL loss 0.7543, acc 0.8994\n",
      "\t160: TRAIN loss 0.1883,  acc 0.9871 || VAL loss 0.7756, acc 0.9034\n",
      "\t170: TRAIN loss 0.1876,  acc 0.9867 || VAL loss 0.7681, acc 0.9050\n",
      "\t180: TRAIN loss 0.1849,  acc 0.9869 || VAL loss 0.7725, acc 0.9089\n",
      "\t190: TRAIN loss 0.1861,  acc 0.9865 || VAL loss 0.7838, acc 0.9066\n",
      "\t200: TRAIN loss 0.1848,  acc 0.9875 || VAL loss 0.7706, acc 0.9074\n",
      "\t210: TRAIN loss 0.1841,  acc 0.9871 || VAL loss 0.7723, acc 0.9074\n",
      "\t220: TRAIN loss 0.1848,  acc 0.9873 || VAL loss 0.7737, acc 0.9074\n",
      "\t230: TRAIN loss 0.1842,  acc 0.9871 || VAL loss 0.7920, acc 0.9066\n"
     ]
    },
    {
     "name": "stdout",
     "output_type": "stream",
     "text": [
      "\t240: TRAIN loss 0.1844,  acc 0.9871 || VAL loss 0.8108, acc 0.9074\n",
      "\t250: TRAIN loss 0.1844,  acc 0.9869 || VAL loss 0.7872, acc 0.9074\n",
      "\t260: TRAIN loss 0.1839,  acc 0.9873 || VAL loss 0.7967, acc 0.9097\n",
      "\t270: TRAIN loss 0.1901,  acc 0.9852 || VAL loss 0.8162, acc 0.9010\n",
      "\t280: TRAIN loss 0.1391,  acc 0.9901 || VAL loss 0.7794, acc 0.9050\n",
      "\t290: TRAIN loss 0.1359,  acc 0.9905 || VAL loss 0.7713, acc 0.9082\n",
      "128 1024 0.9910926365795725 0.9113222486144101\n",
      "\t0: TRAIN loss 4.2888,  acc 0.1639 || VAL loss 2.2025, acc 0.2059\n",
      "\t10: TRAIN loss 0.9640,  acc 0.6514 || VAL loss 1.1402, acc 0.6477\n",
      "\t20: TRAIN loss 0.5081,  acc 0.8280 || VAL loss 0.9179, acc 0.7625\n",
      "\t30: TRAIN loss 0.3317,  acc 0.8973 || VAL loss 0.7085, acc 0.8290\n",
      "\t40: TRAIN loss 0.2375,  acc 0.9299 || VAL loss 0.6385, acc 0.8527\n",
      "\t50: TRAIN loss 0.1442,  acc 0.9549 || VAL loss 0.6547, acc 0.8472\n",
      "\t60: TRAIN loss 0.1093,  acc 0.9683 || VAL loss 0.6867, acc 0.8622\n",
      "\t70: TRAIN loss 0.1118,  acc 0.9658 || VAL loss 0.7007, acc 0.8614\n",
      "\t80: TRAIN loss 0.0992,  acc 0.9727 || VAL loss 0.7357, acc 0.8678\n",
      "\t90: TRAIN loss 0.1062,  acc 0.9757 || VAL loss 0.7567, acc 0.8725\n",
      "\t100: TRAIN loss 0.0556,  acc 0.9830 || VAL loss 0.7625, acc 0.8717\n",
      "\t110: TRAIN loss 0.0739,  acc 0.9786 || VAL loss 0.7470, acc 0.8797\n",
      "\t120: TRAIN loss 0.0419,  acc 0.9889 || VAL loss 0.7697, acc 0.8781\n",
      "\t130: TRAIN loss 0.0402,  acc 0.9883 || VAL loss 0.7827, acc 0.8812\n",
      "\t140: TRAIN loss 0.0422,  acc 0.9861 || VAL loss 0.8974, acc 0.8757\n",
      "\t150: TRAIN loss 0.0366,  acc 0.9919 || VAL loss 0.7898, acc 0.8876\n",
      "\t160: TRAIN loss 0.0443,  acc 0.9901 || VAL loss 0.8378, acc 0.8733\n",
      "\t170: TRAIN loss 0.0360,  acc 0.9903 || VAL loss 0.9514, acc 0.8614\n",
      "\t180: TRAIN loss 0.0514,  acc 0.9879 || VAL loss 0.9521, acc 0.8709\n",
      "\t190: TRAIN loss 0.0373,  acc 0.9923 || VAL loss 0.8163, acc 0.8892\n",
      "\t200: TRAIN loss 0.0473,  acc 0.9897 || VAL loss 0.8594, acc 0.8868\n",
      "\t210: TRAIN loss 0.0448,  acc 0.9907 || VAL loss 0.8626, acc 0.8781\n",
      "\t220: TRAIN loss 0.0788,  acc 0.9766 || VAL loss 0.8954, acc 0.8733\n",
      "\t230: TRAIN loss 0.0360,  acc 0.9931 || VAL loss 0.8652, acc 0.8860\n",
      "\t240: TRAIN loss 0.0354,  acc 0.9931 || VAL loss 0.8623, acc 0.8860\n",
      "\t250: TRAIN loss 0.0400,  acc 0.9925 || VAL loss 0.8718, acc 0.8828\n",
      "\t260: TRAIN loss 0.0328,  acc 0.9931 || VAL loss 0.8518, acc 0.8907\n",
      "\t270: TRAIN loss 0.0338,  acc 0.9925 || VAL loss 0.8241, acc 0.8963\n",
      "\t280: TRAIN loss 0.0399,  acc 0.9901 || VAL loss 0.9024, acc 0.8797\n",
      "\t290: TRAIN loss 0.0323,  acc 0.9929 || VAL loss 0.8564, acc 0.8955\n",
      "256 16 0.9926761678543151 0.8931116389548693\n",
      "\t0: TRAIN loss 3.4138,  acc 0.3577 || VAL loss 1.7937, acc 0.5075\n",
      "\t10: TRAIN loss 0.5180,  acc 0.8591 || VAL loss 0.8081, acc 0.8005\n",
      "\t20: TRAIN loss 0.2910,  acc 0.9204 || VAL loss 0.6253, acc 0.8401\n",
      "\t30: TRAIN loss 0.1897,  acc 0.9505 || VAL loss 0.5932, acc 0.8686\n",
      "\t40: TRAIN loss 0.1271,  acc 0.9683 || VAL loss 0.6283, acc 0.8725\n",
      "\t50: TRAIN loss 0.0939,  acc 0.9788 || VAL loss 0.5640, acc 0.8828\n",
      "\t60: TRAIN loss 0.0757,  acc 0.9859 || VAL loss 0.5701, acc 0.8899\n",
      "\t70: TRAIN loss 0.0906,  acc 0.9830 || VAL loss 0.6143, acc 0.8923\n",
      "\t80: TRAIN loss 0.0947,  acc 0.9859 || VAL loss 0.5919, acc 0.9002\n",
      "\t90: TRAIN loss 0.0453,  acc 0.9939 || VAL loss 0.6463, acc 0.8947\n",
      "\t100: TRAIN loss 0.0426,  acc 0.9945 || VAL loss 0.6820, acc 0.8899\n",
      "\t110: TRAIN loss 0.0520,  acc 0.9921 || VAL loss 0.7143, acc 0.8812\n",
      "\t120: TRAIN loss 0.0537,  acc 0.9923 || VAL loss 0.6281, acc 0.8994\n",
      "\t130: TRAIN loss 0.0436,  acc 0.9960 || VAL loss 0.6509, acc 0.8955\n",
      "\t140: TRAIN loss 0.0463,  acc 0.9960 || VAL loss 0.6642, acc 0.8994\n",
      "\t150: TRAIN loss 0.0445,  acc 0.9956 || VAL loss 0.6912, acc 0.8963\n",
      "\t160: TRAIN loss 0.0569,  acc 0.9905 || VAL loss 0.7623, acc 0.8931\n",
      "\t170: TRAIN loss 0.0308,  acc 0.9966 || VAL loss 0.6755, acc 0.9034\n",
      "\t180: TRAIN loss 0.0304,  acc 0.9962 || VAL loss 0.6916, acc 0.8979\n",
      "\t190: TRAIN loss 0.0657,  acc 0.9848 || VAL loss 0.8423, acc 0.8757\n",
      "\t200: TRAIN loss 0.0302,  acc 0.9970 || VAL loss 0.6684, acc 0.9034\n",
      "\t210: TRAIN loss 0.0294,  acc 0.9968 || VAL loss 0.6765, acc 0.9058\n",
      "\t220: TRAIN loss 0.0316,  acc 0.9970 || VAL loss 0.6596, acc 0.9050\n",
      "\t230: TRAIN loss 0.1583,  acc 0.9681 || VAL loss 0.9407, acc 0.8662\n",
      "\t240: TRAIN loss 0.0294,  acc 0.9970 || VAL loss 0.7025, acc 0.9034\n",
      "\t250: TRAIN loss 0.0286,  acc 0.9972 || VAL loss 0.7090, acc 0.9050\n",
      "\t260: TRAIN loss 0.0283,  acc 0.9976 || VAL loss 0.7178, acc 0.9018\n",
      "\t270: TRAIN loss 0.0292,  acc 0.9966 || VAL loss 0.6697, acc 0.9050\n",
      "\t280: TRAIN loss 0.0295,  acc 0.9966 || VAL loss 0.7139, acc 0.9050\n",
      "\t290: TRAIN loss 0.0300,  acc 0.9966 || VAL loss 0.7144, acc 0.9034\n",
      "256 32 0.9974267616785432 0.9041963578780681\n",
      "\t0: TRAIN loss 5.3949,  acc 0.3535 || VAL loss 2.5341, acc 0.4996\n",
      "\t10: TRAIN loss 0.4853,  acc 0.8513 || VAL loss 0.8467, acc 0.7918\n",
      "\t20: TRAIN loss 0.2855,  acc 0.9224 || VAL loss 0.7059, acc 0.8377\n",
      "\t30: TRAIN loss 0.1667,  acc 0.9602 || VAL loss 0.5682, acc 0.8749\n",
      "\t40: TRAIN loss 0.1262,  acc 0.9699 || VAL loss 0.5597, acc 0.8892\n",
      "\t50: TRAIN loss 0.1016,  acc 0.9788 || VAL loss 0.5657, acc 0.8963\n",
      "\t60: TRAIN loss 0.1386,  acc 0.9729 || VAL loss 0.6935, acc 0.8804\n",
      "\t70: TRAIN loss 0.0729,  acc 0.9865 || VAL loss 0.5474, acc 0.9002\n",
      "\t80: TRAIN loss 0.0667,  acc 0.9895 || VAL loss 0.5614, acc 0.9018\n",
      "\t90: TRAIN loss 0.0508,  acc 0.9943 || VAL loss 0.5696, acc 0.9026\n",
      "\t100: TRAIN loss 0.0545,  acc 0.9923 || VAL loss 0.6050, acc 0.8892\n",
      "\t110: TRAIN loss 0.0587,  acc 0.9905 || VAL loss 0.7031, acc 0.8868\n",
      "\t120: TRAIN loss 0.0823,  acc 0.9905 || VAL loss 0.7730, acc 0.8971\n",
      "\t130: TRAIN loss 0.0296,  acc 0.9962 || VAL loss 0.6455, acc 0.9105\n",
      "\t140: TRAIN loss 0.0296,  acc 0.9968 || VAL loss 0.6295, acc 0.9089\n",
      "\t150: TRAIN loss 0.0345,  acc 0.9954 || VAL loss 0.6691, acc 0.9018\n",
      "\t160: TRAIN loss 0.0512,  acc 0.9907 || VAL loss 0.6726, acc 0.9050\n",
      "\t170: TRAIN loss 0.0285,  acc 0.9970 || VAL loss 0.6366, acc 0.9145\n",
      "\t180: TRAIN loss 0.0281,  acc 0.9962 || VAL loss 0.6605, acc 0.9145\n",
      "\t190: TRAIN loss 0.0306,  acc 0.9964 || VAL loss 0.7183, acc 0.8979\n",
      "\t200: TRAIN loss 0.0271,  acc 0.9972 || VAL loss 0.6509, acc 0.9153\n",
      "\t210: TRAIN loss 0.1270,  acc 0.9820 || VAL loss 0.7426, acc 0.8979\n",
      "\t220: TRAIN loss 0.0582,  acc 0.9949 || VAL loss 0.6973, acc 0.9097\n",
      "\t230: TRAIN loss 0.0583,  acc 0.9951 || VAL loss 0.6967, acc 0.9082\n",
      "\t240: TRAIN loss 0.0606,  acc 0.9947 || VAL loss 0.6857, acc 0.9097\n",
      "\t250: TRAIN loss 0.0596,  acc 0.9945 || VAL loss 0.7170, acc 0.9058\n",
      "\t260: TRAIN loss 0.1004,  acc 0.9806 || VAL loss 0.7782, acc 0.8947\n",
      "\t270: TRAIN loss 0.0233,  acc 0.9972 || VAL loss 0.6710, acc 0.9097\n",
      "\t280: TRAIN loss 0.0230,  acc 0.9970 || VAL loss 0.6728, acc 0.9105\n",
      "\t290: TRAIN loss 0.0239,  acc 0.9970 || VAL loss 0.6726, acc 0.9121\n",
      "256 64 0.9978226444972288 0.9081551860649247\n",
      "\t0: TRAIN loss 4.9721,  acc 0.3529 || VAL loss 2.1179, acc 0.5107\n",
      "\t10: TRAIN loss 0.4192,  acc 0.8854 || VAL loss 0.7133, acc 0.8187\n",
      "\t20: TRAIN loss 0.2687,  acc 0.9418 || VAL loss 0.5806, acc 0.8646\n",
      "\t30: TRAIN loss 0.2020,  acc 0.9539 || VAL loss 0.5438, acc 0.8757\n",
      "\t40: TRAIN loss 0.1591,  acc 0.9669 || VAL loss 0.5300, acc 0.8860\n",
      "\t50: TRAIN loss 0.3564,  acc 0.9365 || VAL loss 0.7710, acc 0.8575\n",
      "\t60: TRAIN loss 0.1253,  acc 0.9796 || VAL loss 0.6029, acc 0.8789\n",
      "\t70: TRAIN loss 0.0861,  acc 0.9915 || VAL loss 0.5717, acc 0.9066\n",
      "\t80: TRAIN loss 0.1039,  acc 0.9854 || VAL loss 0.5614, acc 0.8994\n",
      "\t90: TRAIN loss 0.0705,  acc 0.9939 || VAL loss 0.5572, acc 0.9121\n",
      "\t100: TRAIN loss 0.0690,  acc 0.9941 || VAL loss 0.5822, acc 0.9010\n",
      "\t110: TRAIN loss 0.0657,  acc 0.9947 || VAL loss 0.5482, acc 0.9121\n",
      "\t120: TRAIN loss 0.0666,  acc 0.9895 || VAL loss 0.6265, acc 0.9050\n",
      "\t130: TRAIN loss 0.0501,  acc 0.9954 || VAL loss 0.6036, acc 0.9058\n",
      "\t140: TRAIN loss 0.0537,  acc 0.9947 || VAL loss 0.5947, acc 0.9129\n",
      "\t150: TRAIN loss 0.0514,  acc 0.9949 || VAL loss 0.6180, acc 0.9058\n",
      "\t160: TRAIN loss 0.0948,  acc 0.9814 || VAL loss 0.7808, acc 0.8749\n",
      "\t170: TRAIN loss 0.0741,  acc 0.9921 || VAL loss 0.5805, acc 0.9137\n",
      "\t180: TRAIN loss 0.0514,  acc 0.9949 || VAL loss 0.5924, acc 0.9177\n",
      "\t190: TRAIN loss 0.0485,  acc 0.9954 || VAL loss 0.6090, acc 0.9105\n",
      "\t200: TRAIN loss 0.0525,  acc 0.9952 || VAL loss 0.6102, acc 0.9161\n",
      "\t210: TRAIN loss 0.0493,  acc 0.9952 || VAL loss 0.6151, acc 0.9161\n",
      "\t220: TRAIN loss 0.0487,  acc 0.9958 || VAL loss 0.6239, acc 0.9161\n"
     ]
    },
    {
     "name": "stdout",
     "output_type": "stream",
     "text": [
      "\t230: TRAIN loss 0.0498,  acc 0.9954 || VAL loss 0.6277, acc 0.9145\n",
      "\t240: TRAIN loss 0.0711,  acc 0.9897 || VAL loss 0.7124, acc 0.8947\n",
      "\t250: TRAIN loss 0.0377,  acc 0.9968 || VAL loss 0.6299, acc 0.9105\n",
      "\t260: TRAIN loss 0.0375,  acc 0.9970 || VAL loss 0.6296, acc 0.9137\n",
      "\t270: TRAIN loss 0.0388,  acc 0.9960 || VAL loss 0.6385, acc 0.9153\n",
      "\t280: TRAIN loss 0.0380,  acc 0.9964 || VAL loss 0.6351, acc 0.9169\n",
      "\t290: TRAIN loss 0.0381,  acc 0.9964 || VAL loss 0.6229, acc 0.9177\n",
      "256 128 0.9970308788598575 0.9136975455265242\n",
      "\t0: TRAIN loss 7.1867,  acc 0.3179 || VAL loss 3.6688, acc 0.4774\n",
      "\t10: TRAIN loss 0.4322,  acc 0.8822 || VAL loss 0.6955, acc 0.8337\n",
      "\t20: TRAIN loss 0.2792,  acc 0.9347 || VAL loss 0.6723, acc 0.8638\n",
      "\t30: TRAIN loss 0.2388,  acc 0.9487 || VAL loss 0.6765, acc 0.8741\n",
      "\t40: TRAIN loss 0.1240,  acc 0.9834 || VAL loss 0.5363, acc 0.9082\n",
      "\t50: TRAIN loss 0.1212,  acc 0.9840 || VAL loss 0.5997, acc 0.8907\n",
      "\t60: TRAIN loss 0.1313,  acc 0.9798 || VAL loss 0.6010, acc 0.8963\n",
      "\t70: TRAIN loss 0.0966,  acc 0.9911 || VAL loss 0.5692, acc 0.9082\n",
      "\t80: TRAIN loss 0.0932,  acc 0.9927 || VAL loss 0.5648, acc 0.9129\n",
      "\t90: TRAIN loss 0.0918,  acc 0.9921 || VAL loss 0.6219, acc 0.9066\n",
      "\t100: TRAIN loss 0.2804,  acc 0.9638 || VAL loss 0.6778, acc 0.8947\n",
      "\t110: TRAIN loss 0.0900,  acc 0.9925 || VAL loss 0.6315, acc 0.9105\n",
      "\t120: TRAIN loss 0.0859,  acc 0.9931 || VAL loss 0.6269, acc 0.9153\n",
      "\t130: TRAIN loss 0.0838,  acc 0.9939 || VAL loss 0.6219, acc 0.9161\n",
      "\t140: TRAIN loss 0.0889,  acc 0.9929 || VAL loss 0.6039, acc 0.9097\n",
      "\t150: TRAIN loss 0.0857,  acc 0.9935 || VAL loss 0.6176, acc 0.9153\n",
      "\t160: TRAIN loss 0.0848,  acc 0.9933 || VAL loss 0.6188, acc 0.9184\n",
      "\t170: TRAIN loss 0.0833,  acc 0.9935 || VAL loss 0.6419, acc 0.9145\n",
      "\t180: TRAIN loss 0.1279,  acc 0.9818 || VAL loss 0.7087, acc 0.8987\n",
      "\t190: TRAIN loss 0.0419,  acc 0.9958 || VAL loss 0.6198, acc 0.9224\n",
      "\t200: TRAIN loss 0.0414,  acc 0.9958 || VAL loss 0.6230, acc 0.9216\n",
      "\t210: TRAIN loss 0.0416,  acc 0.9968 || VAL loss 0.6480, acc 0.9224\n",
      "\t220: TRAIN loss 0.0413,  acc 0.9960 || VAL loss 0.6376, acc 0.9224\n",
      "\t230: TRAIN loss 0.0423,  acc 0.9960 || VAL loss 0.6366, acc 0.9216\n",
      "\t240: TRAIN loss 0.0410,  acc 0.9960 || VAL loss 0.6512, acc 0.9145\n",
      "\t250: TRAIN loss 0.0417,  acc 0.9956 || VAL loss 0.6583, acc 0.9216\n",
      "\t260: TRAIN loss 0.0887,  acc 0.9871 || VAL loss 0.6871, acc 0.9010\n",
      "\t270: TRAIN loss 0.0437,  acc 0.9962 || VAL loss 0.5823, acc 0.9272\n",
      "\t280: TRAIN loss 0.0435,  acc 0.9960 || VAL loss 0.5920, acc 0.9264\n",
      "\t290: TRAIN loss 0.0438,  acc 0.9958 || VAL loss 0.5957, acc 0.9248\n",
      "256 256 0.9958432304038005 0.9192399049881235\n",
      "\t0: TRAIN loss 4.2658,  acc 0.4313 || VAL loss 3.6344, acc 0.4980\n",
      "\t10: TRAIN loss 0.4051,  acc 0.8973 || VAL loss 0.7233, acc 0.8401\n",
      "\t20: TRAIN loss 0.2022,  acc 0.9559 || VAL loss 0.6339, acc 0.8812\n",
      "\t30: TRAIN loss 0.1059,  acc 0.9806 || VAL loss 0.6026, acc 0.8876\n",
      "\t40: TRAIN loss 0.1395,  acc 0.9778 || VAL loss 0.6285, acc 0.9010\n",
      "\t50: TRAIN loss 0.0948,  acc 0.9909 || VAL loss 0.5721, acc 0.9177\n",
      "\t60: TRAIN loss 0.0937,  acc 0.9909 || VAL loss 0.5820, acc 0.9145\n",
      "\t70: TRAIN loss 0.1360,  acc 0.9808 || VAL loss 0.6669, acc 0.8947\n",
      "\t80: TRAIN loss 0.0639,  acc 0.9947 || VAL loss 0.5966, acc 0.9153\n",
      "\t90: TRAIN loss 0.0638,  acc 0.9951 || VAL loss 0.6286, acc 0.9137\n",
      "\t100: TRAIN loss 0.0698,  acc 0.9935 || VAL loss 0.6386, acc 0.9113\n",
      "\t110: TRAIN loss 0.1033,  acc 0.9913 || VAL loss 0.5898, acc 0.9224\n",
      "\t120: TRAIN loss 0.0981,  acc 0.9919 || VAL loss 0.6144, acc 0.9208\n",
      "\t130: TRAIN loss 0.0934,  acc 0.9925 || VAL loss 0.6149, acc 0.9216\n",
      "\t140: TRAIN loss 0.0934,  acc 0.9923 || VAL loss 0.6027, acc 0.9200\n",
      "\t150: TRAIN loss 0.0928,  acc 0.9929 || VAL loss 0.6141, acc 0.9208\n",
      "\t160: TRAIN loss 0.1070,  acc 0.9909 || VAL loss 0.6576, acc 0.9097\n",
      "\t170: TRAIN loss 0.1089,  acc 0.9919 || VAL loss 0.6591, acc 0.9145\n",
      "\t180: TRAIN loss 0.1079,  acc 0.9923 || VAL loss 0.6826, acc 0.9137\n",
      "\t190: TRAIN loss 0.1088,  acc 0.9921 || VAL loss 0.6621, acc 0.9177\n",
      "\t200: TRAIN loss 0.1081,  acc 0.9921 || VAL loss 0.6677, acc 0.9145\n",
      "\t210: TRAIN loss 0.1089,  acc 0.9917 || VAL loss 0.6636, acc 0.9232\n",
      "\t220: TRAIN loss 0.1081,  acc 0.9919 || VAL loss 0.6681, acc 0.9224\n",
      "\t230: TRAIN loss 0.0796,  acc 0.9941 || VAL loss 0.6028, acc 0.9145\n",
      "\t240: TRAIN loss 0.0794,  acc 0.9941 || VAL loss 0.6113, acc 0.9169\n",
      "\t250: TRAIN loss 0.0795,  acc 0.9941 || VAL loss 0.6210, acc 0.9232\n",
      "\t260: TRAIN loss 0.0788,  acc 0.9939 || VAL loss 0.6259, acc 0.9216\n",
      "\t270: TRAIN loss 0.0791,  acc 0.9943 || VAL loss 0.6240, acc 0.9256\n",
      "\t280: TRAIN loss 0.0786,  acc 0.9937 || VAL loss 0.6294, acc 0.9240\n",
      "\t290: TRAIN loss 0.0789,  acc 0.9939 || VAL loss 0.6279, acc 0.9248\n",
      "256 512 0.9932699920823437 0.9168646080760094\n",
      "\t0: TRAIN loss 7.4535,  acc 0.3230 || VAL loss 6.1491, acc 0.3634\n",
      "\t10: TRAIN loss 1.1986,  acc 0.8537 || VAL loss 1.4919, acc 0.7981\n",
      "\t20: TRAIN loss 1.0587,  acc 0.9024 || VAL loss 1.4257, acc 0.8290\n",
      "\t30: TRAIN loss 0.9353,  acc 0.9248 || VAL loss 1.3160, acc 0.8290\n",
      "\t40: TRAIN loss 0.8400,  acc 0.9388 || VAL loss 1.2606, acc 0.8614\n",
      "\t50: TRAIN loss 0.8056,  acc 0.9481 || VAL loss 1.2262, acc 0.8709\n",
      "\t60: TRAIN loss 0.8023,  acc 0.9479 || VAL loss 1.2812, acc 0.8694\n",
      "\t70: TRAIN loss 0.2071,  acc 0.9679 || VAL loss 0.6564, acc 0.8987\n",
      "\t80: TRAIN loss 0.1064,  acc 0.9923 || VAL loss 0.5449, acc 0.9169\n",
      "\t90: TRAIN loss 0.1041,  acc 0.9919 || VAL loss 0.5483, acc 0.9200\n",
      "\t100: TRAIN loss 0.1037,  acc 0.9921 || VAL loss 0.5645, acc 0.9200\n",
      "\t110: TRAIN loss 0.1050,  acc 0.9919 || VAL loss 0.5605, acc 0.9192\n",
      "\t120: TRAIN loss 0.1077,  acc 0.9899 || VAL loss 0.6437, acc 0.9192\n",
      "\t130: TRAIN loss 0.0833,  acc 0.9933 || VAL loss 0.5690, acc 0.9232\n",
      "\t140: TRAIN loss 0.0826,  acc 0.9937 || VAL loss 0.5622, acc 0.9256\n",
      "\t150: TRAIN loss 0.0839,  acc 0.9929 || VAL loss 0.5737, acc 0.9248\n",
      "\t160: TRAIN loss 0.0825,  acc 0.9939 || VAL loss 0.5753, acc 0.9248\n",
      "\t170: TRAIN loss 0.0822,  acc 0.9941 || VAL loss 0.5888, acc 0.9216\n",
      "\t180: TRAIN loss 0.0828,  acc 0.9937 || VAL loss 0.5864, acc 0.9216\n",
      "\t190: TRAIN loss 0.0825,  acc 0.9931 || VAL loss 0.5966, acc 0.9240\n",
      "\t200: TRAIN loss 0.0867,  acc 0.9919 || VAL loss 0.6025, acc 0.9192\n",
      "\t210: TRAIN loss 0.0444,  acc 0.9960 || VAL loss 0.5413, acc 0.9224\n",
      "\t220: TRAIN loss 0.0439,  acc 0.9958 || VAL loss 0.5619, acc 0.9240\n",
      "\t230: TRAIN loss 0.0439,  acc 0.9962 || VAL loss 0.5736, acc 0.9224\n",
      "\t240: TRAIN loss 0.0437,  acc 0.9960 || VAL loss 0.5857, acc 0.9224\n",
      "\t250: TRAIN loss 0.0436,  acc 0.9960 || VAL loss 0.5892, acc 0.9232\n",
      "\t260: TRAIN loss 0.0436,  acc 0.9954 || VAL loss 0.6023, acc 0.9216\n",
      "\t270: TRAIN loss 0.0436,  acc 0.9958 || VAL loss 0.6007, acc 0.9256\n",
      "\t280: TRAIN loss 0.0435,  acc 0.9962 || VAL loss 0.6064, acc 0.9264\n",
      "\t290: TRAIN loss 0.1063,  acc 0.9850 || VAL loss 0.6431, acc 0.9074\n",
      "256 1024 0.9974267616785432 0.9263657957244655\n",
      "\t0: TRAIN loss 3.7516,  acc 0.1718 || VAL loss 2.2648, acc 0.1568\n",
      "\t10: TRAIN loss 1.2235,  acc 0.5825 || VAL loss 1.3924, acc 0.5772\n",
      "\t20: TRAIN loss 0.5828,  acc 0.8100 || VAL loss 0.9022, acc 0.7482\n",
      "\t30: TRAIN loss 0.2941,  acc 0.9129 || VAL loss 0.6434, acc 0.8416\n",
      "\t40: TRAIN loss 0.1943,  acc 0.9434 || VAL loss 0.5732, acc 0.8670\n",
      "\t50: TRAIN loss 0.1796,  acc 0.9471 || VAL loss 0.6647, acc 0.8670\n",
      "\t60: TRAIN loss 0.0990,  acc 0.9770 || VAL loss 0.5653, acc 0.8892\n",
      "\t70: TRAIN loss 0.0789,  acc 0.9798 || VAL loss 0.5796, acc 0.8994\n",
      "\t80: TRAIN loss 0.0516,  acc 0.9895 || VAL loss 0.5907, acc 0.8979\n",
      "\t90: TRAIN loss 0.0441,  acc 0.9915 || VAL loss 0.6393, acc 0.9010\n",
      "\t100: TRAIN loss 0.1089,  acc 0.9757 || VAL loss 0.6690, acc 0.8892\n",
      "\t110: TRAIN loss 0.0585,  acc 0.9877 || VAL loss 0.7104, acc 0.8931\n",
      "\t120: TRAIN loss 0.0816,  acc 0.9806 || VAL loss 0.8081, acc 0.8781\n",
      "\t130: TRAIN loss 0.0341,  acc 0.9958 || VAL loss 0.6987, acc 0.9050\n",
      "\t140: TRAIN loss 0.0230,  acc 0.9949 || VAL loss 0.7295, acc 0.8987\n",
      "\t150: TRAIN loss 0.0208,  acc 0.9970 || VAL loss 0.7438, acc 0.8947\n",
      "\t160: TRAIN loss 0.0603,  acc 0.9838 || VAL loss 0.8225, acc 0.8773\n",
      "\t170: TRAIN loss 0.0196,  acc 0.9966 || VAL loss 0.7823, acc 0.8939\n",
      "\t180: TRAIN loss 0.0195,  acc 0.9966 || VAL loss 0.7805, acc 0.8979\n",
      "\t190: TRAIN loss 0.0643,  acc 0.9836 || VAL loss 0.8582, acc 0.8773\n",
      "\t200: TRAIN loss 0.0235,  acc 0.9964 || VAL loss 0.7441, acc 0.9058\n",
      "\t210: TRAIN loss 0.0225,  acc 0.9966 || VAL loss 0.7610, acc 0.9026\n"
     ]
    },
    {
     "name": "stdout",
     "output_type": "stream",
     "text": [
      "\t220: TRAIN loss 0.0218,  acc 0.9966 || VAL loss 0.7652, acc 0.9018\n",
      "\t230: TRAIN loss 0.0362,  acc 0.9923 || VAL loss 0.8422, acc 0.8836\n",
      "\t240: TRAIN loss 0.0273,  acc 0.9943 || VAL loss 0.7810, acc 0.9058\n",
      "\t250: TRAIN loss 0.0195,  acc 0.9964 || VAL loss 0.8050, acc 0.8994\n",
      "\t260: TRAIN loss 0.0170,  acc 0.9972 || VAL loss 0.7987, acc 0.9026\n",
      "\t270: TRAIN loss 0.0166,  acc 0.9974 || VAL loss 0.7795, acc 0.9034\n",
      "\t280: TRAIN loss 0.0166,  acc 0.9970 || VAL loss 0.7846, acc 0.9034\n",
      "\t290: TRAIN loss 0.0467,  acc 0.9947 || VAL loss 0.8283, acc 0.9034\n",
      "512 16 0.9974267616785432 0.8986539984164688\n",
      "\t0: TRAIN loss 3.7928,  acc 0.3561 || VAL loss 1.6486, acc 0.5099\n",
      "\t10: TRAIN loss 0.5021,  acc 0.8537 || VAL loss 0.7466, acc 0.8124\n",
      "\t20: TRAIN loss 0.3494,  acc 0.9022 || VAL loss 0.6913, acc 0.8440\n",
      "\t30: TRAIN loss 0.2334,  acc 0.9410 || VAL loss 0.6042, acc 0.8741\n",
      "\t40: TRAIN loss 0.1179,  acc 0.9727 || VAL loss 0.5443, acc 0.8899\n",
      "\t50: TRAIN loss 0.1136,  acc 0.9768 || VAL loss 0.5719, acc 0.8931\n",
      "\t60: TRAIN loss 0.0725,  acc 0.9905 || VAL loss 0.5258, acc 0.9042\n",
      "\t70: TRAIN loss 0.0717,  acc 0.9895 || VAL loss 0.5351, acc 0.9026\n",
      "\t80: TRAIN loss 0.0577,  acc 0.9927 || VAL loss 0.5475, acc 0.9026\n",
      "\t90: TRAIN loss 0.1906,  acc 0.9656 || VAL loss 0.6322, acc 0.8915\n",
      "\t100: TRAIN loss 0.1521,  acc 0.9739 || VAL loss 0.6235, acc 0.8963\n",
      "\t110: TRAIN loss 0.0504,  acc 0.9958 || VAL loss 0.6073, acc 0.9074\n",
      "\t120: TRAIN loss 0.0543,  acc 0.9951 || VAL loss 0.5916, acc 0.9082\n",
      "\t130: TRAIN loss 0.0502,  acc 0.9952 || VAL loss 0.5774, acc 0.9129\n",
      "\t140: TRAIN loss 0.0513,  acc 0.9952 || VAL loss 0.6054, acc 0.9018\n",
      "\t150: TRAIN loss 0.0242,  acc 0.9964 || VAL loss 0.6012, acc 0.9137\n",
      "\t160: TRAIN loss 0.0198,  acc 0.9974 || VAL loss 0.5959, acc 0.9105\n",
      "\t170: TRAIN loss 0.0169,  acc 0.9980 || VAL loss 0.6207, acc 0.9089\n",
      "\t180: TRAIN loss 0.0446,  acc 0.9883 || VAL loss 0.7741, acc 0.8844\n",
      "\t190: TRAIN loss 0.0187,  acc 0.9974 || VAL loss 0.6008, acc 0.9121\n",
      "\t200: TRAIN loss 0.0177,  acc 0.9982 || VAL loss 0.6154, acc 0.9129\n",
      "\t210: TRAIN loss 0.0180,  acc 0.9972 || VAL loss 0.6119, acc 0.9169\n",
      "\t220: TRAIN loss 0.0302,  acc 0.9949 || VAL loss 0.7486, acc 0.9034\n",
      "\t230: TRAIN loss 0.0268,  acc 0.9956 || VAL loss 0.6617, acc 0.9105\n",
      "\t240: TRAIN loss 0.0167,  acc 0.9976 || VAL loss 0.6320, acc 0.9089\n",
      "\t250: TRAIN loss 0.0173,  acc 0.9972 || VAL loss 0.6302, acc 0.9089\n",
      "\t260: TRAIN loss 0.0180,  acc 0.9978 || VAL loss 0.6580, acc 0.9113\n",
      "\t270: TRAIN loss 0.0169,  acc 0.9980 || VAL loss 0.6307, acc 0.9129\n",
      "\t280: TRAIN loss 0.0189,  acc 0.9972 || VAL loss 0.6495, acc 0.9089\n",
      "\t290: TRAIN loss 0.0170,  acc 0.9976 || VAL loss 0.6725, acc 0.9074\n",
      "512 32 0.9980205859065716 0.9081551860649247\n",
      "\t0: TRAIN loss 6.7783,  acc 0.3626 || VAL loss 5.6981, acc 0.4624\n",
      "\t10: TRAIN loss 0.5748,  acc 0.8440 || VAL loss 0.8759, acc 0.7696\n",
      "\t20: TRAIN loss 0.2827,  acc 0.9341 || VAL loss 0.6705, acc 0.8551\n",
      "\t30: TRAIN loss 0.2034,  acc 0.9632 || VAL loss 0.6148, acc 0.8773\n",
      "\t40: TRAIN loss 0.1887,  acc 0.9654 || VAL loss 0.6975, acc 0.8717\n",
      "\t50: TRAIN loss 0.1237,  acc 0.9838 || VAL loss 0.5413, acc 0.9026\n",
      "\t60: TRAIN loss 0.1043,  acc 0.9895 || VAL loss 0.5520, acc 0.9050\n",
      "\t70: TRAIN loss 0.0966,  acc 0.9917 || VAL loss 0.6119, acc 0.8939\n",
      "\t80: TRAIN loss 0.1340,  acc 0.9753 || VAL loss 0.6936, acc 0.8828\n",
      "\t90: TRAIN loss 0.0864,  acc 0.9927 || VAL loss 0.6009, acc 0.9097\n",
      "\t100: TRAIN loss 0.0911,  acc 0.9921 || VAL loss 0.6086, acc 0.9089\n",
      "\t110: TRAIN loss 0.2843,  acc 0.9424 || VAL loss 0.9098, acc 0.8464\n",
      "\t120: TRAIN loss 0.1251,  acc 0.9881 || VAL loss 0.6789, acc 0.9034\n",
      "\t130: TRAIN loss 0.0860,  acc 0.9929 || VAL loss 0.6411, acc 0.9121\n",
      "\t140: TRAIN loss 0.0844,  acc 0.9933 || VAL loss 0.6418, acc 0.9074\n",
      "\t150: TRAIN loss 0.0868,  acc 0.9927 || VAL loss 0.6846, acc 0.9074\n",
      "\t160: TRAIN loss 0.0820,  acc 0.9933 || VAL loss 0.6564, acc 0.9097\n",
      "\t170: TRAIN loss 0.0816,  acc 0.9933 || VAL loss 0.6516, acc 0.9129\n",
      "\t180: TRAIN loss 0.0855,  acc 0.9921 || VAL loss 0.6032, acc 0.9089\n",
      "\t190: TRAIN loss 0.0822,  acc 0.9931 || VAL loss 0.6021, acc 0.9121\n",
      "\t200: TRAIN loss 0.0802,  acc 0.9939 || VAL loss 0.6073, acc 0.9137\n",
      "\t210: TRAIN loss 0.0810,  acc 0.9935 || VAL loss 0.5966, acc 0.9161\n",
      "\t220: TRAIN loss 0.0804,  acc 0.9937 || VAL loss 0.6032, acc 0.9169\n",
      "\t230: TRAIN loss 0.0805,  acc 0.9937 || VAL loss 0.6216, acc 0.9105\n",
      "\t240: TRAIN loss 0.1729,  acc 0.9844 || VAL loss 0.6975, acc 0.9105\n",
      "\t250: TRAIN loss 0.1237,  acc 0.9913 || VAL loss 0.6835, acc 0.9169\n",
      "\t260: TRAIN loss 0.1237,  acc 0.9913 || VAL loss 0.6846, acc 0.9129\n",
      "\t270: TRAIN loss 0.1242,  acc 0.9909 || VAL loss 0.6930, acc 0.9169\n",
      "\t280: TRAIN loss 0.1240,  acc 0.9909 || VAL loss 0.6866, acc 0.9192\n",
      "\t290: TRAIN loss 0.0853,  acc 0.9937 || VAL loss 0.6231, acc 0.9184\n",
      "512 64 0.9936658749010293 0.9184481393507522\n",
      "\t0: TRAIN loss 5.7895,  acc 0.3519 || VAL loss 3.2851, acc 0.4996\n",
      "\t10: TRAIN loss 0.5430,  acc 0.8731 || VAL loss 0.8065, acc 0.8203\n",
      "\t20: TRAIN loss 0.3372,  acc 0.9404 || VAL loss 0.6433, acc 0.8789\n",
      "\t30: TRAIN loss 0.2600,  acc 0.9622 || VAL loss 0.6508, acc 0.8892\n",
      "\t40: TRAIN loss 0.2281,  acc 0.9703 || VAL loss 0.5656, acc 0.9058\n",
      "\t50: TRAIN loss 0.2082,  acc 0.9764 || VAL loss 0.6547, acc 0.8923\n",
      "\t60: TRAIN loss 0.1797,  acc 0.9861 || VAL loss 0.5858, acc 0.9066\n",
      "\t70: TRAIN loss 0.2908,  acc 0.9679 || VAL loss 0.9278, acc 0.8765\n",
      "\t80: TRAIN loss 0.1943,  acc 0.9842 || VAL loss 0.6715, acc 0.9105\n",
      "\t90: TRAIN loss 0.1008,  acc 0.9852 || VAL loss 0.6175, acc 0.8979\n",
      "\t100: TRAIN loss 0.0640,  acc 0.9947 || VAL loss 0.5284, acc 0.9184\n",
      "\t110: TRAIN loss 0.0661,  acc 0.9943 || VAL loss 0.5364, acc 0.9240\n",
      "\t120: TRAIN loss 0.0721,  acc 0.9917 || VAL loss 0.5932, acc 0.9161\n",
      "\t130: TRAIN loss 0.1240,  acc 0.9832 || VAL loss 0.7854, acc 0.8899\n",
      "\t140: TRAIN loss 0.0628,  acc 0.9937 || VAL loss 0.6238, acc 0.9066\n",
      "\t150: TRAIN loss 0.0563,  acc 0.9951 || VAL loss 0.5701, acc 0.9161\n",
      "\t160: TRAIN loss 0.0563,  acc 0.9954 || VAL loss 0.5614, acc 0.9224\n",
      "\t170: TRAIN loss 0.0563,  acc 0.9951 || VAL loss 0.5652, acc 0.9272\n",
      "\t180: TRAIN loss 0.0845,  acc 0.9861 || VAL loss 0.7598, acc 0.8884\n",
      "\t190: TRAIN loss 0.1237,  acc 0.9834 || VAL loss 0.7014, acc 0.9058\n",
      "\t200: TRAIN loss 0.0512,  acc 0.9954 || VAL loss 0.5554, acc 0.9272\n",
      "\t210: TRAIN loss 0.0512,  acc 0.9958 || VAL loss 0.5637, acc 0.9279\n",
      "\t220: TRAIN loss 0.0514,  acc 0.9954 || VAL loss 0.5772, acc 0.9264\n",
      "\t230: TRAIN loss 0.0507,  acc 0.9954 || VAL loss 0.5479, acc 0.9272\n",
      "\t240: TRAIN loss 0.0513,  acc 0.9954 || VAL loss 0.5772, acc 0.9272\n",
      "\t250: TRAIN loss 0.0513,  acc 0.9954 || VAL loss 0.5746, acc 0.9272\n",
      "\t260: TRAIN loss 0.0508,  acc 0.9956 || VAL loss 0.5575, acc 0.9303\n",
      "\t270: TRAIN loss 0.0876,  acc 0.9881 || VAL loss 0.6119, acc 0.9145\n",
      "\t280: TRAIN loss 0.0472,  acc 0.9958 || VAL loss 0.5563, acc 0.9256\n",
      "\t290: TRAIN loss 0.0476,  acc 0.9952 || VAL loss 0.5523, acc 0.9287\n",
      "512 128 0.9966349960411718 0.9271575613618369\n",
      "\t0: TRAIN loss 6.6530,  acc 0.3569 || VAL loss 5.6807, acc 0.4307\n",
      "\t10: TRAIN loss 0.6079,  acc 0.8508 || VAL loss 0.7742, acc 0.8345\n",
      "\t20: TRAIN loss 0.2141,  acc 0.9470 || VAL loss 0.5880, acc 0.8551\n",
      "\t30: TRAIN loss 0.1004,  acc 0.9842 || VAL loss 0.5080, acc 0.8963\n",
      "\t40: TRAIN loss 0.0782,  acc 0.9907 || VAL loss 0.4713, acc 0.9177\n",
      "\t50: TRAIN loss 0.0703,  acc 0.9931 || VAL loss 0.5296, acc 0.9074\n",
      "\t60: TRAIN loss 0.0579,  acc 0.9945 || VAL loss 0.5307, acc 0.9184\n",
      "\t70: TRAIN loss 0.1939,  acc 0.9685 || VAL loss 0.6145, acc 0.9018\n",
      "\t80: TRAIN loss 0.0633,  acc 0.9951 || VAL loss 0.5282, acc 0.9256\n",
      "\t90: TRAIN loss 0.0636,  acc 0.9943 || VAL loss 0.5438, acc 0.9272\n",
      "\t100: TRAIN loss 0.0596,  acc 0.9951 || VAL loss 0.5389, acc 0.9319\n",
      "\t110: TRAIN loss 0.0613,  acc 0.9943 || VAL loss 0.5591, acc 0.9208\n",
      "\t120: TRAIN loss 0.0603,  acc 0.9954 || VAL loss 0.5076, acc 0.9224\n",
      "\t130: TRAIN loss 0.0599,  acc 0.9945 || VAL loss 0.5294, acc 0.9264\n",
      "\t140: TRAIN loss 0.0588,  acc 0.9951 || VAL loss 0.5563, acc 0.9208\n",
      "\t150: TRAIN loss 0.0593,  acc 0.9949 || VAL loss 0.5673, acc 0.9279\n",
      "\t160: TRAIN loss 0.0959,  acc 0.9850 || VAL loss 0.7314, acc 0.8899\n",
      "\t170: TRAIN loss 0.0689,  acc 0.9919 || VAL loss 0.5700, acc 0.9232\n",
      "\t180: TRAIN loss 0.0508,  acc 0.9952 || VAL loss 0.5491, acc 0.9303\n",
      "\t190: TRAIN loss 0.0505,  acc 0.9960 || VAL loss 0.5665, acc 0.9303\n",
      "\t200: TRAIN loss 0.0505,  acc 0.9958 || VAL loss 0.5711, acc 0.9335\n"
     ]
    },
    {
     "name": "stdout",
     "output_type": "stream",
     "text": [
      "\t210: TRAIN loss 0.0511,  acc 0.9954 || VAL loss 0.5631, acc 0.9335\n",
      "\t220: TRAIN loss 0.0521,  acc 0.9954 || VAL loss 0.5820, acc 0.9327\n",
      "\t230: TRAIN loss 0.0524,  acc 0.9949 || VAL loss 0.5833, acc 0.9295\n",
      "\t240: TRAIN loss 0.0518,  acc 0.9952 || VAL loss 0.6204, acc 0.9216\n",
      "\t250: TRAIN loss 0.0507,  acc 0.9958 || VAL loss 0.5847, acc 0.9248\n",
      "\t260: TRAIN loss 0.0500,  acc 0.9958 || VAL loss 0.5874, acc 0.9232\n",
      "\t270: TRAIN loss 0.0498,  acc 0.9962 || VAL loss 0.6061, acc 0.9248\n",
      "\t280: TRAIN loss 0.0504,  acc 0.9954 || VAL loss 0.5992, acc 0.9232\n",
      "\t290: TRAIN loss 0.0501,  acc 0.9960 || VAL loss 0.6126, acc 0.9232\n",
      "512 256 0.9962391132224862 0.9247822644497229\n",
      "\t0: TRAIN loss 7.3812,  acc 0.3385 || VAL loss 5.5105, acc 0.3880\n",
      "\t10: TRAIN loss 1.1158,  acc 0.8563 || VAL loss 1.4142, acc 0.8005\n",
      "\t20: TRAIN loss 1.0553,  acc 0.8941 || VAL loss 1.3648, acc 0.8211\n",
      "\t30: TRAIN loss 0.8654,  acc 0.9305 || VAL loss 1.3045, acc 0.8496\n",
      "\t40: TRAIN loss 0.8225,  acc 0.9452 || VAL loss 1.2558, acc 0.8662\n",
      "\t50: TRAIN loss 0.8103,  acc 0.9479 || VAL loss 1.2797, acc 0.8662\n",
      "\t60: TRAIN loss 0.8367,  acc 0.9359 || VAL loss 1.2927, acc 0.8662\n",
      "\t70: TRAIN loss 0.1696,  acc 0.9798 || VAL loss 0.5941, acc 0.9121\n",
      "\t80: TRAIN loss 0.1076,  acc 0.9919 || VAL loss 0.5391, acc 0.9248\n",
      "\t90: TRAIN loss 0.1046,  acc 0.9921 || VAL loss 0.5708, acc 0.9248\n",
      "\t100: TRAIN loss 0.1072,  acc 0.9915 || VAL loss 0.5938, acc 0.9145\n",
      "\t110: TRAIN loss 0.1040,  acc 0.9925 || VAL loss 0.5770, acc 0.9208\n",
      "\t120: TRAIN loss 0.1028,  acc 0.9921 || VAL loss 0.5785, acc 0.9232\n",
      "\t130: TRAIN loss 0.1030,  acc 0.9913 || VAL loss 0.5953, acc 0.9248\n",
      "\t140: TRAIN loss 0.1035,  acc 0.9921 || VAL loss 0.5892, acc 0.9240\n",
      "\t150: TRAIN loss 0.2190,  acc 0.9749 || VAL loss 0.6903, acc 0.9042\n",
      "\t160: TRAIN loss 0.0459,  acc 0.9956 || VAL loss 0.6272, acc 0.9169\n",
      "\t170: TRAIN loss 0.0454,  acc 0.9958 || VAL loss 0.6289, acc 0.9200\n",
      "\t180: TRAIN loss 0.0450,  acc 0.9954 || VAL loss 0.6378, acc 0.9200\n",
      "\t190: TRAIN loss 0.0444,  acc 0.9958 || VAL loss 0.6329, acc 0.9169\n",
      "\t200: TRAIN loss 0.0453,  acc 0.9952 || VAL loss 0.6453, acc 0.9177\n",
      "\t210: TRAIN loss 0.0448,  acc 0.9954 || VAL loss 0.6427, acc 0.9169\n",
      "\t220: TRAIN loss 0.0450,  acc 0.9956 || VAL loss 0.6071, acc 0.9192\n",
      "\t230: TRAIN loss 0.0439,  acc 0.9960 || VAL loss 0.6117, acc 0.9184\n",
      "\t240: TRAIN loss 0.0444,  acc 0.9958 || VAL loss 0.6095, acc 0.9216\n",
      "\t250: TRAIN loss 0.0441,  acc 0.9962 || VAL loss 0.6337, acc 0.9184\n",
      "\t260: TRAIN loss 0.0440,  acc 0.9960 || VAL loss 0.6350, acc 0.9200\n",
      "\t270: TRAIN loss 0.0436,  acc 0.9960 || VAL loss 0.6365, acc 0.9224\n",
      "\t280: TRAIN loss 0.0443,  acc 0.9952 || VAL loss 0.6372, acc 0.9192\n",
      "\t290: TRAIN loss 0.0441,  acc 0.9956 || VAL loss 0.6455, acc 0.9256\n",
      "512 512 0.9962391132224862 0.9239904988123515\n",
      "\t0: TRAIN loss 8.4977,  acc 0.3169 || VAL loss 6.3630, acc 0.3808\n",
      "\t10: TRAIN loss 3.4180,  acc 0.7340 || VAL loss 3.0665, acc 0.6508\n",
      "\t20: TRAIN loss 0.2926,  acc 0.9440 || VAL loss 0.6786, acc 0.8797\n",
      "\t30: TRAIN loss 0.1041,  acc 0.9889 || VAL loss 0.5660, acc 0.9066\n",
      "\t40: TRAIN loss 0.0923,  acc 0.9919 || VAL loss 0.5614, acc 0.9177\n",
      "\t50: TRAIN loss 0.1708,  acc 0.9749 || VAL loss 0.7314, acc 0.8979\n",
      "\t60: TRAIN loss 0.1836,  acc 0.9780 || VAL loss 0.6299, acc 0.9018\n",
      "\t70: TRAIN loss 0.1717,  acc 0.9879 || VAL loss 0.6239, acc 0.9248\n",
      "\t80: TRAIN loss 0.1702,  acc 0.9881 || VAL loss 0.6320, acc 0.9216\n",
      "\t90: TRAIN loss 0.1701,  acc 0.9881 || VAL loss 0.6369, acc 0.9192\n",
      "\t100: TRAIN loss 0.1716,  acc 0.9877 || VAL loss 0.6459, acc 0.9200\n",
      "\t110: TRAIN loss 0.1710,  acc 0.9873 || VAL loss 0.6614, acc 0.9161\n",
      "\t120: TRAIN loss 0.0632,  acc 0.9947 || VAL loss 0.5841, acc 0.9232\n",
      "\t130: TRAIN loss 0.0606,  acc 0.9947 || VAL loss 0.6068, acc 0.9145\n",
      "\t140: TRAIN loss 0.0608,  acc 0.9941 || VAL loss 0.5977, acc 0.9184\n",
      "\t150: TRAIN loss 0.1419,  acc 0.9871 || VAL loss 0.6111, acc 0.9177\n",
      "\t160: TRAIN loss 0.1242,  acc 0.9905 || VAL loss 0.6054, acc 0.9272\n",
      "\t170: TRAIN loss 0.1236,  acc 0.9913 || VAL loss 0.6100, acc 0.9287\n",
      "\t180: TRAIN loss 0.1235,  acc 0.9913 || VAL loss 0.6111, acc 0.9295\n",
      "\t190: TRAIN loss 0.1237,  acc 0.9909 || VAL loss 0.6173, acc 0.9287\n",
      "\t200: TRAIN loss 0.1249,  acc 0.9911 || VAL loss 0.6187, acc 0.9327\n",
      "\t210: TRAIN loss 0.1245,  acc 0.9907 || VAL loss 0.6164, acc 0.9287\n",
      "\t220: TRAIN loss 0.0621,  acc 0.9939 || VAL loss 0.5954, acc 0.9272\n",
      "\t230: TRAIN loss 0.0499,  acc 0.9958 || VAL loss 0.5678, acc 0.9343\n",
      "\t240: TRAIN loss 0.0503,  acc 0.9952 || VAL loss 0.5714, acc 0.9359\n",
      "\t250: TRAIN loss 0.0499,  acc 0.9956 || VAL loss 0.5777, acc 0.9351\n",
      "\t260: TRAIN loss 0.0498,  acc 0.9960 || VAL loss 0.5831, acc 0.9335\n",
      "\t270: TRAIN loss 0.0505,  acc 0.9958 || VAL loss 0.5894, acc 0.9375\n",
      "\t280: TRAIN loss 0.0503,  acc 0.9956 || VAL loss 0.5874, acc 0.9343\n",
      "\t290: TRAIN loss 0.0497,  acc 0.9952 || VAL loss 0.5830, acc 0.9351\n",
      "512 1024 0.9827790973871734 0.894695170229612\n",
      "\t0: TRAIN loss 2.9521,  acc 0.1291 || VAL loss 2.2910, acc 0.1291\n",
      "\t10: TRAIN loss 2.2217,  acc 0.1429 || VAL loss 2.2655, acc 0.1354\n",
      "\t20: TRAIN loss 2.1724,  acc 0.1625 || VAL loss 2.1792, acc 0.1623\n",
      "\t30: TRAIN loss 2.1017,  acc 0.1781 || VAL loss 2.1037, acc 0.1797\n",
      "\t40: TRAIN loss 1.8927,  acc 0.2407 || VAL loss 1.9536, acc 0.2241\n",
      "\t50: TRAIN loss 1.7870,  acc 0.2668 || VAL loss 1.8799, acc 0.2542\n",
      "\t60: TRAIN loss 1.6233,  acc 0.3533 || VAL loss 1.7472, acc 0.3080\n",
      "\t70: TRAIN loss 0.7926,  acc 0.6936 || VAL loss 1.0453, acc 0.6556\n",
      "\t80: TRAIN loss 0.4471,  acc 0.8525 || VAL loss 0.7221, acc 0.8013\n",
      "\t90: TRAIN loss 0.3358,  acc 0.8886 || VAL loss 0.6512, acc 0.8187\n",
      "\t100: TRAIN loss 0.2058,  acc 0.9297 || VAL loss 0.7273, acc 0.8488\n",
      "\t110: TRAIN loss 0.1606,  acc 0.9450 || VAL loss 0.6480, acc 0.8717\n",
      "\t120: TRAIN loss 0.1504,  acc 0.9555 || VAL loss 0.7118, acc 0.8702\n",
      "\t130: TRAIN loss 0.1624,  acc 0.9539 || VAL loss 0.7140, acc 0.8646\n",
      "\t140: TRAIN loss 0.1035,  acc 0.9705 || VAL loss 0.6761, acc 0.8939\n",
      "\t150: TRAIN loss 0.1280,  acc 0.9662 || VAL loss 0.6887, acc 0.8868\n",
      "\t160: TRAIN loss 0.1083,  acc 0.9705 || VAL loss 0.7239, acc 0.8828\n",
      "\t170: TRAIN loss 0.0846,  acc 0.9745 || VAL loss 0.6897, acc 0.8947\n",
      "\t180: TRAIN loss 0.1209,  acc 0.9606 || VAL loss 0.7176, acc 0.8702\n",
      "\t190: TRAIN loss 0.0782,  acc 0.9760 || VAL loss 0.6671, acc 0.8892\n",
      "\t200: TRAIN loss 0.0687,  acc 0.9792 || VAL loss 0.7135, acc 0.8915\n",
      "\t210: TRAIN loss 0.0822,  acc 0.9768 || VAL loss 0.7079, acc 0.8852\n",
      "\t220: TRAIN loss 0.0723,  acc 0.9751 || VAL loss 0.7129, acc 0.8947\n",
      "\t230: TRAIN loss 0.0706,  acc 0.9794 || VAL loss 0.7987, acc 0.8725\n",
      "\t240: TRAIN loss 0.0659,  acc 0.9812 || VAL loss 0.6767, acc 0.8931\n",
      "\t250: TRAIN loss 0.0630,  acc 0.9806 || VAL loss 0.7226, acc 0.8939\n",
      "\t260: TRAIN loss 0.1243,  acc 0.9608 || VAL loss 0.8350, acc 0.8733\n",
      "\t270: TRAIN loss 0.0528,  acc 0.9818 || VAL loss 0.7336, acc 0.8939\n",
      "\t280: TRAIN loss 0.0606,  acc 0.9808 || VAL loss 0.7324, acc 0.8899\n",
      "\t290: TRAIN loss 0.0530,  acc 0.9822 || VAL loss 0.7498, acc 0.8892\n",
      "1024 16 0.9825811559778306 0.889944576405384\n",
      "\t0: TRAIN loss 2.9453,  acc 0.2506 || VAL loss 1.9403, acc 0.3444\n",
      "\t10: TRAIN loss 0.9252,  acc 0.7098 || VAL loss 1.0123, acc 0.6857\n",
      "\t20: TRAIN loss 0.4037,  acc 0.8747 || VAL loss 0.6773, acc 0.8250\n",
      "\t30: TRAIN loss 0.2350,  acc 0.9361 || VAL loss 0.6164, acc 0.8432\n",
      "\t40: TRAIN loss 0.1430,  acc 0.9640 || VAL loss 0.6057, acc 0.8773\n",
      "\t50: TRAIN loss 0.1295,  acc 0.9685 || VAL loss 0.5881, acc 0.8844\n",
      "\t60: TRAIN loss 0.0794,  acc 0.9846 || VAL loss 0.5424, acc 0.9050\n",
      "\t70: TRAIN loss 0.1396,  acc 0.9701 || VAL loss 0.6750, acc 0.8820\n",
      "\t80: TRAIN loss 0.0474,  acc 0.9941 || VAL loss 0.5719, acc 0.9050\n",
      "\t90: TRAIN loss 0.0398,  acc 0.9952 || VAL loss 0.6111, acc 0.9042\n",
      "\t100: TRAIN loss 0.0497,  acc 0.9923 || VAL loss 0.5910, acc 0.9050\n",
      "\t110: TRAIN loss 0.0347,  acc 0.9935 || VAL loss 0.6023, acc 0.8994\n",
      "\t120: TRAIN loss 0.0295,  acc 0.9952 || VAL loss 0.6247, acc 0.9050\n",
      "\t130: TRAIN loss 0.0446,  acc 0.9887 || VAL loss 0.6581, acc 0.8971\n",
      "\t140: TRAIN loss 0.1092,  acc 0.9757 || VAL loss 0.7532, acc 0.8884\n",
      "\t150: TRAIN loss 0.0370,  acc 0.9931 || VAL loss 0.6974, acc 0.9050\n",
      "\t160: TRAIN loss 0.0519,  acc 0.9879 || VAL loss 0.6653, acc 0.8979\n",
      "\t170: TRAIN loss 0.0537,  acc 0.9899 || VAL loss 0.7597, acc 0.8987\n",
      "\t180: TRAIN loss 0.0465,  acc 0.9909 || VAL loss 0.7128, acc 0.8923\n",
      "\t190: TRAIN loss 0.0428,  acc 0.9911 || VAL loss 0.7464, acc 0.8947\n"
     ]
    },
    {
     "name": "stdout",
     "output_type": "stream",
     "text": [
      "\t200: TRAIN loss 0.0244,  acc 0.9962 || VAL loss 0.6309, acc 0.9177\n",
      "\t210: TRAIN loss 0.0237,  acc 0.9958 || VAL loss 0.6223, acc 0.9184\n",
      "\t220: TRAIN loss 0.0246,  acc 0.9960 || VAL loss 0.6475, acc 0.9169\n",
      "\t230: TRAIN loss 0.0378,  acc 0.9907 || VAL loss 0.7485, acc 0.8994\n",
      "\t240: TRAIN loss 0.0295,  acc 0.9949 || VAL loss 0.6849, acc 0.9113\n",
      "\t250: TRAIN loss 0.0254,  acc 0.9956 || VAL loss 0.6764, acc 0.9145\n",
      "\t260: TRAIN loss 0.0204,  acc 0.9966 || VAL loss 0.6802, acc 0.9153\n",
      "\t270: TRAIN loss 0.0217,  acc 0.9960 || VAL loss 0.7020, acc 0.9121\n",
      "\t280: TRAIN loss 0.0204,  acc 0.9968 || VAL loss 0.6794, acc 0.9208\n",
      "\t290: TRAIN loss 0.0195,  acc 0.9960 || VAL loss 0.6879, acc 0.9208\n",
      "1024 32 0.9958432304038005 0.9089469517022961\n",
      "\t0: TRAIN loss 6.2973,  acc 0.3418 || VAL loss 3.9219, acc 0.4561\n",
      "\t10: TRAIN loss 0.4223,  acc 0.8862 || VAL loss 0.7496, acc 0.8337\n",
      "\t20: TRAIN loss 0.2947,  acc 0.9242 || VAL loss 0.6926, acc 0.8551\n",
      "\t30: TRAIN loss 0.2001,  acc 0.9561 || VAL loss 0.5908, acc 0.8804\n",
      "\t40: TRAIN loss 0.1533,  acc 0.9699 || VAL loss 0.6665, acc 0.8836\n",
      "\t50: TRAIN loss 0.0597,  acc 0.9915 || VAL loss 0.5151, acc 0.9129\n",
      "\t60: TRAIN loss 0.0569,  acc 0.9901 || VAL loss 0.5503, acc 0.9082\n",
      "\t70: TRAIN loss 0.0527,  acc 0.9921 || VAL loss 0.5569, acc 0.9082\n",
      "\t80: TRAIN loss 0.0468,  acc 0.9947 || VAL loss 0.5537, acc 0.9082\n",
      "\t90: TRAIN loss 0.1270,  acc 0.9808 || VAL loss 0.6045, acc 0.8955\n",
      "\t100: TRAIN loss 0.0978,  acc 0.9915 || VAL loss 0.5675, acc 0.9129\n",
      "\t110: TRAIN loss 0.0811,  acc 0.9937 || VAL loss 0.5414, acc 0.9208\n",
      "\t120: TRAIN loss 0.0801,  acc 0.9933 || VAL loss 0.5528, acc 0.9177\n",
      "\t130: TRAIN loss 0.0860,  acc 0.9921 || VAL loss 0.6050, acc 0.9161\n",
      "\t140: TRAIN loss 0.0809,  acc 0.9929 || VAL loss 0.5781, acc 0.9208\n",
      "\t150: TRAIN loss 0.1219,  acc 0.9818 || VAL loss 0.6025, acc 0.9097\n",
      "\t160: TRAIN loss 0.0776,  acc 0.9939 || VAL loss 0.5705, acc 0.9224\n",
      "\t170: TRAIN loss 0.0769,  acc 0.9883 || VAL loss 0.7965, acc 0.8892\n",
      "\t180: TRAIN loss 0.0712,  acc 0.9943 || VAL loss 0.6020, acc 0.9113\n",
      "\t190: TRAIN loss 0.0716,  acc 0.9943 || VAL loss 0.5899, acc 0.9200\n",
      "\t200: TRAIN loss 0.0716,  acc 0.9941 || VAL loss 0.5871, acc 0.9200\n",
      "\t210: TRAIN loss 0.0739,  acc 0.9931 || VAL loss 0.6542, acc 0.9153\n",
      "\t220: TRAIN loss 0.0650,  acc 0.9949 || VAL loss 0.5739, acc 0.9224\n",
      "\t230: TRAIN loss 0.0653,  acc 0.9945 || VAL loss 0.5640, acc 0.9208\n",
      "\t240: TRAIN loss 0.0648,  acc 0.9943 || VAL loss 0.5714, acc 0.9216\n",
      "\t250: TRAIN loss 0.0637,  acc 0.9941 || VAL loss 0.5757, acc 0.9161\n",
      "\t260: TRAIN loss 0.0648,  acc 0.9941 || VAL loss 0.5697, acc 0.9200\n",
      "\t270: TRAIN loss 0.1284,  acc 0.9747 || VAL loss 0.7983, acc 0.8789\n",
      "\t280: TRAIN loss 0.0391,  acc 0.9960 || VAL loss 0.5647, acc 0.9240\n",
      "\t290: TRAIN loss 0.0383,  acc 0.9964 || VAL loss 0.5699, acc 0.9232\n",
      "1024 64 0.9970308788598575 0.9231987331749802\n",
      "\t0: TRAIN loss 6.8576,  acc 0.3286 || VAL loss 3.4156, acc 0.4735\n",
      "\t10: TRAIN loss 0.4759,  acc 0.8897 || VAL loss 0.7382, acc 0.8377\n",
      "\t20: TRAIN loss 0.4227,  acc 0.9208 || VAL loss 0.6960, acc 0.8583\n",
      "\t30: TRAIN loss 0.1176,  acc 0.9737 || VAL loss 0.4911, acc 0.8963\n",
      "\t40: TRAIN loss 0.0748,  acc 0.9891 || VAL loss 0.4536, acc 0.9105\n",
      "\t50: TRAIN loss 0.2003,  acc 0.9586 || VAL loss 0.5921, acc 0.8979\n",
      "\t60: TRAIN loss 0.0819,  acc 0.9897 || VAL loss 0.5879, acc 0.9082\n",
      "\t70: TRAIN loss 0.0550,  acc 0.9949 || VAL loss 0.5379, acc 0.9177\n",
      "\t80: TRAIN loss 0.0516,  acc 0.9956 || VAL loss 0.5295, acc 0.9216\n",
      "\t90: TRAIN loss 0.0633,  acc 0.9921 || VAL loss 0.5945, acc 0.9066\n",
      "\t100: TRAIN loss 0.0638,  acc 0.9925 || VAL loss 0.4713, acc 0.9224\n",
      "\t110: TRAIN loss 0.0386,  acc 0.9954 || VAL loss 0.4693, acc 0.9248\n",
      "\t120: TRAIN loss 0.0382,  acc 0.9956 || VAL loss 0.4879, acc 0.9224\n",
      "\t130: TRAIN loss 0.0365,  acc 0.9962 || VAL loss 0.4596, acc 0.9311\n",
      "\t140: TRAIN loss 0.0365,  acc 0.9964 || VAL loss 0.4668, acc 0.9279\n",
      "\t150: TRAIN loss 0.0372,  acc 0.9960 || VAL loss 0.5129, acc 0.9264\n",
      "\t160: TRAIN loss 0.0607,  acc 0.9909 || VAL loss 0.6057, acc 0.9074\n",
      "\t170: TRAIN loss 0.0547,  acc 0.9952 || VAL loss 0.5485, acc 0.9256\n",
      "\t180: TRAIN loss 0.0551,  acc 0.9945 || VAL loss 0.5531, acc 0.9232\n",
      "\t190: TRAIN loss 0.0556,  acc 0.9949 || VAL loss 0.5627, acc 0.9208\n",
      "\t200: TRAIN loss 0.0542,  acc 0.9956 || VAL loss 0.5555, acc 0.9248\n",
      "\t210: TRAIN loss 0.0537,  acc 0.9954 || VAL loss 0.5742, acc 0.9208\n",
      "\t220: TRAIN loss 0.0544,  acc 0.9947 || VAL loss 0.5593, acc 0.9248\n",
      "\t230: TRAIN loss 0.0548,  acc 0.9947 || VAL loss 0.5787, acc 0.9224\n",
      "\t240: TRAIN loss 0.0417,  acc 0.9958 || VAL loss 0.5068, acc 0.9232\n",
      "\t250: TRAIN loss 0.0380,  acc 0.9964 || VAL loss 0.5242, acc 0.9216\n",
      "\t260: TRAIN loss 0.0375,  acc 0.9960 || VAL loss 0.5304, acc 0.9264\n",
      "\t270: TRAIN loss 0.0379,  acc 0.9960 || VAL loss 0.5220, acc 0.9264\n",
      "\t280: TRAIN loss 0.0377,  acc 0.9964 || VAL loss 0.5275, acc 0.9279\n",
      "\t290: TRAIN loss 0.0376,  acc 0.9964 || VAL loss 0.5419, acc 0.9303\n",
      "1024 128 0.9968329374505146 0.9279493269992082\n",
      "\t0: TRAIN loss 7.9297,  acc 0.3298 || VAL loss 6.6438, acc 0.4086\n",
      "\t10: TRAIN loss 2.4360,  acc 0.7922 || VAL loss 2.7539, acc 0.7031\n",
      "\t20: TRAIN loss 0.3097,  acc 0.9325 || VAL loss 0.5481, acc 0.8852\n",
      "\t30: TRAIN loss 0.1945,  acc 0.9699 || VAL loss 0.5130, acc 0.9002\n",
      "\t40: TRAIN loss 0.3906,  acc 0.9339 || VAL loss 0.7293, acc 0.8654\n",
      "\t50: TRAIN loss 0.1493,  acc 0.9739 || VAL loss 0.5339, acc 0.9129\n",
      "\t60: TRAIN loss 0.0722,  acc 0.9939 || VAL loss 0.5317, acc 0.9240\n",
      "\t70: TRAIN loss 0.0675,  acc 0.9941 || VAL loss 0.5363, acc 0.9264\n",
      "\t80: TRAIN loss 0.0762,  acc 0.9913 || VAL loss 0.5581, acc 0.9192\n",
      "\t90: TRAIN loss 0.0591,  acc 0.9935 || VAL loss 0.5081, acc 0.9367\n",
      "\t100: TRAIN loss 0.0526,  acc 0.9954 || VAL loss 0.5300, acc 0.9319\n",
      "\t110: TRAIN loss 0.0532,  acc 0.9952 || VAL loss 0.5276, acc 0.9287\n",
      "\t120: TRAIN loss 0.1106,  acc 0.9871 || VAL loss 0.8853, acc 0.8654\n",
      "\t130: TRAIN loss 0.0557,  acc 0.9933 || VAL loss 0.5534, acc 0.9224\n",
      "\t140: TRAIN loss 0.0415,  acc 0.9964 || VAL loss 0.5600, acc 0.9295\n",
      "\t150: TRAIN loss 0.0416,  acc 0.9960 || VAL loss 0.5482, acc 0.9327\n",
      "\t160: TRAIN loss 0.0427,  acc 0.9954 || VAL loss 0.5555, acc 0.9295\n",
      "\t170: TRAIN loss 0.0417,  acc 0.9956 || VAL loss 0.5664, acc 0.9295\n",
      "\t180: TRAIN loss 0.0417,  acc 0.9958 || VAL loss 0.5570, acc 0.9303\n",
      "\t190: TRAIN loss 0.0904,  acc 0.9877 || VAL loss 0.5490, acc 0.9200\n",
      "\t200: TRAIN loss 0.0419,  acc 0.9960 || VAL loss 0.4967, acc 0.9351\n",
      "\t210: TRAIN loss 0.0414,  acc 0.9960 || VAL loss 0.5029, acc 0.9351\n",
      "\t220: TRAIN loss 0.0411,  acc 0.9960 || VAL loss 0.5041, acc 0.9375\n",
      "\t230: TRAIN loss 0.0408,  acc 0.9958 || VAL loss 0.5079, acc 0.9382\n",
      "\t240: TRAIN loss 0.0412,  acc 0.9962 || VAL loss 0.5180, acc 0.9367\n",
      "\t250: TRAIN loss 0.0413,  acc 0.9960 || VAL loss 0.5125, acc 0.9390\n",
      "\t260: TRAIN loss 0.0423,  acc 0.9954 || VAL loss 0.5052, acc 0.9398\n",
      "\t270: TRAIN loss 0.0418,  acc 0.9958 || VAL loss 0.5217, acc 0.9343\n",
      "\t280: TRAIN loss 0.0407,  acc 0.9962 || VAL loss 0.5231, acc 0.9335\n",
      "\t290: TRAIN loss 0.0406,  acc 0.9962 || VAL loss 0.5345, acc 0.9319\n",
      "1024 256 0.9966349960411718 0.9334916864608076\n",
      "\t0: TRAIN loss 9.0883,  acc 0.3147 || VAL loss 7.8745, acc 0.4244\n",
      "\t10: TRAIN loss 2.9147,  acc 0.7767 || VAL loss 3.1006, acc 0.7387\n",
      "\t20: TRAIN loss 2.7680,  acc 0.8224 || VAL loss 2.9635, acc 0.7815\n",
      "\t30: TRAIN loss 0.2170,  acc 0.9477 || VAL loss 0.5740, acc 0.8931\n",
      "\t40: TRAIN loss 0.0893,  acc 0.9856 || VAL loss 0.5337, acc 0.9145\n",
      "\t50: TRAIN loss 0.0557,  acc 0.9947 || VAL loss 0.5041, acc 0.9192\n",
      "\t60: TRAIN loss 0.0637,  acc 0.9921 || VAL loss 0.5379, acc 0.9192\n",
      "\t70: TRAIN loss 0.0561,  acc 0.9949 || VAL loss 0.5201, acc 0.9192\n",
      "\t80: TRAIN loss 0.1090,  acc 0.9774 || VAL loss 0.7604, acc 0.8725\n",
      "\t90: TRAIN loss 0.0967,  acc 0.9856 || VAL loss 0.6019, acc 0.9153\n",
      "\t100: TRAIN loss 0.0589,  acc 0.9943 || VAL loss 0.5141, acc 0.9295\n",
      "\t110: TRAIN loss 0.0569,  acc 0.9954 || VAL loss 0.5234, acc 0.9272\n",
      "\t120: TRAIN loss 0.0576,  acc 0.9947 || VAL loss 0.5526, acc 0.9240\n",
      "\t130: TRAIN loss 0.0579,  acc 0.9951 || VAL loss 0.5208, acc 0.9264\n",
      "\t140: TRAIN loss 0.0591,  acc 0.9941 || VAL loss 0.5282, acc 0.9279\n",
      "\t150: TRAIN loss 0.0579,  acc 0.9943 || VAL loss 0.5372, acc 0.9279\n",
      "\t160: TRAIN loss 0.0572,  acc 0.9947 || VAL loss 0.5353, acc 0.9279\n",
      "\t170: TRAIN loss 0.0569,  acc 0.9949 || VAL loss 0.5314, acc 0.9327\n",
      "\t180: TRAIN loss 0.0574,  acc 0.9951 || VAL loss 0.5545, acc 0.9303\n"
     ]
    },
    {
     "name": "stdout",
     "output_type": "stream",
     "text": [
      "\t190: TRAIN loss 0.1358,  acc 0.9848 || VAL loss 0.5936, acc 0.9153\n",
      "\t200: TRAIN loss 0.0698,  acc 0.9947 || VAL loss 0.5427, acc 0.9311\n",
      "\t210: TRAIN loss 0.0696,  acc 0.9941 || VAL loss 0.5569, acc 0.9335\n",
      "\t220: TRAIN loss 0.0695,  acc 0.9947 || VAL loss 0.5581, acc 0.9311\n",
      "\t230: TRAIN loss 0.1386,  acc 0.9869 || VAL loss 0.6688, acc 0.9145\n",
      "\t240: TRAIN loss 0.1237,  acc 0.9915 || VAL loss 0.6245, acc 0.9264\n",
      "\t250: TRAIN loss 0.1236,  acc 0.9907 || VAL loss 0.6303, acc 0.9256\n",
      "\t260: TRAIN loss 0.1235,  acc 0.9913 || VAL loss 0.6336, acc 0.9272\n",
      "\t270: TRAIN loss 0.1242,  acc 0.9905 || VAL loss 0.6283, acc 0.9256\n",
      "\t280: TRAIN loss 0.1235,  acc 0.9907 || VAL loss 0.6339, acc 0.9256\n",
      "\t290: TRAIN loss 0.1243,  acc 0.9850 || VAL loss 0.7558, acc 0.9105\n",
      "1024 512 0.9956452889944576 0.9279493269992082\n",
      "\t0: TRAIN loss 11.2469,  acc 0.2520 || VAL loss 11.4968, acc 0.2581\n",
      "\t10: TRAIN loss 0.5381,  acc 0.9080 || VAL loss 0.8312, acc 0.8464\n",
      "\t20: TRAIN loss 0.2277,  acc 0.9757 || VAL loss 0.6101, acc 0.8994\n",
      "\t30: TRAIN loss 0.1445,  acc 0.9861 || VAL loss 0.6771, acc 0.9066\n",
      "\t40: TRAIN loss 0.1223,  acc 0.9867 || VAL loss 0.6458, acc 0.9058\n",
      "\t50: TRAIN loss 0.1057,  acc 0.9917 || VAL loss 0.6208, acc 0.9200\n",
      "\t60: TRAIN loss 0.1039,  acc 0.9917 || VAL loss 0.6293, acc 0.9200\n",
      "\t70: TRAIN loss 0.1037,  acc 0.9917 || VAL loss 0.6364, acc 0.9224\n",
      "\t80: TRAIN loss 0.3572,  acc 0.9309 || VAL loss 0.6600, acc 0.8884\n",
      "\t90: TRAIN loss 0.1026,  acc 0.9919 || VAL loss 0.5592, acc 0.9264\n",
      "\t100: TRAIN loss 0.0924,  acc 0.9931 || VAL loss 0.5697, acc 0.9287\n",
      "\t110: TRAIN loss 0.0931,  acc 0.9927 || VAL loss 0.5800, acc 0.9256\n",
      "\t120: TRAIN loss 0.0924,  acc 0.9931 || VAL loss 0.5859, acc 0.9248\n",
      "\t130: TRAIN loss 0.0931,  acc 0.9931 || VAL loss 0.6232, acc 0.9200\n",
      "\t140: TRAIN loss 0.2101,  acc 0.9762 || VAL loss 0.7044, acc 0.9082\n",
      "\t150: TRAIN loss 0.0746,  acc 0.9919 || VAL loss 0.6489, acc 0.9272\n",
      "\t160: TRAIN loss 0.0665,  acc 0.9945 || VAL loss 0.6254, acc 0.9272\n",
      "\t170: TRAIN loss 0.0662,  acc 0.9949 || VAL loss 0.6287, acc 0.9279\n",
      "\t180: TRAIN loss 0.0664,  acc 0.9947 || VAL loss 0.6283, acc 0.9232\n",
      "\t190: TRAIN loss 0.0660,  acc 0.9945 || VAL loss 0.6320, acc 0.9295\n",
      "\t200: TRAIN loss 0.0672,  acc 0.9945 || VAL loss 0.6395, acc 0.9272\n",
      "\t210: TRAIN loss 0.0732,  acc 0.9933 || VAL loss 0.7437, acc 0.9082\n",
      "\t220: TRAIN loss 0.0635,  acc 0.9945 || VAL loss 0.6097, acc 0.9272\n",
      "\t230: TRAIN loss 0.0626,  acc 0.9951 || VAL loss 0.6229, acc 0.9264\n",
      "\t240: TRAIN loss 0.0626,  acc 0.9951 || VAL loss 0.6186, acc 0.9272\n",
      "\t250: TRAIN loss 0.0627,  acc 0.9951 || VAL loss 0.6263, acc 0.9287\n",
      "\t260: TRAIN loss 0.0628,  acc 0.9949 || VAL loss 0.6284, acc 0.9279\n",
      "\t270: TRAIN loss 0.1122,  acc 0.9850 || VAL loss 0.7451, acc 0.9018\n",
      "\t280: TRAIN loss 0.0659,  acc 0.9945 || VAL loss 0.6204, acc 0.9295\n",
      "\t290: TRAIN loss 0.0655,  acc 0.9947 || VAL loss 0.6156, acc 0.9303\n",
      "1024 1024 0.9954473475851148 0.9311163895486936\n"
     ]
    }
   ],
   "source": [
    "results=[]\n",
    "for n_layer1 in [16,32,64,128,256,2*256,4*256]:\n",
    "    for n_layer2 in [16,32,64,128,256,2*256,4*256]:\n",
    "        # Build the Estimator\n",
    "        model=build_model(n_layer1,n_layer2)\n",
    "        model.fit(features_train,labels_train,validation_data=(features_val,labels_val),\n",
    "                  epochs=nepochs,batch_size=100,\n",
    "                  verbose=0,callbacks=[ReportCallback(10)])\n",
    "        Y_pred=np.argmax(model.predict(features_train),axis=1)\n",
    "        acc_train=np.mean(Y_pred==labels_train)\n",
    "        Y_pred=np.argmax(model.predict(features_val),axis=1)\n",
    "        acc_val=np.mean(Y_pred==labels_val)\n",
    "        print(n_layer1,n_layer2,acc_train,acc_val)\n",
    "        results.append((n_layer1,n_layer2,acc_train,acc_val))\n",
    "        "
   ]
  },
  {
   "cell_type": "code",
   "execution_count": 85,
   "metadata": {
    "ExecuteTime": {
     "end_time": "2019-01-14T13:01:10.748990Z",
     "start_time": "2019-01-14T13:01:10.717731Z"
    }
   },
   "outputs": [
    {
     "data": {
      "text/html": [
       "<div>\n",
       "<style scoped>\n",
       "    .dataframe tbody tr th:only-of-type {\n",
       "        vertical-align: middle;\n",
       "    }\n",
       "\n",
       "    .dataframe tbody tr th {\n",
       "        vertical-align: top;\n",
       "    }\n",
       "\n",
       "    .dataframe thead th {\n",
       "        text-align: right;\n",
       "    }\n",
       "</style>\n",
       "<table border=\"1\" class=\"dataframe\">\n",
       "  <thead>\n",
       "    <tr style=\"text-align: right;\">\n",
       "      <th></th>\n",
       "      <th>layer1</th>\n",
       "      <th>layer2</th>\n",
       "      <th>train</th>\n",
       "      <th>valuation</th>\n",
       "    </tr>\n",
       "  </thead>\n",
       "  <tbody>\n",
       "    <tr>\n",
       "      <th>0</th>\n",
       "      <td>16</td>\n",
       "      <td>16</td>\n",
       "      <td>0.884600</td>\n",
       "      <td>0.762470</td>\n",
       "    </tr>\n",
       "    <tr>\n",
       "      <th>1</th>\n",
       "      <td>16</td>\n",
       "      <td>32</td>\n",
       "      <td>0.923199</td>\n",
       "      <td>0.806017</td>\n",
       "    </tr>\n",
       "    <tr>\n",
       "      <th>2</th>\n",
       "      <td>16</td>\n",
       "      <td>64</td>\n",
       "      <td>0.967538</td>\n",
       "      <td>0.813143</td>\n",
       "    </tr>\n",
       "    <tr>\n",
       "      <th>3</th>\n",
       "      <td>16</td>\n",
       "      <td>128</td>\n",
       "      <td>0.985352</td>\n",
       "      <td>0.836105</td>\n",
       "    </tr>\n",
       "    <tr>\n",
       "      <th>4</th>\n",
       "      <td>16</td>\n",
       "      <td>256</td>\n",
       "      <td>0.998416</td>\n",
       "      <td>0.857482</td>\n",
       "    </tr>\n",
       "  </tbody>\n",
       "</table>\n",
       "</div>"
      ],
      "text/plain": [
       "   layer1  layer2     train  valuation\n",
       "0      16      16  0.884600   0.762470\n",
       "1      16      32  0.923199   0.806017\n",
       "2      16      64  0.967538   0.813143\n",
       "3      16     128  0.985352   0.836105\n",
       "4      16     256  0.998416   0.857482"
      ]
     },
     "execution_count": 85,
     "metadata": {},
     "output_type": "execute_result"
    }
   ],
   "source": [
    "data=pd.DataFrame(results,columns=[\"layer1\",\"layer2\",\"train\",\"valuation\"])\n",
    "data.head()"
   ]
  },
  {
   "cell_type": "code",
   "execution_count": 88,
   "metadata": {
    "ExecuteTime": {
     "end_time": "2019-01-14T13:01:25.296007Z",
     "start_time": "2019-01-14T13:01:25.264745Z"
    }
   },
   "outputs": [
    {
     "ename": "NameError",
     "evalue": "name 'data_dir' is not defined",
     "output_type": "error",
     "traceback": [
      "\u001b[1;31m---------------------------------------------------------------------------\u001b[0m",
      "\u001b[1;31mNameError\u001b[0m                                 Traceback (most recent call last)",
      "\u001b[1;32m<ipython-input-88-fa502d19aa37>\u001b[0m in \u001b[0;36m<module>\u001b[1;34m()\u001b[0m\n\u001b[1;32m----> 1\u001b[1;33m \u001b[0mdata\u001b[0m\u001b[1;33m.\u001b[0m\u001b[0mto_csv\u001b[0m\u001b[1;33m(\u001b[0m\u001b[0mdata_dir\u001b[0m\u001b[1;33m+\u001b[0m\u001b[1;34m\"/DNN_layer_accuracy.csv\"\u001b[0m\u001b[1;33m)\u001b[0m\u001b[1;33m\u001b[0m\u001b[0m\n\u001b[0m",
      "\u001b[1;31mNameError\u001b[0m: name 'data_dir' is not defined"
     ]
    }
   ],
   "source": [
    "data.to_csv(data_dir+\"/DNN_layer_accuracy.csv\")"
   ]
  },
  {
   "cell_type": "code",
   "execution_count": 89,
   "metadata": {
    "ExecuteTime": {
     "end_time": "2019-01-14T13:01:34.193670Z",
     "start_time": "2019-01-14T13:01:34.178057Z"
    }
   },
   "outputs": [],
   "source": [
    "val_error=data[[\"layer1\",\"layer2\",\"valuation\"]]"
   ]
  },
  {
   "cell_type": "code",
   "execution_count": 90,
   "metadata": {
    "ExecuteTime": {
     "end_time": "2019-01-14T13:01:35.353038Z",
     "start_time": "2019-01-14T13:01:35.321798Z"
    }
   },
   "outputs": [
    {
     "data": {
      "text/html": [
       "<div>\n",
       "<style scoped>\n",
       "    .dataframe tbody tr th:only-of-type {\n",
       "        vertical-align: middle;\n",
       "    }\n",
       "\n",
       "    .dataframe tbody tr th {\n",
       "        vertical-align: top;\n",
       "    }\n",
       "\n",
       "    .dataframe thead th {\n",
       "        text-align: right;\n",
       "    }\n",
       "</style>\n",
       "<table border=\"1\" class=\"dataframe\">\n",
       "  <thead>\n",
       "    <tr style=\"text-align: right;\">\n",
       "      <th></th>\n",
       "      <th>layer1</th>\n",
       "      <th>layer2</th>\n",
       "      <th>valuation</th>\n",
       "    </tr>\n",
       "  </thead>\n",
       "  <tbody>\n",
       "    <tr>\n",
       "      <th>0</th>\n",
       "      <td>16</td>\n",
       "      <td>16</td>\n",
       "      <td>0.762470</td>\n",
       "    </tr>\n",
       "    <tr>\n",
       "      <th>1</th>\n",
       "      <td>16</td>\n",
       "      <td>32</td>\n",
       "      <td>0.806017</td>\n",
       "    </tr>\n",
       "    <tr>\n",
       "      <th>2</th>\n",
       "      <td>16</td>\n",
       "      <td>64</td>\n",
       "      <td>0.813143</td>\n",
       "    </tr>\n",
       "    <tr>\n",
       "      <th>3</th>\n",
       "      <td>16</td>\n",
       "      <td>128</td>\n",
       "      <td>0.836105</td>\n",
       "    </tr>\n",
       "    <tr>\n",
       "      <th>4</th>\n",
       "      <td>16</td>\n",
       "      <td>256</td>\n",
       "      <td>0.857482</td>\n",
       "    </tr>\n",
       "  </tbody>\n",
       "</table>\n",
       "</div>"
      ],
      "text/plain": [
       "   layer1  layer2  valuation\n",
       "0      16      16   0.762470\n",
       "1      16      32   0.806017\n",
       "2      16      64   0.813143\n",
       "3      16     128   0.836105\n",
       "4      16     256   0.857482"
      ]
     },
     "execution_count": 90,
     "metadata": {},
     "output_type": "execute_result"
    }
   ],
   "source": [
    "val_error.head()"
   ]
  },
  {
   "cell_type": "code",
   "execution_count": 91,
   "metadata": {
    "ExecuteTime": {
     "end_time": "2019-01-14T13:01:41.118346Z",
     "start_time": "2019-01-14T13:01:41.102734Z"
    }
   },
   "outputs": [],
   "source": [
    "pivot=val_error.pivot('layer1', 'layer2')"
   ]
  },
  {
   "cell_type": "code",
   "execution_count": 92,
   "metadata": {
    "ExecuteTime": {
     "end_time": "2019-01-14T13:01:41.801146Z",
     "start_time": "2019-01-14T13:01:41.769908Z"
    }
   },
   "outputs": [
    {
     "data": {
      "text/html": [
       "<div>\n",
       "<style scoped>\n",
       "    .dataframe tbody tr th:only-of-type {\n",
       "        vertical-align: middle;\n",
       "    }\n",
       "\n",
       "    .dataframe tbody tr th {\n",
       "        vertical-align: top;\n",
       "    }\n",
       "\n",
       "    .dataframe thead tr th {\n",
       "        text-align: left;\n",
       "    }\n",
       "\n",
       "    .dataframe thead tr:last-of-type th {\n",
       "        text-align: right;\n",
       "    }\n",
       "</style>\n",
       "<table border=\"1\" class=\"dataframe\">\n",
       "  <thead>\n",
       "    <tr>\n",
       "      <th></th>\n",
       "      <th colspan=\"7\" halign=\"left\">valuation</th>\n",
       "    </tr>\n",
       "    <tr>\n",
       "      <th>layer2</th>\n",
       "      <th>16</th>\n",
       "      <th>32</th>\n",
       "      <th>64</th>\n",
       "      <th>128</th>\n",
       "      <th>256</th>\n",
       "      <th>512</th>\n",
       "      <th>1024</th>\n",
       "    </tr>\n",
       "    <tr>\n",
       "      <th>layer1</th>\n",
       "      <th></th>\n",
       "      <th></th>\n",
       "      <th></th>\n",
       "      <th></th>\n",
       "      <th></th>\n",
       "      <th></th>\n",
       "      <th></th>\n",
       "    </tr>\n",
       "  </thead>\n",
       "  <tbody>\n",
       "    <tr>\n",
       "      <th>16</th>\n",
       "      <td>0.762470</td>\n",
       "      <td>0.806017</td>\n",
       "      <td>0.813143</td>\n",
       "      <td>0.836105</td>\n",
       "      <td>0.857482</td>\n",
       "      <td>0.842439</td>\n",
       "      <td>0.878068</td>\n",
       "    </tr>\n",
       "    <tr>\n",
       "      <th>32</th>\n",
       "      <td>0.821061</td>\n",
       "      <td>0.843230</td>\n",
       "      <td>0.851940</td>\n",
       "      <td>0.833729</td>\n",
       "      <td>0.878860</td>\n",
       "      <td>0.901821</td>\n",
       "      <td>0.900238</td>\n",
       "    </tr>\n",
       "    <tr>\n",
       "      <th>64</th>\n",
       "      <td>0.843230</td>\n",
       "      <td>0.852732</td>\n",
       "      <td>0.878860</td>\n",
       "      <td>0.889153</td>\n",
       "      <td>0.910530</td>\n",
       "      <td>0.906572</td>\n",
       "      <td>0.901821</td>\n",
       "    </tr>\n",
       "    <tr>\n",
       "      <th>128</th>\n",
       "      <td>0.856690</td>\n",
       "      <td>0.897070</td>\n",
       "      <td>0.888361</td>\n",
       "      <td>0.898654</td>\n",
       "      <td>0.915281</td>\n",
       "      <td>0.905780</td>\n",
       "      <td>0.911322</td>\n",
       "    </tr>\n",
       "    <tr>\n",
       "      <th>256</th>\n",
       "      <td>0.893112</td>\n",
       "      <td>0.904196</td>\n",
       "      <td>0.908155</td>\n",
       "      <td>0.913698</td>\n",
       "      <td>0.919240</td>\n",
       "      <td>0.916865</td>\n",
       "      <td>0.926366</td>\n",
       "    </tr>\n",
       "    <tr>\n",
       "      <th>512</th>\n",
       "      <td>0.898654</td>\n",
       "      <td>0.908155</td>\n",
       "      <td>0.918448</td>\n",
       "      <td>0.927158</td>\n",
       "      <td>0.924782</td>\n",
       "      <td>0.923990</td>\n",
       "      <td>0.894695</td>\n",
       "    </tr>\n",
       "    <tr>\n",
       "      <th>1024</th>\n",
       "      <td>0.889945</td>\n",
       "      <td>0.908947</td>\n",
       "      <td>0.923199</td>\n",
       "      <td>0.927949</td>\n",
       "      <td>0.933492</td>\n",
       "      <td>0.927949</td>\n",
       "      <td>0.931116</td>\n",
       "    </tr>\n",
       "  </tbody>\n",
       "</table>\n",
       "</div>"
      ],
      "text/plain": [
       "       valuation                                                            \n",
       "layer2      16        32        64        128       256       512       1024\n",
       "layer1                                                                      \n",
       "16      0.762470  0.806017  0.813143  0.836105  0.857482  0.842439  0.878068\n",
       "32      0.821061  0.843230  0.851940  0.833729  0.878860  0.901821  0.900238\n",
       "64      0.843230  0.852732  0.878860  0.889153  0.910530  0.906572  0.901821\n",
       "128     0.856690  0.897070  0.888361  0.898654  0.915281  0.905780  0.911322\n",
       "256     0.893112  0.904196  0.908155  0.913698  0.919240  0.916865  0.926366\n",
       "512     0.898654  0.908155  0.918448  0.927158  0.924782  0.923990  0.894695\n",
       "1024    0.889945  0.908947  0.923199  0.927949  0.933492  0.927949  0.931116"
      ]
     },
     "execution_count": 92,
     "metadata": {},
     "output_type": "execute_result"
    }
   ],
   "source": [
    "pivot"
   ]
  },
  {
   "cell_type": "markdown",
   "metadata": {},
   "source": [
    "Basically, the larger the size of the two layers, the better the **generalization** error.\n"
   ]
  },
  {
   "cell_type": "code",
   "execution_count": 93,
   "metadata": {
    "ExecuteTime": {
     "end_time": "2019-01-14T13:01:59.270157Z",
     "start_time": "2019-01-14T13:01:59.254542Z"
    }
   },
   "outputs": [],
   "source": [
    "from matplotlib import colors, ticker, cm"
   ]
  },
  {
   "cell_type": "code",
   "execution_count": 94,
   "metadata": {
    "ExecuteTime": {
     "end_time": "2019-01-14T13:02:00.287435Z",
     "start_time": "2019-01-14T13:02:00.271819Z"
    }
   },
   "outputs": [
    {
     "name": "stdout",
     "output_type": "stream",
     "text": [
      "(7,) (7,) (7, 7)\n"
     ]
    }
   ],
   "source": [
    "X=pivot.columns.levels[1].values\n",
    "Y=pivot.index.values\n",
    "Z=val_error[\"valuation\"].values.reshape(len(X),-1)\n",
    "print(X.shape,Y.shape,Z.shape)\n",
    "Xi,Yi = np.meshgrid(X, Y)"
   ]
  },
  {
   "cell_type": "code",
   "execution_count": 95,
   "metadata": {
    "ExecuteTime": {
     "end_time": "2019-01-14T13:02:02.519641Z",
     "start_time": "2019-01-14T13:02:01.801067Z"
    }
   },
   "outputs": [
    {
     "data": {
      "image/png": "[encoded data removed]",
      "text/plain": [
       "<Figure size 432x288 with 2 Axes>"
      ]
     },
     "metadata": {},
     "output_type": "display_data"
    }
   ],
   "source": [
    "fig = plt.figure()\n",
    "ax = fig.add_subplot(1,1,1)\n",
    "ax.set_title(\"Training Error as function of layer size\")\n",
    "ax.set_xlabel(\"layer1\")\n",
    "ax.set_ylabel(\"layer1\")\n",
    "ax.set_xscale(\"log\")\n",
    "ax.set_yscale(\"log\")\n",
    "cs=plt.contourf(Yi, Xi, 1-Z,locator=ticker.LogLocator(base=1.5,numdecs=10),  cmap=plt.cm.jet)\n",
    "cbar = fig.colorbar(cs)"
   ]
  },
  {
   "cell_type": "code",
   "execution_count": 103,
   "metadata": {
    "ExecuteTime": {
     "end_time": "2019-01-15T10:05:24.335299Z",
     "start_time": "2019-01-15T10:05:24.319653Z"
    }
   },
   "outputs": [
    {
     "data": {
      "text/plain": [
       "(1024.0, 256.0, 0.9334916864608076)"
      ]
     },
     "execution_count": 103,
     "metadata": {},
     "output_type": "execute_result"
    }
   ],
   "source": [
    "best_idx=val_error[\"valuation\"].idxmax()\n",
    "best=val_error.iloc[best_idx]\n",
    "best_hidden1,best_hidden2,err=best\n",
    "best_hidden1,best_hidden2,err"
   ]
  },
  {
   "cell_type": "markdown",
   "metadata": {},
   "source": [
    "It seems we need a large layer 1, layer 2 can be a bit smaller (error has less slope)"
   ]
  },
  {
   "cell_type": "markdown",
   "metadata": {},
   "source": [
    "The best model is **very large**, it has:"
   ]
  },
  {
   "cell_type": "code",
   "execution_count": 119,
   "metadata": {
    "ExecuteTime": {
     "end_time": "2019-01-15T10:27:29.669776Z",
     "start_time": "2019-01-15T10:27:29.654199Z"
    }
   },
   "outputs": [
    {
     "name": "stdout",
     "output_type": "stream",
     "text": [
      "Parameters in layer1 198,656\n",
      "Parameters in layer2 262,400\n",
      "Parameters in output layer  2,570\n",
      "Total Parameters 463,626\n"
     ]
    }
   ],
   "source": [
    "layer1_params=best_hidden1*(193+1)\n",
    "layer2_params=best_hidden2*(best_hidden1+1)\n",
    "output_params=  num_classes*(best_hidden2+1)\n",
    "total_params=layer1_params+layer2_params+output_params\n",
    "print(f\"Parameters in layer1 {layer1_params:6,.0f}\")\n",
    "print(f\"Parameters in layer2 {layer2_params:6,.0f}\",)\n",
    "print(f\"Parameters in output layer {output_params:6,.0f}\")\n",
    "print(f\"Total Parameters {total_params:6,.0f}\",)"
   ]
  },
  {
   "cell_type": "markdown",
   "metadata": {},
   "source": [
    "## A 3 layer network does no better"
   ]
  },
  {
   "cell_type": "code",
   "execution_count": 122,
   "metadata": {
    "ExecuteTime": {
     "end_time": "2019-01-15T10:28:59.001249Z",
     "start_time": "2019-01-15T10:28:58.985634Z"
    }
   },
   "outputs": [],
   "source": [
    "def build_3layer_model(hidden1,hidden2,hidden3):\n",
    "    model=keras.Sequential([\n",
    "        keras.layers.Flatten(input_shape=(193,)),\n",
    "        keras.layers.Dense(hidden1,activation=\"relu\"),\n",
    "        keras.layers.Dense(hidden2,activation=\"relu\"),\n",
    "        keras.layers.Dense(hidden3,activation=\"relu\"),\n",
    "        keras.layers.Dense(num_classes,activation=\"softmax\")\n",
    "    ])\n",
    "    optimizer=keras.optimizers.Adam(lr=0.001,decay=1e-4)\n",
    "    model.compile(optimizer=optimizer,loss=\"sparse_categorical_crossentropy\",metrics=[\"accuracy\"])\n",
    "    return model"
   ]
  },
  {
   "cell_type": "code",
   "execution_count": 123,
   "metadata": {
    "ExecuteTime": {
     "end_time": "2019-01-15T10:28:59.871303Z",
     "start_time": "2019-01-15T10:28:59.730768Z"
    }
   },
   "outputs": [],
   "source": [
    "hidden1=512\n",
    "hidden2=256\n",
    "hidden3=256\n",
    "model3=build_3layer_model(hidden1,hidden2,hidden3)"
   ]
  },
  {
   "cell_type": "code",
   "execution_count": 124,
   "metadata": {
    "ExecuteTime": {
     "end_time": "2019-01-15T10:30:35.026705Z",
     "start_time": "2019-01-15T10:29:02.514663Z"
    }
   },
   "outputs": [
    {
     "name": "stdout",
     "output_type": "stream",
     "text": [
      "\t0: TRAIN loss 5.3737,  acc 0.3468 || VAL loss 3.3855, acc 0.4719\n",
      "\t10: TRAIN loss 0.3714,  acc 0.8994 || VAL loss 0.6325, acc 0.8496\n",
      "\t20: TRAIN loss 0.1595,  acc 0.9610 || VAL loss 0.5138, acc 0.8971\n",
      "\t30: TRAIN loss 0.2952,  acc 0.9337 || VAL loss 0.5994, acc 0.8820\n",
      "\t40: TRAIN loss 0.1366,  acc 0.9774 || VAL loss 0.6178, acc 0.8907\n",
      "\t50: TRAIN loss 0.0839,  acc 0.9919 || VAL loss 0.5795, acc 0.9074\n",
      "\t60: TRAIN loss 0.0781,  acc 0.9937 || VAL loss 0.5595, acc 0.9169\n",
      "\t70: TRAIN loss 0.0776,  acc 0.9935 || VAL loss 0.5846, acc 0.9177\n",
      "\t80: TRAIN loss 0.1160,  acc 0.9808 || VAL loss 0.5904, acc 0.9082\n",
      "\t90: TRAIN loss 0.0637,  acc 0.9949 || VAL loss 0.5899, acc 0.9216\n",
      "\t100: TRAIN loss 0.1085,  acc 0.9808 || VAL loss 0.7089, acc 0.8947\n",
      "\t110: TRAIN loss 0.0560,  acc 0.9949 || VAL loss 0.5624, acc 0.9279\n",
      "\t120: TRAIN loss 0.0556,  acc 0.9949 || VAL loss 0.5782, acc 0.9264\n",
      "\t130: TRAIN loss 0.0550,  acc 0.9951 || VAL loss 0.6050, acc 0.9216\n",
      "\t140: TRAIN loss 0.0546,  acc 0.9954 || VAL loss 0.6137, acc 0.9184\n",
      "\t150: TRAIN loss 0.0664,  acc 0.9901 || VAL loss 0.5907, acc 0.9184\n",
      "\t160: TRAIN loss 0.0581,  acc 0.9943 || VAL loss 0.6128, acc 0.9224\n",
      "\t170: TRAIN loss 0.0549,  acc 0.9952 || VAL loss 0.6073, acc 0.9287\n",
      "\t180: TRAIN loss 0.0539,  acc 0.9954 || VAL loss 0.6048, acc 0.9287\n",
      "\t190: TRAIN loss 0.0538,  acc 0.9951 || VAL loss 0.6279, acc 0.9248\n",
      "\t200: TRAIN loss 0.0536,  acc 0.9951 || VAL loss 0.6206, acc 0.9303\n",
      "\t210: TRAIN loss 0.0537,  acc 0.9954 || VAL loss 0.6235, acc 0.9287\n",
      "\t220: TRAIN loss 0.0583,  acc 0.9909 || VAL loss 0.7244, acc 0.8994\n",
      "\t230: TRAIN loss 0.0440,  acc 0.9960 || VAL loss 0.5898, acc 0.9224\n",
      "\t240: TRAIN loss 0.0441,  acc 0.9954 || VAL loss 0.5995, acc 0.9264\n",
      "\t250: TRAIN loss 0.0436,  acc 0.9960 || VAL loss 0.6031, acc 0.9256\n",
      "\t260: TRAIN loss 0.0438,  acc 0.9962 || VAL loss 0.6122, acc 0.9232\n",
      "\t270: TRAIN loss 0.0458,  acc 0.9954 || VAL loss 0.6399, acc 0.9184\n",
      "\t280: TRAIN loss 0.0468,  acc 0.9952 || VAL loss 0.6136, acc 0.9256\n",
      "\t290: TRAIN loss 0.0619,  acc 0.9931 || VAL loss 0.6236, acc 0.9208\n"
     ]
    }
   ],
   "source": [
    "result3=model3.fit(features_train,labels_train,validation_data=(features_val,labels_val),\n",
    "                  epochs=nepochs,batch_size=100,\n",
    "                  verbose=0,callbacks=[ReportCallback(10)])"
   ]
  },
  {
   "cell_type": "code",
   "execution_count": 125,
   "metadata": {
    "ExecuteTime": {
     "end_time": "2019-01-15T10:30:42.328184Z",
     "start_time": "2019-01-15T10:30:42.212834Z"
    }
   },
   "outputs": [
    {
     "data": {
      "text/plain": [
       "0.9287410926365796"
      ]
     },
     "execution_count": 125,
     "metadata": {},
     "output_type": "execute_result"
    }
   ],
   "source": [
    "Y_pred=np.argmax(model0.predict(features_val),axis=1)\n",
    "np.mean(Y_pred==labels_val)"
   ]
  },
  {
   "cell_type": "markdown",
   "metadata": {},
   "source": [
    "## Test Best Model"
   ]
  },
  {
   "cell_type": "markdown",
   "metadata": {},
   "source": [
    "We train the best model with  all the data and measure performance on test set"
   ]
  },
  {
   "cell_type": "code",
   "execution_count": 126,
   "metadata": {
    "ExecuteTime": {
     "end_time": "2019-01-15T10:32:12.750728Z",
     "start_time": "2019-01-15T10:32:12.735150Z"
    }
   },
   "outputs": [
    {
     "data": {
      "text/plain": [
       "(1024.0, 256.0)"
      ]
     },
     "execution_count": 126,
     "metadata": {},
     "output_type": "execute_result"
    }
   ],
   "source": [
    "best_hidden1,best_hidden2"
   ]
  },
  {
   "cell_type": "code",
   "execution_count": 127,
   "metadata": {
    "ExecuteTime": {
     "end_time": "2019-01-15T10:32:52.401018Z",
     "start_time": "2019-01-15T10:32:52.260434Z"
    }
   },
   "outputs": [
    {
     "name": "stdout",
     "output_type": "stream",
     "text": [
      "_________________________________________________________________\n",
      "Layer (type)                 Output Shape              Param #   \n",
      "=================================================================\n",
      "flatten_63 (Flatten)         (None, 193)               0         \n",
      "_________________________________________________________________\n",
      "dense_191 (Dense)            (None, 1024)              198656    \n",
      "_________________________________________________________________\n",
      "dense_192 (Dense)            (None, 256)               262400    \n",
      "_________________________________________________________________\n",
      "dense_193 (Dense)            (None, 10)                2570      \n",
      "=================================================================\n",
      "Total params: 463,626\n",
      "Trainable params: 463,626\n",
      "Non-trainable params: 0\n",
      "_________________________________________________________________\n"
     ]
    }
   ],
   "source": [
    "best_model=build_model(best_hidden1,best_hidden2)\n",
    "best_model.summary()"
   ]
  },
  {
   "cell_type": "code",
   "execution_count": 128,
   "metadata": {
    "ExecuteTime": {
     "end_time": "2019-01-15T10:36:39.839923Z",
     "start_time": "2019-01-15T10:34:01.026382Z"
    }
   },
   "outputs": [
    {
     "name": "stdout",
     "output_type": "stream",
     "text": [
      "\t0: TRAIN loss 9.1110,  acc 0.2993 || VAL loss 8.5492, acc 0.3496\n",
      "\t10: TRAIN loss 0.4708,  acc 0.8925 || VAL loss 0.6291, acc 0.8588\n",
      "\t20: TRAIN loss 0.2354,  acc 0.9515 || VAL loss 0.4884, acc 0.8968\n",
      "\t30: TRAIN loss 0.1137,  acc 0.9846 || VAL loss 0.4144, acc 0.9259\n",
      "\t40: TRAIN loss 0.1634,  acc 0.9693 || VAL loss 0.5733, acc 0.8911\n",
      "\t50: TRAIN loss 0.0860,  acc 0.9856 || VAL loss 0.4574, acc 0.9208\n",
      "\t60: TRAIN loss 0.0847,  acc 0.9905 || VAL loss 0.5318, acc 0.9234\n",
      "\t70: TRAIN loss 0.0455,  acc 0.9952 || VAL loss 0.3879, acc 0.9392\n",
      "\t80: TRAIN loss 0.0441,  acc 0.9956 || VAL loss 0.4055, acc 0.9373\n",
      "\t90: TRAIN loss 0.0440,  acc 0.9951 || VAL loss 0.4183, acc 0.9379\n",
      "\t100: TRAIN loss 0.0434,  acc 0.9959 || VAL loss 0.4403, acc 0.9360\n",
      "\t110: TRAIN loss 0.1511,  acc 0.9832 || VAL loss 0.6153, acc 0.9151\n",
      "\t120: TRAIN loss 0.1306,  acc 0.9875 || VAL loss 0.5009, acc 0.9297\n",
      "\t130: TRAIN loss 0.1080,  acc 0.9914 || VAL loss 0.4900, acc 0.9367\n",
      "\t140: TRAIN loss 0.0505,  acc 0.9948 || VAL loss 0.4385, acc 0.9335\n",
      "\t150: TRAIN loss 0.0470,  acc 0.9954 || VAL loss 0.4383, acc 0.9360\n",
      "\t160: TRAIN loss 0.0478,  acc 0.9952 || VAL loss 0.4372, acc 0.9411\n",
      "\t170: TRAIN loss 0.0474,  acc 0.9946 || VAL loss 0.4347, acc 0.9379\n",
      "\t180: TRAIN loss 0.1069,  acc 0.9802 || VAL loss 0.5383, acc 0.9170\n",
      "\t190: TRAIN loss 0.0444,  acc 0.9952 || VAL loss 0.4701, acc 0.9367\n",
      "\t200: TRAIN loss 0.0341,  acc 0.9957 || VAL loss 0.5042, acc 0.9341\n",
      "\t210: TRAIN loss 0.0520,  acc 0.9948 || VAL loss 0.4575, acc 0.9348\n",
      "\t220: TRAIN loss 0.0511,  acc 0.9954 || VAL loss 0.4696, acc 0.9379\n",
      "\t230: TRAIN loss 0.0523,  acc 0.9946 || VAL loss 0.4734, acc 0.9367\n",
      "\t240: TRAIN loss 0.0794,  acc 0.9919 || VAL loss 0.5118, acc 0.9310\n",
      "\t250: TRAIN loss 0.0585,  acc 0.9952 || VAL loss 0.5044, acc 0.9373\n",
      "\t260: TRAIN loss 0.0587,  acc 0.9946 || VAL loss 0.5062, acc 0.9373\n",
      "\t270: TRAIN loss 0.0591,  acc 0.9945 || VAL loss 0.5185, acc 0.9341\n",
      "\t280: TRAIN loss 0.0384,  acc 0.9962 || VAL loss 0.4645, acc 0.9405\n",
      "\t290: TRAIN loss 0.0383,  acc 0.9962 || VAL loss 0.4733, acc 0.9417\n"
     ]
    }
   ],
   "source": [
    "best_result=best_model.fit(features,labels,validation_data=(features_test,labels_test),\n",
    "                  epochs=nepochs,batch_size=100,\n",
    "                  verbose=0,callbacks=[ReportCallback(10)])"
   ]
  },
  {
   "cell_type": "code",
   "execution_count": 129,
   "metadata": {
    "ExecuteTime": {
     "end_time": "2019-01-15T10:37:23.759112Z",
     "start_time": "2019-01-15T10:37:23.506160Z"
    }
   },
   "outputs": [
    {
     "data": {
      "text/plain": [
       "<matplotlib.legend.Legend at 0x23580b0c278>"
      ]
     },
     "execution_count": 129,
     "metadata": {},
     "output_type": "execute_result"
    },
    {
     "data": {
      "image/png": "[encoded data removed]",
      "text/plain": [
       "<Figure size 864x432 with 2 Axes>"
      ]
     },
     "metadata": {},
     "output_type": "display_data"
    }
   ],
   "source": [
    "history=best_result.history\n",
    "plt.figure(figsize=(12,6))\n",
    "plt.subplot(1, 2, 1)\n",
    "plt.plot(history[\"loss\"],label=\"loss\")\n",
    "plt.plot(history[\"val_loss\"],label=\"valuation loss\")\n",
    "plt.title('Loss')\n",
    "plt.xlabel('epoch')\n",
    "plt.legend()\n",
    "\n",
    "plt.subplot(1, 2, 2)\n",
    "plt.plot(history[\"acc\"],label=\"accuracy\")\n",
    "plt.plot(history[\"val_acc\"],label=\"valuation accuracy\")\n",
    "plt.title('Accuracy')\n",
    "plt.xlabel('epoch')\n",
    "plt.legend()"
   ]
  },
  {
   "cell_type": "code",
   "execution_count": 130,
   "metadata": {
    "ExecuteTime": {
     "end_time": "2019-01-15T10:37:33.567732Z",
     "start_time": "2019-01-15T10:37:32.489833Z"
    }
   },
   "outputs": [
    {
     "data": {
      "text/plain": [
       "0.9398353388220393"
      ]
     },
     "execution_count": 130,
     "metadata": {},
     "output_type": "execute_result"
    }
   ],
   "source": [
    "Y_pred=np.argmax(best_model.predict(features_test),axis=1)\n",
    "np.mean(Y_pred==labels_test)"
   ]
  },
  {
   "cell_type": "markdown",
   "metadata": {
    "collapsed": true
   },
   "source": [
    "We have achieved nearly **94%** out of sample accuracy"
   ]
  },
  {
   "cell_type": "code",
   "execution_count": null,
   "metadata": {
    "collapsed": true
   },
   "outputs": [],
   "source": []
  }
 ],
 "metadata": {
  "kernelspec": {
   "display_name": "Python 3",
   "language": "python",
   "name": "python3"
  },
  "language_info": {
   "codemirror_mode": {
    "name": "ipython",
    "version": 3
   },
   "file_extension": ".py",
   "mimetype": "text/x-python",
   "name": "python",
   "nbconvert_exporter": "python",
   "pygments_lexer": "ipython3",
   "version": "3.6.4"
  },
  "toc": {
   "base_numbering": 1,
   "nav_menu": {},
   "number_sections": true,
   "sideBar": true,
   "skip_h1_title": true,
   "title_cell": "Table of Contents",
   "title_sidebar": "Contents",
   "toc_cell": false,
   "toc_position": {},
   "toc_section_display": "block",
   "toc_window_display": true
  }
 },
 "nbformat": 4,
 "nbformat_minor": 1
}
