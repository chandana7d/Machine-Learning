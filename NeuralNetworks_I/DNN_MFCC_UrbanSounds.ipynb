{
 "cells": [
  {
   "cell_type": "markdown",
   "metadata": {},
   "source": [
    "# Dense Neural Network for Urban Sound Classificaton using the Log power expectrum"
   ]
  },
  {
   "cell_type": "markdown",
   "metadata": {
    "ExecuteTime": {
     "end_time": "2017-12-18T11:35:30.930001Z",
     "start_time": "2017-12-18T11:35:30.910976Z"
    }
   },
   "source": [
    "In this notebook we demonstrate the use of [Mel Frequency Spectrum](https://en.wikipedia.org/wiki/Mel_scale)  for a sound classification task. \n",
    "\n",
    "We first show that a pure logistic regression model performs quite poorly (41% accuracy), a 2 layer neural network does better.\n",
    "After some hyperparameter optimization we can achieve a $\\approx79\\%$ accuracy."
   ]
  },
  {
   "cell_type": "markdown",
   "metadata": {},
   "source": [
    "## Preliminaries"
   ]
  },
  {
   "cell_type": "markdown",
   "metadata": {},
   "source": [
    "### Imports"
   ]
  },
  {
   "cell_type": "code",
   "execution_count": 1,
   "metadata": {
    "ExecuteTime": {
     "end_time": "2019-04-20T13:23:21.987173Z",
     "start_time": "2019-04-20T13:23:18.501652Z"
    }
   },
   "outputs": [],
   "source": [
    "import os\n",
    "import pickle \n",
    "\n",
    "import numpy as np\n",
    "import matplotlib.pyplot as plt\n",
    "\n",
    "from sklearn import metrics\n",
    "from sklearn.model_selection import train_test_split\n",
    "\n",
    "import tensorflow as tf\n",
    "import tensorflow.keras as keras\n",
    "\n",
    "%matplotlib inline\n",
    "import gzip\n",
    "\n",
    "import sys\n",
    "sys.path.append(\"../..\")\n",
    "from E4525_ML import mnist\n",
    "from E4525_ML import plots\n",
    "from E4525_ML.multiclass_logistic import LogisticGDClassifier\n",
    "from E4525_ML.notebook_utils import get_logger,LoggingCallback"
   ]
  },
  {
   "cell_type": "code",
   "execution_count": 2,
   "metadata": {
    "ExecuteTime": {
     "end_time": "2019-04-20T13:23:21.996966Z",
     "start_time": "2019-04-20T13:23:21.987173Z"
    }
   },
   "outputs": [],
   "source": [
    "logger=get_logger(\"DNN_UrbanSounds.log\")"
   ]
  },
  {
   "cell_type": "markdown",
   "metadata": {},
   "source": [
    "### Data"
   ]
  },
  {
   "cell_type": "code",
   "execution_count": 3,
   "metadata": {
    "ExecuteTime": {
     "end_time": "2019-04-20T13:23:22.004984Z",
     "start_time": "2019-04-20T13:23:21.996966Z"
    }
   },
   "outputs": [],
   "source": [
    "data_dir=r\"../../data/UrbanSounds\""
   ]
  },
  {
   "cell_type": "code",
   "execution_count": 4,
   "metadata": {
    "ExecuteTime": {
     "end_time": "2019-04-20T13:23:22.232576Z",
     "start_time": "2019-04-20T13:23:22.004984Z"
    }
   },
   "outputs": [],
   "source": [
    "file=open(data_dir+\"/mfcc.p\",\"rb\")\n",
    "features_all,labels_all=pickle.load(file)"
   ]
  },
  {
   "cell_type": "code",
   "execution_count": 5,
   "metadata": {
    "ExecuteTime": {
     "end_time": "2019-04-20T13:23:22.239918Z",
     "start_time": "2019-04-20T13:23:22.232576Z"
    }
   },
   "outputs": [
    {
     "data": {
      "text/plain": [
       "array([3, 3, 3, ..., 2, 2, 2])"
      ]
     },
     "execution_count": 5,
     "metadata": {},
     "output_type": "execute_result"
    }
   ],
   "source": [
    "labels_all"
   ]
  },
  {
   "cell_type": "code",
   "execution_count": 6,
   "metadata": {
    "ExecuteTime": {
     "end_time": "2019-04-20T13:23:22.338089Z",
     "start_time": "2019-04-20T13:23:22.239918Z"
    }
   },
   "outputs": [
    {
     "name": "stdout",
     "output_type": "stream",
     "text": [
      "(6316, 20, 173) (1579, 20, 173)\n"
     ]
    }
   ],
   "source": [
    "features,features_test,labels,labels_test=train_test_split(features_all,labels_all,test_size=0.2)\n",
    "print(features.shape,features_test.shape)"
   ]
  },
  {
   "cell_type": "code",
   "execution_count": 7,
   "metadata": {
    "ExecuteTime": {
     "end_time": "2019-04-20T13:23:22.413552Z",
     "start_time": "2019-04-20T13:23:22.338089Z"
    }
   },
   "outputs": [
    {
     "name": "stdout",
     "output_type": "stream",
     "text": [
      "(5052, 20, 173) (1264, 20, 173)\n"
     ]
    }
   ],
   "source": [
    "features_train,features_val,labels_train,labels_val=train_test_split(features,labels,test_size=0.2)\n",
    "print(features_train.shape,features_val.shape)"
   ]
  },
  {
   "cell_type": "code",
   "execution_count": 8,
   "metadata": {
    "ExecuteTime": {
     "end_time": "2019-04-20T13:23:22.421552Z",
     "start_time": "2019-04-20T13:23:22.413552Z"
    }
   },
   "outputs": [
    {
     "data": {
      "text/plain": [
       "array([[-2.35363987e+02, -2.39083086e+02, -2.50423002e+02, ...,\n",
       "        -2.65910394e+02, -2.65711133e+02, -2.80291934e+02],\n",
       "       [ 1.19366648e+02,  1.26683337e+02,  1.28170392e+02, ...,\n",
       "         1.29082176e+02,  1.20021864e+02,  1.17317026e+02],\n",
       "       [-6.86172278e+01, -6.21786150e+01, -5.37242432e+01, ...,\n",
       "        -4.13094095e+01, -2.92963672e+01, -2.34803853e+01],\n",
       "       ...,\n",
       "       [-7.71124803e+00, -7.94184840e+00, -4.75488919e+00, ...,\n",
       "        -1.26067720e+01, -2.00893398e+00,  5.29066062e+00],\n",
       "       [ 9.85458308e+00,  6.87584748e+00,  6.46494105e-02, ...,\n",
       "        -3.82595303e+00,  3.44026366e+00,  1.22220546e+01],\n",
       "       [ 1.31098343e+00,  2.22566909e+00, -1.64812632e+00, ...,\n",
       "        -3.13224279e+00, -7.84951576e+00, -5.96955425e+00]])"
      ]
     },
     "execution_count": 8,
     "metadata": {},
     "output_type": "execute_result"
    }
   ],
   "source": [
    "features_train[0]"
   ]
  },
  {
   "cell_type": "markdown",
   "metadata": {},
   "source": [
    "## Logistic Classifier"
   ]
  },
  {
   "cell_type": "markdown",
   "metadata": {},
   "source": [
    "### Explicit Logistic Classifier"
   ]
  },
  {
   "cell_type": "code",
   "execution_count": 9,
   "metadata": {
    "ExecuteTime": {
     "end_time": "2019-04-20T13:23:22.433551Z",
     "start_time": "2019-04-20T13:23:22.421552Z"
    }
   },
   "outputs": [],
   "source": [
    "model=LogisticGDClassifier(max_iter=5000,learning_rate=0.001,penalty=0,verbose=True)"
   ]
  },
  {
   "cell_type": "code",
   "execution_count": 10,
   "metadata": {
    "ExecuteTime": {
     "end_time": "2019-04-20T13:28:26.934891Z",
     "start_time": "2019-04-20T13:23:22.433551Z"
    },
    "scrolled": true
   },
   "outputs": [
    {
     "name": "stdout",
     "output_type": "stream",
     "text": [
      "\t 0 Loss = 19191.74885646587 Train_Accuracy 0.118 Evaluation Loss = 19079.56305561321 Accuracy = 0.118\n",
      "\t 500 Loss = 9026.133564536658 Train_Accuracy 0.608 Evaluation Loss = 12884.020132896903 Accuracy = 0.44\n",
      "\t 1000 Loss = 4490.040931338389 Train_Accuracy 0.805 Evaluation Loss = 11374.770359390584 Accuracy = 0.506\n",
      "\t 1500 Loss = 5272.919862956365 Train_Accuracy 0.771 Evaluation Loss = 12249.75269472832 Accuracy = 0.468\n",
      "\t 2000 Loss = 3707.1619997204134 Train_Accuracy 0.839 Evaluation Loss = 12387.907800307963 Accuracy = 0.462\n",
      "\t 2389 Loss = 2993.3606208922592 Train_Accuracy 0.87 Evaluation Loss = 11535.951315900167 Accuracy = 0.499\n"
     ]
    },
    {
     "name": "stderr",
     "output_type": "stream",
     "text": [
      "C:\\ProgramData\\Anaconda3\\lib\\site-packages\\sklearn\\preprocessing\\label.py:151: DeprecationWarning: The truth value of an empty array is ambiguous. Returning False, but in future this will result in an error. Use `array.size > 0` to check that an array is not empty.\n",
      "  if diff:\n"
     ]
    },
    {
     "data": {
      "text/plain": [
       "('Training accuracy', 0.860055423594616)"
      ]
     },
     "execution_count": 10,
     "metadata": {},
     "output_type": "execute_result"
    }
   ],
   "source": [
    "model.fit(features_train.reshape(len(features_train),-1),labels_train,features_val.reshape(len(features_val),-1),labels_val)\n",
    "Y_pred=model.predict(features_train.reshape(len(features_train),-1))\n",
    "\"Training accuracy\",np.mean(Y_pred==labels_train)"
   ]
  },
  {
   "cell_type": "code",
   "execution_count": 11,
   "metadata": {
    "ExecuteTime": {
     "end_time": "2019-04-20T13:28:26.946892Z",
     "start_time": "2019-04-20T13:28:26.934891Z"
    }
   },
   "outputs": [
    {
     "name": "stderr",
     "output_type": "stream",
     "text": [
      "C:\\ProgramData\\Anaconda3\\lib\\site-packages\\sklearn\\preprocessing\\label.py:151: DeprecationWarning: The truth value of an empty array is ambiguous. Returning False, but in future this will result in an error. Use `array.size > 0` to check that an array is not empty.\n",
      "  if diff:\n"
     ]
    },
    {
     "data": {
      "text/plain": [
       "('Test Accuracy', 0.4648511716276124)"
      ]
     },
     "execution_count": 11,
     "metadata": {},
     "output_type": "execute_result"
    }
   ],
   "source": [
    "Y_pred=model.predict(features_test.reshape((len(features_test),-1)))\n",
    "\"Test Accuracy\",np.mean(Y_pred==labels_test)\n"
   ]
  },
  {
   "cell_type": "markdown",
   "metadata": {},
   "source": [
    "### Logistic Classifier build as a keras model"
   ]
  },
  {
   "cell_type": "code",
   "execution_count": 31,
   "metadata": {
    "ExecuteTime": {
     "end_time": "2019-04-20T14:34:35.474647Z",
     "start_time": "2019-04-20T14:34:35.459026Z"
    }
   },
   "outputs": [],
   "source": [
    "num_classes=10"
   ]
  },
  {
   "cell_type": "code",
   "execution_count": 13,
   "metadata": {
    "ExecuteTime": {
     "end_time": "2019-04-20T13:28:26.966891Z",
     "start_time": "2019-04-20T13:28:26.958892Z"
    }
   },
   "outputs": [],
   "source": [
    "nepochs=2000"
   ]
  },
  {
   "cell_type": "code",
   "execution_count": 32,
   "metadata": {
    "ExecuteTime": {
     "end_time": "2019-04-20T14:34:41.080442Z",
     "start_time": "2019-04-20T14:34:40.892989Z"
    }
   },
   "outputs": [],
   "source": [
    "logistic_model=keras.Sequential([\n",
    "        keras.layers.Flatten(input_shape=(20,173)),\n",
    "        keras.layers.Dense(num_classes,activation=\"softmax\",kernel_initializer=\"lecun_normal\")\n",
    "])\n",
    "optimizer=keras.optimizers.SGD(lr=0.000001) # for some reason Adam's does not converge for this dataset, but plain SGD does\n",
    "#optimizer=keras.optimizers.Adam()\n",
    "logistic_model.compile(optimizer=optimizer,loss=\"sparse_categorical_crossentropy\",metrics=[\"accuracy\"])"
   ]
  },
  {
   "cell_type": "code",
   "execution_count": 33,
   "metadata": {
    "ExecuteTime": {
     "end_time": "2019-04-20T14:56:43.077564Z",
     "start_time": "2019-04-20T14:34:43.617899Z"
    }
   },
   "outputs": [
    {
     "name": "stdout",
     "output_type": "stream",
     "text": [
      "2019-04-20 10:34:44,385|\t0: TRAIN loss 14.0775,  acc 0.1144  ||  VAL loss 13.9011, acc 0.1266\n",
      "2019-04-20 10:36:59,231|\t500: TRAIN loss 9.4545,  acc 0.2862  ||  VAL loss 10.2238, acc 0.2492\n",
      "2019-04-20 10:39:10,967|\t1000: TRAIN loss 7.9499,  acc 0.3413  ||  VAL loss 8.5420, acc 0.2943\n",
      "2019-04-20 10:41:22,612|\t1500: TRAIN loss 7.5311,  acc 0.3668  ||  VAL loss 8.3447, acc 0.3093\n",
      "2019-04-20 10:43:34,463|\t2000: TRAIN loss 7.2335,  acc 0.3884  ||  VAL loss 8.3180, acc 0.3030\n",
      "2019-04-20 10:45:46,236|\t2500: TRAIN loss 6.3247,  acc 0.4196  ||  VAL loss 7.3054, acc 0.3362\n",
      "2019-04-20 10:47:57,799|\t3000: TRAIN loss 5.7372,  acc 0.4772  ||  VAL loss 6.9334, acc 0.3655\n",
      "2019-04-20 10:50:09,167|\t3500: TRAIN loss 5.4854,  acc 0.4982  ||  VAL loss 6.8338, acc 0.3639\n",
      "2019-04-20 10:52:20,645|\t4000: TRAIN loss 5.2626,  acc 0.5188  ||  VAL loss 6.7347, acc 0.3679\n",
      "2019-04-20 10:54:31,655|\t4500: TRAIN loss 5.1116,  acc 0.5348  ||  VAL loss 6.6562, acc 0.3726\n"
     ]
    }
   ],
   "source": [
    "result=logistic_model.fit(features_train,labels_train,validation_data=(features_val,labels_val),\n",
    "                  epochs=5000,batch_size=100,\n",
    "                  verbose=0,callbacks=[LoggingCallback(500,logger)])"
   ]
  },
  {
   "cell_type": "code",
   "execution_count": 34,
   "metadata": {
    "ExecuteTime": {
     "end_time": "2019-04-20T14:56:43.347854Z",
     "start_time": "2019-04-20T14:56:43.077564Z"
    }
   },
   "outputs": [
    {
     "data": {
      "text/plain": [
       "<matplotlib.legend.Legend at 0x1cb18ab9fd0>"
      ]
     },
     "execution_count": 34,
     "metadata": {},
     "output_type": "execute_result"
    },
    {
     "data": {
      "image/png": "[encoded data removed]",
      "text/plain": [
       "<Figure size 864x432 with 2 Axes>"
      ]
     },
     "metadata": {},
     "output_type": "display_data"
    }
   ],
   "source": [
    "history=result.history\n",
    "plt.figure(figsize=(12,6))\n",
    "plt.subplot(1, 2, 1)\n",
    "plt.plot(history[\"loss\"],label=\"loss\")\n",
    "plt.plot(history[\"val_loss\"],label=\"valuation loss\")\n",
    "plt.title('Loss')\n",
    "plt.xlabel('epoch')\n",
    "plt.legend()\n",
    "\n",
    "plt.subplot(1, 2, 2)\n",
    "plt.plot(history[\"acc\"],label=\"accuracy\")\n",
    "plt.plot(history[\"val_acc\"],label=\"valuation accuracy\")\n",
    "plt.title('Accuracy')\n",
    "plt.xlabel('epoch')\n",
    "plt.legend()"
   ]
  },
  {
   "cell_type": "markdown",
   "metadata": {
    "ExecuteTime": {
     "end_time": "2017-12-18T11:36:26.970220Z",
     "start_time": "2017-12-18T11:36:26.960222Z"
    }
   },
   "source": [
    "## Dense Neural Network"
   ]
  },
  {
   "cell_type": "code",
   "execution_count": 21,
   "metadata": {
    "ExecuteTime": {
     "end_time": "2019-04-20T14:10:38.720353Z",
     "start_time": "2019-04-20T14:10:38.712354Z"
    }
   },
   "outputs": [],
   "source": [
    "def build_model(hidden1,hidden2,dropout):\n",
    "    model=keras.Sequential([\n",
    "        keras.layers.Flatten(input_shape=(20,173)),\n",
    "        keras.layers.Dense(hidden1,activation=\"relu\"),\n",
    "        keras.layers.Dense(hidden2,activation=\"relu\"),\n",
    "        keras.layers.Dropout(dropout),\n",
    "        keras.layers.Dense(num_classes,activation=\"softmax\")\n",
    "    ])\n",
    "    #optimizer=keras.optimizers.Adam(lr=0.0002)\n",
    "    optimizer=keras.optimizers.SGD(lr=0.001) # for some reason Adam's does not converge for this dataset, but plain SGD does\n",
    "    model.compile(optimizer=optimizer,loss=\"sparse_categorical_crossentropy\",metrics=[\"accuracy\"])\n",
    "    return model"
   ]
  },
  {
   "cell_type": "markdown",
   "metadata": {},
   "source": [
    "### Fit 2 layer Dense Network with 40% Dropout"
   ]
  },
  {
   "cell_type": "code",
   "execution_count": 22,
   "metadata": {
    "ExecuteTime": {
     "end_time": "2019-04-20T14:10:38.899397Z",
     "start_time": "2019-04-20T14:10:38.720353Z"
    }
   },
   "outputs": [
    {
     "name": "stdout",
     "output_type": "stream",
     "text": [
      "WARNING:tensorflow:From C:\\ProgramData\\Anaconda3\\lib\\site-packages\\tensorflow\\python\\keras\\layers\\core.py:143: calling dropout (from tensorflow.python.ops.nn_ops) with keep_prob is deprecated and will be removed in a future version.\n",
      "Instructions for updating:\n",
      "Please use `rate` instead of `keep_prob`. Rate should be set to `rate = 1 - keep_prob`.\n",
      "2019-04-20 10:10:38,779|From C:\\ProgramData\\Anaconda3\\lib\\site-packages\\tensorflow\\python\\keras\\layers\\core.py:143: calling dropout (from tensorflow.python.ops.nn_ops) with keep_prob is deprecated and will be removed in a future version.\n",
      "Instructions for updating:\n",
      "Please use `rate` instead of `keep_prob`. Rate should be set to `rate = 1 - keep_prob`.\n",
      "_________________________________________________________________\n",
      "Layer (type)                 Output Shape              Param #   \n",
      "=================================================================\n",
      "flatten_3 (Flatten)          (None, 3460)              0         \n",
      "_________________________________________________________________\n",
      "dense_3 (Dense)              (None, 512)               1772032   \n",
      "_________________________________________________________________\n",
      "dense_4 (Dense)              (None, 256)               131328    \n",
      "_________________________________________________________________\n",
      "dropout (Dropout)            (None, 256)               0         \n",
      "_________________________________________________________________\n",
      "dense_5 (Dense)              (None, 10)                2570      \n",
      "=================================================================\n",
      "Total params: 1,905,930\n",
      "Trainable params: 1,905,930\n",
      "Non-trainable params: 0\n",
      "_________________________________________________________________\n"
     ]
    }
   ],
   "source": [
    "model0=build_model(512,256,0.4)\n",
    "model0.summary()"
   ]
  },
  {
   "cell_type": "code",
   "execution_count": 23,
   "metadata": {
    "ExecuteTime": {
     "end_time": "2019-04-20T14:21:26.717883Z",
     "start_time": "2019-04-20T14:10:38.899397Z"
    }
   },
   "outputs": [
    {
     "name": "stdout",
     "output_type": "stream",
     "text": [
      "2019-04-20 10:10:39,727|\t0: TRAIN loss 13.9174,  acc 0.1314  ||  VAL loss 13.7047, acc 0.1479\n",
      "2019-04-20 10:10:55,852|\t50: TRAIN loss 9.6454,  acc 0.3884  ||  VAL loss 9.5682, acc 0.3900\n",
      "2019-04-20 10:11:11,987|\t100: TRAIN loss 2.1122,  acc 0.3393  ||  VAL loss 2.0542, acc 0.3932\n",
      "2019-04-20 10:11:28,083|\t150: TRAIN loss 1.1723,  acc 0.5988  ||  VAL loss 1.2602, acc 0.6250\n",
      "2019-04-20 10:11:44,152|\t200: TRAIN loss 0.9438,  acc 0.6631  ||  VAL loss 1.1196, acc 0.6669\n",
      "2019-04-20 10:12:00,347|\t250: TRAIN loss 0.8282,  acc 0.7049  ||  VAL loss 1.0541, acc 0.6764\n",
      "2019-04-20 10:12:16,470|\t300: TRAIN loss 0.7469,  acc 0.7356  ||  VAL loss 0.9791, acc 0.7128\n",
      "2019-04-20 10:12:32,571|\t350: TRAIN loss 0.6489,  acc 0.7718  ||  VAL loss 1.0472, acc 0.7002\n",
      "2019-04-20 10:12:48,644|\t400: TRAIN loss 0.5987,  acc 0.7935  ||  VAL loss 1.0225, acc 0.7286\n",
      "2019-04-20 10:13:04,749|\t450: TRAIN loss 0.5255,  acc 0.8183  ||  VAL loss 1.1669, acc 0.7215\n",
      "2019-04-20 10:13:20,840|\t500: TRAIN loss 0.4874,  acc 0.8304  ||  VAL loss 1.1007, acc 0.7310\n",
      "2019-04-20 10:13:36,909|\t550: TRAIN loss 0.4726,  acc 0.8426  ||  VAL loss 1.0598, acc 0.7492\n",
      "2019-04-20 10:13:53,101|\t600: TRAIN loss 0.3810,  acc 0.8579  ||  VAL loss 1.0667, acc 0.7445\n",
      "2019-04-20 10:14:09,192|\t650: TRAIN loss 0.3604,  acc 0.8709  ||  VAL loss 1.0237, acc 0.7674\n",
      "2019-04-20 10:14:25,265|\t700: TRAIN loss 0.3296,  acc 0.8826  ||  VAL loss 1.0102, acc 0.7769\n",
      "2019-04-20 10:14:41,348|\t750: TRAIN loss 0.2974,  acc 0.8957  ||  VAL loss 1.0891, acc 0.7634\n",
      "2019-04-20 10:14:57,437|\t800: TRAIN loss 0.2936,  acc 0.8983  ||  VAL loss 1.2097, acc 0.7484\n",
      "2019-04-20 10:15:13,556|\t850: TRAIN loss 0.2696,  acc 0.9044  ||  VAL loss 1.0415, acc 0.7706\n",
      "2019-04-20 10:15:29,639|\t900: TRAIN loss 0.2634,  acc 0.9091  ||  VAL loss 1.0784, acc 0.7769\n",
      "2019-04-20 10:15:45,883|\t950: TRAIN loss 0.2613,  acc 0.9123  ||  VAL loss 1.1572, acc 0.7761\n",
      "2019-04-20 10:16:02,053|\t1000: TRAIN loss 0.2398,  acc 0.9181  ||  VAL loss 1.1044, acc 0.7753\n",
      "2019-04-20 10:16:18,166|\t1050: TRAIN loss 0.2073,  acc 0.9305  ||  VAL loss 1.1787, acc 0.7793\n",
      "2019-04-20 10:16:34,324|\t1100: TRAIN loss 0.2036,  acc 0.9297  ||  VAL loss 1.1980, acc 0.7690\n",
      "2019-04-20 10:16:50,446|\t1150: TRAIN loss 0.1813,  acc 0.9418  ||  VAL loss 1.2399, acc 0.7785\n",
      "2019-04-20 10:17:06,556|\t1200: TRAIN loss 0.1769,  acc 0.9434  ||  VAL loss 1.1916, acc 0.7761\n",
      "2019-04-20 10:17:22,630|\t1250: TRAIN loss 0.1743,  acc 0.9434  ||  VAL loss 1.3214, acc 0.7698\n",
      "2019-04-20 10:17:38,744|\t1300: TRAIN loss 0.1669,  acc 0.9487  ||  VAL loss 1.2281, acc 0.7880\n",
      "2019-04-20 10:17:54,916|\t1350: TRAIN loss 0.1542,  acc 0.9507  ||  VAL loss 1.4161, acc 0.7571\n",
      "2019-04-20 10:18:11,020|\t1400: TRAIN loss 0.1293,  acc 0.9580  ||  VAL loss 1.2530, acc 0.7975\n",
      "2019-04-20 10:18:27,141|\t1450: TRAIN loss 0.1416,  acc 0.9576  ||  VAL loss 1.2228, acc 0.7848\n",
      "2019-04-20 10:18:44,103|\t1500: TRAIN loss 0.1378,  acc 0.9598  ||  VAL loss 1.2649, acc 0.7888\n",
      "2019-04-20 10:19:01,097|\t1550: TRAIN loss 0.1755,  acc 0.9485  ||  VAL loss 1.2377, acc 0.7967\n",
      "2019-04-20 10:19:17,540|\t1600: TRAIN loss 0.1330,  acc 0.9600  ||  VAL loss 1.3935, acc 0.7785\n",
      "2019-04-20 10:19:33,720|\t1650: TRAIN loss 0.1357,  acc 0.9594  ||  VAL loss 1.3062, acc 0.7927\n",
      "2019-04-20 10:19:49,936|\t1700: TRAIN loss 0.1144,  acc 0.9665  ||  VAL loss 1.5597, acc 0.7619\n",
      "2019-04-20 10:20:06,135|\t1750: TRAIN loss 0.0996,  acc 0.9713  ||  VAL loss 1.3228, acc 0.7927\n",
      "2019-04-20 10:20:22,285|\t1800: TRAIN loss 0.1292,  acc 0.9630  ||  VAL loss 1.3406, acc 0.7983\n",
      "2019-04-20 10:20:38,476|\t1850: TRAIN loss 0.1066,  acc 0.9687  ||  VAL loss 1.3509, acc 0.7927\n",
      "2019-04-20 10:20:54,659|\t1900: TRAIN loss 0.0977,  acc 0.9739  ||  VAL loss 1.3097, acc 0.7951\n",
      "2019-04-20 10:21:10,859|\t1950: TRAIN loss 0.1161,  acc 0.9648  ||  VAL loss 1.3345, acc 0.7935\n"
     ]
    }
   ],
   "source": [
    "result=model0.fit(features_train,labels_train,validation_data=(features_val,labels_val),\n",
    "                  epochs=nepochs,batch_size=100,\n",
    "                  verbose=0,callbacks=[LoggingCallback(50,logger)])"
   ]
  },
  {
   "cell_type": "code",
   "execution_count": 24,
   "metadata": {
    "ExecuteTime": {
     "end_time": "2019-04-20T14:21:26.985863Z",
     "start_time": "2019-04-20T14:21:26.717883Z"
    }
   },
   "outputs": [
    {
     "data": {
      "text/plain": [
       "<matplotlib.legend.Legend at 0x1cb15fcf4e0>"
      ]
     },
     "execution_count": 24,
     "metadata": {},
     "output_type": "execute_result"
    },
    {
     "data": {
      "image/png": "[encoded data removed]",
      "text/plain": [
       "<Figure size 864x432 with 2 Axes>"
      ]
     },
     "metadata": {},
     "output_type": "display_data"
    }
   ],
   "source": [
    "history=result.history\n",
    "plt.figure(figsize=(12,6))\n",
    "plt.subplot(1, 2, 1)\n",
    "plt.plot(history[\"loss\"],label=\"loss\")\n",
    "plt.plot(history[\"val_loss\"],label=\"valuation loss\")\n",
    "plt.title('Loss')\n",
    "plt.xlabel('epoch')\n",
    "plt.legend()\n",
    "\n",
    "plt.subplot(1, 2, 2)\n",
    "plt.plot(history[\"acc\"],label=\"accuracy\")\n",
    "plt.plot(history[\"val_acc\"],label=\"valuation accuracy\")\n",
    "plt.title('Accuracy')\n",
    "plt.xlabel('epoch')\n",
    "plt.legend()"
   ]
  },
  {
   "cell_type": "code",
   "execution_count": 25,
   "metadata": {
    "ExecuteTime": {
     "end_time": "2019-04-20T14:21:27.106922Z",
     "start_time": "2019-04-20T14:21:26.985863Z"
    }
   },
   "outputs": [
    {
     "data": {
      "text/plain": [
       "0.7935126582278481"
      ]
     },
     "execution_count": 25,
     "metadata": {},
     "output_type": "execute_result"
    }
   ],
   "source": [
    "Y_pred=np.argmax(model0.predict(features_val),axis=1)\n",
    "np.mean(Y_pred==labels_val)"
   ]
  },
  {
   "cell_type": "markdown",
   "metadata": {},
   "source": [
    "### Fit 2 Layer Dense Network without Dropout"
   ]
  },
  {
   "cell_type": "code",
   "execution_count": 26,
   "metadata": {
    "ExecuteTime": {
     "end_time": "2019-04-20T14:32:08.947087Z",
     "start_time": "2019-04-20T14:21:27.106922Z"
    }
   },
   "outputs": [
    {
     "name": "stdout",
     "output_type": "stream",
     "text": [
      "2019-04-20 10:21:28,068|\t0: TRAIN loss 14.2787,  acc 0.1116  ||  VAL loss 14.1549, acc 0.1210\n",
      "2019-04-20 10:21:44,078|\t50: TRAIN loss 7.7389,  acc 0.4622  ||  VAL loss 7.7754, acc 0.4517\n",
      "2019-04-20 10:22:00,180|\t100: TRAIN loss 0.8102,  acc 0.7300  ||  VAL loss 1.4118, acc 0.6155\n",
      "2019-04-20 10:22:16,198|\t150: TRAIN loss 0.6067,  acc 0.8027  ||  VAL loss 1.3710, acc 0.6551\n",
      "2019-04-20 10:22:32,596|\t200: TRAIN loss 0.4202,  acc 0.8700  ||  VAL loss 1.4529, acc 0.6519\n",
      "2019-04-20 10:22:49,426|\t250: TRAIN loss 0.3292,  acc 0.9048  ||  VAL loss 1.2201, acc 0.7025\n",
      "2019-04-20 10:23:06,188|\t300: TRAIN loss 0.2599,  acc 0.9325  ||  VAL loss 1.2430, acc 0.7326\n",
      "2019-04-20 10:23:22,209|\t350: TRAIN loss 0.1998,  acc 0.9531  ||  VAL loss 1.2612, acc 0.7358\n",
      "2019-04-20 10:23:38,216|\t400: TRAIN loss 0.1862,  acc 0.9606  ||  VAL loss 1.2571, acc 0.7492\n",
      "2019-04-20 10:23:54,327|\t450: TRAIN loss 0.1521,  acc 0.9715  ||  VAL loss 1.4175, acc 0.7334\n",
      "2019-04-20 10:24:10,327|\t500: TRAIN loss 0.2426,  acc 0.9473  ||  VAL loss 1.3663, acc 0.7445\n",
      "2019-04-20 10:24:26,308|\t550: TRAIN loss 0.1230,  acc 0.9822  ||  VAL loss 1.3961, acc 0.7460\n",
      "2019-04-20 10:24:42,374|\t600: TRAIN loss 0.1250,  acc 0.9794  ||  VAL loss 1.4177, acc 0.7524\n",
      "2019-04-20 10:24:58,309|\t650: TRAIN loss 0.0997,  acc 0.9885  ||  VAL loss 1.4509, acc 0.7579\n",
      "2019-04-20 10:25:14,306|\t700: TRAIN loss 0.1670,  acc 0.9660  ||  VAL loss 1.4874, acc 0.7555\n",
      "2019-04-20 10:25:30,216|\t750: TRAIN loss 0.0931,  acc 0.9931  ||  VAL loss 1.4685, acc 0.7571\n",
      "2019-04-20 10:25:46,181|\t800: TRAIN loss 0.0895,  acc 0.9931  ||  VAL loss 1.4684, acc 0.7595\n",
      "2019-04-20 10:26:02,205|\t850: TRAIN loss 0.0839,  acc 0.9945  ||  VAL loss 1.4807, acc 0.7682\n",
      "2019-04-20 10:26:18,166|\t900: TRAIN loss 0.0835,  acc 0.9945  ||  VAL loss 1.4721, acc 0.7682\n",
      "2019-04-20 10:26:34,118|\t950: TRAIN loss 0.0821,  acc 0.9947  ||  VAL loss 1.4878, acc 0.7682\n",
      "2019-04-20 10:26:50,062|\t1000: TRAIN loss 0.0816,  acc 0.9945  ||  VAL loss 1.4822, acc 0.7690\n",
      "2019-04-20 10:27:06,030|\t1050: TRAIN loss 0.0807,  acc 0.9947  ||  VAL loss 1.5124, acc 0.7706\n",
      "2019-04-20 10:27:21,949|\t1100: TRAIN loss 0.0811,  acc 0.9949  ||  VAL loss 1.5024, acc 0.7714\n",
      "2019-04-20 10:27:37,887|\t1150: TRAIN loss 0.0801,  acc 0.9949  ||  VAL loss 1.5297, acc 0.7737\n",
      "2019-04-20 10:27:53,920|\t1200: TRAIN loss 0.0806,  acc 0.9951  ||  VAL loss 1.5528, acc 0.7627\n",
      "2019-04-20 10:28:09,885|\t1250: TRAIN loss 0.0791,  acc 0.9952  ||  VAL loss 1.5422, acc 0.7650\n",
      "2019-04-20 10:28:25,822|\t1300: TRAIN loss 0.0799,  acc 0.9951  ||  VAL loss 1.5512, acc 0.7634\n",
      "2019-04-20 10:28:41,743|\t1350: TRAIN loss 0.0806,  acc 0.9947  ||  VAL loss 1.5339, acc 0.7722\n",
      "2019-04-20 10:28:57,690|\t1400: TRAIN loss 0.0793,  acc 0.9952  ||  VAL loss 1.5265, acc 0.7698\n",
      "2019-04-20 10:29:13,621|\t1450: TRAIN loss 0.0783,  acc 0.9952  ||  VAL loss 1.5538, acc 0.7666\n",
      "2019-04-20 10:29:29,565|\t1500: TRAIN loss 0.0785,  acc 0.9949  ||  VAL loss 1.5530, acc 0.7714\n",
      "2019-04-20 10:29:45,488|\t1550: TRAIN loss 0.0795,  acc 0.9952  ||  VAL loss 1.5702, acc 0.7714\n",
      "2019-04-20 10:30:01,462|\t1600: TRAIN loss 0.0784,  acc 0.9952  ||  VAL loss 1.5939, acc 0.7690\n",
      "2019-04-20 10:30:17,408|\t1650: TRAIN loss 0.0781,  acc 0.9952  ||  VAL loss 1.6116, acc 0.7698\n",
      "2019-04-20 10:30:33,351|\t1700: TRAIN loss 0.0779,  acc 0.9952  ||  VAL loss 1.6215, acc 0.7682\n",
      "2019-04-20 10:30:49,324|\t1750: TRAIN loss 0.0778,  acc 0.9952  ||  VAL loss 1.6282, acc 0.7706\n",
      "2019-04-20 10:31:05,271|\t1800: TRAIN loss 0.0776,  acc 0.9952  ||  VAL loss 1.6366, acc 0.7690\n",
      "2019-04-20 10:31:21,199|\t1850: TRAIN loss 0.0776,  acc 0.9952  ||  VAL loss 1.6412, acc 0.7698\n",
      "2019-04-20 10:31:37,126|\t1900: TRAIN loss 0.0775,  acc 0.9952  ||  VAL loss 1.6453, acc 0.7706\n",
      "2019-04-20 10:31:53,161|\t1950: TRAIN loss 0.0774,  acc 0.9952  ||  VAL loss 1.6506, acc 0.7722\n"
     ]
    }
   ],
   "source": [
    "model1=build_model(512,256,0.0)\n",
    "result=model1.fit(features_train,labels_train,validation_data=(features_val,labels_val),\n",
    "                  epochs=nepochs,batch_size=100,\n",
    "                  verbose=0,callbacks=[LoggingCallback(50,logger)])"
   ]
  },
  {
   "cell_type": "code",
   "execution_count": 27,
   "metadata": {
    "ExecuteTime": {
     "end_time": "2019-04-20T14:32:09.225924Z",
     "start_time": "2019-04-20T14:32:08.947087Z"
    }
   },
   "outputs": [
    {
     "data": {
      "text/plain": [
       "<matplotlib.legend.Legend at 0x1cb1632c048>"
      ]
     },
     "execution_count": 27,
     "metadata": {},
     "output_type": "execute_result"
    },
    {
     "data": {
      "image/png": "[encoded data removed]",
      "text/plain": [
       "<Figure size 864x432 with 2 Axes>"
      ]
     },
     "metadata": {},
     "output_type": "display_data"
    }
   ],
   "source": [
    "history=result.history\n",
    "plt.figure(figsize=(12,6))\n",
    "plt.subplot(1, 2, 1)\n",
    "plt.plot(history[\"loss\"],label=\"loss\")\n",
    "plt.plot(history[\"val_loss\"],label=\"valuation loss\")\n",
    "plt.title('Loss')\n",
    "plt.xlabel('epoch')\n",
    "plt.legend()\n",
    "\n",
    "plt.subplot(1, 2, 2)\n",
    "plt.plot(history[\"acc\"],label=\"accuracy\")\n",
    "plt.plot(history[\"val_acc\"],label=\"valuation accuracy\")\n",
    "plt.title('Accuracy')\n",
    "plt.xlabel('epoch')\n",
    "plt.legend()"
   ]
  },
  {
   "cell_type": "code",
   "execution_count": 28,
   "metadata": {
    "ExecuteTime": {
     "end_time": "2019-04-20T14:32:09.360557Z",
     "start_time": "2019-04-20T14:32:09.225924Z"
    }
   },
   "outputs": [
    {
     "data": {
      "text/plain": [
       "0.7666139240506329"
      ]
     },
     "execution_count": 28,
     "metadata": {},
     "output_type": "execute_result"
    }
   ],
   "source": [
    "Y_pred=np.argmax(model1.predict(features_val),axis=1)\n",
    "np.mean(Y_pred==labels_val)"
   ]
  },
  {
   "cell_type": "markdown",
   "metadata": {},
   "source": [
    "Drop out does not really make a difference in this case."
   ]
  },
  {
   "cell_type": "markdown",
   "metadata": {
    "ExecuteTime": {
     "end_time": "2017-12-18T11:36:58.223012Z",
     "start_time": "2017-12-18T11:36:58.220028Z"
    }
   },
   "source": [
    "### Hyper-parameter optimization"
   ]
  },
  {
   "cell_type": "code",
   "execution_count": 35,
   "metadata": {
    "ExecuteTime": {
     "end_time": "2019-04-20T14:56:43.351853Z",
     "start_time": "2019-04-20T14:56:43.347854Z"
    }
   },
   "outputs": [],
   "source": [
    "dropout=0.4"
   ]
  },
  {
   "cell_type": "code",
   "execution_count": 36,
   "metadata": {
    "ExecuteTime": {
     "end_time": "2019-04-21T11:11:00.633634Z",
     "start_time": "2019-04-20T14:56:43.351853Z"
    }
   },
   "outputs": [
    {
     "name": "stdout",
     "output_type": "stream",
     "text": [
      "2019-04-20 10:56:44,439|\t0: TRAIN loss 13.5888,  acc 0.1348  ||  VAL loss 13.4544, acc 0.1337\n",
      "2019-04-20 10:57:14,733|\t100: TRAIN loss 2.1248,  acc 0.1934  ||  VAL loss 2.1371, acc 0.1978\n",
      "2019-04-20 10:57:45,140|\t200: TRAIN loss 2.0342,  acc 0.2169  ||  VAL loss 2.1099, acc 0.2168\n",
      "2019-04-20 10:58:15,571|\t300: TRAIN loss 1.9116,  acc 0.2609  ||  VAL loss 2.0483, acc 0.2737\n",
      "2019-04-20 10:58:45,984|\t400: TRAIN loss 1.8156,  acc 0.3038  ||  VAL loss 1.9193, acc 0.3457\n",
      "2019-04-20 10:59:16,367|\t500: TRAIN loss 1.6589,  acc 0.3624  ||  VAL loss 1.8373, acc 0.4051\n",
      "2019-04-20 10:59:46,760|\t600: TRAIN loss 1.5554,  acc 0.4175  ||  VAL loss 1.7581, acc 0.4945\n",
      "2019-04-20 11:00:17,281|\t700: TRAIN loss 1.4463,  acc 0.4543  ||  VAL loss 1.6265, acc 0.5356\n",
      "2019-04-20 11:00:47,699|\t800: TRAIN loss 1.3618,  acc 0.4899  ||  VAL loss 1.6979, acc 0.5229\n",
      "2019-04-20 11:01:17,972|\t900: TRAIN loss 1.2534,  acc 0.5333  ||  VAL loss 1.5663, acc 0.5696\n",
      "2019-04-20 11:01:48,360|\t1000: TRAIN loss 1.1545,  acc 0.5614  ||  VAL loss 1.5403, acc 0.5166\n",
      "2019-04-20 11:02:18,896|\t1100: TRAIN loss 1.1669,  acc 0.5673  ||  VAL loss 1.3899, acc 0.6139\n",
      "2019-04-20 11:02:49,149|\t1200: TRAIN loss 1.0390,  acc 0.6065  ||  VAL loss 1.4282, acc 0.6313\n",
      "2019-04-20 11:03:19,534|\t1300: TRAIN loss 0.9648,  acc 0.6378  ||  VAL loss 1.4474, acc 0.6305\n",
      "2019-04-20 11:03:49,846|\t1400: TRAIN loss 0.9340,  acc 0.6441  ||  VAL loss 1.3802, acc 0.6693\n",
      "2019-04-20 11:04:20,266|\t1500: TRAIN loss 0.8591,  acc 0.6728  ||  VAL loss 1.5373, acc 0.6179\n",
      "2019-04-20 11:04:50,659|\t1600: TRAIN loss 0.8668,  acc 0.6750  ||  VAL loss 1.4610, acc 0.6653\n",
      "2019-04-20 11:05:21,084|\t1700: TRAIN loss 0.7857,  acc 0.7039  ||  VAL loss 1.4756, acc 0.6638\n",
      "2019-04-20 11:05:51,801|\t1800: TRAIN loss 0.7624,  acc 0.7120  ||  VAL loss 1.4147, acc 0.6630\n",
      "2019-04-20 11:06:22,185|\t1900: TRAIN loss 0.7299,  acc 0.7207  ||  VAL loss 1.4784, acc 0.6954\n",
      "2019-04-20 11:06:52,508|>>>>>128,32,0.863618368962787,0.6843354430379747\n",
      "2019-04-20 11:06:53,573|\t0: TRAIN loss 14.1150,  acc 0.1148  ||  VAL loss 13.8903, acc 0.1305\n",
      "2019-04-20 11:07:23,940|\t100: TRAIN loss 2.0579,  acc 0.2435  ||  VAL loss 2.1974, acc 0.2207\n",
      "2019-04-20 11:07:54,327|\t200: TRAIN loss 1.7480,  acc 0.3482  ||  VAL loss 1.7745, acc 0.3790\n",
      "2019-04-20 11:08:24,651|\t300: TRAIN loss 1.5127,  acc 0.4359  ||  VAL loss 1.6083, acc 0.4763\n",
      "2019-04-20 11:08:55,008|\t400: TRAIN loss 1.2920,  acc 0.5028  ||  VAL loss 1.5014, acc 0.5340\n",
      "2019-04-20 11:09:25,367|\t500: TRAIN loss 1.1416,  acc 0.5558  ||  VAL loss 1.3655, acc 0.5973\n",
      "2019-04-20 11:09:55,837|\t600: TRAIN loss 1.0382,  acc 0.5976  ||  VAL loss 1.3031, acc 0.6131\n",
      "2019-04-20 11:10:26,277|\t700: TRAIN loss 0.9491,  acc 0.6326  ||  VAL loss 1.8189, acc 0.5799\n",
      "2019-04-20 11:10:56,667|\t800: TRAIN loss 0.8815,  acc 0.6572  ||  VAL loss 1.3224, acc 0.6384\n",
      "2019-04-20 11:11:27,088|\t900: TRAIN loss 0.8103,  acc 0.6803  ||  VAL loss 1.2584, acc 0.6614\n",
      "2019-04-20 11:11:57,528|\t1000: TRAIN loss 0.7889,  acc 0.6960  ||  VAL loss 1.2539, acc 0.6717\n",
      "2019-04-20 11:12:27,868|\t1100: TRAIN loss 0.7469,  acc 0.7106  ||  VAL loss 1.2984, acc 0.6701\n",
      "2019-04-20 11:12:58,514|\t1200: TRAIN loss 0.6773,  acc 0.7344  ||  VAL loss 1.2656, acc 0.6875\n",
      "2019-04-20 11:13:30,162|\t1300: TRAIN loss 0.6702,  acc 0.7456  ||  VAL loss 1.3545, acc 0.6305\n",
      "2019-04-20 11:14:01,353|\t1400: TRAIN loss 0.5703,  acc 0.7745  ||  VAL loss 1.4360, acc 0.6875\n",
      "2019-04-20 11:14:31,751|\t1500: TRAIN loss 0.5839,  acc 0.7714  ||  VAL loss 1.4565, acc 0.6986\n",
      "2019-04-20 11:15:02,221|\t1600: TRAIN loss 0.5395,  acc 0.7900  ||  VAL loss 1.4608, acc 0.7089\n",
      "2019-04-20 11:15:32,688|\t1700: TRAIN loss 0.5019,  acc 0.8086  ||  VAL loss 1.7129, acc 0.6867\n",
      "2019-04-20 11:16:03,193|\t1800: TRAIN loss 0.4609,  acc 0.8185  ||  VAL loss 1.5288, acc 0.7009\n",
      "2019-04-20 11:16:33,602|\t1900: TRAIN loss 0.4457,  acc 0.8294  ||  VAL loss 1.4857, acc 0.7263\n",
      "2019-04-20 11:17:04,027|>>>>>128,64,0.9239904988123515,0.7183544303797469\n",
      "2019-04-20 11:17:05,142|\t0: TRAIN loss 13.9506,  acc 0.1215  ||  VAL loss 14.0419, acc 0.1234\n",
      "2019-04-20 11:17:35,532|\t100: TRAIN loss 2.0026,  acc 0.2496  ||  VAL loss 2.0899, acc 0.2445\n",
      "2019-04-20 11:18:06,120|\t200: TRAIN loss 1.9283,  acc 0.2726  ||  VAL loss 2.0551, acc 0.2508\n",
      "2019-04-20 11:18:36,592|\t300: TRAIN loss 1.8696,  acc 0.2957  ||  VAL loss 2.0427, acc 0.2634\n",
      "2019-04-20 11:19:07,035|\t400: TRAIN loss 1.7882,  acc 0.3430  ||  VAL loss 1.9285, acc 0.3133\n",
      "2019-04-20 11:19:37,479|\t500: TRAIN loss 1.6607,  acc 0.3945  ||  VAL loss 1.8755, acc 0.3616\n",
      "2019-04-20 11:20:08,002|\t600: TRAIN loss 1.5199,  acc 0.4517  ||  VAL loss 1.7919, acc 0.3742\n",
      "2019-04-20 11:20:38,435|\t700: TRAIN loss 1.4315,  acc 0.5022  ||  VAL loss 1.7373, acc 0.4367\n",
      "2019-04-20 11:21:08,966|\t800: TRAIN loss 1.3050,  acc 0.5340  ||  VAL loss 1.6496, acc 0.5008\n",
      "2019-04-20 11:21:39,383|\t900: TRAIN loss 1.1872,  acc 0.5816  ||  VAL loss 1.6605, acc 0.5166\n",
      "2019-04-20 11:22:09,750|\t1000: TRAIN loss 1.0994,  acc 0.6091  ||  VAL loss 1.5452, acc 0.5419\n",
      "2019-04-20 11:22:40,071|\t1100: TRAIN loss 1.0317,  acc 0.6269  ||  VAL loss 1.5487, acc 0.5522\n",
      "2019-04-20 11:23:10,288|\t1200: TRAIN loss 0.9588,  acc 0.6586  ||  VAL loss 1.5771, acc 0.5530\n",
      "2019-04-20 11:23:40,662|\t1300: TRAIN loss 0.9050,  acc 0.6740  ||  VAL loss 1.4543, acc 0.5799\n",
      "2019-04-20 11:24:11,168|\t1400: TRAIN loss 0.8697,  acc 0.6880  ||  VAL loss 1.5142, acc 0.5807\n",
      "2019-04-20 11:24:41,530|\t1500: TRAIN loss 0.7879,  acc 0.7124  ||  VAL loss 1.7335, acc 0.5854\n",
      "2019-04-20 11:25:11,711|\t1600: TRAIN loss 0.7504,  acc 0.7312  ||  VAL loss 1.5146, acc 0.5831\n",
      "2019-04-20 11:25:42,121|\t1700: TRAIN loss 0.7714,  acc 0.7290  ||  VAL loss 1.6445, acc 0.5815\n",
      "2019-04-20 11:26:12,515|\t1800: TRAIN loss 0.7798,  acc 0.7185  ||  VAL loss 1.7117, acc 0.5759\n",
      "2019-04-20 11:26:42,873|\t1900: TRAIN loss 0.7069,  acc 0.7472  ||  VAL loss 1.7510, acc 0.6100\n",
      "2019-04-20 11:27:13,312|>>>>>128,128,0.7840459224069676,0.5957278481012658\n",
      "2019-04-20 11:27:14,483|\t0: TRAIN loss 13.3624,  acc 0.1534  ||  VAL loss 13.9924, acc 0.1274\n",
      "2019-04-20 11:27:45,157|\t100: TRAIN loss 1.9622,  acc 0.2775  ||  VAL loss 2.1172, acc 0.2358\n",
      "2019-04-20 11:28:15,948|\t200: TRAIN loss 1.7778,  acc 0.3325  ||  VAL loss 2.0187, acc 0.2809\n",
      "2019-04-20 11:28:46,618|\t300: TRAIN loss 1.7597,  acc 0.3347  ||  VAL loss 2.0475, acc 0.3109\n",
      "2019-04-20 11:29:17,297|\t400: TRAIN loss 1.7493,  acc 0.3551  ||  VAL loss 2.1026, acc 0.3220\n",
      "2019-04-20 11:29:47,943|\t500: TRAIN loss 1.6457,  acc 0.3820  ||  VAL loss 2.0311, acc 0.3465\n",
      "2019-04-20 11:30:18,697|\t600: TRAIN loss 1.5722,  acc 0.4147  ||  VAL loss 2.0345, acc 0.3655\n",
      "2019-04-20 11:30:49,389|\t700: TRAIN loss 1.4975,  acc 0.4333  ||  VAL loss 2.2015, acc 0.3908\n",
      "2019-04-20 11:31:20,034|\t800: TRAIN loss 1.4041,  acc 0.4723  ||  VAL loss 1.8836, acc 0.4074\n",
      "2019-04-20 11:31:51,807|\t900: TRAIN loss 1.4399,  acc 0.4572  ||  VAL loss 2.4128, acc 0.3275\n",
      "2019-04-20 11:32:22,459|\t1000: TRAIN loss 1.2841,  acc 0.5164  ||  VAL loss 1.7774, acc 0.4502\n",
      "2019-04-20 11:32:53,131|\t1100: TRAIN loss 1.2275,  acc 0.5331  ||  VAL loss 1.8366, acc 0.4660\n",
      "2019-04-20 11:33:23,838|\t1200: TRAIN loss 1.1173,  acc 0.5946  ||  VAL loss 1.6760, acc 0.5040\n",
      "2019-04-20 11:33:54,695|\t1300: TRAIN loss 1.0688,  acc 0.6134  ||  VAL loss 1.7034, acc 0.5372\n",
      "2019-04-20 11:34:25,418|\t1400: TRAIN loss 0.9307,  acc 0.6679  ||  VAL loss 1.5976, acc 0.5807\n",
      "2019-04-20 11:34:56,160|\t1500: TRAIN loss 0.8455,  acc 0.7005  ||  VAL loss 3.3313, acc 0.4169\n",
      "2019-04-20 11:35:26,849|\t1600: TRAIN loss 0.8011,  acc 0.7175  ||  VAL loss 1.6069, acc 0.5989\n",
      "2019-04-20 11:35:57,624|\t1700: TRAIN loss 0.7639,  acc 0.7326  ||  VAL loss 1.7078, acc 0.5989\n",
      "2019-04-20 11:36:28,287|\t1800: TRAIN loss 0.8222,  acc 0.7156  ||  VAL loss 1.7198, acc 0.5926\n",
      "2019-04-20 11:36:58,961|\t1900: TRAIN loss 0.7721,  acc 0.7270  ||  VAL loss 1.7749, acc 0.5831\n",
      "2019-04-20 11:37:29,726|>>>>>128,256,0.734362628661916,0.5957278481012658\n",
      "2019-04-20 11:37:30,956|\t0: TRAIN loss 14.1999,  acc 0.1093  ||  VAL loss 14.1726, acc 0.1179\n",
      "2019-04-20 11:38:01,634|\t100: TRAIN loss 1.9435,  acc 0.2935  ||  VAL loss 2.0595, acc 0.2801\n",
      "2019-04-20 11:38:32,316|\t200: TRAIN loss 1.9193,  acc 0.2892  ||  VAL loss 2.1244, acc 0.2650\n",
      "2019-04-20 11:39:03,031|\t300: TRAIN loss 1.8121,  acc 0.3393  ||  VAL loss 2.0042, acc 0.3141\n"
     ]
    },
    {
     "name": "stdout",
     "output_type": "stream",
     "text": [
      "2019-04-20 11:39:33,728|\t400: TRAIN loss 1.8382,  acc 0.3137  ||  VAL loss 2.0303, acc 0.2769\n",
      "2019-04-20 11:40:04,445|\t500: TRAIN loss 1.7495,  acc 0.3565  ||  VAL loss 1.9832, acc 0.3291\n",
      "2019-04-20 11:40:35,071|\t600: TRAIN loss 1.6657,  acc 0.3884  ||  VAL loss 2.1399, acc 0.3623\n",
      "2019-04-20 11:41:05,743|\t700: TRAIN loss 1.5532,  acc 0.4256  ||  VAL loss 1.9281, acc 0.3679\n",
      "2019-04-20 11:41:36,352|\t800: TRAIN loss 1.4330,  acc 0.4669  ||  VAL loss 1.8818, acc 0.3853\n",
      "2019-04-20 11:42:07,101|\t900: TRAIN loss 1.2754,  acc 0.5388  ||  VAL loss 1.7964, acc 0.4810\n",
      "2019-04-20 11:42:37,837|\t1000: TRAIN loss 1.1348,  acc 0.6000  ||  VAL loss 1.6000, acc 0.5301\n",
      "2019-04-20 11:43:08,466|\t1100: TRAIN loss 1.0397,  acc 0.6382  ||  VAL loss 1.5971, acc 0.5222\n",
      "2019-04-20 11:43:39,228|\t1200: TRAIN loss 1.1137,  acc 0.6079  ||  VAL loss 1.6523, acc 0.5150\n",
      "2019-04-20 11:44:09,966|\t1300: TRAIN loss 0.9526,  acc 0.6681  ||  VAL loss 1.5296, acc 0.5736\n",
      "2019-04-20 11:44:40,688|\t1400: TRAIN loss 0.9103,  acc 0.6859  ||  VAL loss 1.5938, acc 0.5554\n",
      "2019-04-20 11:45:11,298|\t1500: TRAIN loss 0.9614,  acc 0.6730  ||  VAL loss 1.6753, acc 0.5617\n",
      "2019-04-20 11:45:41,993|\t1600: TRAIN loss 0.8535,  acc 0.7067  ||  VAL loss 1.7053, acc 0.5791\n",
      "2019-04-20 11:46:12,717|\t1700: TRAIN loss 0.7928,  acc 0.7260  ||  VAL loss 1.6996, acc 0.5910\n",
      "2019-04-20 11:46:43,361|\t1800: TRAIN loss 0.7570,  acc 0.7363  ||  VAL loss 1.8734, acc 0.5593\n",
      "2019-04-20 11:47:14,018|\t1900: TRAIN loss 0.6891,  acc 0.7613  ||  VAL loss 1.8293, acc 0.5839\n",
      "2019-04-20 11:47:44,705|>>>>>128,512,0.785827395091053,0.6044303797468354\n",
      "2019-04-20 11:47:46,067|\t0: TRAIN loss 13.3007,  acc 0.1494  ||  VAL loss 12.3085, acc 0.2136\n",
      "2019-04-20 11:48:17,162|\t100: TRAIN loss 1.8207,  acc 0.3286  ||  VAL loss 1.9640, acc 0.3236\n",
      "2019-04-20 11:48:48,183|\t200: TRAIN loss 1.6321,  acc 0.3935  ||  VAL loss 1.9495, acc 0.3354\n",
      "2019-04-20 11:49:19,108|\t300: TRAIN loss 1.5690,  acc 0.4026  ||  VAL loss 1.8250, acc 0.3513\n",
      "2019-04-20 11:49:50,092|\t400: TRAIN loss 1.5528,  acc 0.4212  ||  VAL loss 1.7533, acc 0.3869\n",
      "2019-04-20 11:50:21,122|\t500: TRAIN loss 1.4274,  acc 0.4753  ||  VAL loss 1.7050, acc 0.4272\n",
      "2019-04-20 11:50:52,809|\t600: TRAIN loss 1.2949,  acc 0.5273  ||  VAL loss 1.6958, acc 0.4454\n",
      "2019-04-20 11:51:24,649|\t700: TRAIN loss 1.2423,  acc 0.5412  ||  VAL loss 1.8797, acc 0.4399\n",
      "2019-04-20 11:51:55,703|\t800: TRAIN loss 1.1737,  acc 0.5722  ||  VAL loss 1.6295, acc 0.4881\n",
      "2019-04-20 11:52:26,652|\t900: TRAIN loss 1.1557,  acc 0.5954  ||  VAL loss 1.5877, acc 0.5245\n",
      "2019-04-20 11:52:57,667|\t1000: TRAIN loss 0.9524,  acc 0.6625  ||  VAL loss 1.4810, acc 0.5617\n",
      "2019-04-20 11:53:28,713|\t1100: TRAIN loss 0.8127,  acc 0.7070  ||  VAL loss 1.5080, acc 0.5728\n",
      "2019-04-20 11:53:59,826|\t1200: TRAIN loss 0.7853,  acc 0.7144  ||  VAL loss 1.5400, acc 0.5688\n",
      "2019-04-20 11:54:30,901|\t1300: TRAIN loss 0.7130,  acc 0.7395  ||  VAL loss 1.4902, acc 0.6005\n",
      "2019-04-20 11:55:01,998|\t1400: TRAIN loss 0.7605,  acc 0.7371  ||  VAL loss 1.5811, acc 0.5767\n",
      "2019-04-20 11:55:33,084|\t1500: TRAIN loss 0.6111,  acc 0.7773  ||  VAL loss 1.5797, acc 0.5934\n",
      "2019-04-20 11:56:04,262|\t1600: TRAIN loss 0.6497,  acc 0.7617  ||  VAL loss 1.6921, acc 0.5926\n",
      "2019-04-20 11:56:35,354|\t1700: TRAIN loss 0.5545,  acc 0.7858  ||  VAL loss 1.6318, acc 0.5957\n",
      "2019-04-20 11:57:06,449|\t1800: TRAIN loss 0.5483,  acc 0.7985  ||  VAL loss 1.6908, acc 0.5847\n",
      "2019-04-20 11:57:37,536|\t1900: TRAIN loss 0.5146,  acc 0.8027  ||  VAL loss 1.7309, acc 0.5965\n",
      "2019-04-20 11:58:08,862|>>>>>128,1024,0.8202692003167062,0.6107594936708861\n",
      "2019-04-20 11:58:10,169|\t0: TRAIN loss 14.3113,  acc 0.1067  ||  VAL loss 13.9301, acc 0.1337\n",
      "2019-04-20 11:58:41,591|\t100: TRAIN loss 2.1946,  acc 0.1568  ||  VAL loss 2.2230, acc 0.1456\n",
      "2019-04-20 11:59:13,093|\t200: TRAIN loss 2.1499,  acc 0.1746  ||  VAL loss 2.1873, acc 0.1598\n",
      "2019-04-20 11:59:44,525|\t300: TRAIN loss 2.0839,  acc 0.1962  ||  VAL loss 2.0943, acc 0.1915\n",
      "2019-04-20 12:00:16,104|\t400: TRAIN loss 2.0530,  acc 0.2179  ||  VAL loss 2.0485, acc 0.2310\n",
      "2019-04-20 12:00:47,620|\t500: TRAIN loss 1.9538,  acc 0.2670  ||  VAL loss 2.0639, acc 0.3054\n",
      "2019-04-20 12:01:19,073|\t600: TRAIN loss 1.8591,  acc 0.2888  ||  VAL loss 1.8965, acc 0.3267\n",
      "2019-04-20 12:01:50,665|\t700: TRAIN loss 1.7848,  acc 0.3217  ||  VAL loss 1.9703, acc 0.2919\n",
      "2019-04-20 12:02:22,130|\t800: TRAIN loss 1.7204,  acc 0.3458  ||  VAL loss 1.7111, acc 0.4066\n",
      "2019-04-20 12:02:53,578|\t900: TRAIN loss 1.5611,  acc 0.4056  ||  VAL loss 1.5951, acc 0.4565\n",
      "2019-04-20 12:03:25,030|\t1000: TRAIN loss 1.4886,  acc 0.4408  ||  VAL loss 1.5626, acc 0.5103\n",
      "2019-04-20 12:03:56,674|\t1100: TRAIN loss 1.3900,  acc 0.4774  ||  VAL loss 1.6727, acc 0.5245\n",
      "2019-04-20 12:04:28,171|\t1200: TRAIN loss 1.3193,  acc 0.5032  ||  VAL loss 1.4687, acc 0.5578\n",
      "2019-04-20 12:04:59,603|\t1300: TRAIN loss 1.1900,  acc 0.5550  ||  VAL loss 1.8760, acc 0.5451\n",
      "2019-04-20 12:05:31,146|\t1400: TRAIN loss 1.1127,  acc 0.5724  ||  VAL loss 1.3761, acc 0.6131\n",
      "2019-04-20 12:06:02,705|\t1500: TRAIN loss 1.0494,  acc 0.5911  ||  VAL loss 1.5534, acc 0.6036\n",
      "2019-04-20 12:06:34,160|\t1600: TRAIN loss 0.9751,  acc 0.6239  ||  VAL loss 1.6320, acc 0.6013\n",
      "2019-04-20 12:07:05,675|\t1700: TRAIN loss 0.9070,  acc 0.6437  ||  VAL loss 1.5553, acc 0.5902\n",
      "2019-04-20 12:07:37,164|\t1800: TRAIN loss 0.7910,  acc 0.6865  ||  VAL loss 1.6695, acc 0.6392\n",
      "2019-04-20 12:08:08,746|\t1900: TRAIN loss 0.7636,  acc 0.7007  ||  VAL loss 1.4436, acc 0.6764\n",
      "2019-04-20 12:08:40,277|>>>>>256,32,0.8616389548693587,0.6954113924050633\n",
      "2019-04-20 12:08:41,643|\t0: TRAIN loss 13.6414,  acc 0.1380  ||  VAL loss 13.5799, acc 0.1503\n",
      "2019-04-20 12:09:13,189|\t100: TRAIN loss 1.9576,  acc 0.2694  ||  VAL loss 1.9917, acc 0.2998\n",
      "2019-04-20 12:09:44,715|\t200: TRAIN loss 1.7995,  acc 0.3480  ||  VAL loss 1.8727, acc 0.3837\n",
      "2019-04-20 12:10:16,449|\t300: TRAIN loss 1.4742,  acc 0.4331  ||  VAL loss 1.5033, acc 0.4794\n",
      "2019-04-20 12:10:48,024|\t400: TRAIN loss 1.2168,  acc 0.5313  ||  VAL loss 1.3545, acc 0.5752\n",
      "2019-04-20 12:11:19,576|\t500: TRAIN loss 1.1445,  acc 0.5657  ||  VAL loss 1.2687, acc 0.5949\n",
      "2019-04-20 12:11:51,259|\t600: TRAIN loss 0.9735,  acc 0.6164  ||  VAL loss 1.2953, acc 0.6274\n",
      "2019-04-20 12:12:22,817|\t700: TRAIN loss 0.8671,  acc 0.6566  ||  VAL loss 1.2454, acc 0.6614\n",
      "2019-04-20 12:12:54,406|\t800: TRAIN loss 0.7790,  acc 0.6876  ||  VAL loss 2.0657, acc 0.6226\n",
      "2019-04-20 12:13:26,006|\t900: TRAIN loss 0.7067,  acc 0.7132  ||  VAL loss 1.3794, acc 0.6606\n",
      "2019-04-20 12:13:57,751|\t1000: TRAIN loss 0.6927,  acc 0.7241  ||  VAL loss 1.4484, acc 0.6582\n",
      "2019-04-20 12:14:29,234|\t1100: TRAIN loss 0.6047,  acc 0.7595  ||  VAL loss 1.4156, acc 0.6899\n",
      "2019-04-20 12:15:00,765|\t1200: TRAIN loss 0.5302,  acc 0.7809  ||  VAL loss 1.4135, acc 0.7104\n",
      "2019-04-20 12:15:32,329|\t1300: TRAIN loss 0.4638,  acc 0.8056  ||  VAL loss 1.5075, acc 0.7112\n",
      "2019-04-20 12:16:04,469|\t1400: TRAIN loss 0.4274,  acc 0.8252  ||  VAL loss 1.6564, acc 0.7073\n",
      "2019-04-20 12:16:35,996|\t1500: TRAIN loss 0.4564,  acc 0.8256  ||  VAL loss 1.5788, acc 0.7263\n",
      "2019-04-20 12:17:07,547|\t1600: TRAIN loss 0.4082,  acc 0.8411  ||  VAL loss 1.5244, acc 0.7326\n",
      "2019-04-20 12:17:39,106|\t1700: TRAIN loss 0.3706,  acc 0.8535  ||  VAL loss 1.5154, acc 0.7239\n",
      "2019-04-20 12:18:10,837|\t1800: TRAIN loss 0.3217,  acc 0.8678  ||  VAL loss 1.6162, acc 0.7389\n",
      "2019-04-20 12:18:42,406|\t1900: TRAIN loss 0.3186,  acc 0.8700  ||  VAL loss 1.5823, acc 0.7168\n",
      "2019-04-20 12:19:14,040|>>>>>256,64,0.9604117181314331,0.7373417721518988\n",
      "2019-04-20 12:19:15,457|\t0: TRAIN loss 14.1148,  acc 0.1152  ||  VAL loss 13.7209, acc 0.1448\n",
      "2019-04-20 12:19:46,932|\t100: TRAIN loss 1.4176,  acc 0.4943  ||  VAL loss 1.4899, acc 0.5119\n",
      "2019-04-20 12:20:18,594|\t200: TRAIN loss 1.1519,  acc 0.5877  ||  VAL loss 1.3021, acc 0.6028\n",
      "2019-04-20 12:20:50,062|\t300: TRAIN loss 0.9148,  acc 0.6621  ||  VAL loss 1.3031, acc 0.6440\n",
      "2019-04-20 12:21:21,569|\t400: TRAIN loss 0.7734,  acc 0.7156  ||  VAL loss 1.1196, acc 0.6899\n",
      "2019-04-20 12:21:53,061|\t500: TRAIN loss 0.6898,  acc 0.7520  ||  VAL loss 1.1673, acc 0.6899\n",
      "2019-04-20 12:22:24,565|\t600: TRAIN loss 0.6179,  acc 0.7872  ||  VAL loss 1.1156, acc 0.7017\n",
      "2019-04-20 12:22:56,057|\t700: TRAIN loss 0.5365,  acc 0.8114  ||  VAL loss 1.2292, acc 0.6709\n"
     ]
    },
    {
     "name": "stdout",
     "output_type": "stream",
     "text": [
      "2019-04-20 12:23:27,586|\t800: TRAIN loss 0.4714,  acc 0.8401  ||  VAL loss 1.1194, acc 0.7429\n",
      "2019-04-20 12:23:59,187|\t900: TRAIN loss 0.4484,  acc 0.8401  ||  VAL loss 1.1902, acc 0.7278\n",
      "2019-04-20 12:24:30,686|\t1000: TRAIN loss 0.3739,  acc 0.8739  ||  VAL loss 1.2267, acc 0.7563\n",
      "2019-04-20 12:25:02,158|\t1100: TRAIN loss 0.3697,  acc 0.8745  ||  VAL loss 1.2852, acc 0.7453\n",
      "2019-04-20 12:25:33,823|\t1200: TRAIN loss 0.3285,  acc 0.8846  ||  VAL loss 1.2810, acc 0.7595\n",
      "2019-04-20 12:26:05,479|\t1300: TRAIN loss 0.3043,  acc 0.9004  ||  VAL loss 1.3438, acc 0.7278\n",
      "2019-04-20 12:26:36,934|\t1400: TRAIN loss 0.2863,  acc 0.9141  ||  VAL loss 1.3354, acc 0.7714\n",
      "2019-04-20 12:27:08,478|\t1500: TRAIN loss 0.2594,  acc 0.9175  ||  VAL loss 1.4114, acc 0.7579\n",
      "2019-04-20 12:27:39,947|\t1600: TRAIN loss 0.2317,  acc 0.9236  ||  VAL loss 1.7458, acc 0.7271\n",
      "2019-04-20 12:28:12,618|\t1700: TRAIN loss 0.2344,  acc 0.9236  ||  VAL loss 1.8477, acc 0.7294\n",
      "2019-04-20 12:28:46,286|\t1800: TRAIN loss 0.2179,  acc 0.9361  ||  VAL loss 1.6077, acc 0.7445\n",
      "2019-04-20 12:29:18,468|\t1900: TRAIN loss 0.1900,  acc 0.9416  ||  VAL loss 1.5190, acc 0.7650\n",
      "2019-04-20 12:29:50,146|>>>>>256,128,0.9809976247030879,0.7642405063291139\n",
      "2019-04-20 12:29:51,781|\t0: TRAIN loss 14.0110,  acc 0.1207  ||  VAL loss 14.3584, acc 0.1092\n",
      "2019-04-20 12:30:23,499|\t100: TRAIN loss 1.4768,  acc 0.4788  ||  VAL loss 1.4238, acc 0.5229\n",
      "2019-04-20 12:30:55,239|\t200: TRAIN loss 0.9919,  acc 0.6455  ||  VAL loss 1.1333, acc 0.6369\n",
      "2019-04-20 12:31:27,049|\t300: TRAIN loss 0.7926,  acc 0.7247  ||  VAL loss 1.0396, acc 0.6804\n",
      "2019-04-20 12:31:58,979|\t400: TRAIN loss 0.6650,  acc 0.7720  ||  VAL loss 1.0385, acc 0.7160\n",
      "2019-04-20 12:32:30,767|\t500: TRAIN loss 0.5700,  acc 0.8106  ||  VAL loss 1.0415, acc 0.7231\n",
      "2019-04-20 12:33:02,526|\t600: TRAIN loss 0.4986,  acc 0.8369  ||  VAL loss 1.0825, acc 0.7350\n",
      "2019-04-20 12:33:34,307|\t700: TRAIN loss 0.4237,  acc 0.8595  ||  VAL loss 1.0616, acc 0.7453\n",
      "2019-04-20 12:34:06,196|\t800: TRAIN loss 0.3902,  acc 0.8739  ||  VAL loss 1.1777, acc 0.7532\n",
      "2019-04-20 12:34:38,246|\t900: TRAIN loss 0.3580,  acc 0.8894  ||  VAL loss 1.1707, acc 0.7524\n",
      "2019-04-20 12:35:10,556|\t1000: TRAIN loss 0.3107,  acc 0.9064  ||  VAL loss 1.2328, acc 0.7547\n",
      "2019-04-20 12:35:42,469|\t1100: TRAIN loss 0.2825,  acc 0.9177  ||  VAL loss 1.1991, acc 0.7761\n",
      "2019-04-20 12:36:14,499|\t1200: TRAIN loss 0.2389,  acc 0.9311  ||  VAL loss 1.3065, acc 0.7579\n",
      "2019-04-20 12:36:46,363|\t1300: TRAIN loss 0.1852,  acc 0.9412  ||  VAL loss 1.2805, acc 0.7540\n",
      "2019-04-20 12:37:18,259|\t1400: TRAIN loss 0.1908,  acc 0.9380  ||  VAL loss 1.2462, acc 0.7634\n",
      "2019-04-20 12:37:50,171|\t1500: TRAIN loss 0.1825,  acc 0.9422  ||  VAL loss 1.2035, acc 0.7824\n",
      "2019-04-20 12:38:22,053|\t1600: TRAIN loss 0.1773,  acc 0.9489  ||  VAL loss 1.3075, acc 0.7658\n",
      "2019-04-20 12:38:53,970|\t1700: TRAIN loss 0.1498,  acc 0.9549  ||  VAL loss 1.3430, acc 0.7737\n",
      "2019-04-20 12:39:25,891|\t1800: TRAIN loss 0.1221,  acc 0.9658  ||  VAL loss 1.3199, acc 0.7816\n",
      "2019-04-20 12:39:57,865|\t1900: TRAIN loss 0.1312,  acc 0.9636  ||  VAL loss 1.2292, acc 0.7903\n",
      "2019-04-20 12:40:29,947|>>>>>256,256,0.9916864608076009,0.7816455696202531\n",
      "2019-04-20 12:40:31,467|\t0: TRAIN loss 13.4594,  acc 0.1411  ||  VAL loss 13.7471, acc 0.1353\n",
      "2019-04-20 12:41:03,617|\t100: TRAIN loss 1.7740,  acc 0.3478  ||  VAL loss 1.9357, acc 0.3354\n",
      "2019-04-20 12:41:35,740|\t200: TRAIN loss 1.6993,  acc 0.3577  ||  VAL loss 1.9387, acc 0.3354\n",
      "2019-04-20 12:42:07,908|\t300: TRAIN loss 1.6680,  acc 0.3666  ||  VAL loss 1.9467, acc 0.3362\n",
      "2019-04-20 12:42:40,049|\t400: TRAIN loss 1.5819,  acc 0.4151  ||  VAL loss 1.9250, acc 0.3465\n",
      "2019-04-20 12:43:12,094|\t500: TRAIN loss 1.5251,  acc 0.4337  ||  VAL loss 1.8794, acc 0.3647\n",
      "2019-04-20 12:43:44,180|\t600: TRAIN loss 1.4486,  acc 0.4612  ||  VAL loss 1.8476, acc 0.3877\n",
      "2019-04-20 12:44:16,284|\t700: TRAIN loss 1.3180,  acc 0.4935  ||  VAL loss 1.7401, acc 0.4225\n",
      "2019-04-20 12:44:48,383|\t800: TRAIN loss 1.2270,  acc 0.5350  ||  VAL loss 1.7338, acc 0.4422\n",
      "2019-04-20 12:45:20,505|\t900: TRAIN loss 1.2736,  acc 0.5101  ||  VAL loss 1.7260, acc 0.4169\n",
      "2019-04-20 12:45:54,658|\t1000: TRAIN loss 1.1829,  acc 0.5525  ||  VAL loss 1.7060, acc 0.4549\n",
      "2019-04-20 12:46:27,248|\t1100: TRAIN loss 1.0965,  acc 0.5796  ||  VAL loss 1.7327, acc 0.5111\n",
      "2019-04-20 12:46:59,515|\t1200: TRAIN loss 0.9803,  acc 0.6461  ||  VAL loss 1.5937, acc 0.5403\n",
      "2019-04-20 12:47:31,710|\t1300: TRAIN loss 0.8456,  acc 0.6948  ||  VAL loss 1.5357, acc 0.5807\n",
      "2019-04-20 12:48:03,941|\t1400: TRAIN loss 0.8452,  acc 0.6894  ||  VAL loss 1.5451, acc 0.5807\n",
      "2019-04-20 12:48:36,137|\t1500: TRAIN loss 0.7841,  acc 0.7181  ||  VAL loss 1.8621, acc 0.4786\n",
      "2019-04-20 12:49:08,606|\t1600: TRAIN loss 0.7750,  acc 0.7243  ||  VAL loss 1.6583, acc 0.5665\n",
      "2019-04-20 12:49:40,904|\t1700: TRAIN loss 0.6841,  acc 0.7549  ||  VAL loss 1.5729, acc 0.5839\n",
      "2019-04-20 12:50:13,123|\t1800: TRAIN loss 0.6242,  acc 0.7745  ||  VAL loss 1.5748, acc 0.6108\n",
      "2019-04-20 12:50:45,265|\t1900: TRAIN loss 0.6780,  acc 0.7496  ||  VAL loss 1.7475, acc 0.5926\n",
      "2019-04-20 12:51:17,585|>>>>>256,512,0.7416864608076009,0.5838607594936709\n",
      "2019-04-20 12:51:19,170|\t0: TRAIN loss 13.8607,  acc 0.1255  ||  VAL loss 14.0605, acc 0.1242\n",
      "2019-04-20 12:51:51,587|\t100: TRAIN loss 1.7614,  acc 0.3650  ||  VAL loss 1.9094, acc 0.3592\n",
      "2019-04-20 12:52:23,791|\t200: TRAIN loss 1.6208,  acc 0.4226  ||  VAL loss 2.6372, acc 0.3536\n",
      "2019-04-20 12:52:56,056|\t300: TRAIN loss 1.5117,  acc 0.4471  ||  VAL loss 1.8275, acc 0.3655\n",
      "2019-04-20 12:53:28,202|\t400: TRAIN loss 1.4920,  acc 0.4650  ||  VAL loss 1.7878, acc 0.4130\n",
      "2019-04-20 12:54:00,552|\t500: TRAIN loss 1.4431,  acc 0.4717  ||  VAL loss 1.7632, acc 0.4106\n",
      "2019-04-20 12:54:32,772|\t600: TRAIN loss 1.2962,  acc 0.5384  ||  VAL loss 1.9472, acc 0.4834\n",
      "2019-04-20 12:55:05,009|\t700: TRAIN loss 1.1764,  acc 0.5819  ||  VAL loss 1.5508, acc 0.5190\n",
      "2019-04-20 12:55:37,164|\t800: TRAIN loss 1.0177,  acc 0.6374  ||  VAL loss 1.5354, acc 0.5293\n",
      "2019-04-20 12:56:09,461|\t900: TRAIN loss 0.8399,  acc 0.6983  ||  VAL loss 1.5787, acc 0.5562\n",
      "2019-04-20 12:56:41,605|\t1000: TRAIN loss 0.7786,  acc 0.7167  ||  VAL loss 1.5272, acc 0.5854\n",
      "2019-04-20 12:57:13,718|\t1100: TRAIN loss 0.6583,  acc 0.7587  ||  VAL loss 1.4333, acc 0.6155\n",
      "2019-04-20 12:57:45,885|\t1200: TRAIN loss 0.5386,  acc 0.8082  ||  VAL loss 1.5222, acc 0.6361\n",
      "2019-04-20 12:58:18,098|\t1300: TRAIN loss 0.5005,  acc 0.8197  ||  VAL loss 1.5384, acc 0.6400\n",
      "2019-04-20 12:58:50,283|\t1400: TRAIN loss 0.4759,  acc 0.8329  ||  VAL loss 1.6223, acc 0.6472\n",
      "2019-04-20 12:59:22,446|\t1500: TRAIN loss 0.4520,  acc 0.8371  ||  VAL loss 1.6492, acc 0.6171\n",
      "2019-04-20 12:59:54,665|\t1600: TRAIN loss 0.4130,  acc 0.8545  ||  VAL loss 1.6012, acc 0.6566\n",
      "2019-04-20 13:00:27,971|\t1700: TRAIN loss 0.3459,  acc 0.8834  ||  VAL loss 1.5836, acc 0.6820\n",
      "2019-04-20 13:01:00,154|\t1800: TRAIN loss 0.3092,  acc 0.8990  ||  VAL loss 1.6943, acc 0.6574\n",
      "2019-04-20 13:01:32,319|\t1900: TRAIN loss 0.2647,  acc 0.9159  ||  VAL loss 1.7049, acc 0.6883\n",
      "2019-04-20 13:02:04,710|>>>>>256,1024,0.9323040380047506,0.6811708860759493\n",
      "2019-04-20 13:02:06,385|\t0: TRAIN loss 14.0595,  acc 0.1186  ||  VAL loss 13.4422, acc 0.1598\n",
      "2019-04-20 13:02:39,764|\t100: TRAIN loss 2.1812,  acc 0.1611  ||  VAL loss 2.2157, acc 0.1503\n",
      "2019-04-20 13:03:13,165|\t200: TRAIN loss 2.0982,  acc 0.1821  ||  VAL loss 2.1628, acc 0.1717\n",
      "2019-04-20 13:03:46,602|\t300: TRAIN loss 2.0199,  acc 0.2328  ||  VAL loss 2.0987, acc 0.2516\n",
      "2019-04-20 13:04:20,061|\t400: TRAIN loss 1.8962,  acc 0.2803  ||  VAL loss 1.9632, acc 0.3070\n",
      "2019-04-20 13:04:53,382|\t500: TRAIN loss 1.8336,  acc 0.3062  ||  VAL loss 1.9594, acc 0.3315\n",
      "2019-04-20 13:05:26,811|\t600: TRAIN loss 1.6960,  acc 0.3541  ||  VAL loss 1.7822, acc 0.4130\n",
      "2019-04-20 13:06:00,390|\t700: TRAIN loss 1.5367,  acc 0.4285  ||  VAL loss 1.6606, acc 0.4826\n",
      "2019-04-20 13:06:34,629|\t800: TRAIN loss 1.3718,  acc 0.4715  ||  VAL loss 1.5750, acc 0.5024\n",
      "2019-04-20 13:07:08,157|\t900: TRAIN loss 1.2580,  acc 0.5063  ||  VAL loss 1.4770, acc 0.5491\n",
      "2019-04-20 13:07:41,707|\t1000: TRAIN loss 1.1039,  acc 0.5645  ||  VAL loss 1.3775, acc 0.5831\n",
      "2019-04-20 13:08:15,313|\t1100: TRAIN loss 1.0356,  acc 0.6006  ||  VAL loss 1.4418, acc 0.6258\n"
     ]
    },
    {
     "name": "stdout",
     "output_type": "stream",
     "text": [
      "2019-04-20 13:08:48,811|\t1200: TRAIN loss 0.8501,  acc 0.6688  ||  VAL loss 1.4455, acc 0.6725\n",
      "2019-04-20 13:09:22,259|\t1300: TRAIN loss 0.7794,  acc 0.6896  ||  VAL loss 1.3509, acc 0.6582\n",
      "2019-04-20 13:09:56,457|\t1400: TRAIN loss 0.6830,  acc 0.7282  ||  VAL loss 1.8453, acc 0.6733\n",
      "2019-04-20 13:10:31,539|\t1500: TRAIN loss 0.6366,  acc 0.7407  ||  VAL loss 1.4376, acc 0.7168\n",
      "2019-04-20 13:11:05,217|\t1600: TRAIN loss 0.5563,  acc 0.7807  ||  VAL loss 1.3538, acc 0.7223\n",
      "2019-04-20 13:11:38,855|\t1700: TRAIN loss 0.5783,  acc 0.7692  ||  VAL loss 1.4294, acc 0.7247\n",
      "2019-04-20 13:12:12,545|\t1800: TRAIN loss 0.4698,  acc 0.8118  ||  VAL loss 1.5657, acc 0.7373\n",
      "2019-04-20 13:12:46,114|\t1900: TRAIN loss 0.4647,  acc 0.8120  ||  VAL loss 1.4228, acc 0.7508\n",
      "2019-04-20 13:13:19,919|>>>>>512,32,0.9465558194774347,0.7515822784810127\n",
      "2019-04-20 13:13:21,619|\t0: TRAIN loss 14.2810,  acc 0.1103  ||  VAL loss 14.4095, acc 0.1060\n",
      "2019-04-20 13:13:55,097|\t100: TRAIN loss 2.4015,  acc 0.1494  ||  VAL loss 2.3460, acc 0.1472\n",
      "2019-04-20 13:14:28,517|\t200: TRAIN loss 2.1515,  acc 0.2152  ||  VAL loss 2.1063, acc 0.2563\n",
      "2019-04-20 13:15:01,900|\t300: TRAIN loss 1.8528,  acc 0.3288  ||  VAL loss 1.9133, acc 0.3742\n",
      "2019-04-20 13:15:35,295|\t400: TRAIN loss 1.6443,  acc 0.4036  ||  VAL loss 1.6159, acc 0.4684\n",
      "2019-04-20 13:16:08,848|\t500: TRAIN loss 1.4757,  acc 0.4489  ||  VAL loss 1.5497, acc 0.5008\n",
      "2019-04-20 13:16:42,214|\t600: TRAIN loss 1.3279,  acc 0.5010  ||  VAL loss 1.4161, acc 0.5483\n",
      "2019-04-20 13:17:16,242|\t700: TRAIN loss 1.0506,  acc 0.5930  ||  VAL loss 1.2636, acc 0.6448\n",
      "2019-04-20 13:17:50,173|\t800: TRAIN loss 0.9878,  acc 0.6298  ||  VAL loss 1.3653, acc 0.6559\n",
      "2019-04-20 13:18:25,328|\t900: TRAIN loss 0.7619,  acc 0.6934  ||  VAL loss 1.2043, acc 0.6946\n",
      "2019-04-20 13:19:00,433|\t1000: TRAIN loss 0.6357,  acc 0.7498  ||  VAL loss 1.1481, acc 0.7128\n",
      "2019-04-20 13:19:35,858|\t1100: TRAIN loss 0.5732,  acc 0.7702  ||  VAL loss 1.2941, acc 0.7057\n",
      "2019-04-20 13:20:09,512|\t1200: TRAIN loss 0.5680,  acc 0.7817  ||  VAL loss 1.1537, acc 0.7231\n",
      "2019-04-20 13:20:43,142|\t1300: TRAIN loss 0.4667,  acc 0.8207  ||  VAL loss 1.2727, acc 0.7547\n",
      "2019-04-20 13:21:16,796|\t1400: TRAIN loss 0.3862,  acc 0.8426  ||  VAL loss 1.2212, acc 0.7492\n",
      "2019-04-20 13:21:50,506|\t1500: TRAIN loss 0.3640,  acc 0.8545  ||  VAL loss 1.2814, acc 0.7619\n",
      "2019-04-20 13:22:24,240|\t1600: TRAIN loss 0.3170,  acc 0.8783  ||  VAL loss 1.2654, acc 0.7658\n",
      "2019-04-20 13:22:57,949|\t1700: TRAIN loss 0.3084,  acc 0.8816  ||  VAL loss 1.2633, acc 0.7555\n",
      "2019-04-20 13:23:31,609|\t1800: TRAIN loss 0.3060,  acc 0.8878  ||  VAL loss 1.2713, acc 0.7532\n",
      "2019-04-20 13:24:05,324|\t1900: TRAIN loss 0.2588,  acc 0.9084  ||  VAL loss 1.3948, acc 0.7571\n",
      "2019-04-20 13:24:39,062|>>>>>512,64,0.9829770387965162,0.7563291139240507\n",
      "2019-04-20 13:24:40,811|\t0: TRAIN loss 13.9718,  acc 0.1239  ||  VAL loss 14.0359, acc 0.1226\n",
      "2019-04-20 13:25:14,193|\t100: TRAIN loss 1.6781,  acc 0.3848  ||  VAL loss 1.7548, acc 0.4177\n",
      "2019-04-20 13:25:47,561|\t200: TRAIN loss 1.2131,  acc 0.5598  ||  VAL loss 1.3855, acc 0.5965\n",
      "2019-04-20 13:26:21,045|\t300: TRAIN loss 0.8870,  acc 0.6582  ||  VAL loss 1.3494, acc 0.6353\n",
      "2019-04-20 13:26:54,450|\t400: TRAIN loss 0.7171,  acc 0.7231  ||  VAL loss 1.1202, acc 0.6930\n",
      "2019-04-20 13:27:27,804|\t500: TRAIN loss 0.5828,  acc 0.7787  ||  VAL loss 1.1463, acc 0.7089\n",
      "2019-04-20 13:28:01,270|\t600: TRAIN loss 0.4905,  acc 0.8096  ||  VAL loss 1.1976, acc 0.7239\n",
      "2019-04-20 13:28:34,619|\t700: TRAIN loss 0.4754,  acc 0.8219  ||  VAL loss 1.3591, acc 0.6717\n",
      "2019-04-20 13:29:08,033|\t800: TRAIN loss 0.3631,  acc 0.8628  ||  VAL loss 1.2348, acc 0.7619\n",
      "2019-04-20 13:29:41,410|\t900: TRAIN loss 0.3148,  acc 0.8808  ||  VAL loss 1.2325, acc 0.7595\n",
      "2019-04-20 13:30:14,917|\t1000: TRAIN loss 0.2660,  acc 0.8987  ||  VAL loss 1.2601, acc 0.7706\n",
      "2019-04-20 13:30:48,320|\t1100: TRAIN loss 0.2582,  acc 0.9036  ||  VAL loss 1.2863, acc 0.7698\n",
      "2019-04-20 13:31:21,737|\t1200: TRAIN loss 0.2164,  acc 0.9200  ||  VAL loss 1.4354, acc 0.7642\n",
      "2019-04-20 13:31:55,203|\t1300: TRAIN loss 0.1868,  acc 0.9301  ||  VAL loss 1.9152, acc 0.7247\n",
      "2019-04-20 13:32:28,513|\t1400: TRAIN loss 0.1953,  acc 0.9301  ||  VAL loss 1.3654, acc 0.7682\n",
      "2019-04-20 13:33:01,877|\t1500: TRAIN loss 0.1405,  acc 0.9503  ||  VAL loss 1.5938, acc 0.7706\n",
      "2019-04-20 13:33:35,214|\t1600: TRAIN loss 0.1295,  acc 0.9507  ||  VAL loss 1.7041, acc 0.7555\n",
      "2019-04-20 13:34:08,636|\t1700: TRAIN loss 0.1294,  acc 0.9545  ||  VAL loss 1.5445, acc 0.7935\n",
      "2019-04-20 13:34:42,032|\t1800: TRAIN loss 0.2739,  acc 0.9161  ||  VAL loss 1.4492, acc 0.7840\n",
      "2019-04-20 13:35:15,375|\t1900: TRAIN loss 0.1869,  acc 0.9424  ||  VAL loss 1.5388, acc 0.7919\n",
      "2019-04-20 13:35:48,857|>>>>>512,128,0.9901029295328583,0.7650316455696202\n",
      "2019-04-20 13:35:50,905|\t0: TRAIN loss 14.3357,  acc 0.1099  ||  VAL loss 14.3456, acc 0.1100\n",
      "2019-04-20 13:36:24,748|\t100: TRAIN loss 9.1708,  acc 0.4050  ||  VAL loss 9.2393, acc 0.4074\n",
      "2019-04-20 13:36:58,655|\t200: TRAIN loss 1.1020,  acc 0.5960  ||  VAL loss 1.1578, acc 0.6290\n",
      "2019-04-20 13:37:32,512|\t300: TRAIN loss 0.7979,  acc 0.7021  ||  VAL loss 1.0287, acc 0.6835\n",
      "2019-04-20 13:38:06,524|\t400: TRAIN loss 0.6235,  acc 0.7599  ||  VAL loss 1.0325, acc 0.6915\n",
      "2019-04-20 13:38:40,435|\t500: TRAIN loss 0.4954,  acc 0.8102  ||  VAL loss 0.9804, acc 0.7271\n",
      "2019-04-20 13:39:14,330|\t600: TRAIN loss 0.4062,  acc 0.8460  ||  VAL loss 1.0781, acc 0.7112\n",
      "2019-04-20 13:39:48,217|\t700: TRAIN loss 0.3457,  acc 0.8698  ||  VAL loss 1.0360, acc 0.7666\n",
      "2019-04-20 13:40:22,201|\t800: TRAIN loss 0.2913,  acc 0.8899  ||  VAL loss 1.1001, acc 0.7595\n",
      "2019-04-20 13:40:56,150|\t900: TRAIN loss 0.2445,  acc 0.9099  ||  VAL loss 1.1233, acc 0.7682\n",
      "2019-04-20 13:41:30,055|\t1000: TRAIN loss 0.2124,  acc 0.9212  ||  VAL loss 1.0789, acc 0.7801\n",
      "2019-04-20 13:42:04,027|\t1100: TRAIN loss 0.1973,  acc 0.9270  ||  VAL loss 1.1167, acc 0.7793\n",
      "2019-04-20 13:42:37,930|\t1200: TRAIN loss 0.1710,  acc 0.9378  ||  VAL loss 1.2281, acc 0.7856\n",
      "2019-04-20 13:43:11,855|\t1300: TRAIN loss 0.1521,  acc 0.9440  ||  VAL loss 1.2124, acc 0.7824\n",
      "2019-04-20 13:43:46,727|\t1400: TRAIN loss 0.1506,  acc 0.9473  ||  VAL loss 1.1667, acc 0.7896\n",
      "2019-04-20 13:44:20,745|\t1500: TRAIN loss 0.1416,  acc 0.9531  ||  VAL loss 1.2079, acc 0.7880\n",
      "2019-04-20 13:44:54,675|\t1600: TRAIN loss 0.1314,  acc 0.9567  ||  VAL loss 1.3614, acc 0.7753\n",
      "2019-04-20 13:45:28,673|\t1700: TRAIN loss 0.0955,  acc 0.9689  ||  VAL loss 1.2663, acc 0.7824\n",
      "2019-04-20 13:46:02,776|\t1800: TRAIN loss 0.0908,  acc 0.9675  ||  VAL loss 1.2572, acc 0.7903\n",
      "2019-04-20 13:46:37,026|\t1900: TRAIN loss 0.0718,  acc 0.9780  ||  VAL loss 1.3395, acc 0.7967\n",
      "2019-04-20 13:47:11,765|>>>>>512,256,0.9978226444972288,0.7998417721518988\n",
      "2019-04-20 13:47:13,649|\t0: TRAIN loss 13.9951,  acc 0.1253  ||  VAL loss 14.2816, acc 0.1139\n",
      "2019-04-20 13:47:47,652|\t100: TRAIN loss 1.7074,  acc 0.4509  ||  VAL loss 1.8960, acc 0.4272\n",
      "2019-04-20 13:48:21,715|\t200: TRAIN loss 1.4090,  acc 0.5329  ||  VAL loss 1.7579, acc 0.4778\n",
      "2019-04-20 13:48:55,711|\t300: TRAIN loss 1.1591,  acc 0.6174  ||  VAL loss 1.5207, acc 0.5744\n",
      "2019-04-20 13:49:29,648|\t400: TRAIN loss 1.0936,  acc 0.6394  ||  VAL loss 1.5252, acc 0.5744\n",
      "2019-04-20 13:50:03,673|\t500: TRAIN loss 0.9215,  acc 0.7007  ||  VAL loss 1.4553, acc 0.6108\n",
      "2019-04-20 13:50:37,611|\t600: TRAIN loss 0.7958,  acc 0.7340  ||  VAL loss 1.4407, acc 0.6036\n",
      "2019-04-20 13:51:11,531|\t700: TRAIN loss 0.6976,  acc 0.7773  ||  VAL loss 1.2724, acc 0.6685\n",
      "2019-04-20 13:51:45,431|\t800: TRAIN loss 0.5569,  acc 0.8112  ||  VAL loss 1.2432, acc 0.6788\n",
      "2019-04-20 13:52:19,462|\t900: TRAIN loss 0.5030,  acc 0.8145  ||  VAL loss 1.2647, acc 0.6756\n",
      "2019-04-20 13:52:53,383|\t1000: TRAIN loss 0.4151,  acc 0.8601  ||  VAL loss 1.4616, acc 0.6701\n",
      "2019-04-20 13:53:27,428|\t1100: TRAIN loss 0.3609,  acc 0.8797  ||  VAL loss 1.3142, acc 0.7097\n",
      "2019-04-20 13:54:01,580|\t1200: TRAIN loss 0.3360,  acc 0.8888  ||  VAL loss 1.6762, acc 0.6772\n",
      "2019-04-20 13:54:35,602|\t1300: TRAIN loss 0.2692,  acc 0.9169  ||  VAL loss 1.6753, acc 0.6970\n",
      "2019-04-20 13:55:09,611|\t1400: TRAIN loss 0.2346,  acc 0.9283  ||  VAL loss 1.4207, acc 0.7318\n",
      "2019-04-20 13:55:43,668|\t1500: TRAIN loss 0.3614,  acc 0.9022  ||  VAL loss 1.6139, acc 0.6946\n"
     ]
    },
    {
     "name": "stdout",
     "output_type": "stream",
     "text": [
      "2019-04-20 13:56:17,806|\t1600: TRAIN loss 0.1862,  acc 0.9436  ||  VAL loss 1.4787, acc 0.7191\n",
      "2019-04-20 13:56:51,875|\t1700: TRAIN loss 0.1774,  acc 0.9468  ||  VAL loss 1.4931, acc 0.7278\n",
      "2019-04-20 13:57:25,896|\t1800: TRAIN loss 0.2075,  acc 0.9406  ||  VAL loss 1.5204, acc 0.7278\n",
      "2019-04-20 13:58:00,036|\t1900: TRAIN loss 0.1611,  acc 0.9563  ||  VAL loss 1.4699, acc 0.7373\n",
      "2019-04-20 13:58:34,291|>>>>>512,512,0.9726840855106889,0.7262658227848101\n",
      "2019-04-20 13:58:36,209|\t0: TRAIN loss 14.1095,  acc 0.1196  ||  VAL loss 12.7897, acc 0.1954\n",
      "2019-04-20 13:59:11,512|\t100: TRAIN loss 1.5308,  acc 0.4826  ||  VAL loss 1.7370, acc 0.4636\n",
      "2019-04-20 13:59:48,040|\t200: TRAIN loss 1.4031,  acc 0.5101  ||  VAL loss 1.7026, acc 0.4763\n",
      "2019-04-20 14:00:24,574|\t300: TRAIN loss 1.2628,  acc 0.5588  ||  VAL loss 1.6791, acc 0.5055\n",
      "2019-04-20 14:01:01,243|\t400: TRAIN loss 1.1999,  acc 0.5962  ||  VAL loss 1.5093, acc 0.5380\n",
      "2019-04-20 14:01:37,047|\t500: TRAIN loss 1.0326,  acc 0.6423  ||  VAL loss 1.4274, acc 0.5720\n",
      "2019-04-20 14:02:12,469|\t600: TRAIN loss 0.9053,  acc 0.6776  ||  VAL loss 1.4150, acc 0.5870\n",
      "2019-04-20 14:02:47,767|\t700: TRAIN loss 0.7676,  acc 0.7326  ||  VAL loss 1.4366, acc 0.6108\n",
      "2019-04-20 14:03:23,043|\t800: TRAIN loss 0.8643,  acc 0.6918  ||  VAL loss 1.4557, acc 0.5934\n",
      "2019-04-20 14:03:58,460|\t900: TRAIN loss 0.6733,  acc 0.7603  ||  VAL loss 1.5033, acc 0.6052\n",
      "2019-04-20 14:04:33,766|\t1000: TRAIN loss 0.6837,  acc 0.7553  ||  VAL loss 1.4497, acc 0.6131\n",
      "2019-04-20 14:05:09,046|\t1100: TRAIN loss 0.6187,  acc 0.7900  ||  VAL loss 1.4260, acc 0.6432\n",
      "2019-04-20 14:05:44,307|\t1200: TRAIN loss 0.5575,  acc 0.8060  ||  VAL loss 1.4448, acc 0.6551\n",
      "2019-04-20 14:06:19,650|\t1300: TRAIN loss 0.5526,  acc 0.8139  ||  VAL loss 1.5655, acc 0.6432\n",
      "2019-04-20 14:06:54,945|\t1400: TRAIN loss 0.4486,  acc 0.8500  ||  VAL loss 1.5427, acc 0.6432\n",
      "2019-04-20 14:07:30,256|\t1500: TRAIN loss 0.3916,  acc 0.8727  ||  VAL loss 1.4955, acc 0.6661\n",
      "2019-04-20 14:08:05,608|\t1600: TRAIN loss 0.3794,  acc 0.8648  ||  VAL loss 1.5310, acc 0.6733\n",
      "2019-04-20 14:08:40,938|\t1700: TRAIN loss 0.3355,  acc 0.8903  ||  VAL loss 1.6844, acc 0.6630\n",
      "2019-04-20 14:09:16,207|\t1800: TRAIN loss 0.4479,  acc 0.8428  ||  VAL loss 1.6468, acc 0.6582\n",
      "2019-04-20 14:09:51,610|\t1900: TRAIN loss 0.3476,  acc 0.8899  ||  VAL loss 1.6859, acc 0.6638\n",
      "2019-04-20 14:10:27,118|>>>>>512,1024,0.9010292953285828,0.6875\n",
      "2019-04-20 14:10:29,161|\t0: TRAIN loss 12.6987,  acc 0.1118  ||  VAL loss 2.6173, acc 0.0926\n",
      "2019-04-20 14:11:06,477|\t100: TRAIN loss 2.1933,  acc 0.1550  ||  VAL loss 2.2282, acc 0.1487\n",
      "2019-04-20 14:11:43,743|\t200: TRAIN loss 2.1357,  acc 0.1837  ||  VAL loss 2.1277, acc 0.1930\n",
      "2019-04-20 14:12:21,092|\t300: TRAIN loss 2.1007,  acc 0.1920  ||  VAL loss 2.0801, acc 0.1994\n",
      "2019-04-20 14:12:59,009|\t400: TRAIN loss 1.9682,  acc 0.2423  ||  VAL loss 2.0252, acc 0.2690\n",
      "2019-04-20 14:13:36,485|\t500: TRAIN loss 1.8563,  acc 0.2666  ||  VAL loss 2.0196, acc 0.2682\n",
      "2019-04-20 14:14:13,990|\t600: TRAIN loss 1.7102,  acc 0.3644  ||  VAL loss 1.8017, acc 0.4209\n",
      "2019-04-20 14:14:51,289|\t700: TRAIN loss 1.5268,  acc 0.4089  ||  VAL loss 1.5752, acc 0.4612\n",
      "2019-04-20 14:15:28,684|\t800: TRAIN loss 1.3445,  acc 0.4689  ||  VAL loss 1.5675, acc 0.4794\n",
      "2019-04-20 14:16:06,189|\t900: TRAIN loss 1.0927,  acc 0.5877  ||  VAL loss 1.4198, acc 0.6218\n",
      "2019-04-20 14:16:43,512|\t1000: TRAIN loss 0.9675,  acc 0.6261  ||  VAL loss 1.3117, acc 0.6479\n",
      "2019-04-20 14:17:21,155|\t1100: TRAIN loss 0.8151,  acc 0.6730  ||  VAL loss 1.7667, acc 0.6210\n",
      "2019-04-20 14:17:58,524|\t1200: TRAIN loss 0.7425,  acc 0.7057  ||  VAL loss 1.2295, acc 0.7041\n",
      "2019-04-20 14:18:35,817|\t1300: TRAIN loss 0.5959,  acc 0.7658  ||  VAL loss 1.3193, acc 0.7191\n",
      "2019-04-20 14:19:13,351|\t1400: TRAIN loss 0.5231,  acc 0.7953  ||  VAL loss 1.2974, acc 0.7318\n",
      "2019-04-20 14:19:51,863|\t1500: TRAIN loss 0.4337,  acc 0.8294  ||  VAL loss 1.3558, acc 0.7326\n",
      "2019-04-20 14:20:29,358|\t1600: TRAIN loss 0.4099,  acc 0.8426  ||  VAL loss 1.5468, acc 0.7215\n",
      "2019-04-20 14:21:06,550|\t1700: TRAIN loss 0.3528,  acc 0.8565  ||  VAL loss 1.7432, acc 0.7112\n",
      "2019-04-20 14:21:43,744|\t1800: TRAIN loss 0.3448,  acc 0.8680  ||  VAL loss 1.4042, acc 0.7603\n",
      "2019-04-20 14:22:20,888|\t1900: TRAIN loss 0.3272,  acc 0.8791  ||  VAL loss 1.5197, acc 0.7500\n",
      "2019-04-20 14:22:58,204|>>>>>1024,32,0.9693190815518606,0.7642405063291139\n",
      "2019-04-20 14:23:00,298|\t0: TRAIN loss 14.2351,  acc 0.1079  ||  VAL loss 14.3371, acc 0.1092\n",
      "2019-04-20 14:23:37,758|\t100: TRAIN loss 2.0298,  acc 0.2359  ||  VAL loss 2.0470, acc 0.2603\n",
      "2019-04-20 14:24:15,358|\t200: TRAIN loss 1.7924,  acc 0.3367  ||  VAL loss 2.7154, acc 0.3853\n",
      "2019-04-20 14:24:52,852|\t300: TRAIN loss 1.3694,  acc 0.4636  ||  VAL loss 1.4414, acc 0.5451\n",
      "2019-04-20 14:25:30,341|\t400: TRAIN loss 1.0892,  acc 0.5784  ||  VAL loss 1.3460, acc 0.6021\n",
      "2019-04-20 14:26:07,926|\t500: TRAIN loss 0.8500,  acc 0.6708  ||  VAL loss 1.2259, acc 0.6345\n",
      "2019-04-20 14:26:45,410|\t600: TRAIN loss 0.7125,  acc 0.7116  ||  VAL loss 1.2170, acc 0.6622\n",
      "2019-04-20 14:27:22,897|\t700: TRAIN loss 0.6030,  acc 0.7635  ||  VAL loss 1.2081, acc 0.7097\n",
      "2019-04-20 14:28:00,472|\t800: TRAIN loss 0.5117,  acc 0.8003  ||  VAL loss 1.2056, acc 0.7413\n",
      "2019-04-20 14:28:37,967|\t900: TRAIN loss 0.4230,  acc 0.8337  ||  VAL loss 1.2476, acc 0.7397\n",
      "2019-04-20 14:29:15,460|\t1000: TRAIN loss 0.4073,  acc 0.8413  ||  VAL loss 1.2581, acc 0.7563\n",
      "2019-04-20 14:29:53,029|\t1100: TRAIN loss 0.3035,  acc 0.8761  ||  VAL loss 1.3258, acc 0.7547\n",
      "2019-04-20 14:30:30,483|\t1200: TRAIN loss 0.2727,  acc 0.8905  ||  VAL loss 1.4200, acc 0.7516\n",
      "2019-04-20 14:31:09,251|\t1300: TRAIN loss 0.3224,  acc 0.8814  ||  VAL loss 1.3470, acc 0.7571\n",
      "2019-04-20 14:31:48,622|\t1400: TRAIN loss 0.2334,  acc 0.9107  ||  VAL loss 1.5071, acc 0.7524\n",
      "2019-04-20 14:32:28,182|\t1500: TRAIN loss 0.1833,  acc 0.9295  ||  VAL loss 1.2965, acc 0.7911\n",
      "2019-04-20 14:33:07,588|\t1600: TRAIN loss 0.1957,  acc 0.9208  ||  VAL loss 1.3794, acc 0.7919\n",
      "2019-04-20 14:33:46,296|\t1700: TRAIN loss 0.1621,  acc 0.9345  ||  VAL loss 1.5024, acc 0.7856\n",
      "2019-04-20 14:34:25,302|\t1800: TRAIN loss 0.1477,  acc 0.9420  ||  VAL loss 1.4996, acc 0.7888\n",
      "2019-04-20 14:35:04,135|\t1900: TRAIN loss 0.1258,  acc 0.9501  ||  VAL loss 1.4304, acc 0.7872\n",
      "2019-04-20 14:36:12,264|>>>>>1024,64,0.9716943784639747,0.7563291139240507\n",
      "2019-04-20 14:36:15,378|\t0: TRAIN loss 14.1476,  acc 0.1178  ||  VAL loss 14.4056, acc 0.1028\n",
      "2019-04-20 14:37:52,578|\t100: TRAIN loss 2.0361,  acc 0.3009  ||  VAL loss 2.0634, acc 0.3576\n",
      "2019-04-20 14:39:39,403|\t200: TRAIN loss 1.3519,  acc 0.5192  ||  VAL loss 1.5432, acc 0.5570\n",
      "2019-04-20 14:42:27,960|\t300: TRAIN loss 0.9562,  acc 0.6451  ||  VAL loss 1.2346, acc 0.6456\n",
      "2019-04-20 14:45:12,478|\t400: TRAIN loss 0.7719,  acc 0.7065  ||  VAL loss 1.1154, acc 0.6820\n",
      "2019-04-20 14:47:55,108|\t500: TRAIN loss 0.5945,  acc 0.7728  ||  VAL loss 1.1458, acc 0.7271\n",
      "2019-04-20 14:50:35,596|\t600: TRAIN loss 0.4700,  acc 0.8203  ||  VAL loss 1.1208, acc 0.7136\n",
      "2019-04-20 14:53:15,941|\t700: TRAIN loss 0.4021,  acc 0.8474  ||  VAL loss 1.1080, acc 0.7492\n",
      "2019-04-20 14:55:57,351|\t800: TRAIN loss 0.3450,  acc 0.8723  ||  VAL loss 1.1022, acc 0.7650\n",
      "2019-04-20 14:58:36,124|\t900: TRAIN loss 0.2910,  acc 0.8981  ||  VAL loss 1.2756, acc 0.7706\n",
      "2019-04-20 15:01:14,381|\t1000: TRAIN loss 0.2354,  acc 0.9141  ||  VAL loss 1.2034, acc 0.7832\n",
      "2019-04-20 15:02:58,843|\t1100: TRAIN loss 0.1966,  acc 0.9272  ||  VAL loss 1.7132, acc 0.7271\n",
      "2019-04-20 15:05:38,784|\t1200: TRAIN loss 0.1792,  acc 0.9331  ||  VAL loss 1.2797, acc 0.7816\n",
      "2019-04-20 15:08:17,462|\t1300: TRAIN loss 0.1874,  acc 0.9337  ||  VAL loss 1.3710, acc 0.8006\n",
      "2019-04-20 15:10:55,081|\t1400: TRAIN loss 0.1535,  acc 0.9483  ||  VAL loss 1.3674, acc 0.7880\n",
      "2019-04-20 15:13:32,634|\t1500: TRAIN loss 0.1362,  acc 0.9565  ||  VAL loss 1.3259, acc 0.7935\n",
      "2019-04-20 15:16:11,010|\t1600: TRAIN loss 0.1288,  acc 0.9572  ||  VAL loss 1.3586, acc 0.8101\n",
      "2019-04-20 15:18:49,231|\t1700: TRAIN loss 0.0998,  acc 0.9681  ||  VAL loss 1.4334, acc 0.7991\n",
      "2019-04-20 15:21:26,971|\t1800: TRAIN loss 0.1162,  acc 0.9634  ||  VAL loss 1.3833, acc 0.8038\n",
      "2019-04-20 15:24:05,235|\t1900: TRAIN loss 0.0988,  acc 0.9731  ||  VAL loss 1.5041, acc 0.8006\n"
     ]
    },
    {
     "name": "stdout",
     "output_type": "stream",
     "text": [
      "2019-04-20 15:26:44,070|>>>>>1024,128,0.9920823436262867,0.8014240506329114\n",
      "2019-04-20 15:26:50,197|\t0: TRAIN loss 14.2549,  acc 0.1126  ||  VAL loss 13.7127, acc 0.1479\n",
      "2019-04-20 15:32:42,420|\t100: TRAIN loss 8.8245,  acc 0.4333  ||  VAL loss 8.2538, acc 0.4699\n",
      "2019-04-20 15:38:34,435|\t200: TRAIN loss 1.0141,  acc 0.6328  ||  VAL loss 1.2961, acc 0.6084\n",
      "2019-04-20 15:44:27,318|\t300: TRAIN loss 0.6772,  acc 0.7468  ||  VAL loss 1.0008, acc 0.7160\n",
      "2019-04-20 15:50:19,698|\t400: TRAIN loss 0.5348,  acc 0.8110  ||  VAL loss 0.9950, acc 0.7255\n",
      "2019-04-20 15:56:10,460|\t500: TRAIN loss 0.3942,  acc 0.8599  ||  VAL loss 1.0828, acc 0.7271\n",
      "2019-04-20 16:02:02,905|\t600: TRAIN loss 0.3293,  acc 0.8858  ||  VAL loss 0.9957, acc 0.7587\n",
      "2019-04-20 16:07:55,963|\t700: TRAIN loss 0.2662,  acc 0.9066  ||  VAL loss 0.9808, acc 0.7824\n",
      "2019-04-20 16:13:48,124|\t800: TRAIN loss 0.2420,  acc 0.9208  ||  VAL loss 0.9806, acc 0.7927\n",
      "2019-04-20 16:19:38,202|\t900: TRAIN loss 0.1783,  acc 0.9380  ||  VAL loss 1.0729, acc 0.7927\n",
      "2019-04-20 16:25:28,876|\t1000: TRAIN loss 0.1576,  acc 0.9491  ||  VAL loss 1.1221, acc 0.7872\n",
      "2019-04-20 16:31:20,985|\t1100: TRAIN loss 0.1215,  acc 0.9622  ||  VAL loss 1.2910, acc 0.7896\n",
      "2019-04-20 16:37:12,661|\t1200: TRAIN loss 0.1114,  acc 0.9669  ||  VAL loss 1.5213, acc 0.7753\n",
      "2019-04-20 16:43:05,049|\t1300: TRAIN loss 0.1072,  acc 0.9677  ||  VAL loss 1.2146, acc 0.8078\n",
      "2019-04-20 16:48:56,837|\t1400: TRAIN loss 0.1069,  acc 0.9673  ||  VAL loss 1.2044, acc 0.7951\n",
      "2019-04-20 16:54:49,648|\t1500: TRAIN loss 0.0855,  acc 0.9760  ||  VAL loss 1.2549, acc 0.8046\n",
      "2019-04-20 16:59:55,698|\t1600: TRAIN loss 0.0770,  acc 0.9786  ||  VAL loss 1.2205, acc 0.8101\n",
      "2019-04-20 17:03:57,412|\t1700: TRAIN loss 0.0845,  acc 0.9784  ||  VAL loss 1.2940, acc 0.8046\n",
      "2019-04-20 17:07:59,264|\t1800: TRAIN loss 0.0729,  acc 0.9812  ||  VAL loss 1.2622, acc 0.8133\n",
      "2019-04-20 17:12:01,081|\t1900: TRAIN loss 0.0634,  acc 0.9846  ||  VAL loss 1.2830, acc 0.8165\n",
      "2019-04-20 17:16:01,434|>>>>>1024,256,0.9930720506730008,0.8109177215189873\n",
      "2019-04-20 17:16:04,377|\t0: TRAIN loss 14.1555,  acc 0.1184  ||  VAL loss 14.3711, acc 0.1084\n",
      "2019-04-20 17:17:43,024|\t100: TRAIN loss 7.1051,  acc 0.5071  ||  VAL loss 8.1345, acc 0.4486\n",
      "2019-04-20 17:19:21,651|\t200: TRAIN loss 0.7130,  acc 0.7700  ||  VAL loss 1.0902, acc 0.7144\n",
      "2019-04-20 17:21:00,218|\t300: TRAIN loss 0.4856,  acc 0.8452  ||  VAL loss 1.0224, acc 0.7468\n",
      "2019-04-20 17:22:38,809|\t400: TRAIN loss 0.3503,  acc 0.8955  ||  VAL loss 1.0028, acc 0.7698\n",
      "2019-04-20 17:24:17,441|\t500: TRAIN loss 0.2766,  acc 0.9230  ||  VAL loss 1.0109, acc 0.7935\n",
      "2019-04-20 17:25:56,095|\t600: TRAIN loss 0.2096,  acc 0.9495  ||  VAL loss 0.9955, acc 0.8038\n",
      "2019-04-20 17:27:34,713|\t700: TRAIN loss 0.1779,  acc 0.9580  ||  VAL loss 1.0793, acc 0.7896\n",
      "2019-04-20 17:29:13,332|\t800: TRAIN loss 0.1551,  acc 0.9648  ||  VAL loss 1.0432, acc 0.8014\n",
      "2019-04-20 17:30:52,055|\t900: TRAIN loss 0.1243,  acc 0.9751  ||  VAL loss 1.1535, acc 0.7975\n",
      "2019-04-20 17:32:30,709|\t1000: TRAIN loss 0.1333,  acc 0.9733  ||  VAL loss 1.1279, acc 0.8030\n",
      "2019-04-20 17:34:09,311|\t1100: TRAIN loss 0.1068,  acc 0.9808  ||  VAL loss 1.1840, acc 0.8093\n",
      "2019-04-20 17:35:47,841|\t1200: TRAIN loss 0.0986,  acc 0.9856  ||  VAL loss 1.1503, acc 0.8259\n",
      "2019-04-20 17:37:26,431|\t1300: TRAIN loss 0.0968,  acc 0.9856  ||  VAL loss 1.1713, acc 0.8204\n",
      "2019-04-20 17:39:05,069|\t1400: TRAIN loss 0.0929,  acc 0.9877  ||  VAL loss 1.1994, acc 0.8157\n",
      "2019-04-20 17:40:43,664|\t1500: TRAIN loss 0.0874,  acc 0.9883  ||  VAL loss 1.4033, acc 0.8022\n",
      "2019-04-20 17:42:22,270|\t1600: TRAIN loss 0.0917,  acc 0.9879  ||  VAL loss 1.1578, acc 0.8259\n",
      "2019-04-20 17:44:00,914|\t1700: TRAIN loss 0.0837,  acc 0.9895  ||  VAL loss 1.2501, acc 0.8236\n",
      "2019-04-20 17:45:39,481|\t1800: TRAIN loss 0.0893,  acc 0.9865  ||  VAL loss 1.1926, acc 0.8275\n",
      "2019-04-20 17:47:18,136|\t1900: TRAIN loss 0.0871,  acc 0.9899  ||  VAL loss 1.3263, acc 0.8078\n",
      "2019-04-20 17:48:56,674|>>>>>1024,512,0.9938638163103721,0.8093354430379747\n",
      "2019-04-20 17:48:59,863|\t0: TRAIN loss 13.6432,  acc 0.1475  ||  VAL loss 13.4568, acc 0.1622\n",
      "2019-04-20 17:50:59,945|\t100: TRAIN loss 10.5804,  acc 0.3327  ||  VAL loss 10.8487, acc 0.3149\n",
      "2019-04-20 17:52:59,946|\t200: TRAIN loss 1.3051,  acc 0.5859  ||  VAL loss 1.7092, acc 0.5198\n",
      "2019-04-20 17:54:59,946|\t300: TRAIN loss 1.1783,  acc 0.5932  ||  VAL loss 1.5826, acc 0.5269\n",
      "2019-04-20 17:56:59,957|\t400: TRAIN loss 0.9385,  acc 0.6805  ||  VAL loss 1.4903, acc 0.5759\n",
      "2019-04-20 17:59:00,008|\t500: TRAIN loss 0.7795,  acc 0.7310  ||  VAL loss 1.3790, acc 0.6290\n",
      "2019-04-20 18:01:00,031|\t600: TRAIN loss 0.5691,  acc 0.8094  ||  VAL loss 1.2063, acc 0.6891\n",
      "2019-04-20 18:03:00,044|\t700: TRAIN loss 0.5304,  acc 0.8242  ||  VAL loss 1.5049, acc 0.6321\n",
      "2019-04-20 18:05:00,086|\t800: TRAIN loss 0.2910,  acc 0.9089  ||  VAL loss 1.1722, acc 0.7437\n",
      "2019-04-20 18:07:00,010|\t900: TRAIN loss 0.2262,  acc 0.9345  ||  VAL loss 1.1665, acc 0.7524\n",
      "2019-04-20 18:09:00,009|\t1000: TRAIN loss 0.1776,  acc 0.9519  ||  VAL loss 1.1903, acc 0.7453\n",
      "2019-04-20 18:11:00,104|\t1100: TRAIN loss 0.1971,  acc 0.9418  ||  VAL loss 1.1849, acc 0.7563\n",
      "2019-04-20 18:13:00,162|\t1200: TRAIN loss 0.3262,  acc 0.9018  ||  VAL loss 1.4069, acc 0.7057\n",
      "2019-04-20 18:15:00,117|\t1300: TRAIN loss 0.1507,  acc 0.9608  ||  VAL loss 1.2862, acc 0.7603\n",
      "2019-04-20 18:17:00,272|\t1400: TRAIN loss 0.1440,  acc 0.9608  ||  VAL loss 1.4005, acc 0.7532\n",
      "2019-04-20 18:19:00,969|\t1500: TRAIN loss 0.1066,  acc 0.9749  ||  VAL loss 1.3119, acc 0.7650\n",
      "2019-04-20 18:21:01,488|\t1600: TRAIN loss 0.0761,  acc 0.9863  ||  VAL loss 1.3107, acc 0.7903\n",
      "2019-04-20 18:23:01,965|\t1700: TRAIN loss 0.0542,  acc 0.9935  ||  VAL loss 1.3806, acc 0.7951\n",
      "2019-04-20 18:25:02,461|\t1800: TRAIN loss 0.0579,  acc 0.9929  ||  VAL loss 1.3393, acc 0.7903\n",
      "2019-04-20 18:27:02,945|\t1900: TRAIN loss 0.1549,  acc 0.9626  ||  VAL loss 1.4070, acc 0.7650\n",
      "2019-04-20 18:29:02,884|>>>>>1024,1024,0.9972288202692003,0.7974683544303798\n",
      "2019-04-20 18:29:12,598|\t0: TRAIN loss 10.6987,  acc 0.1281  ||  VAL loss 13.7868, acc 0.1274\n",
      "2019-04-20 18:41:37,140|\t100: TRAIN loss 2.1519,  acc 0.1740  ||  VAL loss 2.1297, acc 0.1725\n",
      "2019-04-20 18:54:01,494|\t200: TRAIN loss 2.0908,  acc 0.2021  ||  VAL loss 2.1292, acc 0.2176\n",
      "2019-04-20 19:06:25,746|\t300: TRAIN loss 1.9961,  acc 0.2439  ||  VAL loss 1.9866, acc 0.2619\n",
      "2019-04-20 19:18:50,333|\t400: TRAIN loss 1.8775,  acc 0.2878  ||  VAL loss 2.0998, acc 0.3552\n",
      "2019-04-20 19:31:14,731|\t500: TRAIN loss 1.8246,  acc 0.3092  ||  VAL loss 1.8532, acc 0.3600\n",
      "2019-04-20 19:43:39,167|\t600: TRAIN loss 1.6570,  acc 0.3587  ||  VAL loss 1.8102, acc 0.4098\n",
      "2019-04-20 19:56:03,588|\t700: TRAIN loss 1.4908,  acc 0.4256  ||  VAL loss 1.7042, acc 0.4589\n",
      "2019-04-20 20:08:28,293|\t800: TRAIN loss 1.2831,  acc 0.5048  ||  VAL loss 1.5655, acc 0.5704\n",
      "2019-04-20 20:20:52,704|\t900: TRAIN loss 1.0207,  acc 0.5976  ||  VAL loss 1.3576, acc 0.6266\n",
      "2019-04-20 20:33:16,896|\t1000: TRAIN loss 0.7997,  acc 0.6841  ||  VAL loss 1.6754, acc 0.5807\n",
      "2019-04-20 20:45:41,243|\t1100: TRAIN loss 0.6693,  acc 0.7354  ||  VAL loss 1.3309, acc 0.7255\n",
      "2019-04-20 20:58:05,426|\t1200: TRAIN loss 0.5102,  acc 0.7971  ||  VAL loss 1.3356, acc 0.7342\n",
      "2019-04-20 21:10:29,925|\t1300: TRAIN loss 0.4941,  acc 0.8165  ||  VAL loss 1.1856, acc 0.7397\n",
      "2019-04-20 21:22:54,290|\t1400: TRAIN loss 0.4124,  acc 0.8393  ||  VAL loss 1.7106, acc 0.6994\n",
      "2019-04-20 21:35:18,712|\t1500: TRAIN loss 0.3737,  acc 0.8575  ||  VAL loss 1.4220, acc 0.7587\n",
      "2019-04-20 21:47:42,904|\t1600: TRAIN loss 0.2882,  acc 0.8872  ||  VAL loss 1.3585, acc 0.7698\n",
      "2019-04-20 22:00:07,289|\t1700: TRAIN loss 0.2798,  acc 0.8959  ||  VAL loss 1.4483, acc 0.7563\n",
      "2019-04-20 22:12:31,545|\t1800: TRAIN loss 0.2145,  acc 0.9131  ||  VAL loss 1.5896, acc 0.7761\n",
      "2019-04-20 22:24:55,887|\t1900: TRAIN loss 0.2144,  acc 0.9200  ||  VAL loss 1.3750, acc 0.7714\n",
      "2019-04-20 22:37:13,772|>>>>>2048,32,0.9889152810768013,0.7958860759493671\n",
      "2019-04-20 22:37:24,005|\t0: TRAIN loss 13.8968,  acc 0.1308  ||  VAL loss 14.1427, acc 0.1171\n",
      "2019-04-20 22:50:38,768|\t100: TRAIN loss 2.0380,  acc 0.2405  ||  VAL loss 2.0225, acc 0.2405\n",
      "2019-04-20 23:03:53,888|\t200: TRAIN loss 1.8662,  acc 0.2967  ||  VAL loss 2.0064, acc 0.3267\n"
     ]
    },
    {
     "name": "stdout",
     "output_type": "stream",
     "text": [
      "2019-04-20 23:17:08,893|\t300: TRAIN loss 1.6089,  acc 0.3939  ||  VAL loss 1.8380, acc 0.4130\n",
      "2019-04-20 23:30:23,629|\t400: TRAIN loss 1.3146,  acc 0.5065  ||  VAL loss 1.4608, acc 0.5261\n",
      "2019-04-20 23:43:38,055|\t500: TRAIN loss 1.0557,  acc 0.6083  ||  VAL loss 1.2634, acc 0.6195\n",
      "2019-04-20 23:56:52,845|\t600: TRAIN loss 0.7654,  acc 0.7039  ||  VAL loss 1.2901, acc 0.6685\n",
      "2019-04-21 00:10:12,806|\t700: TRAIN loss 0.6007,  acc 0.7654  ||  VAL loss 1.0820, acc 0.7089\n",
      "2019-04-21 00:28:03,004|\t800: TRAIN loss 0.4606,  acc 0.8211  ||  VAL loss 1.0737, acc 0.7524\n",
      "2019-04-21 00:46:05,031|\t900: TRAIN loss 0.3730,  acc 0.8541  ||  VAL loss 1.0677, acc 0.7627\n",
      "2019-04-21 01:04:03,190|\t1000: TRAIN loss 0.3097,  acc 0.8791  ||  VAL loss 1.0324, acc 0.7698\n",
      "2019-04-21 01:22:01,816|\t1100: TRAIN loss 0.2763,  acc 0.8977  ||  VAL loss 1.3318, acc 0.7516\n",
      "2019-04-21 01:39:59,464|\t1200: TRAIN loss 0.2134,  acc 0.9186  ||  VAL loss 1.1314, acc 0.7809\n",
      "2019-04-21 01:57:59,358|\t1300: TRAIN loss 0.1949,  acc 0.9238  ||  VAL loss 1.3463, acc 0.7547\n",
      "2019-04-21 02:15:58,019|\t1400: TRAIN loss 0.1430,  acc 0.9479  ||  VAL loss 1.1509, acc 0.8006\n",
      "2019-04-21 02:33:58,262|\t1500: TRAIN loss 0.1413,  acc 0.9493  ||  VAL loss 1.3126, acc 0.7745\n",
      "2019-04-21 02:51:57,257|\t1600: TRAIN loss 0.1574,  acc 0.9400  ||  VAL loss 1.2161, acc 0.7975\n",
      "2019-04-21 03:09:56,508|\t1700: TRAIN loss 0.1449,  acc 0.9473  ||  VAL loss 1.1853, acc 0.7967\n",
      "2019-04-21 03:27:55,981|\t1800: TRAIN loss 0.1044,  acc 0.9592  ||  VAL loss 1.2514, acc 0.8157\n",
      "2019-04-21 03:45:55,379|\t1900: TRAIN loss 0.0945,  acc 0.9646  ||  VAL loss 1.3045, acc 0.8141\n",
      "2019-04-21 04:03:42,412|>>>>>2048,64,0.9968329374505146,0.8156645569620253\n",
      "2019-04-21 04:03:47,582|\t0: TRAIN loss 13.9422,  acc 0.1295  ||  VAL loss 13.9198, acc 0.1321\n",
      "2019-04-21 04:07:43,036|\t100: TRAIN loss 2.0512,  acc 0.2945  ||  VAL loss 2.1162, acc 0.3291\n",
      "2019-04-21 04:10:38,307|\t200: TRAIN loss 1.2975,  acc 0.5297  ||  VAL loss 1.4219, acc 0.5965\n",
      "2019-04-21 04:12:59,376|\t300: TRAIN loss 0.8794,  acc 0.6679  ||  VAL loss 1.1669, acc 0.6543\n",
      "2019-04-21 04:15:20,407|\t400: TRAIN loss 0.6675,  acc 0.7460  ||  VAL loss 1.5875, acc 0.6566\n",
      "2019-04-21 04:17:41,702|\t500: TRAIN loss 0.5034,  acc 0.8145  ||  VAL loss 1.0953, acc 0.7381\n",
      "2019-04-21 04:20:02,688|\t600: TRAIN loss 0.4197,  acc 0.8414  ||  VAL loss 1.0870, acc 0.7421\n",
      "2019-04-21 04:22:23,576|\t700: TRAIN loss 0.3035,  acc 0.8907  ||  VAL loss 1.1598, acc 0.7634\n",
      "2019-04-21 04:24:44,555|\t800: TRAIN loss 0.2505,  acc 0.9082  ||  VAL loss 1.1987, acc 0.7769\n",
      "2019-04-21 04:27:05,495|\t900: TRAIN loss 0.1992,  acc 0.9236  ||  VAL loss 1.3172, acc 0.7793\n",
      "2019-04-21 04:29:26,463|\t1000: TRAIN loss 0.1701,  acc 0.9345  ||  VAL loss 1.3502, acc 0.7650\n",
      "2019-04-21 04:31:47,390|\t1100: TRAIN loss 0.1609,  acc 0.9402  ||  VAL loss 1.2899, acc 0.7864\n",
      "2019-04-21 04:34:08,336|\t1200: TRAIN loss 0.1364,  acc 0.9539  ||  VAL loss 1.2358, acc 0.7919\n",
      "2019-04-21 04:36:29,248|\t1300: TRAIN loss 0.1171,  acc 0.9598  ||  VAL loss 1.4139, acc 0.7864\n",
      "2019-04-21 04:38:50,170|\t1400: TRAIN loss 0.1235,  acc 0.9529  ||  VAL loss 1.4706, acc 0.7769\n",
      "2019-04-21 04:41:11,065|\t1500: TRAIN loss 0.0933,  acc 0.9681  ||  VAL loss 1.4569, acc 0.7911\n",
      "2019-04-21 04:43:31,982|\t1600: TRAIN loss 0.0789,  acc 0.9725  ||  VAL loss 1.4165, acc 0.7983\n",
      "2019-04-21 04:45:52,862|\t1700: TRAIN loss 0.0563,  acc 0.9778  ||  VAL loss 1.5180, acc 0.7919\n",
      "2019-04-21 04:48:13,762|\t1800: TRAIN loss 0.0617,  acc 0.9792  ||  VAL loss 1.4728, acc 0.7943\n",
      "2019-04-21 04:50:34,610|\t1900: TRAIN loss 0.0623,  acc 0.9764  ||  VAL loss 1.5461, acc 0.7793\n",
      "2019-04-21 04:52:54,782|>>>>>2048,128,0.9956452889944576,0.7871835443037974\n",
      "2019-04-21 04:52:58,742|\t0: TRAIN loss 14.2702,  acc 0.1118  ||  VAL loss 14.1926, acc 0.1195\n",
      "2019-04-21 04:55:46,264|\t100: TRAIN loss 2.0194,  acc 0.3454  ||  VAL loss 1.9173, acc 0.3956\n",
      "2019-04-21 04:58:33,751|\t200: TRAIN loss 0.8812,  acc 0.6829  ||  VAL loss 1.1262, acc 0.6669\n",
      "2019-04-21 05:01:21,236|\t300: TRAIN loss 0.5822,  acc 0.7914  ||  VAL loss 1.0281, acc 0.7302\n",
      "2019-04-21 05:04:08,718|\t400: TRAIN loss 0.4483,  acc 0.8430  ||  VAL loss 1.0037, acc 0.7595\n",
      "2019-04-21 05:06:56,142|\t500: TRAIN loss 0.2929,  acc 0.8917  ||  VAL loss 1.0148, acc 0.7769\n",
      "2019-04-21 05:09:43,639|\t600: TRAIN loss 0.2315,  acc 0.9230  ||  VAL loss 0.9791, acc 0.7864\n",
      "2019-04-21 05:12:31,086|\t700: TRAIN loss 0.1940,  acc 0.9335  ||  VAL loss 1.0609, acc 0.7927\n",
      "2019-04-21 05:15:18,536|\t800: TRAIN loss 0.1429,  acc 0.9547  ||  VAL loss 1.0609, acc 0.8022\n",
      "2019-04-21 05:18:06,067|\t900: TRAIN loss 0.1312,  acc 0.9563  ||  VAL loss 1.0856, acc 0.8062\n",
      "2019-04-21 05:20:53,493|\t1000: TRAIN loss 0.1132,  acc 0.9669  ||  VAL loss 1.1441, acc 0.7975\n",
      "2019-04-21 05:23:40,978|\t1100: TRAIN loss 0.0856,  acc 0.9741  ||  VAL loss 1.3201, acc 0.7943\n",
      "2019-04-21 05:26:28,430|\t1200: TRAIN loss 0.0876,  acc 0.9739  ||  VAL loss 1.1787, acc 0.8078\n",
      "2019-04-21 05:29:15,924|\t1300: TRAIN loss 0.0926,  acc 0.9711  ||  VAL loss 1.1909, acc 0.8101\n",
      "2019-04-21 05:32:03,393|\t1400: TRAIN loss 0.0694,  acc 0.9814  ||  VAL loss 1.2541, acc 0.8054\n",
      "2019-04-21 05:34:50,912|\t1500: TRAIN loss 0.0517,  acc 0.9852  ||  VAL loss 1.2361, acc 0.8212\n",
      "2019-04-21 05:37:38,422|\t1600: TRAIN loss 0.0484,  acc 0.9869  ||  VAL loss 1.3128, acc 0.8149\n",
      "2019-04-21 05:40:25,903|\t1700: TRAIN loss 0.0505,  acc 0.9863  ||  VAL loss 1.2478, acc 0.8157\n",
      "2019-04-21 05:43:13,395|\t1800: TRAIN loss 0.0531,  acc 0.9869  ||  VAL loss 1.2533, acc 0.8204\n",
      "2019-04-21 05:46:00,936|\t1900: TRAIN loss 0.0556,  acc 0.9810  ||  VAL loss 1.2160, acc 0.8180\n",
      "2019-04-21 05:48:47,783|>>>>>2048,256,0.9984164687252574,0.8188291139240507\n",
      "2019-04-21 05:48:51,831|\t0: TRAIN loss 14.2909,  acc 0.1114  ||  VAL loss 14.0778, acc 0.1266\n",
      "2019-04-21 05:51:44,880|\t100: TRAIN loss 11.5106,  acc 0.2805  ||  VAL loss 10.7600, acc 0.3244\n",
      "2019-04-21 05:54:37,952|\t200: TRAIN loss 9.4128,  acc 0.4109  ||  VAL loss 9.4743, acc 0.4051\n",
      "2019-04-21 05:57:31,014|\t300: TRAIN loss 1.0857,  acc 0.6348  ||  VAL loss 1.2989, acc 0.6203\n",
      "2019-04-21 06:00:24,076|\t400: TRAIN loss 0.6171,  acc 0.7997  ||  VAL loss 1.0780, acc 0.7286\n",
      "2019-04-21 06:03:17,117|\t500: TRAIN loss 0.4137,  acc 0.8696  ||  VAL loss 1.0445, acc 0.7500\n",
      "2019-04-21 06:06:10,168|\t600: TRAIN loss 0.3134,  acc 0.9121  ||  VAL loss 1.0255, acc 0.7809\n",
      "2019-04-21 06:09:03,206|\t700: TRAIN loss 0.2642,  acc 0.9279  ||  VAL loss 1.1159, acc 0.7714\n",
      "2019-04-21 06:11:56,264|\t800: TRAIN loss 0.2210,  acc 0.9418  ||  VAL loss 1.0535, acc 0.7911\n",
      "2019-04-21 06:14:49,344|\t900: TRAIN loss 0.1709,  acc 0.9654  ||  VAL loss 1.1799, acc 0.8054\n",
      "2019-04-21 06:17:42,493|\t1000: TRAIN loss 0.1526,  acc 0.9705  ||  VAL loss 1.1388, acc 0.7998\n",
      "2019-04-21 06:20:35,504|\t1100: TRAIN loss 0.1375,  acc 0.9749  ||  VAL loss 1.1549, acc 0.8062\n",
      "2019-04-21 06:23:28,532|\t1200: TRAIN loss 0.1333,  acc 0.9762  ||  VAL loss 1.2786, acc 0.7848\n",
      "2019-04-21 06:26:21,683|\t1300: TRAIN loss 0.1269,  acc 0.9784  ||  VAL loss 1.2692, acc 0.8022\n",
      "2019-04-21 06:29:14,728|\t1400: TRAIN loss 0.1121,  acc 0.9865  ||  VAL loss 1.2329, acc 0.8054\n",
      "2019-04-21 06:32:07,771|\t1500: TRAIN loss 0.1115,  acc 0.9830  ||  VAL loss 1.1881, acc 0.8070\n",
      "2019-04-21 06:35:00,760|\t1600: TRAIN loss 0.1094,  acc 0.9854  ||  VAL loss 1.2715, acc 0.8085\n",
      "2019-04-21 06:37:53,782|\t1700: TRAIN loss 0.1119,  acc 0.9826  ||  VAL loss 1.2482, acc 0.8014\n",
      "2019-04-21 06:40:46,784|\t1800: TRAIN loss 0.1044,  acc 0.9877  ||  VAL loss 1.2367, acc 0.8141\n",
      "2019-04-21 06:43:39,785|\t1900: TRAIN loss 0.1043,  acc 0.9875  ||  VAL loss 1.2101, acc 0.8180\n",
      "2019-04-21 06:46:32,359|>>>>>2048,512,0.9944576405384006,0.8243670886075949\n",
      "2019-04-21 06:46:45,368|\t0: TRAIN loss 13.8436,  acc 0.1352  ||  VAL loss 13.4652, acc 0.1574\n",
      "2019-04-21 06:55:06,429|\t100: TRAIN loss 10.8850,  acc 0.3195  ||  VAL loss 11.8778, acc 0.2595\n",
      "2019-04-21 06:55:57,078|\t200: TRAIN loss 1.2221,  acc 0.6463  ||  VAL loss 1.4069, acc 0.6028\n",
      "2019-04-21 06:56:47,324|\t300: TRAIN loss 0.4437,  acc 0.8781  ||  VAL loss 1.0772, acc 0.7326\n",
      "2019-04-21 06:57:37,420|\t400: TRAIN loss 0.2869,  acc 0.9339  ||  VAL loss 0.9242, acc 0.7816\n",
      "2019-04-21 06:58:27,582|\t500: TRAIN loss 0.2273,  acc 0.9563  ||  VAL loss 0.9287, acc 0.8196\n",
      "2019-04-21 06:59:17,688|\t600: TRAIN loss 0.1758,  acc 0.9715  ||  VAL loss 0.9321, acc 0.8196\n"
     ]
    },
    {
     "name": "stdout",
     "output_type": "stream",
     "text": [
      "2019-04-21 07:00:07,814|\t700: TRAIN loss 0.1508,  acc 0.9800  ||  VAL loss 0.9703, acc 0.8354\n",
      "2019-04-21 07:00:58,048|\t800: TRAIN loss 0.1479,  acc 0.9784  ||  VAL loss 0.9659, acc 0.8354\n",
      "2019-04-21 07:01:48,181|\t900: TRAIN loss 0.1164,  acc 0.9889  ||  VAL loss 0.9486, acc 0.8449\n",
      "2019-04-21 07:02:38,386|\t1000: TRAIN loss 0.1116,  acc 0.9901  ||  VAL loss 0.9888, acc 0.8426\n",
      "2019-04-21 07:03:28,437|\t1100: TRAIN loss 0.1019,  acc 0.9915  ||  VAL loss 0.9942, acc 0.8347\n",
      "2019-04-21 07:04:18,781|\t1200: TRAIN loss 0.1055,  acc 0.9907  ||  VAL loss 1.0037, acc 0.8410\n",
      "2019-04-21 07:05:08,980|\t1300: TRAIN loss 0.0977,  acc 0.9933  ||  VAL loss 0.9945, acc 0.8394\n",
      "2019-04-21 07:05:59,210|\t1400: TRAIN loss 0.1021,  acc 0.9917  ||  VAL loss 1.0458, acc 0.8386\n",
      "2019-04-21 07:06:49,399|\t1500: TRAIN loss 0.0989,  acc 0.9919  ||  VAL loss 1.0158, acc 0.8386\n",
      "2019-04-21 07:07:39,636|\t1600: TRAIN loss 0.0947,  acc 0.9931  ||  VAL loss 1.0438, acc 0.8378\n",
      "2019-04-21 07:08:29,812|\t1700: TRAIN loss 0.0966,  acc 0.9931  ||  VAL loss 1.0383, acc 0.8465\n",
      "2019-04-21 07:09:19,895|\t1800: TRAIN loss 0.0951,  acc 0.9935  ||  VAL loss 1.0571, acc 0.8386\n",
      "2019-04-21 07:10:09,996|\t1900: TRAIN loss 0.0914,  acc 0.9937  ||  VAL loss 1.0554, acc 0.8473\n",
      "2019-04-21 07:11:00,619|>>>>>2048,1024,0.9946555819477435,0.8417721518987342\n"
     ]
    }
   ],
   "source": [
    "results=[]\n",
    "for n_layer1 in [128,256,2*256,4*256,8*256]:\n",
    "    for n_layer2 in [32,64,128,256,2*256,4*256]:\n",
    "        # Build the Estimator\n",
    "        model=build_model(n_layer1,n_layer2,dropout)\n",
    "        model.fit(features_train,labels_train,validation_data=(features_val,labels_val),\n",
    "                  epochs=nepochs,batch_size=100,\n",
    "                  verbose=0,callbacks=[LoggingCallback(100,logger)])\n",
    "        Y_pred=np.argmax(model.predict(features_train),axis=1)\n",
    "        acc_train=np.mean(Y_pred==labels_train)\n",
    "        Y_pred=np.argmax(model.predict(features_val),axis=1)\n",
    "        acc_val=np.mean(Y_pred==labels_val)\n",
    "        logger.info(f\">>>>>{n_layer1},{n_layer2},{acc_train},{acc_val}\")\n",
    "        results.append((n_layer1,n_layer2,acc_train,acc_val))\n",
    "        "
   ]
  },
  {
   "cell_type": "code",
   "execution_count": 37,
   "metadata": {
    "ExecuteTime": {
     "end_time": "2019-04-21T11:11:00.641634Z",
     "start_time": "2019-04-21T11:11:00.633634Z"
    }
   },
   "outputs": [],
   "source": [
    "import pandas as pd"
   ]
  },
  {
   "cell_type": "code",
   "execution_count": 38,
   "metadata": {
    "ExecuteTime": {
     "end_time": "2019-04-21T11:11:00.699086Z",
     "start_time": "2019-04-21T11:11:00.641634Z"
    }
   },
   "outputs": [
    {
     "data": {
      "text/html": [
       "<div>\n",
       "<style scoped>\n",
       "    .dataframe tbody tr th:only-of-type {\n",
       "        vertical-align: middle;\n",
       "    }\n",
       "\n",
       "    .dataframe tbody tr th {\n",
       "        vertical-align: top;\n",
       "    }\n",
       "\n",
       "    .dataframe thead th {\n",
       "        text-align: right;\n",
       "    }\n",
       "</style>\n",
       "<table border=\"1\" class=\"dataframe\">\n",
       "  <thead>\n",
       "    <tr style=\"text-align: right;\">\n",
       "      <th></th>\n",
       "      <th>layer1</th>\n",
       "      <th>layer2</th>\n",
       "      <th>train</th>\n",
       "      <th>valuation</th>\n",
       "    </tr>\n",
       "  </thead>\n",
       "  <tbody>\n",
       "    <tr>\n",
       "      <th>0</th>\n",
       "      <td>128</td>\n",
       "      <td>32</td>\n",
       "      <td>0.863618</td>\n",
       "      <td>0.684335</td>\n",
       "    </tr>\n",
       "    <tr>\n",
       "      <th>1</th>\n",
       "      <td>128</td>\n",
       "      <td>64</td>\n",
       "      <td>0.923990</td>\n",
       "      <td>0.718354</td>\n",
       "    </tr>\n",
       "    <tr>\n",
       "      <th>2</th>\n",
       "      <td>128</td>\n",
       "      <td>128</td>\n",
       "      <td>0.784046</td>\n",
       "      <td>0.595728</td>\n",
       "    </tr>\n",
       "    <tr>\n",
       "      <th>3</th>\n",
       "      <td>128</td>\n",
       "      <td>256</td>\n",
       "      <td>0.734363</td>\n",
       "      <td>0.595728</td>\n",
       "    </tr>\n",
       "    <tr>\n",
       "      <th>4</th>\n",
       "      <td>128</td>\n",
       "      <td>512</td>\n",
       "      <td>0.785827</td>\n",
       "      <td>0.604430</td>\n",
       "    </tr>\n",
       "  </tbody>\n",
       "</table>\n",
       "</div>"
      ],
      "text/plain": [
       "   layer1  layer2     train  valuation\n",
       "0     128      32  0.863618   0.684335\n",
       "1     128      64  0.923990   0.718354\n",
       "2     128     128  0.784046   0.595728\n",
       "3     128     256  0.734363   0.595728\n",
       "4     128     512  0.785827   0.604430"
      ]
     },
     "execution_count": 38,
     "metadata": {},
     "output_type": "execute_result"
    }
   ],
   "source": [
    "data=pd.DataFrame(results,columns=[\"layer1\",\"layer2\",\"train\",\"valuation\"])\n",
    "data.head()"
   ]
  },
  {
   "cell_type": "code",
   "execution_count": 39,
   "metadata": {
    "ExecuteTime": {
     "end_time": "2019-04-21T11:11:00.730561Z",
     "start_time": "2019-04-21T11:11:00.699086Z"
    }
   },
   "outputs": [
    {
     "data": {
      "text/html": [
       "<div>\n",
       "<style scoped>\n",
       "    .dataframe tbody tr th:only-of-type {\n",
       "        vertical-align: middle;\n",
       "    }\n",
       "\n",
       "    .dataframe tbody tr th {\n",
       "        vertical-align: top;\n",
       "    }\n",
       "\n",
       "    .dataframe thead tr th {\n",
       "        text-align: left;\n",
       "    }\n",
       "\n",
       "    .dataframe thead tr:last-of-type th {\n",
       "        text-align: right;\n",
       "    }\n",
       "</style>\n",
       "<table border=\"1\" class=\"dataframe\">\n",
       "  <thead>\n",
       "    <tr>\n",
       "      <th></th>\n",
       "      <th colspan=\"6\" halign=\"left\">train</th>\n",
       "      <th colspan=\"6\" halign=\"left\">valuation</th>\n",
       "    </tr>\n",
       "    <tr>\n",
       "      <th>layer2</th>\n",
       "      <th>32</th>\n",
       "      <th>64</th>\n",
       "      <th>128</th>\n",
       "      <th>256</th>\n",
       "      <th>512</th>\n",
       "      <th>1024</th>\n",
       "      <th>32</th>\n",
       "      <th>64</th>\n",
       "      <th>128</th>\n",
       "      <th>256</th>\n",
       "      <th>512</th>\n",
       "      <th>1024</th>\n",
       "    </tr>\n",
       "    <tr>\n",
       "      <th>layer1</th>\n",
       "      <th></th>\n",
       "      <th></th>\n",
       "      <th></th>\n",
       "      <th></th>\n",
       "      <th></th>\n",
       "      <th></th>\n",
       "      <th></th>\n",
       "      <th></th>\n",
       "      <th></th>\n",
       "      <th></th>\n",
       "      <th></th>\n",
       "      <th></th>\n",
       "    </tr>\n",
       "  </thead>\n",
       "  <tbody>\n",
       "    <tr>\n",
       "      <th>128</th>\n",
       "      <td>0.863618</td>\n",
       "      <td>0.923990</td>\n",
       "      <td>0.784046</td>\n",
       "      <td>0.734363</td>\n",
       "      <td>0.785827</td>\n",
       "      <td>0.820269</td>\n",
       "      <td>0.684335</td>\n",
       "      <td>0.718354</td>\n",
       "      <td>0.595728</td>\n",
       "      <td>0.595728</td>\n",
       "      <td>0.604430</td>\n",
       "      <td>0.610759</td>\n",
       "    </tr>\n",
       "    <tr>\n",
       "      <th>256</th>\n",
       "      <td>0.861639</td>\n",
       "      <td>0.960412</td>\n",
       "      <td>0.980998</td>\n",
       "      <td>0.991686</td>\n",
       "      <td>0.741686</td>\n",
       "      <td>0.932304</td>\n",
       "      <td>0.695411</td>\n",
       "      <td>0.737342</td>\n",
       "      <td>0.764241</td>\n",
       "      <td>0.781646</td>\n",
       "      <td>0.583861</td>\n",
       "      <td>0.681171</td>\n",
       "    </tr>\n",
       "    <tr>\n",
       "      <th>512</th>\n",
       "      <td>0.946556</td>\n",
       "      <td>0.982977</td>\n",
       "      <td>0.990103</td>\n",
       "      <td>0.997823</td>\n",
       "      <td>0.972684</td>\n",
       "      <td>0.901029</td>\n",
       "      <td>0.751582</td>\n",
       "      <td>0.756329</td>\n",
       "      <td>0.765032</td>\n",
       "      <td>0.799842</td>\n",
       "      <td>0.726266</td>\n",
       "      <td>0.687500</td>\n",
       "    </tr>\n",
       "    <tr>\n",
       "      <th>1024</th>\n",
       "      <td>0.969319</td>\n",
       "      <td>0.971694</td>\n",
       "      <td>0.992082</td>\n",
       "      <td>0.993072</td>\n",
       "      <td>0.993864</td>\n",
       "      <td>0.997229</td>\n",
       "      <td>0.764241</td>\n",
       "      <td>0.756329</td>\n",
       "      <td>0.801424</td>\n",
       "      <td>0.810918</td>\n",
       "      <td>0.809335</td>\n",
       "      <td>0.797468</td>\n",
       "    </tr>\n",
       "    <tr>\n",
       "      <th>2048</th>\n",
       "      <td>0.988915</td>\n",
       "      <td>0.996833</td>\n",
       "      <td>0.995645</td>\n",
       "      <td>0.998416</td>\n",
       "      <td>0.994458</td>\n",
       "      <td>0.994656</td>\n",
       "      <td>0.795886</td>\n",
       "      <td>0.815665</td>\n",
       "      <td>0.787184</td>\n",
       "      <td>0.818829</td>\n",
       "      <td>0.824367</td>\n",
       "      <td>0.841772</td>\n",
       "    </tr>\n",
       "  </tbody>\n",
       "</table>\n",
       "</div>"
      ],
      "text/plain": [
       "           train                                                   valuation  \\\n",
       "layer2      32        64        128       256       512       1024      32     \n",
       "layer1                                                                         \n",
       "128     0.863618  0.923990  0.784046  0.734363  0.785827  0.820269  0.684335   \n",
       "256     0.861639  0.960412  0.980998  0.991686  0.741686  0.932304  0.695411   \n",
       "512     0.946556  0.982977  0.990103  0.997823  0.972684  0.901029  0.751582   \n",
       "1024    0.969319  0.971694  0.992082  0.993072  0.993864  0.997229  0.764241   \n",
       "2048    0.988915  0.996833  0.995645  0.998416  0.994458  0.994656  0.795886   \n",
       "\n",
       "                                                          \n",
       "layer2      64        128       256       512       1024  \n",
       "layer1                                                    \n",
       "128     0.718354  0.595728  0.595728  0.604430  0.610759  \n",
       "256     0.737342  0.764241  0.781646  0.583861  0.681171  \n",
       "512     0.756329  0.765032  0.799842  0.726266  0.687500  \n",
       "1024    0.756329  0.801424  0.810918  0.809335  0.797468  \n",
       "2048    0.815665  0.787184  0.818829  0.824367  0.841772  "
      ]
     },
     "execution_count": 39,
     "metadata": {},
     "output_type": "execute_result"
    }
   ],
   "source": [
    "pivot=data.pivot('layer1', 'layer2')\n",
    "pivot"
   ]
  },
  {
   "cell_type": "markdown",
   "metadata": {},
   "source": [
    "We have to go to **extremly large** model sizes ($2048\\times 1024$) to start seeing performance degradation (the variance on the bias-variance trade-off)\n",
    "\n",
    "Optimal model seems to be **$2048 \\times 1024$**, but we would probably need to run cross-validation to gain any certainty,"
   ]
  },
  {
   "cell_type": "code",
   "execution_count": 40,
   "metadata": {
    "ExecuteTime": {
     "end_time": "2019-04-21T11:11:00.734530Z",
     "start_time": "2019-04-21T11:11:00.730561Z"
    }
   },
   "outputs": [],
   "source": [
    "from matplotlib import colors, ticker, cm"
   ]
  },
  {
   "cell_type": "code",
   "execution_count": 41,
   "metadata": {
    "ExecuteTime": {
     "end_time": "2019-04-21T11:11:00.746536Z",
     "start_time": "2019-04-21T11:11:00.734530Z"
    }
   },
   "outputs": [
    {
     "name": "stdout",
     "output_type": "stream",
     "text": [
      "(6,) (5,) (5, 6)\n"
     ]
    }
   ],
   "source": [
    "X=pivot.columns.levels[1].values\n",
    "Y=pivot.index.values\n",
    "Z=data[\"valuation\"].values.reshape(len(X),-1).T\n",
    "print(X.shape,Y.shape,Z.shape)\n",
    "Xi,Yi = np.meshgrid(X, Y)"
   ]
  },
  {
   "cell_type": "code",
   "execution_count": 42,
   "metadata": {
    "ExecuteTime": {
     "end_time": "2019-04-21T11:11:01.281058Z",
     "start_time": "2019-04-21T11:11:00.746536Z"
    }
   },
   "outputs": [
    {
     "data": {
      "image/png": "[encoded data removed]",
      "text/plain": [
       "<Figure size 432x288 with 2 Axes>"
      ]
     },
     "metadata": {},
     "output_type": "display_data"
    }
   ],
   "source": [
    "fig = plt.figure()\n",
    "ax = fig.add_subplot(1,1,1)\n",
    "ax.set_title(\"Training Error as function of layer size\")\n",
    "ax.set_xlabel(\"layer2\")\n",
    "ax.set_ylabel(\"layer1\")\n",
    "ax.set_xscale(\"log\")\n",
    "ax.set_yscale(\"log\")\n",
    "cs=plt.contourf(Yi, Xi, 1-Z,locator=ticker.LogLocator(base=1.5,numdecs=10),  cmap=plt.cm.jet)\n",
    "cbar = fig.colorbar(cs)"
   ]
  },
  {
   "cell_type": "markdown",
   "metadata": {
    "collapsed": true
   },
   "source": [
    "### Test of the best model"
   ]
  },
  {
   "cell_type": "code",
   "execution_count": 43,
   "metadata": {
    "ExecuteTime": {
     "end_time": "2019-04-21T11:11:01.290033Z",
     "start_time": "2019-04-21T11:11:01.283053Z"
    }
   },
   "outputs": [
    {
     "data": {
      "text/plain": [
       "layer1       2048.000000\n",
       "layer2       1024.000000\n",
       "train           0.994656\n",
       "valuation       0.841772\n",
       "Name: 29, dtype: float64"
      ]
     },
     "execution_count": 43,
     "metadata": {},
     "output_type": "execute_result"
    }
   ],
   "source": [
    "best_idx=data[\"valuation\"].idxmax()\n",
    "best=data.iloc[best_idx]\n",
    "best_hidden1=best[\"layer1\"]\n",
    "best_hidden2=best[\"layer2\"]\n",
    "best"
   ]
  },
  {
   "cell_type": "code",
   "execution_count": 44,
   "metadata": {
    "ExecuteTime": {
     "end_time": "2019-04-21T11:11:01.447103Z",
     "start_time": "2019-04-21T11:11:01.292037Z"
    }
   },
   "outputs": [
    {
     "name": "stdout",
     "output_type": "stream",
     "text": [
      "_________________________________________________________________\n",
      "Layer (type)                 Output Shape              Param #   \n",
      "=================================================================\n",
      "flatten_37 (Flatten)         (None, 3460)              0         \n",
      "_________________________________________________________________\n",
      "dense_103 (Dense)            (None, 2048)              7088128   \n",
      "_________________________________________________________________\n",
      "dense_104 (Dense)            (None, 1024)              2098176   \n",
      "_________________________________________________________________\n",
      "dropout_33 (Dropout)         (None, 1024)              0         \n",
      "_________________________________________________________________\n",
      "dense_105 (Dense)            (None, 10)                10250     \n",
      "=================================================================\n",
      "Total params: 9,196,554\n",
      "Trainable params: 9,196,554\n",
      "Non-trainable params: 0\n",
      "_________________________________________________________________\n"
     ]
    }
   ],
   "source": [
    "best_model=build_model(best_hidden1,best_hidden2,dropout)\n",
    "best_model.summary()"
   ]
  },
  {
   "cell_type": "code",
   "execution_count": 45,
   "metadata": {
    "ExecuteTime": {
     "end_time": "2019-04-21T11:32:00.775302Z",
     "start_time": "2019-04-21T11:11:01.447103Z"
    }
   },
   "outputs": [
    {
     "name": "stdout",
     "output_type": "stream",
     "text": [
      "2019-04-21 07:11:04,499|\t0: TRAIN loss 13.7627,  acc 0.1396  ||  VAL loss 13.5421, acc 0.1577\n",
      "2019-04-21 07:11:35,884|\t50: TRAIN loss 10.7999,  acc 0.3246  ||  VAL loss 10.6785, acc 0.3344\n",
      "2019-04-21 07:12:07,340|\t100: TRAIN loss 10.1948,  acc 0.3575  ||  VAL loss 9.5765, acc 0.3984\n",
      "2019-04-21 07:12:38,743|\t150: TRAIN loss 7.6083,  acc 0.4986  ||  VAL loss 7.8079, acc 0.4839\n",
      "2019-04-21 07:13:10,286|\t200: TRAIN loss 0.7121,  acc 0.7750  ||  VAL loss 1.1325, acc 0.7125\n",
      "2019-04-21 07:13:41,666|\t250: TRAIN loss 0.4631,  acc 0.8583  ||  VAL loss 0.7865, acc 0.7897\n",
      "2019-04-21 07:14:13,125|\t300: TRAIN loss 0.3786,  acc 0.8936  ||  VAL loss 0.7513, acc 0.8125\n",
      "2019-04-21 07:14:44,508|\t350: TRAIN loss 0.2521,  acc 0.9359  ||  VAL loss 0.8262, acc 0.7891\n",
      "2019-04-21 07:15:15,919|\t400: TRAIN loss 0.1978,  acc 0.9440  ||  VAL loss 1.1926, acc 0.7315\n",
      "2019-04-21 07:15:47,331|\t450: TRAIN loss 0.1668,  acc 0.9538  ||  VAL loss 0.6883, acc 0.8429\n",
      "2019-04-21 07:16:18,834|\t500: TRAIN loss 0.1188,  acc 0.9728  ||  VAL loss 0.6956, acc 0.8442\n",
      "2019-04-21 07:16:50,236|\t550: TRAIN loss 0.0998,  acc 0.9785  ||  VAL loss 1.0240, acc 0.8068\n",
      "2019-04-21 07:17:21,733|\t600: TRAIN loss 0.0995,  acc 0.9788  ||  VAL loss 0.6698, acc 0.8581\n",
      "2019-04-21 07:17:53,158|\t650: TRAIN loss 0.0824,  acc 0.9848  ||  VAL loss 0.7214, acc 0.8537\n",
      "2019-04-21 07:18:24,576|\t700: TRAIN loss 0.0819,  acc 0.9839  ||  VAL loss 0.7238, acc 0.8474\n",
      "2019-04-21 07:18:56,012|\t750: TRAIN loss 0.0779,  acc 0.9850  ||  VAL loss 1.0179, acc 0.8227\n",
      "2019-04-21 07:19:27,360|\t800: TRAIN loss 0.0678,  acc 0.9884  ||  VAL loss 0.9495, acc 0.8239\n",
      "2019-04-21 07:19:58,765|\t850: TRAIN loss 0.0608,  acc 0.9907  ||  VAL loss 0.7447, acc 0.8619\n",
      "2019-04-21 07:20:30,246|\t900: TRAIN loss 0.0589,  acc 0.9908  ||  VAL loss 0.7430, acc 0.8600\n",
      "2019-04-21 07:21:01,767|\t950: TRAIN loss 0.0579,  acc 0.9918  ||  VAL loss 0.7316, acc 0.8588\n",
      "2019-04-21 07:21:33,165|\t1000: TRAIN loss 0.0517,  acc 0.9929  ||  VAL loss 0.7295, acc 0.8632\n",
      "2019-04-21 07:22:04,562|\t1050: TRAIN loss 0.0454,  acc 0.9953  ||  VAL loss 0.7427, acc 0.8613\n",
      "2019-04-21 07:22:36,024|\t1100: TRAIN loss 0.0617,  acc 0.9897  ||  VAL loss 0.7359, acc 0.8531\n",
      "2019-04-21 07:23:07,416|\t1150: TRAIN loss 0.0502,  acc 0.9929  ||  VAL loss 1.0065, acc 0.8328\n",
      "2019-04-21 07:23:38,789|\t1200: TRAIN loss 0.0431,  acc 0.9953  ||  VAL loss 0.7601, acc 0.8638\n",
      "2019-04-21 07:24:10,268|\t1250: TRAIN loss 0.0430,  acc 0.9954  ||  VAL loss 0.8740, acc 0.8569\n",
      "2019-04-21 07:24:41,692|\t1300: TRAIN loss 0.0419,  acc 0.9957  ||  VAL loss 0.7819, acc 0.8594\n",
      "2019-04-21 07:25:13,106|\t1350: TRAIN loss 0.0447,  acc 0.9951  ||  VAL loss 0.8439, acc 0.8550\n",
      "2019-04-21 07:25:44,483|\t1400: TRAIN loss 0.0460,  acc 0.9953  ||  VAL loss 0.7961, acc 0.8657\n",
      "2019-04-21 07:26:15,984|\t1450: TRAIN loss 0.0422,  acc 0.9948  ||  VAL loss 0.8152, acc 0.8619\n",
      "2019-04-21 07:26:47,318|\t1500: TRAIN loss 0.0397,  acc 0.9968  ||  VAL loss 0.8198, acc 0.8651\n",
      "2019-04-21 07:27:18,682|\t1550: TRAIN loss 0.0436,  acc 0.9946  ||  VAL loss 0.8026, acc 0.8607\n",
      "2019-04-21 07:27:50,076|\t1600: TRAIN loss 0.0395,  acc 0.9965  ||  VAL loss 0.7861, acc 0.8664\n",
      "2019-04-21 07:28:21,524|\t1650: TRAIN loss 0.0394,  acc 0.9964  ||  VAL loss 0.7957, acc 0.8632\n",
      "2019-04-21 07:28:52,973|\t1700: TRAIN loss 0.0388,  acc 0.9972  ||  VAL loss 0.8044, acc 0.8695\n",
      "2019-04-21 07:29:24,362|\t1750: TRAIN loss 0.0387,  acc 0.9972  ||  VAL loss 0.8125, acc 0.8683\n",
      "2019-04-21 07:29:55,802|\t1800: TRAIN loss 0.0427,  acc 0.9951  ||  VAL loss 0.8055, acc 0.8607\n",
      "2019-04-21 07:30:27,237|\t1850: TRAIN loss 0.0404,  acc 0.9956  ||  VAL loss 0.7888, acc 0.8676\n",
      "2019-04-21 07:30:58,652|\t1900: TRAIN loss 0.0361,  acc 0.9975  ||  VAL loss 0.8138, acc 0.8657\n",
      "2019-04-21 07:31:30,017|\t1950: TRAIN loss 0.0403,  acc 0.9962  ||  VAL loss 0.8083, acc 0.8581\n"
     ]
    }
   ],
   "source": [
    "best_result=best_model.fit(features,labels,validation_data=(features_test,labels_test),\n",
    "                  epochs=nepochs,batch_size=100,\n",
    "                  verbose=0,callbacks=[LoggingCallback(50,logger)])"
   ]
  },
  {
   "cell_type": "code",
   "execution_count": 46,
   "metadata": {
    "ExecuteTime": {
     "end_time": "2019-04-21T11:32:01.061234Z",
     "start_time": "2019-04-21T11:32:00.775302Z"
    }
   },
   "outputs": [
    {
     "data": {
      "text/plain": [
       "<matplotlib.legend.Legend at 0x1cb3427e588>"
      ]
     },
     "execution_count": 46,
     "metadata": {},
     "output_type": "execute_result"
    },
    {
     "data": {
      "image/png": "[encoded data removed]",
      "text/plain": [
       "<Figure size 864x432 with 2 Axes>"
      ]
     },
     "metadata": {},
     "output_type": "display_data"
    }
   ],
   "source": [
    "history=best_result.history\n",
    "plt.figure(figsize=(12,6))\n",
    "plt.subplot(1, 2, 1)\n",
    "plt.plot(history[\"loss\"],label=\"loss\")\n",
    "plt.plot(history[\"val_loss\"],label=\"valuation loss\")\n",
    "plt.title('Loss')\n",
    "plt.xlabel('epoch')\n",
    "plt.legend()\n",
    "\n",
    "plt.subplot(1, 2, 2)\n",
    "plt.plot(history[\"acc\"],label=\"accuracy\")\n",
    "plt.plot(history[\"val_acc\"],label=\"valuation accuracy\")\n",
    "plt.title('Accuracy')\n",
    "plt.xlabel('epoch')\n",
    "plt.legend()"
   ]
  },
  {
   "cell_type": "code",
   "execution_count": 47,
   "metadata": {
    "ExecuteTime": {
     "end_time": "2019-04-21T11:32:01.656750Z",
     "start_time": "2019-04-21T11:32:01.061234Z"
    }
   },
   "outputs": [
    {
     "data": {
      "text/plain": [
       "0.863204559848005"
      ]
     },
     "execution_count": 47,
     "metadata": {},
     "output_type": "execute_result"
    }
   ],
   "source": [
    "Y_pred=np.argmax(best_model.predict(features_test),axis=1)\n",
    "np.mean(Y_pred==labels_test)"
   ]
  },
  {
   "cell_type": "code",
   "execution_count": null,
   "metadata": {},
   "outputs": [],
   "source": []
  }
 ],
 "metadata": {
  "kernelspec": {
   "display_name": "Python 3",
   "language": "python",
   "name": "python3"
  },
  "language_info": {
   "codemirror_mode": {
    "name": "ipython",
    "version": 3
   },
   "file_extension": ".py",
   "mimetype": "text/x-python",
   "name": "python",
   "nbconvert_exporter": "python",
   "pygments_lexer": "ipython3",
   "version": "3.6.4"
  },
  "toc": {
   "base_numbering": 1,
   "nav_menu": {},
   "number_sections": true,
   "sideBar": true,
   "skip_h1_title": true,
   "title_cell": "Table of Contents",
   "title_sidebar": "Contents",
   "toc_cell": false,
   "toc_position": {},
   "toc_section_display": "block",
   "toc_window_display": true
  }
 },
 "nbformat": 4,
 "nbformat_minor": 2
}
