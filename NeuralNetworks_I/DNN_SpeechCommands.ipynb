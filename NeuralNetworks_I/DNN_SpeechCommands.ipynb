{
 "cells": [
  {
   "cell_type": "markdown",
   "metadata": {},
   "source": [
    "# Dense Neural Network for Text Classification"
   ]
  },
  {
   "cell_type": "markdown",
   "metadata": {},
   "source": [
    "## Preliminaries"
   ]
  },
  {
   "cell_type": "markdown",
   "metadata": {},
   "source": [
    "### Imports"
   ]
  },
  {
   "cell_type": "code",
   "execution_count": 1,
   "metadata": {
    "ExecuteTime": {
     "end_time": "2019-04-08T22:28:03.087383Z",
     "start_time": "2019-04-08T22:28:01.806375Z"
    }
   },
   "outputs": [
    {
     "name": "stderr",
     "output_type": "stream",
     "text": [
      "/home/manel/anaconda3/lib/python3.6/site-packages/h5py/__init__.py:36: FutureWarning: Conversion of the second argument of issubdtype from `float` to `np.floating` is deprecated. In future, it will be treated as `np.float64 == np.dtype(float).type`.\n",
      "  from ._conv import register_converters as _register_converters\n"
     ]
    }
   ],
   "source": [
    "import os\n",
    "import pickle \n",
    "\n",
    "import numpy as np\n",
    "import pandas as pd\n",
    "import matplotlib.pyplot as plt\n",
    "\n",
    "from sklearn.model_selection import train_test_split\n",
    "from sklearn import metrics\n",
    "from sklearn.linear_model import LogisticRegression\n",
    "from sklearn.preprocessing import LabelEncoder\n",
    "\n",
    "import tensorflow as tf4\n",
    "import tensorflow.keras as keras\n",
    "\n",
    "%matplotlib inline\n",
    "\n",
    "import sys\n",
    "sys.path.append(\"../..\")\n",
    "from E4525_ML.multiclass_logistic import LogisticGDClassifier\n",
    "\n",
    "from E4525_ML import plots"
   ]
  },
  {
   "cell_type": "code",
   "execution_count": 2,
   "metadata": {
    "ExecuteTime": {
     "end_time": "2019-04-08T22:28:03.091127Z",
     "start_time": "2019-04-08T22:28:03.088848Z"
    }
   },
   "outputs": [],
   "source": [
    "seed=456\n",
    "np.random.seed(seed)"
   ]
  },
  {
   "cell_type": "markdown",
   "metadata": {},
   "source": [
    "### Data"
   ]
  },
  {
   "cell_type": "code",
   "execution_count": 3,
   "metadata": {
    "ExecuteTime": {
     "end_time": "2019-04-08T22:28:03.100247Z",
     "start_time": "2019-04-08T22:28:03.093908Z"
    }
   },
   "outputs": [],
   "source": [
    "raw_data_dir=\"../..raw/speech_commands\""
   ]
  },
  {
   "cell_type": "code",
   "execution_count": 4,
   "metadata": {
    "ExecuteTime": {
     "end_time": "2019-04-08T22:28:03.108313Z",
     "start_time": "2019-04-08T22:28:03.103473Z"
    }
   },
   "outputs": [],
   "source": [
    "data_dir=r\"../../data/speech_commands\"\n",
    "model_dir=r\"../../data/models/tf/Speech_Commands_Pooling\""
   ]
  },
  {
   "cell_type": "code",
   "execution_count": 5,
   "metadata": {
    "ExecuteTime": {
     "end_time": "2019-04-08T22:28:03.482276Z",
     "start_time": "2019-04-08T22:28:03.110013Z"
    }
   },
   "outputs": [],
   "source": [
    "file=open(data_dir+\"/mfcc.p\",\"rb\")\n",
    "features_all,labels_all=pickle.load(file)"
   ]
  },
  {
   "cell_type": "code",
   "execution_count": 6,
   "metadata": {
    "ExecuteTime": {
     "end_time": "2019-04-08T22:28:03.652137Z",
     "start_time": "2019-04-08T22:28:03.484004Z"
    }
   },
   "outputs": [
    {
     "name": "stdout",
     "output_type": "stream",
     "text": [
      "(58248, 20, 44) 6473\n"
     ]
    }
   ],
   "source": [
    "features,features_test,labels,labels_test=train_test_split(features_all,labels_all,test_size=0.1)\n",
    "print(features.shape,len(features_test))"
   ]
  },
  {
   "cell_type": "code",
   "execution_count": 7,
   "metadata": {
    "ExecuteTime": {
     "end_time": "2019-04-08T22:28:03.813980Z",
     "start_time": "2019-04-08T22:28:03.653747Z"
    }
   },
   "outputs": [
    {
     "name": "stdout",
     "output_type": "stream",
     "text": [
      "(52423, 20, 44) 5825\n"
     ]
    }
   ],
   "source": [
    "features_train,features_val,labels_train,labels_val=train_test_split(features,labels,test_size=0.1)\n",
    "print(features_train.shape,len(features_val))"
   ]
  },
  {
   "cell_type": "code",
   "execution_count": 8,
   "metadata": {
    "ExecuteTime": {
     "end_time": "2019-04-08T22:28:03.827082Z",
     "start_time": "2019-04-08T22:28:03.815574Z"
    }
   },
   "outputs": [
    {
     "name": "stdout",
     "output_type": "stream",
     "text": [
      "['bed' 'bird' 'cat' 'dog' 'down' 'eight' 'five' 'four' 'go' 'happy'\n",
      " 'house' 'left' 'marvin' 'nine' 'no' 'off' 'on' 'one' 'right' 'seven'\n",
      " 'sheila' 'six' 'stop' 'three' 'tree' 'two' 'up' 'wow' 'yes' 'zero']\n",
      "30\n"
     ]
    }
   ],
   "source": [
    "classes=np.unique(labels_train)\n",
    "K=len(classes)\n",
    "print(classes)\n",
    "print(K)"
   ]
  },
  {
   "cell_type": "code",
   "execution_count": 9,
   "metadata": {
    "ExecuteTime": {
     "end_time": "2019-04-08T22:28:03.833644Z",
     "start_time": "2019-04-08T22:28:03.828740Z"
    }
   },
   "outputs": [
    {
     "name": "stdout",
     "output_type": "stream",
     "text": [
      "52423 880 30\n"
     ]
    }
   ],
   "source": [
    "N=features_train.shape[0]\n",
    "D=features_train.shape[1]*features_train.shape[2]\n",
    "print(N,D,K)"
   ]
  },
  {
   "cell_type": "markdown",
   "metadata": {},
   "source": [
    "## Logistic Classifier"
   ]
  },
  {
   "cell_type": "code",
   "execution_count": 10,
   "metadata": {
    "ExecuteTime": {
     "end_time": "2019-04-08T22:30:18.283536Z",
     "start_time": "2019-04-08T22:28:03.835566Z"
    }
   },
   "outputs": [
    {
     "name": "stdout",
     "output_type": "stream",
     "text": [
      "\t 0 Loss = 22168.21468627461 Train_Accuracy 0.024 Evaluation Loss = 22075.970253217318 Accuracy = 0.03\n",
      "\t 30 Loss = 14966.803104461294 Train_Accuracy 0.35 Evaluation Loss = 15818.759588869092 Accuracy = 0.313\n",
      "\t 60 Loss = 15542.449377709805 Train_Accuracy 0.325 Evaluation Loss = 15910.862992588853 Accuracy = 0.309\n",
      "\t 90 Loss = 14943.777253531352 Train_Accuracy 0.351 Evaluation Loss = 15358.242570270282 Accuracy = 0.333\n",
      "\t 120 Loss = 14828.647998881652 Train_Accuracy 0.356 Evaluation Loss = 15680.604483289448 Accuracy = 0.319\n",
      "\t 150 Loss = 15081.932359110997 Train_Accuracy 0.345 Evaluation Loss = 16025.992247238555 Accuracy = 0.304\n",
      "\t 180 Loss = 15151.00991190082 Train_Accuracy 0.342 Evaluation Loss = 15841.78543979903 Accuracy = 0.312\n",
      "\t 210 Loss = 13953.665663543914 Train_Accuracy 0.394 Evaluation Loss = 14621.415340512187 Accuracy = 0.365\n",
      "\t 240 Loss = 14874.699700741532 Train_Accuracy 0.354 Evaluation Loss = 15611.526930499625 Accuracy = 0.322\n",
      "\t 270 Loss = 14598.389489582247 Train_Accuracy 0.366 Evaluation Loss = 14805.622147951712 Accuracy = 0.357\n",
      "\t 299 Loss = 14276.02757656308 Train_Accuracy 0.38 Evaluation Loss = 15404.294272130164 Accuracy = 0.331\n"
     ]
    }
   ],
   "source": [
    "log_model=LogisticGDClassifier(max_iter=300,tol=1e-8)#LogisticRegression(C=1e30,solver=\"newton-cg\",multi_class=\"multinomial\")\n",
    "log_model.fit(features_train.reshape(len(features_train),-1),labels_train,features_val.reshape(len(features_val),-1),labels_val)"
   ]
  },
  {
   "cell_type": "code",
   "execution_count": 11,
   "metadata": {
    "ExecuteTime": {
     "end_time": "2019-04-08T22:30:18.438289Z",
     "start_time": "2019-04-08T22:30:18.284919Z"
    }
   },
   "outputs": [
    {
     "name": "stderr",
     "output_type": "stream",
     "text": [
      "/home/manel/anaconda3/lib/python3.6/site-packages/sklearn/preprocessing/label.py:151: DeprecationWarning: The truth value of an empty array is ambiguous. Returning False, but in future this will result in an error. Use `array.size > 0` to check that an array is not empty.\n",
      "  if diff:\n"
     ]
    },
    {
     "data": {
      "text/plain": [
       "0.3977261888865574"
      ]
     },
     "execution_count": 11,
     "metadata": {},
     "output_type": "execute_result"
    }
   ],
   "source": [
    "Y_pred=log_model.predict(features_train.reshape(len(features_train),-1))\n",
    "np.mean(Y_pred==labels_train)"
   ]
  },
  {
   "cell_type": "code",
   "execution_count": 12,
   "metadata": {
    "ExecuteTime": {
     "end_time": "2019-04-08T22:30:18.461685Z",
     "start_time": "2019-04-08T22:30:18.439594Z"
    }
   },
   "outputs": [
    {
     "name": "stderr",
     "output_type": "stream",
     "text": [
      "/home/manel/anaconda3/lib/python3.6/site-packages/sklearn/preprocessing/label.py:151: DeprecationWarning: The truth value of an empty array is ambiguous. Returning False, but in future this will result in an error. Use `array.size > 0` to check that an array is not empty.\n",
      "  if diff:\n"
     ]
    },
    {
     "data": {
      "text/plain": [
       "0.3484978540772532"
      ]
     },
     "execution_count": 12,
     "metadata": {},
     "output_type": "execute_result"
    }
   ],
   "source": [
    "Y_pred=log_model.predict(features_val.reshape(len(features_val),-1))\n",
    "np.mean(Y_pred==labels_val)"
   ]
  },
  {
   "cell_type": "markdown",
   "metadata": {
    "ExecuteTime": {
     "end_time": "2019-04-07T15:20:54.353163Z",
     "start_time": "2019-04-07T15:20:54.337542Z"
    }
   },
   "source": [
    "## Training Dense Neural Network on Speech Sound Features Data Set"
   ]
  },
  {
   "cell_type": "code",
   "execution_count": 13,
   "metadata": {
    "ExecuteTime": {
     "end_time": "2019-04-08T22:30:18.468280Z",
     "start_time": "2019-04-08T22:30:18.463990Z"
    }
   },
   "outputs": [
    {
     "data": {
      "text/plain": [
       "30"
      ]
     },
     "execution_count": 13,
     "metadata": {},
     "output_type": "execute_result"
    }
   ],
   "source": [
    "num_classes=K\n",
    "num_classes"
   ]
  },
  {
   "cell_type": "code",
   "execution_count": 14,
   "metadata": {
    "ExecuteTime": {
     "end_time": "2019-04-08T22:30:18.516950Z",
     "start_time": "2019-04-08T22:30:18.470799Z"
    }
   },
   "outputs": [],
   "source": [
    "encoder=LabelEncoder()\n",
    "Y_train=encoder.fit_transform(labels_train)\n",
    "Y_val=encoder.transform(labels_val)\n",
    "Y_test=encoder.transform(labels_test)\n",
    "Y=encoder.transform(labels)"
   ]
  },
  {
   "cell_type": "code",
   "execution_count": 15,
   "metadata": {
    "ExecuteTime": {
     "end_time": "2019-04-08T22:30:18.567656Z",
     "start_time": "2019-04-08T22:30:18.519344Z"
    }
   },
   "outputs": [],
   "source": [
    "class ReportCallback(keras.callbacks.Callback):\n",
    "    def __init__(self,frequency,log_file,use_val=True):\n",
    "        self.file=log_file\n",
    "        self.freq=frequency\n",
    "        self.use_val=use_val\n",
    "        self.separator=\" || \"\n",
    "        if not(self.use_val):\n",
    "            self.separator=\"\\n\"\n",
    "    def on_epoch_end(self, epoch, logs={}):\n",
    "        if (epoch % self.freq ==0):\n",
    "            train_loss=logs[\"loss\"]\n",
    "            train_acc=logs[\"acc\"]\n",
    "            print(f\"\\t{epoch}: TRAIN loss {train_loss:.4f},  acc {train_acc:.4f}\",end=self.separator)\n",
    "            print(f\"\\t{epoch}: TRAIN loss {train_loss:.4f},  acc {train_acc:.4f}\",end=self.separator,file=self.file)\n",
    "            if self.use_val:\n",
    "                val_loss=logs[\"val_loss\"]\n",
    "                val_acc=logs[\"val_acc\"]\n",
    "                print(f\"VAL loss {val_loss:.4f}, acc {val_acc:.4f}\")\n",
    "                print(f\"VAL loss {val_loss:.4f}, acc {val_acc:.4f}\",file=self.file)\n",
    "            self.file.flush()"
   ]
  },
  {
   "cell_type": "code",
   "execution_count": 16,
   "metadata": {
    "ExecuteTime": {
     "end_time": "2019-04-08T22:30:18.581291Z",
     "start_time": "2019-04-08T22:30:18.570639Z"
    }
   },
   "outputs": [],
   "source": [
    "def build_model(hidden1,hidden2):\n",
    "    model=keras.Sequential([\n",
    "        keras.layers.Flatten(input_shape=(20,44)),\n",
    "        keras.layers.Dense(hidden1,activation=\"relu\"),\n",
    "        keras.layers.Dense(hidden2,activation=\"relu\"),\n",
    "        keras.layers.Dropout(0.4),\n",
    "        keras.layers.Dense(num_classes,activation=\"softmax\")\n",
    "    ])\n",
    "    optimizer=keras.optimizers.Adam(lr=0.00005)\n",
    "    #optimizer=keras.optimizers.SGD(lr=0.001) # for some reason Adam's does not converge for this dataset, but plain SGD does\n",
    "    model.compile(optimizer=optimizer,loss=\"sparse_categorical_crossentropy\",metrics=[\"accuracy\"])\n",
    "    return model"
   ]
  },
  {
   "cell_type": "code",
   "execution_count": 17,
   "metadata": {
    "ExecuteTime": {
     "end_time": "2019-04-08T22:30:18.590423Z",
     "start_time": "2019-04-08T22:30:18.583854Z"
    }
   },
   "outputs": [],
   "source": [
    "log_file=open(\"progress.log\",\"wt\")"
   ]
  },
  {
   "cell_type": "code",
   "execution_count": 18,
   "metadata": {
    "ExecuteTime": {
     "end_time": "2019-04-08T22:30:18.852493Z",
     "start_time": "2019-04-08T22:30:18.592706Z"
    },
    "scrolled": true
   },
   "outputs": [
    {
     "name": "stdout",
     "output_type": "stream",
     "text": [
      "_________________________________________________________________\n",
      "Layer (type)                 Output Shape              Param #   \n",
      "=================================================================\n",
      "flatten (Flatten)            (None, 880)               0         \n",
      "_________________________________________________________________\n",
      "dense (Dense)                (None, 512)               451072    \n",
      "_________________________________________________________________\n",
      "dense_1 (Dense)              (None, 512)               262656    \n",
      "_________________________________________________________________\n",
      "dropout (Dropout)            (None, 512)               0         \n",
      "_________________________________________________________________\n",
      "dense_2 (Dense)              (None, 30)                15390     \n",
      "=================================================================\n",
      "Total params: 729,118\n",
      "Trainable params: 729,118\n",
      "Non-trainable params: 0\n",
      "_________________________________________________________________\n"
     ]
    }
   ],
   "source": [
    "model0=build_model(512,512)\n",
    "model0.summary()"
   ]
  },
  {
   "cell_type": "code",
   "execution_count": 19,
   "metadata": {
    "ExecuteTime": {
     "end_time": "2019-04-08T22:30:18.860422Z",
     "start_time": "2019-04-08T22:30:18.854664Z"
    }
   },
   "outputs": [],
   "source": [
    "nepochs=200"
   ]
  },
  {
   "cell_type": "code",
   "execution_count": 20,
   "metadata": {
    "ExecuteTime": {
     "end_time": "2019-04-08T22:52:58.702903Z",
     "start_time": "2019-04-08T22:30:18.861720Z"
    }
   },
   "outputs": [
    {
     "name": "stdout",
     "output_type": "stream",
     "text": [
      "\t0: TRAIN loss 15.3093,  acc 0.0475 || VAL loss 15.0726, acc 0.0625\n",
      "\t10: TRAIN loss 2.8110,  acc 0.2155 || VAL loss 2.4967, acc 0.2968\n",
      "\t20: TRAIN loss 1.5720,  acc 0.5190 || VAL loss 1.2792, acc 0.6324\n",
      "\t30: TRAIN loss 1.1118,  acc 0.6527 || VAL loss 0.9535, acc 0.7248\n",
      "\t40: TRAIN loss 0.8332,  acc 0.7335 || VAL loss 0.8019, acc 0.7701\n",
      "\t50: TRAIN loss 0.6577,  acc 0.7882 || VAL loss 0.7335, acc 0.7991\n",
      "\t60: TRAIN loss 0.5286,  acc 0.8248 || VAL loss 0.7068, acc 0.8065\n",
      "\t70: TRAIN loss 0.4325,  acc 0.8570 || VAL loss 0.6739, acc 0.8218\n",
      "\t80: TRAIN loss 0.3664,  acc 0.8770 || VAL loss 0.6572, acc 0.8266\n",
      "\t90: TRAIN loss 0.3059,  acc 0.8976 || VAL loss 0.6625, acc 0.8326\n",
      "\t100: TRAIN loss 0.2642,  acc 0.9108 || VAL loss 0.6755, acc 0.8361\n",
      "\t110: TRAIN loss 0.2281,  acc 0.9234 || VAL loss 0.7039, acc 0.8378\n",
      "\t120: TRAIN loss 0.2032,  acc 0.9313 || VAL loss 0.6950, acc 0.8462\n",
      "\t130: TRAIN loss 0.1789,  acc 0.9399 || VAL loss 0.7339, acc 0.8443\n",
      "\t140: TRAIN loss 0.1599,  acc 0.9466 || VAL loss 0.7316, acc 0.8443\n",
      "\t150: TRAIN loss 0.1476,  acc 0.9511 || VAL loss 0.7400, acc 0.8482\n",
      "\t160: TRAIN loss 0.1322,  acc 0.9545 || VAL loss 0.7719, acc 0.8462\n",
      "\t170: TRAIN loss 0.1181,  acc 0.9605 || VAL loss 0.7745, acc 0.8518\n",
      "\t180: TRAIN loss 0.1118,  acc 0.9626 || VAL loss 0.7909, acc 0.8524\n",
      "\t190: TRAIN loss 0.1036,  acc 0.9653 || VAL loss 0.8136, acc 0.8544\n"
     ]
    }
   ],
   "source": [
    "result=model0.fit(features_train,Y_train,validation_data=(features_val,Y_val),\n",
    "                  epochs=nepochs,batch_size=100,\n",
    "                  verbose=0,callbacks=[ReportCallback(10,log_file)])"
   ]
  },
  {
   "cell_type": "code",
   "execution_count": 21,
   "metadata": {
    "ExecuteTime": {
     "end_time": "2019-04-08T22:52:59.081504Z",
     "start_time": "2019-04-08T22:52:58.704234Z"
    }
   },
   "outputs": [
    {
     "data": {
      "text/plain": [
       "<matplotlib.legend.Legend at 0x7ff0967bc748>"
      ]
     },
     "execution_count": 21,
     "metadata": {},
     "output_type": "execute_result"
    },
    {
     "data": {
      "image/png": "[encoded data removed]",
      "text/plain": [
       "<matplotlib.figure.Figure at 0x7ff0b06a90b8>"
      ]
     },
     "metadata": {},
     "output_type": "display_data"
    }
   ],
   "source": [
    "history=result.history\n",
    "plt.figure(figsize=(12,6))\n",
    "plt.subplot(1, 2, 1)\n",
    "plt.plot(history[\"loss\"],label=\"loss\")\n",
    "plt.plot(history[\"val_loss\"],label=\"valuation loss\")\n",
    "plt.title('Loss')\n",
    "plt.xlabel('epoch')\n",
    "plt.legend()\n",
    "\n",
    "plt.subplot(1, 2, 2)\n",
    "plt.plot(history[\"acc\"],label=\"accuracy\")\n",
    "plt.plot(history[\"val_acc\"],label=\"valuation accuracy\")\n",
    "plt.title('Accuracy')\n",
    "plt.xlabel('epoch')\n",
    "plt.legend()"
   ]
  },
  {
   "cell_type": "code",
   "execution_count": 22,
   "metadata": {
    "ExecuteTime": {
     "end_time": "2019-04-08T22:52:59.475384Z",
     "start_time": "2019-04-08T22:52:59.083765Z"
    }
   },
   "outputs": [
    {
     "data": {
      "text/plain": [
       "0.8535622317596566"
      ]
     },
     "execution_count": 22,
     "metadata": {},
     "output_type": "execute_result"
    }
   ],
   "source": [
    "Y_pred=np.argmax(model0.predict(features_val),axis=1)\n",
    "np.mean(Y_pred==Y_val)"
   ]
  },
  {
   "cell_type": "markdown",
   "metadata": {
    "ExecuteTime": {
     "end_time": "2017-12-29T09:41:15.129928Z",
     "start_time": "2017-12-29T09:41:15.114296Z"
    }
   },
   "source": [
    "##  Neural Network Model"
   ]
  },
  {
   "cell_type": "code",
   "execution_count": 24,
   "metadata": {
    "ExecuteTime": {
     "end_time": "2019-04-10T03:10:05.235508Z",
     "start_time": "2019-04-08T22:58:06.107257Z"
    }
   },
   "outputs": [
    {
     "name": "stdout",
     "output_type": "stream",
     "text": [
      "\t0: TRAIN loss 15.3738,  acc 0.0386 || VAL loss 15.0007, acc 0.0597\n",
      "\t10: TRAIN loss 3.3565,  acc 0.0590 || VAL loss 3.3428, acc 0.0736\n",
      "\t20: TRAIN loss 3.0250,  acc 0.1531 || VAL loss 2.8553, acc 0.2177\n",
      "\t30: TRAIN loss 2.5293,  acc 0.2515 || VAL loss 2.2121, acc 0.3478\n",
      "\t40: TRAIN loss 2.2050,  acc 0.3229 || VAL loss 1.8558, acc 0.4630\n",
      "\t50: TRAIN loss 1.9707,  acc 0.3813 || VAL loss 1.6136, acc 0.5288\n",
      "\t60: TRAIN loss 1.7750,  acc 0.4370 || VAL loss 1.4384, acc 0.5825\n",
      "\t70: TRAIN loss 1.6170,  acc 0.4810 || VAL loss 1.2779, acc 0.6225\n",
      "\t80: TRAIN loss 1.4845,  acc 0.5250 || VAL loss 1.1862, acc 0.6558\n",
      "\t90: TRAIN loss 1.3674,  acc 0.5567 || VAL loss 1.1403, acc 0.6678\n",
      "\t100: TRAIN loss 1.2833,  acc 0.5822 || VAL loss 1.0914, acc 0.6826\n",
      "\t110: TRAIN loss 1.1984,  acc 0.6093 || VAL loss 1.0332, acc 0.6948\n",
      "\t120: TRAIN loss 1.1358,  acc 0.6300 || VAL loss 1.0028, acc 0.7088\n",
      "\t130: TRAIN loss 1.0766,  acc 0.6476 || VAL loss 0.9783, acc 0.7161\n",
      "\t140: TRAIN loss 1.0327,  acc 0.6586 || VAL loss 0.9715, acc 0.7267\n",
      "\t150: TRAIN loss 0.9857,  acc 0.6741 || VAL loss 0.9578, acc 0.7288\n",
      "\t160: TRAIN loss 0.9450,  acc 0.6866 || VAL loss 0.9407, acc 0.7387\n",
      "\t170: TRAIN loss 0.9049,  acc 0.6988 || VAL loss 0.9149, acc 0.7430\n",
      "\t180: TRAIN loss 0.8775,  acc 0.7076 || VAL loss 0.9167, acc 0.7444\n",
      "\t190: TRAIN loss 0.8432,  acc 0.7177 || VAL loss 0.9175, acc 0.7480\n",
      "128 128 0.8581347881654999 0.7490128755364807\n",
      "\t0: TRAIN loss 15.3911,  acc 0.0377 || VAL loss 15.3714, acc 0.0415\n",
      "\t10: TRAIN loss 3.3125,  acc 0.0771 || VAL loss 3.2555, acc 0.0946\n",
      "\t20: TRAIN loss 2.9599,  acc 0.1841 || VAL loss 2.8869, acc 0.1971\n",
      "\t30: TRAIN loss 2.3501,  acc 0.3364 || VAL loss 2.2329, acc 0.3679\n",
      "\t40: TRAIN loss 1.6992,  acc 0.4984 || VAL loss 1.6356, acc 0.5264\n",
      "\t50: TRAIN loss 1.3073,  acc 0.6076 || VAL loss 1.3108, acc 0.6228\n",
      "\t60: TRAIN loss 1.0776,  acc 0.6743 || VAL loss 1.1327, acc 0.6754\n",
      "\t70: TRAIN loss 0.9252,  acc 0.7187 || VAL loss 1.0181, acc 0.7039\n",
      "\t80: TRAIN loss 0.8202,  acc 0.7472 || VAL loss 0.9584, acc 0.7300\n",
      "\t90: TRAIN loss 0.7421,  acc 0.7690 || VAL loss 0.8979, acc 0.7482\n",
      "\t100: TRAIN loss 0.6764,  acc 0.7895 || VAL loss 0.8850, acc 0.7536\n",
      "\t110: TRAIN loss 0.6227,  acc 0.8031 || VAL loss 0.8657, acc 0.7612\n",
      "\t120: TRAIN loss 0.5836,  acc 0.8146 || VAL loss 0.8658, acc 0.7681\n",
      "\t130: TRAIN loss 0.5451,  acc 0.8252 || VAL loss 0.8486, acc 0.7691\n",
      "\t140: TRAIN loss 0.5130,  acc 0.8340 || VAL loss 0.8399, acc 0.7732\n",
      "\t150: TRAIN loss 0.4843,  acc 0.8438 || VAL loss 0.8360, acc 0.7772\n",
      "\t160: TRAIN loss 0.4629,  acc 0.8490 || VAL loss 0.8421, acc 0.7775\n",
      "\t170: TRAIN loss 0.4373,  acc 0.8566 || VAL loss 0.8430, acc 0.7833\n",
      "\t180: TRAIN loss 0.4191,  acc 0.8618 || VAL loss 0.8649, acc 0.7820\n",
      "\t190: TRAIN loss 0.4060,  acc 0.8660 || VAL loss 0.8623, acc 0.7833\n",
      "128 256 0.9248803006314023 0.7819742489270386\n",
      "\t0: TRAIN loss 15.2534,  acc 0.0404 || VAL loss 14.7627, acc 0.0644\n",
      "\t10: TRAIN loss 3.1513,  acc 0.1241 || VAL loss 3.0676, acc 0.1380\n",
      "\t20: TRAIN loss 2.4418,  acc 0.3019 || VAL loss 2.3118, acc 0.3262\n",
      "\t30: TRAIN loss 1.6192,  acc 0.5188 || VAL loss 1.5141, acc 0.5521\n",
      "\t40: TRAIN loss 1.1086,  acc 0.6656 || VAL loss 1.1080, acc 0.6769\n",
      "\t50: TRAIN loss 0.8501,  acc 0.7398 || VAL loss 0.9201, acc 0.7305\n",
      "\t60: TRAIN loss 0.6899,  acc 0.7856 || VAL loss 0.8350, acc 0.7566\n",
      "\t70: TRAIN loss 0.5884,  acc 0.8142 || VAL loss 0.7772, acc 0.7744\n",
      "\t80: TRAIN loss 0.5090,  acc 0.8382 || VAL loss 0.7554, acc 0.7832\n",
      "\t90: TRAIN loss 0.4526,  acc 0.8566 || VAL loss 0.7359, acc 0.7902\n",
      "\t100: TRAIN loss 0.4057,  acc 0.8689 || VAL loss 0.7409, acc 0.7948\n",
      "\t110: TRAIN loss 0.3646,  acc 0.8805 || VAL loss 0.7535, acc 0.7981\n",
      "\t120: TRAIN loss 0.3327,  acc 0.8915 || VAL loss 0.7599, acc 0.8033\n",
      "\t130: TRAIN loss 0.3045,  acc 0.8995 || VAL loss 0.7727, acc 0.8060\n",
      "\t140: TRAIN loss 0.2871,  acc 0.9067 || VAL loss 0.7829, acc 0.8082\n",
      "\t150: TRAIN loss 0.2619,  acc 0.9139 || VAL loss 0.7817, acc 0.8118\n",
      "\t160: TRAIN loss 0.2484,  acc 0.9164 || VAL loss 0.8161, acc 0.8110\n",
      "\t170: TRAIN loss 0.2285,  acc 0.9244 || VAL loss 0.8268, acc 0.8130\n",
      "\t180: TRAIN loss 0.2155,  acc 0.9272 || VAL loss 0.8338, acc 0.8098\n",
      "\t190: TRAIN loss 0.2060,  acc 0.9311 || VAL loss 0.8574, acc 0.8105\n",
      "128 512 0.9752017244339317 0.8130472103004291\n",
      "\t0: TRAIN loss 15.0843,  acc 0.0467 || VAL loss 13.9456, acc 0.0948\n",
      "\t10: TRAIN loss 2.5958,  acc 0.2758 || VAL loss 2.3812, acc 0.3169\n",
      "\t20: TRAIN loss 1.4911,  acc 0.5611 || VAL loss 1.4017, acc 0.5959\n",
      "\t30: TRAIN loss 0.9299,  acc 0.7194 || VAL loss 1.0215, acc 0.7059\n",
      "\t40: TRAIN loss 0.6611,  acc 0.7965 || VAL loss 0.8533, acc 0.7629\n",
      "\t50: TRAIN loss 0.5034,  acc 0.8426 || VAL loss 0.7869, acc 0.7808\n",
      "\t60: TRAIN loss 0.3957,  acc 0.8735 || VAL loss 0.7398, acc 0.7983\n",
      "\t70: TRAIN loss 0.3191,  acc 0.8975 || VAL loss 0.7278, acc 0.8089\n",
      "\t80: TRAIN loss 0.2644,  acc 0.9144 || VAL loss 0.7199, acc 0.8163\n",
      "\t90: TRAIN loss 0.2268,  acc 0.9273 || VAL loss 0.7151, acc 0.8221\n",
      "\t100: TRAIN loss 0.1930,  acc 0.9359 || VAL loss 0.7367, acc 0.8258\n",
      "\t110: TRAIN loss 0.1647,  acc 0.9460 || VAL loss 0.7502, acc 0.8276\n",
      "\t120: TRAIN loss 0.1472,  acc 0.9524 || VAL loss 0.7871, acc 0.8235\n",
      "\t130: TRAIN loss 0.1298,  acc 0.9580 || VAL loss 0.7826, acc 0.8340\n",
      "\t140: TRAIN loss 0.1160,  acc 0.9627 || VAL loss 0.7976, acc 0.8294\n",
      "\t150: TRAIN loss 0.1061,  acc 0.9655 || VAL loss 0.8096, acc 0.8311\n",
      "\t160: TRAIN loss 0.0976,  acc 0.9685 || VAL loss 0.8360, acc 0.8323\n",
      "\t170: TRAIN loss 0.0908,  acc 0.9709 || VAL loss 0.8512, acc 0.8316\n",
      "\t180: TRAIN loss 0.0834,  acc 0.9737 || VAL loss 0.8744, acc 0.8333\n",
      "\t190: TRAIN loss 0.0759,  acc 0.9768 || VAL loss 0.8787, acc 0.8340\n",
      "128 1024 0.9937241287221258 0.8351931330472103\n",
      "\t0: TRAIN loss 14.7771,  acc 0.0597 || VAL loss 13.5247, acc 0.1061\n",
      "\t10: TRAIN loss 1.8196,  acc 0.4759 || VAL loss 1.5920, acc 0.5408\n",
      "\t20: TRAIN loss 0.8283,  acc 0.7484 || VAL loss 0.9141, acc 0.7367\n",
      "\t30: TRAIN loss 0.4837,  acc 0.8493 || VAL loss 0.7539, acc 0.7902\n",
      "\t40: TRAIN loss 0.3148,  acc 0.9018 || VAL loss 0.6897, acc 0.8173\n",
      "\t50: TRAIN loss 0.2226,  acc 0.9292 || VAL loss 0.6857, acc 0.8278\n",
      "\t60: TRAIN loss 0.1628,  acc 0.9492 || VAL loss 0.7143, acc 0.8294\n",
      "\t70: TRAIN loss 0.1223,  acc 0.9627 || VAL loss 0.7332, acc 0.8385\n",
      "\t80: TRAIN loss 0.0962,  acc 0.9707 || VAL loss 0.7528, acc 0.8385\n",
      "\t90: TRAIN loss 0.0789,  acc 0.9765 || VAL loss 0.7775, acc 0.8412\n",
      "\t100: TRAIN loss 0.0661,  acc 0.9805 || VAL loss 0.8102, acc 0.8457\n",
      "\t110: TRAIN loss 0.0543,  acc 0.9842 || VAL loss 0.8316, acc 0.8446\n",
      "\t120: TRAIN loss 0.0472,  acc 0.9865 || VAL loss 0.8548, acc 0.8462\n",
      "\t130: TRAIN loss 0.0438,  acc 0.9873 || VAL loss 0.8824, acc 0.8436\n",
      "\t140: TRAIN loss 0.0394,  acc 0.9882 || VAL loss 0.9016, acc 0.8455\n",
      "\t150: TRAIN loss 0.0358,  acc 0.9898 || VAL loss 0.9140, acc 0.8491\n",
      "\t160: TRAIN loss 0.0324,  acc 0.9906 || VAL loss 0.9543, acc 0.8448\n",
      "\t170: TRAIN loss 0.0290,  acc 0.9914 || VAL loss 0.9692, acc 0.8464\n",
      "\t180: TRAIN loss 0.0271,  acc 0.9921 || VAL loss 0.9691, acc 0.8520\n",
      "\t190: TRAIN loss 0.0249,  acc 0.9929 || VAL loss 0.9825, acc 0.8536\n",
      "128 2048 0.9989126909944108 0.8460085836909871\n",
      "\t0: TRAIN loss 15.4095,  acc 0.0377 || VAL loss 14.9755, acc 0.0623\n",
      "\t10: TRAIN loss 3.2396,  acc 0.0920 || VAL loss 3.1805, acc 0.1185\n",
      "\t20: TRAIN loss 2.8550,  acc 0.1771 || VAL loss 2.6345, acc 0.2525\n",
      "\t30: TRAIN loss 2.4761,  acc 0.2535 || VAL loss 2.1598, acc 0.3712\n",
      "\t40: TRAIN loss 2.1975,  acc 0.3277 || VAL loss 1.8789, acc 0.4742\n",
      "\t50: TRAIN loss 1.9657,  acc 0.3817 || VAL loss 1.6029, acc 0.5406\n",
      "\t60: TRAIN loss 1.7709,  acc 0.4315 || VAL loss 1.3704, acc 0.6017\n",
      "\t70: TRAIN loss 1.6242,  acc 0.4743 || VAL loss 1.2583, acc 0.6318\n",
      "\t80: TRAIN loss 1.4894,  acc 0.5114 || VAL loss 1.1606, acc 0.6611\n",
      "\t90: TRAIN loss 1.3823,  acc 0.5456 || VAL loss 1.1015, acc 0.6809\n",
      "\t100: TRAIN loss 1.2746,  acc 0.5794 || VAL loss 1.0472, acc 0.6984\n",
      "\t110: TRAIN loss 1.1820,  acc 0.6069 || VAL loss 1.0007, acc 0.7135\n",
      "\t120: TRAIN loss 1.0965,  acc 0.6345 || VAL loss 0.9671, acc 0.7303\n",
      "\t130: TRAIN loss 1.0282,  acc 0.6556 || VAL loss 0.9270, acc 0.7391\n",
      "\t140: TRAIN loss 0.9648,  acc 0.6734 || VAL loss 0.9400, acc 0.7370\n",
      "\t150: TRAIN loss 0.9116,  acc 0.6928 || VAL loss 0.9075, acc 0.7494\n",
      "\t160: TRAIN loss 0.8651,  acc 0.7049 || VAL loss 0.9146, acc 0.7487\n",
      "\t170: TRAIN loss 0.8181,  acc 0.7203 || VAL loss 0.8819, acc 0.7612\n"
     ]
    },
    {
     "name": "stdout",
     "output_type": "stream",
     "text": [
      "\t180: TRAIN loss 0.7807,  acc 0.7339 || VAL loss 0.8911, acc 0.7655\n",
      "\t190: TRAIN loss 0.7459,  acc 0.7427 || VAL loss 0.8896, acc 0.7681\n",
      "256 128 0.9010548804913874 0.7706437768240343\n",
      "\t0: TRAIN loss 15.4246,  acc 0.0378 || VAL loss 15.1532, acc 0.0493\n",
      "\t10: TRAIN loss 3.2606,  acc 0.1049 || VAL loss 3.1342, acc 0.1514\n",
      "\t20: TRAIN loss 2.4493,  acc 0.2833 || VAL loss 2.0683, acc 0.4070\n",
      "\t30: TRAIN loss 1.8639,  acc 0.4236 || VAL loss 1.5003, acc 0.5641\n",
      "\t40: TRAIN loss 1.5259,  acc 0.5181 || VAL loss 1.1942, acc 0.6493\n",
      "\t50: TRAIN loss 1.2961,  acc 0.5858 || VAL loss 1.0341, acc 0.6946\n",
      "\t60: TRAIN loss 1.1320,  acc 0.6352 || VAL loss 0.9687, acc 0.7174\n",
      "\t70: TRAIN loss 1.0141,  acc 0.6704 || VAL loss 0.9037, acc 0.7360\n",
      "\t80: TRAIN loss 0.9042,  acc 0.7024 || VAL loss 0.8488, acc 0.7557\n",
      "\t90: TRAIN loss 0.8199,  acc 0.7286 || VAL loss 0.8320, acc 0.7639\n",
      "\t100: TRAIN loss 0.7500,  acc 0.7501 || VAL loss 0.8073, acc 0.7681\n",
      "\t110: TRAIN loss 0.6848,  acc 0.7712 || VAL loss 0.7974, acc 0.7847\n",
      "\t120: TRAIN loss 0.6267,  acc 0.7892 || VAL loss 0.7927, acc 0.7830\n",
      "\t130: TRAIN loss 0.5813,  acc 0.8039 || VAL loss 0.7830, acc 0.7902\n",
      "\t140: TRAIN loss 0.5388,  acc 0.8161 || VAL loss 0.8008, acc 0.7918\n",
      "\t150: TRAIN loss 0.5023,  acc 0.8273 || VAL loss 0.7877, acc 0.7995\n",
      "\t160: TRAIN loss 0.4691,  acc 0.8393 || VAL loss 0.7931, acc 0.8015\n",
      "\t170: TRAIN loss 0.4365,  acc 0.8498 || VAL loss 0.8047, acc 0.8022\n",
      "\t180: TRAIN loss 0.4145,  acc 0.8574 || VAL loss 0.8375, acc 0.8009\n",
      "\t190: TRAIN loss 0.3919,  acc 0.8649 || VAL loss 0.8369, acc 0.8017\n",
      "256 256 0.9579955363103981 0.8044635193133047\n",
      "\t0: TRAIN loss 15.2877,  acc 0.0485 || VAL loss 15.1161, acc 0.0611\n",
      "\t10: TRAIN loss 3.0800,  acc 0.1763 || VAL loss 2.8706, acc 0.2220\n",
      "\t20: TRAIN loss 1.8156,  acc 0.4846 || VAL loss 1.6959, acc 0.5195\n",
      "\t30: TRAIN loss 1.0620,  acc 0.6841 || VAL loss 1.0993, acc 0.6879\n",
      "\t40: TRAIN loss 0.7358,  acc 0.7749 || VAL loss 0.8979, acc 0.7392\n",
      "\t50: TRAIN loss 0.5566,  acc 0.8255 || VAL loss 0.8177, acc 0.7708\n",
      "\t60: TRAIN loss 0.4326,  acc 0.8637 || VAL loss 0.7783, acc 0.7899\n",
      "\t70: TRAIN loss 0.3570,  acc 0.8858 || VAL loss 0.7564, acc 0.8038\n",
      "\t80: TRAIN loss 0.2916,  acc 0.9070 || VAL loss 0.7879, acc 0.8029\n",
      "\t90: TRAIN loss 0.2463,  acc 0.9214 || VAL loss 0.8141, acc 0.8036\n",
      "\t100: TRAIN loss 0.2115,  acc 0.9319 || VAL loss 0.8254, acc 0.8057\n",
      "\t110: TRAIN loss 0.1822,  acc 0.9410 || VAL loss 0.8507, acc 0.8136\n",
      "\t120: TRAIN loss 0.1576,  acc 0.9487 || VAL loss 0.8860, acc 0.8153\n",
      "\t130: TRAIN loss 0.1400,  acc 0.9552 || VAL loss 0.9203, acc 0.8146\n",
      "\t140: TRAIN loss 0.1244,  acc 0.9597 || VAL loss 0.9460, acc 0.8096\n",
      "\t150: TRAIN loss 0.1141,  acc 0.9635 || VAL loss 0.9582, acc 0.8146\n",
      "\t160: TRAIN loss 0.1066,  acc 0.9657 || VAL loss 0.9953, acc 0.8158\n",
      "\t170: TRAIN loss 0.0946,  acc 0.9697 || VAL loss 1.0105, acc 0.8173\n",
      "\t180: TRAIN loss 0.0847,  acc 0.9731 || VAL loss 1.0440, acc 0.8163\n",
      "\t190: TRAIN loss 0.0831,  acc 0.9735 || VAL loss 1.0541, acc 0.8167\n",
      "256 512 0.9904431261087691 0.8192274678111588\n",
      "\t0: TRAIN loss 15.1828,  acc 0.0485 || VAL loss 14.8058, acc 0.0716\n",
      "\t10: TRAIN loss 2.2287,  acc 0.3801 || VAL loss 1.9429, acc 0.4498\n",
      "\t20: TRAIN loss 1.0577,  acc 0.6846 || VAL loss 1.0640, acc 0.6987\n",
      "\t30: TRAIN loss 0.6210,  acc 0.8081 || VAL loss 0.8287, acc 0.7698\n",
      "\t40: TRAIN loss 0.4124,  acc 0.8686 || VAL loss 0.7658, acc 0.7976\n",
      "\t50: TRAIN loss 0.2943,  acc 0.9059 || VAL loss 0.7485, acc 0.8070\n",
      "\t60: TRAIN loss 0.2186,  acc 0.9297 || VAL loss 0.7479, acc 0.8153\n",
      "\t70: TRAIN loss 0.1656,  acc 0.9484 || VAL loss 0.7712, acc 0.8237\n",
      "\t80: TRAIN loss 0.1347,  acc 0.9575 || VAL loss 0.8022, acc 0.8290\n",
      "\t90: TRAIN loss 0.1076,  acc 0.9667 || VAL loss 0.8160, acc 0.8311\n",
      "\t100: TRAIN loss 0.0926,  acc 0.9707 || VAL loss 0.8593, acc 0.8321\n",
      "\t110: TRAIN loss 0.0768,  acc 0.9767 || VAL loss 0.8719, acc 0.8359\n",
      "\t120: TRAIN loss 0.0697,  acc 0.9784 || VAL loss 0.9112, acc 0.8362\n",
      "\t130: TRAIN loss 0.0620,  acc 0.9807 || VAL loss 0.9321, acc 0.8373\n",
      "\t140: TRAIN loss 0.0546,  acc 0.9835 || VAL loss 0.9348, acc 0.8414\n",
      "\t150: TRAIN loss 0.0538,  acc 0.9830 || VAL loss 0.9629, acc 0.8381\n",
      "\t160: TRAIN loss 0.0441,  acc 0.9870 || VAL loss 0.9752, acc 0.8415\n",
      "\t170: TRAIN loss 0.0418,  acc 0.9871 || VAL loss 1.0061, acc 0.8412\n",
      "\t180: TRAIN loss 0.0406,  acc 0.9875 || VAL loss 1.0062, acc 0.8467\n",
      "\t190: TRAIN loss 0.0384,  acc 0.9880 || VAL loss 1.0335, acc 0.8464\n",
      "256 1024 0.9959178223298933 0.8453218884120172\n",
      "\t0: TRAIN loss 14.9836,  acc 0.0592 || VAL loss 14.2682, acc 0.1025\n",
      "\t10: TRAIN loss 1.4519,  acc 0.5896 || VAL loss 1.3184, acc 0.6379\n",
      "\t20: TRAIN loss 0.5988,  acc 0.8153 || VAL loss 0.7963, acc 0.7811\n",
      "\t30: TRAIN loss 0.3157,  acc 0.9013 || VAL loss 0.7179, acc 0.8151\n",
      "\t40: TRAIN loss 0.1856,  acc 0.9421 || VAL loss 0.7231, acc 0.8258\n",
      "\t50: TRAIN loss 0.1215,  acc 0.9625 || VAL loss 0.7549, acc 0.8312\n",
      "\t60: TRAIN loss 0.0848,  acc 0.9750 || VAL loss 0.7970, acc 0.8385\n",
      "\t70: TRAIN loss 0.0651,  acc 0.9808 || VAL loss 0.8220, acc 0.8436\n",
      "\t80: TRAIN loss 0.0545,  acc 0.9836 || VAL loss 0.8479, acc 0.8443\n",
      "\t90: TRAIN loss 0.0443,  acc 0.9871 || VAL loss 0.8917, acc 0.8450\n",
      "\t100: TRAIN loss 0.0362,  acc 0.9897 || VAL loss 0.9127, acc 0.8424\n",
      "\t110: TRAIN loss 0.0330,  acc 0.9900 || VAL loss 0.9365, acc 0.8460\n",
      "\t120: TRAIN loss 0.0297,  acc 0.9913 || VAL loss 0.9703, acc 0.8467\n",
      "\t130: TRAIN loss 0.0274,  acc 0.9915 || VAL loss 0.9803, acc 0.8518\n",
      "\t140: TRAIN loss 0.0260,  acc 0.9922 || VAL loss 1.0499, acc 0.8410\n",
      "\t150: TRAIN loss 0.0226,  acc 0.9930 || VAL loss 1.0174, acc 0.8513\n",
      "\t160: TRAIN loss 0.0194,  acc 0.9943 || VAL loss 1.0331, acc 0.8472\n",
      "\t170: TRAIN loss 0.0206,  acc 0.9939 || VAL loss 1.0692, acc 0.8453\n",
      "\t180: TRAIN loss 0.0178,  acc 0.9942 || VAL loss 1.1178, acc 0.8453\n",
      "\t190: TRAIN loss 0.0162,  acc 0.9948 || VAL loss 1.0863, acc 0.8488\n",
      "256 2048 0.9971386605116075 0.8437768240343347\n",
      "\t0: TRAIN loss 15.2987,  acc 0.0444 || VAL loss 14.5104, acc 0.0862\n",
      "\t10: TRAIN loss 3.2859,  acc 0.0719 || VAL loss 3.2399, acc 0.0865\n",
      "\t20: TRAIN loss 3.0653,  acc 0.1282 || VAL loss 2.9885, acc 0.1725\n",
      "\t30: TRAIN loss 2.7129,  acc 0.2085 || VAL loss 2.4666, acc 0.3006\n",
      "\t40: TRAIN loss 2.4320,  acc 0.2601 || VAL loss 2.1115, acc 0.3852\n",
      "\t50: TRAIN loss 2.2055,  acc 0.3142 || VAL loss 1.8413, acc 0.4668\n",
      "\t60: TRAIN loss 1.9834,  acc 0.3744 || VAL loss 1.6231, acc 0.5389\n",
      "\t70: TRAIN loss 1.7808,  acc 0.4311 || VAL loss 1.3850, acc 0.6177\n",
      "\t80: TRAIN loss 1.5899,  acc 0.4859 || VAL loss 1.2376, acc 0.6544\n",
      "\t90: TRAIN loss 1.4370,  acc 0.5283 || VAL loss 1.1388, acc 0.6845\n",
      "\t100: TRAIN loss 1.3105,  acc 0.5652 || VAL loss 1.0451, acc 0.7104\n",
      "\t110: TRAIN loss 1.1981,  acc 0.5954 || VAL loss 0.9716, acc 0.7253\n",
      "\t120: TRAIN loss 1.0927,  acc 0.6306 || VAL loss 0.9375, acc 0.7348\n",
      "\t130: TRAIN loss 1.0009,  acc 0.6617 || VAL loss 0.9174, acc 0.7403\n",
      "\t140: TRAIN loss 0.9207,  acc 0.6887 || VAL loss 0.8833, acc 0.7488\n",
      "\t150: TRAIN loss 0.8472,  acc 0.7109 || VAL loss 0.8999, acc 0.7626\n",
      "\t160: TRAIN loss 0.7780,  acc 0.7327 || VAL loss 0.8463, acc 0.7787\n",
      "\t170: TRAIN loss 0.7180,  acc 0.7531 || VAL loss 0.8648, acc 0.7767\n",
      "\t180: TRAIN loss 0.6654,  acc 0.7709 || VAL loss 0.8868, acc 0.7851\n",
      "\t190: TRAIN loss 0.6171,  acc 0.7856 || VAL loss 0.8835, acc 0.7876\n",
      "512 128 0.9288861759151518 0.7902145922746782\n",
      "\t0: TRAIN loss 15.4163,  acc 0.0402 || VAL loss 15.0532, acc 0.0603\n",
      "\t10: TRAIN loss 3.0963,  acc 0.1322 || VAL loss 2.8878, acc 0.1942\n",
      "\t20: TRAIN loss 2.3829,  acc 0.2877 || VAL loss 2.0012, acc 0.4170\n",
      "\t30: TRAIN loss 1.7586,  acc 0.4478 || VAL loss 1.3798, acc 0.5967\n",
      "\t40: TRAIN loss 1.4174,  acc 0.5468 || VAL loss 1.1194, acc 0.6700\n",
      "\t50: TRAIN loss 1.1962,  acc 0.6114 || VAL loss 0.9698, acc 0.7224\n",
      "\t60: TRAIN loss 1.0243,  acc 0.6636 || VAL loss 0.9087, acc 0.7384\n",
      "\t70: TRAIN loss 0.8895,  acc 0.7053 || VAL loss 0.8408, acc 0.7626\n",
      "\t80: TRAIN loss 0.7791,  acc 0.7390 || VAL loss 0.7996, acc 0.7746\n",
      "\t90: TRAIN loss 0.6885,  acc 0.7693 || VAL loss 0.7795, acc 0.7864\n",
      "\t100: TRAIN loss 0.6139,  acc 0.7943 || VAL loss 0.7806, acc 0.7947\n",
      "\t110: TRAIN loss 0.5595,  acc 0.8107 || VAL loss 0.7352, acc 0.8070\n",
      "\t120: TRAIN loss 0.5017,  acc 0.8283 || VAL loss 0.7559, acc 0.8093\n",
      "\t130: TRAIN loss 0.4549,  acc 0.8436 || VAL loss 0.7828, acc 0.8094\n",
      "\t140: TRAIN loss 0.4183,  acc 0.8564 || VAL loss 0.7698, acc 0.8225\n",
      "\t150: TRAIN loss 0.3737,  acc 0.8731 || VAL loss 0.7731, acc 0.8252\n"
     ]
    },
    {
     "name": "stdout",
     "output_type": "stream",
     "text": [
      "\t160: TRAIN loss 0.3453,  acc 0.8822 || VAL loss 0.8020, acc 0.8177\n",
      "\t170: TRAIN loss 0.3160,  acc 0.8904 || VAL loss 0.7918, acc 0.8263\n",
      "\t180: TRAIN loss 0.2961,  acc 0.8976 || VAL loss 0.8492, acc 0.8256\n",
      "\t190: TRAIN loss 0.2742,  acc 0.9041 || VAL loss 0.8164, acc 0.8280\n",
      "512 256 0.9783491978711634 0.8339914163090129\n",
      "\t0: TRAIN loss 15.2893,  acc 0.0460 || VAL loss 14.7624, acc 0.0781\n",
      "\t10: TRAIN loss 2.5371,  acc 0.2876 || VAL loss 2.1867, acc 0.3998\n",
      "\t20: TRAIN loss 1.4861,  acc 0.5459 || VAL loss 1.1718, acc 0.6606\n",
      "\t30: TRAIN loss 1.0373,  acc 0.6744 || VAL loss 0.8797, acc 0.7415\n",
      "\t40: TRAIN loss 0.7868,  acc 0.7473 || VAL loss 0.7545, acc 0.7785\n",
      "\t50: TRAIN loss 0.6196,  acc 0.7989 || VAL loss 0.6951, acc 0.8036\n",
      "\t60: TRAIN loss 0.4970,  acc 0.8382 || VAL loss 0.6616, acc 0.8156\n",
      "\t70: TRAIN loss 0.4170,  acc 0.8610 || VAL loss 0.6617, acc 0.8235\n",
      "\t80: TRAIN loss 0.3477,  acc 0.8839 || VAL loss 0.6559, acc 0.8283\n",
      "\t90: TRAIN loss 0.2963,  acc 0.9006 || VAL loss 0.6748, acc 0.8309\n",
      "\t100: TRAIN loss 0.2529,  acc 0.9157 || VAL loss 0.6844, acc 0.8302\n",
      "\t110: TRAIN loss 0.2306,  acc 0.9222 || VAL loss 0.6898, acc 0.8374\n",
      "\t120: TRAIN loss 0.2012,  acc 0.9325 || VAL loss 0.7166, acc 0.8373\n",
      "\t130: TRAIN loss 0.1728,  acc 0.9425 || VAL loss 0.7432, acc 0.8448\n",
      "\t140: TRAIN loss 0.1613,  acc 0.9457 || VAL loss 0.7389, acc 0.8455\n",
      "\t150: TRAIN loss 0.1448,  acc 0.9511 || VAL loss 0.7762, acc 0.8429\n",
      "\t160: TRAIN loss 0.1323,  acc 0.9560 || VAL loss 0.7727, acc 0.8429\n",
      "\t170: TRAIN loss 0.1174,  acc 0.9603 || VAL loss 0.8012, acc 0.8505\n",
      "\t180: TRAIN loss 0.1106,  acc 0.9632 || VAL loss 0.8115, acc 0.8467\n",
      "\t190: TRAIN loss 0.1061,  acc 0.9640 || VAL loss 0.8407, acc 0.8486\n",
      "512 512 0.9945825305686435 0.8496137339055794\n",
      "\t0: TRAIN loss 15.3546,  acc 0.0428 || VAL loss 15.1669, acc 0.0565\n",
      "\t10: TRAIN loss 1.9964,  acc 0.4412 || VAL loss 1.6179, acc 0.5444\n",
      "\t20: TRAIN loss 0.8716,  acc 0.7347 || VAL loss 0.8434, acc 0.7588\n",
      "\t30: TRAIN loss 0.5204,  acc 0.8350 || VAL loss 0.6715, acc 0.8079\n",
      "\t40: TRAIN loss 0.3417,  acc 0.8909 || VAL loss 0.6374, acc 0.8307\n",
      "\t50: TRAIN loss 0.2420,  acc 0.9223 || VAL loss 0.6108, acc 0.8421\n",
      "\t60: TRAIN loss 0.1856,  acc 0.9403 || VAL loss 0.6155, acc 0.8472\n",
      "\t70: TRAIN loss 0.1386,  acc 0.9554 || VAL loss 0.6299, acc 0.8555\n",
      "\t80: TRAIN loss 0.1123,  acc 0.9640 || VAL loss 0.6537, acc 0.8544\n",
      "\t90: TRAIN loss 0.0957,  acc 0.9691 || VAL loss 0.6727, acc 0.8580\n",
      "\t100: TRAIN loss 0.0807,  acc 0.9740 || VAL loss 0.7006, acc 0.8560\n",
      "\t110: TRAIN loss 0.0734,  acc 0.9763 || VAL loss 0.7284, acc 0.8597\n",
      "\t120: TRAIN loss 0.0616,  acc 0.9805 || VAL loss 0.7385, acc 0.8635\n",
      "\t130: TRAIN loss 0.0567,  acc 0.9823 || VAL loss 0.7696, acc 0.8609\n",
      "\t140: TRAIN loss 0.0491,  acc 0.9840 || VAL loss 0.7650, acc 0.8621\n",
      "\t150: TRAIN loss 0.0461,  acc 0.9855 || VAL loss 0.7760, acc 0.8685\n",
      "\t160: TRAIN loss 0.0430,  acc 0.9862 || VAL loss 0.7915, acc 0.8685\n",
      "\t170: TRAIN loss 0.0402,  acc 0.9872 || VAL loss 0.8027, acc 0.8718\n",
      "\t180: TRAIN loss 0.0371,  acc 0.9887 || VAL loss 0.8350, acc 0.8644\n",
      "\t190: TRAIN loss 0.0363,  acc 0.9879 || VAL loss 0.8414, acc 0.8743\n",
      "512 1024 0.9986456326421609 0.8679828326180258\n",
      "\t0: TRAIN loss 15.1868,  acc 0.0522 || VAL loss 14.8383, acc 0.0767\n",
      "\t10: TRAIN loss 1.4085,  acc 0.6139 || VAL loss 1.2663, acc 0.6596\n",
      "\t20: TRAIN loss 0.4675,  acc 0.8550 || VAL loss 0.8124, acc 0.7900\n",
      "\t30: TRAIN loss 0.2109,  acc 0.9344 || VAL loss 0.7585, acc 0.8187\n",
      "\t40: TRAIN loss 0.1181,  acc 0.9650 || VAL loss 0.7897, acc 0.8309\n",
      "\t50: TRAIN loss 0.0768,  acc 0.9780 || VAL loss 0.8168, acc 0.8415\n",
      "\t60: TRAIN loss 0.0535,  acc 0.9846 || VAL loss 0.8596, acc 0.8391\n",
      "\t70: TRAIN loss 0.0470,  acc 0.9859 || VAL loss 0.9029, acc 0.8448\n",
      "\t80: TRAIN loss 0.0383,  acc 0.9890 || VAL loss 0.9649, acc 0.8417\n",
      "\t90: TRAIN loss 0.0323,  acc 0.9908 || VAL loss 0.9565, acc 0.8453\n",
      "\t100: TRAIN loss 0.0272,  acc 0.9926 || VAL loss 0.9663, acc 0.8484\n",
      "\t110: TRAIN loss 0.0262,  acc 0.9925 || VAL loss 0.9885, acc 0.8501\n",
      "\t120: TRAIN loss 0.0225,  acc 0.9934 || VAL loss 1.0095, acc 0.8493\n",
      "\t130: TRAIN loss 0.0187,  acc 0.9944 || VAL loss 1.0219, acc 0.8508\n",
      "\t140: TRAIN loss 0.0191,  acc 0.9944 || VAL loss 1.0664, acc 0.8493\n",
      "\t150: TRAIN loss 0.0157,  acc 0.9956 || VAL loss 1.0380, acc 0.8522\n",
      "\t160: TRAIN loss 0.0146,  acc 0.9957 || VAL loss 1.0562, acc 0.8529\n",
      "\t170: TRAIN loss 0.0119,  acc 0.9966 || VAL loss 1.0733, acc 0.8539\n",
      "\t180: TRAIN loss 0.0119,  acc 0.9962 || VAL loss 1.1014, acc 0.8573\n",
      "\t190: TRAIN loss 0.0112,  acc 0.9968 || VAL loss 1.1344, acc 0.8513\n",
      "512 2048 0.9992751273296072 0.8527038626609442\n",
      "\t0: TRAIN loss 15.1928,  acc 0.0512 || VAL loss 14.9702, acc 0.0680\n",
      "\t10: TRAIN loss 3.2104,  acc 0.0985 || VAL loss 3.1193, acc 0.1313\n",
      "\t20: TRAIN loss 2.8226,  acc 0.1826 || VAL loss 2.5955, acc 0.2621\n",
      "\t30: TRAIN loss 2.4852,  acc 0.2708 || VAL loss 2.2494, acc 0.3705\n",
      "\t40: TRAIN loss 2.1166,  acc 0.3541 || VAL loss 1.7704, acc 0.4898\n",
      "\t50: TRAIN loss 1.7565,  acc 0.4418 || VAL loss 1.3555, acc 0.6015\n",
      "\t60: TRAIN loss 1.4690,  acc 0.5185 || VAL loss 1.1243, acc 0.6798\n",
      "\t70: TRAIN loss 1.2709,  acc 0.5754 || VAL loss 0.9718, acc 0.7227\n",
      "\t80: TRAIN loss 1.0999,  acc 0.6284 || VAL loss 0.9070, acc 0.7394\n",
      "\t90: TRAIN loss 0.9650,  acc 0.6685 || VAL loss 0.8371, acc 0.7569\n",
      "\t100: TRAIN loss 0.8570,  acc 0.7072 || VAL loss 0.8029, acc 0.7779\n",
      "\t110: TRAIN loss 0.7544,  acc 0.7403 || VAL loss 0.7846, acc 0.7825\n",
      "\t120: TRAIN loss 0.6743,  acc 0.7691 || VAL loss 0.7582, acc 0.7991\n",
      "\t130: TRAIN loss 0.6049,  acc 0.7899 || VAL loss 0.7585, acc 0.8053\n",
      "\t140: TRAIN loss 0.5435,  acc 0.8127 || VAL loss 0.7911, acc 0.8088\n",
      "\t150: TRAIN loss 0.4884,  acc 0.8316 || VAL loss 0.7837, acc 0.8100\n",
      "\t160: TRAIN loss 0.4392,  acc 0.8485 || VAL loss 0.7762, acc 0.8179\n",
      "\t170: TRAIN loss 0.4008,  acc 0.8614 || VAL loss 0.8239, acc 0.8242\n",
      "\t180: TRAIN loss 0.3637,  acc 0.8746 || VAL loss 0.8238, acc 0.8211\n",
      "\t190: TRAIN loss 0.3264,  acc 0.8857 || VAL loss 0.8510, acc 0.8266\n",
      "1024 128 0.9764416382122351 0.8293562231759657\n",
      "\t0: TRAIN loss 15.3920,  acc 0.0408 || VAL loss 15.0922, acc 0.0585\n",
      "\t10: TRAIN loss 2.9583,  acc 0.1629 || VAL loss 2.6921, acc 0.2385\n",
      "\t20: TRAIN loss 2.1518,  acc 0.3396 || VAL loss 1.7278, acc 0.5037\n",
      "\t30: TRAIN loss 1.6663,  acc 0.4691 || VAL loss 1.3159, acc 0.6367\n",
      "\t40: TRAIN loss 1.3490,  acc 0.5626 || VAL loss 1.0120, acc 0.7075\n",
      "\t50: TRAIN loss 1.0933,  acc 0.6410 || VAL loss 0.8648, acc 0.7524\n",
      "\t60: TRAIN loss 0.8967,  acc 0.7022 || VAL loss 0.8094, acc 0.7720\n",
      "\t70: TRAIN loss 0.7496,  acc 0.7487 || VAL loss 0.7424, acc 0.7942\n",
      "\t80: TRAIN loss 0.6348,  acc 0.7849 || VAL loss 0.7341, acc 0.7990\n",
      "\t90: TRAIN loss 0.5449,  acc 0.8132 || VAL loss 0.7083, acc 0.8115\n",
      "\t100: TRAIN loss 0.4747,  acc 0.8381 || VAL loss 0.7045, acc 0.8201\n",
      "\t110: TRAIN loss 0.4029,  acc 0.8604 || VAL loss 0.7477, acc 0.8227\n",
      "\t120: TRAIN loss 0.3546,  acc 0.8797 || VAL loss 0.7258, acc 0.8343\n",
      "\t130: TRAIN loss 0.3141,  acc 0.8903 || VAL loss 0.7324, acc 0.8331\n",
      "\t140: TRAIN loss 0.2704,  acc 0.9065 || VAL loss 0.7626, acc 0.8364\n",
      "\t150: TRAIN loss 0.2484,  acc 0.9146 || VAL loss 0.8120, acc 0.8391\n",
      "\t160: TRAIN loss 0.2239,  acc 0.9231 || VAL loss 0.8015, acc 0.8441\n",
      "\t170: TRAIN loss 0.2081,  acc 0.9286 || VAL loss 0.8093, acc 0.8426\n",
      "\t180: TRAIN loss 0.1867,  acc 0.9369 || VAL loss 0.8157, acc 0.8421\n",
      "\t190: TRAIN loss 0.1679,  acc 0.9422 || VAL loss 0.8392, acc 0.8486\n",
      "1024 256 0.9869522919329302 0.8466952789699571\n",
      "\t0: TRAIN loss 15.2445,  acc 0.0506 || VAL loss 14.7150, acc 0.0829\n",
      "\t10: TRAIN loss 2.8684,  acc 0.2085 || VAL loss 2.5595, acc 0.2841\n",
      "\t20: TRAIN loss 1.5072,  acc 0.5363 || VAL loss 1.1512, acc 0.6697\n",
      "\t30: TRAIN loss 0.9911,  acc 0.6853 || VAL loss 0.8255, acc 0.7586\n",
      "\t40: TRAIN loss 0.7151,  acc 0.7688 || VAL loss 0.7131, acc 0.7894\n",
      "\t50: TRAIN loss 0.5410,  acc 0.8226 || VAL loss 0.6564, acc 0.8149\n",
      "\t60: TRAIN loss 0.4141,  acc 0.8613 || VAL loss 0.6520, acc 0.8285\n",
      "\t70: TRAIN loss 0.3284,  acc 0.8913 || VAL loss 0.6554, acc 0.8385\n",
      "\t80: TRAIN loss 0.2637,  acc 0.9125 || VAL loss 0.6478, acc 0.8453\n",
      "\t90: TRAIN loss 0.2165,  acc 0.9279 || VAL loss 0.6690, acc 0.8500\n",
      "\t100: TRAIN loss 0.1829,  acc 0.9379 || VAL loss 0.7024, acc 0.8505\n",
      "\t110: TRAIN loss 0.1560,  acc 0.9494 || VAL loss 0.7031, acc 0.8532\n",
      "\t120: TRAIN loss 0.1422,  acc 0.9513 || VAL loss 0.6923, acc 0.8594\n",
      "\t130: TRAIN loss 0.1227,  acc 0.9592 || VAL loss 0.7455, acc 0.8546\n"
     ]
    },
    {
     "name": "stdout",
     "output_type": "stream",
     "text": [
      "\t140: TRAIN loss 0.1072,  acc 0.9647 || VAL loss 0.7818, acc 0.8601\n",
      "\t150: TRAIN loss 0.0963,  acc 0.9675 || VAL loss 0.7701, acc 0.8637\n",
      "\t160: TRAIN loss 0.0872,  acc 0.9709 || VAL loss 0.7904, acc 0.8597\n",
      "\t170: TRAIN loss 0.0795,  acc 0.9730 || VAL loss 0.7845, acc 0.8651\n",
      "\t180: TRAIN loss 0.0788,  acc 0.9742 || VAL loss 0.7943, acc 0.8671\n",
      "\t190: TRAIN loss 0.0743,  acc 0.9759 || VAL loss 0.8108, acc 0.8642\n",
      "1024 512 0.9959368979264827 0.8650643776824034\n",
      "\t0: TRAIN loss 15.4685,  acc 0.0388 || VAL loss 15.5333, acc 0.0361\n",
      "\t10: TRAIN loss 10.3253,  acc 0.2769 || VAL loss 6.1426, acc 0.3655\n",
      "\t20: TRAIN loss 0.8912,  acc 0.7286 || VAL loss 0.8514, acc 0.7626\n",
      "\t30: TRAIN loss 0.4473,  acc 0.8575 || VAL loss 0.6446, acc 0.8227\n",
      "\t40: TRAIN loss 0.2601,  acc 0.9161 || VAL loss 0.6244, acc 0.8398\n",
      "\t50: TRAIN loss 0.1684,  acc 0.9454 || VAL loss 0.6372, acc 0.8491\n",
      "\t60: TRAIN loss 0.1221,  acc 0.9601 || VAL loss 0.6287, acc 0.8570\n",
      "\t70: TRAIN loss 0.0936,  acc 0.9705 || VAL loss 0.6768, acc 0.8542\n",
      "\t80: TRAIN loss 0.0735,  acc 0.9773 || VAL loss 0.6850, acc 0.8587\n",
      "\t90: TRAIN loss 0.0644,  acc 0.9799 || VAL loss 0.7326, acc 0.8606\n",
      "\t100: TRAIN loss 0.0590,  acc 0.9812 || VAL loss 0.7195, acc 0.8661\n",
      "\t110: TRAIN loss 0.0497,  acc 0.9844 || VAL loss 0.7492, acc 0.8670\n",
      "\t120: TRAIN loss 0.0480,  acc 0.9846 || VAL loss 0.7477, acc 0.8688\n",
      "\t130: TRAIN loss 0.0381,  acc 0.9886 || VAL loss 0.7915, acc 0.8668\n",
      "\t140: TRAIN loss 0.0353,  acc 0.9887 || VAL loss 0.7998, acc 0.8719\n",
      "\t150: TRAIN loss 0.0329,  acc 0.9895 || VAL loss 0.7970, acc 0.8700\n",
      "\t160: TRAIN loss 0.0347,  acc 0.9895 || VAL loss 0.8613, acc 0.8692\n",
      "\t170: TRAIN loss 0.0326,  acc 0.9898 || VAL loss 0.8337, acc 0.8748\n",
      "\t180: TRAIN loss 0.0291,  acc 0.9908 || VAL loss 0.8968, acc 0.8678\n",
      "\t190: TRAIN loss 0.0300,  acc 0.9908 || VAL loss 0.8984, acc 0.8724\n",
      "1024 1024 0.9992369761364287 0.8733047210300429\n",
      "\t0: TRAIN loss 15.5203,  acc 0.0367 || VAL loss 15.5149, acc 0.0374\n",
      "\t10: TRAIN loss 15.5339,  acc 0.0362 || VAL loss 15.4761, acc 0.0398\n",
      "\t20: TRAIN loss 15.5339,  acc 0.0362 || VAL loss 15.4761, acc 0.0398\n",
      "\t30: TRAIN loss 15.5339,  acc 0.0362 || VAL loss 15.4761, acc 0.0398\n",
      "\t40: TRAIN loss 15.5339,  acc 0.0362 || VAL loss 15.4761, acc 0.0398\n",
      "\t50: TRAIN loss 15.5339,  acc 0.0362 || VAL loss 15.4761, acc 0.0398\n",
      "\t60: TRAIN loss 15.5339,  acc 0.0362 || VAL loss 15.4761, acc 0.0398\n",
      "\t70: TRAIN loss 15.5339,  acc 0.0362 || VAL loss 15.4761, acc 0.0398\n",
      "\t80: TRAIN loss 15.5339,  acc 0.0362 || VAL loss 15.4761, acc 0.0398\n",
      "\t90: TRAIN loss 15.5339,  acc 0.0362 || VAL loss 15.4761, acc 0.0398\n",
      "\t100: TRAIN loss 15.5339,  acc 0.0362 || VAL loss 15.4761, acc 0.0398\n",
      "\t110: TRAIN loss 15.5339,  acc 0.0362 || VAL loss 15.4761, acc 0.0398\n",
      "\t120: TRAIN loss 15.5339,  acc 0.0362 || VAL loss 15.4761, acc 0.0398\n",
      "\t130: TRAIN loss 15.5339,  acc 0.0362 || VAL loss 15.4761, acc 0.0398\n",
      "\t140: TRAIN loss 15.5339,  acc 0.0362 || VAL loss 15.4761, acc 0.0398\n",
      "\t150: TRAIN loss 15.5339,  acc 0.0362 || VAL loss 15.4761, acc 0.0398\n",
      "\t160: TRAIN loss 15.5339,  acc 0.0362 || VAL loss 15.4761, acc 0.0398\n",
      "\t170: TRAIN loss 15.5339,  acc 0.0362 || VAL loss 15.4761, acc 0.0398\n",
      "\t180: TRAIN loss 15.5339,  acc 0.0362 || VAL loss 15.4761, acc 0.0398\n",
      "\t190: TRAIN loss 15.5339,  acc 0.0362 || VAL loss 15.4761, acc 0.0398\n",
      "1024 2048 0.03624363351963833 0.03982832618025751\n",
      "\t0: TRAIN loss 15.2981,  acc 0.0472 || VAL loss 15.0595, acc 0.0635\n",
      "\t10: TRAIN loss 3.2816,  acc 0.0755 || VAL loss 3.2146, acc 0.1116\n",
      "\t20: TRAIN loss 3.0412,  acc 0.1296 || VAL loss 2.9179, acc 0.1947\n",
      "\t30: TRAIN loss 2.7688,  acc 0.1896 || VAL loss 2.5324, acc 0.2891\n",
      "\t40: TRAIN loss 2.3652,  acc 0.3003 || VAL loss 2.0156, acc 0.4567\n",
      "\t50: TRAIN loss 1.9540,  acc 0.4071 || VAL loss 1.6364, acc 0.5610\n",
      "\t60: TRAIN loss 1.6045,  acc 0.5028 || VAL loss 1.2789, acc 0.6639\n",
      "\t70: TRAIN loss 1.3050,  acc 0.5808 || VAL loss 1.0296, acc 0.7188\n",
      "\t80: TRAIN loss 1.0251,  acc 0.6642 || VAL loss 0.8563, acc 0.7688\n",
      "\t90: TRAIN loss 0.8196,  acc 0.7297 || VAL loss 0.8076, acc 0.7892\n",
      "\t100: TRAIN loss 0.6472,  acc 0.7844 || VAL loss 0.7259, acc 0.8112\n",
      "\t110: TRAIN loss 0.5201,  acc 0.8272 || VAL loss 0.6982, acc 0.8232\n",
      "\t120: TRAIN loss 0.4189,  acc 0.8606 || VAL loss 0.6881, acc 0.8328\n",
      "\t130: TRAIN loss 0.3376,  acc 0.8866 || VAL loss 0.6592, acc 0.8398\n",
      "\t140: TRAIN loss 0.2843,  acc 0.9044 || VAL loss 0.7147, acc 0.8458\n",
      "\t150: TRAIN loss 0.2404,  acc 0.9209 || VAL loss 0.7479, acc 0.8481\n",
      "\t160: TRAIN loss 0.2120,  acc 0.9289 || VAL loss 0.7331, acc 0.8549\n",
      "\t170: TRAIN loss 0.1786,  acc 0.9409 || VAL loss 0.7589, acc 0.8536\n",
      "\t180: TRAIN loss 0.1609,  acc 0.9460 || VAL loss 0.7891, acc 0.8573\n",
      "\t190: TRAIN loss 0.1417,  acc 0.9525 || VAL loss 0.7832, acc 0.8613\n",
      "2048 128 0.9913969059382333 0.856824034334764\n",
      "\t0: TRAIN loss 15.3636,  acc 0.0427 || VAL loss 14.8618, acc 0.0709\n",
      "\t10: TRAIN loss 2.9647,  acc 0.1645 || VAL loss 2.7299, acc 0.2419\n",
      "\t20: TRAIN loss 2.1913,  acc 0.3595 || VAL loss 1.9046, acc 0.4652\n",
      "\t30: TRAIN loss 1.4704,  acc 0.5404 || VAL loss 1.0936, acc 0.6918\n",
      "\t40: TRAIN loss 1.0107,  acc 0.6749 || VAL loss 0.8305, acc 0.7593\n",
      "\t50: TRAIN loss 0.7483,  acc 0.7553 || VAL loss 0.7357, acc 0.7959\n",
      "\t60: TRAIN loss 0.5696,  acc 0.8103 || VAL loss 0.6660, acc 0.8220\n",
      "\t70: TRAIN loss 0.4376,  acc 0.8542 || VAL loss 0.6376, acc 0.8299\n",
      "\t80: TRAIN loss 0.3466,  acc 0.8838 || VAL loss 0.6407, acc 0.8359\n",
      "\t90: TRAIN loss 0.2766,  acc 0.9070 || VAL loss 0.6715, acc 0.8366\n",
      "\t100: TRAIN loss 0.2310,  acc 0.9224 || VAL loss 0.6646, acc 0.8494\n",
      "\t110: TRAIN loss 0.2025,  acc 0.9333 || VAL loss 0.6486, acc 0.8621\n",
      "\t120: TRAIN loss 0.1737,  acc 0.9418 || VAL loss 0.6897, acc 0.8580\n",
      "\t130: TRAIN loss 0.1402,  acc 0.9531 || VAL loss 0.7292, acc 0.8585\n",
      "\t140: TRAIN loss 0.1276,  acc 0.9578 || VAL loss 0.7583, acc 0.8616\n",
      "\t150: TRAIN loss 0.1126,  acc 0.9631 || VAL loss 0.7423, acc 0.8613\n",
      "\t160: TRAIN loss 0.1045,  acc 0.9654 || VAL loss 0.7862, acc 0.8628\n",
      "\t170: TRAIN loss 0.0973,  acc 0.9682 || VAL loss 0.7844, acc 0.8671\n",
      "\t180: TRAIN loss 0.0853,  acc 0.9722 || VAL loss 0.8033, acc 0.8673\n",
      "\t190: TRAIN loss 0.0846,  acc 0.9731 || VAL loss 0.7896, acc 0.8697\n",
      "2048 256 0.9946397573584114 0.8666094420600858\n",
      "\t0: TRAIN loss 15.3393,  acc 0.0457 || VAL loss 15.2971, acc 0.0494\n",
      "\t10: TRAIN loss 8.0191,  acc 0.2114 || VAL loss 3.0271, acc 0.1797\n",
      "\t20: TRAIN loss 1.2936,  acc 0.6028 || VAL loss 0.9915, acc 0.7126\n",
      "\t30: TRAIN loss 0.7449,  acc 0.7617 || VAL loss 0.7209, acc 0.7851\n",
      "\t40: TRAIN loss 0.4870,  acc 0.8421 || VAL loss 0.6423, acc 0.8216\n",
      "\t50: TRAIN loss 0.3336,  acc 0.8915 || VAL loss 0.6234, acc 0.8362\n",
      "\t60: TRAIN loss 0.2406,  acc 0.9210 || VAL loss 0.6171, acc 0.8460\n",
      "\t70: TRAIN loss 0.1879,  acc 0.9394 || VAL loss 0.6184, acc 0.8589\n",
      "\t80: TRAIN loss 0.1499,  acc 0.9510 || VAL loss 0.6534, acc 0.8639\n",
      "\t90: TRAIN loss 0.1260,  acc 0.9583 || VAL loss 0.6912, acc 0.8608\n",
      "\t100: TRAIN loss 0.1064,  acc 0.9656 || VAL loss 0.6870, acc 0.8637\n",
      "\t110: TRAIN loss 0.0941,  acc 0.9697 || VAL loss 0.7078, acc 0.8654\n",
      "\t120: TRAIN loss 0.0813,  acc 0.9744 || VAL loss 0.7394, acc 0.8668\n",
      "\t130: TRAIN loss 0.0713,  acc 0.9767 || VAL loss 0.7658, acc 0.8678\n",
      "\t140: TRAIN loss 0.0684,  acc 0.9780 || VAL loss 0.7606, acc 0.8726\n",
      "\t150: TRAIN loss 0.0680,  acc 0.9785 || VAL loss 0.7815, acc 0.8714\n",
      "\t160: TRAIN loss 0.0584,  acc 0.9811 || VAL loss 0.7956, acc 0.8666\n",
      "\t170: TRAIN loss 0.0544,  acc 0.9826 || VAL loss 0.8394, acc 0.8700\n",
      "\t180: TRAIN loss 0.0504,  acc 0.9846 || VAL loss 0.8268, acc 0.8697\n",
      "\t190: TRAIN loss 0.0491,  acc 0.9849 || VAL loss 0.8466, acc 0.8685\n",
      "2048 512 0.9967762241764111 0.8724463519313305\n",
      "\t0: TRAIN loss 15.4792,  acc 0.0392 || VAL loss 15.3556, acc 0.0467\n",
      "\t10: TRAIN loss 15.0187,  acc 0.0679 || VAL loss 14.7864, acc 0.0819\n",
      "\t20: TRAIN loss 14.7899,  acc 0.0815 || VAL loss 14.5961, acc 0.0932\n",
      "\t30: TRAIN loss 2.0069,  acc 0.4615 || VAL loss 1.5421, acc 0.5729\n",
      "\t40: TRAIN loss 0.5153,  acc 0.8422 || VAL loss 0.7315, acc 0.7961\n",
      "\t50: TRAIN loss 0.2362,  acc 0.9267 || VAL loss 0.6520, acc 0.8335\n",
      "\t60: TRAIN loss 0.1337,  acc 0.9590 || VAL loss 0.6788, acc 0.8470\n",
      "\t70: TRAIN loss 0.0891,  acc 0.9734 || VAL loss 0.7124, acc 0.8488\n",
      "\t80: TRAIN loss 0.0657,  acc 0.9807 || VAL loss 0.7776, acc 0.8520\n",
      "\t90: TRAIN loss 0.0523,  acc 0.9845 || VAL loss 0.7633, acc 0.8537\n",
      "\t100: TRAIN loss 0.0477,  acc 0.9859 || VAL loss 0.8117, acc 0.8572\n"
     ]
    },
    {
     "name": "stdout",
     "output_type": "stream",
     "text": [
      "\t110: TRAIN loss 0.0360,  acc 0.9895 || VAL loss 0.8701, acc 0.8548\n",
      "\t120: TRAIN loss 0.0343,  acc 0.9895 || VAL loss 0.8564, acc 0.8541\n",
      "\t130: TRAIN loss 0.0325,  acc 0.9907 || VAL loss 0.9197, acc 0.8603\n",
      "\t140: TRAIN loss 0.0262,  acc 0.9919 || VAL loss 0.8937, acc 0.8642\n",
      "\t150: TRAIN loss 0.0246,  acc 0.9927 || VAL loss 0.9186, acc 0.8620\n",
      "\t160: TRAIN loss 0.0239,  acc 0.9934 || VAL loss 0.9532, acc 0.8642\n",
      "\t170: TRAIN loss 0.0218,  acc 0.9938 || VAL loss 0.9298, acc 0.8663\n",
      "\t180: TRAIN loss 0.0180,  acc 0.9945 || VAL loss 0.9569, acc 0.8627\n",
      "\t190: TRAIN loss 0.0196,  acc 0.9936 || VAL loss 0.9712, acc 0.8645\n",
      "2048 1024 0.9983404230967323 0.8710729613733905\n",
      "\t0: TRAIN loss 15.6810,  acc 0.0270 || VAL loss 15.6809, acc 0.0271\n",
      "\t10: TRAIN loss 15.6886,  acc 0.0266 || VAL loss 15.6809, acc 0.0271\n",
      "\t20: TRAIN loss 15.6886,  acc 0.0266 || VAL loss 15.6809, acc 0.0271\n",
      "\t30: TRAIN loss 15.6886,  acc 0.0266 || VAL loss 15.6809, acc 0.0271\n",
      "\t40: TRAIN loss 15.6886,  acc 0.0266 || VAL loss 15.6809, acc 0.0271\n",
      "\t50: TRAIN loss 15.6886,  acc 0.0266 || VAL loss 15.6809, acc 0.0271\n",
      "\t60: TRAIN loss 15.6886,  acc 0.0266 || VAL loss 15.6809, acc 0.0271\n",
      "\t70: TRAIN loss 15.6886,  acc 0.0266 || VAL loss 15.6809, acc 0.0271\n",
      "\t80: TRAIN loss 15.6886,  acc 0.0266 || VAL loss 15.6809, acc 0.0271\n",
      "\t90: TRAIN loss 15.6886,  acc 0.0266 || VAL loss 15.6809, acc 0.0271\n",
      "\t100: TRAIN loss 15.6886,  acc 0.0266 || VAL loss 15.6809, acc 0.0271\n",
      "\t110: TRAIN loss 15.6886,  acc 0.0266 || VAL loss 15.6809, acc 0.0271\n",
      "\t120: TRAIN loss 15.6886,  acc 0.0266 || VAL loss 15.6809, acc 0.0271\n",
      "\t130: TRAIN loss 15.6886,  acc 0.0266 || VAL loss 15.6809, acc 0.0271\n",
      "\t140: TRAIN loss 15.6886,  acc 0.0266 || VAL loss 15.6809, acc 0.0271\n",
      "\t150: TRAIN loss 15.6886,  acc 0.0266 || VAL loss 15.6809, acc 0.0271\n",
      "\t160: TRAIN loss 15.6886,  acc 0.0266 || VAL loss 15.6809, acc 0.0271\n",
      "\t170: TRAIN loss 15.6886,  acc 0.0266 || VAL loss 15.6809, acc 0.0271\n",
      "\t180: TRAIN loss 15.6886,  acc 0.0266 || VAL loss 15.6809, acc 0.0271\n",
      "\t190: TRAIN loss 15.6886,  acc 0.0266 || VAL loss 15.6809, acc 0.0271\n",
      "2048 2048 0.026648608435228812 0.027124463519313306\n"
     ]
    }
   ],
   "source": [
    "results=[]\n",
    "for n_layer1 in [128,256,2*256,4*256,8*256]:\n",
    "    for n_layer2 in [128,256,2*256,4*256,8*256]:\n",
    "        # Build the Estimator\n",
    "        model=build_model(n_layer1,n_layer2)\n",
    "        model.fit(features_train,Y_train,validation_data=(features_val,Y_val),\n",
    "                  epochs=nepochs,batch_size=100,\n",
    "                  verbose=0,callbacks=[ReportCallback(10,log_file)])\n",
    "        Y_pred=np.argmax(model.predict(features_train),axis=1)\n",
    "        acc_train=np.mean(Y_pred==Y_train)\n",
    "        Y_pred=np.argmax(model.predict(features_val),axis=1)\n",
    "        acc_val=np.mean(Y_pred==Y_val)\n",
    "        print(n_layer1,n_layer2,acc_train,acc_val)\n",
    "        print(n_layer1,n_layer2,acc_train,acc_val,file=log_file)\n",
    "        log_file.flush()\n",
    "        results.append((n_layer1,n_layer2,acc_train,acc_val))"
   ]
  },
  {
   "cell_type": "code",
   "execution_count": 26,
   "metadata": {
    "ExecuteTime": {
     "end_time": "2019-04-10T08:28:04.159786Z",
     "start_time": "2019-04-10T08:28:04.114005Z"
    }
   },
   "outputs": [
    {
     "data": {
      "text/html": [
       "<div>\n",
       "<style scoped>\n",
       "    .dataframe tbody tr th:only-of-type {\n",
       "        vertical-align: middle;\n",
       "    }\n",
       "\n",
       "    .dataframe tbody tr th {\n",
       "        vertical-align: top;\n",
       "    }\n",
       "\n",
       "    .dataframe thead tr th {\n",
       "        text-align: left;\n",
       "    }\n",
       "\n",
       "    .dataframe thead tr:last-of-type th {\n",
       "        text-align: right;\n",
       "    }\n",
       "</style>\n",
       "<table border=\"1\" class=\"dataframe\">\n",
       "  <thead>\n",
       "    <tr>\n",
       "      <th></th>\n",
       "      <th colspan=\"5\" halign=\"left\">accuracy</th>\n",
       "    </tr>\n",
       "    <tr>\n",
       "      <th>layer2</th>\n",
       "      <th>128</th>\n",
       "      <th>256</th>\n",
       "      <th>512</th>\n",
       "      <th>1024</th>\n",
       "      <th>2048</th>\n",
       "    </tr>\n",
       "    <tr>\n",
       "      <th>layer1</th>\n",
       "      <th></th>\n",
       "      <th></th>\n",
       "      <th></th>\n",
       "      <th></th>\n",
       "      <th></th>\n",
       "    </tr>\n",
       "  </thead>\n",
       "  <tbody>\n",
       "    <tr>\n",
       "      <th>128</th>\n",
       "      <td>0.749013</td>\n",
       "      <td>0.781974</td>\n",
       "      <td>0.813047</td>\n",
       "      <td>0.835193</td>\n",
       "      <td>0.846009</td>\n",
       "    </tr>\n",
       "    <tr>\n",
       "      <th>256</th>\n",
       "      <td>0.770644</td>\n",
       "      <td>0.804464</td>\n",
       "      <td>0.819227</td>\n",
       "      <td>0.845322</td>\n",
       "      <td>0.843777</td>\n",
       "    </tr>\n",
       "    <tr>\n",
       "      <th>512</th>\n",
       "      <td>0.790215</td>\n",
       "      <td>0.833991</td>\n",
       "      <td>0.849614</td>\n",
       "      <td>0.867983</td>\n",
       "      <td>0.852704</td>\n",
       "    </tr>\n",
       "    <tr>\n",
       "      <th>1024</th>\n",
       "      <td>0.829356</td>\n",
       "      <td>0.846695</td>\n",
       "      <td>0.865064</td>\n",
       "      <td>0.873305</td>\n",
       "      <td>0.039828</td>\n",
       "    </tr>\n",
       "    <tr>\n",
       "      <th>2048</th>\n",
       "      <td>0.856824</td>\n",
       "      <td>0.866609</td>\n",
       "      <td>0.872446</td>\n",
       "      <td>0.871073</td>\n",
       "      <td>0.027124</td>\n",
       "    </tr>\n",
       "  </tbody>\n",
       "</table>\n",
       "</div>"
      ],
      "text/plain": [
       "        accuracy                                        \n",
       "layer2      128       256       512       1024      2048\n",
       "layer1                                                  \n",
       "128     0.749013  0.781974  0.813047  0.835193  0.846009\n",
       "256     0.770644  0.804464  0.819227  0.845322  0.843777\n",
       "512     0.790215  0.833991  0.849614  0.867983  0.852704\n",
       "1024    0.829356  0.846695  0.865064  0.873305  0.039828\n",
       "2048    0.856824  0.866609  0.872446  0.871073  0.027124"
      ]
     },
     "execution_count": 26,
     "metadata": {},
     "output_type": "execute_result"
    }
   ],
   "source": [
    "data=pd.DataFrame(results,columns=[\"layer1\",\"layer2\",\"train_acc\",\"accuracy\"])\n",
    "pivot=data[[\"layer1\",\"layer2\",\"accuracy\"]].pivot('layer1', 'layer2')\n",
    "pivot"
   ]
  },
  {
   "cell_type": "code",
   "execution_count": 27,
   "metadata": {
    "ExecuteTime": {
     "end_time": "2019-04-10T08:28:15.541838Z",
     "start_time": "2019-04-10T08:28:15.510431Z"
    }
   },
   "outputs": [
    {
     "name": "stderr",
     "output_type": "stream",
     "text": [
      "/home/manel/anaconda3/lib/python3.6/site-packages/ipykernel_launcher.py:1: FutureWarning: 'argmax' is deprecated. Use 'idxmax' instead. The behavior of 'argmax' will be corrected to return the positional maximum in the future. Use 'series.values.argmax' to get the position of the maximum now.\n",
      "  \"\"\"Entry point for launching an IPython kernel.\n"
     ]
    },
    {
     "data": {
      "text/plain": [
       "layer1       1024.000000\n",
       "layer2       1024.000000\n",
       "train_acc       0.999237\n",
       "accuracy        0.873305\n",
       "Name: 18, dtype: float64"
      ]
     },
     "execution_count": 27,
     "metadata": {},
     "output_type": "execute_result"
    }
   ],
   "source": [
    "best_idx=data[\"accuracy\"].argmax()\n",
    "best=data.iloc[best_idx]\n",
    "hidden1=best[\"layer1\"]\n",
    "hidden2=best[\"layer2\"]\n",
    "best"
   ]
  },
  {
   "cell_type": "markdown",
   "metadata": {
    "ExecuteTime": {
     "end_time": "2018-02-18T10:27:50.018050Z",
     "start_time": "2018-02-18T10:27:50.002423Z"
    },
    "collapsed": true
   },
   "source": [
    "## Test"
   ]
  },
  {
   "cell_type": "code",
   "execution_count": 28,
   "metadata": {
    "ExecuteTime": {
     "end_time": "2019-04-10T08:28:25.065738Z",
     "start_time": "2019-04-10T08:28:24.901406Z"
    }
   },
   "outputs": [
    {
     "name": "stdout",
     "output_type": "stream",
     "text": [
      "_________________________________________________________________\n",
      "Layer (type)                 Output Shape              Param #   \n",
      "=================================================================\n",
      "flatten_27 (Flatten)         (None, 880)               0         \n",
      "_________________________________________________________________\n",
      "dense_81 (Dense)             (None, 1024)              902144    \n",
      "_________________________________________________________________\n",
      "dense_82 (Dense)             (None, 1024)              1049600   \n",
      "_________________________________________________________________\n",
      "dropout_27 (Dropout)         (None, 1024)              0         \n",
      "_________________________________________________________________\n",
      "dense_83 (Dense)             (None, 30)                30750     \n",
      "=================================================================\n",
      "Total params: 1,982,494\n",
      "Trainable params: 1,982,494\n",
      "Non-trainable params: 0\n",
      "_________________________________________________________________\n"
     ]
    }
   ],
   "source": [
    "best_model=build_model(hidden1,hidden2)\n",
    "best_model.summary()"
   ]
  },
  {
   "cell_type": "code",
   "execution_count": 29,
   "metadata": {
    "ExecuteTime": {
     "end_time": "2019-04-10T08:28:35.294903Z",
     "start_time": "2019-04-10T08:28:35.263528Z"
    }
   },
   "outputs": [],
   "source": [
    "Y=encoder.transform(labels)"
   ]
  },
  {
   "cell_type": "code",
   "execution_count": 31,
   "metadata": {
    "ExecuteTime": {
     "end_time": "2019-04-10T09:26:01.539340Z",
     "start_time": "2019-04-10T08:29:00.542966Z"
    }
   },
   "outputs": [
    {
     "name": "stdout",
     "output_type": "stream",
     "text": [
      "\t0: TRAIN loss 15.1091,  acc 0.0582 || VAL loss 14.5679, acc 0.0919\n",
      "\t10: TRAIN loss 1.8177,  acc 0.4774 || VAL loss 1.4025, acc 0.6019\n",
      "\t20: TRAIN loss 0.7398,  acc 0.7720 || VAL loss 0.7509, acc 0.7833\n",
      "\t30: TRAIN loss 0.4331,  acc 0.8611 || VAL loss 0.6143, acc 0.8315\n",
      "\t40: TRAIN loss 0.2756,  acc 0.9107 || VAL loss 0.6079, acc 0.8457\n",
      "\t50: TRAIN loss 0.1978,  acc 0.9357 || VAL loss 0.6190, acc 0.8528\n",
      "\t60: TRAIN loss 0.1419,  acc 0.9544 || VAL loss 0.6181, acc 0.8625\n",
      "\t70: TRAIN loss 0.1133,  acc 0.9631 || VAL loss 0.6583, acc 0.8605\n",
      "\t80: TRAIN loss 0.0886,  acc 0.9723 || VAL loss 0.6785, acc 0.8685\n",
      "\t90: TRAIN loss 0.0795,  acc 0.9753 || VAL loss 0.6777, acc 0.8715\n",
      "\t100: TRAIN loss 0.0713,  acc 0.9765 || VAL loss 0.7095, acc 0.8678\n",
      "\t110: TRAIN loss 0.0616,  acc 0.9798 || VAL loss 0.7316, acc 0.8693\n",
      "\t120: TRAIN loss 0.0586,  acc 0.9812 || VAL loss 0.7485, acc 0.8727\n",
      "\t130: TRAIN loss 0.0518,  acc 0.9837 || VAL loss 0.7640, acc 0.8684\n",
      "\t140: TRAIN loss 0.0467,  acc 0.9851 || VAL loss 0.7922, acc 0.8699\n",
      "\t150: TRAIN loss 0.0441,  acc 0.9859 || VAL loss 0.7740, acc 0.8747\n",
      "\t160: TRAIN loss 0.0444,  acc 0.9860 || VAL loss 0.8181, acc 0.8685\n",
      "\t170: TRAIN loss 0.0402,  acc 0.9871 || VAL loss 0.8051, acc 0.8727\n",
      "\t180: TRAIN loss 0.0324,  acc 0.9899 || VAL loss 0.8459, acc 0.8741\n",
      "\t190: TRAIN loss 0.0317,  acc 0.9898 || VAL loss 0.8975, acc 0.8690\n"
     ]
    }
   ],
   "source": [
    "best_result=best_model.fit(features,Y,validation_data=(features_test,Y_test),\n",
    "                  epochs=nepochs,batch_size=100,\n",
    "                  verbose=0,callbacks=[ReportCallback(10,log_file)])"
   ]
  },
  {
   "cell_type": "code",
   "execution_count": 32,
   "metadata": {
    "ExecuteTime": {
     "end_time": "2019-04-10T09:26:01.820862Z",
     "start_time": "2019-04-10T09:26:01.540516Z"
    }
   },
   "outputs": [
    {
     "data": {
      "text/plain": [
       "<matplotlib.legend.Legend at 0x7ff021ece978>"
      ]
     },
     "execution_count": 32,
     "metadata": {},
     "output_type": "execute_result"
    },
    {
     "data": {
      "image/png": "[encoded data removed]",
      "text/plain": [
       "<matplotlib.figure.Figure at 0x7ff03b58b048>"
      ]
     },
     "metadata": {},
     "output_type": "display_data"
    }
   ],
   "source": [
    "history=best_result.history\n",
    "plt.figure(figsize=(12,6))\n",
    "plt.subplot(1, 2, 1)\n",
    "plt.plot(history[\"loss\"],label=\"loss\")\n",
    "plt.plot(history[\"val_loss\"],label=\"valuation loss\")\n",
    "plt.title('Loss')\n",
    "plt.xlabel('epoch')\n",
    "plt.legend()\n",
    "\n",
    "plt.subplot(1, 2, 2)\n",
    "plt.plot(history[\"acc\"],label=\"accuracy\")\n",
    "plt.plot(history[\"val_acc\"],label=\"valuation accuracy\")\n",
    "plt.title('Accuracy')\n",
    "plt.xlabel('epoch')\n",
    "plt.legend()"
   ]
  },
  {
   "cell_type": "code",
   "execution_count": 34,
   "metadata": {
    "ExecuteTime": {
     "end_time": "2019-04-10T09:27:01.429024Z",
     "start_time": "2019-04-10T09:27:00.718112Z"
    }
   },
   "outputs": [
    {
     "data": {
      "text/plain": [
       "0.8727019928935579"
      ]
     },
     "execution_count": 34,
     "metadata": {},
     "output_type": "execute_result"
    }
   ],
   "source": [
    "Y_pred=np.argmax(best_model.predict(features_test),axis=1)\n",
    "np.mean(Y_pred==Y_test)"
   ]
  },
  {
   "cell_type": "code",
   "execution_count": null,
   "metadata": {},
   "outputs": [],
   "source": []
  }
 ],
 "metadata": {
  "kernelspec": {
   "display_name": "Python 3",
   "language": "python",
   "name": "python3"
  },
  "language_info": {
   "codemirror_mode": {
    "name": "ipython",
    "version": 3
   },
   "file_extension": ".py",
   "mimetype": "text/x-python",
   "name": "python",
   "nbconvert_exporter": "python",
   "pygments_lexer": "ipython3",
   "version": "3.6.4"
  },
  "toc": {
   "base_numbering": 1,
   "nav_menu": {},
   "number_sections": true,
   "sideBar": true,
   "skip_h1_title": true,
   "title_cell": "Table of Contents",
   "title_sidebar": "Contents",
   "toc_cell": false,
   "toc_position": {},
   "toc_section_display": "block",
   "toc_window_display": false
  }
 },
 "nbformat": 4,
 "nbformat_minor": 2
}
