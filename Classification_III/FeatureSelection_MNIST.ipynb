{
 "cells": [
  {
   "cell_type": "markdown",
   "metadata": {},
   "source": [
    "# Feature Selection for Image Data"
   ]
  },
  {
   "cell_type": "markdown",
   "metadata": {},
   "source": [
    "## Preliminaries"
   ]
  },
  {
   "cell_type": "markdown",
   "metadata": {},
   "source": [
    "### Imports"
   ]
  },
  {
   "cell_type": "code",
   "execution_count": 1,
   "metadata": {
    "ExecuteTime": {
     "end_time": "2018-03-02T03:22:07.580874Z",
     "start_time": "2018-03-02T03:22:03.360698Z"
    }
   },
   "outputs": [],
   "source": [
    "import os\n",
    "import pickle \n",
    "\n",
    "import numpy as np\n",
    "import matplotlib.pyplot as plt\n",
    "from sklearn import metrics\n",
    "from sklearn.linear_model import LogisticRegression\n",
    "from sklearn.model_selection import train_test_split\n",
    "\n",
    "from scipy import ndimage\n",
    "from skimage.measure import block_reduce\n",
    "from skimage.filters import sobel_h,sobel_v\n",
    "\n",
    "%matplotlib inline\n",
    "import gzip\n",
    "\n",
    "import sys\n",
    "sys.path.append(\"../..\")\n",
    "from E4525_ML import mnist\n",
    "from E4525_ML import plots\n",
    "from E4525_ML.multiclass_logistic import LogisticGDClassifier"
   ]
  },
  {
   "cell_type": "markdown",
   "metadata": {},
   "source": [
    "### Random Seed"
   ]
  },
  {
   "cell_type": "code",
   "execution_count": 2,
   "metadata": {
    "ExecuteTime": {
     "end_time": "2018-03-02T03:22:07.587837Z",
     "start_time": "2018-03-02T03:22:07.581823Z"
    }
   },
   "outputs": [],
   "source": [
    "seed=4841\n",
    "np.random.seed(seed)"
   ]
  },
  {
   "cell_type": "markdown",
   "metadata": {},
   "source": [
    "### Data"
   ]
  },
  {
   "cell_type": "code",
   "execution_count": 3,
   "metadata": {
    "ExecuteTime": {
     "end_time": "2018-03-02T03:22:07.620904Z",
     "start_time": "2018-03-02T03:22:07.589843Z"
    }
   },
   "outputs": [],
   "source": [
    "data_dir=r\"../../raw/MNIST/\""
   ]
  },
  {
   "cell_type": "code",
   "execution_count": 4,
   "metadata": {
    "ExecuteTime": {
     "end_time": "2018-03-02T03:22:07.637953Z",
     "start_time": "2018-03-02T03:22:07.622408Z"
    }
   },
   "outputs": [],
   "source": [
    "model_dir=f\"../../data/models\""
   ]
  },
  {
   "cell_type": "code",
   "execution_count": 5,
   "metadata": {
    "ExecuteTime": {
     "end_time": "2018-03-02T03:22:08.295855Z",
     "start_time": "2018-03-02T03:22:07.639960Z"
    }
   },
   "outputs": [
    {
     "name": "stdout",
     "output_type": "stream",
     "text": [
      "(60000, 28, 28) (60000,)\n"
     ]
    }
   ],
   "source": [
    "    images_filename=data_dir+\"train-images-idx3-ubyte.gz\"\n",
    "    labels_filename=data_dir+\"train-labels-idx1-ubyte.gz\"\n",
    "\n",
    "    test_images_filename=data_dir+\"t10k-images-idx3-ubyte.gz\"\n",
    "    test_labels_filename=data_dir+\"t10k-labels-idx1-ubyte.gz\"\n",
    "\n",
    "    images=mnist.read_images(images_filename)\n",
    "    labels=mnist.read_labels(labels_filename)\n",
    "    \n",
    "    images_test=mnist.read_images(test_images_filename)\n",
    "    labels_test=mnist.read_labels(test_labels_filename)\n",
    "    \n",
    "    print(images.shape,labels.shape)"
   ]
  },
  {
   "cell_type": "code",
   "execution_count": 6,
   "metadata": {
    "ExecuteTime": {
     "end_time": "2018-03-02T03:22:08.469325Z",
     "start_time": "2018-03-02T03:22:08.298862Z"
    }
   },
   "outputs": [
    {
     "name": "stdout",
     "output_type": "stream",
     "text": [
      "(51000, 28, 28) (9000, 28, 28) (51000,) (9000,)\n"
     ]
    }
   ],
   "source": [
    "images_train,images_val,labels_train,labels_val=train_test_split(images,labels,test_size=0.15)\n",
    "print(images_train.shape,images_val.shape,labels_train.shape,labels_val.shape)"
   ]
  },
  {
   "cell_type": "code",
   "execution_count": 7,
   "metadata": {
    "ExecuteTime": {
     "end_time": "2018-03-02T03:22:08.482360Z",
     "start_time": "2018-03-02T03:22:08.473336Z"
    }
   },
   "outputs": [
    {
     "name": "stdout",
     "output_type": "stream",
     "text": [
      "60000 28 28\n"
     ]
    }
   ],
   "source": [
    "nimages=images.shape[0]\n",
    "nrows=images.shape[1]\n",
    "ncols=images.shape[2]\n",
    "print(nimages,nrows,ncols)"
   ]
  },
  {
   "cell_type": "markdown",
   "metadata": {
    "ExecuteTime": {
     "end_time": "2017-11-18T03:40:09.088073Z",
     "start_time": "2017-11-18T03:38:43.402Z"
    }
   },
   "source": [
    "## Feature Selection for Image Data"
   ]
  },
  {
   "cell_type": "markdown",
   "metadata": {},
   "source": [
    "There are standard **feature** detection algorithms used in image Processing"
   ]
  },
  {
   "cell_type": "markdown",
   "metadata": {},
   "source": [
    "Simple linear Sobel Filters for edge detection"
   ]
  },
  {
   "cell_type": "code",
   "execution_count": 8,
   "metadata": {
    "ExecuteTime": {
     "end_time": "2018-03-02T03:22:08.499405Z",
     "start_time": "2018-03-02T03:22:08.485368Z"
    }
   },
   "outputs": [],
   "source": [
    "idx=0\n",
    "image=images_train[idx]\n",
    "label=labels_train[idx]\n",
    "edge_x=sobel_h(image)\n",
    "edge_y=sobel_v(image)\n"
   ]
  },
  {
   "cell_type": "code",
   "execution_count": 9,
   "metadata": {
    "ExecuteTime": {
     "end_time": "2018-03-02T03:22:08.729546Z",
     "start_time": "2018-03-02T03:22:08.501411Z"
    }
   },
   "outputs": [
    {
     "data": {
      "text/plain": [
       "<matplotlib.image.AxesImage at 0x7fe63cae07b8>"
      ]
     },
     "execution_count": 9,
     "metadata": {},
     "output_type": "execute_result"
    },
    {
     "data": {
      "image/png": "[encoded data removed]",
      "text/plain": [
       "<matplotlib.figure.Figure at 0x7fe6745e04a8>"
      ]
     },
     "metadata": {},
     "output_type": "display_data"
    }
   ],
   "source": [
    "idx=4\n",
    "image=images_train[idx]\n",
    "image.shape\n",
    "plt.imshow(image,cmap=\"gray\")"
   ]
  },
  {
   "cell_type": "code",
   "execution_count": 10,
   "metadata": {
    "ExecuteTime": {
     "end_time": "2018-03-02T03:22:08.737921Z",
     "start_time": "2018-03-02T03:22:08.731551Z"
    }
   },
   "outputs": [
    {
     "data": {
      "text/plain": [
       "(array([ 1.00000000e+00,  9.23879533e-01,  7.07106781e-01,  3.82683432e-01,\n",
       "         6.12323400e-17, -3.82683432e-01, -7.07106781e-01, -9.23879533e-01]),\n",
       " array([0.        , 0.38268343, 0.70710678, 0.92387953, 1.        ,\n",
       "        0.92387953, 0.70710678, 0.38268343]))"
      ]
     },
     "execution_count": 10,
     "metadata": {},
     "output_type": "execute_result"
    }
   ],
   "source": [
    "theta=np.linspace(0,np.pi,8,endpoint=False)\n",
    "v_x=np.cos(theta)\n",
    "v_y=np.sin(theta)\n",
    "v_x,v_y    "
   ]
  },
  {
   "cell_type": "code",
   "execution_count": 11,
   "metadata": {
    "ExecuteTime": {
     "end_time": "2018-03-02T03:22:08.753963Z",
     "start_time": "2018-03-02T03:22:08.739927Z"
    }
   },
   "outputs": [
    {
     "data": {
      "text/plain": [
       "(10, 28, 28)"
      ]
     },
     "execution_count": 11,
     "metadata": {},
     "output_type": "execute_result"
    }
   ],
   "source": [
    "edge_x=np.empty_like(images_train[:10])\n",
    "edge_y=np.empty_like(images_train[:10])\n",
    "for idx2,image in enumerate(images_train[:10]):\n",
    "        edge_x[idx2]=sobel_h(image)\n",
    "        edge_y[idx2]=sobel_v(image)\n",
    "edge_x.shape"
   ]
  },
  {
   "cell_type": "code",
   "execution_count": 12,
   "metadata": {
    "ExecuteTime": {
     "end_time": "2018-03-02T03:22:09.072846Z",
     "start_time": "2018-03-02T03:22:08.755969Z"
    }
   },
   "outputs": [
    {
     "data": {
      "text/plain": [
       "<matplotlib.image.AxesImage at 0x7fe63ca1a7b8>"
      ]
     },
     "execution_count": 12,
     "metadata": {},
     "output_type": "execute_result"
    },
    {
     "data": {
      "image/png": "[encoded data removed]",
      "text/plain": [
       "<matplotlib.figure.Figure at 0x7fe63cac08d0>"
      ]
     },
     "metadata": {},
     "output_type": "display_data"
    }
   ],
   "source": [
    "# Two subplots, unpack the axes array immediately\n",
    "f, (ax1,ax2) = plt.subplots(1,2, sharey=True,figsize=(10,5))\n",
    "ax1.imshow(edge_x[idx],cmap=\"gray\")\n",
    "ax2.imshow(edge_y[idx],cmap=\"gray\")\n",
    "\n"
   ]
  },
  {
   "cell_type": "code",
   "execution_count": 13,
   "metadata": {
    "ExecuteTime": {
     "end_time": "2018-03-02T03:22:09.081870Z",
     "start_time": "2018-03-02T03:22:09.074852Z"
    }
   },
   "outputs": [
    {
     "data": {
      "text/plain": [
       "(10, 28, 28, 8)"
      ]
     },
     "execution_count": 13,
     "metadata": {},
     "output_type": "execute_result"
    }
   ],
   "source": [
    "edges= edge_x[:,:,:,np.newaxis]*v_x+edge_y[:,:,:,np.newaxis]*v_y\n",
    "edges.shape"
   ]
  },
  {
   "cell_type": "code",
   "execution_count": 14,
   "metadata": {
    "ExecuteTime": {
     "end_time": "2018-03-02T03:22:09.975879Z",
     "start_time": "2018-03-02T03:22:09.083876Z"
    }
   },
   "outputs": [
    {
     "data": {
      "image/png": "[encoded data removed]",
      "text/plain": [
       "<matplotlib.figure.Figure at 0x7fe63ca0b6a0>"
      ]
     },
     "metadata": {},
     "output_type": "display_data"
    }
   ],
   "source": [
    "# Two subplots, unpack the axes array immediately\n",
    "f, axes = plt.subplots(4, 2, sharey=True,figsize=(18,18))\n",
    "for r in range(axes.shape[0]):\n",
    "    for c in range(axes.shape[1]):\n",
    "        idx2=r*2+c\n",
    "        axes[r,c].imshow(edges[idx,:,:,idx2],cmap=\"gray\")"
   ]
  },
  {
   "cell_type": "code",
   "execution_count": 15,
   "metadata": {
    "ExecuteTime": {
     "end_time": "2018-03-02T03:22:09.986909Z",
     "start_time": "2018-03-02T03:22:09.979890Z"
    }
   },
   "outputs": [
    {
     "data": {
      "text/plain": [
       "(10, 28, 28, 8)"
      ]
     },
     "execution_count": 15,
     "metadata": {},
     "output_type": "execute_result"
    }
   ],
   "source": [
    "features= np.maximum(edges,0) \n",
    "features.shape"
   ]
  },
  {
   "cell_type": "code",
   "execution_count": 16,
   "metadata": {
    "ExecuteTime": {
     "end_time": "2018-03-02T03:22:10.884991Z",
     "start_time": "2018-03-02T03:22:09.989916Z"
    }
   },
   "outputs": [
    {
     "data": {
      "image/png": "[encoded data removed]",
      "text/plain": [
       "<matplotlib.figure.Figure at 0x7fe63c6d26d8>"
      ]
     },
     "metadata": {},
     "output_type": "display_data"
    }
   ],
   "source": [
    "# Two subplots, unpack the axes array immediately\n",
    "f, axes = plt.subplots(4, 2, sharey=True,figsize=(18,18))\n",
    "for r in range(axes.shape[0]):\n",
    "    for c in range(axes.shape[1]):\n",
    "        idx2=r*2+c\n",
    "        axes[r,c].imshow(features[idx,:,:,idx2],cmap=\"gray\")"
   ]
  },
  {
   "cell_type": "code",
   "execution_count": 17,
   "metadata": {
    "ExecuteTime": {
     "end_time": "2018-03-02T03:22:10.894016Z",
     "start_time": "2018-03-02T03:22:10.885993Z"
    }
   },
   "outputs": [
    {
     "data": {
      "text/plain": [
       "(10, 7, 7, 8)"
      ]
     },
     "execution_count": 17,
     "metadata": {},
     "output_type": "execute_result"
    }
   ],
   "source": [
    "block_size=4\n",
    "block=(1,block_size,block_size,1)\n",
    "block_features=block_reduce(features,block,np.mean)\n",
    "block_features.shape"
   ]
  },
  {
   "cell_type": "code",
   "execution_count": 18,
   "metadata": {
    "ExecuteTime": {
     "end_time": "2018-03-02T03:22:11.902428Z",
     "start_time": "2018-03-02T03:22:10.897023Z"
    }
   },
   "outputs": [
    {
     "data": {
      "image/png": "[encoded data removed]",
      "text/plain": [
       "<matplotlib.figure.Figure at 0x7fe63c4ab470>"
      ]
     },
     "metadata": {},
     "output_type": "display_data"
    }
   ],
   "source": [
    "# Two subplots, unpack the axes array immediately\n",
    "f, axes = plt.subplots(4, 2, sharey=True,figsize=(18,18))\n",
    "for r in range(axes.shape[0]):\n",
    "    for c in range(axes.shape[1]):\n",
    "        idx2=r*2+c\n",
    "        axes[r,c].imshow(block_features[idx,:,:,idx2],cmap=\"gray\")"
   ]
  },
  {
   "cell_type": "code",
   "execution_count": 19,
   "metadata": {
    "ExecuteTime": {
     "end_time": "2018-03-02T03:22:11.923485Z",
     "start_time": "2018-03-02T03:22:11.906437Z"
    }
   },
   "outputs": [],
   "source": [
    "def image_features(images,block_size,orientations):\n",
    "    theta=np.linspace(0,np.pi,orientations,endpoint=False)\n",
    "    v_x=np.cos(theta)\n",
    "    v_y=np.sin(theta)\n",
    "    edge_x=np.empty_like(images)\n",
    "    edge_y=np.empty_like(images)\n",
    "    for idx,image in enumerate(images):\n",
    "        edge_x[idx]=sobel_h(image)\n",
    "        edge_y[idx]=sobel_v(image)\n",
    "    #print(\"edge_x\",edge_x.shape,\"edge_y\",edge_y.shape)\n",
    "    edges= edge_x[:,:,:,np.newaxis]*v_x+edge_y[:,:,:,np.newaxis]*v_y\n",
    "    #print(\"edges\",edges.shape)\n",
    "    features=np.maximum(edges,0)\n",
    "    block=(1,block_size,block_size,1)\n",
    "    block_features=block_reduce(features,block,np.mean)\n",
    "    #print(\"block_features\",block_features.shape)\n",
    "    return block_features.reshape(len(images),-1)"
   ]
  },
  {
   "cell_type": "code",
   "execution_count": 20,
   "metadata": {
    "ExecuteTime": {
     "end_time": "2018-03-02T03:22:31.358861Z",
     "start_time": "2018-03-02T03:22:11.928002Z"
    }
   },
   "outputs": [],
   "source": [
    "block_size=4\n",
    "orientations=8\n",
    "features_train=image_features(images_train,block_size,orientations)\n",
    "features_val=image_features(images_val,block_size,orientations)"
   ]
  },
  {
   "cell_type": "code",
   "execution_count": 21,
   "metadata": {
    "ExecuteTime": {
     "end_time": "2018-03-02T03:22:32.340142Z",
     "start_time": "2018-03-02T03:22:31.360368Z"
    }
   },
   "outputs": [
    {
     "data": {
      "image/png": "[encoded data removed]",
      "text/plain": [
       "<matplotlib.figure.Figure at 0x7fe63c858dd8>"
      ]
     },
     "metadata": {},
     "output_type": "display_data"
    }
   ],
   "source": [
    "# Two subplots, unpack the axes array immediately\n",
    "f, axes = plt.subplots(4, 2, sharey=True,figsize=(18,18))\n",
    "for r in range(axes.shape[0]):\n",
    "    for c in range(axes.shape[1]):\n",
    "        idx2=r*2+c\n",
    "        features=features_train[idx].reshape(7,7,8)\n",
    "        axes[r,c].imshow(features[:,:,idx2],cmap=\"gray\")\n"
   ]
  },
  {
   "cell_type": "markdown",
   "metadata": {},
   "source": [
    "##  Logistic Classifier with enhanced Features"
   ]
  },
  {
   "cell_type": "markdown",
   "metadata": {},
   "source": [
    "Let's try our classifier on a small training set, and a medium size block"
   ]
  },
  {
   "cell_type": "markdown",
   "metadata": {
    "ExecuteTime": {
     "end_time": "2017-11-18T04:38:16.693958Z",
     "start_time": "2017-11-18T04:38:16.688943Z"
    }
   },
   "source": [
    "So it seems a block size of 2 or 3 is optimal, and with block size of 1 we overfit."
   ]
  },
  {
   "cell_type": "code",
   "execution_count": 22,
   "metadata": {
    "ExecuteTime": {
     "end_time": "2018-03-02T03:22:32.349126Z",
     "start_time": "2018-03-02T03:22:32.343110Z"
    }
   },
   "outputs": [],
   "source": [
    "X=features_train\n",
    "Y=labels_train\n",
    "X_val=features_val\n",
    "Y_val=labels_val\n",
    "    "
   ]
  },
  {
   "cell_type": "code",
   "execution_count": 23,
   "metadata": {
    "ExecuteTime": {
     "end_time": "2018-03-02T03:22:48.111559Z",
     "start_time": "2018-03-02T03:22:32.354139Z"
    }
   },
   "outputs": [
    {
     "name": "stdout",
     "output_type": "stream",
     "text": [
      "\t 0 Loss = 2341.867572777478 Train_Accuracy 0.048 Evaluation Loss = 2345.8338879717166 Accuracy = 0.039\n",
      "\t 10 Loss = 299.81508300165103 Train_Accuracy 0.927 Evaluation Loss = 341.84898620750084 Accuracy = 0.912\n",
      "\t 20 Loss = 221.0194358939811 Train_Accuracy 0.95 Evaluation Loss = 284.6089061539158 Accuracy = 0.926\n",
      "\t 30 Loss = 223.58593385090586 Train_Accuracy 0.946 Evaluation Loss = 220.644646536428 Accuracy = 0.947\n",
      "\t 40 Loss = 183.76029060579322 Train_Accuracy 0.958 Evaluation Loss = 206.27367660466234 Accuracy = 0.943\n",
      "\t 50 Loss = 182.58304289910285 Train_Accuracy 0.951 Evaluation Loss = 192.62491968327993 Accuracy = 0.948\n",
      "\t 60 Loss = 175.03186737579122 Train_Accuracy 0.95 Evaluation Loss = 183.2591855393019 Accuracy = 0.954\n",
      "\t 70 Loss = 146.44314230995184 Train_Accuracy 0.963 Evaluation Loss = 166.86353735438257 Accuracy = 0.962\n",
      "\t 80 Loss = 138.8537255146261 Train_Accuracy 0.964 Evaluation Loss = 143.95067326812497 Accuracy = 0.96\n",
      "\t 90 Loss = 138.75207593823666 Train_Accuracy 0.959 Evaluation Loss = 146.49775053517072 Accuracy = 0.969\n",
      "\t 99 Loss = 143.0215572623446 Train_Accuracy 0.962 Evaluation Loss = 148.75196093496044 Accuracy = 0.959\n",
      "accuracy 0.9597777777777777\n"
     ]
    },
    {
     "name": "stderr",
     "output_type": "stream",
     "text": [
      "/home/manel/anaconda3/lib/python3.6/site-packages/sklearn/preprocessing/label.py:151: DeprecationWarning: The truth value of an empty array is ambiguous. Returning False, but in future this will result in an error. Use `array.size > 0` to check that an array is not empty.\n",
      "  if diff:\n"
     ]
    }
   ],
   "source": [
    "model=LogisticGDClassifier(penalty=0,learning_rate=0.001,max_iter=100,tol=1e-8)\n",
    "model.fit(X,Y,X_val,Y_val)\n",
    "Y_predicted=model.predict(X_val)\n",
    "print(\"accuracy\",np.mean(Y_predicted==Y_val))"
   ]
  },
  {
   "cell_type": "markdown",
   "metadata": {},
   "source": [
    "Accuracy is better than naive model"
   ]
  },
  {
   "cell_type": "markdown",
   "metadata": {},
   "source": [
    "### Image Feature Model"
   ]
  },
  {
   "cell_type": "code",
   "execution_count": 24,
   "metadata": {
    "ExecuteTime": {
     "end_time": "2018-03-02T03:25:22.848704Z",
     "start_time": "2018-03-02T03:22:48.113563Z"
    }
   },
   "outputs": [
    {
     "name": "stdout",
     "output_type": "stream",
     "text": [
      "\t 0 Loss = 2305.23929185777 Train_Accuracy 0.063 Evaluation Loss = 2305.24747191061 Accuracy = 0.082\n",
      "\t 50 Loss = 121.55029951492858 Train_Accuracy 0.971 Evaluation Loss = 156.2413993441216 Accuracy = 0.949\n",
      "\t 100 Loss = 91.06336684330059 Train_Accuracy 0.981 Evaluation Loss = 108.69924640561081 Accuracy = 0.976\n",
      "\t 150 Loss = 89.05184201701212 Train_Accuracy 0.978 Evaluation Loss = 91.94168886828383 Accuracy = 0.972\n",
      "\t 200 Loss = 92.22332511332684 Train_Accuracy 0.975 Evaluation Loss = 95.38937514321628 Accuracy = 0.969\n",
      "\t 250 Loss = 79.46394211674456 Train_Accuracy 0.977 Evaluation Loss = 76.09854307068917 Accuracy = 0.981\n",
      "\t 300 Loss = 68.71470731602913 Train_Accuracy 0.985 Evaluation Loss = 75.03152053167108 Accuracy = 0.974\n",
      "\t 350 Loss = 70.38973677218736 Train_Accuracy 0.979 Evaluation Loss = 89.274399864402 Accuracy = 0.974\n",
      "\t 400 Loss = 54.58368178394519 Train_Accuracy 0.983 Evaluation Loss = 52.52251112774329 Accuracy = 0.98\n",
      "\t 450 Loss = 64.76509341629864 Train_Accuracy 0.982 Evaluation Loss = 73.99124998820119 Accuracy = 0.972\n",
      "\t 499 Loss = 74.28303682112363 Train_Accuracy 0.979 Evaluation Loss = 64.5476412701772 Accuracy = 0.984\n"
     ]
    },
    {
     "name": "stderr",
     "output_type": "stream",
     "text": [
      "/home/manel/anaconda3/lib/python3.6/site-packages/sklearn/preprocessing/label.py:151: DeprecationWarning: The truth value of an empty array is ambiguous. Returning False, but in future this will result in an error. Use `array.size > 0` to check that an array is not empty.\n",
      "  if diff:\n"
     ]
    },
    {
     "data": {
      "text/plain": [
       "0.9755555555555555"
      ]
     },
     "execution_count": 24,
     "metadata": {},
     "output_type": "execute_result"
    }
   ],
   "source": [
    "base_model=LogisticGDClassifier(penalty=0,learning_rate=0.001,max_iter=500,tol=1e-8)\n",
    "model=mnist.ImageFeatureModel(base_model,3,8)\n",
    "model.fit(images_train,labels_train,images_val,labels_val)\n",
    "Y_pred=model.predict(images_val)\n",
    "np.average(Y_pred==labels_val)"
   ]
  },
  {
   "cell_type": "markdown",
   "metadata": {
    "ExecuteTime": {
     "end_time": "2017-11-18T04:39:27.860516Z",
     "start_time": "2017-11-18T04:39:27.844820Z"
    }
   },
   "source": [
    "### Effect of Block Size"
   ]
  },
  {
   "cell_type": "markdown",
   "metadata": {
    "collapsed": true
   },
   "source": [
    "Let's investigate impact of Block size"
   ]
  },
  {
   "cell_type": "code",
   "execution_count": 25,
   "metadata": {
    "ExecuteTime": {
     "end_time": "2018-03-02T03:25:22.853718Z",
     "start_time": "2018-03-02T03:25:22.850709Z"
    }
   },
   "outputs": [],
   "source": [
    "sizes=np.array([6,5,4,3,2,1])"
   ]
  },
  {
   "cell_type": "code",
   "execution_count": 26,
   "metadata": {
    "ExecuteTime": {
     "end_time": "2018-03-02T04:08:28.166761Z",
     "start_time": "2018-03-02T03:25:22.855723Z"
    }
   },
   "outputs": [
    {
     "name": "stdout",
     "output_type": "stream",
     "text": [
      "6 ...\n",
      "\t 0 Loss = 2293.9338058253607 Train_Accuracy 0.215 Evaluation Loss = 2294.0516763435553 Accuracy = 0.215\n",
      "\t 50 Loss = 281.77920014069605 Train_Accuracy 0.933 Evaluation Loss = 287.20669421327017 Accuracy = 0.933\n",
      "\t 100 Loss = 224.453461431336 Train_Accuracy 0.946 Evaluation Loss = 235.22015693123427 Accuracy = 0.929\n",
      "\t 150 Loss = 186.02484089897814 Train_Accuracy 0.952 Evaluation Loss = 199.9250914692837 Accuracy = 0.95\n",
      "\t 200 Loss = 196.42646294857758 Train_Accuracy 0.947 Evaluation Loss = 208.7559291791421 Accuracy = 0.941\n",
      "\t 250 Loss = 192.01460751760882 Train_Accuracy 0.948 Evaluation Loss = 144.1240582101243 Accuracy = 0.967\n",
      "\t 300 Loss = 178.8749815585036 Train_Accuracy 0.953 Evaluation Loss = 188.16401030317843 Accuracy = 0.943\n",
      "\t 350 Loss = 166.53464336253052 Train_Accuracy 0.948 Evaluation Loss = 201.11455772322955 Accuracy = 0.938\n",
      "\t 400 Loss = 174.82439354396948 Train_Accuracy 0.95 Evaluation Loss = 147.12601926025906 Accuracy = 0.969\n",
      "\t 450 Loss = 160.38291056557307 Train_Accuracy 0.954 Evaluation Loss = 135.0771860142019 Accuracy = 0.967\n",
      "\t 499 Loss = 173.6362981541616 Train_Accuracy 0.952 Evaluation Loss = 141.57402689039134 Accuracy = 0.953\n"
     ]
    },
    {
     "name": "stderr",
     "output_type": "stream",
     "text": [
      "/home/manel/anaconda3/lib/python3.6/site-packages/sklearn/preprocessing/label.py:151: DeprecationWarning: The truth value of an empty array is ambiguous. Returning False, but in future this will result in an error. Use `array.size > 0` to check that an array is not empty.\n",
      "  if diff:\n",
      "/home/manel/anaconda3/lib/python3.6/site-packages/sklearn/preprocessing/label.py:151: DeprecationWarning: The truth value of an empty array is ambiguous. Returning False, but in future this will result in an error. Use `array.size > 0` to check that an array is not empty.\n",
      "  if diff:\n"
     ]
    },
    {
     "name": "stdout",
     "output_type": "stream",
     "text": [
      "5 ...\n",
      "\t 0 Loss = 2297.534175058605 Train_Accuracy 0.073 Evaluation Loss = 2296.4248368064127 Accuracy = 0.07\n",
      "\t 50 Loss = 212.98408226470286 Train_Accuracy 0.947 Evaluation Loss = 238.60386264054813 Accuracy = 0.947\n",
      "\t 100 Loss = 210.8693538373651 Train_Accuracy 0.941 Evaluation Loss = 191.72122545957956 Accuracy = 0.943\n",
      "\t 150 Loss = 193.34148806997194 Train_Accuracy 0.95 Evaluation Loss = 166.71086535204017 Accuracy = 0.947\n",
      "\t 200 Loss = 143.1700498980607 Train_Accuracy 0.961 Evaluation Loss = 157.63012431090232 Accuracy = 0.958\n",
      "\t 250 Loss = 148.67657799075963 Train_Accuracy 0.963 Evaluation Loss = 149.32669820848395 Accuracy = 0.954\n",
      "\t 300 Loss = 153.3350453277426 Train_Accuracy 0.96 Evaluation Loss = 132.57266780995914 Accuracy = 0.965\n",
      "\t 350 Loss = 113.03105214504686 Train_Accuracy 0.968 Evaluation Loss = 112.85916448183775 Accuracy = 0.969\n",
      "\t 400 Loss = 108.43893691690965 Train_Accuracy 0.968 Evaluation Loss = 97.86447888743379 Accuracy = 0.97\n",
      "\t 450 Loss = 113.51750796719321 Train_Accuracy 0.966 Evaluation Loss = 129.84142712403514 Accuracy = 0.959\n",
      "\t 499 Loss = 99.04707070083447 Train_Accuracy 0.972 Evaluation Loss = 139.08110121594387 Accuracy = 0.952\n"
     ]
    },
    {
     "name": "stderr",
     "output_type": "stream",
     "text": [
      "/home/manel/anaconda3/lib/python3.6/site-packages/sklearn/preprocessing/label.py:151: DeprecationWarning: The truth value of an empty array is ambiguous. Returning False, but in future this will result in an error. Use `array.size > 0` to check that an array is not empty.\n",
      "  if diff:\n",
      "/home/manel/anaconda3/lib/python3.6/site-packages/sklearn/preprocessing/label.py:151: DeprecationWarning: The truth value of an empty array is ambiguous. Returning False, but in future this will result in an error. Use `array.size > 0` to check that an array is not empty.\n",
      "  if diff:\n"
     ]
    },
    {
     "name": "stdout",
     "output_type": "stream",
     "text": [
      "4 ...\n",
      "\t 0 Loss = 2318.5862844216917 Train_Accuracy 0.108 Evaluation Loss = 2327.780743010424 Accuracy = 0.091\n",
      "\t 50 Loss = 181.62907165218888 Train_Accuracy 0.955 Evaluation Loss = 205.87829060504362 Accuracy = 0.945\n",
      "\t 100 Loss = 129.64620967244616 Train_Accuracy 0.968 Evaluation Loss = 140.35396978794677 Accuracy = 0.973\n",
      "\t 150 Loss = 107.29444290048889 Train_Accuracy 0.971 Evaluation Loss = 144.8587830269708 Accuracy = 0.959\n",
      "\t 200 Loss = 126.07097065190536 Train_Accuracy 0.965 Evaluation Loss = 140.1737263806869 Accuracy = 0.951\n",
      "\t 250 Loss = 95.4561634384371 Train_Accuracy 0.974 Evaluation Loss = 124.07487731971781 Accuracy = 0.965\n",
      "\t 300 Loss = 104.86634792676728 Train_Accuracy 0.975 Evaluation Loss = 108.95877961656132 Accuracy = 0.97\n",
      "\t 350 Loss = 75.35812280658963 Train_Accuracy 0.983 Evaluation Loss = 99.71528451361041 Accuracy = 0.972\n",
      "\t 400 Loss = 91.11946136201924 Train_Accuracy 0.972 Evaluation Loss = 112.28227482922819 Accuracy = 0.975\n",
      "\t 450 Loss = 73.19699134074017 Train_Accuracy 0.983 Evaluation Loss = 110.74289275098903 Accuracy = 0.965\n",
      "\t 499 Loss = 114.39940097262783 Train_Accuracy 0.967 Evaluation Loss = 120.25572159229986 Accuracy = 0.963\n"
     ]
    },
    {
     "name": "stderr",
     "output_type": "stream",
     "text": [
      "/home/manel/anaconda3/lib/python3.6/site-packages/sklearn/preprocessing/label.py:151: DeprecationWarning: The truth value of an empty array is ambiguous. Returning False, but in future this will result in an error. Use `array.size > 0` to check that an array is not empty.\n",
      "  if diff:\n",
      "/home/manel/anaconda3/lib/python3.6/site-packages/sklearn/preprocessing/label.py:151: DeprecationWarning: The truth value of an empty array is ambiguous. Returning False, but in future this will result in an error. Use `array.size > 0` to check that an array is not empty.\n",
      "  if diff:\n"
     ]
    },
    {
     "name": "stdout",
     "output_type": "stream",
     "text": [
      "3 ...\n",
      "\t 0 Loss = 2289.544378581747 Train_Accuracy 0.115 Evaluation Loss = 2290.3480774740283 Accuracy = 0.099\n",
      "\t 50 Loss = 108.83693736059124 Train_Accuracy 0.973 Evaluation Loss = 182.95865287684194 Accuracy = 0.947\n",
      "\t 100 Loss = 110.89537170407763 Train_Accuracy 0.969 Evaluation Loss = 122.17723968087147 Accuracy = 0.959\n",
      "\t 150 Loss = 90.58508018467498 Train_Accuracy 0.973 Evaluation Loss = 91.12741107326298 Accuracy = 0.974\n",
      "\t 200 Loss = 72.2526822200209 Train_Accuracy 0.978 Evaluation Loss = 78.37271253141569 Accuracy = 0.979\n",
      "\t 250 Loss = 75.36547908322419 Train_Accuracy 0.978 Evaluation Loss = 61.38457727349963 Accuracy = 0.983\n",
      "\t 300 Loss = 62.676363386642336 Train_Accuracy 0.982 Evaluation Loss = 72.42622403717422 Accuracy = 0.98\n",
      "\t 350 Loss = 65.05391080540107 Train_Accuracy 0.978 Evaluation Loss = 78.94450683598282 Accuracy = 0.974\n",
      "\t 400 Loss = 58.07467346957803 Train_Accuracy 0.983 Evaluation Loss = 96.87905878202471 Accuracy = 0.967\n",
      "\t 450 Loss = 66.74597557613606 Train_Accuracy 0.979 Evaluation Loss = 74.68580130427074 Accuracy = 0.977\n",
      "\t 499 Loss = 66.09895090820024 Train_Accuracy 0.979 Evaluation Loss = 70.50802225505475 Accuracy = 0.977\n"
     ]
    },
    {
     "name": "stderr",
     "output_type": "stream",
     "text": [
      "/home/manel/anaconda3/lib/python3.6/site-packages/sklearn/preprocessing/label.py:151: DeprecationWarning: The truth value of an empty array is ambiguous. Returning False, but in future this will result in an error. Use `array.size > 0` to check that an array is not empty.\n",
      "  if diff:\n",
      "/home/manel/anaconda3/lib/python3.6/site-packages/sklearn/preprocessing/label.py:151: DeprecationWarning: The truth value of an empty array is ambiguous. Returning False, but in future this will result in an error. Use `array.size > 0` to check that an array is not empty.\n",
      "  if diff:\n"
     ]
    },
    {
     "name": "stdout",
     "output_type": "stream",
     "text": [
      "2 ...\n",
      "\t 0 Loss = 2301.804450770397 Train_Accuracy 0.14 Evaluation Loss = 2306.290956140223 Accuracy = 0.12\n",
      "\t 50 Loss = 88.39673623573921 Train_Accuracy 0.972 Evaluation Loss = 105.18747036683376 Accuracy = 0.971\n",
      "\t 100 Loss = 73.71193624054001 Train_Accuracy 0.978 Evaluation Loss = 81.10222065681678 Accuracy = 0.971\n",
      "\t 150 Loss = 48.65442498573118 Train_Accuracy 0.99 Evaluation Loss = 79.24978901477417 Accuracy = 0.975\n",
      "\t 200 Loss = 68.4050014510359 Train_Accuracy 0.983 Evaluation Loss = 81.77263752303651 Accuracy = 0.973\n",
      "\t 250 Loss = 61.298540979834215 Train_Accuracy 0.984 Evaluation Loss = 81.68186779004338 Accuracy = 0.974\n",
      "\t 300 Loss = 43.713929982919154 Train_Accuracy 0.989 Evaluation Loss = 68.93112506730316 Accuracy = 0.981\n",
      "\t 350 Loss = 49.44857389526081 Train_Accuracy 0.984 Evaluation Loss = 63.247151602656515 Accuracy = 0.98\n",
      "\t 400 Loss = 33.43848451508602 Train_Accuracy 0.993 Evaluation Loss = 58.134558640309095 Accuracy = 0.98\n",
      "\t 450 Loss = 27.24907264069404 Train_Accuracy 0.996 Evaluation Loss = 57.35917889539968 Accuracy = 0.986\n",
      "\t 499 Loss = 27.968013456790178 Train_Accuracy 0.994 Evaluation Loss = 59.56428744279074 Accuracy = 0.985\n"
     ]
    },
    {
     "name": "stderr",
     "output_type": "stream",
     "text": [
      "/home/manel/anaconda3/lib/python3.6/site-packages/sklearn/preprocessing/label.py:151: DeprecationWarning: The truth value of an empty array is ambiguous. Returning False, but in future this will result in an error. Use `array.size > 0` to check that an array is not empty.\n",
      "  if diff:\n",
      "/home/manel/anaconda3/lib/python3.6/site-packages/sklearn/preprocessing/label.py:151: DeprecationWarning: The truth value of an empty array is ambiguous. Returning False, but in future this will result in an error. Use `array.size > 0` to check that an array is not empty.\n",
      "  if diff:\n"
     ]
    },
    {
     "name": "stdout",
     "output_type": "stream",
     "text": [
      "1 ...\n",
      "\t 0 Loss = 2306.2489259403364 Train_Accuracy 0.112 Evaluation Loss = 2323.275127737742 Accuracy = 0.1\n",
      "\t 50 Loss = 43.9775663329136 Train_Accuracy 0.99 Evaluation Loss = 108.82740746746637 Accuracy = 0.963\n",
      "\t 100 Loss = 33.45015771147615 Train_Accuracy 0.993 Evaluation Loss = 89.99115009052701 Accuracy = 0.969\n",
      "\t 150 Loss = 25.099682081290574 Train_Accuracy 0.996 Evaluation Loss = 72.0061583112718 Accuracy = 0.978\n",
      "\t 200 Loss = 22.454249001764637 Train_Accuracy 0.997 Evaluation Loss = 72.08684814623672 Accuracy = 0.976\n",
      "\t 250 Loss = 19.894229789394664 Train_Accuracy 0.997 Evaluation Loss = 81.78968730418404 Accuracy = 0.974\n",
      "\t 300 Loss = 16.536438854884235 Train_Accuracy 0.999 Evaluation Loss = 70.3908662111602 Accuracy = 0.97\n",
      "\t 350 Loss = 16.037788712673862 Train_Accuracy 0.997 Evaluation Loss = 77.36054537627322 Accuracy = 0.978\n",
      "\t 400 Loss = 14.01006581505017 Train_Accuracy 0.999 Evaluation Loss = 53.35574081561582 Accuracy = 0.978\n",
      "\t 450 Loss = 17.376346657128995 Train_Accuracy 0.997 Evaluation Loss = 76.831248583259 Accuracy = 0.973\n",
      "\t 499 Loss = 13.052717980962557 Train_Accuracy 0.998 Evaluation Loss = 73.43822649749546 Accuracy = 0.976\n"
     ]
    },
    {
     "name": "stderr",
     "output_type": "stream",
     "text": [
      "/home/manel/anaconda3/lib/python3.6/site-packages/sklearn/preprocessing/label.py:151: DeprecationWarning: The truth value of an empty array is ambiguous. Returning False, but in future this will result in an error. Use `array.size > 0` to check that an array is not empty.\n",
      "  if diff:\n",
      "/home/manel/anaconda3/lib/python3.6/site-packages/sklearn/preprocessing/label.py:151: DeprecationWarning: The truth value of an empty array is ambiguous. Returning False, but in future this will result in an error. Use `array.size > 0` to check that an array is not empty.\n",
      "  if diff:\n"
     ]
    }
   ],
   "source": [
    "\n",
    "training_error=[]\n",
    "val_error=[]\n",
    "base_model=LogisticGDClassifier(penalty=0,learning_rate=0.001,max_iter=500,tol=1e-8)\n",
    "for size in sizes:\n",
    "    print(size,\"...\")\n",
    "    model=mnist.ImageFeatureModel(base_model,size   ) \n",
    "    model.fit(images_train,labels_train,images_val,labels_val)\n",
    "    Y_pred=model.predict(images_train)\n",
    "    training_error.append(1-np.mean(Y_pred==labels_train))\n",
    "    Y_pred=model.predict(images_val)\n",
    "    val_error.append(1-np.mean(Y_pred==labels_val))"
   ]
  },
  {
   "cell_type": "code",
   "execution_count": 27,
   "metadata": {
    "ExecuteTime": {
     "end_time": "2018-03-02T04:08:28.431479Z",
     "start_time": "2018-03-02T04:08:28.169769Z"
    }
   },
   "outputs": [
    {
     "data": {
      "text/plain": [
       "Text(0,0.5,'Classification Error')"
      ]
     },
     "execution_count": 27,
     "metadata": {},
     "output_type": "execute_result"
    },
    {
     "data": {
      "image/png": "[encoded data removed]",
      "text/plain": [
       "<matplotlib.figure.Figure at 0x7fe63c18d7b8>"
      ]
     },
     "metadata": {},
     "output_type": "display_data"
    }
   ],
   "source": [
    "plt.plot(sizes,training_error,label=\"Train\")\n",
    "plt.plot(sizes,val_error,label=\"Valuation\")\n",
    "plt.legend()\n",
    "plt.title(\"Logistic Classifier Error vs Polling Block Size\")\n",
    "plt.xlabel(\"Training Sample Size\")\n",
    "plt.ylabel(\"Classification Error\")"
   ]
  },
  {
   "cell_type": "code",
   "execution_count": 29,
   "metadata": {
    "ExecuteTime": {
     "end_time": "2018-03-02T04:08:28.440505Z",
     "start_time": "2018-03-02T04:08:28.433485Z"
    }
   },
   "outputs": [
    {
     "name": "stdout",
     "output_type": "stream",
     "text": [
      "Best Size 2 0.020666666666666722\n"
     ]
    }
   ],
   "source": [
    "val_error=np.array(val_error)\n",
    "best_size_idx=val_error.argmin()\n",
    "best_size=sizes[best_size_idx]\n",
    "print(\"Best Size\",best_size,val_error.min())"
   ]
  },
  {
   "cell_type": "markdown",
   "metadata": {
    "ExecuteTime": {
     "end_time": "2017-11-13T23:58:24.250927Z",
     "start_time": "2017-11-13T23:58:24.247918Z"
    }
   },
   "source": [
    "## Regularization"
   ]
  },
  {
   "cell_type": "markdown",
   "metadata": {},
   "source": [
    "We can investigate the impact of regularization of performance"
   ]
  },
  {
   "cell_type": "code",
   "execution_count": 30,
   "metadata": {
    "ExecuteTime": {
     "end_time": "2018-03-02T04:08:28.458554Z",
     "start_time": "2018-03-02T04:08:28.442508Z"
    }
   },
   "outputs": [],
   "source": [
    "penalties=[0,0.01,0.1,1,10]"
   ]
  },
  {
   "cell_type": "code",
   "execution_count": 31,
   "metadata": {
    "ExecuteTime": {
     "end_time": "2018-03-02T04:08:28.481620Z",
     "start_time": "2018-03-02T04:08:28.460559Z"
    }
   },
   "outputs": [],
   "source": [
    "def validate_penalties(images,labels, images_val,labels_val,size, penalties):\n",
    "    training_error=[]\n",
    "    val_error=[]\n",
    "    for penalty in penalties:\n",
    "        base_model=LogisticGDClassifier(penalty=penalty,max_iter=100, learning_rate=0.005,tol=1e-8)\n",
    "        model=mnist.ImageFeatureModel(base_model,size)\n",
    "        print(\"penalty\",penalty,\"...\")\n",
    "        model.fit(images,labels,images_val,labels_val)\n",
    "        Y_pred=model.predict(images)\n",
    "        training_error.append(1-np.mean(Y_pred==labels))\n",
    "        Y_pred=model.predict(images_val)\n",
    "        val_error.append(1-np.mean(Y_pred==labels_val))\n",
    "    return training_error,val_error\n",
    "      "
   ]
  },
  {
   "cell_type": "code",
   "execution_count": 32,
   "metadata": {
    "ExecuteTime": {
     "end_time": "2018-03-02T04:19:42.174186Z",
     "start_time": "2018-03-02T04:08:28.484629Z"
    }
   },
   "outputs": [
    {
     "name": "stdout",
     "output_type": "stream",
     "text": [
      "penalty 0 ...\n",
      "\t 0 Loss = 2322.026355407341 Train_Accuracy 0.098 Evaluation Loss = 2317.7849749227285 Accuracy = 0.092\n",
      "\t 10 Loss = 88.8520541321947 Train_Accuracy 0.979 Evaluation Loss = 111.5987362876572 Accuracy = 0.968\n",
      "\t 20 Loss = 71.95671049041937 Train_Accuracy 0.978 Evaluation Loss = 105.42329993603802 Accuracy = 0.971\n",
      "\t 30 Loss = 55.73436178069946 Train_Accuracy 0.985 Evaluation Loss = 58.608260312107674 Accuracy = 0.986\n",
      "\t 40 Loss = 49.579731528482256 Train_Accuracy 0.992 Evaluation Loss = 100.9871617025585 Accuracy = 0.971\n",
      "\t 50 Loss = 39.472437674455904 Train_Accuracy 0.991 Evaluation Loss = 67.45061830150388 Accuracy = 0.978\n",
      "\t 60 Loss = 56.219656687690424 Train_Accuracy 0.984 Evaluation Loss = 79.1397458269381 Accuracy = 0.978\n",
      "\t 70 Loss = 54.9850992100998 Train_Accuracy 0.99 Evaluation Loss = 65.69568064236955 Accuracy = 0.976\n",
      "\t 80 Loss = 49.479545708188 Train_Accuracy 0.987 Evaluation Loss = 74.63156812278747 Accuracy = 0.976\n",
      "\t 90 Loss = 35.89940103439391 Train_Accuracy 0.991 Evaluation Loss = 99.42023226741853 Accuracy = 0.975\n",
      "\t 99 Loss = 49.9103637515084 Train_Accuracy 0.983 Evaluation Loss = 81.25786882777099 Accuracy = 0.971\n"
     ]
    },
    {
     "name": "stderr",
     "output_type": "stream",
     "text": [
      "/home/manel/anaconda3/lib/python3.6/site-packages/sklearn/preprocessing/label.py:151: DeprecationWarning: The truth value of an empty array is ambiguous. Returning False, but in future this will result in an error. Use `array.size > 0` to check that an array is not empty.\n",
      "  if diff:\n",
      "/home/manel/anaconda3/lib/python3.6/site-packages/sklearn/preprocessing/label.py:151: DeprecationWarning: The truth value of an empty array is ambiguous. Returning False, but in future this will result in an error. Use `array.size > 0` to check that an array is not empty.\n",
      "  if diff:\n"
     ]
    },
    {
     "name": "stdout",
     "output_type": "stream",
     "text": [
      "penalty 0.01 ...\n",
      "\t 0 Loss = 2299.336058543127 Train_Accuracy 0.132 Evaluation Loss = 2305.1580065524595 Accuracy = 0.12\n",
      "\t 10 Loss = 91.21206981427478 Train_Accuracy 0.976 Evaluation Loss = 107.55319394434876 Accuracy = 0.971\n",
      "\t 20 Loss = 76.91787998171405 Train_Accuracy 0.982 Evaluation Loss = 88.19418988226685 Accuracy = 0.976\n",
      "\t 30 Loss = 58.0958218813622 Train_Accuracy 0.984 Evaluation Loss = 79.09632174276703 Accuracy = 0.979\n",
      "\t 40 Loss = 57.21885218511276 Train_Accuracy 0.985 Evaluation Loss = 76.58838369261724 Accuracy = 0.976\n",
      "\t 50 Loss = 54.620596304322184 Train_Accuracy 0.982 Evaluation Loss = 85.82188380607637 Accuracy = 0.972\n",
      "\t 60 Loss = 72.73327849599342 Train_Accuracy 0.979 Evaluation Loss = 92.57899531608045 Accuracy = 0.98\n",
      "\t 70 Loss = 59.12437858638767 Train_Accuracy 0.984 Evaluation Loss = 61.689553784248766 Accuracy = 0.981\n",
      "\t 80 Loss = 47.57584944660831 Train_Accuracy 0.988 Evaluation Loss = 74.93668682280865 Accuracy = 0.978\n",
      "\t 90 Loss = 73.81560196067919 Train_Accuracy 0.981 Evaluation Loss = 100.38199112078112 Accuracy = 0.974\n",
      "\t 99 Loss = 57.41340525066724 Train_Accuracy 0.987 Evaluation Loss = 70.2955051529544 Accuracy = 0.978\n"
     ]
    },
    {
     "name": "stderr",
     "output_type": "stream",
     "text": [
      "/home/manel/anaconda3/lib/python3.6/site-packages/sklearn/preprocessing/label.py:151: DeprecationWarning: The truth value of an empty array is ambiguous. Returning False, but in future this will result in an error. Use `array.size > 0` to check that an array is not empty.\n",
      "  if diff:\n",
      "/home/manel/anaconda3/lib/python3.6/site-packages/sklearn/preprocessing/label.py:151: DeprecationWarning: The truth value of an empty array is ambiguous. Returning False, but in future this will result in an error. Use `array.size > 0` to check that an array is not empty.\n",
      "  if diff:\n"
     ]
    },
    {
     "name": "stdout",
     "output_type": "stream",
     "text": [
      "penalty 0.1 ...\n",
      "\t 0 Loss = 2332.1324767460715 Train_Accuracy 0.11 Evaluation Loss = 2337.6953706948 Accuracy = 0.093\n",
      "\t 10 Loss = 117.93090169598011 Train_Accuracy 0.977 Evaluation Loss = 147.7685198704526 Accuracy = 0.967\n",
      "\t 20 Loss = 108.94020566106263 Train_Accuracy 0.983 Evaluation Loss = 145.4138288019595 Accuracy = 0.969\n",
      "\t 30 Loss = 122.48862515257747 Train_Accuracy 0.984 Evaluation Loss = 117.90953935584747 Accuracy = 0.98\n",
      "\t 40 Loss = 115.36230406967508 Train_Accuracy 0.987 Evaluation Loss = 145.12575759009098 Accuracy = 0.978\n",
      "\t 50 Loss = 148.52675060093557 Train_Accuracy 0.98 Evaluation Loss = 163.07891740491579 Accuracy = 0.977\n",
      "\t 60 Loss = 128.92326996277978 Train_Accuracy 0.991 Evaluation Loss = 149.68653428786877 Accuracy = 0.981\n",
      "\t 70 Loss = 135.09050358004632 Train_Accuracy 0.991 Evaluation Loss = 164.8307792511718 Accuracy = 0.972\n",
      "\t 80 Loss = 147.93672968592 Train_Accuracy 0.989 Evaluation Loss = 179.5314015953562 Accuracy = 0.974\n",
      "\t 90 Loss = 151.21237511006234 Train_Accuracy 0.987 Evaluation Loss = 194.1451734772915 Accuracy = 0.976\n",
      "\t 99 Loss = 162.78812491467664 Train_Accuracy 0.984 Evaluation Loss = 195.48079423124423 Accuracy = 0.983\n"
     ]
    },
    {
     "name": "stderr",
     "output_type": "stream",
     "text": [
      "/home/manel/anaconda3/lib/python3.6/site-packages/sklearn/preprocessing/label.py:151: DeprecationWarning: The truth value of an empty array is ambiguous. Returning False, but in future this will result in an error. Use `array.size > 0` to check that an array is not empty.\n",
      "  if diff:\n",
      "/home/manel/anaconda3/lib/python3.6/site-packages/sklearn/preprocessing/label.py:151: DeprecationWarning: The truth value of an empty array is ambiguous. Returning False, but in future this will result in an error. Use `array.size > 0` to check that an array is not empty.\n",
      "  if diff:\n"
     ]
    },
    {
     "name": "stdout",
     "output_type": "stream",
     "text": [
      "penalty 1 ...\n",
      "\t 0 Loss = 2321.7094858648147 Train_Accuracy 0.073 Evaluation Loss = 2297.641110531467 Accuracy = 0.061\n",
      "\t 10 Loss = 384.2277422123542 Train_Accuracy 0.97 Evaluation Loss = 372.7569848349258 Accuracy = 0.969\n",
      "\t 20 Loss = 473.71136868750443 Train_Accuracy 0.984 Evaluation Loss = 490.40567725738657 Accuracy = 0.975\n",
      "\t 30 Loss = 566.4896776918653 Train_Accuracy 0.984 Evaluation Loss = 586.3751220181584 Accuracy = 0.981\n",
      "\t 40 Loss = 640.3530202508953 Train_Accuracy 0.984 Evaluation Loss = 666.8586279600311 Accuracy = 0.966\n",
      "\t 50 Loss = 710.643449834732 Train_Accuracy 0.984 Evaluation Loss = 741.7885208613645 Accuracy = 0.976\n",
      "\t 60 Loss = 751.940275548342 Train_Accuracy 0.986 Evaluation Loss = 798.6310948112364 Accuracy = 0.978\n",
      "\t 70 Loss = 799.5292489967857 Train_Accuracy 0.987 Evaluation Loss = 815.9570506123664 Accuracy = 0.98\n",
      "\t 80 Loss = 829.3924244328832 Train_Accuracy 0.985 Evaluation Loss = 856.0985521525968 Accuracy = 0.977\n",
      "\t 90 Loss = 862.4188495862469 Train_Accuracy 0.99 Evaluation Loss = 902.056326448304 Accuracy = 0.978\n",
      "\t 99 Loss = 883.1787413633592 Train_Accuracy 0.992 Evaluation Loss = 937.5761785740406 Accuracy = 0.971\n"
     ]
    },
    {
     "name": "stderr",
     "output_type": "stream",
     "text": [
      "/home/manel/anaconda3/lib/python3.6/site-packages/sklearn/preprocessing/label.py:151: DeprecationWarning: The truth value of an empty array is ambiguous. Returning False, but in future this will result in an error. Use `array.size > 0` to check that an array is not empty.\n",
      "  if diff:\n",
      "/home/manel/anaconda3/lib/python3.6/site-packages/sklearn/preprocessing/label.py:151: DeprecationWarning: The truth value of an empty array is ambiguous. Returning False, but in future this will result in an error. Use `array.size > 0` to check that an array is not empty.\n",
      "  if diff:\n"
     ]
    },
    {
     "name": "stdout",
     "output_type": "stream",
     "text": [
      "penalty 10 ...\n",
      "\t 0 Loss = 2340.4408758843592 Train_Accuracy 0.12 Evaluation Loss = 2349.546429626577 Accuracy = 0.106\n",
      "\t 10 Loss = 2079.136175306806 Train_Accuracy 0.973 Evaluation Loss = 2093.325767544952 Accuracy = 0.971\n",
      "\t 20 Loss = 2425.090917295927 Train_Accuracy 0.977 Evaluation Loss = 2460.3744407398585 Accuracy = 0.962\n",
      "\t 30 Loss = 2517.531830559273 Train_Accuracy 0.982 Evaluation Loss = 2545.069291791567 Accuracy = 0.974\n",
      "\t 40 Loss = 2580.641008075497 Train_Accuracy 0.976 Evaluation Loss = 2570.471480475367 Accuracy = 0.978\n",
      "\t 50 Loss = 2578.637054795408 Train_Accuracy 0.982 Evaluation Loss = 2595.11241384371 Accuracy = 0.969\n",
      "\t 60 Loss = 2590.5064558366353 Train_Accuracy 0.98 Evaluation Loss = 2614.9364191293425 Accuracy = 0.97\n",
      "\t 70 Loss = 2611.5493048419403 Train_Accuracy 0.975 Evaluation Loss = 2595.3586437040703 Accuracy = 0.978\n",
      "\t 80 Loss = 2607.823220847446 Train_Accuracy 0.97 Evaluation Loss = 2596.1820369206366 Accuracy = 0.978\n",
      "\t 90 Loss = 2591.1688695211224 Train_Accuracy 0.98 Evaluation Loss = 2618.117892194363 Accuracy = 0.971\n",
      "\t 99 Loss = 2614.897315278057 Train_Accuracy 0.973 Evaluation Loss = 2614.6617290141007 Accuracy = 0.974\n"
     ]
    },
    {
     "name": "stderr",
     "output_type": "stream",
     "text": [
      "/home/manel/anaconda3/lib/python3.6/site-packages/sklearn/preprocessing/label.py:151: DeprecationWarning: The truth value of an empty array is ambiguous. Returning False, but in future this will result in an error. Use `array.size > 0` to check that an array is not empty.\n",
      "  if diff:\n",
      "/home/manel/anaconda3/lib/python3.6/site-packages/sklearn/preprocessing/label.py:151: DeprecationWarning: The truth value of an empty array is ambiguous. Returning False, but in future this will result in an error. Use `array.size > 0` to check that an array is not empty.\n",
      "  if diff:\n"
     ]
    }
   ],
   "source": [
    "rte,rve=validate_penalties(images_train,labels_train, images_val,labels_val,best_size, penalties)"
   ]
  },
  {
   "cell_type": "code",
   "execution_count": 33,
   "metadata": {
    "ExecuteTime": {
     "end_time": "2018-03-02T04:19:42.953878Z",
     "start_time": "2018-03-02T04:19:42.176195Z"
    }
   },
   "outputs": [
    {
     "data": {
      "image/png": "[encoded data removed]",
      "text/plain": [
       "<matplotlib.figure.Figure at 0x7fe63bc6d828>"
      ]
     },
     "metadata": {},
     "output_type": "display_data"
    }
   ],
   "source": [
    "plt.plot(penalties,rte,label=\"Train\")\n",
    "plt.plot(penalties,rve,label=\"Validation\")\n",
    "plt.legend()\n",
    "\n",
    "plt.title(\"Logistic Classifier Error vs Regularization, size={0}\".format(best_size))\n",
    "plt.xlabel(\"penalty\")\n",
    "plt.ylabel(\"Classification Error\")\n",
    "plt.xscale(\"log\")"
   ]
  },
  {
   "cell_type": "markdown",
   "metadata": {},
   "source": [
    "There is a very small impact (notice the scale).\n",
    "Best results are found around penalty $\\approx 0.$\n",
    "\n",
    "We won't bother to re-estimate the model with regularization "
   ]
  },
  {
   "cell_type": "code",
   "execution_count": 34,
   "metadata": {
    "ExecuteTime": {
     "end_time": "2018-03-02T04:19:42.965908Z",
     "start_time": "2018-03-02T04:19:42.956885Z"
    }
   },
   "outputs": [
    {
     "name": "stdout",
     "output_type": "stream",
     "text": [
      "Best Penalty 0\n"
     ]
    }
   ],
   "source": [
    "rve=np.array(rve)\n",
    "best_penalty_idx=rve.argmin()\n",
    "best_penalty=penalties[best_penalty_idx]\n",
    "print(\"Best Penalty\",best_penalty)"
   ]
  },
  {
   "cell_type": "markdown",
   "metadata": {
    "ExecuteTime": {
     "end_time": "2017-11-18T04:22:59.415755Z",
     "start_time": "2017-11-18T04:22:59.400045Z"
    }
   },
   "source": [
    "## Test  Model Accuracy"
   ]
  },
  {
   "cell_type": "markdown",
   "metadata": {},
   "source": [
    "Now, for each training size we will **test** accuracy on the optimal block size we found by **validation**"
   ]
  },
  {
   "cell_type": "markdown",
   "metadata": {
    "ExecuteTime": {
     "end_time": "2017-11-18T11:56:54.411498Z",
     "start_time": "2017-11-18T11:56:54.407488Z"
    }
   },
   "source": [
    "### Champion Model with all data"
   ]
  },
  {
   "cell_type": "code",
   "execution_count": 35,
   "metadata": {
    "ExecuteTime": {
     "end_time": "2018-03-02T04:22:18.777890Z",
     "start_time": "2018-03-02T04:19:42.967914Z"
    }
   },
   "outputs": [
    {
     "name": "stdout",
     "output_type": "stream",
     "text": [
      "\t 0 Loss = 2325.231821813936 Train_Accuracy 0.067 Evaluation Loss = 2326.1883918673784 Accuracy = 0.063\n",
      "\t 10 Loss = 82.6212178211564 Train_Accuracy 0.977 Evaluation Loss = 85.38614652959774 Accuracy = 0.978\n",
      "\t 20 Loss = 79.3364473719513 Train_Accuracy 0.979 Evaluation Loss = 80.83478940141995 Accuracy = 0.976\n",
      "\t 30 Loss = 65.9134002427516 Train_Accuracy 0.986 Evaluation Loss = 89.73495813632215 Accuracy = 0.973\n",
      "\t 40 Loss = 57.57012695431781 Train_Accuracy 0.985 Evaluation Loss = 63.335841235316565 Accuracy = 0.981\n",
      "\t 50 Loss = 50.785413980758165 Train_Accuracy 0.99 Evaluation Loss = 46.53891367598921 Accuracy = 0.988\n",
      "\t 60 Loss = 54.37800238300745 Train_Accuracy 0.985 Evaluation Loss = 59.346682683004516 Accuracy = 0.98\n",
      "\t 70 Loss = 47.77603357502269 Train_Accuracy 0.986 Evaluation Loss = 47.15975856323452 Accuracy = 0.985\n",
      "\t 80 Loss = 43.91315966947408 Train_Accuracy 0.989 Evaluation Loss = 67.30652840067074 Accuracy = 0.977\n",
      "\t 90 Loss = 45.16977893255493 Train_Accuracy 0.99 Evaluation Loss = 74.04506691035483 Accuracy = 0.972\n",
      "\t 99 Loss = 41.14725204053238 Train_Accuracy 0.99 Evaluation Loss = 62.630058285109286 Accuracy = 0.982\n"
     ]
    },
    {
     "name": "stderr",
     "output_type": "stream",
     "text": [
      "/home/manel/anaconda3/lib/python3.6/site-packages/sklearn/preprocessing/label.py:151: DeprecationWarning: The truth value of an empty array is ambiguous. Returning False, but in future this will result in an error. Use `array.size > 0` to check that an array is not empty.\n",
      "  if diff:\n"
     ]
    },
    {
     "name": "stdout",
     "output_type": "stream",
     "text": [
      "training accuracy 0.9888833333333333\n",
      "test accuracy 0.9811\n"
     ]
    },
    {
     "name": "stderr",
     "output_type": "stream",
     "text": [
      "/home/manel/anaconda3/lib/python3.6/site-packages/sklearn/preprocessing/label.py:151: DeprecationWarning: The truth value of an empty array is ambiguous. Returning False, but in future this will result in an error. Use `array.size > 0` to check that an array is not empty.\n",
      "  if diff:\n"
     ]
    }
   ],
   "source": [
    "base_model=LogisticGDClassifier(penalty=best_penalty,max_iter=100, learning_rate=0.005,tol=1e-8)\n",
    "model=mnist.ImageFeatureModel(base_model,best_size)\n",
    "model.fit(images,labels,images_test,labels_test)\n",
    "Y_pred=model.predict(images)\n",
    "training_accuracy_champion=np.average(Y_pred==labels)\n",
    "Y_pred=model.predict(images_test)\n",
    "test_accuracy_champion=np.average(Y_pred==labels_test)\n",
    "print(\"training accuracy\",training_accuracy_champion)\n",
    "print(\"test accuracy\",test_accuracy_champion)"
   ]
  },
  {
   "cell_type": "markdown",
   "metadata": {},
   "source": [
    "So our test accuracy is close to 98%, comparable to Nearest neighbors estimator.\n",
    "\n",
    "The advantage is that the Logistic regression model does not require us to hold on to 60,000 images to make a prediction."
   ]
  },
  {
   "cell_type": "markdown",
   "metadata": {
    "ExecuteTime": {
     "end_time": "2017-12-01T01:21:59.671291Z",
     "start_time": "2017-12-01T01:21:59.661849Z"
    },
    "collapsed": true
   },
   "source": [
    "### Save best Model"
   ]
  },
  {
   "cell_type": "code",
   "execution_count": 36,
   "metadata": {
    "ExecuteTime": {
     "end_time": "2018-03-02T04:22:18.786914Z",
     "start_time": "2018-03-02T04:22:18.780898Z"
    }
   },
   "outputs": [],
   "source": [
    "model_filename=model_dir+\"/MNIST_featured_logistic.p\"\n",
    "file=open(model_filename,\"wb\")\n",
    "pickle.dump(model,file)"
   ]
  }
 ],
 "metadata": {
  "kernelspec": {
   "display_name": "Python 3",
   "language": "python",
   "name": "python3"
  },
  "language_info": {
   "codemirror_mode": {
    "name": "ipython",
    "version": 3
   },
   "file_extension": ".py",
   "mimetype": "text/x-python",
   "name": "python",
   "nbconvert_exporter": "python",
   "pygments_lexer": "ipython3",
   "version": "3.6.4"
  },
  "toc": {
   "base_numbering": 1,
   "nav_menu": {},
   "number_sections": true,
   "sideBar": true,
   "skip_h1_title": true,
   "title_cell": "Table of Contents",
   "title_sidebar": "Contents",
   "toc_cell": false,
   "toc_position": {
    "height": "504px",
    "left": "0px",
    "right": "auto",
    "top": "107px",
    "width": "212px"
   },
   "toc_section_display": "block",
   "toc_window_display": false
  }
 },
 "nbformat": 4,
 "nbformat_minor": 2
}
